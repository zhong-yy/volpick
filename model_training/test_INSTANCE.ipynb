{
 "cells": [
  {
   "cell_type": "code",
   "execution_count": 1,
   "metadata": {},
   "outputs": [],
   "source": [
    "%load_ext autoreload\n",
    "%autoreload 2\n",
    "from torch.utils.data import DataLoader\n",
    "import torch\n",
    "import pytorch_lightning as pl\n",
    "from pathlib import Path\n",
    "import os\n",
    "import time\n",
    "import datetime\n",
    "import yaml\n",
    "import pandas as pd\n",
    "import numpy as np\n",
    "\n",
    "import matplotlib.pyplot as plt\n",
    "from matplotlib.ticker import (MultipleLocator, FormatStrFormatter, AutoMinorLocator)\n",
    "\n",
    "import logging\n",
    "\n",
    "from tqdm.notebook import tqdm\n",
    "\n",
    "import volpick.model.models as models\n",
    "import seisbench.models as sbm\n",
    "import seisbench.generate as sbg\n",
    "from volpick.model.utils import load_best_model_from_base_dir,load_best_model\n",
    "import seisbench.data as sbd\n",
    "from volpick.model.generate_eval_targets import generate_task0, generate_task1, generate_task23\n",
    "\n",
    "from volpick.model.models import phase_dict\n",
    "from volpick.model.eval_taks0 import evaluate, get_ground_truth, count_TP_FP_FN, compute_residuals, calculate_precision_recall_F1score, eval_task0, opt_prob_metrics, collect_task0_results,collect_task0_results_dev,opt_prob_metrics_dev\n",
    "from volpick.model.eval_taks123 import eval_tasks123,collect_task123_results\n",
    "\n",
    "import json\n",
    "\n",
    "from sklearn.metrics import roc_curve, precision_recall_curve, roc_auc_score\n",
    "from scipy.stats import rankdata"
   ]
  },
  {
   "cell_type": "code",
   "execution_count": 2,
   "metadata": {},
   "outputs": [
    {
     "data": {
      "text/plain": [
       "{'trace_p_arrival_sample': 'P',\n",
       " 'trace_P_arrival_sample': 'P',\n",
       " 'trace_s_arrival_sample': 'S',\n",
       " 'trace_S_arrival_sample': 'S'}"
      ]
     },
     "execution_count": 2,
     "metadata": {},
     "output_type": "execute_result"
    }
   ],
   "source": [
    "phase_dict"
   ]
  },
  {
   "cell_type": "code",
   "execution_count": 3,
   "metadata": {},
   "outputs": [],
   "source": [
    "def _identify_instance_dataset_border(task_targets):\n",
    "    \"\"\"\n",
    "    Calculates the dataset border between Signal and Noise for instance,\n",
    "    assuming it is the only place where the bucket number does not increase\n",
    "    \"\"\"\n",
    "    buckets = task_targets[\"trace_name\"].apply(lambda x: int(x.split(\"$\")[0][6:]))\n",
    "\n",
    "    last_bucket = 0\n",
    "    for i, bucket in enumerate(buckets):\n",
    "        if bucket < last_bucket:\n",
    "            return i\n",
    "        last_bucket = bucket"
   ]
  },
  {
   "cell_type": "markdown",
   "metadata": {},
   "source": [
    "# Load dataset"
   ]
  },
  {
   "cell_type": "code",
   "execution_count": 4,
   "metadata": {},
   "outputs": [],
   "source": [
    "data_instance = sbd.InstanceCountsCombined(\n",
    "    sampling_rate=100, component_order=\"ZNE\", dimension_order=\"NCW\", cache=\"full\"\n",
    ")"
   ]
  },
  {
   "cell_type": "code",
   "execution_count": 6,
   "metadata": {},
   "outputs": [
    {
     "name": "stdout",
     "output_type": "stream",
     "text": [
      "1291537\n",
      "128278\n",
      "383994\n"
     ]
    }
   ],
   "source": [
    "print(len(data_instance))\n",
    "print(len(data_instance.dev()))\n",
    "print(len(data_instance.test()))"
   ]
  },
  {
   "cell_type": "code",
   "execution_count": 30,
   "metadata": {},
   "outputs": [],
   "source": [
    "data_instance_ENZ = sbd.InstanceCountsCombined(\n",
    "    sampling_rate=100, component_order=\"ENZ\", dimension_order=\"NCW\", cache=\"full\"\n",
    ")"
   ]
  },
  {
   "cell_type": "code",
   "execution_count": 8,
   "metadata": {},
   "outputs": [
    {
     "name": "stdout",
     "output_type": "stream",
     "text": [
      "/home/zhongyiyuan/volpick/model_training/Eval_targets/instance exists\n"
     ]
    }
   ],
   "source": [
    "targets_path = Path(\"/home/zhongyiyuan/volpick/model_training/Eval_targets/instance\")\n",
    "try:\n",
    "    targets_path.mkdir(parents=True, exist_ok=False)\n",
    "except FileExistsError:\n",
    "    print(f\"{targets_path} exists\")"
   ]
  },
  {
   "cell_type": "code",
   "execution_count": 9,
   "metadata": {},
   "outputs": [
    {
     "data": {
      "text/plain": [
       "['trace_P_arrival_sample', 'trace_S_arrival_sample']"
      ]
     },
     "execution_count": 9,
     "metadata": {},
     "output_type": "execute_result"
    }
   ],
   "source": [
    "[x for x in list(data_instance.metadata.columns) if x.endswith(\"arrival_sample\")]"
   ]
  },
  {
   "cell_type": "code",
   "execution_count": 10,
   "metadata": {},
   "outputs": [
    {
     "name": "stdout",
     "output_type": "stream",
     "text": [
      "/home/zhongyiyuan/volpick/model_training/Eval_targets/instance/task0.csv\" has already existed. No task files will be generated.\n",
      "/home/zhongyiyuan/volpick/model_training/Eval_targets/instance/task1.csv\" has already existed. No task files will be generated.\n",
      "/home/zhongyiyuan/volpick/model_training/Eval_targets/instance/task23.csv\" has already existed. No task files will be generated.\n"
     ]
    }
   ],
   "source": [
    "replace_if_exist = False\n",
    "generate_task0(\n",
    "    dataset=data_instance,\n",
    "    output=targets_path,\n",
    "    sampling_rate=100,\n",
    "    noise_before_events=False,\n",
    "    keep_source_type=False,\n",
    "    replace_if_exist=replace_if_exist,\n",
    ")\n",
    "generate_task1(\n",
    "    dataset=data_instance,\n",
    "    output=targets_path,\n",
    "    sampling_rate=100,\n",
    "    noise_before_events=False,\n",
    "    replace_if_exist=replace_if_exist,\n",
    ")\n",
    "generate_task23(\n",
    "    dataset=data_instance,\n",
    "    output=targets_path,\n",
    "    sampling_rate=100,\n",
    "    replace_if_exist=replace_if_exist,\n",
    ")"
   ]
  },
  {
   "cell_type": "code",
   "execution_count": null,
   "metadata": {},
   "outputs": [],
   "source": [
    "# split = data_instance.get_split(\"dev\")\n",
    "# logging.warning(\"Overwriting noise trace_names to allow correct identification\")\n",
    "# # Replace trace names for noise entries\n",
    "# split._metadata[\"trace_name\"].values[-len(split.datasets[-1]) :] = split._metadata[\n",
    "#     \"trace_name\"\n",
    "# ][-len(split.datasets[-1]) :].apply(lambda x: \"noise_\" + x)\n",
    "# split._build_trace_name_to_idx_dict()\n",
    "\n",
    "# logging.warning(f\"Starting set {'dev'}\")\n",
    "# split.preload_waveforms(pbar=True)"
   ]
  },
  {
   "cell_type": "markdown",
   "metadata": {},
   "source": [
    "# Load model"
   ]
  },
  {
   "cell_type": "code",
   "execution_count": 11,
   "metadata": {},
   "outputs": [
    {
     "name": "stdout",
     "output_type": "stream",
     "text": [
      "['Detection', 'P', 'S']\n",
      "PSN\n",
      "peak\n",
      "peak\n",
      "cuda:0\n",
      "cuda:0\n",
      "['Detection', 'P', 'S']\n",
      "NPS\n",
      "std\n",
      "std\n",
      "cuda:0\n",
      "cuda:0\n",
      "['Detection', 'P', 'S']\n",
      "PSN\n",
      "peak\n",
      "peak\n",
      "cuda:0\n",
      "cuda:0\n"
     ]
    }
   ],
   "source": [
    "vol_eqt = sbm.EQTransformer.from_pretrained(\"volpick\")\n",
    "vol_eqt.cuda()\n",
    "vol_pn = sbm.PhaseNet.from_pretrained(\"volpick\")\n",
    "vol_pn.cuda()\n",
    "print(vol_eqt.labels)\n",
    "print(vol_pn.labels)\n",
    "print(vol_eqt.norm)\n",
    "print(vol_pn.norm)\n",
    "print(vol_eqt.device)\n",
    "print(vol_pn.device)\n",
    "# org_eqt = sbm.EQTransformer.from_pretrained(\"original\")\n",
    "org_eqt = sbm.EQTransformer.from_pretrained(\"original_nonconservative\")\n",
    "org_pn = sbm.PhaseNet.from_pretrained(\"original\")\n",
    "org_eqt.cuda()\n",
    "org_pn.cuda()\n",
    "print(org_eqt.labels)\n",
    "print(org_pn.labels)\n",
    "print(org_eqt.norm)\n",
    "print(org_pn.norm)\n",
    "print(org_eqt.device)\n",
    "print(org_pn.device)\n",
    "\n",
    "eqt_instance = sbm.EQTransformer.from_pretrained(\"instance\")\n",
    "pn_instance = sbm.PhaseNet.from_pretrained(\"instance\")\n",
    "eqt_instance.cuda()\n",
    "pn_instance.cuda()\n",
    "print(eqt_instance.labels)\n",
    "print(pn_instance.labels)\n",
    "print(eqt_instance.norm)\n",
    "print(pn_instance.norm)\n",
    "print(eqt_instance.device)\n",
    "print(pn_instance.device)"
   ]
  },
  {
   "cell_type": "code",
   "execution_count": 32,
   "metadata": {},
   "outputs": [
    {
     "name": "stdout",
     "output_type": "stream",
     "text": [
      "ENZ\n"
     ]
    }
   ],
   "source": [
    "print(org_pn.component_order)"
   ]
  },
  {
   "cell_type": "markdown",
   "metadata": {},
   "source": [
    "# Tune threshold on the validation set"
   ]
  },
  {
   "cell_type": "code",
   "execution_count": 33,
   "metadata": {},
   "outputs": [],
   "source": [
    "model_dict = {\n",
    "    \"vol_eqt\": vol_eqt,\n",
    "    \"vol_pn\": vol_pn,\n",
    "    \"org_eqt\": org_eqt,\n",
    "    \"org_pn\": org_pn,\n",
    "    \"int_eqt\": eqt_instance,\n",
    "    \"int_pn\": pn_instance,\n",
    "}"
   ]
  },
  {
   "cell_type": "code",
   "execution_count": 13,
   "metadata": {},
   "outputs": [
    {
     "data": {
      "text/plain": [
       "'instance'"
      ]
     },
     "execution_count": 13,
     "metadata": {},
     "output_type": "execute_result"
    }
   ],
   "source": [
    "targets_path.name"
   ]
  },
  {
   "cell_type": "code",
   "execution_count": 34,
   "metadata": {},
   "outputs": [
    {
     "name": "stdout",
     "output_type": "stream",
     "text": [
      "vol_eqt\n",
      "vol_pn\n",
      "org_eqt\n",
      "org_pn\n",
      "int_eqt\n",
      "int_pn\n"
     ]
    }
   ],
   "source": [
    "for model_name, model in model_dict.items():\n",
    "    print(model_name)"
   ]
  },
  {
   "cell_type": "code",
   "execution_count": 15,
   "metadata": {},
   "outputs": [
    {
     "data": {
      "text/plain": [
       "array([0.01, 0.02, 0.03, 0.04, 0.05, 0.06, 0.07, 0.08, 0.09, 0.1 , 0.11,\n",
       "       0.12, 0.13, 0.14, 0.15, 0.16, 0.17, 0.18, 0.19, 0.2 , 0.21, 0.22,\n",
       "       0.23, 0.24, 0.25, 0.26, 0.27, 0.28, 0.29, 0.3 , 0.31, 0.32, 0.33,\n",
       "       0.34, 0.35, 0.36, 0.37, 0.38, 0.39, 0.4 , 0.41, 0.42, 0.43, 0.44,\n",
       "       0.45, 0.46, 0.47, 0.48, 0.49, 0.5 , 0.51, 0.52, 0.53, 0.54, 0.55,\n",
       "       0.56, 0.57, 0.58, 0.59])"
      ]
     },
     "execution_count": 15,
     "metadata": {},
     "output_type": "execute_result"
    }
   ],
   "source": [
    "np.arange(0.01, 0.6, 0.01)"
   ]
  },
  {
   "cell_type": "code",
   "execution_count": 36,
   "metadata": {},
   "outputs": [
    {
     "data": {
      "text/plain": [
       "True"
      ]
     },
     "execution_count": 36,
     "metadata": {},
     "output_type": "execute_result"
    }
   ],
   "source": [
    "org_pn == model_dict[\"org_pn\"]"
   ]
  },
  {
   "cell_type": "code",
   "execution_count": 16,
   "metadata": {},
   "outputs": [
    {
     "name": "stdout",
     "output_type": "stream",
     "text": [
      "vol_eqt\n",
      "/home/zhongyiyuan/volpick/model_training/Test_INSTANCE/instance_pred/task0/vol_eqt exists\n"
     ]
    },
    {
     "name": "stderr",
     "output_type": "stream",
     "text": [
      "WARNING:root:Overwriting noise trace_names to allow correct identification\n"
     ]
    },
    {
     "name": "stdout",
     "output_type": "stream",
     "text": [
      "Starting set: dev\n"
     ]
    },
    {
     "name": "stderr",
     "output_type": "stream",
     "text": [
      "Preloading waveforms: 100%|██████████| 115027/115027 [00:09<00:00, 11902.17it/s]\n",
      "Preloading waveforms: 100%|██████████| 13251/13251 [00:01<00:00, 12048.55it/s]\n"
     ]
    },
    {
     "name": "stdout",
     "output_type": "stream",
     "text": [
      "Number of examples in dev: 128277\n",
      "115026 earthquake traces\n",
      "13251 noise traces\n",
      "Probability threshold: 0.0100\n",
      "Probability threshold: 0.0200\n",
      "Probability threshold: 0.0300\n",
      "Probability threshold: 0.0400\n",
      "Probability threshold: 0.0500\n",
      "Probability threshold: 0.0600\n",
      "Probability threshold: 0.0700\n",
      "Probability threshold: 0.0800\n",
      "Probability threshold: 0.0900\n",
      "Probability threshold: 0.1000\n",
      "Probability threshold: 0.1100\n",
      "Probability threshold: 0.1200\n",
      "Probability threshold: 0.1300\n",
      "Probability threshold: 0.1400\n",
      "Probability threshold: 0.1500\n",
      "Probability threshold: 0.1600\n",
      "Probability threshold: 0.1700\n",
      "Probability threshold: 0.1800\n",
      "Probability threshold: 0.1900\n",
      "Probability threshold: 0.2000\n",
      "Probability threshold: 0.2100\n",
      "Probability threshold: 0.2200\n",
      "Probability threshold: 0.2300\n",
      "Probability threshold: 0.2400\n",
      "Probability threshold: 0.2500\n",
      "Probability threshold: 0.2600\n",
      "Probability threshold: 0.2700\n",
      "Probability threshold: 0.2800\n",
      "Probability threshold: 0.2900\n",
      "Probability threshold: 0.3000\n",
      "Probability threshold: 0.3100\n",
      "Probability threshold: 0.3200\n",
      "Probability threshold: 0.3300\n",
      "Probability threshold: 0.3400\n",
      "Probability threshold: 0.3500\n",
      "Probability threshold: 0.3600\n",
      "Probability threshold: 0.3700\n",
      "Probability threshold: 0.3800\n",
      "Probability threshold: 0.3900\n",
      "Probability threshold: 0.4000\n",
      "Probability threshold: 0.4100\n",
      "Probability threshold: 0.4200\n",
      "Probability threshold: 0.4300\n",
      "Probability threshold: 0.4400\n",
      "Probability threshold: 0.4500\n",
      "Probability threshold: 0.4600\n",
      "Probability threshold: 0.4700\n",
      "Probability threshold: 0.4800\n",
      "Probability threshold: 0.4900\n"
     ]
    },
    {
     "name": "stderr",
     "output_type": "stream",
     "text": [
      "/home/zhongyiyuan/volpick/volpick/model/eval_taks0.py:525: PerformanceWarning: DataFrame is highly fragmented.  This is usually the result of calling `frame.insert` many times, which has poor performance.  Consider joining all columns at once using pd.concat(axis=1) instead. To get a de-fragmented frame, use `newframe = frame.copy()`\n",
      "  task_targets[f\"s_pred_sample_thr{prob_thre:.4f}\"] = s_idxs_predicted\n"
     ]
    },
    {
     "name": "stdout",
     "output_type": "stream",
     "text": [
      "Probability threshold: 0.5000\n"
     ]
    },
    {
     "name": "stderr",
     "output_type": "stream",
     "text": [
      "/home/zhongyiyuan/volpick/volpick/model/eval_taks0.py:524: PerformanceWarning: DataFrame is highly fragmented.  This is usually the result of calling `frame.insert` many times, which has poor performance.  Consider joining all columns at once using pd.concat(axis=1) instead. To get a de-fragmented frame, use `newframe = frame.copy()`\n",
      "  task_targets[f\"p_pred_sample_thr{prob_thre:.4f}\"] = p_idxs_predicted\n",
      "/home/zhongyiyuan/volpick/volpick/model/eval_taks0.py:525: PerformanceWarning: DataFrame is highly fragmented.  This is usually the result of calling `frame.insert` many times, which has poor performance.  Consider joining all columns at once using pd.concat(axis=1) instead. To get a de-fragmented frame, use `newframe = frame.copy()`\n",
      "  task_targets[f\"s_pred_sample_thr{prob_thre:.4f}\"] = s_idxs_predicted\n"
     ]
    },
    {
     "name": "stdout",
     "output_type": "stream",
     "text": [
      "Probability threshold: 0.5100\n"
     ]
    },
    {
     "name": "stderr",
     "output_type": "stream",
     "text": [
      "/home/zhongyiyuan/volpick/volpick/model/eval_taks0.py:524: PerformanceWarning: DataFrame is highly fragmented.  This is usually the result of calling `frame.insert` many times, which has poor performance.  Consider joining all columns at once using pd.concat(axis=1) instead. To get a de-fragmented frame, use `newframe = frame.copy()`\n",
      "  task_targets[f\"p_pred_sample_thr{prob_thre:.4f}\"] = p_idxs_predicted\n",
      "/home/zhongyiyuan/volpick/volpick/model/eval_taks0.py:525: PerformanceWarning: DataFrame is highly fragmented.  This is usually the result of calling `frame.insert` many times, which has poor performance.  Consider joining all columns at once using pd.concat(axis=1) instead. To get a de-fragmented frame, use `newframe = frame.copy()`\n",
      "  task_targets[f\"s_pred_sample_thr{prob_thre:.4f}\"] = s_idxs_predicted\n"
     ]
    },
    {
     "name": "stdout",
     "output_type": "stream",
     "text": [
      "Probability threshold: 0.5200\n"
     ]
    },
    {
     "name": "stderr",
     "output_type": "stream",
     "text": [
      "/home/zhongyiyuan/volpick/volpick/model/eval_taks0.py:524: PerformanceWarning: DataFrame is highly fragmented.  This is usually the result of calling `frame.insert` many times, which has poor performance.  Consider joining all columns at once using pd.concat(axis=1) instead. To get a de-fragmented frame, use `newframe = frame.copy()`\n",
      "  task_targets[f\"p_pred_sample_thr{prob_thre:.4f}\"] = p_idxs_predicted\n",
      "/home/zhongyiyuan/volpick/volpick/model/eval_taks0.py:525: PerformanceWarning: DataFrame is highly fragmented.  This is usually the result of calling `frame.insert` many times, which has poor performance.  Consider joining all columns at once using pd.concat(axis=1) instead. To get a de-fragmented frame, use `newframe = frame.copy()`\n",
      "  task_targets[f\"s_pred_sample_thr{prob_thre:.4f}\"] = s_idxs_predicted\n"
     ]
    },
    {
     "name": "stdout",
     "output_type": "stream",
     "text": [
      "Probability threshold: 0.5300\n"
     ]
    },
    {
     "name": "stderr",
     "output_type": "stream",
     "text": [
      "/home/zhongyiyuan/volpick/volpick/model/eval_taks0.py:524: PerformanceWarning: DataFrame is highly fragmented.  This is usually the result of calling `frame.insert` many times, which has poor performance.  Consider joining all columns at once using pd.concat(axis=1) instead. To get a de-fragmented frame, use `newframe = frame.copy()`\n",
      "  task_targets[f\"p_pred_sample_thr{prob_thre:.4f}\"] = p_idxs_predicted\n",
      "/home/zhongyiyuan/volpick/volpick/model/eval_taks0.py:525: PerformanceWarning: DataFrame is highly fragmented.  This is usually the result of calling `frame.insert` many times, which has poor performance.  Consider joining all columns at once using pd.concat(axis=1) instead. To get a de-fragmented frame, use `newframe = frame.copy()`\n",
      "  task_targets[f\"s_pred_sample_thr{prob_thre:.4f}\"] = s_idxs_predicted\n"
     ]
    },
    {
     "name": "stdout",
     "output_type": "stream",
     "text": [
      "Probability threshold: 0.5400\n"
     ]
    },
    {
     "name": "stderr",
     "output_type": "stream",
     "text": [
      "/home/zhongyiyuan/volpick/volpick/model/eval_taks0.py:524: PerformanceWarning: DataFrame is highly fragmented.  This is usually the result of calling `frame.insert` many times, which has poor performance.  Consider joining all columns at once using pd.concat(axis=1) instead. To get a de-fragmented frame, use `newframe = frame.copy()`\n",
      "  task_targets[f\"p_pred_sample_thr{prob_thre:.4f}\"] = p_idxs_predicted\n",
      "/home/zhongyiyuan/volpick/volpick/model/eval_taks0.py:525: PerformanceWarning: DataFrame is highly fragmented.  This is usually the result of calling `frame.insert` many times, which has poor performance.  Consider joining all columns at once using pd.concat(axis=1) instead. To get a de-fragmented frame, use `newframe = frame.copy()`\n",
      "  task_targets[f\"s_pred_sample_thr{prob_thre:.4f}\"] = s_idxs_predicted\n"
     ]
    },
    {
     "name": "stdout",
     "output_type": "stream",
     "text": [
      "Probability threshold: 0.5500\n"
     ]
    },
    {
     "name": "stderr",
     "output_type": "stream",
     "text": [
      "/home/zhongyiyuan/volpick/volpick/model/eval_taks0.py:524: PerformanceWarning: DataFrame is highly fragmented.  This is usually the result of calling `frame.insert` many times, which has poor performance.  Consider joining all columns at once using pd.concat(axis=1) instead. To get a de-fragmented frame, use `newframe = frame.copy()`\n",
      "  task_targets[f\"p_pred_sample_thr{prob_thre:.4f}\"] = p_idxs_predicted\n",
      "/home/zhongyiyuan/volpick/volpick/model/eval_taks0.py:525: PerformanceWarning: DataFrame is highly fragmented.  This is usually the result of calling `frame.insert` many times, which has poor performance.  Consider joining all columns at once using pd.concat(axis=1) instead. To get a de-fragmented frame, use `newframe = frame.copy()`\n",
      "  task_targets[f\"s_pred_sample_thr{prob_thre:.4f}\"] = s_idxs_predicted\n"
     ]
    },
    {
     "name": "stdout",
     "output_type": "stream",
     "text": [
      "Probability threshold: 0.5600\n"
     ]
    },
    {
     "name": "stderr",
     "output_type": "stream",
     "text": [
      "/home/zhongyiyuan/volpick/volpick/model/eval_taks0.py:524: PerformanceWarning: DataFrame is highly fragmented.  This is usually the result of calling `frame.insert` many times, which has poor performance.  Consider joining all columns at once using pd.concat(axis=1) instead. To get a de-fragmented frame, use `newframe = frame.copy()`\n",
      "  task_targets[f\"p_pred_sample_thr{prob_thre:.4f}\"] = p_idxs_predicted\n",
      "/home/zhongyiyuan/volpick/volpick/model/eval_taks0.py:525: PerformanceWarning: DataFrame is highly fragmented.  This is usually the result of calling `frame.insert` many times, which has poor performance.  Consider joining all columns at once using pd.concat(axis=1) instead. To get a de-fragmented frame, use `newframe = frame.copy()`\n",
      "  task_targets[f\"s_pred_sample_thr{prob_thre:.4f}\"] = s_idxs_predicted\n"
     ]
    },
    {
     "name": "stdout",
     "output_type": "stream",
     "text": [
      "Probability threshold: 0.5700\n"
     ]
    },
    {
     "name": "stderr",
     "output_type": "stream",
     "text": [
      "/home/zhongyiyuan/volpick/volpick/model/eval_taks0.py:524: PerformanceWarning: DataFrame is highly fragmented.  This is usually the result of calling `frame.insert` many times, which has poor performance.  Consider joining all columns at once using pd.concat(axis=1) instead. To get a de-fragmented frame, use `newframe = frame.copy()`\n",
      "  task_targets[f\"p_pred_sample_thr{prob_thre:.4f}\"] = p_idxs_predicted\n",
      "/home/zhongyiyuan/volpick/volpick/model/eval_taks0.py:525: PerformanceWarning: DataFrame is highly fragmented.  This is usually the result of calling `frame.insert` many times, which has poor performance.  Consider joining all columns at once using pd.concat(axis=1) instead. To get a de-fragmented frame, use `newframe = frame.copy()`\n",
      "  task_targets[f\"s_pred_sample_thr{prob_thre:.4f}\"] = s_idxs_predicted\n"
     ]
    },
    {
     "name": "stdout",
     "output_type": "stream",
     "text": [
      "Probability threshold: 0.5800\n"
     ]
    },
    {
     "name": "stderr",
     "output_type": "stream",
     "text": [
      "/home/zhongyiyuan/volpick/volpick/model/eval_taks0.py:524: PerformanceWarning: DataFrame is highly fragmented.  This is usually the result of calling `frame.insert` many times, which has poor performance.  Consider joining all columns at once using pd.concat(axis=1) instead. To get a de-fragmented frame, use `newframe = frame.copy()`\n",
      "  task_targets[f\"p_pred_sample_thr{prob_thre:.4f}\"] = p_idxs_predicted\n",
      "/home/zhongyiyuan/volpick/volpick/model/eval_taks0.py:525: PerformanceWarning: DataFrame is highly fragmented.  This is usually the result of calling `frame.insert` many times, which has poor performance.  Consider joining all columns at once using pd.concat(axis=1) instead. To get a de-fragmented frame, use `newframe = frame.copy()`\n",
      "  task_targets[f\"s_pred_sample_thr{prob_thre:.4f}\"] = s_idxs_predicted\n"
     ]
    },
    {
     "name": "stdout",
     "output_type": "stream",
     "text": [
      "Probability threshold: 0.5900\n"
     ]
    },
    {
     "name": "stderr",
     "output_type": "stream",
     "text": [
      "/home/zhongyiyuan/volpick/volpick/model/eval_taks0.py:524: PerformanceWarning: DataFrame is highly fragmented.  This is usually the result of calling `frame.insert` many times, which has poor performance.  Consider joining all columns at once using pd.concat(axis=1) instead. To get a de-fragmented frame, use `newframe = frame.copy()`\n",
      "  task_targets[f\"p_pred_sample_thr{prob_thre:.4f}\"] = p_idxs_predicted\n",
      "/home/zhongyiyuan/volpick/volpick/model/eval_taks0.py:525: PerformanceWarning: DataFrame is highly fragmented.  This is usually the result of calling `frame.insert` many times, which has poor performance.  Consider joining all columns at once using pd.concat(axis=1) instead. To get a de-fragmented frame, use `newframe = frame.copy()`\n",
      "  task_targets[f\"s_pred_sample_thr{prob_thre:.4f}\"] = s_idxs_predicted\n"
     ]
    },
    {
     "name": "stdout",
     "output_type": "stream",
     "text": [
      "Probability threshold: 0.6000\n"
     ]
    },
    {
     "name": "stderr",
     "output_type": "stream",
     "text": [
      "/home/zhongyiyuan/volpick/volpick/model/eval_taks0.py:524: PerformanceWarning: DataFrame is highly fragmented.  This is usually the result of calling `frame.insert` many times, which has poor performance.  Consider joining all columns at once using pd.concat(axis=1) instead. To get a de-fragmented frame, use `newframe = frame.copy()`\n",
      "  task_targets[f\"p_pred_sample_thr{prob_thre:.4f}\"] = p_idxs_predicted\n",
      "/home/zhongyiyuan/volpick/volpick/model/eval_taks0.py:525: PerformanceWarning: DataFrame is highly fragmented.  This is usually the result of calling `frame.insert` many times, which has poor performance.  Consider joining all columns at once using pd.concat(axis=1) instead. To get a de-fragmented frame, use `newframe = frame.copy()`\n",
      "  task_targets[f\"s_pred_sample_thr{prob_thre:.4f}\"] = s_idxs_predicted\n"
     ]
    },
    {
     "name": "stdout",
     "output_type": "stream",
     "text": [
      "vol_pn\n",
      "/home/zhongyiyuan/volpick/model_training/Test_INSTANCE/instance_pred/task0/vol_pn exists\n"
     ]
    },
    {
     "name": "stderr",
     "output_type": "stream",
     "text": [
      "WARNING:root:Overwriting noise trace_names to allow correct identification\n"
     ]
    },
    {
     "name": "stdout",
     "output_type": "stream",
     "text": [
      "Starting set: dev\n"
     ]
    },
    {
     "name": "stderr",
     "output_type": "stream",
     "text": [
      "Preloading waveforms: 100%|██████████| 115027/115027 [00:10<00:00, 11059.51it/s]\n",
      "Preloading waveforms: 100%|██████████| 13251/13251 [00:01<00:00, 11442.43it/s]\n"
     ]
    },
    {
     "name": "stdout",
     "output_type": "stream",
     "text": [
      "Number of examples in dev: 128277\n",
      "115026 earthquake traces\n",
      "13251 noise traces\n",
      "Probability threshold: 0.0100\n",
      "Probability threshold: 0.0200\n",
      "Probability threshold: 0.0300\n",
      "Probability threshold: 0.0400\n",
      "Probability threshold: 0.0500\n",
      "Probability threshold: 0.0600\n",
      "Probability threshold: 0.0700\n",
      "Probability threshold: 0.0800\n",
      "Probability threshold: 0.0900\n",
      "Probability threshold: 0.1000\n",
      "Probability threshold: 0.1100\n",
      "Probability threshold: 0.1200\n",
      "Probability threshold: 0.1300\n",
      "Probability threshold: 0.1400\n",
      "Probability threshold: 0.1500\n",
      "Probability threshold: 0.1600\n",
      "Probability threshold: 0.1700\n",
      "Probability threshold: 0.1800\n",
      "Probability threshold: 0.1900\n",
      "Probability threshold: 0.2000\n",
      "Probability threshold: 0.2100\n",
      "Probability threshold: 0.2200\n",
      "Probability threshold: 0.2300\n",
      "Probability threshold: 0.2400\n",
      "Probability threshold: 0.2500\n",
      "Probability threshold: 0.2600\n",
      "Probability threshold: 0.2700\n",
      "Probability threshold: 0.2800\n",
      "Probability threshold: 0.2900\n",
      "Probability threshold: 0.3000\n",
      "Probability threshold: 0.3100\n",
      "Probability threshold: 0.3200\n",
      "Probability threshold: 0.3300\n",
      "Probability threshold: 0.3400\n",
      "Probability threshold: 0.3500\n",
      "Probability threshold: 0.3600\n",
      "Probability threshold: 0.3700\n",
      "Probability threshold: 0.3800\n",
      "Probability threshold: 0.3900\n",
      "Probability threshold: 0.4000\n",
      "Probability threshold: 0.4100\n",
      "Probability threshold: 0.4200\n",
      "Probability threshold: 0.4300\n",
      "Probability threshold: 0.4400\n",
      "Probability threshold: 0.4500\n",
      "Probability threshold: 0.4600\n",
      "Probability threshold: 0.4700\n",
      "Probability threshold: 0.4800\n",
      "Probability threshold: 0.4900\n"
     ]
    },
    {
     "name": "stderr",
     "output_type": "stream",
     "text": [
      "/home/zhongyiyuan/volpick/volpick/model/eval_taks0.py:525: PerformanceWarning: DataFrame is highly fragmented.  This is usually the result of calling `frame.insert` many times, which has poor performance.  Consider joining all columns at once using pd.concat(axis=1) instead. To get a de-fragmented frame, use `newframe = frame.copy()`\n",
      "  task_targets[f\"s_pred_sample_thr{prob_thre:.4f}\"] = s_idxs_predicted\n"
     ]
    },
    {
     "name": "stdout",
     "output_type": "stream",
     "text": [
      "Probability threshold: 0.5000\n"
     ]
    },
    {
     "name": "stderr",
     "output_type": "stream",
     "text": [
      "/home/zhongyiyuan/volpick/volpick/model/eval_taks0.py:524: PerformanceWarning: DataFrame is highly fragmented.  This is usually the result of calling `frame.insert` many times, which has poor performance.  Consider joining all columns at once using pd.concat(axis=1) instead. To get a de-fragmented frame, use `newframe = frame.copy()`\n",
      "  task_targets[f\"p_pred_sample_thr{prob_thre:.4f}\"] = p_idxs_predicted\n",
      "/home/zhongyiyuan/volpick/volpick/model/eval_taks0.py:525: PerformanceWarning: DataFrame is highly fragmented.  This is usually the result of calling `frame.insert` many times, which has poor performance.  Consider joining all columns at once using pd.concat(axis=1) instead. To get a de-fragmented frame, use `newframe = frame.copy()`\n",
      "  task_targets[f\"s_pred_sample_thr{prob_thre:.4f}\"] = s_idxs_predicted\n"
     ]
    },
    {
     "name": "stdout",
     "output_type": "stream",
     "text": [
      "Probability threshold: 0.5100\n"
     ]
    },
    {
     "name": "stderr",
     "output_type": "stream",
     "text": [
      "/home/zhongyiyuan/volpick/volpick/model/eval_taks0.py:524: PerformanceWarning: DataFrame is highly fragmented.  This is usually the result of calling `frame.insert` many times, which has poor performance.  Consider joining all columns at once using pd.concat(axis=1) instead. To get a de-fragmented frame, use `newframe = frame.copy()`\n",
      "  task_targets[f\"p_pred_sample_thr{prob_thre:.4f}\"] = p_idxs_predicted\n",
      "/home/zhongyiyuan/volpick/volpick/model/eval_taks0.py:525: PerformanceWarning: DataFrame is highly fragmented.  This is usually the result of calling `frame.insert` many times, which has poor performance.  Consider joining all columns at once using pd.concat(axis=1) instead. To get a de-fragmented frame, use `newframe = frame.copy()`\n",
      "  task_targets[f\"s_pred_sample_thr{prob_thre:.4f}\"] = s_idxs_predicted\n"
     ]
    },
    {
     "name": "stdout",
     "output_type": "stream",
     "text": [
      "Probability threshold: 0.5200\n"
     ]
    },
    {
     "name": "stderr",
     "output_type": "stream",
     "text": [
      "/home/zhongyiyuan/volpick/volpick/model/eval_taks0.py:524: PerformanceWarning: DataFrame is highly fragmented.  This is usually the result of calling `frame.insert` many times, which has poor performance.  Consider joining all columns at once using pd.concat(axis=1) instead. To get a de-fragmented frame, use `newframe = frame.copy()`\n",
      "  task_targets[f\"p_pred_sample_thr{prob_thre:.4f}\"] = p_idxs_predicted\n",
      "/home/zhongyiyuan/volpick/volpick/model/eval_taks0.py:525: PerformanceWarning: DataFrame is highly fragmented.  This is usually the result of calling `frame.insert` many times, which has poor performance.  Consider joining all columns at once using pd.concat(axis=1) instead. To get a de-fragmented frame, use `newframe = frame.copy()`\n",
      "  task_targets[f\"s_pred_sample_thr{prob_thre:.4f}\"] = s_idxs_predicted\n"
     ]
    },
    {
     "name": "stdout",
     "output_type": "stream",
     "text": [
      "Probability threshold: 0.5300\n"
     ]
    },
    {
     "name": "stderr",
     "output_type": "stream",
     "text": [
      "/home/zhongyiyuan/volpick/volpick/model/eval_taks0.py:524: PerformanceWarning: DataFrame is highly fragmented.  This is usually the result of calling `frame.insert` many times, which has poor performance.  Consider joining all columns at once using pd.concat(axis=1) instead. To get a de-fragmented frame, use `newframe = frame.copy()`\n",
      "  task_targets[f\"p_pred_sample_thr{prob_thre:.4f}\"] = p_idxs_predicted\n",
      "/home/zhongyiyuan/volpick/volpick/model/eval_taks0.py:525: PerformanceWarning: DataFrame is highly fragmented.  This is usually the result of calling `frame.insert` many times, which has poor performance.  Consider joining all columns at once using pd.concat(axis=1) instead. To get a de-fragmented frame, use `newframe = frame.copy()`\n",
      "  task_targets[f\"s_pred_sample_thr{prob_thre:.4f}\"] = s_idxs_predicted\n"
     ]
    },
    {
     "name": "stdout",
     "output_type": "stream",
     "text": [
      "Probability threshold: 0.5400\n"
     ]
    },
    {
     "name": "stderr",
     "output_type": "stream",
     "text": [
      "/home/zhongyiyuan/volpick/volpick/model/eval_taks0.py:524: PerformanceWarning: DataFrame is highly fragmented.  This is usually the result of calling `frame.insert` many times, which has poor performance.  Consider joining all columns at once using pd.concat(axis=1) instead. To get a de-fragmented frame, use `newframe = frame.copy()`\n",
      "  task_targets[f\"p_pred_sample_thr{prob_thre:.4f}\"] = p_idxs_predicted\n",
      "/home/zhongyiyuan/volpick/volpick/model/eval_taks0.py:525: PerformanceWarning: DataFrame is highly fragmented.  This is usually the result of calling `frame.insert` many times, which has poor performance.  Consider joining all columns at once using pd.concat(axis=1) instead. To get a de-fragmented frame, use `newframe = frame.copy()`\n",
      "  task_targets[f\"s_pred_sample_thr{prob_thre:.4f}\"] = s_idxs_predicted\n"
     ]
    },
    {
     "name": "stdout",
     "output_type": "stream",
     "text": [
      "Probability threshold: 0.5500\n"
     ]
    },
    {
     "name": "stderr",
     "output_type": "stream",
     "text": [
      "/home/zhongyiyuan/volpick/volpick/model/eval_taks0.py:524: PerformanceWarning: DataFrame is highly fragmented.  This is usually the result of calling `frame.insert` many times, which has poor performance.  Consider joining all columns at once using pd.concat(axis=1) instead. To get a de-fragmented frame, use `newframe = frame.copy()`\n",
      "  task_targets[f\"p_pred_sample_thr{prob_thre:.4f}\"] = p_idxs_predicted\n",
      "/home/zhongyiyuan/volpick/volpick/model/eval_taks0.py:525: PerformanceWarning: DataFrame is highly fragmented.  This is usually the result of calling `frame.insert` many times, which has poor performance.  Consider joining all columns at once using pd.concat(axis=1) instead. To get a de-fragmented frame, use `newframe = frame.copy()`\n",
      "  task_targets[f\"s_pred_sample_thr{prob_thre:.4f}\"] = s_idxs_predicted\n"
     ]
    },
    {
     "name": "stdout",
     "output_type": "stream",
     "text": [
      "Probability threshold: 0.5600\n"
     ]
    },
    {
     "name": "stderr",
     "output_type": "stream",
     "text": [
      "/home/zhongyiyuan/volpick/volpick/model/eval_taks0.py:524: PerformanceWarning: DataFrame is highly fragmented.  This is usually the result of calling `frame.insert` many times, which has poor performance.  Consider joining all columns at once using pd.concat(axis=1) instead. To get a de-fragmented frame, use `newframe = frame.copy()`\n",
      "  task_targets[f\"p_pred_sample_thr{prob_thre:.4f}\"] = p_idxs_predicted\n",
      "/home/zhongyiyuan/volpick/volpick/model/eval_taks0.py:525: PerformanceWarning: DataFrame is highly fragmented.  This is usually the result of calling `frame.insert` many times, which has poor performance.  Consider joining all columns at once using pd.concat(axis=1) instead. To get a de-fragmented frame, use `newframe = frame.copy()`\n",
      "  task_targets[f\"s_pred_sample_thr{prob_thre:.4f}\"] = s_idxs_predicted\n"
     ]
    },
    {
     "name": "stdout",
     "output_type": "stream",
     "text": [
      "Probability threshold: 0.5700\n"
     ]
    },
    {
     "name": "stderr",
     "output_type": "stream",
     "text": [
      "/home/zhongyiyuan/volpick/volpick/model/eval_taks0.py:524: PerformanceWarning: DataFrame is highly fragmented.  This is usually the result of calling `frame.insert` many times, which has poor performance.  Consider joining all columns at once using pd.concat(axis=1) instead. To get a de-fragmented frame, use `newframe = frame.copy()`\n",
      "  task_targets[f\"p_pred_sample_thr{prob_thre:.4f}\"] = p_idxs_predicted\n",
      "/home/zhongyiyuan/volpick/volpick/model/eval_taks0.py:525: PerformanceWarning: DataFrame is highly fragmented.  This is usually the result of calling `frame.insert` many times, which has poor performance.  Consider joining all columns at once using pd.concat(axis=1) instead. To get a de-fragmented frame, use `newframe = frame.copy()`\n",
      "  task_targets[f\"s_pred_sample_thr{prob_thre:.4f}\"] = s_idxs_predicted\n"
     ]
    },
    {
     "name": "stdout",
     "output_type": "stream",
     "text": [
      "Probability threshold: 0.5800\n"
     ]
    },
    {
     "name": "stderr",
     "output_type": "stream",
     "text": [
      "/home/zhongyiyuan/volpick/volpick/model/eval_taks0.py:524: PerformanceWarning: DataFrame is highly fragmented.  This is usually the result of calling `frame.insert` many times, which has poor performance.  Consider joining all columns at once using pd.concat(axis=1) instead. To get a de-fragmented frame, use `newframe = frame.copy()`\n",
      "  task_targets[f\"p_pred_sample_thr{prob_thre:.4f}\"] = p_idxs_predicted\n",
      "/home/zhongyiyuan/volpick/volpick/model/eval_taks0.py:525: PerformanceWarning: DataFrame is highly fragmented.  This is usually the result of calling `frame.insert` many times, which has poor performance.  Consider joining all columns at once using pd.concat(axis=1) instead. To get a de-fragmented frame, use `newframe = frame.copy()`\n",
      "  task_targets[f\"s_pred_sample_thr{prob_thre:.4f}\"] = s_idxs_predicted\n"
     ]
    },
    {
     "name": "stdout",
     "output_type": "stream",
     "text": [
      "Probability threshold: 0.5900\n"
     ]
    },
    {
     "name": "stderr",
     "output_type": "stream",
     "text": [
      "/home/zhongyiyuan/volpick/volpick/model/eval_taks0.py:524: PerformanceWarning: DataFrame is highly fragmented.  This is usually the result of calling `frame.insert` many times, which has poor performance.  Consider joining all columns at once using pd.concat(axis=1) instead. To get a de-fragmented frame, use `newframe = frame.copy()`\n",
      "  task_targets[f\"p_pred_sample_thr{prob_thre:.4f}\"] = p_idxs_predicted\n",
      "/home/zhongyiyuan/volpick/volpick/model/eval_taks0.py:525: PerformanceWarning: DataFrame is highly fragmented.  This is usually the result of calling `frame.insert` many times, which has poor performance.  Consider joining all columns at once using pd.concat(axis=1) instead. To get a de-fragmented frame, use `newframe = frame.copy()`\n",
      "  task_targets[f\"s_pred_sample_thr{prob_thre:.4f}\"] = s_idxs_predicted\n"
     ]
    },
    {
     "name": "stdout",
     "output_type": "stream",
     "text": [
      "Probability threshold: 0.6000\n"
     ]
    },
    {
     "name": "stderr",
     "output_type": "stream",
     "text": [
      "/home/zhongyiyuan/volpick/volpick/model/eval_taks0.py:524: PerformanceWarning: DataFrame is highly fragmented.  This is usually the result of calling `frame.insert` many times, which has poor performance.  Consider joining all columns at once using pd.concat(axis=1) instead. To get a de-fragmented frame, use `newframe = frame.copy()`\n",
      "  task_targets[f\"p_pred_sample_thr{prob_thre:.4f}\"] = p_idxs_predicted\n",
      "/home/zhongyiyuan/volpick/volpick/model/eval_taks0.py:525: PerformanceWarning: DataFrame is highly fragmented.  This is usually the result of calling `frame.insert` many times, which has poor performance.  Consider joining all columns at once using pd.concat(axis=1) instead. To get a de-fragmented frame, use `newframe = frame.copy()`\n",
      "  task_targets[f\"s_pred_sample_thr{prob_thre:.4f}\"] = s_idxs_predicted\n"
     ]
    },
    {
     "name": "stdout",
     "output_type": "stream",
     "text": [
      "org_eqt\n",
      "/home/zhongyiyuan/volpick/model_training/Test_INSTANCE/instance_pred/task0/org_eqt exists\n"
     ]
    },
    {
     "name": "stderr",
     "output_type": "stream",
     "text": [
      "WARNING:root:Overwriting noise trace_names to allow correct identification\n"
     ]
    },
    {
     "name": "stdout",
     "output_type": "stream",
     "text": [
      "Starting set: dev\n"
     ]
    },
    {
     "name": "stderr",
     "output_type": "stream",
     "text": [
      "Preloading waveforms: 100%|██████████| 115027/115027 [00:08<00:00, 12833.00it/s]\n",
      "Preloading waveforms: 100%|██████████| 13251/13251 [00:01<00:00, 13194.84it/s]\n"
     ]
    },
    {
     "name": "stdout",
     "output_type": "stream",
     "text": [
      "Number of examples in dev: 128277\n",
      "115026 earthquake traces\n",
      "13251 noise traces\n",
      "Probability threshold: 0.0100\n",
      "Probability threshold: 0.0200\n",
      "Probability threshold: 0.0300\n",
      "Probability threshold: 0.0400\n",
      "Probability threshold: 0.0500\n",
      "Probability threshold: 0.0600\n",
      "Probability threshold: 0.0700\n",
      "Probability threshold: 0.0800\n",
      "Probability threshold: 0.0900\n",
      "Probability threshold: 0.1000\n",
      "Probability threshold: 0.1100\n",
      "Probability threshold: 0.1200\n",
      "Probability threshold: 0.1300\n",
      "Probability threshold: 0.1400\n",
      "Probability threshold: 0.1500\n",
      "Probability threshold: 0.1600\n",
      "Probability threshold: 0.1700\n",
      "Probability threshold: 0.1800\n",
      "Probability threshold: 0.1900\n",
      "Probability threshold: 0.2000\n",
      "Probability threshold: 0.2100\n",
      "Probability threshold: 0.2200\n",
      "Probability threshold: 0.2300\n",
      "Probability threshold: 0.2400\n",
      "Probability threshold: 0.2500\n",
      "Probability threshold: 0.2600\n",
      "Probability threshold: 0.2700\n",
      "Probability threshold: 0.2800\n",
      "Probability threshold: 0.2900\n",
      "Probability threshold: 0.3000\n",
      "Probability threshold: 0.3100\n",
      "Probability threshold: 0.3200\n",
      "Probability threshold: 0.3300\n",
      "Probability threshold: 0.3400\n",
      "Probability threshold: 0.3500\n",
      "Probability threshold: 0.3600\n",
      "Probability threshold: 0.3700\n",
      "Probability threshold: 0.3800\n",
      "Probability threshold: 0.3900\n",
      "Probability threshold: 0.4000\n",
      "Probability threshold: 0.4100\n",
      "Probability threshold: 0.4200\n",
      "Probability threshold: 0.4300\n",
      "Probability threshold: 0.4400\n",
      "Probability threshold: 0.4500\n",
      "Probability threshold: 0.4600\n",
      "Probability threshold: 0.4700\n",
      "Probability threshold: 0.4800\n",
      "Probability threshold: 0.4900\n"
     ]
    },
    {
     "name": "stderr",
     "output_type": "stream",
     "text": [
      "/home/zhongyiyuan/volpick/volpick/model/eval_taks0.py:525: PerformanceWarning: DataFrame is highly fragmented.  This is usually the result of calling `frame.insert` many times, which has poor performance.  Consider joining all columns at once using pd.concat(axis=1) instead. To get a de-fragmented frame, use `newframe = frame.copy()`\n",
      "  task_targets[f\"s_pred_sample_thr{prob_thre:.4f}\"] = s_idxs_predicted\n"
     ]
    },
    {
     "name": "stdout",
     "output_type": "stream",
     "text": [
      "Probability threshold: 0.5000\n"
     ]
    },
    {
     "name": "stderr",
     "output_type": "stream",
     "text": [
      "/home/zhongyiyuan/volpick/volpick/model/eval_taks0.py:524: PerformanceWarning: DataFrame is highly fragmented.  This is usually the result of calling `frame.insert` many times, which has poor performance.  Consider joining all columns at once using pd.concat(axis=1) instead. To get a de-fragmented frame, use `newframe = frame.copy()`\n",
      "  task_targets[f\"p_pred_sample_thr{prob_thre:.4f}\"] = p_idxs_predicted\n",
      "/home/zhongyiyuan/volpick/volpick/model/eval_taks0.py:525: PerformanceWarning: DataFrame is highly fragmented.  This is usually the result of calling `frame.insert` many times, which has poor performance.  Consider joining all columns at once using pd.concat(axis=1) instead. To get a de-fragmented frame, use `newframe = frame.copy()`\n",
      "  task_targets[f\"s_pred_sample_thr{prob_thre:.4f}\"] = s_idxs_predicted\n"
     ]
    },
    {
     "name": "stdout",
     "output_type": "stream",
     "text": [
      "Probability threshold: 0.5100\n"
     ]
    },
    {
     "name": "stderr",
     "output_type": "stream",
     "text": [
      "/home/zhongyiyuan/volpick/volpick/model/eval_taks0.py:524: PerformanceWarning: DataFrame is highly fragmented.  This is usually the result of calling `frame.insert` many times, which has poor performance.  Consider joining all columns at once using pd.concat(axis=1) instead. To get a de-fragmented frame, use `newframe = frame.copy()`\n",
      "  task_targets[f\"p_pred_sample_thr{prob_thre:.4f}\"] = p_idxs_predicted\n",
      "/home/zhongyiyuan/volpick/volpick/model/eval_taks0.py:525: PerformanceWarning: DataFrame is highly fragmented.  This is usually the result of calling `frame.insert` many times, which has poor performance.  Consider joining all columns at once using pd.concat(axis=1) instead. To get a de-fragmented frame, use `newframe = frame.copy()`\n",
      "  task_targets[f\"s_pred_sample_thr{prob_thre:.4f}\"] = s_idxs_predicted\n"
     ]
    },
    {
     "name": "stdout",
     "output_type": "stream",
     "text": [
      "Probability threshold: 0.5200\n"
     ]
    },
    {
     "name": "stderr",
     "output_type": "stream",
     "text": [
      "/home/zhongyiyuan/volpick/volpick/model/eval_taks0.py:524: PerformanceWarning: DataFrame is highly fragmented.  This is usually the result of calling `frame.insert` many times, which has poor performance.  Consider joining all columns at once using pd.concat(axis=1) instead. To get a de-fragmented frame, use `newframe = frame.copy()`\n",
      "  task_targets[f\"p_pred_sample_thr{prob_thre:.4f}\"] = p_idxs_predicted\n",
      "/home/zhongyiyuan/volpick/volpick/model/eval_taks0.py:525: PerformanceWarning: DataFrame is highly fragmented.  This is usually the result of calling `frame.insert` many times, which has poor performance.  Consider joining all columns at once using pd.concat(axis=1) instead. To get a de-fragmented frame, use `newframe = frame.copy()`\n",
      "  task_targets[f\"s_pred_sample_thr{prob_thre:.4f}\"] = s_idxs_predicted\n"
     ]
    },
    {
     "name": "stdout",
     "output_type": "stream",
     "text": [
      "Probability threshold: 0.5300\n"
     ]
    },
    {
     "name": "stderr",
     "output_type": "stream",
     "text": [
      "/home/zhongyiyuan/volpick/volpick/model/eval_taks0.py:524: PerformanceWarning: DataFrame is highly fragmented.  This is usually the result of calling `frame.insert` many times, which has poor performance.  Consider joining all columns at once using pd.concat(axis=1) instead. To get a de-fragmented frame, use `newframe = frame.copy()`\n",
      "  task_targets[f\"p_pred_sample_thr{prob_thre:.4f}\"] = p_idxs_predicted\n",
      "/home/zhongyiyuan/volpick/volpick/model/eval_taks0.py:525: PerformanceWarning: DataFrame is highly fragmented.  This is usually the result of calling `frame.insert` many times, which has poor performance.  Consider joining all columns at once using pd.concat(axis=1) instead. To get a de-fragmented frame, use `newframe = frame.copy()`\n",
      "  task_targets[f\"s_pred_sample_thr{prob_thre:.4f}\"] = s_idxs_predicted\n"
     ]
    },
    {
     "name": "stdout",
     "output_type": "stream",
     "text": [
      "Probability threshold: 0.5400\n"
     ]
    },
    {
     "name": "stderr",
     "output_type": "stream",
     "text": [
      "/home/zhongyiyuan/volpick/volpick/model/eval_taks0.py:524: PerformanceWarning: DataFrame is highly fragmented.  This is usually the result of calling `frame.insert` many times, which has poor performance.  Consider joining all columns at once using pd.concat(axis=1) instead. To get a de-fragmented frame, use `newframe = frame.copy()`\n",
      "  task_targets[f\"p_pred_sample_thr{prob_thre:.4f}\"] = p_idxs_predicted\n",
      "/home/zhongyiyuan/volpick/volpick/model/eval_taks0.py:525: PerformanceWarning: DataFrame is highly fragmented.  This is usually the result of calling `frame.insert` many times, which has poor performance.  Consider joining all columns at once using pd.concat(axis=1) instead. To get a de-fragmented frame, use `newframe = frame.copy()`\n",
      "  task_targets[f\"s_pred_sample_thr{prob_thre:.4f}\"] = s_idxs_predicted\n"
     ]
    },
    {
     "name": "stdout",
     "output_type": "stream",
     "text": [
      "Probability threshold: 0.5500\n"
     ]
    },
    {
     "name": "stderr",
     "output_type": "stream",
     "text": [
      "/home/zhongyiyuan/volpick/volpick/model/eval_taks0.py:524: PerformanceWarning: DataFrame is highly fragmented.  This is usually the result of calling `frame.insert` many times, which has poor performance.  Consider joining all columns at once using pd.concat(axis=1) instead. To get a de-fragmented frame, use `newframe = frame.copy()`\n",
      "  task_targets[f\"p_pred_sample_thr{prob_thre:.4f}\"] = p_idxs_predicted\n",
      "/home/zhongyiyuan/volpick/volpick/model/eval_taks0.py:525: PerformanceWarning: DataFrame is highly fragmented.  This is usually the result of calling `frame.insert` many times, which has poor performance.  Consider joining all columns at once using pd.concat(axis=1) instead. To get a de-fragmented frame, use `newframe = frame.copy()`\n",
      "  task_targets[f\"s_pred_sample_thr{prob_thre:.4f}\"] = s_idxs_predicted\n"
     ]
    },
    {
     "name": "stdout",
     "output_type": "stream",
     "text": [
      "Probability threshold: 0.5600\n"
     ]
    },
    {
     "name": "stderr",
     "output_type": "stream",
     "text": [
      "/home/zhongyiyuan/volpick/volpick/model/eval_taks0.py:524: PerformanceWarning: DataFrame is highly fragmented.  This is usually the result of calling `frame.insert` many times, which has poor performance.  Consider joining all columns at once using pd.concat(axis=1) instead. To get a de-fragmented frame, use `newframe = frame.copy()`\n",
      "  task_targets[f\"p_pred_sample_thr{prob_thre:.4f}\"] = p_idxs_predicted\n",
      "/home/zhongyiyuan/volpick/volpick/model/eval_taks0.py:525: PerformanceWarning: DataFrame is highly fragmented.  This is usually the result of calling `frame.insert` many times, which has poor performance.  Consider joining all columns at once using pd.concat(axis=1) instead. To get a de-fragmented frame, use `newframe = frame.copy()`\n",
      "  task_targets[f\"s_pred_sample_thr{prob_thre:.4f}\"] = s_idxs_predicted\n"
     ]
    },
    {
     "name": "stdout",
     "output_type": "stream",
     "text": [
      "Probability threshold: 0.5700\n"
     ]
    },
    {
     "name": "stderr",
     "output_type": "stream",
     "text": [
      "/home/zhongyiyuan/volpick/volpick/model/eval_taks0.py:524: PerformanceWarning: DataFrame is highly fragmented.  This is usually the result of calling `frame.insert` many times, which has poor performance.  Consider joining all columns at once using pd.concat(axis=1) instead. To get a de-fragmented frame, use `newframe = frame.copy()`\n",
      "  task_targets[f\"p_pred_sample_thr{prob_thre:.4f}\"] = p_idxs_predicted\n",
      "/home/zhongyiyuan/volpick/volpick/model/eval_taks0.py:525: PerformanceWarning: DataFrame is highly fragmented.  This is usually the result of calling `frame.insert` many times, which has poor performance.  Consider joining all columns at once using pd.concat(axis=1) instead. To get a de-fragmented frame, use `newframe = frame.copy()`\n",
      "  task_targets[f\"s_pred_sample_thr{prob_thre:.4f}\"] = s_idxs_predicted\n"
     ]
    },
    {
     "name": "stdout",
     "output_type": "stream",
     "text": [
      "Probability threshold: 0.5800\n"
     ]
    },
    {
     "name": "stderr",
     "output_type": "stream",
     "text": [
      "/home/zhongyiyuan/volpick/volpick/model/eval_taks0.py:524: PerformanceWarning: DataFrame is highly fragmented.  This is usually the result of calling `frame.insert` many times, which has poor performance.  Consider joining all columns at once using pd.concat(axis=1) instead. To get a de-fragmented frame, use `newframe = frame.copy()`\n",
      "  task_targets[f\"p_pred_sample_thr{prob_thre:.4f}\"] = p_idxs_predicted\n",
      "/home/zhongyiyuan/volpick/volpick/model/eval_taks0.py:525: PerformanceWarning: DataFrame is highly fragmented.  This is usually the result of calling `frame.insert` many times, which has poor performance.  Consider joining all columns at once using pd.concat(axis=1) instead. To get a de-fragmented frame, use `newframe = frame.copy()`\n",
      "  task_targets[f\"s_pred_sample_thr{prob_thre:.4f}\"] = s_idxs_predicted\n"
     ]
    },
    {
     "name": "stdout",
     "output_type": "stream",
     "text": [
      "Probability threshold: 0.5900\n"
     ]
    },
    {
     "name": "stderr",
     "output_type": "stream",
     "text": [
      "/home/zhongyiyuan/volpick/volpick/model/eval_taks0.py:524: PerformanceWarning: DataFrame is highly fragmented.  This is usually the result of calling `frame.insert` many times, which has poor performance.  Consider joining all columns at once using pd.concat(axis=1) instead. To get a de-fragmented frame, use `newframe = frame.copy()`\n",
      "  task_targets[f\"p_pred_sample_thr{prob_thre:.4f}\"] = p_idxs_predicted\n",
      "/home/zhongyiyuan/volpick/volpick/model/eval_taks0.py:525: PerformanceWarning: DataFrame is highly fragmented.  This is usually the result of calling `frame.insert` many times, which has poor performance.  Consider joining all columns at once using pd.concat(axis=1) instead. To get a de-fragmented frame, use `newframe = frame.copy()`\n",
      "  task_targets[f\"s_pred_sample_thr{prob_thre:.4f}\"] = s_idxs_predicted\n"
     ]
    },
    {
     "name": "stdout",
     "output_type": "stream",
     "text": [
      "Probability threshold: 0.6000\n"
     ]
    },
    {
     "name": "stderr",
     "output_type": "stream",
     "text": [
      "/home/zhongyiyuan/volpick/volpick/model/eval_taks0.py:524: PerformanceWarning: DataFrame is highly fragmented.  This is usually the result of calling `frame.insert` many times, which has poor performance.  Consider joining all columns at once using pd.concat(axis=1) instead. To get a de-fragmented frame, use `newframe = frame.copy()`\n",
      "  task_targets[f\"p_pred_sample_thr{prob_thre:.4f}\"] = p_idxs_predicted\n",
      "/home/zhongyiyuan/volpick/volpick/model/eval_taks0.py:525: PerformanceWarning: DataFrame is highly fragmented.  This is usually the result of calling `frame.insert` many times, which has poor performance.  Consider joining all columns at once using pd.concat(axis=1) instead. To get a de-fragmented frame, use `newframe = frame.copy()`\n",
      "  task_targets[f\"s_pred_sample_thr{prob_thre:.4f}\"] = s_idxs_predicted\n"
     ]
    },
    {
     "name": "stdout",
     "output_type": "stream",
     "text": [
      "int_eqt\n",
      "/home/zhongyiyuan/volpick/model_training/Test_INSTANCE/instance_pred/task0/int_eqt exists\n"
     ]
    },
    {
     "name": "stderr",
     "output_type": "stream",
     "text": [
      "WARNING:root:Overwriting noise trace_names to allow correct identification\n"
     ]
    },
    {
     "name": "stdout",
     "output_type": "stream",
     "text": [
      "Starting set: dev\n"
     ]
    },
    {
     "name": "stderr",
     "output_type": "stream",
     "text": [
      "Preloading waveforms: 100%|██████████| 115027/115027 [01:08<00:00, 1669.71it/s]\n",
      "Preloading waveforms: 100%|██████████| 13251/13251 [00:07<00:00, 1738.94it/s]\n"
     ]
    },
    {
     "name": "stdout",
     "output_type": "stream",
     "text": [
      "Number of examples in dev: 128277\n",
      "115026 earthquake traces\n",
      "13251 noise traces\n",
      "Probability threshold: 0.0100\n",
      "Probability threshold: 0.0200\n",
      "Probability threshold: 0.0300\n",
      "Probability threshold: 0.0400\n",
      "Probability threshold: 0.0500\n",
      "Probability threshold: 0.0600\n",
      "Probability threshold: 0.0700\n",
      "Probability threshold: 0.0800\n",
      "Probability threshold: 0.0900\n",
      "Probability threshold: 0.1000\n",
      "Probability threshold: 0.1100\n",
      "Probability threshold: 0.1200\n",
      "Probability threshold: 0.1300\n",
      "Probability threshold: 0.1400\n",
      "Probability threshold: 0.1500\n",
      "Probability threshold: 0.1600\n",
      "Probability threshold: 0.1700\n",
      "Probability threshold: 0.1800\n",
      "Probability threshold: 0.1900\n",
      "Probability threshold: 0.2000\n",
      "Probability threshold: 0.2100\n",
      "Probability threshold: 0.2200\n",
      "Probability threshold: 0.2300\n",
      "Probability threshold: 0.2400\n",
      "Probability threshold: 0.2500\n",
      "Probability threshold: 0.2600\n",
      "Probability threshold: 0.2700\n",
      "Probability threshold: 0.2800\n",
      "Probability threshold: 0.2900\n",
      "Probability threshold: 0.3000\n",
      "Probability threshold: 0.3100\n",
      "Probability threshold: 0.3200\n",
      "Probability threshold: 0.3300\n",
      "Probability threshold: 0.3400\n",
      "Probability threshold: 0.3500\n",
      "Probability threshold: 0.3600\n",
      "Probability threshold: 0.3700\n",
      "Probability threshold: 0.3800\n",
      "Probability threshold: 0.3900\n",
      "Probability threshold: 0.4000\n",
      "Probability threshold: 0.4100\n",
      "Probability threshold: 0.4200\n",
      "Probability threshold: 0.4300\n",
      "Probability threshold: 0.4400\n",
      "Probability threshold: 0.4500\n",
      "Probability threshold: 0.4600\n",
      "Probability threshold: 0.4700\n",
      "Probability threshold: 0.4800\n",
      "Probability threshold: 0.4900\n"
     ]
    },
    {
     "name": "stderr",
     "output_type": "stream",
     "text": [
      "/home/zhongyiyuan/volpick/volpick/model/eval_taks0.py:525: PerformanceWarning: DataFrame is highly fragmented.  This is usually the result of calling `frame.insert` many times, which has poor performance.  Consider joining all columns at once using pd.concat(axis=1) instead. To get a de-fragmented frame, use `newframe = frame.copy()`\n",
      "  task_targets[f\"s_pred_sample_thr{prob_thre:.4f}\"] = s_idxs_predicted\n"
     ]
    },
    {
     "name": "stdout",
     "output_type": "stream",
     "text": [
      "Probability threshold: 0.5000\n"
     ]
    },
    {
     "name": "stderr",
     "output_type": "stream",
     "text": [
      "/home/zhongyiyuan/volpick/volpick/model/eval_taks0.py:524: PerformanceWarning: DataFrame is highly fragmented.  This is usually the result of calling `frame.insert` many times, which has poor performance.  Consider joining all columns at once using pd.concat(axis=1) instead. To get a de-fragmented frame, use `newframe = frame.copy()`\n",
      "  task_targets[f\"p_pred_sample_thr{prob_thre:.4f}\"] = p_idxs_predicted\n",
      "/home/zhongyiyuan/volpick/volpick/model/eval_taks0.py:525: PerformanceWarning: DataFrame is highly fragmented.  This is usually the result of calling `frame.insert` many times, which has poor performance.  Consider joining all columns at once using pd.concat(axis=1) instead. To get a de-fragmented frame, use `newframe = frame.copy()`\n",
      "  task_targets[f\"s_pred_sample_thr{prob_thre:.4f}\"] = s_idxs_predicted\n"
     ]
    },
    {
     "name": "stdout",
     "output_type": "stream",
     "text": [
      "Probability threshold: 0.5100\n"
     ]
    },
    {
     "name": "stderr",
     "output_type": "stream",
     "text": [
      "/home/zhongyiyuan/volpick/volpick/model/eval_taks0.py:524: PerformanceWarning: DataFrame is highly fragmented.  This is usually the result of calling `frame.insert` many times, which has poor performance.  Consider joining all columns at once using pd.concat(axis=1) instead. To get a de-fragmented frame, use `newframe = frame.copy()`\n",
      "  task_targets[f\"p_pred_sample_thr{prob_thre:.4f}\"] = p_idxs_predicted\n",
      "/home/zhongyiyuan/volpick/volpick/model/eval_taks0.py:525: PerformanceWarning: DataFrame is highly fragmented.  This is usually the result of calling `frame.insert` many times, which has poor performance.  Consider joining all columns at once using pd.concat(axis=1) instead. To get a de-fragmented frame, use `newframe = frame.copy()`\n",
      "  task_targets[f\"s_pred_sample_thr{prob_thre:.4f}\"] = s_idxs_predicted\n"
     ]
    },
    {
     "name": "stdout",
     "output_type": "stream",
     "text": [
      "Probability threshold: 0.5200\n"
     ]
    },
    {
     "name": "stderr",
     "output_type": "stream",
     "text": [
      "/home/zhongyiyuan/volpick/volpick/model/eval_taks0.py:524: PerformanceWarning: DataFrame is highly fragmented.  This is usually the result of calling `frame.insert` many times, which has poor performance.  Consider joining all columns at once using pd.concat(axis=1) instead. To get a de-fragmented frame, use `newframe = frame.copy()`\n",
      "  task_targets[f\"p_pred_sample_thr{prob_thre:.4f}\"] = p_idxs_predicted\n",
      "/home/zhongyiyuan/volpick/volpick/model/eval_taks0.py:525: PerformanceWarning: DataFrame is highly fragmented.  This is usually the result of calling `frame.insert` many times, which has poor performance.  Consider joining all columns at once using pd.concat(axis=1) instead. To get a de-fragmented frame, use `newframe = frame.copy()`\n",
      "  task_targets[f\"s_pred_sample_thr{prob_thre:.4f}\"] = s_idxs_predicted\n"
     ]
    },
    {
     "name": "stdout",
     "output_type": "stream",
     "text": [
      "Probability threshold: 0.5300\n"
     ]
    },
    {
     "name": "stderr",
     "output_type": "stream",
     "text": [
      "/home/zhongyiyuan/volpick/volpick/model/eval_taks0.py:524: PerformanceWarning: DataFrame is highly fragmented.  This is usually the result of calling `frame.insert` many times, which has poor performance.  Consider joining all columns at once using pd.concat(axis=1) instead. To get a de-fragmented frame, use `newframe = frame.copy()`\n",
      "  task_targets[f\"p_pred_sample_thr{prob_thre:.4f}\"] = p_idxs_predicted\n",
      "/home/zhongyiyuan/volpick/volpick/model/eval_taks0.py:525: PerformanceWarning: DataFrame is highly fragmented.  This is usually the result of calling `frame.insert` many times, which has poor performance.  Consider joining all columns at once using pd.concat(axis=1) instead. To get a de-fragmented frame, use `newframe = frame.copy()`\n",
      "  task_targets[f\"s_pred_sample_thr{prob_thre:.4f}\"] = s_idxs_predicted\n"
     ]
    },
    {
     "name": "stdout",
     "output_type": "stream",
     "text": [
      "Probability threshold: 0.5400\n"
     ]
    },
    {
     "name": "stderr",
     "output_type": "stream",
     "text": [
      "/home/zhongyiyuan/volpick/volpick/model/eval_taks0.py:524: PerformanceWarning: DataFrame is highly fragmented.  This is usually the result of calling `frame.insert` many times, which has poor performance.  Consider joining all columns at once using pd.concat(axis=1) instead. To get a de-fragmented frame, use `newframe = frame.copy()`\n",
      "  task_targets[f\"p_pred_sample_thr{prob_thre:.4f}\"] = p_idxs_predicted\n",
      "/home/zhongyiyuan/volpick/volpick/model/eval_taks0.py:525: PerformanceWarning: DataFrame is highly fragmented.  This is usually the result of calling `frame.insert` many times, which has poor performance.  Consider joining all columns at once using pd.concat(axis=1) instead. To get a de-fragmented frame, use `newframe = frame.copy()`\n",
      "  task_targets[f\"s_pred_sample_thr{prob_thre:.4f}\"] = s_idxs_predicted\n"
     ]
    },
    {
     "name": "stdout",
     "output_type": "stream",
     "text": [
      "Probability threshold: 0.5500\n"
     ]
    },
    {
     "name": "stderr",
     "output_type": "stream",
     "text": [
      "/home/zhongyiyuan/volpick/volpick/model/eval_taks0.py:524: PerformanceWarning: DataFrame is highly fragmented.  This is usually the result of calling `frame.insert` many times, which has poor performance.  Consider joining all columns at once using pd.concat(axis=1) instead. To get a de-fragmented frame, use `newframe = frame.copy()`\n",
      "  task_targets[f\"p_pred_sample_thr{prob_thre:.4f}\"] = p_idxs_predicted\n",
      "/home/zhongyiyuan/volpick/volpick/model/eval_taks0.py:525: PerformanceWarning: DataFrame is highly fragmented.  This is usually the result of calling `frame.insert` many times, which has poor performance.  Consider joining all columns at once using pd.concat(axis=1) instead. To get a de-fragmented frame, use `newframe = frame.copy()`\n",
      "  task_targets[f\"s_pred_sample_thr{prob_thre:.4f}\"] = s_idxs_predicted\n"
     ]
    },
    {
     "name": "stdout",
     "output_type": "stream",
     "text": [
      "Probability threshold: 0.5600\n"
     ]
    },
    {
     "name": "stderr",
     "output_type": "stream",
     "text": [
      "/home/zhongyiyuan/volpick/volpick/model/eval_taks0.py:524: PerformanceWarning: DataFrame is highly fragmented.  This is usually the result of calling `frame.insert` many times, which has poor performance.  Consider joining all columns at once using pd.concat(axis=1) instead. To get a de-fragmented frame, use `newframe = frame.copy()`\n",
      "  task_targets[f\"p_pred_sample_thr{prob_thre:.4f}\"] = p_idxs_predicted\n",
      "/home/zhongyiyuan/volpick/volpick/model/eval_taks0.py:525: PerformanceWarning: DataFrame is highly fragmented.  This is usually the result of calling `frame.insert` many times, which has poor performance.  Consider joining all columns at once using pd.concat(axis=1) instead. To get a de-fragmented frame, use `newframe = frame.copy()`\n",
      "  task_targets[f\"s_pred_sample_thr{prob_thre:.4f}\"] = s_idxs_predicted\n"
     ]
    },
    {
     "name": "stdout",
     "output_type": "stream",
     "text": [
      "Probability threshold: 0.5700\n"
     ]
    },
    {
     "name": "stderr",
     "output_type": "stream",
     "text": [
      "/home/zhongyiyuan/volpick/volpick/model/eval_taks0.py:524: PerformanceWarning: DataFrame is highly fragmented.  This is usually the result of calling `frame.insert` many times, which has poor performance.  Consider joining all columns at once using pd.concat(axis=1) instead. To get a de-fragmented frame, use `newframe = frame.copy()`\n",
      "  task_targets[f\"p_pred_sample_thr{prob_thre:.4f}\"] = p_idxs_predicted\n",
      "/home/zhongyiyuan/volpick/volpick/model/eval_taks0.py:525: PerformanceWarning: DataFrame is highly fragmented.  This is usually the result of calling `frame.insert` many times, which has poor performance.  Consider joining all columns at once using pd.concat(axis=1) instead. To get a de-fragmented frame, use `newframe = frame.copy()`\n",
      "  task_targets[f\"s_pred_sample_thr{prob_thre:.4f}\"] = s_idxs_predicted\n"
     ]
    },
    {
     "name": "stdout",
     "output_type": "stream",
     "text": [
      "Probability threshold: 0.5800\n"
     ]
    },
    {
     "name": "stderr",
     "output_type": "stream",
     "text": [
      "/home/zhongyiyuan/volpick/volpick/model/eval_taks0.py:524: PerformanceWarning: DataFrame is highly fragmented.  This is usually the result of calling `frame.insert` many times, which has poor performance.  Consider joining all columns at once using pd.concat(axis=1) instead. To get a de-fragmented frame, use `newframe = frame.copy()`\n",
      "  task_targets[f\"p_pred_sample_thr{prob_thre:.4f}\"] = p_idxs_predicted\n",
      "/home/zhongyiyuan/volpick/volpick/model/eval_taks0.py:525: PerformanceWarning: DataFrame is highly fragmented.  This is usually the result of calling `frame.insert` many times, which has poor performance.  Consider joining all columns at once using pd.concat(axis=1) instead. To get a de-fragmented frame, use `newframe = frame.copy()`\n",
      "  task_targets[f\"s_pred_sample_thr{prob_thre:.4f}\"] = s_idxs_predicted\n"
     ]
    },
    {
     "name": "stdout",
     "output_type": "stream",
     "text": [
      "Probability threshold: 0.5900\n"
     ]
    },
    {
     "name": "stderr",
     "output_type": "stream",
     "text": [
      "/home/zhongyiyuan/volpick/volpick/model/eval_taks0.py:524: PerformanceWarning: DataFrame is highly fragmented.  This is usually the result of calling `frame.insert` many times, which has poor performance.  Consider joining all columns at once using pd.concat(axis=1) instead. To get a de-fragmented frame, use `newframe = frame.copy()`\n",
      "  task_targets[f\"p_pred_sample_thr{prob_thre:.4f}\"] = p_idxs_predicted\n",
      "/home/zhongyiyuan/volpick/volpick/model/eval_taks0.py:525: PerformanceWarning: DataFrame is highly fragmented.  This is usually the result of calling `frame.insert` many times, which has poor performance.  Consider joining all columns at once using pd.concat(axis=1) instead. To get a de-fragmented frame, use `newframe = frame.copy()`\n",
      "  task_targets[f\"s_pred_sample_thr{prob_thre:.4f}\"] = s_idxs_predicted\n"
     ]
    },
    {
     "name": "stdout",
     "output_type": "stream",
     "text": [
      "Probability threshold: 0.6000\n"
     ]
    },
    {
     "name": "stderr",
     "output_type": "stream",
     "text": [
      "/home/zhongyiyuan/volpick/volpick/model/eval_taks0.py:524: PerformanceWarning: DataFrame is highly fragmented.  This is usually the result of calling `frame.insert` many times, which has poor performance.  Consider joining all columns at once using pd.concat(axis=1) instead. To get a de-fragmented frame, use `newframe = frame.copy()`\n",
      "  task_targets[f\"p_pred_sample_thr{prob_thre:.4f}\"] = p_idxs_predicted\n",
      "/home/zhongyiyuan/volpick/volpick/model/eval_taks0.py:525: PerformanceWarning: DataFrame is highly fragmented.  This is usually the result of calling `frame.insert` many times, which has poor performance.  Consider joining all columns at once using pd.concat(axis=1) instead. To get a de-fragmented frame, use `newframe = frame.copy()`\n",
      "  task_targets[f\"s_pred_sample_thr{prob_thre:.4f}\"] = s_idxs_predicted\n"
     ]
    },
    {
     "name": "stdout",
     "output_type": "stream",
     "text": [
      "int_pn\n",
      "/home/zhongyiyuan/volpick/model_training/Test_INSTANCE/instance_pred/task0/int_pn exists\n"
     ]
    },
    {
     "name": "stderr",
     "output_type": "stream",
     "text": [
      "WARNING:root:Overwriting noise trace_names to allow correct identification\n"
     ]
    },
    {
     "name": "stdout",
     "output_type": "stream",
     "text": [
      "Starting set: dev\n"
     ]
    },
    {
     "name": "stderr",
     "output_type": "stream",
     "text": [
      "Preloading waveforms: 100%|██████████| 115027/115027 [00:11<00:00, 9733.22it/s] \n",
      "Preloading waveforms: 100%|██████████| 13251/13251 [00:01<00:00, 12256.43it/s]\n"
     ]
    },
    {
     "name": "stdout",
     "output_type": "stream",
     "text": [
      "Number of examples in dev: 128277\n",
      "115026 earthquake traces\n",
      "13251 noise traces\n",
      "Probability threshold: 0.0100\n",
      "Probability threshold: 0.0200\n",
      "Probability threshold: 0.0300\n",
      "Probability threshold: 0.0400\n",
      "Probability threshold: 0.0500\n",
      "Probability threshold: 0.0600\n",
      "Probability threshold: 0.0700\n",
      "Probability threshold: 0.0800\n",
      "Probability threshold: 0.0900\n",
      "Probability threshold: 0.1000\n",
      "Probability threshold: 0.1100\n",
      "Probability threshold: 0.1200\n",
      "Probability threshold: 0.1300\n",
      "Probability threshold: 0.1400\n",
      "Probability threshold: 0.1500\n",
      "Probability threshold: 0.1600\n",
      "Probability threshold: 0.1700\n",
      "Probability threshold: 0.1800\n",
      "Probability threshold: 0.1900\n",
      "Probability threshold: 0.2000\n",
      "Probability threshold: 0.2100\n",
      "Probability threshold: 0.2200\n",
      "Probability threshold: 0.2300\n",
      "Probability threshold: 0.2400\n",
      "Probability threshold: 0.2500\n",
      "Probability threshold: 0.2600\n",
      "Probability threshold: 0.2700\n",
      "Probability threshold: 0.2800\n",
      "Probability threshold: 0.2900\n",
      "Probability threshold: 0.3000\n",
      "Probability threshold: 0.3100\n",
      "Probability threshold: 0.3200\n",
      "Probability threshold: 0.3300\n",
      "Probability threshold: 0.3400\n",
      "Probability threshold: 0.3500\n",
      "Probability threshold: 0.3600\n",
      "Probability threshold: 0.3700\n",
      "Probability threshold: 0.3800\n",
      "Probability threshold: 0.3900\n",
      "Probability threshold: 0.4000\n",
      "Probability threshold: 0.4100\n",
      "Probability threshold: 0.4200\n",
      "Probability threshold: 0.4300\n",
      "Probability threshold: 0.4400\n",
      "Probability threshold: 0.4500\n",
      "Probability threshold: 0.4600\n",
      "Probability threshold: 0.4700\n",
      "Probability threshold: 0.4800\n",
      "Probability threshold: 0.4900\n"
     ]
    },
    {
     "name": "stderr",
     "output_type": "stream",
     "text": [
      "/home/zhongyiyuan/volpick/volpick/model/eval_taks0.py:525: PerformanceWarning: DataFrame is highly fragmented.  This is usually the result of calling `frame.insert` many times, which has poor performance.  Consider joining all columns at once using pd.concat(axis=1) instead. To get a de-fragmented frame, use `newframe = frame.copy()`\n",
      "  task_targets[f\"s_pred_sample_thr{prob_thre:.4f}\"] = s_idxs_predicted\n"
     ]
    },
    {
     "name": "stdout",
     "output_type": "stream",
     "text": [
      "Probability threshold: 0.5000\n"
     ]
    },
    {
     "name": "stderr",
     "output_type": "stream",
     "text": [
      "/home/zhongyiyuan/volpick/volpick/model/eval_taks0.py:524: PerformanceWarning: DataFrame is highly fragmented.  This is usually the result of calling `frame.insert` many times, which has poor performance.  Consider joining all columns at once using pd.concat(axis=1) instead. To get a de-fragmented frame, use `newframe = frame.copy()`\n",
      "  task_targets[f\"p_pred_sample_thr{prob_thre:.4f}\"] = p_idxs_predicted\n",
      "/home/zhongyiyuan/volpick/volpick/model/eval_taks0.py:525: PerformanceWarning: DataFrame is highly fragmented.  This is usually the result of calling `frame.insert` many times, which has poor performance.  Consider joining all columns at once using pd.concat(axis=1) instead. To get a de-fragmented frame, use `newframe = frame.copy()`\n",
      "  task_targets[f\"s_pred_sample_thr{prob_thre:.4f}\"] = s_idxs_predicted\n"
     ]
    },
    {
     "name": "stdout",
     "output_type": "stream",
     "text": [
      "Probability threshold: 0.5100\n"
     ]
    },
    {
     "name": "stderr",
     "output_type": "stream",
     "text": [
      "/home/zhongyiyuan/volpick/volpick/model/eval_taks0.py:524: PerformanceWarning: DataFrame is highly fragmented.  This is usually the result of calling `frame.insert` many times, which has poor performance.  Consider joining all columns at once using pd.concat(axis=1) instead. To get a de-fragmented frame, use `newframe = frame.copy()`\n",
      "  task_targets[f\"p_pred_sample_thr{prob_thre:.4f}\"] = p_idxs_predicted\n",
      "/home/zhongyiyuan/volpick/volpick/model/eval_taks0.py:525: PerformanceWarning: DataFrame is highly fragmented.  This is usually the result of calling `frame.insert` many times, which has poor performance.  Consider joining all columns at once using pd.concat(axis=1) instead. To get a de-fragmented frame, use `newframe = frame.copy()`\n",
      "  task_targets[f\"s_pred_sample_thr{prob_thre:.4f}\"] = s_idxs_predicted\n"
     ]
    },
    {
     "name": "stdout",
     "output_type": "stream",
     "text": [
      "Probability threshold: 0.5200\n"
     ]
    },
    {
     "name": "stderr",
     "output_type": "stream",
     "text": [
      "/home/zhongyiyuan/volpick/volpick/model/eval_taks0.py:524: PerformanceWarning: DataFrame is highly fragmented.  This is usually the result of calling `frame.insert` many times, which has poor performance.  Consider joining all columns at once using pd.concat(axis=1) instead. To get a de-fragmented frame, use `newframe = frame.copy()`\n",
      "  task_targets[f\"p_pred_sample_thr{prob_thre:.4f}\"] = p_idxs_predicted\n",
      "/home/zhongyiyuan/volpick/volpick/model/eval_taks0.py:525: PerformanceWarning: DataFrame is highly fragmented.  This is usually the result of calling `frame.insert` many times, which has poor performance.  Consider joining all columns at once using pd.concat(axis=1) instead. To get a de-fragmented frame, use `newframe = frame.copy()`\n",
      "  task_targets[f\"s_pred_sample_thr{prob_thre:.4f}\"] = s_idxs_predicted\n"
     ]
    },
    {
     "name": "stdout",
     "output_type": "stream",
     "text": [
      "Probability threshold: 0.5300\n"
     ]
    },
    {
     "name": "stderr",
     "output_type": "stream",
     "text": [
      "/home/zhongyiyuan/volpick/volpick/model/eval_taks0.py:524: PerformanceWarning: DataFrame is highly fragmented.  This is usually the result of calling `frame.insert` many times, which has poor performance.  Consider joining all columns at once using pd.concat(axis=1) instead. To get a de-fragmented frame, use `newframe = frame.copy()`\n",
      "  task_targets[f\"p_pred_sample_thr{prob_thre:.4f}\"] = p_idxs_predicted\n",
      "/home/zhongyiyuan/volpick/volpick/model/eval_taks0.py:525: PerformanceWarning: DataFrame is highly fragmented.  This is usually the result of calling `frame.insert` many times, which has poor performance.  Consider joining all columns at once using pd.concat(axis=1) instead. To get a de-fragmented frame, use `newframe = frame.copy()`\n",
      "  task_targets[f\"s_pred_sample_thr{prob_thre:.4f}\"] = s_idxs_predicted\n"
     ]
    },
    {
     "name": "stdout",
     "output_type": "stream",
     "text": [
      "Probability threshold: 0.5400\n"
     ]
    },
    {
     "name": "stderr",
     "output_type": "stream",
     "text": [
      "/home/zhongyiyuan/volpick/volpick/model/eval_taks0.py:524: PerformanceWarning: DataFrame is highly fragmented.  This is usually the result of calling `frame.insert` many times, which has poor performance.  Consider joining all columns at once using pd.concat(axis=1) instead. To get a de-fragmented frame, use `newframe = frame.copy()`\n",
      "  task_targets[f\"p_pred_sample_thr{prob_thre:.4f}\"] = p_idxs_predicted\n",
      "/home/zhongyiyuan/volpick/volpick/model/eval_taks0.py:525: PerformanceWarning: DataFrame is highly fragmented.  This is usually the result of calling `frame.insert` many times, which has poor performance.  Consider joining all columns at once using pd.concat(axis=1) instead. To get a de-fragmented frame, use `newframe = frame.copy()`\n",
      "  task_targets[f\"s_pred_sample_thr{prob_thre:.4f}\"] = s_idxs_predicted\n"
     ]
    },
    {
     "name": "stdout",
     "output_type": "stream",
     "text": [
      "Probability threshold: 0.5500\n"
     ]
    },
    {
     "name": "stderr",
     "output_type": "stream",
     "text": [
      "/home/zhongyiyuan/volpick/volpick/model/eval_taks0.py:524: PerformanceWarning: DataFrame is highly fragmented.  This is usually the result of calling `frame.insert` many times, which has poor performance.  Consider joining all columns at once using pd.concat(axis=1) instead. To get a de-fragmented frame, use `newframe = frame.copy()`\n",
      "  task_targets[f\"p_pred_sample_thr{prob_thre:.4f}\"] = p_idxs_predicted\n",
      "/home/zhongyiyuan/volpick/volpick/model/eval_taks0.py:525: PerformanceWarning: DataFrame is highly fragmented.  This is usually the result of calling `frame.insert` many times, which has poor performance.  Consider joining all columns at once using pd.concat(axis=1) instead. To get a de-fragmented frame, use `newframe = frame.copy()`\n",
      "  task_targets[f\"s_pred_sample_thr{prob_thre:.4f}\"] = s_idxs_predicted\n"
     ]
    },
    {
     "name": "stdout",
     "output_type": "stream",
     "text": [
      "Probability threshold: 0.5600\n"
     ]
    },
    {
     "name": "stderr",
     "output_type": "stream",
     "text": [
      "/home/zhongyiyuan/volpick/volpick/model/eval_taks0.py:524: PerformanceWarning: DataFrame is highly fragmented.  This is usually the result of calling `frame.insert` many times, which has poor performance.  Consider joining all columns at once using pd.concat(axis=1) instead. To get a de-fragmented frame, use `newframe = frame.copy()`\n",
      "  task_targets[f\"p_pred_sample_thr{prob_thre:.4f}\"] = p_idxs_predicted\n",
      "/home/zhongyiyuan/volpick/volpick/model/eval_taks0.py:525: PerformanceWarning: DataFrame is highly fragmented.  This is usually the result of calling `frame.insert` many times, which has poor performance.  Consider joining all columns at once using pd.concat(axis=1) instead. To get a de-fragmented frame, use `newframe = frame.copy()`\n",
      "  task_targets[f\"s_pred_sample_thr{prob_thre:.4f}\"] = s_idxs_predicted\n"
     ]
    },
    {
     "name": "stdout",
     "output_type": "stream",
     "text": [
      "Probability threshold: 0.5700\n"
     ]
    },
    {
     "name": "stderr",
     "output_type": "stream",
     "text": [
      "/home/zhongyiyuan/volpick/volpick/model/eval_taks0.py:524: PerformanceWarning: DataFrame is highly fragmented.  This is usually the result of calling `frame.insert` many times, which has poor performance.  Consider joining all columns at once using pd.concat(axis=1) instead. To get a de-fragmented frame, use `newframe = frame.copy()`\n",
      "  task_targets[f\"p_pred_sample_thr{prob_thre:.4f}\"] = p_idxs_predicted\n",
      "/home/zhongyiyuan/volpick/volpick/model/eval_taks0.py:525: PerformanceWarning: DataFrame is highly fragmented.  This is usually the result of calling `frame.insert` many times, which has poor performance.  Consider joining all columns at once using pd.concat(axis=1) instead. To get a de-fragmented frame, use `newframe = frame.copy()`\n",
      "  task_targets[f\"s_pred_sample_thr{prob_thre:.4f}\"] = s_idxs_predicted\n"
     ]
    },
    {
     "name": "stdout",
     "output_type": "stream",
     "text": [
      "Probability threshold: 0.5800\n"
     ]
    },
    {
     "name": "stderr",
     "output_type": "stream",
     "text": [
      "/home/zhongyiyuan/volpick/volpick/model/eval_taks0.py:524: PerformanceWarning: DataFrame is highly fragmented.  This is usually the result of calling `frame.insert` many times, which has poor performance.  Consider joining all columns at once using pd.concat(axis=1) instead. To get a de-fragmented frame, use `newframe = frame.copy()`\n",
      "  task_targets[f\"p_pred_sample_thr{prob_thre:.4f}\"] = p_idxs_predicted\n",
      "/home/zhongyiyuan/volpick/volpick/model/eval_taks0.py:525: PerformanceWarning: DataFrame is highly fragmented.  This is usually the result of calling `frame.insert` many times, which has poor performance.  Consider joining all columns at once using pd.concat(axis=1) instead. To get a de-fragmented frame, use `newframe = frame.copy()`\n",
      "  task_targets[f\"s_pred_sample_thr{prob_thre:.4f}\"] = s_idxs_predicted\n"
     ]
    },
    {
     "name": "stdout",
     "output_type": "stream",
     "text": [
      "Probability threshold: 0.5900\n"
     ]
    },
    {
     "name": "stderr",
     "output_type": "stream",
     "text": [
      "/home/zhongyiyuan/volpick/volpick/model/eval_taks0.py:524: PerformanceWarning: DataFrame is highly fragmented.  This is usually the result of calling `frame.insert` many times, which has poor performance.  Consider joining all columns at once using pd.concat(axis=1) instead. To get a de-fragmented frame, use `newframe = frame.copy()`\n",
      "  task_targets[f\"p_pred_sample_thr{prob_thre:.4f}\"] = p_idxs_predicted\n",
      "/home/zhongyiyuan/volpick/volpick/model/eval_taks0.py:525: PerformanceWarning: DataFrame is highly fragmented.  This is usually the result of calling `frame.insert` many times, which has poor performance.  Consider joining all columns at once using pd.concat(axis=1) instead. To get a de-fragmented frame, use `newframe = frame.copy()`\n",
      "  task_targets[f\"s_pred_sample_thr{prob_thre:.4f}\"] = s_idxs_predicted\n"
     ]
    },
    {
     "name": "stdout",
     "output_type": "stream",
     "text": [
      "Probability threshold: 0.6000\n"
     ]
    },
    {
     "name": "stderr",
     "output_type": "stream",
     "text": [
      "/home/zhongyiyuan/volpick/volpick/model/eval_taks0.py:524: PerformanceWarning: DataFrame is highly fragmented.  This is usually the result of calling `frame.insert` many times, which has poor performance.  Consider joining all columns at once using pd.concat(axis=1) instead. To get a de-fragmented frame, use `newframe = frame.copy()`\n",
      "  task_targets[f\"p_pred_sample_thr{prob_thre:.4f}\"] = p_idxs_predicted\n",
      "/home/zhongyiyuan/volpick/volpick/model/eval_taks0.py:525: PerformanceWarning: DataFrame is highly fragmented.  This is usually the result of calling `frame.insert` many times, which has poor performance.  Consider joining all columns at once using pd.concat(axis=1) instead. To get a de-fragmented frame, use `newframe = frame.copy()`\n",
      "  task_targets[f\"s_pred_sample_thr{prob_thre:.4f}\"] = s_idxs_predicted\n"
     ]
    },
    {
     "name": "stdout",
     "output_type": "stream",
     "text": [
      "/home/zhongyiyuan/volpick/model_training/Test_INSTANCE/instance_pred/task0/org_pn exists\n"
     ]
    },
    {
     "name": "stderr",
     "output_type": "stream",
     "text": [
      "WARNING:root:Overwriting noise trace_names to allow correct identification\n"
     ]
    },
    {
     "name": "stdout",
     "output_type": "stream",
     "text": [
      "Starting set: dev\n"
     ]
    },
    {
     "name": "stderr",
     "output_type": "stream",
     "text": [
      "Preloading waveforms: 100%|██████████| 115027/115027 [00:09<00:00, 12630.87it/s]\n",
      "Preloading waveforms: 100%|██████████| 13251/13251 [00:01<00:00, 13149.48it/s]\n"
     ]
    },
    {
     "name": "stdout",
     "output_type": "stream",
     "text": [
      "Number of examples in dev: 128277\n",
      "115026 earthquake traces\n",
      "13251 noise traces\n",
      "Probability threshold: 0.0100\n",
      "Probability threshold: 0.0200\n",
      "Probability threshold: 0.0300\n",
      "Probability threshold: 0.0400\n",
      "Probability threshold: 0.0500\n",
      "Probability threshold: 0.0600\n",
      "Probability threshold: 0.0700\n",
      "Probability threshold: 0.0800\n",
      "Probability threshold: 0.0900\n",
      "Probability threshold: 0.1000\n",
      "Probability threshold: 0.1100\n",
      "Probability threshold: 0.1200\n",
      "Probability threshold: 0.1300\n",
      "Probability threshold: 0.1400\n",
      "Probability threshold: 0.1500\n",
      "Probability threshold: 0.1600\n",
      "Probability threshold: 0.1700\n",
      "Probability threshold: 0.1800\n",
      "Probability threshold: 0.1900\n",
      "Probability threshold: 0.2000\n",
      "Probability threshold: 0.2100\n",
      "Probability threshold: 0.2200\n",
      "Probability threshold: 0.2300\n",
      "Probability threshold: 0.2400\n",
      "Probability threshold: 0.2500\n",
      "Probability threshold: 0.2600\n",
      "Probability threshold: 0.2700\n",
      "Probability threshold: 0.2800\n",
      "Probability threshold: 0.2900\n",
      "Probability threshold: 0.3000\n",
      "Probability threshold: 0.3100\n",
      "Probability threshold: 0.3200\n",
      "Probability threshold: 0.3300\n",
      "Probability threshold: 0.3400\n",
      "Probability threshold: 0.3500\n",
      "Probability threshold: 0.3600\n",
      "Probability threshold: 0.3700\n",
      "Probability threshold: 0.3800\n",
      "Probability threshold: 0.3900\n",
      "Probability threshold: 0.4000\n",
      "Probability threshold: 0.4100\n",
      "Probability threshold: 0.4200\n",
      "Probability threshold: 0.4300\n",
      "Probability threshold: 0.4400\n",
      "Probability threshold: 0.4500\n",
      "Probability threshold: 0.4600\n",
      "Probability threshold: 0.4700\n",
      "Probability threshold: 0.4800\n",
      "Probability threshold: 0.4900\n"
     ]
    },
    {
     "name": "stderr",
     "output_type": "stream",
     "text": [
      "/home/zhongyiyuan/volpick/volpick/model/eval_taks0.py:525: PerformanceWarning: DataFrame is highly fragmented.  This is usually the result of calling `frame.insert` many times, which has poor performance.  Consider joining all columns at once using pd.concat(axis=1) instead. To get a de-fragmented frame, use `newframe = frame.copy()`\n",
      "  task_targets[f\"s_pred_sample_thr{prob_thre:.4f}\"] = s_idxs_predicted\n"
     ]
    },
    {
     "name": "stdout",
     "output_type": "stream",
     "text": [
      "Probability threshold: 0.5000\n"
     ]
    },
    {
     "name": "stderr",
     "output_type": "stream",
     "text": [
      "/home/zhongyiyuan/volpick/volpick/model/eval_taks0.py:524: PerformanceWarning: DataFrame is highly fragmented.  This is usually the result of calling `frame.insert` many times, which has poor performance.  Consider joining all columns at once using pd.concat(axis=1) instead. To get a de-fragmented frame, use `newframe = frame.copy()`\n",
      "  task_targets[f\"p_pred_sample_thr{prob_thre:.4f}\"] = p_idxs_predicted\n",
      "/home/zhongyiyuan/volpick/volpick/model/eval_taks0.py:525: PerformanceWarning: DataFrame is highly fragmented.  This is usually the result of calling `frame.insert` many times, which has poor performance.  Consider joining all columns at once using pd.concat(axis=1) instead. To get a de-fragmented frame, use `newframe = frame.copy()`\n",
      "  task_targets[f\"s_pred_sample_thr{prob_thre:.4f}\"] = s_idxs_predicted\n"
     ]
    },
    {
     "name": "stdout",
     "output_type": "stream",
     "text": [
      "Probability threshold: 0.5100\n"
     ]
    },
    {
     "name": "stderr",
     "output_type": "stream",
     "text": [
      "/home/zhongyiyuan/volpick/volpick/model/eval_taks0.py:524: PerformanceWarning: DataFrame is highly fragmented.  This is usually the result of calling `frame.insert` many times, which has poor performance.  Consider joining all columns at once using pd.concat(axis=1) instead. To get a de-fragmented frame, use `newframe = frame.copy()`\n",
      "  task_targets[f\"p_pred_sample_thr{prob_thre:.4f}\"] = p_idxs_predicted\n",
      "/home/zhongyiyuan/volpick/volpick/model/eval_taks0.py:525: PerformanceWarning: DataFrame is highly fragmented.  This is usually the result of calling `frame.insert` many times, which has poor performance.  Consider joining all columns at once using pd.concat(axis=1) instead. To get a de-fragmented frame, use `newframe = frame.copy()`\n",
      "  task_targets[f\"s_pred_sample_thr{prob_thre:.4f}\"] = s_idxs_predicted\n"
     ]
    },
    {
     "name": "stdout",
     "output_type": "stream",
     "text": [
      "Probability threshold: 0.5200\n"
     ]
    },
    {
     "name": "stderr",
     "output_type": "stream",
     "text": [
      "/home/zhongyiyuan/volpick/volpick/model/eval_taks0.py:524: PerformanceWarning: DataFrame is highly fragmented.  This is usually the result of calling `frame.insert` many times, which has poor performance.  Consider joining all columns at once using pd.concat(axis=1) instead. To get a de-fragmented frame, use `newframe = frame.copy()`\n",
      "  task_targets[f\"p_pred_sample_thr{prob_thre:.4f}\"] = p_idxs_predicted\n",
      "/home/zhongyiyuan/volpick/volpick/model/eval_taks0.py:525: PerformanceWarning: DataFrame is highly fragmented.  This is usually the result of calling `frame.insert` many times, which has poor performance.  Consider joining all columns at once using pd.concat(axis=1) instead. To get a de-fragmented frame, use `newframe = frame.copy()`\n",
      "  task_targets[f\"s_pred_sample_thr{prob_thre:.4f}\"] = s_idxs_predicted\n"
     ]
    },
    {
     "name": "stdout",
     "output_type": "stream",
     "text": [
      "Probability threshold: 0.5300\n"
     ]
    },
    {
     "name": "stderr",
     "output_type": "stream",
     "text": [
      "/home/zhongyiyuan/volpick/volpick/model/eval_taks0.py:524: PerformanceWarning: DataFrame is highly fragmented.  This is usually the result of calling `frame.insert` many times, which has poor performance.  Consider joining all columns at once using pd.concat(axis=1) instead. To get a de-fragmented frame, use `newframe = frame.copy()`\n",
      "  task_targets[f\"p_pred_sample_thr{prob_thre:.4f}\"] = p_idxs_predicted\n",
      "/home/zhongyiyuan/volpick/volpick/model/eval_taks0.py:525: PerformanceWarning: DataFrame is highly fragmented.  This is usually the result of calling `frame.insert` many times, which has poor performance.  Consider joining all columns at once using pd.concat(axis=1) instead. To get a de-fragmented frame, use `newframe = frame.copy()`\n",
      "  task_targets[f\"s_pred_sample_thr{prob_thre:.4f}\"] = s_idxs_predicted\n"
     ]
    },
    {
     "name": "stdout",
     "output_type": "stream",
     "text": [
      "Probability threshold: 0.5400\n"
     ]
    },
    {
     "name": "stderr",
     "output_type": "stream",
     "text": [
      "/home/zhongyiyuan/volpick/volpick/model/eval_taks0.py:524: PerformanceWarning: DataFrame is highly fragmented.  This is usually the result of calling `frame.insert` many times, which has poor performance.  Consider joining all columns at once using pd.concat(axis=1) instead. To get a de-fragmented frame, use `newframe = frame.copy()`\n",
      "  task_targets[f\"p_pred_sample_thr{prob_thre:.4f}\"] = p_idxs_predicted\n",
      "/home/zhongyiyuan/volpick/volpick/model/eval_taks0.py:525: PerformanceWarning: DataFrame is highly fragmented.  This is usually the result of calling `frame.insert` many times, which has poor performance.  Consider joining all columns at once using pd.concat(axis=1) instead. To get a de-fragmented frame, use `newframe = frame.copy()`\n",
      "  task_targets[f\"s_pred_sample_thr{prob_thre:.4f}\"] = s_idxs_predicted\n"
     ]
    },
    {
     "name": "stdout",
     "output_type": "stream",
     "text": [
      "Probability threshold: 0.5500\n"
     ]
    },
    {
     "name": "stderr",
     "output_type": "stream",
     "text": [
      "/home/zhongyiyuan/volpick/volpick/model/eval_taks0.py:524: PerformanceWarning: DataFrame is highly fragmented.  This is usually the result of calling `frame.insert` many times, which has poor performance.  Consider joining all columns at once using pd.concat(axis=1) instead. To get a de-fragmented frame, use `newframe = frame.copy()`\n",
      "  task_targets[f\"p_pred_sample_thr{prob_thre:.4f}\"] = p_idxs_predicted\n",
      "/home/zhongyiyuan/volpick/volpick/model/eval_taks0.py:525: PerformanceWarning: DataFrame is highly fragmented.  This is usually the result of calling `frame.insert` many times, which has poor performance.  Consider joining all columns at once using pd.concat(axis=1) instead. To get a de-fragmented frame, use `newframe = frame.copy()`\n",
      "  task_targets[f\"s_pred_sample_thr{prob_thre:.4f}\"] = s_idxs_predicted\n"
     ]
    },
    {
     "name": "stdout",
     "output_type": "stream",
     "text": [
      "Probability threshold: 0.5600\n"
     ]
    },
    {
     "name": "stderr",
     "output_type": "stream",
     "text": [
      "/home/zhongyiyuan/volpick/volpick/model/eval_taks0.py:524: PerformanceWarning: DataFrame is highly fragmented.  This is usually the result of calling `frame.insert` many times, which has poor performance.  Consider joining all columns at once using pd.concat(axis=1) instead. To get a de-fragmented frame, use `newframe = frame.copy()`\n",
      "  task_targets[f\"p_pred_sample_thr{prob_thre:.4f}\"] = p_idxs_predicted\n",
      "/home/zhongyiyuan/volpick/volpick/model/eval_taks0.py:525: PerformanceWarning: DataFrame is highly fragmented.  This is usually the result of calling `frame.insert` many times, which has poor performance.  Consider joining all columns at once using pd.concat(axis=1) instead. To get a de-fragmented frame, use `newframe = frame.copy()`\n",
      "  task_targets[f\"s_pred_sample_thr{prob_thre:.4f}\"] = s_idxs_predicted\n"
     ]
    },
    {
     "name": "stdout",
     "output_type": "stream",
     "text": [
      "Probability threshold: 0.5700\n"
     ]
    },
    {
     "name": "stderr",
     "output_type": "stream",
     "text": [
      "/home/zhongyiyuan/volpick/volpick/model/eval_taks0.py:524: PerformanceWarning: DataFrame is highly fragmented.  This is usually the result of calling `frame.insert` many times, which has poor performance.  Consider joining all columns at once using pd.concat(axis=1) instead. To get a de-fragmented frame, use `newframe = frame.copy()`\n",
      "  task_targets[f\"p_pred_sample_thr{prob_thre:.4f}\"] = p_idxs_predicted\n",
      "/home/zhongyiyuan/volpick/volpick/model/eval_taks0.py:525: PerformanceWarning: DataFrame is highly fragmented.  This is usually the result of calling `frame.insert` many times, which has poor performance.  Consider joining all columns at once using pd.concat(axis=1) instead. To get a de-fragmented frame, use `newframe = frame.copy()`\n",
      "  task_targets[f\"s_pred_sample_thr{prob_thre:.4f}\"] = s_idxs_predicted\n"
     ]
    },
    {
     "name": "stdout",
     "output_type": "stream",
     "text": [
      "Probability threshold: 0.5800\n"
     ]
    },
    {
     "name": "stderr",
     "output_type": "stream",
     "text": [
      "/home/zhongyiyuan/volpick/volpick/model/eval_taks0.py:524: PerformanceWarning: DataFrame is highly fragmented.  This is usually the result of calling `frame.insert` many times, which has poor performance.  Consider joining all columns at once using pd.concat(axis=1) instead. To get a de-fragmented frame, use `newframe = frame.copy()`\n",
      "  task_targets[f\"p_pred_sample_thr{prob_thre:.4f}\"] = p_idxs_predicted\n",
      "/home/zhongyiyuan/volpick/volpick/model/eval_taks0.py:525: PerformanceWarning: DataFrame is highly fragmented.  This is usually the result of calling `frame.insert` many times, which has poor performance.  Consider joining all columns at once using pd.concat(axis=1) instead. To get a de-fragmented frame, use `newframe = frame.copy()`\n",
      "  task_targets[f\"s_pred_sample_thr{prob_thre:.4f}\"] = s_idxs_predicted\n"
     ]
    },
    {
     "name": "stdout",
     "output_type": "stream",
     "text": [
      "Probability threshold: 0.5900\n"
     ]
    },
    {
     "name": "stderr",
     "output_type": "stream",
     "text": [
      "/home/zhongyiyuan/volpick/volpick/model/eval_taks0.py:524: PerformanceWarning: DataFrame is highly fragmented.  This is usually the result of calling `frame.insert` many times, which has poor performance.  Consider joining all columns at once using pd.concat(axis=1) instead. To get a de-fragmented frame, use `newframe = frame.copy()`\n",
      "  task_targets[f\"p_pred_sample_thr{prob_thre:.4f}\"] = p_idxs_predicted\n",
      "/home/zhongyiyuan/volpick/volpick/model/eval_taks0.py:525: PerformanceWarning: DataFrame is highly fragmented.  This is usually the result of calling `frame.insert` many times, which has poor performance.  Consider joining all columns at once using pd.concat(axis=1) instead. To get a de-fragmented frame, use `newframe = frame.copy()`\n",
      "  task_targets[f\"s_pred_sample_thr{prob_thre:.4f}\"] = s_idxs_predicted\n"
     ]
    },
    {
     "name": "stdout",
     "output_type": "stream",
     "text": [
      "Probability threshold: 0.6000\n"
     ]
    },
    {
     "name": "stderr",
     "output_type": "stream",
     "text": [
      "/home/zhongyiyuan/volpick/volpick/model/eval_taks0.py:524: PerformanceWarning: DataFrame is highly fragmented.  This is usually the result of calling `frame.insert` many times, which has poor performance.  Consider joining all columns at once using pd.concat(axis=1) instead. To get a de-fragmented frame, use `newframe = frame.copy()`\n",
      "  task_targets[f\"p_pred_sample_thr{prob_thre:.4f}\"] = p_idxs_predicted\n",
      "/home/zhongyiyuan/volpick/volpick/model/eval_taks0.py:525: PerformanceWarning: DataFrame is highly fragmented.  This is usually the result of calling `frame.insert` many times, which has poor performance.  Consider joining all columns at once using pd.concat(axis=1) instead. To get a de-fragmented frame, use `newframe = frame.copy()`\n",
      "  task_targets[f\"s_pred_sample_thr{prob_thre:.4f}\"] = s_idxs_predicted\n"
     ]
    }
   ],
   "source": [
    "tp_thre = 0.5\n",
    "# target_path_list = [targets_path]\n",
    "# dataset_list = [data_instance]\n",
    "for model_name, model in model_dict.items():\n",
    "    if model_name != \"org_pn\":\n",
    "        print(model_name)\n",
    "        eval_task0(\n",
    "            dev_test_set=data_instance,\n",
    "            model=model,\n",
    "            exp_name=model_name,\n",
    "            targets_path=targets_path,\n",
    "            root_save_dir=\"/home/zhongyiyuan/volpick/model_training/Test_INSTANCE\",\n",
    "            prob_thres=np.arange(0.01, 0.61, 0.01),\n",
    "            num_workers=16,\n",
    "            batchsize=2048,\n",
    "            num_test_run=-1,\n",
    "            output_remark=\"pred\",\n",
    "            tp_thre=tp_thre,\n",
    "            sets=[\"dev\"],\n",
    "            # sets=[\"train\", \"dev\",\"test\"],\n",
    "            # append_to_file=True,\n",
    "            data_norm_type=model.norm,\n",
    "        )\n",
    "    else:\n",
    "        eval_task0(\n",
    "            dev_test_set=data_instance_ENZ,\n",
    "            model=model,\n",
    "            exp_name=model_name,\n",
    "            targets_path=targets_path,\n",
    "            root_save_dir=\"/home/zhongyiyuan/volpick/model_training/Test_INSTANCE\",\n",
    "            prob_thres=np.concatenate(\n",
    "                [np.array([0.001, 0.005, 0.007, 0.008]), np.arange(0.01, 0.61, 0.01)]\n",
    "            ),\n",
    "            num_workers=16,\n",
    "            batchsize=2048,\n",
    "            num_test_run=-1,\n",
    "            output_remark=\"pred\",\n",
    "            tp_thre=tp_thre,\n",
    "            sets=[\"dev\"],\n",
    "            # sets=[\"train\", \"dev\",\"test\"],\n",
    "            # append_to_file=True,\n",
    "            data_norm_type=model.norm,\n",
    "        )        \n",
    "\n",
    "# eval_task0(\n",
    "#     dev_test_set=data_instance_ENZ,\n",
    "#     model=org_pn,\n",
    "#     exp_name=\"org_pn\",\n",
    "#     targets_path=targets_path,\n",
    "#     root_save_dir=\"/home/zhongyiyuan/volpick/model_training/Test_INSTANCE\",\n",
    "#     prob_thres=np.arange(0.01, 0.61, 0.01),\n",
    "#     num_workers=16,\n",
    "#     batchsize=2048,\n",
    "#     num_test_run=-1,\n",
    "#     output_remark=\"pred\",\n",
    "#     tp_thre=tp_thre,\n",
    "#     sets=[\"dev\"],\n",
    "#     # sets=[\"train\", \"dev\",\"test\"],\n",
    "#     # append_to_file=True,\n",
    "#     data_norm_type=model.norm,\n",
    "# )"
   ]
  },
  {
   "cell_type": "code",
   "execution_count": 40,
   "metadata": {},
   "outputs": [
    {
     "name": "stdout",
     "output_type": "stream",
     "text": [
      "org_pn\n"
     ]
    }
   ],
   "source": [
    "for model_name, model in model_dict.items():\n",
    "    if model_name == \"org_pn\":\n",
    "        print(model_name)"
   ]
  },
  {
   "cell_type": "code",
   "execution_count": 37,
   "metadata": {},
   "outputs": [
    {
     "name": "stdout",
     "output_type": "stream",
     "text": [
      "org_pn\n",
      "/home/zhongyiyuan/volpick/model_training/Test_INSTANCE/instance_pred/task0/org_pn exists\n"
     ]
    },
    {
     "name": "stderr",
     "output_type": "stream",
     "text": [
      "WARNING:root:Overwriting noise trace_names to allow correct identification\n"
     ]
    },
    {
     "name": "stdout",
     "output_type": "stream",
     "text": [
      "Starting set: dev\n"
     ]
    },
    {
     "name": "stderr",
     "output_type": "stream",
     "text": [
      "Preloading waveforms: 100%|██████████| 115027/115027 [00:08<00:00, 12836.70it/s]\n",
      "Preloading waveforms: 100%|██████████| 13251/13251 [00:01<00:00, 9981.99it/s]\n"
     ]
    },
    {
     "name": "stdout",
     "output_type": "stream",
     "text": [
      "Number of examples in dev: 128277\n",
      "115026 earthquake traces\n",
      "13251 noise traces\n",
      "Probability threshold: 0.0010\n",
      "Probability threshold: 0.0050\n",
      "Probability threshold: 0.0070\n",
      "Probability threshold: 0.0080\n",
      "Probability threshold: 0.0100\n",
      "Probability threshold: 0.0200\n",
      "Probability threshold: 0.0300\n",
      "Probability threshold: 0.0400\n",
      "Probability threshold: 0.0500\n",
      "Probability threshold: 0.0600\n",
      "Probability threshold: 0.0700\n",
      "Probability threshold: 0.0800\n",
      "Probability threshold: 0.0900\n",
      "Probability threshold: 0.1000\n",
      "Probability threshold: 0.1100\n",
      "Probability threshold: 0.1200\n",
      "Probability threshold: 0.1300\n",
      "Probability threshold: 0.1400\n",
      "Probability threshold: 0.1500\n",
      "Probability threshold: 0.1600\n",
      "Probability threshold: 0.1700\n",
      "Probability threshold: 0.1800\n",
      "Probability threshold: 0.1900\n",
      "Probability threshold: 0.2000\n",
      "Probability threshold: 0.2100\n",
      "Probability threshold: 0.2200\n",
      "Probability threshold: 0.2300\n",
      "Probability threshold: 0.2400\n",
      "Probability threshold: 0.2500\n",
      "Probability threshold: 0.2600\n",
      "Probability threshold: 0.2700\n",
      "Probability threshold: 0.2800\n",
      "Probability threshold: 0.2900\n",
      "Probability threshold: 0.3000\n",
      "Probability threshold: 0.3100\n",
      "Probability threshold: 0.3200\n",
      "Probability threshold: 0.3300\n",
      "Probability threshold: 0.3400\n",
      "Probability threshold: 0.3500\n",
      "Probability threshold: 0.3600\n",
      "Probability threshold: 0.3700\n",
      "Probability threshold: 0.3800\n",
      "Probability threshold: 0.3900\n",
      "Probability threshold: 0.4000\n",
      "Probability threshold: 0.4100\n",
      "Probability threshold: 0.4200\n",
      "Probability threshold: 0.4300\n",
      "Probability threshold: 0.4400\n",
      "Probability threshold: 0.4500\n"
     ]
    },
    {
     "name": "stderr",
     "output_type": "stream",
     "text": [
      "/home/zhongyiyuan/volpick/volpick/model/eval_taks0.py:525: PerformanceWarning: DataFrame is highly fragmented.  This is usually the result of calling `frame.insert` many times, which has poor performance.  Consider joining all columns at once using pd.concat(axis=1) instead. To get a de-fragmented frame, use `newframe = frame.copy()`\n",
      "  task_targets[f\"s_pred_sample_thr{prob_thre:.4f}\"] = s_idxs_predicted\n"
     ]
    },
    {
     "name": "stdout",
     "output_type": "stream",
     "text": [
      "Probability threshold: 0.4600\n"
     ]
    },
    {
     "name": "stderr",
     "output_type": "stream",
     "text": [
      "/home/zhongyiyuan/volpick/volpick/model/eval_taks0.py:524: PerformanceWarning: DataFrame is highly fragmented.  This is usually the result of calling `frame.insert` many times, which has poor performance.  Consider joining all columns at once using pd.concat(axis=1) instead. To get a de-fragmented frame, use `newframe = frame.copy()`\n",
      "  task_targets[f\"p_pred_sample_thr{prob_thre:.4f}\"] = p_idxs_predicted\n",
      "/home/zhongyiyuan/volpick/volpick/model/eval_taks0.py:525: PerformanceWarning: DataFrame is highly fragmented.  This is usually the result of calling `frame.insert` many times, which has poor performance.  Consider joining all columns at once using pd.concat(axis=1) instead. To get a de-fragmented frame, use `newframe = frame.copy()`\n",
      "  task_targets[f\"s_pred_sample_thr{prob_thre:.4f}\"] = s_idxs_predicted\n"
     ]
    },
    {
     "name": "stdout",
     "output_type": "stream",
     "text": [
      "Probability threshold: 0.4700\n"
     ]
    },
    {
     "name": "stderr",
     "output_type": "stream",
     "text": [
      "/home/zhongyiyuan/volpick/volpick/model/eval_taks0.py:524: PerformanceWarning: DataFrame is highly fragmented.  This is usually the result of calling `frame.insert` many times, which has poor performance.  Consider joining all columns at once using pd.concat(axis=1) instead. To get a de-fragmented frame, use `newframe = frame.copy()`\n",
      "  task_targets[f\"p_pred_sample_thr{prob_thre:.4f}\"] = p_idxs_predicted\n",
      "/home/zhongyiyuan/volpick/volpick/model/eval_taks0.py:525: PerformanceWarning: DataFrame is highly fragmented.  This is usually the result of calling `frame.insert` many times, which has poor performance.  Consider joining all columns at once using pd.concat(axis=1) instead. To get a de-fragmented frame, use `newframe = frame.copy()`\n",
      "  task_targets[f\"s_pred_sample_thr{prob_thre:.4f}\"] = s_idxs_predicted\n"
     ]
    },
    {
     "name": "stdout",
     "output_type": "stream",
     "text": [
      "Probability threshold: 0.4800\n"
     ]
    },
    {
     "name": "stderr",
     "output_type": "stream",
     "text": [
      "/home/zhongyiyuan/volpick/volpick/model/eval_taks0.py:524: PerformanceWarning: DataFrame is highly fragmented.  This is usually the result of calling `frame.insert` many times, which has poor performance.  Consider joining all columns at once using pd.concat(axis=1) instead. To get a de-fragmented frame, use `newframe = frame.copy()`\n",
      "  task_targets[f\"p_pred_sample_thr{prob_thre:.4f}\"] = p_idxs_predicted\n",
      "/home/zhongyiyuan/volpick/volpick/model/eval_taks0.py:525: PerformanceWarning: DataFrame is highly fragmented.  This is usually the result of calling `frame.insert` many times, which has poor performance.  Consider joining all columns at once using pd.concat(axis=1) instead. To get a de-fragmented frame, use `newframe = frame.copy()`\n",
      "  task_targets[f\"s_pred_sample_thr{prob_thre:.4f}\"] = s_idxs_predicted\n"
     ]
    },
    {
     "name": "stdout",
     "output_type": "stream",
     "text": [
      "Probability threshold: 0.4900\n"
     ]
    },
    {
     "name": "stderr",
     "output_type": "stream",
     "text": [
      "/home/zhongyiyuan/volpick/volpick/model/eval_taks0.py:524: PerformanceWarning: DataFrame is highly fragmented.  This is usually the result of calling `frame.insert` many times, which has poor performance.  Consider joining all columns at once using pd.concat(axis=1) instead. To get a de-fragmented frame, use `newframe = frame.copy()`\n",
      "  task_targets[f\"p_pred_sample_thr{prob_thre:.4f}\"] = p_idxs_predicted\n",
      "/home/zhongyiyuan/volpick/volpick/model/eval_taks0.py:525: PerformanceWarning: DataFrame is highly fragmented.  This is usually the result of calling `frame.insert` many times, which has poor performance.  Consider joining all columns at once using pd.concat(axis=1) instead. To get a de-fragmented frame, use `newframe = frame.copy()`\n",
      "  task_targets[f\"s_pred_sample_thr{prob_thre:.4f}\"] = s_idxs_predicted\n"
     ]
    },
    {
     "name": "stdout",
     "output_type": "stream",
     "text": [
      "Probability threshold: 0.5000\n"
     ]
    },
    {
     "name": "stderr",
     "output_type": "stream",
     "text": [
      "/home/zhongyiyuan/volpick/volpick/model/eval_taks0.py:524: PerformanceWarning: DataFrame is highly fragmented.  This is usually the result of calling `frame.insert` many times, which has poor performance.  Consider joining all columns at once using pd.concat(axis=1) instead. To get a de-fragmented frame, use `newframe = frame.copy()`\n",
      "  task_targets[f\"p_pred_sample_thr{prob_thre:.4f}\"] = p_idxs_predicted\n",
      "/home/zhongyiyuan/volpick/volpick/model/eval_taks0.py:525: PerformanceWarning: DataFrame is highly fragmented.  This is usually the result of calling `frame.insert` many times, which has poor performance.  Consider joining all columns at once using pd.concat(axis=1) instead. To get a de-fragmented frame, use `newframe = frame.copy()`\n",
      "  task_targets[f\"s_pred_sample_thr{prob_thre:.4f}\"] = s_idxs_predicted\n"
     ]
    },
    {
     "name": "stdout",
     "output_type": "stream",
     "text": [
      "Probability threshold: 0.5100\n"
     ]
    },
    {
     "name": "stderr",
     "output_type": "stream",
     "text": [
      "/home/zhongyiyuan/volpick/volpick/model/eval_taks0.py:524: PerformanceWarning: DataFrame is highly fragmented.  This is usually the result of calling `frame.insert` many times, which has poor performance.  Consider joining all columns at once using pd.concat(axis=1) instead. To get a de-fragmented frame, use `newframe = frame.copy()`\n",
      "  task_targets[f\"p_pred_sample_thr{prob_thre:.4f}\"] = p_idxs_predicted\n",
      "/home/zhongyiyuan/volpick/volpick/model/eval_taks0.py:525: PerformanceWarning: DataFrame is highly fragmented.  This is usually the result of calling `frame.insert` many times, which has poor performance.  Consider joining all columns at once using pd.concat(axis=1) instead. To get a de-fragmented frame, use `newframe = frame.copy()`\n",
      "  task_targets[f\"s_pred_sample_thr{prob_thre:.4f}\"] = s_idxs_predicted\n"
     ]
    },
    {
     "name": "stdout",
     "output_type": "stream",
     "text": [
      "Probability threshold: 0.5200\n"
     ]
    },
    {
     "name": "stderr",
     "output_type": "stream",
     "text": [
      "/home/zhongyiyuan/volpick/volpick/model/eval_taks0.py:524: PerformanceWarning: DataFrame is highly fragmented.  This is usually the result of calling `frame.insert` many times, which has poor performance.  Consider joining all columns at once using pd.concat(axis=1) instead. To get a de-fragmented frame, use `newframe = frame.copy()`\n",
      "  task_targets[f\"p_pred_sample_thr{prob_thre:.4f}\"] = p_idxs_predicted\n",
      "/home/zhongyiyuan/volpick/volpick/model/eval_taks0.py:525: PerformanceWarning: DataFrame is highly fragmented.  This is usually the result of calling `frame.insert` many times, which has poor performance.  Consider joining all columns at once using pd.concat(axis=1) instead. To get a de-fragmented frame, use `newframe = frame.copy()`\n",
      "  task_targets[f\"s_pred_sample_thr{prob_thre:.4f}\"] = s_idxs_predicted\n"
     ]
    },
    {
     "name": "stdout",
     "output_type": "stream",
     "text": [
      "Probability threshold: 0.5300\n"
     ]
    },
    {
     "name": "stderr",
     "output_type": "stream",
     "text": [
      "/home/zhongyiyuan/volpick/volpick/model/eval_taks0.py:524: PerformanceWarning: DataFrame is highly fragmented.  This is usually the result of calling `frame.insert` many times, which has poor performance.  Consider joining all columns at once using pd.concat(axis=1) instead. To get a de-fragmented frame, use `newframe = frame.copy()`\n",
      "  task_targets[f\"p_pred_sample_thr{prob_thre:.4f}\"] = p_idxs_predicted\n",
      "/home/zhongyiyuan/volpick/volpick/model/eval_taks0.py:525: PerformanceWarning: DataFrame is highly fragmented.  This is usually the result of calling `frame.insert` many times, which has poor performance.  Consider joining all columns at once using pd.concat(axis=1) instead. To get a de-fragmented frame, use `newframe = frame.copy()`\n",
      "  task_targets[f\"s_pred_sample_thr{prob_thre:.4f}\"] = s_idxs_predicted\n"
     ]
    },
    {
     "name": "stdout",
     "output_type": "stream",
     "text": [
      "Probability threshold: 0.5400\n"
     ]
    },
    {
     "name": "stderr",
     "output_type": "stream",
     "text": [
      "/home/zhongyiyuan/volpick/volpick/model/eval_taks0.py:524: PerformanceWarning: DataFrame is highly fragmented.  This is usually the result of calling `frame.insert` many times, which has poor performance.  Consider joining all columns at once using pd.concat(axis=1) instead. To get a de-fragmented frame, use `newframe = frame.copy()`\n",
      "  task_targets[f\"p_pred_sample_thr{prob_thre:.4f}\"] = p_idxs_predicted\n",
      "/home/zhongyiyuan/volpick/volpick/model/eval_taks0.py:525: PerformanceWarning: DataFrame is highly fragmented.  This is usually the result of calling `frame.insert` many times, which has poor performance.  Consider joining all columns at once using pd.concat(axis=1) instead. To get a de-fragmented frame, use `newframe = frame.copy()`\n",
      "  task_targets[f\"s_pred_sample_thr{prob_thre:.4f}\"] = s_idxs_predicted\n"
     ]
    },
    {
     "name": "stdout",
     "output_type": "stream",
     "text": [
      "Probability threshold: 0.5500\n"
     ]
    },
    {
     "name": "stderr",
     "output_type": "stream",
     "text": [
      "/home/zhongyiyuan/volpick/volpick/model/eval_taks0.py:524: PerformanceWarning: DataFrame is highly fragmented.  This is usually the result of calling `frame.insert` many times, which has poor performance.  Consider joining all columns at once using pd.concat(axis=1) instead. To get a de-fragmented frame, use `newframe = frame.copy()`\n",
      "  task_targets[f\"p_pred_sample_thr{prob_thre:.4f}\"] = p_idxs_predicted\n",
      "/home/zhongyiyuan/volpick/volpick/model/eval_taks0.py:525: PerformanceWarning: DataFrame is highly fragmented.  This is usually the result of calling `frame.insert` many times, which has poor performance.  Consider joining all columns at once using pd.concat(axis=1) instead. To get a de-fragmented frame, use `newframe = frame.copy()`\n",
      "  task_targets[f\"s_pred_sample_thr{prob_thre:.4f}\"] = s_idxs_predicted\n"
     ]
    },
    {
     "name": "stdout",
     "output_type": "stream",
     "text": [
      "Probability threshold: 0.5600\n"
     ]
    },
    {
     "name": "stderr",
     "output_type": "stream",
     "text": [
      "/home/zhongyiyuan/volpick/volpick/model/eval_taks0.py:524: PerformanceWarning: DataFrame is highly fragmented.  This is usually the result of calling `frame.insert` many times, which has poor performance.  Consider joining all columns at once using pd.concat(axis=1) instead. To get a de-fragmented frame, use `newframe = frame.copy()`\n",
      "  task_targets[f\"p_pred_sample_thr{prob_thre:.4f}\"] = p_idxs_predicted\n",
      "/home/zhongyiyuan/volpick/volpick/model/eval_taks0.py:525: PerformanceWarning: DataFrame is highly fragmented.  This is usually the result of calling `frame.insert` many times, which has poor performance.  Consider joining all columns at once using pd.concat(axis=1) instead. To get a de-fragmented frame, use `newframe = frame.copy()`\n",
      "  task_targets[f\"s_pred_sample_thr{prob_thre:.4f}\"] = s_idxs_predicted\n"
     ]
    },
    {
     "name": "stdout",
     "output_type": "stream",
     "text": [
      "Probability threshold: 0.5700\n"
     ]
    },
    {
     "name": "stderr",
     "output_type": "stream",
     "text": [
      "/home/zhongyiyuan/volpick/volpick/model/eval_taks0.py:524: PerformanceWarning: DataFrame is highly fragmented.  This is usually the result of calling `frame.insert` many times, which has poor performance.  Consider joining all columns at once using pd.concat(axis=1) instead. To get a de-fragmented frame, use `newframe = frame.copy()`\n",
      "  task_targets[f\"p_pred_sample_thr{prob_thre:.4f}\"] = p_idxs_predicted\n",
      "/home/zhongyiyuan/volpick/volpick/model/eval_taks0.py:525: PerformanceWarning: DataFrame is highly fragmented.  This is usually the result of calling `frame.insert` many times, which has poor performance.  Consider joining all columns at once using pd.concat(axis=1) instead. To get a de-fragmented frame, use `newframe = frame.copy()`\n",
      "  task_targets[f\"s_pred_sample_thr{prob_thre:.4f}\"] = s_idxs_predicted\n"
     ]
    },
    {
     "name": "stdout",
     "output_type": "stream",
     "text": [
      "Probability threshold: 0.5800\n"
     ]
    },
    {
     "name": "stderr",
     "output_type": "stream",
     "text": [
      "/home/zhongyiyuan/volpick/volpick/model/eval_taks0.py:524: PerformanceWarning: DataFrame is highly fragmented.  This is usually the result of calling `frame.insert` many times, which has poor performance.  Consider joining all columns at once using pd.concat(axis=1) instead. To get a de-fragmented frame, use `newframe = frame.copy()`\n",
      "  task_targets[f\"p_pred_sample_thr{prob_thre:.4f}\"] = p_idxs_predicted\n",
      "/home/zhongyiyuan/volpick/volpick/model/eval_taks0.py:525: PerformanceWarning: DataFrame is highly fragmented.  This is usually the result of calling `frame.insert` many times, which has poor performance.  Consider joining all columns at once using pd.concat(axis=1) instead. To get a de-fragmented frame, use `newframe = frame.copy()`\n",
      "  task_targets[f\"s_pred_sample_thr{prob_thre:.4f}\"] = s_idxs_predicted\n"
     ]
    },
    {
     "name": "stdout",
     "output_type": "stream",
     "text": [
      "Probability threshold: 0.5900\n"
     ]
    },
    {
     "name": "stderr",
     "output_type": "stream",
     "text": [
      "/home/zhongyiyuan/volpick/volpick/model/eval_taks0.py:524: PerformanceWarning: DataFrame is highly fragmented.  This is usually the result of calling `frame.insert` many times, which has poor performance.  Consider joining all columns at once using pd.concat(axis=1) instead. To get a de-fragmented frame, use `newframe = frame.copy()`\n",
      "  task_targets[f\"p_pred_sample_thr{prob_thre:.4f}\"] = p_idxs_predicted\n",
      "/home/zhongyiyuan/volpick/volpick/model/eval_taks0.py:525: PerformanceWarning: DataFrame is highly fragmented.  This is usually the result of calling `frame.insert` many times, which has poor performance.  Consider joining all columns at once using pd.concat(axis=1) instead. To get a de-fragmented frame, use `newframe = frame.copy()`\n",
      "  task_targets[f\"s_pred_sample_thr{prob_thre:.4f}\"] = s_idxs_predicted\n"
     ]
    },
    {
     "name": "stdout",
     "output_type": "stream",
     "text": [
      "Probability threshold: 0.6000\n"
     ]
    },
    {
     "name": "stderr",
     "output_type": "stream",
     "text": [
      "/home/zhongyiyuan/volpick/volpick/model/eval_taks0.py:524: PerformanceWarning: DataFrame is highly fragmented.  This is usually the result of calling `frame.insert` many times, which has poor performance.  Consider joining all columns at once using pd.concat(axis=1) instead. To get a de-fragmented frame, use `newframe = frame.copy()`\n",
      "  task_targets[f\"p_pred_sample_thr{prob_thre:.4f}\"] = p_idxs_predicted\n",
      "/home/zhongyiyuan/volpick/volpick/model/eval_taks0.py:525: PerformanceWarning: DataFrame is highly fragmented.  This is usually the result of calling `frame.insert` many times, which has poor performance.  Consider joining all columns at once using pd.concat(axis=1) instead. To get a de-fragmented frame, use `newframe = frame.copy()`\n",
      "  task_targets[f\"s_pred_sample_thr{prob_thre:.4f}\"] = s_idxs_predicted\n"
     ]
    }
   ],
   "source": [
    "for model_name, model in model_dict.items():\n",
    "    if model_name == \"org_pn\":\n",
    "        print(model_name)\n",
    "        eval_task0(\n",
    "            dev_test_set=data_instance_ENZ,\n",
    "            model=model,\n",
    "            exp_name=model_name,\n",
    "            targets_path=targets_path,\n",
    "            root_save_dir=\"/home/zhongyiyuan/volpick/model_training/Test_INSTANCE\",\n",
    "            prob_thres=np.concatenate(\n",
    "                [np.array([0.001, 0.005, 0.007, 0.008]), np.arange(0.01, 0.61, 0.01)]\n",
    "            ),\n",
    "            num_workers=16,\n",
    "            batchsize=2048,\n",
    "            num_test_run=-1,\n",
    "            output_remark=\"pred\",\n",
    "            tp_thre=tp_thre,\n",
    "            sets=[\"dev\"],\n",
    "            # sets=[\"train\", \"dev\",\"test\"],\n",
    "            # append_to_file=True,\n",
    "            data_norm_type=model.norm,\n",
    "        )"
   ]
  },
  {
   "cell_type": "code",
   "execution_count": 38,
   "metadata": {},
   "outputs": [
    {
     "name": "stdout",
     "output_type": "stream",
     "text": [
      "/home/zhongyiyuan/volpick/model_training/Test_INSTANCE/instance_pred/task0/vol_eqt\n",
      "/home/zhongyiyuan/volpick/model_training/Test_INSTANCE/instance_pred/task0/org_pn0\n",
      "/home/zhongyiyuan/volpick/model_training/Test_INSTANCE/instance_pred/task0/int_pn\n",
      "/home/zhongyiyuan/volpick/model_training/Test_INSTANCE/instance_pred/task0/org_eqt\n",
      "/home/zhongyiyuan/volpick/model_training/Test_INSTANCE/instance_pred/task0/vol_pn\n",
      "/home/zhongyiyuan/volpick/model_training/Test_INSTANCE/instance_pred/task0/org_pn\n",
      "/home/zhongyiyuan/volpick/model_training/Test_INSTANCE/instance_pred/task0/int_eqt\n"
     ]
    },
    {
     "data": {
      "text/html": [
       "<div>\n",
       "<style scoped>\n",
       "    .dataframe tbody tr th:only-of-type {\n",
       "        vertical-align: middle;\n",
       "    }\n",
       "\n",
       "    .dataframe tbody tr th {\n",
       "        vertical-align: top;\n",
       "    }\n",
       "\n",
       "    .dataframe thead th {\n",
       "        text-align: right;\n",
       "    }\n",
       "</style>\n",
       "<table border=\"1\" class=\"dataframe\">\n",
       "  <thead>\n",
       "    <tr style=\"text-align: right;\">\n",
       "      <th></th>\n",
       "      <th>exp_name</th>\n",
       "      <th>tp_thre</th>\n",
       "      <th>p_opt_prob_thre</th>\n",
       "      <th>s_opt_prob_thre</th>\n",
       "      <th>dev_p_TP</th>\n",
       "      <th>dev_p_FP</th>\n",
       "      <th>dev_p_FN</th>\n",
       "      <th>dev_p_precision</th>\n",
       "      <th>dev_p_recall</th>\n",
       "      <th>dev_p_F1score</th>\n",
       "      <th>...</th>\n",
       "      <th>dev_s_modified_std</th>\n",
       "      <th>dev_s_modified_RMSE</th>\n",
       "      <th>dev_s_modified_MAE</th>\n",
       "      <th>dev_s_modified_MAD</th>\n",
       "      <th>dev_s_modified_mean2</th>\n",
       "      <th>dev_s_modified_median2</th>\n",
       "      <th>dev_s_modified_std2</th>\n",
       "      <th>dev_s_modified_RMSE2</th>\n",
       "      <th>dev_s_modified_MAE2</th>\n",
       "      <th>dev_s_modified_MAD2</th>\n",
       "    </tr>\n",
       "  </thead>\n",
       "  <tbody>\n",
       "    <tr>\n",
       "      <th>0</th>\n",
       "      <td>vol_eqt</td>\n",
       "      <td>0.5</td>\n",
       "      <td>0.33</td>\n",
       "      <td>0.46</td>\n",
       "      <td>99066.0</td>\n",
       "      <td>8740.0</td>\n",
       "      <td>15960.0</td>\n",
       "      <td>0.918928</td>\n",
       "      <td>0.861249</td>\n",
       "      <td>0.889154</td>\n",
       "      <td>...</td>\n",
       "      <td>0.236678</td>\n",
       "      <td>0.248357</td>\n",
       "      <td>0.148053</td>\n",
       "      <td>0.08</td>\n",
       "      <td>0.071856</td>\n",
       "      <td>0.04</td>\n",
       "      <td>0.184256</td>\n",
       "      <td>0.197769</td>\n",
       "      <td>0.127562</td>\n",
       "      <td>0.07</td>\n",
       "    </tr>\n",
       "    <tr>\n",
       "      <th>1</th>\n",
       "      <td>org_pn0</td>\n",
       "      <td>0.5</td>\n",
       "      <td>0.01</td>\n",
       "      <td>0.01</td>\n",
       "      <td>67608.0</td>\n",
       "      <td>33145.0</td>\n",
       "      <td>47418.0</td>\n",
       "      <td>0.671027</td>\n",
       "      <td>0.587763</td>\n",
       "      <td>0.626641</td>\n",
       "      <td>...</td>\n",
       "      <td>0.340704</td>\n",
       "      <td>0.416674</td>\n",
       "      <td>0.289091</td>\n",
       "      <td>0.12</td>\n",
       "      <td>0.188145</td>\n",
       "      <td>0.14</td>\n",
       "      <td>0.232097</td>\n",
       "      <td>0.298774</td>\n",
       "      <td>0.216526</td>\n",
       "      <td>0.10</td>\n",
       "    </tr>\n",
       "    <tr>\n",
       "      <th>2</th>\n",
       "      <td>int_pn</td>\n",
       "      <td>0.5</td>\n",
       "      <td>0.29</td>\n",
       "      <td>0.26</td>\n",
       "      <td>103957.0</td>\n",
       "      <td>6126.0</td>\n",
       "      <td>11069.0</td>\n",
       "      <td>0.944351</td>\n",
       "      <td>0.903770</td>\n",
       "      <td>0.923615</td>\n",
       "      <td>...</td>\n",
       "      <td>0.214370</td>\n",
       "      <td>0.214373</td>\n",
       "      <td>0.123625</td>\n",
       "      <td>0.06</td>\n",
       "      <td>-0.000877</td>\n",
       "      <td>-0.01</td>\n",
       "      <td>0.177237</td>\n",
       "      <td>0.177238</td>\n",
       "      <td>0.110266</td>\n",
       "      <td>0.06</td>\n",
       "    </tr>\n",
       "    <tr>\n",
       "      <th>3</th>\n",
       "      <td>org_eqt</td>\n",
       "      <td>0.5</td>\n",
       "      <td>0.24</td>\n",
       "      <td>0.35</td>\n",
       "      <td>84851.0</td>\n",
       "      <td>38190.0</td>\n",
       "      <td>30175.0</td>\n",
       "      <td>0.689616</td>\n",
       "      <td>0.737668</td>\n",
       "      <td>0.712833</td>\n",
       "      <td>...</td>\n",
       "      <td>0.263819</td>\n",
       "      <td>0.277743</td>\n",
       "      <td>0.155034</td>\n",
       "      <td>0.07</td>\n",
       "      <td>0.075396</td>\n",
       "      <td>0.04</td>\n",
       "      <td>0.171523</td>\n",
       "      <td>0.187361</td>\n",
       "      <td>0.116545</td>\n",
       "      <td>0.06</td>\n",
       "    </tr>\n",
       "    <tr>\n",
       "      <th>4</th>\n",
       "      <td>vol_pn</td>\n",
       "      <td>0.5</td>\n",
       "      <td>0.41</td>\n",
       "      <td>0.57</td>\n",
       "      <td>96846.0</td>\n",
       "      <td>8865.0</td>\n",
       "      <td>18180.0</td>\n",
       "      <td>0.916139</td>\n",
       "      <td>0.841949</td>\n",
       "      <td>0.877479</td>\n",
       "      <td>...</td>\n",
       "      <td>0.237768</td>\n",
       "      <td>0.244004</td>\n",
       "      <td>0.138092</td>\n",
       "      <td>0.07</td>\n",
       "      <td>0.046001</td>\n",
       "      <td>0.02</td>\n",
       "      <td>0.179864</td>\n",
       "      <td>0.185652</td>\n",
       "      <td>0.115115</td>\n",
       "      <td>0.07</td>\n",
       "    </tr>\n",
       "    <tr>\n",
       "      <th>5</th>\n",
       "      <td>org_pn</td>\n",
       "      <td>0.5</td>\n",
       "      <td>0.42</td>\n",
       "      <td>0.49</td>\n",
       "      <td>96302.0</td>\n",
       "      <td>11030.0</td>\n",
       "      <td>18724.0</td>\n",
       "      <td>0.897235</td>\n",
       "      <td>0.837219</td>\n",
       "      <td>0.866189</td>\n",
       "      <td>...</td>\n",
       "      <td>0.283980</td>\n",
       "      <td>0.312722</td>\n",
       "      <td>0.191288</td>\n",
       "      <td>0.07</td>\n",
       "      <td>0.121334</td>\n",
       "      <td>0.08</td>\n",
       "      <td>0.179662</td>\n",
       "      <td>0.216795</td>\n",
       "      <td>0.145756</td>\n",
       "      <td>0.06</td>\n",
       "    </tr>\n",
       "    <tr>\n",
       "      <th>6</th>\n",
       "      <td>int_eqt</td>\n",
       "      <td>0.5</td>\n",
       "      <td>0.22</td>\n",
       "      <td>0.24</td>\n",
       "      <td>102804.0</td>\n",
       "      <td>6964.0</td>\n",
       "      <td>12222.0</td>\n",
       "      <td>0.936557</td>\n",
       "      <td>0.893746</td>\n",
       "      <td>0.914651</td>\n",
       "      <td>...</td>\n",
       "      <td>0.228203</td>\n",
       "      <td>0.232639</td>\n",
       "      <td>0.138956</td>\n",
       "      <td>0.08</td>\n",
       "      <td>0.040255</td>\n",
       "      <td>0.03</td>\n",
       "      <td>0.181715</td>\n",
       "      <td>0.186119</td>\n",
       "      <td>0.121223</td>\n",
       "      <td>0.07</td>\n",
       "    </tr>\n",
       "  </tbody>\n",
       "</table>\n",
       "<p>7 rows × 52 columns</p>\n",
       "</div>"
      ],
      "text/plain": [
       "  exp_name  tp_thre  p_opt_prob_thre  s_opt_prob_thre  dev_p_TP  dev_p_FP   \n",
       "0  vol_eqt      0.5             0.33             0.46   99066.0    8740.0  \\\n",
       "1  org_pn0      0.5             0.01             0.01   67608.0   33145.0   \n",
       "2   int_pn      0.5             0.29             0.26  103957.0    6126.0   \n",
       "3  org_eqt      0.5             0.24             0.35   84851.0   38190.0   \n",
       "4   vol_pn      0.5             0.41             0.57   96846.0    8865.0   \n",
       "5   org_pn      0.5             0.42             0.49   96302.0   11030.0   \n",
       "6  int_eqt      0.5             0.22             0.24  102804.0    6964.0   \n",
       "\n",
       "   dev_p_FN  dev_p_precision  dev_p_recall  dev_p_F1score  ...   \n",
       "0   15960.0         0.918928      0.861249       0.889154  ...  \\\n",
       "1   47418.0         0.671027      0.587763       0.626641  ...   \n",
       "2   11069.0         0.944351      0.903770       0.923615  ...   \n",
       "3   30175.0         0.689616      0.737668       0.712833  ...   \n",
       "4   18180.0         0.916139      0.841949       0.877479  ...   \n",
       "5   18724.0         0.897235      0.837219       0.866189  ...   \n",
       "6   12222.0         0.936557      0.893746       0.914651  ...   \n",
       "\n",
       "   dev_s_modified_std  dev_s_modified_RMSE  dev_s_modified_MAE   \n",
       "0            0.236678             0.248357            0.148053  \\\n",
       "1            0.340704             0.416674            0.289091   \n",
       "2            0.214370             0.214373            0.123625   \n",
       "3            0.263819             0.277743            0.155034   \n",
       "4            0.237768             0.244004            0.138092   \n",
       "5            0.283980             0.312722            0.191288   \n",
       "6            0.228203             0.232639            0.138956   \n",
       "\n",
       "   dev_s_modified_MAD  dev_s_modified_mean2  dev_s_modified_median2   \n",
       "0                0.08              0.071856                    0.04  \\\n",
       "1                0.12              0.188145                    0.14   \n",
       "2                0.06             -0.000877                   -0.01   \n",
       "3                0.07              0.075396                    0.04   \n",
       "4                0.07              0.046001                    0.02   \n",
       "5                0.07              0.121334                    0.08   \n",
       "6                0.08              0.040255                    0.03   \n",
       "\n",
       "   dev_s_modified_std2  dev_s_modified_RMSE2  dev_s_modified_MAE2   \n",
       "0             0.184256              0.197769             0.127562  \\\n",
       "1             0.232097              0.298774             0.216526   \n",
       "2             0.177237              0.177238             0.110266   \n",
       "3             0.171523              0.187361             0.116545   \n",
       "4             0.179864              0.185652             0.115115   \n",
       "5             0.179662              0.216795             0.145756   \n",
       "6             0.181715              0.186119             0.121223   \n",
       "\n",
       "   dev_s_modified_MAD2  \n",
       "0                 0.07  \n",
       "1                 0.10  \n",
       "2                 0.06  \n",
       "3                 0.06  \n",
       "4                 0.07  \n",
       "5                 0.06  \n",
       "6                 0.07  \n",
       "\n",
       "[7 rows x 52 columns]"
      ]
     },
     "execution_count": 38,
     "metadata": {},
     "output_type": "execute_result"
    }
   ],
   "source": [
    "model_pred_save_path = Path(\n",
    "    \"/home/zhongyiyuan/volpick/model_training/Test_INSTANCE/instance_pred/task0\"\n",
    ")\n",
    "stats_list = []\n",
    "for pred_dir in model_pred_save_path.iterdir():\n",
    "    if pred_dir.is_dir():\n",
    "        print(pred_dir)\n",
    "        stats = opt_prob_metrics_dev(pred_dir)\n",
    "        stats_list.append(stats)\n",
    "df = pd.DataFrame(stats_list)\n",
    "df.to_csv(model_pred_save_path / \"optimal_threshold_dev.csv\", index=False)\n",
    "df"
   ]
  },
  {
   "cell_type": "code",
   "execution_count": 18,
   "metadata": {},
   "outputs": [
    {
     "name": "stdout",
     "output_type": "stream",
     "text": [
      "vol_eqt\n",
      "vol_pn\n",
      "org_eqt\n",
      "org_pn\n",
      "int_eqt\n",
      "int_pn\n"
     ]
    }
   ],
   "source": [
    "for i, exp_name in enumerate(model_dict):\n",
    "    print(exp_name)"
   ]
  },
  {
   "cell_type": "code",
   "execution_count": 43,
   "metadata": {},
   "outputs": [
    {
     "data": {
      "image/png": "[encoded data removed]",
      "text/plain": [
       "<Figure size 629.921x669.291 with 12 Axes>"
      ]
     },
     "metadata": {},
     "output_type": "display_data"
    }
   ],
   "source": [
    "fts = 8\n",
    "cm = 1 / 2.54\n",
    "fig, axs = plt.subplots(6, 2, figsize=(16 * cm, 17 * cm))\n",
    "plt.subplots_adjust(wspace=0.17, hspace=0.30)\n",
    "colors = [\"teal\", \"dodgerblue\", \"red\"]\n",
    "metrics_labels = {\"precision\": \"Precision\", \"recall\": \"Recall\", \"F1score\": \"F1 score\"}\n",
    "ylabels_dict = {\n",
    "    \"EQTransformer_org\": \"Original EQTransformer\",\n",
    "    \"EQTransformer_org_instance\": \"EQTransformer \\ntrained on INSTANCE\",\n",
    "    \"PhaseNet_org_instance\": \"PhaseNet \\ntrained on INSTANCE\",\n",
    "    \"PhaseNet_org\": \"Original PhaseNet\",\n",
    "}\n",
    "\n",
    "for i, exp_name in enumerate(model_dict):\n",
    "    dev_result = pd.read_csv(\n",
    "        f\"/home/zhongyiyuan/volpick/model_training/Test_INSTANCE/instance_pred/task0/{exp_name}/dev_metrics.csv\"\n",
    "    )\n",
    "    prob_thre = dev_result[\"prob_thre\"]\n",
    "    for j, phase in enumerate([\"p\", \"s\"]):\n",
    "        ax = axs[i][j]\n",
    "        # precision = pn_dev_result[f\"{phase}_precision\"]\n",
    "        # recall = pn_dev_result[f\"{phase}_recall\"]\n",
    "        # F1score = pn_dev_result[f\"{phase}_F1score\"]\n",
    "        # f1score = dev_result[f\"{phase}_F1score\"]\n",
    "        f1score = 1 / (\n",
    "            1 / dev_result[f\"{phase}_recall\"] + 1 / dev_result[f\"{phase}_precision\"]\n",
    "        )\n",
    "        opt_thre = prob_thre[np.argmax(f1score)]\n",
    "        ax.axvline(opt_thre, color=\"grey\")\n",
    "        # print(opt_thre)\n",
    "        if opt_thre < 0.03:\n",
    "            print(opt_thre, metric_name, exp_name)\n",
    "            plot_func = ax.semilogx\n",
    "        else:\n",
    "            plot_func = ax.plot\n",
    "        for k, metric_name in enumerate([\"precision\", \"recall\", \"F1score\"]):\n",
    "            metric_value = dev_result[f\"{phase}_{metric_name}\"]\n",
    "            plot_func(\n",
    "                prob_thre,\n",
    "                metric_value,\n",
    "                color=colors[k],\n",
    "                label=metrics_labels[metric_name],\n",
    "                markersize=4,\n",
    "                marker=\".\",\n",
    "                linestyle=\"\",\n",
    "            )\n",
    "            ax.tick_params(labelsize=fts)\n",
    "        ax.text(\n",
    "            opt_thre,\n",
    "            # 0.88,\n",
    "            ax.get_ylim()[0] + (ax.get_ylim()[1] - ax.get_ylim()[0]) * 0.02,\n",
    "            f\"{opt_thre:.2f}\",\n",
    "            verticalalignment=\"bottom\",\n",
    "            horizontalalignment=[\"left\", \"right\"][j],\n",
    "            # transform=ax.transAxes,\n",
    "            fontsize=fts,\n",
    "            weight=\"bold\",\n",
    "            color=\"black\",\n",
    "        )\n",
    "        ax.set_xlim([0.01, 0.62])\n",
    "        # print(opt_thre)\n",
    "    # axs[i][0].set_ylabel(ylabels_dict[exp_name], fontsize=fts)\n",
    "axs[0][0].legend(\n",
    "    loc=\"lower left\",\n",
    "    bbox_to_anchor=(-0.05, 1, 0.8, 0.5),\n",
    "    frameon=False,\n",
    "    markerscale=3,\n",
    "    fontsize=fts,\n",
    "    ncols=3,\n",
    "    columnspacing=0.8,\n",
    ")\n",
    "axs[-1][0].set_ylim([0.5, 1.08])\n",
    "axs[-1][0].set_xlabel(\"Decision threshold for P picking\", fontsize=fts)\n",
    "axs[-1][1].set_xlabel(\"Decision threshold for S picking\", fontsize=fts)\n",
    "for i, ax in enumerate(axs.flat):\n",
    "    ax.text(\n",
    "        -0.08,\n",
    "        1.1,\n",
    "        \"(\" + chr(97 + i) + \")\",\n",
    "        verticalalignment=\"top\",\n",
    "        horizontalalignment=\"left\",\n",
    "        transform=ax.transAxes,\n",
    "        fontsize=fts,\n",
    "        # weight=\"bold\",\n",
    "        color=\"black\",\n",
    "    )\n",
    "plt.savefig(\"threshold_tuning_INSTANCE.pdf\", dpi=600, bbox_inches=\"tight\", pad_inches=0)"
   ]
  },
  {
   "cell_type": "markdown",
   "metadata": {},
   "source": [
    "# Evaluation on the test set"
   ]
  },
  {
   "cell_type": "code",
   "execution_count": 44,
   "metadata": {},
   "outputs": [],
   "source": [
    "model_pred_save_path = Path(\n",
    "    \"/home/zhongyiyuan/volpick/model_training/Test_INSTANCE/instance_pred/task0\"\n",
    ")\n",
    "df = pd.read_csv(model_pred_save_path / \"optimal_threshold_dev.csv\")"
   ]
  },
  {
   "cell_type": "code",
   "execution_count": 45,
   "metadata": {},
   "outputs": [],
   "source": [
    "model_dict = {\n",
    "    \"vol_eqt\": vol_eqt,\n",
    "    \"vol_pn\": vol_pn,\n",
    "    \"org_eqt\": org_eqt,\n",
    "    \"org_pn\": org_pn,\n",
    "    \"int_eqt\": eqt_instance,\n",
    "    \"int_pn\": pn_instance,\n",
    "}"
   ]
  },
  {
   "cell_type": "code",
   "execution_count": 46,
   "metadata": {},
   "outputs": [],
   "source": [
    "prob_thres_dict = {\n",
    "    \"vol_eqt\": np.array([0.33, 0.46]),\n",
    "    \"vol_pn\": np.array([0.41, 0.57]),\n",
    "    \"org_eqt\": np.array([0.24, 0.35]),\n",
    "    \"org_pn\": np.array([0.42, 0.49]),\n",
    "    \"int_eqt\": np.array([0.22, 0.24]),\n",
    "    \"int_pn\": np.array([0.29, 0.26]),\n",
    "}"
   ]
  },
  {
   "cell_type": "code",
   "execution_count": 48,
   "metadata": {},
   "outputs": [
    {
     "data": {
      "text/html": [
       "<div>\n",
       "<style scoped>\n",
       "    .dataframe tbody tr th:only-of-type {\n",
       "        vertical-align: middle;\n",
       "    }\n",
       "\n",
       "    .dataframe tbody tr th {\n",
       "        vertical-align: top;\n",
       "    }\n",
       "\n",
       "    .dataframe thead th {\n",
       "        text-align: right;\n",
       "    }\n",
       "</style>\n",
       "<table border=\"1\" class=\"dataframe\">\n",
       "  <thead>\n",
       "    <tr style=\"text-align: right;\">\n",
       "      <th></th>\n",
       "      <th>exp_name</th>\n",
       "      <th>tp_thre</th>\n",
       "      <th>p_opt_prob_thre</th>\n",
       "      <th>s_opt_prob_thre</th>\n",
       "      <th>dev_p_TP</th>\n",
       "      <th>dev_p_FP</th>\n",
       "      <th>dev_p_FN</th>\n",
       "      <th>dev_p_precision</th>\n",
       "      <th>dev_p_recall</th>\n",
       "      <th>dev_p_F1score</th>\n",
       "      <th>...</th>\n",
       "      <th>dev_s_modified_std</th>\n",
       "      <th>dev_s_modified_RMSE</th>\n",
       "      <th>dev_s_modified_MAE</th>\n",
       "      <th>dev_s_modified_MAD</th>\n",
       "      <th>dev_s_modified_mean2</th>\n",
       "      <th>dev_s_modified_median2</th>\n",
       "      <th>dev_s_modified_std2</th>\n",
       "      <th>dev_s_modified_RMSE2</th>\n",
       "      <th>dev_s_modified_MAE2</th>\n",
       "      <th>dev_s_modified_MAD2</th>\n",
       "    </tr>\n",
       "  </thead>\n",
       "  <tbody>\n",
       "    <tr>\n",
       "      <th>0</th>\n",
       "      <td>vol_eqt</td>\n",
       "      <td>0.5</td>\n",
       "      <td>0.33</td>\n",
       "      <td>0.46</td>\n",
       "      <td>99066.0</td>\n",
       "      <td>8740.0</td>\n",
       "      <td>15960.0</td>\n",
       "      <td>0.918928</td>\n",
       "      <td>0.861249</td>\n",
       "      <td>0.889154</td>\n",
       "      <td>...</td>\n",
       "      <td>0.236678</td>\n",
       "      <td>0.248357</td>\n",
       "      <td>0.148053</td>\n",
       "      <td>0.08</td>\n",
       "      <td>0.071856</td>\n",
       "      <td>0.04</td>\n",
       "      <td>0.184256</td>\n",
       "      <td>0.197769</td>\n",
       "      <td>0.127562</td>\n",
       "      <td>0.07</td>\n",
       "    </tr>\n",
       "    <tr>\n",
       "      <th>1</th>\n",
       "      <td>org_pn0</td>\n",
       "      <td>0.5</td>\n",
       "      <td>0.01</td>\n",
       "      <td>0.01</td>\n",
       "      <td>67608.0</td>\n",
       "      <td>33145.0</td>\n",
       "      <td>47418.0</td>\n",
       "      <td>0.671027</td>\n",
       "      <td>0.587763</td>\n",
       "      <td>0.626641</td>\n",
       "      <td>...</td>\n",
       "      <td>0.340704</td>\n",
       "      <td>0.416674</td>\n",
       "      <td>0.289091</td>\n",
       "      <td>0.12</td>\n",
       "      <td>0.188145</td>\n",
       "      <td>0.14</td>\n",
       "      <td>0.232097</td>\n",
       "      <td>0.298774</td>\n",
       "      <td>0.216526</td>\n",
       "      <td>0.10</td>\n",
       "    </tr>\n",
       "    <tr>\n",
       "      <th>2</th>\n",
       "      <td>int_pn</td>\n",
       "      <td>0.5</td>\n",
       "      <td>0.29</td>\n",
       "      <td>0.26</td>\n",
       "      <td>103957.0</td>\n",
       "      <td>6126.0</td>\n",
       "      <td>11069.0</td>\n",
       "      <td>0.944351</td>\n",
       "      <td>0.903770</td>\n",
       "      <td>0.923615</td>\n",
       "      <td>...</td>\n",
       "      <td>0.214370</td>\n",
       "      <td>0.214373</td>\n",
       "      <td>0.123625</td>\n",
       "      <td>0.06</td>\n",
       "      <td>-0.000877</td>\n",
       "      <td>-0.01</td>\n",
       "      <td>0.177237</td>\n",
       "      <td>0.177238</td>\n",
       "      <td>0.110266</td>\n",
       "      <td>0.06</td>\n",
       "    </tr>\n",
       "    <tr>\n",
       "      <th>3</th>\n",
       "      <td>org_eqt</td>\n",
       "      <td>0.5</td>\n",
       "      <td>0.24</td>\n",
       "      <td>0.35</td>\n",
       "      <td>84851.0</td>\n",
       "      <td>38190.0</td>\n",
       "      <td>30175.0</td>\n",
       "      <td>0.689616</td>\n",
       "      <td>0.737668</td>\n",
       "      <td>0.712833</td>\n",
       "      <td>...</td>\n",
       "      <td>0.263819</td>\n",
       "      <td>0.277743</td>\n",
       "      <td>0.155034</td>\n",
       "      <td>0.07</td>\n",
       "      <td>0.075396</td>\n",
       "      <td>0.04</td>\n",
       "      <td>0.171523</td>\n",
       "      <td>0.187361</td>\n",
       "      <td>0.116545</td>\n",
       "      <td>0.06</td>\n",
       "    </tr>\n",
       "    <tr>\n",
       "      <th>4</th>\n",
       "      <td>vol_pn</td>\n",
       "      <td>0.5</td>\n",
       "      <td>0.41</td>\n",
       "      <td>0.57</td>\n",
       "      <td>96846.0</td>\n",
       "      <td>8865.0</td>\n",
       "      <td>18180.0</td>\n",
       "      <td>0.916139</td>\n",
       "      <td>0.841949</td>\n",
       "      <td>0.877479</td>\n",
       "      <td>...</td>\n",
       "      <td>0.237768</td>\n",
       "      <td>0.244004</td>\n",
       "      <td>0.138092</td>\n",
       "      <td>0.07</td>\n",
       "      <td>0.046001</td>\n",
       "      <td>0.02</td>\n",
       "      <td>0.179864</td>\n",
       "      <td>0.185652</td>\n",
       "      <td>0.115115</td>\n",
       "      <td>0.07</td>\n",
       "    </tr>\n",
       "    <tr>\n",
       "      <th>5</th>\n",
       "      <td>org_pn</td>\n",
       "      <td>0.5</td>\n",
       "      <td>0.42</td>\n",
       "      <td>0.49</td>\n",
       "      <td>96302.0</td>\n",
       "      <td>11030.0</td>\n",
       "      <td>18724.0</td>\n",
       "      <td>0.897235</td>\n",
       "      <td>0.837219</td>\n",
       "      <td>0.866189</td>\n",
       "      <td>...</td>\n",
       "      <td>0.283980</td>\n",
       "      <td>0.312722</td>\n",
       "      <td>0.191288</td>\n",
       "      <td>0.07</td>\n",
       "      <td>0.121334</td>\n",
       "      <td>0.08</td>\n",
       "      <td>0.179662</td>\n",
       "      <td>0.216795</td>\n",
       "      <td>0.145756</td>\n",
       "      <td>0.06</td>\n",
       "    </tr>\n",
       "    <tr>\n",
       "      <th>6</th>\n",
       "      <td>int_eqt</td>\n",
       "      <td>0.5</td>\n",
       "      <td>0.22</td>\n",
       "      <td>0.24</td>\n",
       "      <td>102804.0</td>\n",
       "      <td>6964.0</td>\n",
       "      <td>12222.0</td>\n",
       "      <td>0.936557</td>\n",
       "      <td>0.893746</td>\n",
       "      <td>0.914651</td>\n",
       "      <td>...</td>\n",
       "      <td>0.228203</td>\n",
       "      <td>0.232639</td>\n",
       "      <td>0.138956</td>\n",
       "      <td>0.08</td>\n",
       "      <td>0.040255</td>\n",
       "      <td>0.03</td>\n",
       "      <td>0.181715</td>\n",
       "      <td>0.186119</td>\n",
       "      <td>0.121223</td>\n",
       "      <td>0.07</td>\n",
       "    </tr>\n",
       "  </tbody>\n",
       "</table>\n",
       "<p>7 rows × 52 columns</p>\n",
       "</div>"
      ],
      "text/plain": [
       "  exp_name  tp_thre  p_opt_prob_thre  s_opt_prob_thre  dev_p_TP  dev_p_FP   \n",
       "0  vol_eqt      0.5             0.33             0.46   99066.0    8740.0  \\\n",
       "1  org_pn0      0.5             0.01             0.01   67608.0   33145.0   \n",
       "2   int_pn      0.5             0.29             0.26  103957.0    6126.0   \n",
       "3  org_eqt      0.5             0.24             0.35   84851.0   38190.0   \n",
       "4   vol_pn      0.5             0.41             0.57   96846.0    8865.0   \n",
       "5   org_pn      0.5             0.42             0.49   96302.0   11030.0   \n",
       "6  int_eqt      0.5             0.22             0.24  102804.0    6964.0   \n",
       "\n",
       "   dev_p_FN  dev_p_precision  dev_p_recall  dev_p_F1score  ...   \n",
       "0   15960.0         0.918928      0.861249       0.889154  ...  \\\n",
       "1   47418.0         0.671027      0.587763       0.626641  ...   \n",
       "2   11069.0         0.944351      0.903770       0.923615  ...   \n",
       "3   30175.0         0.689616      0.737668       0.712833  ...   \n",
       "4   18180.0         0.916139      0.841949       0.877479  ...   \n",
       "5   18724.0         0.897235      0.837219       0.866189  ...   \n",
       "6   12222.0         0.936557      0.893746       0.914651  ...   \n",
       "\n",
       "   dev_s_modified_std  dev_s_modified_RMSE  dev_s_modified_MAE   \n",
       "0            0.236678             0.248357            0.148053  \\\n",
       "1            0.340704             0.416674            0.289091   \n",
       "2            0.214370             0.214373            0.123625   \n",
       "3            0.263819             0.277743            0.155034   \n",
       "4            0.237768             0.244004            0.138092   \n",
       "5            0.283980             0.312722            0.191288   \n",
       "6            0.228203             0.232639            0.138956   \n",
       "\n",
       "   dev_s_modified_MAD  dev_s_modified_mean2  dev_s_modified_median2   \n",
       "0                0.08              0.071856                    0.04  \\\n",
       "1                0.12              0.188145                    0.14   \n",
       "2                0.06             -0.000877                   -0.01   \n",
       "3                0.07              0.075396                    0.04   \n",
       "4                0.07              0.046001                    0.02   \n",
       "5                0.07              0.121334                    0.08   \n",
       "6                0.08              0.040255                    0.03   \n",
       "\n",
       "   dev_s_modified_std2  dev_s_modified_RMSE2  dev_s_modified_MAE2   \n",
       "0             0.184256              0.197769             0.127562  \\\n",
       "1             0.232097              0.298774             0.216526   \n",
       "2             0.177237              0.177238             0.110266   \n",
       "3             0.171523              0.187361             0.116545   \n",
       "4             0.179864              0.185652             0.115115   \n",
       "5             0.179662              0.216795             0.145756   \n",
       "6             0.181715              0.186119             0.121223   \n",
       "\n",
       "   dev_s_modified_MAD2  \n",
       "0                 0.07  \n",
       "1                 0.10  \n",
       "2                 0.06  \n",
       "3                 0.06  \n",
       "4                 0.07  \n",
       "5                 0.06  \n",
       "6                 0.07  \n",
       "\n",
       "[7 rows x 52 columns]"
      ]
     },
     "execution_count": 48,
     "metadata": {},
     "output_type": "execute_result"
    }
   ],
   "source": [
    "df"
   ]
  },
  {
   "cell_type": "code",
   "execution_count": 47,
   "metadata": {},
   "outputs": [
    {
     "data": {
      "text/plain": [
       "PosixPath('/home/zhongyiyuan/volpick/model_training/Eval_targets/instance')"
      ]
     },
     "execution_count": 47,
     "metadata": {},
     "output_type": "execute_result"
    }
   ],
   "source": [
    "targets_path"
   ]
  },
  {
   "cell_type": "code",
   "execution_count": 49,
   "metadata": {},
   "outputs": [
    {
     "name": "stdout",
     "output_type": "stream",
     "text": [
      "vol_eqt\n",
      "/home/zhongyiyuan/volpick/model_training/Test_INSTANCE/instance_pred/task0/vol_eqt exists\n"
     ]
    },
    {
     "name": "stderr",
     "output_type": "stream",
     "text": [
      "WARNING:root:Overwriting noise trace_names to allow correct identification\n"
     ]
    },
    {
     "name": "stdout",
     "output_type": "stream",
     "text": [
      "Starting set: test\n"
     ]
    },
    {
     "name": "stderr",
     "output_type": "stream",
     "text": [
      "Preloading waveforms: 100%|██████████| 344242/344242 [03:54<00:00, 1469.28it/s]\n",
      "Preloading waveforms: 100%|██████████| 39752/39752 [00:24<00:00, 1596.01it/s]\n"
     ]
    },
    {
     "name": "stdout",
     "output_type": "stream",
     "text": [
      "Number of examples in test: 383994\n",
      "344242 earthquake traces\n",
      "39752 noise traces\n",
      "Probability threshold: 0.3300\n",
      "Probability threshold: 0.4600\n",
      "vol_pn\n",
      "/home/zhongyiyuan/volpick/model_training/Test_INSTANCE/instance_pred/task0/vol_pn exists\n"
     ]
    },
    {
     "name": "stderr",
     "output_type": "stream",
     "text": [
      "WARNING:root:Overwriting noise trace_names to allow correct identification\n"
     ]
    },
    {
     "name": "stdout",
     "output_type": "stream",
     "text": [
      "Starting set: test\n"
     ]
    },
    {
     "name": "stderr",
     "output_type": "stream",
     "text": [
      "Preloading waveforms: 100%|██████████| 344242/344242 [03:53<00:00, 1473.37it/s]\n",
      "Preloading waveforms: 100%|██████████| 39752/39752 [00:24<00:00, 1601.19it/s]\n"
     ]
    },
    {
     "name": "stdout",
     "output_type": "stream",
     "text": [
      "Number of examples in test: 383994\n",
      "344242 earthquake traces\n",
      "39752 noise traces\n",
      "Probability threshold: 0.4100\n",
      "Probability threshold: 0.5700\n",
      "org_eqt\n",
      "/home/zhongyiyuan/volpick/model_training/Test_INSTANCE/instance_pred/task0/org_eqt exists\n"
     ]
    },
    {
     "name": "stderr",
     "output_type": "stream",
     "text": [
      "WARNING:root:Overwriting noise trace_names to allow correct identification\n"
     ]
    },
    {
     "name": "stdout",
     "output_type": "stream",
     "text": [
      "Starting set: test\n"
     ]
    },
    {
     "name": "stderr",
     "output_type": "stream",
     "text": [
      "Preloading waveforms: 100%|██████████| 344242/344242 [01:45<00:00, 3277.75it/s] \n",
      "Preloading waveforms: 100%|██████████| 39752/39752 [00:24<00:00, 1652.99it/s]\n"
     ]
    },
    {
     "name": "stdout",
     "output_type": "stream",
     "text": [
      "Number of examples in test: 383994\n",
      "344242 earthquake traces\n",
      "39752 noise traces\n",
      "Probability threshold: 0.2400\n",
      "Probability threshold: 0.3500\n",
      "org_pn\n",
      "/home/zhongyiyuan/volpick/model_training/Test_INSTANCE/instance_pred/task0/org_pn exists\n"
     ]
    },
    {
     "name": "stderr",
     "output_type": "stream",
     "text": [
      "WARNING:root:Overwriting noise trace_names to allow correct identification\n"
     ]
    },
    {
     "name": "stdout",
     "output_type": "stream",
     "text": [
      "Starting set: test\n"
     ]
    },
    {
     "name": "stderr",
     "output_type": "stream",
     "text": [
      "Preloading waveforms: 100%|██████████| 344242/344242 [02:47<00:00, 2055.16it/s] \n",
      "Preloading waveforms: 100%|██████████| 39752/39752 [00:05<00:00, 7210.82it/s] \n"
     ]
    },
    {
     "name": "stdout",
     "output_type": "stream",
     "text": [
      "Number of examples in test: 383994\n",
      "344242 earthquake traces\n",
      "39752 noise traces\n",
      "Probability threshold: 0.4200\n",
      "Probability threshold: 0.4900\n",
      "int_eqt\n",
      "/home/zhongyiyuan/volpick/model_training/Test_INSTANCE/instance_pred/task0/int_eqt exists\n"
     ]
    },
    {
     "name": "stderr",
     "output_type": "stream",
     "text": [
      "WARNING:root:Overwriting noise trace_names to allow correct identification\n"
     ]
    },
    {
     "name": "stdout",
     "output_type": "stream",
     "text": [
      "Starting set: test\n"
     ]
    },
    {
     "name": "stderr",
     "output_type": "stream",
     "text": [
      "Preloading waveforms: 100%|██████████| 344242/344242 [01:55<00:00, 2991.80it/s] \n",
      "Preloading waveforms: 100%|██████████| 39752/39752 [00:23<00:00, 1657.95it/s]\n"
     ]
    },
    {
     "name": "stdout",
     "output_type": "stream",
     "text": [
      "Number of examples in test: 383994\n",
      "344242 earthquake traces\n",
      "39752 noise traces\n",
      "Probability threshold: 0.2200\n",
      "Probability threshold: 0.2400\n",
      "int_pn\n",
      "/home/zhongyiyuan/volpick/model_training/Test_INSTANCE/instance_pred/task0/int_pn exists\n"
     ]
    },
    {
     "name": "stderr",
     "output_type": "stream",
     "text": [
      "WARNING:root:Overwriting noise trace_names to allow correct identification\n"
     ]
    },
    {
     "name": "stdout",
     "output_type": "stream",
     "text": [
      "Starting set: test\n"
     ]
    },
    {
     "name": "stderr",
     "output_type": "stream",
     "text": [
      "Preloading waveforms: 100%|██████████| 344242/344242 [01:44<00:00, 3295.27it/s] \n",
      "Preloading waveforms: 100%|██████████| 39752/39752 [00:10<00:00, 3893.34it/s]\n"
     ]
    },
    {
     "name": "stdout",
     "output_type": "stream",
     "text": [
      "Number of examples in test: 383994\n",
      "344242 earthquake traces\n",
      "39752 noise traces\n",
      "Probability threshold: 0.2900\n",
      "Probability threshold: 0.2600\n"
     ]
    }
   ],
   "source": [
    "tp_thre = 0.5\n",
    "for model_name, model in model_dict.items():\n",
    "    print(model_name)\n",
    "    eval_task0(\n",
    "        dev_test_set=data_instance,\n",
    "        model=model,\n",
    "        exp_name=model_name,\n",
    "        targets_path=targets_path,\n",
    "        root_save_dir=\"/home/zhongyiyuan/volpick/model_training/Test_INSTANCE\",\n",
    "        prob_thres=prob_thres_dict[model_name],\n",
    "        num_workers=16,\n",
    "        batchsize=2048,\n",
    "        num_test_run=-1,\n",
    "        output_remark=\"pred\",\n",
    "        tp_thre=tp_thre,\n",
    "        sets=[\"test\"],\n",
    "        # sets=[\"train\", \"dev\",\"test\"],\n",
    "        # append_to_file=True,\n",
    "        data_norm_type=model.norm,\n",
    "    )\n",
    "    # eval_task0(\n",
    "    #     dev_test_set=data_instance,\n",
    "    #     model=model,\n",
    "    #     exp_name=model_name,\n",
    "    #     targets_path=targets_path,\n",
    "    #     root_save_dir=\"/home/zhongyiyuan/volpick/model_training/Noise_specificity\",\n",
    "    #     # prob_thres=np.array([0.27,0.3,0.32]),\n",
    "    #     # prob_thres=np.array([0.21,0.22,0.23,0.24,0.25,0.27,0.28,0.29,0.30,0.31,0.32,0.33,0.34,0.35]), #,0.24,0.245,0.25,0.255,0.26,0.265,0.27,0.28,0.29,0.3\n",
    "    #     prob_thres=prob_thres_dict[model_name],\n",
    "    #     num_workers=32,\n",
    "    #     batchsize=1024,\n",
    "    #     num_test_run=-1,\n",
    "    #     output_remark=\"pred\",\n",
    "    #     sets=[\"test\"],\n",
    "    #     # sets=[\"test\"],\n",
    "    #     data_norm_type=model.norm,\n",
    "    # )"
   ]
  },
  {
   "cell_type": "markdown",
   "metadata": {},
   "source": [
    "# Plot"
   ]
  },
  {
   "cell_type": "code",
   "execution_count": 60,
   "metadata": {},
   "outputs": [
    {
     "data": {
      "text/html": [
       "<div>\n",
       "<style scoped>\n",
       "    .dataframe tbody tr th:only-of-type {\n",
       "        vertical-align: middle;\n",
       "    }\n",
       "\n",
       "    .dataframe tbody tr th {\n",
       "        vertical-align: top;\n",
       "    }\n",
       "\n",
       "    .dataframe thead th {\n",
       "        text-align: right;\n",
       "    }\n",
       "</style>\n",
       "<table border=\"1\" class=\"dataframe\">\n",
       "  <thead>\n",
       "    <tr style=\"text-align: right;\">\n",
       "      <th></th>\n",
       "      <th>exp_name</th>\n",
       "      <th>tp_thre</th>\n",
       "      <th>p_opt_prob_thre</th>\n",
       "      <th>s_opt_prob_thre</th>\n",
       "      <th>dev_p_TP</th>\n",
       "      <th>dev_p_FP</th>\n",
       "      <th>dev_p_FN</th>\n",
       "      <th>dev_p_precision</th>\n",
       "      <th>dev_p_recall</th>\n",
       "      <th>dev_p_F1score</th>\n",
       "      <th>...</th>\n",
       "      <th>dev_s_modified_std</th>\n",
       "      <th>dev_s_modified_RMSE</th>\n",
       "      <th>dev_s_modified_MAE</th>\n",
       "      <th>dev_s_modified_MAD</th>\n",
       "      <th>dev_s_modified_mean2</th>\n",
       "      <th>dev_s_modified_median2</th>\n",
       "      <th>dev_s_modified_std2</th>\n",
       "      <th>dev_s_modified_RMSE2</th>\n",
       "      <th>dev_s_modified_MAE2</th>\n",
       "      <th>dev_s_modified_MAD2</th>\n",
       "    </tr>\n",
       "  </thead>\n",
       "  <tbody>\n",
       "    <tr>\n",
       "      <th>0</th>\n",
       "      <td>vol_eqt</td>\n",
       "      <td>0.5</td>\n",
       "      <td>0.33</td>\n",
       "      <td>0.46</td>\n",
       "      <td>99066.0</td>\n",
       "      <td>8740.0</td>\n",
       "      <td>15960.0</td>\n",
       "      <td>0.918928</td>\n",
       "      <td>0.861249</td>\n",
       "      <td>0.889154</td>\n",
       "      <td>...</td>\n",
       "      <td>0.236678</td>\n",
       "      <td>0.248357</td>\n",
       "      <td>0.148053</td>\n",
       "      <td>0.08</td>\n",
       "      <td>0.071856</td>\n",
       "      <td>0.04</td>\n",
       "      <td>0.184256</td>\n",
       "      <td>0.197769</td>\n",
       "      <td>0.127562</td>\n",
       "      <td>0.07</td>\n",
       "    </tr>\n",
       "    <tr>\n",
       "      <th>1</th>\n",
       "      <td>org_pn0</td>\n",
       "      <td>0.5</td>\n",
       "      <td>0.01</td>\n",
       "      <td>0.01</td>\n",
       "      <td>67608.0</td>\n",
       "      <td>33145.0</td>\n",
       "      <td>47418.0</td>\n",
       "      <td>0.671027</td>\n",
       "      <td>0.587763</td>\n",
       "      <td>0.626641</td>\n",
       "      <td>...</td>\n",
       "      <td>0.340704</td>\n",
       "      <td>0.416674</td>\n",
       "      <td>0.289091</td>\n",
       "      <td>0.12</td>\n",
       "      <td>0.188145</td>\n",
       "      <td>0.14</td>\n",
       "      <td>0.232097</td>\n",
       "      <td>0.298774</td>\n",
       "      <td>0.216526</td>\n",
       "      <td>0.10</td>\n",
       "    </tr>\n",
       "    <tr>\n",
       "      <th>2</th>\n",
       "      <td>int_pn</td>\n",
       "      <td>0.5</td>\n",
       "      <td>0.29</td>\n",
       "      <td>0.26</td>\n",
       "      <td>103957.0</td>\n",
       "      <td>6126.0</td>\n",
       "      <td>11069.0</td>\n",
       "      <td>0.944351</td>\n",
       "      <td>0.903770</td>\n",
       "      <td>0.923615</td>\n",
       "      <td>...</td>\n",
       "      <td>0.214370</td>\n",
       "      <td>0.214373</td>\n",
       "      <td>0.123625</td>\n",
       "      <td>0.06</td>\n",
       "      <td>-0.000877</td>\n",
       "      <td>-0.01</td>\n",
       "      <td>0.177237</td>\n",
       "      <td>0.177238</td>\n",
       "      <td>0.110266</td>\n",
       "      <td>0.06</td>\n",
       "    </tr>\n",
       "    <tr>\n",
       "      <th>3</th>\n",
       "      <td>org_eqt</td>\n",
       "      <td>0.5</td>\n",
       "      <td>0.24</td>\n",
       "      <td>0.35</td>\n",
       "      <td>84851.0</td>\n",
       "      <td>38190.0</td>\n",
       "      <td>30175.0</td>\n",
       "      <td>0.689616</td>\n",
       "      <td>0.737668</td>\n",
       "      <td>0.712833</td>\n",
       "      <td>...</td>\n",
       "      <td>0.263819</td>\n",
       "      <td>0.277743</td>\n",
       "      <td>0.155034</td>\n",
       "      <td>0.07</td>\n",
       "      <td>0.075396</td>\n",
       "      <td>0.04</td>\n",
       "      <td>0.171523</td>\n",
       "      <td>0.187361</td>\n",
       "      <td>0.116545</td>\n",
       "      <td>0.06</td>\n",
       "    </tr>\n",
       "    <tr>\n",
       "      <th>4</th>\n",
       "      <td>vol_pn</td>\n",
       "      <td>0.5</td>\n",
       "      <td>0.41</td>\n",
       "      <td>0.57</td>\n",
       "      <td>96846.0</td>\n",
       "      <td>8865.0</td>\n",
       "      <td>18180.0</td>\n",
       "      <td>0.916139</td>\n",
       "      <td>0.841949</td>\n",
       "      <td>0.877479</td>\n",
       "      <td>...</td>\n",
       "      <td>0.237768</td>\n",
       "      <td>0.244004</td>\n",
       "      <td>0.138092</td>\n",
       "      <td>0.07</td>\n",
       "      <td>0.046001</td>\n",
       "      <td>0.02</td>\n",
       "      <td>0.179864</td>\n",
       "      <td>0.185652</td>\n",
       "      <td>0.115115</td>\n",
       "      <td>0.07</td>\n",
       "    </tr>\n",
       "    <tr>\n",
       "      <th>5</th>\n",
       "      <td>org_pn</td>\n",
       "      <td>0.5</td>\n",
       "      <td>0.42</td>\n",
       "      <td>0.49</td>\n",
       "      <td>96302.0</td>\n",
       "      <td>11030.0</td>\n",
       "      <td>18724.0</td>\n",
       "      <td>0.897235</td>\n",
       "      <td>0.837219</td>\n",
       "      <td>0.866189</td>\n",
       "      <td>...</td>\n",
       "      <td>0.283980</td>\n",
       "      <td>0.312722</td>\n",
       "      <td>0.191288</td>\n",
       "      <td>0.07</td>\n",
       "      <td>0.121334</td>\n",
       "      <td>0.08</td>\n",
       "      <td>0.179662</td>\n",
       "      <td>0.216795</td>\n",
       "      <td>0.145756</td>\n",
       "      <td>0.06</td>\n",
       "    </tr>\n",
       "    <tr>\n",
       "      <th>6</th>\n",
       "      <td>int_eqt</td>\n",
       "      <td>0.5</td>\n",
       "      <td>0.22</td>\n",
       "      <td>0.24</td>\n",
       "      <td>102804.0</td>\n",
       "      <td>6964.0</td>\n",
       "      <td>12222.0</td>\n",
       "      <td>0.936557</td>\n",
       "      <td>0.893746</td>\n",
       "      <td>0.914651</td>\n",
       "      <td>...</td>\n",
       "      <td>0.228203</td>\n",
       "      <td>0.232639</td>\n",
       "      <td>0.138956</td>\n",
       "      <td>0.08</td>\n",
       "      <td>0.040255</td>\n",
       "      <td>0.03</td>\n",
       "      <td>0.181715</td>\n",
       "      <td>0.186119</td>\n",
       "      <td>0.121223</td>\n",
       "      <td>0.07</td>\n",
       "    </tr>\n",
       "  </tbody>\n",
       "</table>\n",
       "<p>7 rows × 52 columns</p>\n",
       "</div>"
      ],
      "text/plain": [
       "  exp_name  tp_thre  p_opt_prob_thre  s_opt_prob_thre  dev_p_TP  dev_p_FP   \n",
       "0  vol_eqt      0.5             0.33             0.46   99066.0    8740.0  \\\n",
       "1  org_pn0      0.5             0.01             0.01   67608.0   33145.0   \n",
       "2   int_pn      0.5             0.29             0.26  103957.0    6126.0   \n",
       "3  org_eqt      0.5             0.24             0.35   84851.0   38190.0   \n",
       "4   vol_pn      0.5             0.41             0.57   96846.0    8865.0   \n",
       "5   org_pn      0.5             0.42             0.49   96302.0   11030.0   \n",
       "6  int_eqt      0.5             0.22             0.24  102804.0    6964.0   \n",
       "\n",
       "   dev_p_FN  dev_p_precision  dev_p_recall  dev_p_F1score  ...   \n",
       "0   15960.0         0.918928      0.861249       0.889154  ...  \\\n",
       "1   47418.0         0.671027      0.587763       0.626641  ...   \n",
       "2   11069.0         0.944351      0.903770       0.923615  ...   \n",
       "3   30175.0         0.689616      0.737668       0.712833  ...   \n",
       "4   18180.0         0.916139      0.841949       0.877479  ...   \n",
       "5   18724.0         0.897235      0.837219       0.866189  ...   \n",
       "6   12222.0         0.936557      0.893746       0.914651  ...   \n",
       "\n",
       "   dev_s_modified_std  dev_s_modified_RMSE  dev_s_modified_MAE   \n",
       "0            0.236678             0.248357            0.148053  \\\n",
       "1            0.340704             0.416674            0.289091   \n",
       "2            0.214370             0.214373            0.123625   \n",
       "3            0.263819             0.277743            0.155034   \n",
       "4            0.237768             0.244004            0.138092   \n",
       "5            0.283980             0.312722            0.191288   \n",
       "6            0.228203             0.232639            0.138956   \n",
       "\n",
       "   dev_s_modified_MAD  dev_s_modified_mean2  dev_s_modified_median2   \n",
       "0                0.08              0.071856                    0.04  \\\n",
       "1                0.12              0.188145                    0.14   \n",
       "2                0.06             -0.000877                   -0.01   \n",
       "3                0.07              0.075396                    0.04   \n",
       "4                0.07              0.046001                    0.02   \n",
       "5                0.07              0.121334                    0.08   \n",
       "6                0.08              0.040255                    0.03   \n",
       "\n",
       "   dev_s_modified_std2  dev_s_modified_RMSE2  dev_s_modified_MAE2   \n",
       "0             0.184256              0.197769             0.127562  \\\n",
       "1             0.232097              0.298774             0.216526   \n",
       "2             0.177237              0.177238             0.110266   \n",
       "3             0.171523              0.187361             0.116545   \n",
       "4             0.179864              0.185652             0.115115   \n",
       "5             0.179662              0.216795             0.145756   \n",
       "6             0.181715              0.186119             0.121223   \n",
       "\n",
       "   dev_s_modified_MAD2  \n",
       "0                 0.07  \n",
       "1                 0.10  \n",
       "2                 0.06  \n",
       "3                 0.06  \n",
       "4                 0.07  \n",
       "5                 0.06  \n",
       "6                 0.07  \n",
       "\n",
       "[7 rows x 52 columns]"
      ]
     },
     "execution_count": 60,
     "metadata": {},
     "output_type": "execute_result"
    }
   ],
   "source": [
    "df"
   ]
  },
  {
   "cell_type": "code",
   "execution_count": 61,
   "metadata": {},
   "outputs": [],
   "source": [
    "p_thre_dict = {\n",
    "    \"vol_eqt\": 0.33,\n",
    "    \"vol_pn\": 0.41,\n",
    "    \"org_eqt\": 0.24,\n",
    "    \"org_pn\": 0.42,\n",
    "    \"int_eqt\": 0.22,\n",
    "    \"int_pn\": 0.29,\n",
    "}\n",
    "\n",
    "s_thre_dict = {\n",
    "    \"vol_eqt\": 0.46,\n",
    "    \"vol_pn\": 0.57,\n",
    "    \"org_eqt\": 0.35,\n",
    "    \"org_pn\": 0.49,\n",
    "    \"int_eqt\": 0.24,\n",
    "    \"int_pn\": 0.26,\n",
    "}"
   ]
  },
  {
   "cell_type": "code",
   "execution_count": 62,
   "metadata": {},
   "outputs": [],
   "source": [
    "pred_dirs = [\"org_pn\", \"org_eqt\", \"int_pn\", \"int_eqt\", \"vol_pn\", \"vol_eqt\"]\n",
    "# data_types_plotted = [\n",
    "#     \"ncedc_vt_pred\",\n",
    "#     \"ncedc_lp_pred\",\n",
    "# ]  # ['rg_and_noise_pred','lp_and_noise_pred']\n",
    "precision_dict = {x: [] for x in pred_dirs}\n",
    "recall_dict = {x: [] for x in pred_dirs}\n",
    "f1score_dict = {x: [] for x in pred_dirs}\n",
    "pred_dir_path = Path(\"/home/zhongyiyuan/volpick/model_training/Test_INSTANCE/\")\n",
    "\n",
    "for model_name in pred_dirs:\n",
    "    # for j, data_type in enumerate(data_types_plotted):\n",
    "    pred_df = pd.read_csv(\n",
    "        pred_dir_path / \"instance_pred\" / \"task0\" / model_name / \"test_metrics.csv\"\n",
    "    )\n",
    "    p_row = pred_df[np.isclose(pred_df[\"prob_thre\"], p_thre_dict[model_name])].iloc[0]\n",
    "    s_row = pred_df[np.isclose(pred_df[\"prob_thre\"], s_thre_dict[model_name])].iloc[0]\n",
    "    assert (\n",
    "        np.abs(p_row[\"prob_thre\"] - p_thre_dict[model_name]) < 1e-6\n",
    "    ), f\"{p_row['prob_thre']}, {p_thre_dict[model_name]}\"\n",
    "    assert np.abs(s_row[\"prob_thre\"] - s_thre_dict[model_name]) < 1e-6\n",
    "\n",
    "    precision_dict[model_name] = [p_row[\"p_precision\"], s_row[\"s_precision\"]]\n",
    "    recall_dict[model_name] = [p_row[\"p_recall\"], s_row[\"s_recall\"]]\n",
    "    f1score_dict[model_name] = [p_row[\"p_F1score\"], s_row[\"s_F1score\"]]\n",
    "\n",
    "metrics = {\"Recall\": recall_dict, \"Precision\": precision_dict, \"F1 score\": f1score_dict}"
   ]
  },
  {
   "cell_type": "code",
   "execution_count": 63,
   "metadata": {},
   "outputs": [
    {
     "data": {
      "text/plain": [
       "{'Recall': {'org_pn': [0.7623503233190604, 0.7275202894299404],\n",
       "  'org_eqt': [0.7372720353704662, 0.7696880805710374],\n",
       "  'int_pn': [0.901914931937416, 0.8334751148919527],\n",
       "  'int_eqt': [0.892581381702407, 0.8380756820181872],\n",
       "  'vol_pn': [0.8405598387181111, 0.7803461425638017],\n",
       "  'vol_eqt': [0.8592879427844365, 0.7994035396499463]},\n",
       " 'Precision': {'org_pn': [0.8770364973749026, 0.7001858604870015],\n",
       "  'org_eqt': [0.687458354325462, 0.7037262194249749],\n",
       "  'int_pn': [0.9431171647888992, 0.812129613750262],\n",
       "  'int_eqt': [0.9353517949717048, 0.7983903645433078],\n",
       "  'vol_pn': [0.9153822792498671, 0.7229229981837699],\n",
       "  'vol_eqt': [0.9173807463644738, 0.7034261426211453]},\n",
       " 'F1 score': {'org_pn': [0.8156818743404889, 0.7135914066152758],\n",
       "  'org_eqt': [0.7114943624304063, 0.735230658584198],\n",
       "  'int_pn': [0.9220559956640856, 0.822663925724323],\n",
       "  'int_eqt': [0.9134662122088226, 0.8177518264889193],\n",
       "  'vol_pn': [0.8763769296702032, 0.7505378214879375],\n",
       "  'vol_eqt': [0.8873845969235846, 0.7483500691094492]}}"
      ]
     },
     "execution_count": 63,
     "metadata": {},
     "output_type": "execute_result"
    }
   ],
   "source": [
    "metrics"
   ]
  },
  {
   "cell_type": "code",
   "execution_count": 66,
   "metadata": {},
   "outputs": [
    {
     "data": {
      "image/png": "[encoded data removed]",
      "text/plain": [
       "<Figure size 787.402x472.441 with 3 Axes>"
      ]
     },
     "metadata": {},
     "output_type": "display_data"
    }
   ],
   "source": [
    "cm = 1 / 2.54\n",
    "fig, axs = plt.subplots(\n",
    "    2, 2, figsize=(20 * cm, 12 * cm), sharey=\"all\", squeeze=False\n",
    ")  # ,layout=\"constrained\"\n",
    "plt.subplots_adjust(hspace=0.2, wspace=0.15)\n",
    "\n",
    "data_types = (\"P phase picking\", \"S phase picking\")\n",
    "x = np.arange(len(data_types)) * 2.3\n",
    "# x=np.array([0,1.5,3])\n",
    "width = 0.26  # the width of the bars\n",
    "\n",
    "metric_names = [\"Precision\", \"Recall\", \"F1 score\"]\n",
    "colors = [\n",
    "    (164 / 255, 208 / 255, 80 / 255),\n",
    "    (84 / 255, 130 / 255, 53 / 255),\n",
    "    (0 / 255, 176 / 255, 240 / 255),\n",
    "    (0 / 255, 112 / 255, 192 / 255),\n",
    "    (255 / 255, 192 / 255, 0 / 255),\n",
    "    (170 / 255, 80 / 255, 30 / 255),\n",
    "    # (9 / 255, 80 / 255, 153 / 255),\n",
    "    # (0 / 255, 112 / 255, 182 / 255),\n",
    "]\n",
    "# colors = [\"#96DEAE\", \"#008080\", \"#0074B7\", \"#003B73\", \"#D0565C\", \"#880C25\"]\n",
    "colors = [\"#96DEAE\", \"#008080\", \"#0074B7\", \"#024376\", \"#D0565C\", \"#880C25\"]\n",
    "colors = [\"#96DEAE\", \"#008080\", \"#0074B7\", \"#024376\", \"#D0565C\", \"#AE0000\"]\n",
    "# colors = [\"#6988E7\", \"#F05C79\", \"#0074B7\", \"#DC143C\", \"#003B73\", \"#5E091A\"]\n",
    "# colors=[\"teal\",\"teal\",\"darkblue\",\"darkblue\",\"purple\",\"purple\"]\n",
    "hatches = [\"//\", \".\", \"//\", \".\", \"//\", \".\"]\n",
    "alphas = [0.7, 1, 0.7, 1, 0.7, 1]\n",
    "# colors=[\"aquamarine\",\"dodgerblue\",\"orchid\",\"teal\",\"navy\",\"brown\"]\n",
    "# colors = plt.cm.Paired(np.linspace(0, 1, len(metric_names)))\n",
    "labels = {\n",
    "    \"org_eqt\": \"Original EQTransformer (Mousavi et al., 2020)\",\n",
    "    \"int_eqt\": r\"EQTransformer trained on INSTANCE (M$\\rm{\\\"u}$nchmeyer et al., 2022)\",\n",
    "    \"vol_eqt\": \"EQTransformer retrained in this study\",\n",
    "    \"org_pn\": \"Original PhaseNet (Zhu & Beroza, 2019)\",\n",
    "    \"int_pn\": r\"PhaseNet trained on INSTANCE (M$\\rm{\\\"u}$nchmeyer et al., 2022)\",\n",
    "    \"vol_pn\": \"PhaseNet retrained in this study\",\n",
    "}\n",
    "# test_set_names = [\n",
    "#     \"Alaska, Hawaii and Japan\",\n",
    "#     \"Northern California\",\n",
    "#     \"Japan tectonic LPs\",\n",
    "# ]\n",
    "\n",
    "fts = 8\n",
    "for i in range(3):\n",
    "    # for j in range(2):\n",
    "    # if i == 2 and j == 1:\n",
    "    #     break\n",
    "    # if i == 2 and j == 0:\n",
    "    #     metric_dict = metrics_list[i][metric_names[0]][j]\n",
    "    #     ax = axs[i][1]\n",
    "    # else:\n",
    "    metric_dict = metrics[metric_names[i]]\n",
    "    ax = axs.flat[i]\n",
    "\n",
    "    # ax = axs[i][j]\n",
    "\n",
    "    fmt = \"{:.2f}\"\n",
    "    interval = width + 0.065\n",
    "    for k, (attribute, value) in enumerate(metric_dict.items()):\n",
    "        offset = interval * k\n",
    "        rects = ax.bar(\n",
    "            x + offset,\n",
    "            value,\n",
    "            width,\n",
    "            label=labels[attribute],\n",
    "            # edgecolor=\"white\",\n",
    "            color=colors[k],\n",
    "            # linewidth=3,\n",
    "        )  # ,edgecolor=\"black\",hatch=hatches[k]\n",
    "        ax.bar_label(rects, padding=0, fmt=fmt, fontsize=fts - 2.0, color=\"black\")\n",
    "        ax.spines[[\"right\", \"top\"]].set_visible(False)\n",
    "\n",
    "    ax.set_xticks(x + 2.5 * interval, data_types, fontsize=fts)\n",
    "    ax.tick_params(labelsize=fts)\n",
    "    ax.set_ylim([0.0, 1])\n",
    "    ax.set_xlim(x[0] - 0.5 * interval, x[-1] + 5.6 * interval)\n",
    "    ax.yaxis.set_major_locator(MultipleLocator(0.2))\n",
    "    ax.yaxis.set_minor_locator(MultipleLocator(0.05))\n",
    "    ax.set_ylabel(f\"{metric_names[i]}\", fontsize=fts)\n",
    "    # axs[i][0].set_ylabel(metric_names[i], fontsize=fts)\n",
    "    # axs[0][0].set_ylabel(test_set_names[i], fontsize=fts)\n",
    "    # axs[0][0].text(\n",
    "    #     0.02,\n",
    "    #     1.0,\n",
    "    #     chr(65 + i),\n",
    "    #     verticalalignment=\"top\",\n",
    "    #     horizontalalignment=\"left\",\n",
    "    #     weight=\"bold\",\n",
    "    #     transform=axs[0][0].transAxes,\n",
    "    #     fontsize=fts + 3,\n",
    "    # )\n",
    "fig.delaxes(axs[1][1])\n",
    "handles, legend_labels = axs[1][1].get_legend_handles_labels()\n",
    "\n",
    "legend_label_order = [0, 2, 4, 1, 3, 5]\n",
    "# ax.set_xticks(x + 2.5 * interval, data_types, fontsize=fts)\n",
    "leg = axs[1][0].legend(\n",
    "    # [handles[idx] for idx in legend_label_order],\n",
    "    # [legend_labels[idx] for idx in legend_label_order],\n",
    "    markerfirst=True,\n",
    "    handlelength=0.8,\n",
    "    handleheight=1.0,\n",
    "    #   markerscale=5,\n",
    "    loc=\"lower left\",\n",
    "    bbox_to_anchor=(1.02, 0.05, 1, 1.5),\n",
    "    frameon=False,\n",
    "    fontsize=fts - 1,\n",
    "    # ncols=2,\n",
    "    # columnspacing=0.8,\n",
    "    labelspacing=0.8,\n",
    ")\n",
    "\n",
    "# axs[0][1].set_title(\"VT test set\", fontsize=fts)\n",
    "# axs[0][0].set_title(\"LP test set\", fontsize=fts)\n",
    "plt.savefig(\"peformance_for_INSTANCE.pdf\", dpi=600, bbox_inches=\"tight\", pad_inches=0)"
   ]
  },
  {
   "cell_type": "code",
   "execution_count": 134,
   "metadata": {},
   "outputs": [
    {
     "data": {
      "text/plain": [
       "0.7488"
      ]
     },
     "execution_count": 134,
     "metadata": {},
     "output_type": "execute_result"
    }
   ],
   "source": [
    "2 / (1 / 0.72 + 1 / 0.78)"
   ]
  },
  {
   "cell_type": "markdown",
   "metadata": {},
   "source": [
    "# Debug"
   ]
  },
  {
   "cell_type": "code",
   "execution_count": 20,
   "metadata": {},
   "outputs": [
    {
     "name": "stderr",
     "output_type": "stream",
     "text": [
      "WARNING:root:Overwriting noise trace_names to allow correct identification\n",
      "Preloading waveforms: 100%|██████████| 115027/115027 [00:00<00:00, 367611.29it/s]\n",
      "Preloading waveforms: 100%|██████████| 13251/13251 [00:00<00:00, 326752.99it/s]\n"
     ]
    }
   ],
   "source": [
    "split = data_instance.get_split(\"dev\")\n",
    "if targets_path.name == \"instance\":\n",
    "    logging.warning(\"Overwriting noise trace_names to allow correct identification\")\n",
    "    # Replace trace names for noise entries\n",
    "    split._metadata[\"trace_name\"].values[-len(split.datasets[-1]) :] = split._metadata[\n",
    "        \"trace_name\"\n",
    "    ][-len(split.datasets[-1]) :].apply(lambda x: \"noise_\" + x)\n",
    "    split._build_trace_name_to_idx_dict()\n",
    "\n",
    "# print(f\"Starting set: {eval_set}\")\n",
    "split.preload_waveforms(pbar=True)\n",
    "\n",
    "# steered metatdata\n",
    "task_csv = targets_path / \"task0.csv\"\n",
    "task_targets = pd.read_csv(task_csv)\n",
    "task_targets = task_targets[task_targets[\"trace_split\"] == \"dev\"]\n",
    "if targets_path.name == \"instance\":\n",
    "    border = _identify_instance_dataset_border(task_targets)\n",
    "    task_targets[\"trace_name\"].values[border:] = task_targets[\"trace_name\"][\n",
    "        border:\n",
    "    ].apply(lambda x: \"noise_\" + x)\n",
    "\n",
    "# if num_test_run > 0:\n",
    "#     subset_idxs = np.sort(\n",
    "#         np.random.default_rng(seed=100).choice(\n",
    "#             len(task_targets), num_test_run, replace=False\n",
    "#         )\n",
    "#     )  # sort inplace\n",
    "#     task_targets = task_targets.iloc[subset_idxs]\n",
    "\n",
    "generator = sbg.SteeredGenerator(split, task_targets)"
   ]
  },
  {
   "cell_type": "code",
   "execution_count": 34,
   "metadata": {},
   "outputs": [
    {
     "name": "stdout",
     "output_type": "stream",
     "text": [
      "115027\n",
      "{'index': 2, 'source_id': '20050110T014724', 'station_network_code': 'MN', 'station_code': 'CUC', 'station_location_code': nan, 'station_channels': 'HH', 'station_latitude_deg': 39.9938, 'station_longitude_deg': 15.8155, 'station_elevation_m': 637.0, 'station_vs_30_mps': 807.0, 'station_vs_30_detail': 'Vs30 extracted from ShakeMap', 'trace_start_time': '2005-01-10T01:47:23.898867Z', 'trace_dt_s': 0.01, 'trace_npts': 12000, 'trace_E_median_counts': 65.0, 'trace_N_median_counts': -15.0, 'trace_Z_median_counts': -4.0, 'trace_E_mean_counts': -0.13833, 'trace_N_mean_counts': 0.04825, 'trace_Z_mean_counts': 0.0365, 'trace_E_min_counts': -829.0, 'trace_N_min_counts': -380.0, 'trace_Z_min_counts': -208.0, 'trace_E_max_counts': 385.0, 'trace_N_max_counts': 333.0, 'trace_Z_max_counts': 311.0, 'trace_E_rms_counts': 215.034, 'trace_N_rms_counts': 125.291, 'trace_Z_rms_counts': 55.85, 'trace_E_lower_quartile_counts': -99.0, 'trace_N_lower_quartile_counts': -90.0, 'trace_Z_lower_quartile_counts': -38.0, 'trace_E_upper_quartile_counts': 145.0, 'trace_N_upper_quartile_counts': 105.0, 'trace_Z_upper_quartile_counts': 35.0, 'trace_E_spikes': 0.0, 'trace_N_spikes': 0.0, 'trace_Z_spikes': 0.0, 'trace_name': 'bucket7$0,:3,:12000', 'trace_GPD_P_number': 0, 'trace_GPD_S_number': 0, 'trace_EQT_number_detections': 0.0, 'trace_EQT_P_number': 0.0, 'trace_EQT_S_number': 0.0, 'trace_name_original': 'bucket0$2,:3,:12000', 'split': 'dev', 'trace_chunk': '', 'trace_sampling_rate_hz': 100.0, 'trace_component_order': 'ZNE', 'trace_source_sampling_rate_hz': array(100.)}\n"
     ]
    }
   ],
   "source": [
    "for i in range(128278):\n",
    "    y = [x for x in generator.dataset.get_sample(i)[1] if x.endswith(\"arrival_sample\")]\n",
    "    if len(y) == 0:\n",
    "        print(i)\n",
    "        print(generator.dataset.get_sample(i)[1])\n",
    "        break"
   ]
  },
  {
   "cell_type": "code",
   "execution_count": 36,
   "metadata": {},
   "outputs": [],
   "source": [
    "x = np.nan"
   ]
  },
  {
   "cell_type": "code",
   "execution_count": 38,
   "metadata": {},
   "outputs": [
    {
     "name": "stdout",
     "output_type": "stream",
     "text": [
      "x\n"
     ]
    }
   ],
   "source": [
    "if np.isnan(x):\n",
    "    print(\"x\")"
   ]
  },
  {
   "cell_type": "code",
   "execution_count": 35,
   "metadata": {},
   "outputs": [
    {
     "data": {
      "text/plain": [
       "True"
      ]
     },
     "execution_count": 35,
     "metadata": {},
     "output_type": "execute_result"
    }
   ],
   "source": [
    "\"index\" in generator.dataset.get_sample(i)[1]"
   ]
  },
  {
   "cell_type": "code",
   "execution_count": 31,
   "metadata": {},
   "outputs": [
    {
     "data": {
      "text/plain": [
       "128278"
      ]
     },
     "execution_count": 31,
     "metadata": {},
     "output_type": "execute_result"
    }
   ],
   "source": [
    "len(generator.dataset)"
   ]
  },
  {
   "cell_type": "code",
   "execution_count": 27,
   "metadata": {},
   "outputs": [
    {
     "data": {
      "text/plain": [
       "(array([[ -80,  -80,  -80, ...,   32,   33,   34],\n",
       "        [ 209,  209,  204, ...,  198,  196,  196],\n",
       "        [ 384,  385,  383, ..., -102, -102, -104]], dtype=int32),\n",
       " {'index': 2,\n",
       "  'source_id': '20050110T014724',\n",
       "  'station_network_code': 'MN',\n",
       "  'station_code': 'CUC',\n",
       "  'station_location_code': nan,\n",
       "  'station_channels': 'HH',\n",
       "  'station_latitude_deg': 39.9938,\n",
       "  'station_longitude_deg': 15.8155,\n",
       "  'station_elevation_m': 637.0,\n",
       "  'station_vs_30_mps': 807.0,\n",
       "  'station_vs_30_detail': 'Vs30 extracted from ShakeMap',\n",
       "  'trace_start_time': '2005-01-10T01:47:23.898867Z',\n",
       "  'trace_dt_s': 0.01,\n",
       "  'trace_npts': 12000,\n",
       "  'trace_E_median_counts': 65.0,\n",
       "  'trace_N_median_counts': -15.0,\n",
       "  'trace_Z_median_counts': -4.0,\n",
       "  'trace_E_mean_counts': -0.13833,\n",
       "  'trace_N_mean_counts': 0.04825,\n",
       "  'trace_Z_mean_counts': 0.0365,\n",
       "  'trace_E_min_counts': -829.0,\n",
       "  'trace_N_min_counts': -380.0,\n",
       "  'trace_Z_min_counts': -208.0,\n",
       "  'trace_E_max_counts': 385.0,\n",
       "  'trace_N_max_counts': 333.0,\n",
       "  'trace_Z_max_counts': 311.0,\n",
       "  'trace_E_rms_counts': 215.034,\n",
       "  'trace_N_rms_counts': 125.291,\n",
       "  'trace_Z_rms_counts': 55.85,\n",
       "  'trace_E_lower_quartile_counts': -99.0,\n",
       "  'trace_N_lower_quartile_counts': -90.0,\n",
       "  'trace_Z_lower_quartile_counts': -38.0,\n",
       "  'trace_E_upper_quartile_counts': 145.0,\n",
       "  'trace_N_upper_quartile_counts': 105.0,\n",
       "  'trace_Z_upper_quartile_counts': 35.0,\n",
       "  'trace_E_spikes': 0.0,\n",
       "  'trace_N_spikes': 0.0,\n",
       "  'trace_Z_spikes': 0.0,\n",
       "  'trace_name': 'bucket7$0,:3,:12000',\n",
       "  'trace_GPD_P_number': 0,\n",
       "  'trace_GPD_S_number': 0,\n",
       "  'trace_EQT_number_detections': 0.0,\n",
       "  'trace_EQT_P_number': 0.0,\n",
       "  'trace_EQT_S_number': 0.0,\n",
       "  'trace_name_original': 'bucket0$2,:3,:12000',\n",
       "  'split': 'dev',\n",
       "  'trace_chunk': '',\n",
       "  'trace_sampling_rate_hz': 100.0,\n",
       "  'trace_component_order': 'ZNE',\n",
       "  'trace_source_sampling_rate_hz': array(100.)})"
      ]
     },
     "execution_count": 27,
     "metadata": {},
     "output_type": "execute_result"
    }
   ],
   "source": [
    "generator.dataset.get_sample(115027)"
   ]
  },
  {
   "cell_type": "code",
   "execution_count": 25,
   "metadata": {},
   "outputs": [
    {
     "data": {
      "text/plain": [
       "1291537"
      ]
     },
     "execution_count": 25,
     "metadata": {},
     "output_type": "execute_result"
    }
   ],
   "source": [
    "len(data_instance[\"trace_P_arrival_sample\"])"
   ]
  }
 ],
 "metadata": {
  "kernelspec": {
   "display_name": "seisbench",
   "language": "python",
   "name": "python3"
  },
  "language_info": {
   "codemirror_mode": {
    "name": "ipython",
    "version": 3
   },
   "file_extension": ".py",
   "mimetype": "text/x-python",
   "name": "python",
   "nbconvert_exporter": "python",
   "pygments_lexer": "ipython3",
   "version": "3.9.16"
  }
 },
 "nbformat": 4,
 "nbformat_minor": 2
}
