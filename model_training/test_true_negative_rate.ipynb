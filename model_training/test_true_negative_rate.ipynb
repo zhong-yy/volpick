{
 "cells": [
  {
   "cell_type": "code",
   "execution_count": 1,
   "metadata": {},
   "outputs": [],
   "source": [
    "%load_ext autoreload\n",
    "%autoreload 2\n",
    "from torch.utils.data import DataLoader\n",
    "import torch\n",
    "import pytorch_lightning as pl\n",
    "from pathlib import Path\n",
    "import os\n",
    "import time\n",
    "import datetime\n",
    "import yaml\n",
    "import pandas as pd\n",
    "import numpy as np\n",
    "\n",
    "import matplotlib.pyplot as plt\n",
    "from matplotlib.ticker import (MultipleLocator, FormatStrFormatter, AutoMinorLocator)\n",
    "\n",
    "import logging\n",
    "\n",
    "from tqdm.notebook import tqdm\n",
    "\n",
    "import volpick.model.models as models\n",
    "import seisbench.models as sbm\n",
    "import seisbench.generate as sbg\n",
    "from volpick.model.utils import load_best_model_from_base_dir,load_best_model,plot_prediction_examples\n",
    "import seisbench.data as sbd\n",
    "from volpick.model.generate_eval_targets import generate_task0, generate_task1, generate_task23\n",
    "\n",
    "from obspy.signal.trigger import recursive_sta_lta, trigger_onset\n",
    "from volpick.model.models import phase_dict\n",
    "from volpick.model.eval_taks0 import evaluate, get_ground_truth, count_TP_FP_FN, compute_residuals, calculate_precision_recall_F1score, eval_task0, opt_prob_metrics, collect_task0_results,collect_task0_results_dev, eval_task0_true_negative_rate\n",
    "from volpick.model.eval_taks123 import eval_tasks123,collect_task123_results\n",
    "\n",
    "import json\n",
    "\n",
    "from sklearn.metrics import roc_curve, precision_recall_curve, roc_auc_score"
   ]
  },
  {
   "cell_type": "code",
   "execution_count": 28,
   "metadata": {},
   "outputs": [
    {
     "name": "stderr",
     "output_type": "stream",
     "text": [
      "Preloading waveforms: 100%|██████████| 7539/7539 [00:01<00:00, 6402.32it/s]\n"
     ]
    }
   ],
   "source": [
    "data_path = Path(\"/home/zhongyiyuan/DATA/my_datasets_seisbench/vcseis\")\n",
    "\n",
    "dataset = sbd.WaveformDataset(\n",
    "    data_path,\n",
    "    sampling_rate=100,\n",
    "    component_order=\"ZNE\",\n",
    "    dimension_order=\"NCW\",\n",
    "    cache=\"full\",\n",
    ")\n",
    "dataset.filter(dataset[\"split\"].isin([\"dev\", \"test\"]), inplace=True)\n",
    "\n",
    "dataset.filter(\n",
    "    dataset[\"trace_chunk\"].isin([\"_aknoise\", \"_hwnoise\", \"_jpnoise\"]), inplace=True\n",
    ")\n",
    "dataset.preload_waveforms(pbar=True)"
   ]
  },
  {
   "cell_type": "code",
   "execution_count": 4,
   "metadata": {},
   "outputs": [
    {
     "data": {
      "text/plain": [
       "array(['_aknoise', '_hwnoise', '_jpnoise'], dtype=object)"
      ]
     },
     "execution_count": 4,
     "metadata": {},
     "output_type": "execute_result"
    }
   ],
   "source": [
    "np.unique(dataset[\"trace_chunk\"])"
   ]
  },
  {
   "cell_type": "code",
   "execution_count": 5,
   "metadata": {},
   "outputs": [
    {
     "data": {
      "text/plain": [
       "7539"
      ]
     },
     "execution_count": 5,
     "metadata": {},
     "output_type": "execute_result"
    }
   ],
   "source": [
    "len(dataset)"
   ]
  },
  {
   "cell_type": "code",
   "execution_count": 17,
   "metadata": {},
   "outputs": [
    {
     "name": "stdout",
     "output_type": "stream",
     "text": [
      "/home/zhongyiyuan/volpick/model_training/Eval_targets/mynoise exists\n"
     ]
    }
   ],
   "source": [
    "# full test set\n",
    "targets_path_my_noise = Path(\n",
    "    \"/home/zhongyiyuan/volpick/model_training/Eval_targets/mynoise\"\n",
    ")\n",
    "try:\n",
    "    targets_path_my_noise.mkdir(parents=True, exist_ok=False)\n",
    "except FileExistsError:\n",
    "    print(f\"{targets_path_my_noise} exists\")"
   ]
  },
  {
   "cell_type": "code",
   "execution_count": 21,
   "metadata": {},
   "outputs": [
    {
     "name": "stdout",
     "output_type": "stream",
     "text": [
      "all  instance  instance_noise  lp_and_noise  mynoise  rg_and_noise  stead\n"
     ]
    }
   ],
   "source": [
    "!ls /home/zhongyiyuan/volpick/model_training/Eval_targets"
   ]
  },
  {
   "cell_type": "code",
   "execution_count": 18,
   "metadata": {},
   "outputs": [
    {
     "name": "stdout",
     "output_type": "stream",
     "text": [
      "/home/zhongyiyuan/volpick/model_training/Eval_targets/mynoise/task0.csv\" has already existed. No task files will be generated.\n"
     ]
    }
   ],
   "source": [
    "replace_if_exist = False\n",
    "generate_task0(\n",
    "    dataset=dataset,\n",
    "    output=targets_path_my_noise,\n",
    "    sampling_rate=100,\n",
    "    noise_before_events=False,\n",
    "    keep_source_type=True,\n",
    "    replace_if_exist=replace_if_exist,\n",
    ")"
   ]
  },
  {
   "cell_type": "markdown",
   "metadata": {},
   "source": [
    "# Load models"
   ]
  },
  {
   "cell_type": "code",
   "execution_count": 10,
   "metadata": {},
   "outputs": [
    {
     "name": "stdout",
     "output_type": "stream",
     "text": [
      "['Detection', 'P', 'S']\n",
      "PSN\n",
      "peak\n",
      "peak\n",
      "cuda:0\n",
      "cuda:0\n",
      "['Detection', 'P', 'S']\n",
      "NPS\n",
      "std\n",
      "std\n",
      "cuda:0\n",
      "cuda:0\n",
      "['Detection', 'P', 'S']\n",
      "PSN\n",
      "peak\n",
      "peak\n",
      "cuda:0\n",
      "cuda:0\n",
      "['Detection', 'P', 'S']\n",
      "PSN\n",
      "peak\n",
      "peak\n",
      "cuda:0\n",
      "cuda:0\n"
     ]
    }
   ],
   "source": [
    "vol_eqt = sbm.EQTransformer.from_pretrained(\"volpick\")\n",
    "vol_eqt.cuda()\n",
    "vol_pn = sbm.PhaseNet.from_pretrained(\"volpick\")\n",
    "vol_pn.cuda()\n",
    "print(vol_eqt.labels)\n",
    "print(vol_pn.labels)\n",
    "print(vol_eqt.norm)\n",
    "print(vol_pn.norm)\n",
    "print(vol_eqt.device)\n",
    "print(vol_pn.device)\n",
    "\n",
    "org_eqt = sbm.EQTransformer.from_pretrained(\"original\")\n",
    "org_pn = sbm.PhaseNet.from_pretrained(\"original\")\n",
    "org_eqt.cuda()\n",
    "org_pn.cuda()\n",
    "print(org_eqt.labels)\n",
    "print(org_pn.labels)\n",
    "print(org_eqt.norm)\n",
    "print(org_pn.norm)\n",
    "print(org_eqt.device)\n",
    "print(org_pn.device)\n",
    "\n",
    "eqt_instance = sbm.EQTransformer.from_pretrained(\"instance\")\n",
    "pn_instance = sbm.PhaseNet.from_pretrained(\"instance\")\n",
    "eqt_instance.cuda()\n",
    "pn_instance.cuda()\n",
    "print(eqt_instance.labels)\n",
    "print(pn_instance.labels)\n",
    "print(eqt_instance.norm)\n",
    "print(pn_instance.norm)\n",
    "print(eqt_instance.device)\n",
    "print(pn_instance.device)\n",
    "\n",
    "eqt_stead = sbm.EQTransformer.from_pretrained(\"stead\")\n",
    "pn_stead = sbm.PhaseNet.from_pretrained(\"stead\")\n",
    "eqt_stead.cuda()\n",
    "pn_stead.cuda()\n",
    "print(eqt_stead.labels)\n",
    "print(pn_stead.labels)\n",
    "print(eqt_stead.norm)\n",
    "print(pn_stead.norm)\n",
    "print(eqt_stead.device)\n",
    "print(pn_stead.device)"
   ]
  },
  {
   "cell_type": "code",
   "execution_count": 14,
   "metadata": {},
   "outputs": [
    {
     "data": {
      "text/html": [
       "<div>\n",
       "<style scoped>\n",
       "    .dataframe tbody tr th:only-of-type {\n",
       "        vertical-align: middle;\n",
       "    }\n",
       "\n",
       "    .dataframe tbody tr th {\n",
       "        vertical-align: top;\n",
       "    }\n",
       "\n",
       "    .dataframe thead th {\n",
       "        text-align: right;\n",
       "    }\n",
       "</style>\n",
       "<table border=\"1\" class=\"dataframe\">\n",
       "  <thead>\n",
       "    <tr style=\"text-align: right;\">\n",
       "      <th></th>\n",
       "      <th>exp_name</th>\n",
       "      <th>model</th>\n",
       "      <th>pretraining</th>\n",
       "      <th>p_opt_prob_thre</th>\n",
       "      <th>s_opt_prob_thre</th>\n",
       "    </tr>\n",
       "  </thead>\n",
       "  <tbody>\n",
       "    <tr>\n",
       "      <th>0</th>\n",
       "      <td>PhaseNet_org_instance</td>\n",
       "      <td>PhaseNet</td>\n",
       "      <td>instance</td>\n",
       "      <td>0.13</td>\n",
       "      <td>0.050</td>\n",
       "    </tr>\n",
       "    <tr>\n",
       "      <th>1</th>\n",
       "      <td>EQTransformer_org</td>\n",
       "      <td>EQTransformer</td>\n",
       "      <td>original</td>\n",
       "      <td>0.01</td>\n",
       "      <td>0.001</td>\n",
       "    </tr>\n",
       "    <tr>\n",
       "      <th>2</th>\n",
       "      <td>EQTransformer_org_instance</td>\n",
       "      <td>EQTransformer</td>\n",
       "      <td>instance</td>\n",
       "      <td>0.04</td>\n",
       "      <td>0.040</td>\n",
       "    </tr>\n",
       "    <tr>\n",
       "      <th>3</th>\n",
       "      <td>PhaseNet_org</td>\n",
       "      <td>PhaseNet</td>\n",
       "      <td>original</td>\n",
       "      <td>0.28</td>\n",
       "      <td>0.170</td>\n",
       "    </tr>\n",
       "    <tr>\n",
       "      <th>4</th>\n",
       "      <td>PhaseNet_org_stead</td>\n",
       "      <td>PhaseNet</td>\n",
       "      <td>stead</td>\n",
       "      <td>0.01</td>\n",
       "      <td>0.040</td>\n",
       "    </tr>\n",
       "    <tr>\n",
       "      <th>5</th>\n",
       "      <td>EQTransformer_org_stead</td>\n",
       "      <td>EQTransformer</td>\n",
       "      <td>stead</td>\n",
       "      <td>0.02</td>\n",
       "      <td>0.010</td>\n",
       "    </tr>\n",
       "  </tbody>\n",
       "</table>\n",
       "</div>"
      ],
      "text/plain": [
       "                     exp_name          model pretraining  p_opt_prob_thre   \n",
       "0       PhaseNet_org_instance       PhaseNet    instance             0.13  \\\n",
       "1           EQTransformer_org  EQTransformer    original             0.01   \n",
       "2  EQTransformer_org_instance  EQTransformer    instance             0.04   \n",
       "3                PhaseNet_org       PhaseNet    original             0.28   \n",
       "4          PhaseNet_org_stead       PhaseNet       stead             0.01   \n",
       "5     EQTransformer_org_stead  EQTransformer       stead             0.02   \n",
       "\n",
       "   s_opt_prob_thre  \n",
       "0            0.050  \n",
       "1            0.001  \n",
       "2            0.040  \n",
       "3            0.170  \n",
       "4            0.040  \n",
       "5            0.010  "
      ]
     },
     "execution_count": 14,
     "metadata": {},
     "output_type": "execute_result"
    }
   ],
   "source": [
    "opt_thresholds_for_original_models_df = pd.read_csv(\n",
    "    \"/home/zhongyiyuan/volpick/model_training/Original_model_opt_thresholds/all_pred/task0/optimal_threshold.csv\"\n",
    ")\n",
    "opt_thresholds_for_original_models_df = opt_thresholds_for_original_models_df[\n",
    "    [\"exp_name\", \"model\", \"pretraining\", \"p_opt_prob_thre\", \"s_opt_prob_thre\"]\n",
    "]\n",
    "opt_thresholds_for_original_models_df"
   ]
  },
  {
   "cell_type": "code",
   "execution_count": 15,
   "metadata": {},
   "outputs": [],
   "source": [
    "p_thre_dict = {\n",
    "    \"vol_eqt\": vol_eqt.default_args[\"P_threshold\"],\n",
    "    \"vol_pn\": vol_pn.default_args[\"P_threshold\"],\n",
    "    \"org_eqt\": 0.01,\n",
    "    \"org_pn\": 0.28,\n",
    "    \"int_eqt\": 0.04,\n",
    "    \"int_pn\": 0.13,\n",
    "    \"std_eqt\": 0.02,\n",
    "    \"std_pn\": 0.01,\n",
    "}\n",
    "s_thre_dict = {\n",
    "    \"vol_eqt\": vol_eqt.default_args[\"S_threshold\"],\n",
    "    \"vol_pn\": vol_pn.default_args[\"S_threshold\"],\n",
    "    \"org_eqt\": 0.001,\n",
    "    \"org_pn\": 0.17,\n",
    "    \"int_eqt\": 0.04,\n",
    "    \"int_pn\": 0.05,\n",
    "    \"std_eqt\": 0.01,\n",
    "    \"std_pn\": 0.04,\n",
    "}"
   ]
  },
  {
   "cell_type": "code",
   "execution_count": 31,
   "metadata": {},
   "outputs": [
    {
     "data": {
      "text/plain": [
       "{'vol_eqt': 0.22,\n",
       " 'vol_pn': 0.39,\n",
       " 'org_eqt': 0.01,\n",
       " 'org_pn': 0.28,\n",
       " 'int_eqt': 0.04,\n",
       " 'int_pn': 0.13,\n",
       " 'std_eqt': 0.02,\n",
       " 'std_pn': 0.01}"
      ]
     },
     "execution_count": 31,
     "metadata": {},
     "output_type": "execute_result"
    }
   ],
   "source": [
    "p_thre_dict"
   ]
  },
  {
   "cell_type": "code",
   "execution_count": 32,
   "metadata": {},
   "outputs": [
    {
     "data": {
      "text/plain": [
       "{'vol_eqt': 0.22,\n",
       " 'vol_pn': 0.34,\n",
       " 'org_eqt': 0.001,\n",
       " 'org_pn': 0.17,\n",
       " 'int_eqt': 0.04,\n",
       " 'int_pn': 0.05,\n",
       " 'std_eqt': 0.01,\n",
       " 'std_pn': 0.04}"
      ]
     },
     "execution_count": 32,
     "metadata": {},
     "output_type": "execute_result"
    }
   ],
   "source": [
    "s_thre_dict"
   ]
  },
  {
   "cell_type": "code",
   "execution_count": 16,
   "metadata": {},
   "outputs": [],
   "source": [
    "model_dict = {\n",
    "    \"vol_eqt\": vol_eqt,\n",
    "    \"vol_pn\": vol_pn,\n",
    "    \"org_eqt\": org_eqt,\n",
    "    \"org_pn\": org_pn,\n",
    "    \"int_eqt\": eqt_instance,\n",
    "    \"int_pn\": pn_instance,\n",
    "}\n",
    "prob_thres_dict = {\n",
    "    \"vol_eqt\": np.array([0.22]),\n",
    "    \"vol_pn\": np.array([0.39, 0.34]),\n",
    "    \"org_eqt\": np.array([0.001, 0.01]),\n",
    "    \"org_pn\": np.array([0.28, 0.17]),\n",
    "    \"int_eqt\": np.array([0.04]),\n",
    "    \"int_pn\": np.array([0.13, 0.05]),\n",
    "}"
   ]
  },
  {
   "cell_type": "code",
   "execution_count": 21,
   "metadata": {},
   "outputs": [
    {
     "name": "stdout",
     "output_type": "stream",
     "text": [
      "vol_eqt\n",
      "/home/zhongyiyuan/volpick/model_training/Noise_specificity/mynoise_pred/task0/vol_eqt exists\n",
      "Starting set: test\n"
     ]
    },
    {
     "name": "stderr",
     "output_type": "stream",
     "text": [
      "Preloading waveforms: 100%|██████████| 4985/4985 [00:00<00:00, 357167.84it/s]"
     ]
    },
    {
     "name": "stdout",
     "output_type": "stream",
     "text": [
      "Number of examples in test: 4985\n",
      "0 earthquake traces\n",
      "4985 noise traces\n",
      "Probability threshold: 0.220\n"
     ]
    },
    {
     "name": "stderr",
     "output_type": "stream",
     "text": [
      "\n"
     ]
    },
    {
     "name": "stdout",
     "output_type": "stream",
     "text": [
      "vol_pn\n",
      "/home/zhongyiyuan/volpick/model_training/Noise_specificity/mynoise_pred/task0/vol_pn exists\n",
      "Starting set: test\n"
     ]
    },
    {
     "name": "stderr",
     "output_type": "stream",
     "text": [
      "Preloading waveforms: 100%|██████████| 4985/4985 [00:00<00:00, 366072.65it/s]"
     ]
    },
    {
     "name": "stdout",
     "output_type": "stream",
     "text": [
      "Number of examples in test: 4985\n",
      "0 earthquake traces\n",
      "4985 noise traces\n",
      "Probability threshold: 0.390\n"
     ]
    },
    {
     "name": "stderr",
     "output_type": "stream",
     "text": [
      "\n"
     ]
    },
    {
     "name": "stdout",
     "output_type": "stream",
     "text": [
      "Probability threshold: 0.340\n",
      "org_eqt\n",
      "/home/zhongyiyuan/volpick/model_training/Noise_specificity/mynoise_pred/task0/org_eqt exists\n",
      "Starting set: test\n"
     ]
    },
    {
     "name": "stderr",
     "output_type": "stream",
     "text": [
      "Preloading waveforms: 100%|██████████| 4985/4985 [00:00<00:00, 365573.41it/s]"
     ]
    },
    {
     "name": "stdout",
     "output_type": "stream",
     "text": [
      "Number of examples in test: 4985\n",
      "0 earthquake traces\n",
      "4985 noise traces\n",
      "Probability threshold: 0.001\n"
     ]
    },
    {
     "name": "stderr",
     "output_type": "stream",
     "text": [
      "\n"
     ]
    },
    {
     "name": "stdout",
     "output_type": "stream",
     "text": [
      "Probability threshold: 0.010\n",
      "org_pn\n",
      "/home/zhongyiyuan/volpick/model_training/Noise_specificity/mynoise_pred/task0/org_pn exists\n",
      "Starting set: test\n"
     ]
    },
    {
     "name": "stderr",
     "output_type": "stream",
     "text": [
      "Preloading waveforms: 100%|██████████| 4985/4985 [00:00<00:00, 358545.92it/s]"
     ]
    },
    {
     "name": "stdout",
     "output_type": "stream",
     "text": [
      "Number of examples in test: 4985\n",
      "0 earthquake traces\n",
      "4985 noise traces\n",
      "Probability threshold: 0.280\n"
     ]
    },
    {
     "name": "stderr",
     "output_type": "stream",
     "text": [
      "\n"
     ]
    },
    {
     "name": "stdout",
     "output_type": "stream",
     "text": [
      "Probability threshold: 0.170\n",
      "int_eqt\n",
      "/home/zhongyiyuan/volpick/model_training/Noise_specificity/mynoise_pred/task0/int_eqt exists\n",
      "Starting set: test\n"
     ]
    },
    {
     "name": "stderr",
     "output_type": "stream",
     "text": [
      "Preloading waveforms: 100%|██████████| 4985/4985 [00:00<00:00, 370759.40it/s]"
     ]
    },
    {
     "name": "stdout",
     "output_type": "stream",
     "text": [
      "Number of examples in test: 4985\n",
      "0 earthquake traces\n",
      "4985 noise traces\n",
      "Probability threshold: 0.040\n"
     ]
    },
    {
     "name": "stderr",
     "output_type": "stream",
     "text": [
      "\n"
     ]
    },
    {
     "name": "stdout",
     "output_type": "stream",
     "text": [
      "int_pn\n",
      "/home/zhongyiyuan/volpick/model_training/Noise_specificity/mynoise_pred/task0/int_pn exists\n",
      "Starting set: test\n"
     ]
    },
    {
     "name": "stderr",
     "output_type": "stream",
     "text": [
      "Preloading waveforms: 100%|██████████| 4985/4985 [00:00<00:00, 373928.85it/s]"
     ]
    },
    {
     "name": "stdout",
     "output_type": "stream",
     "text": [
      "Number of examples in test: 4985\n",
      "0 earthquake traces\n",
      "4985 noise traces\n",
      "Probability threshold: 0.130\n"
     ]
    },
    {
     "name": "stderr",
     "output_type": "stream",
     "text": [
      "\n"
     ]
    },
    {
     "name": "stdout",
     "output_type": "stream",
     "text": [
      "Probability threshold: 0.050\n"
     ]
    }
   ],
   "source": [
    "target_path_dataset_pairs = [\n",
    "    (targets_path_my_noise, dataset),\n",
    "]\n",
    "\n",
    "target_i = targets_path_my_noise\n",
    "model = vol_eqt\n",
    "\n",
    "for model_name, model in model_dict.items():\n",
    "    print(model_name)\n",
    "    eval_task0_true_negative_rate(\n",
    "        dev_test_set=dataset,\n",
    "        model=model,\n",
    "        exp_name=model_name,\n",
    "        targets_path=target_i,\n",
    "        root_save_dir=\"/home/zhongyiyuan/volpick/model_training/Noise_specificity\",\n",
    "        # prob_thres=np.array([0.27,0.3,0.32]),\n",
    "        # prob_thres=np.array([0.21,0.22,0.23,0.24,0.25,0.27,0.28,0.29,0.30,0.31,0.32,0.33,0.34,0.35]), #,0.24,0.245,0.25,0.255,0.26,0.265,0.27,0.28,0.29,0.3\n",
    "        prob_thres=prob_thres_dict[model_name],\n",
    "        num_workers=32,\n",
    "        batchsize=1024,\n",
    "        num_test_run=-1,\n",
    "        output_remark=\"pred\",\n",
    "        sets=[\"test\"],\n",
    "        # sets=[\"test\"],\n",
    "        data_norm_type=model.norm,\n",
    "    )"
   ]
  },
  {
   "cell_type": "code",
   "execution_count": 27,
   "metadata": {},
   "outputs": [
    {
     "data": {
      "text/plain": [
       "3071"
      ]
     },
     "execution_count": 27,
     "metadata": {},
     "output_type": "execute_result"
    }
   ],
   "source": [
    "len(dataset.dev())"
   ]
  },
  {
   "cell_type": "code",
   "execution_count": 29,
   "metadata": {},
   "outputs": [
    {
     "name": "stdout",
     "output_type": "stream",
     "text": [
      "True\n",
      "0.0159755479544401\n",
      "/home/zhongyiyuan/volpick/model_training/weights_wholedataset/e/version_0\n",
      "vol_eqt2\n",
      "/home/zhongyiyuan/volpick/model_training/Noise_specificity/mynoise_pred/task0/vol_eqt2 exists\n",
      "Starting set: dev\n"
     ]
    },
    {
     "name": "stderr",
     "output_type": "stream",
     "text": [
      "Preloading waveforms: 100%|██████████| 2554/2554 [00:00<00:00, 349959.24it/s]"
     ]
    },
    {
     "name": "stdout",
     "output_type": "stream",
     "text": [
      "Number of examples in dev: 2554\n",
      "0 earthquake traces\n",
      "2554 noise traces\n",
      "Probability threshold: 0.050\n"
     ]
    },
    {
     "name": "stderr",
     "output_type": "stream",
     "text": [
      "\n"
     ]
    },
    {
     "name": "stdout",
     "output_type": "stream",
     "text": [
      "Probability threshold: 0.100\n",
      "Probability threshold: 0.150\n",
      "Probability threshold: 0.200\n",
      "Probability threshold: 0.250\n",
      "Probability threshold: 0.300\n",
      "Probability threshold: 0.350\n",
      "Probability threshold: 0.400\n",
      "Probability threshold: 0.450\n",
      "Probability threshold: 0.500\n",
      "Probability threshold: 0.550\n",
      "Probability threshold: 0.600\n"
     ]
    },
    {
     "data": {
      "image/png": "[encoded data removed]",
      "text/plain": [
       "<Figure size 600x600 with 2 Axes>"
      ]
     },
     "metadata": {},
     "output_type": "display_data"
    }
   ],
   "source": [
    "model_name = \"vol_eqt2\"\n",
    "pl_model = load_best_model_from_base_dir(\n",
    "    Path(\"/home/zhongyiyuan/volpick/model_training/weights_wholedataset/e\")\n",
    ")\n",
    "model = pl_model.model\n",
    "print(model_name)\n",
    "eval_task0_true_negative_rate(\n",
    "    dev_test_set=dataset,\n",
    "    model=model,\n",
    "    exp_name=model_name,\n",
    "    targets_path=targets_path_my_noise,\n",
    "    root_save_dir=\"/home/zhongyiyuan/volpick/model_training/Noise_specificity\",\n",
    "    # prob_thres=np.array([0.27,0.3,0.32]),\n",
    "    # prob_thres=np.array([0.21,0.22,0.23,0.24,0.25,0.27,0.28,0.29,0.30,0.31,0.32,0.33,0.34,0.35]), #,0.24,0.245,0.25,0.255,0.26,0.265,0.27,0.28,0.29,0.3\n",
    "    prob_thres=np.array(\n",
    "        [0.05, 0.1, 0.15, 0.2, 0.25, 0.3, 0.35, 0.4, 0.45, 0.5, 0.55, 0.6]\n",
    "    ),\n",
    "    num_workers=32,\n",
    "    batchsize=1024,\n",
    "    num_test_run=-1,\n",
    "    output_remark=\"pred\",\n",
    "    sets=[\"dev\"],\n",
    "    # sets=[\"test\"],\n",
    "    data_norm_type=model.norm,\n",
    ")"
   ]
  },
  {
   "cell_type": "code",
   "execution_count": 69,
   "metadata": {},
   "outputs": [],
   "source": [
    "model_pred_save_path = Path(\n",
    "    \"/home/zhongyiyuan/volpick/model_training/Noise_specificity/mynoise_pred/task0\"\n",
    ")\n",
    "stats_list = []\n",
    "labels = {\n",
    "    \"org_eqt\": \"Original EQTransformer \\cite{mousavi2020earthquake}\",\n",
    "    \"int_eqt\": \"EQTransformer trained on INSTANCE \\cite{munchmeyer2022picker}\",\n",
    "    \"vol_eqt\": \"EQTransformer retrained in this study\",\n",
    "    \"org_pn\": \"Original PhaseNet \\cite{zhu2019phasenet}\",\n",
    "    \"int_pn\": \"PhaseNet trained on INSTANCE \\cite{munchmeyer2022picker}\",\n",
    "    \"vol_pn\": \"PhaseNet retrained in this study\",\n",
    "}\n",
    "# for pred_dir in model_pred_save_path.iterdir():\n",
    "for model_name in model_dict:\n",
    "    pred_dir = model_pred_save_path / model_name\n",
    "    if pred_dir.is_dir():\n",
    "        df_true_negative_rate = pd.read_csv(pred_dir / \"test_tnr.csv\")\n",
    "        p_tnr = df_true_negative_rate[\n",
    "            np.isclose(df_true_negative_rate[\"prob_thre\"], p_thre_dict[model_name])\n",
    "        ][\"p_true_negative_rate\"].iloc[0]\n",
    "        p_fpr = 1 - p_tnr\n",
    "        s_tnr = df_true_negative_rate[\n",
    "            np.isclose(df_true_negative_rate[\"prob_thre\"], s_thre_dict[model_name])\n",
    "        ][\"s_true_negative_rate\"].iloc[0]\n",
    "        s_fpr = 1 - s_tnr\n",
    "        stats_list.append(\n",
    "            {\n",
    "                \"exp_name\": model_name,\n",
    "                \"Model\": labels[model_name],\n",
    "                \"True negative rate for p picking\": p_tnr,\n",
    "                \"True negative rate for s picking\": s_tnr,\n",
    "                \"False positive rate for p picking\": p_fpr,\n",
    "                \"False positive rate for s picking\": s_fpr,\n",
    "            }\n",
    "        )\n",
    "#         print(pred_dir)\n",
    "#         stats = opt_prob_metrics_dev(pred_dir)\n",
    "#         stats_list.append(stats)\n",
    "df_tnr_fpr = pd.DataFrame(stats_list)\n",
    "# df.to_csv(model_pred_save_path / \"optimal_threshold_dev.csv\", index=False)\n",
    "# df"
   ]
  },
  {
   "cell_type": "code",
   "execution_count": 70,
   "metadata": {},
   "outputs": [
    {
     "data": {
      "text/html": [
       "<div>\n",
       "<style scoped>\n",
       "    .dataframe tbody tr th:only-of-type {\n",
       "        vertical-align: middle;\n",
       "    }\n",
       "\n",
       "    .dataframe tbody tr th {\n",
       "        vertical-align: top;\n",
       "    }\n",
       "\n",
       "    .dataframe thead th {\n",
       "        text-align: right;\n",
       "    }\n",
       "</style>\n",
       "<table border=\"1\" class=\"dataframe\">\n",
       "  <thead>\n",
       "    <tr style=\"text-align: right;\">\n",
       "      <th></th>\n",
       "      <th>exp_name</th>\n",
       "      <th>Model</th>\n",
       "      <th>True negative rate for p picking</th>\n",
       "      <th>True negative rate for s picking</th>\n",
       "      <th>False positive rate for p picking</th>\n",
       "      <th>False positive rate for s picking</th>\n",
       "    </tr>\n",
       "  </thead>\n",
       "  <tbody>\n",
       "    <tr>\n",
       "      <th>0</th>\n",
       "      <td>vol_eqt</td>\n",
       "      <td>EQTransformer retrained in this study</td>\n",
       "      <td>0.999198</td>\n",
       "      <td>0.996991</td>\n",
       "      <td>0.000802</td>\n",
       "      <td>0.003009</td>\n",
       "    </tr>\n",
       "    <tr>\n",
       "      <th>1</th>\n",
       "      <td>vol_pn</td>\n",
       "      <td>PhaseNet retrained in this study</td>\n",
       "      <td>0.998195</td>\n",
       "      <td>0.999398</td>\n",
       "      <td>0.001805</td>\n",
       "      <td>0.000602</td>\n",
       "    </tr>\n",
       "    <tr>\n",
       "      <th>2</th>\n",
       "      <td>org_eqt</td>\n",
       "      <td>Original EQTransformer \\cite{mousavi2020earthq...</td>\n",
       "      <td>0.999599</td>\n",
       "      <td>0.991174</td>\n",
       "      <td>0.000401</td>\n",
       "      <td>0.008826</td>\n",
       "    </tr>\n",
       "    <tr>\n",
       "      <th>3</th>\n",
       "      <td>org_pn</td>\n",
       "      <td>Original PhaseNet \\cite{zhu2019phasenet}</td>\n",
       "      <td>0.998395</td>\n",
       "      <td>0.999799</td>\n",
       "      <td>0.001605</td>\n",
       "      <td>0.000201</td>\n",
       "    </tr>\n",
       "    <tr>\n",
       "      <th>4</th>\n",
       "      <td>int_eqt</td>\n",
       "      <td>EQTransformer trained on INSTANCE \\cite{munchm...</td>\n",
       "      <td>0.996991</td>\n",
       "      <td>0.998997</td>\n",
       "      <td>0.003009</td>\n",
       "      <td>0.001003</td>\n",
       "    </tr>\n",
       "    <tr>\n",
       "      <th>5</th>\n",
       "      <td>int_pn</td>\n",
       "      <td>PhaseNet trained on INSTANCE \\cite{munchmeyer2...</td>\n",
       "      <td>0.974925</td>\n",
       "      <td>0.879639</td>\n",
       "      <td>0.025075</td>\n",
       "      <td>0.120361</td>\n",
       "    </tr>\n",
       "  </tbody>\n",
       "</table>\n",
       "</div>"
      ],
      "text/plain": [
       "  exp_name                                              Model   \n",
       "0  vol_eqt              EQTransformer retrained in this study  \\\n",
       "1   vol_pn                   PhaseNet retrained in this study   \n",
       "2  org_eqt  Original EQTransformer \\cite{mousavi2020earthq...   \n",
       "3   org_pn           Original PhaseNet \\cite{zhu2019phasenet}   \n",
       "4  int_eqt  EQTransformer trained on INSTANCE \\cite{munchm...   \n",
       "5   int_pn  PhaseNet trained on INSTANCE \\cite{munchmeyer2...   \n",
       "\n",
       "   True negative rate for p picking  True negative rate for s picking   \n",
       "0                          0.999198                          0.996991  \\\n",
       "1                          0.998195                          0.999398   \n",
       "2                          0.999599                          0.991174   \n",
       "3                          0.998395                          0.999799   \n",
       "4                          0.996991                          0.998997   \n",
       "5                          0.974925                          0.879639   \n",
       "\n",
       "   False positive rate for p picking  False positive rate for s picking  \n",
       "0                           0.000802                           0.003009  \n",
       "1                           0.001805                           0.000602  \n",
       "2                           0.000401                           0.008826  \n",
       "3                           0.001605                           0.000201  \n",
       "4                           0.003009                           0.001003  \n",
       "5                           0.025075                           0.120361  "
      ]
     },
     "execution_count": 70,
     "metadata": {},
     "output_type": "execute_result"
    }
   ],
   "source": [
    "df_tnr_fpr"
   ]
  },
  {
   "cell_type": "code",
   "execution_count": 72,
   "metadata": {},
   "outputs": [
    {
     "name": "stdout",
     "output_type": "stream",
     "text": [
      "\\begin{tabular}{lrrrr}\n",
      "Model & True negative rate for p picking & True negative rate for s picking & False positive rate for p picking & False positive rate for s picking \\\\\n",
      "EQTransformer retrained in this study & 0.9992 & 0.9970 & 0.0008 & 0.0030 \\\\\n",
      "PhaseNet retrained in this study & 0.9982 & 0.9994 & 0.0018 & 0.0006 \\\\\n",
      "Original EQTransformer \\cite{mousavi2020earthquake} & 0.9996 & 0.9912 & 0.0004 & 0.0088 \\\\\n",
      "Original PhaseNet \\cite{zhu2019phasenet} & 0.9984 & 0.9998 & 0.0016 & 0.0002 \\\\\n",
      "EQTransformer trained on INSTANCE \\cite{munchmeyer2022picker} & 0.9970 & 0.9990 & 0.0030 & 0.0010 \\\\\n",
      "PhaseNet trained on INSTANCE \\cite{munchmeyer2022picker} & 0.9749 & 0.8796 & 0.0251 & 0.1204 \\\\\n",
      "\\end{tabular}\n",
      "\n"
     ]
    }
   ],
   "source": [
    "print(\n",
    "    df_tnr_fpr[\n",
    "        [\n",
    "            \"Model\",\n",
    "            \"True negative rate for p picking\",\n",
    "            \"True negative rate for s picking\",\n",
    "            \"False positive rate for p picking\",\n",
    "            \"False positive rate for s picking\",\n",
    "        ]\n",
    "    ]\n",
    "    .style.format(\n",
    "        {\n",
    "            \"True negative rate for p picking\": \"{:.4f}\",\n",
    "            \"False positive rate for p picking\": \"{:.4f}\",\n",
    "            \"True negative rate for s picking\": \"{:.4f}\",\n",
    "            \"False positive rate for s picking\": \"{:.4f}\",\n",
    "        },\n",
    "        na_rep=\"None\",\n",
    "    )\n",
    "    .hide(axis=\"index\")\n",
    "    .to_latex()\n",
    ")"
   ]
  },
  {
   "cell_type": "code",
   "execution_count": 36,
   "metadata": {},
   "outputs": [
    {
     "data": {
      "text/plain": [
       "'int_eqt'"
      ]
     },
     "execution_count": 36,
     "metadata": {},
     "output_type": "execute_result"
    }
   ],
   "source": [
    "pred_dir.name"
   ]
  },
  {
   "cell_type": "code",
   "execution_count": 39,
   "metadata": {},
   "outputs": [
    {
     "data": {
      "text/html": [
       "<div>\n",
       "<style scoped>\n",
       "    .dataframe tbody tr th:only-of-type {\n",
       "        vertical-align: middle;\n",
       "    }\n",
       "\n",
       "    .dataframe tbody tr th {\n",
       "        vertical-align: top;\n",
       "    }\n",
       "\n",
       "    .dataframe thead th {\n",
       "        text-align: right;\n",
       "    }\n",
       "</style>\n",
       "<table border=\"1\" class=\"dataframe\">\n",
       "  <thead>\n",
       "    <tr style=\"text-align: right;\">\n",
       "      <th></th>\n",
       "      <th>prob_thre</th>\n",
       "      <th>p_TN</th>\n",
       "      <th>p_FP</th>\n",
       "      <th>p_true_negative_rate</th>\n",
       "      <th>s_TN</th>\n",
       "      <th>s_FP</th>\n",
       "      <th>s_true_negative_rate</th>\n",
       "    </tr>\n",
       "  </thead>\n",
       "  <tbody>\n",
       "    <tr>\n",
       "      <th>1</th>\n",
       "      <td>0.05</td>\n",
       "      <td>4385</td>\n",
       "      <td>600</td>\n",
       "      <td>0.879639</td>\n",
       "      <td>4385</td>\n",
       "      <td>600</td>\n",
       "      <td>0.879639</td>\n",
       "    </tr>\n",
       "  </tbody>\n",
       "</table>\n",
       "</div>"
      ],
      "text/plain": [
       "   prob_thre  p_TN  p_FP  p_true_negative_rate  s_TN  s_FP   \n",
       "1       0.05  4385   600              0.879639  4385   600  \\\n",
       "\n",
       "   s_true_negative_rate  \n",
       "1              0.879639  "
      ]
     },
     "execution_count": 39,
     "metadata": {},
     "output_type": "execute_result"
    }
   ],
   "source": [
    "df_true_negative_rate[\n",
    "    np.isclose(df_true_negative_rate[\"prob_thre\"], s_thre_dict[model_name])\n",
    "]"
   ]
  },
  {
   "cell_type": "markdown",
   "metadata": {},
   "source": [
    "# Models trained without noise examples"
   ]
  },
  {
   "cell_type": "code",
   "execution_count": 16,
   "metadata": {},
   "outputs": [
    {
     "name": "stdout",
     "output_type": "stream",
     "text": [
      "0.0164202954620122\n",
      "/home/zhongyiyuan/volpick/model_training/configs_nonoise/weights/e_nonoise/version_0\n"
     ]
    },
    {
     "data": {
      "image/png": "[encoded data removed]",
      "text/plain": [
       "<Figure size 600x600 with 2 Axes>"
      ]
     },
     "metadata": {},
     "output_type": "display_data"
    }
   ],
   "source": [
    "model_path = Path(\n",
    "    \"/home/zhongyiyuan/volpick/model_training/configs_nonoise/weights/e_nonoise\"\n",
    ")\n",
    "eqt_nonoise = load_best_model_from_base_dir(model_path)"
   ]
  },
  {
   "cell_type": "code",
   "execution_count": 17,
   "metadata": {},
   "outputs": [
    {
     "name": "stdout",
     "output_type": "stream",
     "text": [
      "0.0461259819567203\n",
      "/home/zhongyiyuan/volpick/model_training/configs_nonoise/weights/p_nonoise/version_0\n"
     ]
    },
    {
     "data": {
      "image/png": "[encoded data removed]",
      "text/plain": [
       "<Figure size 600x600 with 2 Axes>"
      ]
     },
     "metadata": {},
     "output_type": "display_data"
    }
   ],
   "source": [
    "model_path = Path(\n",
    "    \"/home/zhongyiyuan/volpick/model_training/configs_nonoise/weights/p_nonoise\"\n",
    ")\n",
    "pn_nonoise = load_best_model_from_base_dir(model_path)"
   ]
  },
  {
   "cell_type": "code",
   "execution_count": 7,
   "metadata": {},
   "outputs": [
    {
     "name": "stdout",
     "output_type": "stream",
     "text": [
      "0.0130411107093095\n",
      "/home/zhongyiyuan/volpick/model_training/configs_nonoise/weights/instance_eqt_nonoise/version_0\n"
     ]
    },
    {
     "data": {
      "image/png": "[encoded data removed]",
      "text/plain": [
       "<Figure size 600x600 with 2 Axes>"
      ]
     },
     "metadata": {},
     "output_type": "display_data"
    }
   ],
   "source": [
    "model_path = Path(\n",
    "    \"/home/zhongyiyuan/volpick/model_training/configs_nonoise/weights/instance_eqt_nonoise\"\n",
    ")\n",
    "int_eqt_nonoise = load_best_model_from_base_dir(model_path)"
   ]
  },
  {
   "cell_type": "code",
   "execution_count": 8,
   "metadata": {},
   "outputs": [
    {
     "name": "stdout",
     "output_type": "stream",
     "text": [
      "0.0246657710522413\n",
      "/home/zhongyiyuan/volpick/model_training/configs_nonoise/weights/instance_pn_nonoise/version_0\n"
     ]
    },
    {
     "data": {
      "image/png": "[encoded data removed]",
      "text/plain": [
       "<Figure size 600x600 with 2 Axes>"
      ]
     },
     "metadata": {},
     "output_type": "display_data"
    }
   ],
   "source": [
    "model_path = Path(\n",
    "    \"/home/zhongyiyuan/volpick/model_training/configs_nonoise/weights/instance_pn_nonoise\"\n",
    ")\n",
    "int_pn_nonoise = load_best_model_from_base_dir(model_path)"
   ]
  },
  {
   "cell_type": "code",
   "execution_count": 9,
   "metadata": {},
   "outputs": [],
   "source": [
    "# model_dict2 = {\n",
    "#     \"vol_eqt_nonoise\": eqt_nonoise.model,\n",
    "#     \"vol_pn_nonoise\": pn_nonoise.model,\n",
    "# }\n",
    "model_dict2 = {\n",
    "    \"int_eqt_nonoise\": int_eqt_nonoise.model,\n",
    "    \"int_pn_nonoise\": int_pn_nonoise.model,\n",
    "}"
   ]
  },
  {
   "cell_type": "code",
   "execution_count": 10,
   "metadata": {},
   "outputs": [
    {
     "data": {
      "text/plain": [
       "'peak'"
      ]
     },
     "execution_count": 10,
     "metadata": {},
     "output_type": "execute_result"
    }
   ],
   "source": [
    "int_eqt_nonoise.model.norm"
   ]
  },
  {
   "cell_type": "code",
   "execution_count": 13,
   "metadata": {},
   "outputs": [
    {
     "data": {
      "text/plain": [
       "PosixPath('/home/zhongyiyuan/volpick/model_training/Eval_targets/mynoise')"
      ]
     },
     "execution_count": 13,
     "metadata": {},
     "output_type": "execute_result"
    }
   ],
   "source": [
    "targets_path_my_noise"
   ]
  },
  {
   "cell_type": "code",
   "execution_count": 11,
   "metadata": {},
   "outputs": [
    {
     "name": "stdout",
     "output_type": "stream",
     "text": [
      "int_eqt_nonoise\n",
      "/home/zhongyiyuan/volpick/model_training/Noise_specificity/mynoise_pred/task0/int_eqt_nonoise exists\n",
      "Starting set: test\n"
     ]
    },
    {
     "name": "stderr",
     "output_type": "stream",
     "text": [
      "Preloading waveforms: 100%|██████████| 4985/4985 [00:00<00:00, 321206.34it/s]"
     ]
    },
    {
     "name": "stdout",
     "output_type": "stream",
     "text": [
      "Number of examples in test: 4985\n",
      "0 earthquake traces\n",
      "4985 noise traces\n",
      "Probability threshold: 0.050\n"
     ]
    },
    {
     "name": "stderr",
     "output_type": "stream",
     "text": [
      "\n"
     ]
    },
    {
     "name": "stdout",
     "output_type": "stream",
     "text": [
      "Probability threshold: 0.100\n",
      "Probability threshold: 0.150\n",
      "Probability threshold: 0.200\n",
      "Probability threshold: 0.250\n",
      "Probability threshold: 0.300\n",
      "Probability threshold: 0.350\n",
      "Probability threshold: 0.400\n",
      "Probability threshold: 0.450\n",
      "Probability threshold: 0.500\n",
      "Probability threshold: 0.550\n",
      "Probability threshold: 0.600\n",
      "int_pn_nonoise\n",
      "/home/zhongyiyuan/volpick/model_training/Noise_specificity/mynoise_pred/task0/int_pn_nonoise exists\n",
      "Starting set: test\n"
     ]
    },
    {
     "name": "stderr",
     "output_type": "stream",
     "text": [
      "Preloading waveforms: 100%|██████████| 4985/4985 [00:00<00:00, 333459.94it/s]"
     ]
    },
    {
     "name": "stdout",
     "output_type": "stream",
     "text": [
      "Number of examples in test: 4985\n",
      "0 earthquake traces\n",
      "4985 noise traces\n",
      "Probability threshold: 0.050\n"
     ]
    },
    {
     "name": "stderr",
     "output_type": "stream",
     "text": [
      "\n"
     ]
    },
    {
     "name": "stdout",
     "output_type": "stream",
     "text": [
      "Probability threshold: 0.100\n",
      "Probability threshold: 0.150\n",
      "Probability threshold: 0.200\n",
      "Probability threshold: 0.250\n",
      "Probability threshold: 0.300\n",
      "Probability threshold: 0.350\n",
      "Probability threshold: 0.400\n",
      "Probability threshold: 0.450\n",
      "Probability threshold: 0.500\n",
      "Probability threshold: 0.550\n",
      "Probability threshold: 0.600\n"
     ]
    }
   ],
   "source": [
    "for model_name, model in model_dict2.items():\n",
    "    print(model_name)\n",
    "    eval_task0_true_negative_rate(\n",
    "        dev_test_set=dataset,\n",
    "        model=model,\n",
    "        exp_name=model_name,\n",
    "        targets_path=targets_path_my_noise,\n",
    "        root_save_dir=\"/home/zhongyiyuan/volpick/model_training/Noise_specificity\",\n",
    "        # prob_thres=np.array([0.27,0.3,0.32]),\n",
    "        # prob_thres=np.array([0.21,0.22,0.23,0.24,0.25,0.27,0.28,0.29,0.30,0.31,0.32,0.33,0.34,0.35]), #,0.24,0.245,0.25,0.255,0.26,0.265,0.27,0.28,0.29,0.3\n",
    "        prob_thres=np.array(\n",
    "            [0.05, 0.1, 0.15, 0.2, 0.25, 0.3, 0.35, 0.4, 0.45, 0.5, 0.55, 0.6]\n",
    "        ),\n",
    "        num_workers=32,\n",
    "        batchsize=1024,\n",
    "        num_test_run=-1,\n",
    "        output_remark=\"pred\",\n",
    "        sets=[\"test\"],\n",
    "        # sets=[\"test\"],\n",
    "        data_norm_type=model.norm,\n",
    "    )"
   ]
  },
  {
   "cell_type": "markdown",
   "metadata": {},
   "source": [
    "# For INSTANCE"
   ]
  },
  {
   "cell_type": "code",
   "execution_count": 2,
   "metadata": {},
   "outputs": [],
   "source": [
    "data_instance_noise = sbd.InstanceNoise(\n",
    "    sampling_rate=100, component_order=\"ZNE\", dimension_order=\"NCW\", cache=\"full\"\n",
    ")"
   ]
  },
  {
   "cell_type": "code",
   "execution_count": 3,
   "metadata": {},
   "outputs": [
    {
     "data": {
      "text/plain": [
       "132288"
      ]
     },
     "execution_count": 3,
     "metadata": {},
     "output_type": "execute_result"
    }
   ],
   "source": [
    "len(data_instance_noise)"
   ]
  },
  {
   "cell_type": "code",
   "execution_count": 3,
   "metadata": {},
   "outputs": [],
   "source": [
    "data_instance_noise.filter(\n",
    "    data_instance_noise[\"split\"].isin([\"dev\", \"test\"]), inplace=True\n",
    ")"
   ]
  },
  {
   "cell_type": "code",
   "execution_count": 4,
   "metadata": {},
   "outputs": [
    {
     "data": {
      "text/plain": [
       "39752"
      ]
     },
     "execution_count": 4,
     "metadata": {},
     "output_type": "execute_result"
    }
   ],
   "source": [
    "len(data_instance_noise.test())"
   ]
  },
  {
   "cell_type": "code",
   "execution_count": 5,
   "metadata": {},
   "outputs": [
    {
     "name": "stderr",
     "output_type": "stream",
     "text": [
      "Preloading waveforms: 100%|██████████| 53003/53003 [00:33<00:00, 1601.88it/s]\n"
     ]
    }
   ],
   "source": [
    "data_instance_noise.preload_waveforms(pbar=True)"
   ]
  },
  {
   "cell_type": "code",
   "execution_count": 8,
   "metadata": {},
   "outputs": [
    {
     "name": "stdout",
     "output_type": "stream",
     "text": [
      "/home/zhongyiyuan/volpick/model_training/Eval_targets/instance_noise exists\n"
     ]
    }
   ],
   "source": [
    "targets_path_instance_noise = Path(\n",
    "    \"/home/zhongyiyuan/volpick/model_training/Eval_targets/instance_noise\"\n",
    ")\n",
    "try:\n",
    "    targets_path_instance_noise.mkdir(parents=True, exist_ok=False)\n",
    "except FileExistsError:\n",
    "    print(f\"{targets_path_instance_noise} exists\")"
   ]
  },
  {
   "cell_type": "code",
   "execution_count": 13,
   "metadata": {},
   "outputs": [
    {
     "name": "stderr",
     "output_type": "stream",
     "text": [
      "  0%|          | 0/53003 [00:00<?, ?it/s]"
     ]
    },
    {
     "name": "stderr",
     "output_type": "stream",
     "text": [
      "100%|██████████| 53003/53003 [00:15<00:00, 3517.32it/s]\n"
     ]
    }
   ],
   "source": [
    "replace_if_exist = False\n",
    "generate_task0(\n",
    "    dataset=data_instance_noise,\n",
    "    output=targets_path_instance_noise,\n",
    "    sampling_rate=100,\n",
    "    noise_before_events=False,\n",
    "    keep_source_type=False,\n",
    "    replace_if_exist=replace_if_exist,\n",
    ")"
   ]
  },
  {
   "cell_type": "code",
   "execution_count": 19,
   "metadata": {},
   "outputs": [
    {
     "data": {
      "text/plain": [
       "{'vol_eqt': array([0.33, 0.46]),\n",
       " 'vol_pn': array([0.41, 0.57]),\n",
       " 'org_eqt': array([0.06, 0.22]),\n",
       " 'org_pn': array([0.38, 0.45]),\n",
       " 'int_eqt': array([0.22, 0.24]),\n",
       " 'int_pn': array([0.29, 0.26])}"
      ]
     },
     "execution_count": 19,
     "metadata": {},
     "output_type": "execute_result"
    }
   ],
   "source": [
    "prob_thres_dict = {\n",
    "    \"vol_eqt\": np.array([0.33, 0.46]),\n",
    "    \"vol_pn\": np.array([0.41, 0.57]),\n",
    "    \"org_eqt\": np.array([0.06, 0.22]),\n",
    "    \"org_pn\": np.array([0.38, 0.45]),\n",
    "    \"int_eqt\": np.array([0.22, 0.24]),\n",
    "    \"int_pn\": np.array([0.29, 0.26]),\n",
    "}\n",
    "prob_thres_dict"
   ]
  },
  {
   "cell_type": "code",
   "execution_count": 20,
   "metadata": {},
   "outputs": [
    {
     "name": "stdout",
     "output_type": "stream",
     "text": [
      "vol_eqt\n",
      "/home/zhongyiyuan/volpick/model_training/Noise_specificity_instance/instance_noise_pred/task0/vol_eqt exists\n",
      "Starting set: test\n"
     ]
    },
    {
     "name": "stderr",
     "output_type": "stream",
     "text": [
      "Preloading waveforms: 100%|██████████| 39752/39752 [00:00<00:00, 352722.60it/s]\n"
     ]
    },
    {
     "name": "stdout",
     "output_type": "stream",
     "text": [
      "Number of examples in test: 39752\n",
      "0 earthquake traces\n",
      "39752 noise traces\n",
      "Probability threshold: 0.050\n",
      "Probability threshold: 0.100\n",
      "Probability threshold: 0.150\n",
      "Probability threshold: 0.200\n",
      "Probability threshold: 0.250\n",
      "Probability threshold: 0.300\n",
      "Probability threshold: 0.350\n",
      "Probability threshold: 0.400\n",
      "Probability threshold: 0.450\n",
      "Probability threshold: 0.500\n",
      "Probability threshold: 0.550\n",
      "Probability threshold: 0.600\n",
      "vol_pn\n",
      "/home/zhongyiyuan/volpick/model_training/Noise_specificity_instance/instance_noise_pred/task0/vol_pn exists\n",
      "Starting set: test\n"
     ]
    },
    {
     "name": "stderr",
     "output_type": "stream",
     "text": [
      "Preloading waveforms: 100%|██████████| 39752/39752 [00:00<00:00, 361206.79it/s]\n"
     ]
    },
    {
     "name": "stdout",
     "output_type": "stream",
     "text": [
      "Number of examples in test: 39752\n",
      "0 earthquake traces\n",
      "39752 noise traces\n",
      "Probability threshold: 0.050\n",
      "Probability threshold: 0.100\n",
      "Probability threshold: 0.150\n",
      "Probability threshold: 0.200\n",
      "Probability threshold: 0.250\n",
      "Probability threshold: 0.300\n",
      "Probability threshold: 0.350\n",
      "Probability threshold: 0.400\n",
      "Probability threshold: 0.450\n",
      "Probability threshold: 0.500\n",
      "Probability threshold: 0.550\n",
      "Probability threshold: 0.600\n",
      "org_eqt\n",
      "/home/zhongyiyuan/volpick/model_training/Noise_specificity_instance/instance_noise_pred/task0/org_eqt exists\n",
      "Starting set: test\n"
     ]
    },
    {
     "name": "stderr",
     "output_type": "stream",
     "text": [
      "Preloading waveforms: 100%|██████████| 39752/39752 [00:00<00:00, 364198.67it/s]"
     ]
    },
    {
     "name": "stdout",
     "output_type": "stream",
     "text": [
      "Number of examples in test: 39752\n",
      "0 earthquake traces\n",
      "39752 noise traces\n",
      "Probability threshold: 0.050\n"
     ]
    },
    {
     "name": "stderr",
     "output_type": "stream",
     "text": [
      "\n"
     ]
    },
    {
     "name": "stdout",
     "output_type": "stream",
     "text": [
      "Probability threshold: 0.100\n",
      "Probability threshold: 0.150\n",
      "Probability threshold: 0.200\n",
      "Probability threshold: 0.250\n",
      "Probability threshold: 0.300\n",
      "Probability threshold: 0.350\n",
      "Probability threshold: 0.400\n",
      "Probability threshold: 0.450\n",
      "Probability threshold: 0.500\n",
      "Probability threshold: 0.550\n",
      "Probability threshold: 0.600\n",
      "org_pn\n",
      "/home/zhongyiyuan/volpick/model_training/Noise_specificity_instance/instance_noise_pred/task0/org_pn exists\n",
      "Starting set: test\n"
     ]
    },
    {
     "name": "stderr",
     "output_type": "stream",
     "text": [
      "Preloading waveforms: 100%|██████████| 39752/39752 [00:00<00:00, 360724.63it/s]"
     ]
    },
    {
     "name": "stdout",
     "output_type": "stream",
     "text": [
      "Number of examples in test: 39752\n",
      "0 earthquake traces\n",
      "39752 noise traces\n",
      "Probability threshold: 0.050\n"
     ]
    },
    {
     "name": "stderr",
     "output_type": "stream",
     "text": [
      "\n"
     ]
    },
    {
     "name": "stdout",
     "output_type": "stream",
     "text": [
      "Probability threshold: 0.100\n",
      "Probability threshold: 0.150\n",
      "Probability threshold: 0.200\n",
      "Probability threshold: 0.250\n",
      "Probability threshold: 0.300\n",
      "Probability threshold: 0.350\n",
      "Probability threshold: 0.400\n",
      "Probability threshold: 0.450\n",
      "Probability threshold: 0.500\n",
      "Probability threshold: 0.550\n",
      "Probability threshold: 0.600\n",
      "int_eqt\n",
      "/home/zhongyiyuan/volpick/model_training/Noise_specificity_instance/instance_noise_pred/task0/int_eqt exists\n",
      "Starting set: test\n"
     ]
    },
    {
     "name": "stderr",
     "output_type": "stream",
     "text": [
      "Preloading waveforms: 100%|██████████| 39752/39752 [00:00<00:00, 368692.52it/s]"
     ]
    },
    {
     "name": "stdout",
     "output_type": "stream",
     "text": [
      "Number of examples in test: 39752\n",
      "0 earthquake traces\n",
      "39752 noise traces\n",
      "Probability threshold: 0.050\n"
     ]
    },
    {
     "name": "stderr",
     "output_type": "stream",
     "text": [
      "\n"
     ]
    },
    {
     "name": "stdout",
     "output_type": "stream",
     "text": [
      "Probability threshold: 0.100\n",
      "Probability threshold: 0.150\n",
      "Probability threshold: 0.200\n",
      "Probability threshold: 0.250\n",
      "Probability threshold: 0.300\n",
      "Probability threshold: 0.350\n",
      "Probability threshold: 0.400\n",
      "Probability threshold: 0.450\n",
      "Probability threshold: 0.500\n",
      "Probability threshold: 0.550\n",
      "Probability threshold: 0.600\n",
      "int_pn\n",
      "/home/zhongyiyuan/volpick/model_training/Noise_specificity_instance/instance_noise_pred/task0/int_pn exists\n",
      "Starting set: test\n"
     ]
    },
    {
     "name": "stderr",
     "output_type": "stream",
     "text": [
      "Preloading waveforms: 100%|██████████| 39752/39752 [00:00<00:00, 360923.75it/s]"
     ]
    },
    {
     "name": "stdout",
     "output_type": "stream",
     "text": [
      "Number of examples in test: 39752\n",
      "0 earthquake traces\n",
      "39752 noise traces\n",
      "Probability threshold: 0.050\n"
     ]
    },
    {
     "name": "stderr",
     "output_type": "stream",
     "text": [
      "\n"
     ]
    },
    {
     "name": "stdout",
     "output_type": "stream",
     "text": [
      "Probability threshold: 0.100\n",
      "Probability threshold: 0.150\n",
      "Probability threshold: 0.200\n",
      "Probability threshold: 0.250\n",
      "Probability threshold: 0.300\n",
      "Probability threshold: 0.350\n",
      "Probability threshold: 0.400\n",
      "Probability threshold: 0.450\n",
      "Probability threshold: 0.500\n",
      "Probability threshold: 0.550\n",
      "Probability threshold: 0.600\n"
     ]
    }
   ],
   "source": [
    "# target_path_dataset_pairs = [\n",
    "#     (targets_path_my_noise, dataset),\n",
    "# ]\n",
    "\n",
    "# target_i = targets_path_my_noise\n",
    "# model = vol_eqt\n",
    "\n",
    "for model_name, model in model_dict.items():\n",
    "    print(model_name)\n",
    "    eval_task0_true_negative_rate(\n",
    "        dev_test_set=data_instance_noise,\n",
    "        model=model,\n",
    "        exp_name=model_name,\n",
    "        targets_path=targets_path_instance_noise,\n",
    "        root_save_dir=\"/home/zhongyiyuan/volpick/model_training/Noise_specificity_instance\",\n",
    "        # prob_thres=np.array([0.27,0.3,0.32]),\n",
    "        # prob_thres=np.array([0.21,0.22,0.23,0.24,0.25,0.27,0.28,0.29,0.30,0.31,0.32,0.33,0.34,0.35]), #,0.24,0.245,0.25,0.255,0.26,0.265,0.27,0.28,0.29,0.3\n",
    "        prob_thres=np.array(\n",
    "            [0.05, 0.1, 0.15, 0.2, 0.25, 0.3, 0.35, 0.4, 0.45, 0.5, 0.55, 0.6]\n",
    "        ),\n",
    "        num_workers=32,\n",
    "        batchsize=1024,\n",
    "        num_test_run=-1,\n",
    "        output_remark=\"pred\",\n",
    "        sets=[\"test\"],\n",
    "        # sets=[\"test\"],\n",
    "        data_norm_type=model.norm,\n",
    "    )"
   ]
  },
  {
   "cell_type": "code",
   "execution_count": 10,
   "metadata": {},
   "outputs": [
    {
     "name": "stdout",
     "output_type": "stream",
     "text": [
      "True\n",
      "0.0159755479544401\n",
      "/home/zhongyiyuan/volpick/model_training/weights_wholedataset/e/version_0\n",
      "vol_eqt2\n",
      "/home/zhongyiyuan/volpick/model_training/Noise_specificity_instance/instance_noise_pred/task0/vol_eqt2 exists\n",
      "Starting set: test\n"
     ]
    },
    {
     "name": "stderr",
     "output_type": "stream",
     "text": [
      "Preloading waveforms: 100%|██████████| 39752/39752 [00:00<00:00, 355450.70it/s]"
     ]
    },
    {
     "name": "stdout",
     "output_type": "stream",
     "text": [
      "Number of examples in test: 39752\n",
      "0 earthquake traces\n",
      "39752 noise traces\n",
      "Probability threshold: 0.050\n"
     ]
    },
    {
     "name": "stderr",
     "output_type": "stream",
     "text": [
      "\n"
     ]
    },
    {
     "name": "stdout",
     "output_type": "stream",
     "text": [
      "Probability threshold: 0.100\n",
      "Probability threshold: 0.150\n",
      "Probability threshold: 0.200\n",
      "Probability threshold: 0.250\n",
      "Probability threshold: 0.300\n",
      "Probability threshold: 0.350\n",
      "Probability threshold: 0.400\n",
      "Probability threshold: 0.450\n",
      "Probability threshold: 0.500\n",
      "Probability threshold: 0.550\n",
      "Probability threshold: 0.600\n"
     ]
    },
    {
     "data": {
      "image/png": "[encoded data removed]",
      "text/plain": [
       "<Figure size 600x600 with 2 Axes>"
      ]
     },
     "metadata": {},
     "output_type": "display_data"
    }
   ],
   "source": [
    "model_name = \"vol_eqt2\"\n",
    "pl_model = load_best_model_from_base_dir(\n",
    "    Path(\"/home/zhongyiyuan/volpick/model_training/weights_wholedataset/e\")\n",
    ")\n",
    "model = pl_model.model\n",
    "print(model_name)\n",
    "eval_task0_true_negative_rate(\n",
    "    dev_test_set=data_instance_noise,\n",
    "    model=model,\n",
    "    exp_name=model_name,\n",
    "    targets_path=targets_path_instance_noise,\n",
    "    root_save_dir=\"/home/zhongyiyuan/volpick/model_training/Noise_specificity_instance\",\n",
    "    # prob_thres=np.array([0.27,0.3,0.32]),\n",
    "    # prob_thres=np.array([0.21,0.22,0.23,0.24,0.25,0.27,0.28,0.29,0.30,0.31,0.32,0.33,0.34,0.35]), #,0.24,0.245,0.25,0.255,0.26,0.265,0.27,0.28,0.29,0.3\n",
    "    prob_thres=np.array(\n",
    "        [0.05, 0.1, 0.15, 0.2, 0.25, 0.3, 0.35, 0.4, 0.45, 0.5, 0.55, 0.6]\n",
    "    ),\n",
    "    num_workers=32,\n",
    "    batchsize=1024,\n",
    "    num_test_run=-1,\n",
    "    output_remark=\"pred\",\n",
    "    sets=[\"test\"],\n",
    "    # sets=[\"test\"],\n",
    "    data_norm_type=model.norm,\n",
    ")"
   ]
  },
  {
   "cell_type": "code",
   "execution_count": 20,
   "metadata": {},
   "outputs": [
    {
     "name": "stdout",
     "output_type": "stream",
     "text": [
      "int_eqt_nonoise\n",
      "/home/zhongyiyuan/volpick/model_training/Noise_specificity_instance/instance_noise_pred/task0/int_eqt_nonoise exists\n",
      "Starting set: test\n"
     ]
    },
    {
     "name": "stderr",
     "output_type": "stream",
     "text": [
      "Preloading waveforms: 100%|██████████| 39752/39752 [00:00<00:00, 352666.64it/s]\n"
     ]
    },
    {
     "name": "stdout",
     "output_type": "stream",
     "text": [
      "Number of examples in test: 39752\n",
      "0 earthquake traces\n",
      "39752 noise traces\n",
      "Probability threshold: 0.050\n",
      "Probability threshold: 0.100\n",
      "Probability threshold: 0.150\n",
      "Probability threshold: 0.200\n",
      "Probability threshold: 0.250\n",
      "Probability threshold: 0.300\n",
      "Probability threshold: 0.350\n",
      "Probability threshold: 0.400\n",
      "Probability threshold: 0.450\n",
      "Probability threshold: 0.500\n",
      "Probability threshold: 0.550\n",
      "Probability threshold: 0.600\n",
      "int_pn_nonoise\n",
      "/home/zhongyiyuan/volpick/model_training/Noise_specificity_instance/instance_noise_pred/task0/int_pn_nonoise exists\n",
      "Starting set: test\n"
     ]
    },
    {
     "name": "stderr",
     "output_type": "stream",
     "text": [
      "Preloading waveforms: 100%|██████████| 39752/39752 [00:00<00:00, 361106.66it/s]"
     ]
    },
    {
     "name": "stdout",
     "output_type": "stream",
     "text": [
      "Number of examples in test: 39752\n",
      "0 earthquake traces\n",
      "39752 noise traces\n",
      "Probability threshold: 0.050\n"
     ]
    },
    {
     "name": "stderr",
     "output_type": "stream",
     "text": [
      "\n"
     ]
    },
    {
     "name": "stdout",
     "output_type": "stream",
     "text": [
      "Probability threshold: 0.100\n",
      "Probability threshold: 0.150\n",
      "Probability threshold: 0.200\n",
      "Probability threshold: 0.250\n",
      "Probability threshold: 0.300\n",
      "Probability threshold: 0.350\n",
      "Probability threshold: 0.400\n",
      "Probability threshold: 0.450\n",
      "Probability threshold: 0.500\n",
      "Probability threshold: 0.550\n",
      "Probability threshold: 0.600\n"
     ]
    }
   ],
   "source": [
    "# target_path_dataset_pairs = [\n",
    "#     (targets_path_my_noise, dataset),\n",
    "# ]\n",
    "\n",
    "# target_i = targets_path_my_noise\n",
    "# model = vol_eqt\n",
    "\n",
    "for model_name, model in model_dict2.items():\n",
    "    print(model_name)\n",
    "    eval_task0_true_negative_rate(\n",
    "        dev_test_set=data_instance_noise,\n",
    "        model=model,\n",
    "        exp_name=model_name,\n",
    "        targets_path=targets_path_instance_noise,\n",
    "        root_save_dir=\"/home/zhongyiyuan/volpick/model_training/Noise_specificity_instance\",\n",
    "        # prob_thres=np.array([0.27,0.3,0.32]),\n",
    "        # prob_thres=np.array([0.21,0.22,0.23,0.24,0.25,0.27,0.28,0.29,0.30,0.31,0.32,0.33,0.34,0.35]), #,0.24,0.245,0.25,0.255,0.26,0.265,0.27,0.28,0.29,0.3\n",
    "        prob_thres=np.array(\n",
    "            [0.05, 0.1, 0.15, 0.2, 0.25, 0.3, 0.35, 0.4, 0.45, 0.5, 0.55, 0.6]\n",
    "        ),\n",
    "        num_workers=32,\n",
    "        batchsize=1024,\n",
    "        num_test_run=-1,\n",
    "        output_remark=\"pred\",\n",
    "        sets=[\"test\"],\n",
    "        # sets=[\"test\"],\n",
    "        data_norm_type=model.norm,\n",
    "    )"
   ]
  }
 ],
 "metadata": {
  "kernelspec": {
   "display_name": "seisbench",
   "language": "python",
   "name": "python3"
  },
  "language_info": {
   "codemirror_mode": {
    "name": "ipython",
    "version": 3
   },
   "file_extension": ".py",
   "mimetype": "text/x-python",
   "name": "python",
   "nbconvert_exporter": "python",
   "pygments_lexer": "ipython3",
   "version": "3.9.16"
  }
 },
 "nbformat": 4,
 "nbformat_minor": 2
}
