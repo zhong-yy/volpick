{
 "cells": [
  {
   "cell_type": "markdown",
   "metadata": {},
   "source": [
    "# Import"
   ]
  },
  {
   "cell_type": "code",
   "execution_count": 1,
   "metadata": {},
   "outputs": [],
   "source": [
    "%load_ext autoreload\n",
    "%autoreload 2\n",
    "from torch.utils.data import DataLoader\n",
    "import torch\n",
    "import pytorch_lightning as pl\n",
    "from pathlib import Path\n",
    "import os\n",
    "import time\n",
    "import datetime\n",
    "import yaml\n",
    "import pandas as pd\n",
    "import numpy as np\n",
    "\n",
    "import matplotlib.pyplot as plt\n",
    "from matplotlib.ticker import (MultipleLocator, FormatStrFormatter, AutoMinorLocator)\n",
    "\n",
    "import logging\n",
    "\n",
    "from tqdm.notebook import tqdm\n",
    "\n",
    "import volpick.model.models as models\n",
    "import seisbench.models as sbm\n",
    "import seisbench.generate as sbg\n",
    "from volpick.model.utils import load_best_model_from_base_dir,load_best_model\n",
    "import seisbench.data as sbd\n",
    "from volpick.model.generate_eval_targets import generate_task0, generate_task1, generate_task23\n",
    "\n",
    "from volpick.model.models import phase_dict\n",
    "from volpick.model.eval_taks0 import evaluate, get_ground_truth, count_TP_FP_FN, compute_residuals, calculate_precision_recall_F1score, eval_task0, opt_prob_metrics, collect_task0_results,collect_task0_results_dev\n",
    "from volpick.model.eval_taks123 import eval_tasks123,collect_task123_results\n",
    "\n",
    "import json\n",
    "\n",
    "from sklearn.metrics import roc_curve, precision_recall_curve, roc_auc_score"
   ]
  },
  {
   "cell_type": "markdown",
   "metadata": {},
   "source": [
    "# Loading data"
   ]
  },
  {
   "cell_type": "code",
   "execution_count": 10,
   "metadata": {},
   "outputs": [
    {
     "name": "stderr",
     "output_type": "stream",
     "text": [
      "Preloading waveforms: 100%|██████████| 35120/35120 [00:07<00:00, 4754.25it/s]\n"
     ]
    }
   ],
   "source": [
    "data_path = Path(\"/home/zhongyiyuan/DATA/my_datasets_seisbench/vcseis\")\n",
    "\n",
    "dataset = sbd.WaveformDataset(\n",
    "    data_path,\n",
    "    sampling_rate=100,\n",
    "    component_order=\"ZNE\",\n",
    "    dimension_order=\"NCW\",\n",
    "    cache=\"full\",\n",
    ")\n",
    "dataset.filter(dataset[\"split\"].isin([\"test\"]), inplace=True)\n",
    "dataset.preload_waveforms(pbar=True)"
   ]
  },
  {
   "cell_type": "code",
   "execution_count": 11,
   "metadata": {},
   "outputs": [],
   "source": [
    "dataset_lp_and_noise = dataset.filter(\n",
    "    (dataset.metadata[\"source_type\"] == \"lp\")\n",
    "    | (dataset.metadata[\"source_type\"] == \"noise\"),\n",
    "    inplace=False,\n",
    ")\n",
    "dataset_rg_and_noise = dataset.filter(\n",
    "    (dataset.metadata[\"source_type\"] != \"lp\")\n",
    "    | (dataset.metadata[\"source_type\"] == \"noise\"),\n",
    "    inplace=False,\n",
    ")"
   ]
  },
  {
   "cell_type": "code",
   "execution_count": 12,
   "metadata": {},
   "outputs": [
    {
     "name": "stderr",
     "output_type": "stream",
     "text": [
      "Preloading waveforms: 100%|██████████| 52864/52864 [00:10<00:00, 5022.16it/s]\n"
     ]
    }
   ],
   "source": [
    "data_path = Path(\"/home/zhongyiyuan/DATA/my_datasets_seisbench/vcseis\")\n",
    "dataset_ENZ = sbd.WaveformDataset(\n",
    "    data_path,\n",
    "    sampling_rate=100,\n",
    "    component_order=\"ENZ\",\n",
    "    dimension_order=\"NCW\",\n",
    "    cache=\"full\",\n",
    ")\n",
    "dataset_ENZ.filter(dataset_ENZ[\"split\"].isin([\"dev\", \"test\"]), inplace=True)\n",
    "dataset_ENZ.preload_waveforms(pbar=True)\n",
    "\n",
    "dataset_ENZ_lp_and_noise = dataset_ENZ.filter(\n",
    "    (dataset_ENZ.metadata[\"source_type\"] == \"lp\")\n",
    "    | (dataset_ENZ.metadata[\"source_type\"] == \"noise\"),\n",
    "    inplace=False,\n",
    ")\n",
    "dataset_ENZ_rg_and_noise = dataset_ENZ.filter(\n",
    "    (dataset_ENZ.metadata[\"source_type\"] != \"lp\")\n",
    "    | (dataset_ENZ.metadata[\"source_type\"] == \"noise\"),\n",
    "    inplace=False,\n",
    ")"
   ]
  },
  {
   "cell_type": "code",
   "execution_count": 13,
   "metadata": {},
   "outputs": [
    {
     "name": "stdout",
     "output_type": "stream",
     "text": [
      "/home/zhongyiyuan/volpick/model_training/Eval_targets/all exists\n",
      "/home/zhongyiyuan/volpick/model_training/Eval_targets/lp_and_noise exists\n",
      "/home/zhongyiyuan/volpick/model_training/Eval_targets/rg_and_noise exists\n"
     ]
    }
   ],
   "source": [
    "# full data set\n",
    "targets_path_lp_and_rg = Path(\n",
    "    \"/home/zhongyiyuan/volpick/model_training/Eval_targets/all\"\n",
    ")\n",
    "try:\n",
    "    targets_path_lp_and_rg.mkdir(parents=True, exist_ok=False)\n",
    "except FileExistsError:\n",
    "    print(f\"{targets_path_lp_and_rg} exists\")\n",
    "\n",
    "# LP and noise\n",
    "targets_path_lp = Path(\n",
    "    \"/home/zhongyiyuan/volpick/model_training/Eval_targets/lp_and_noise\"\n",
    ")\n",
    "try:\n",
    "    targets_path_lp.mkdir(parents=True, exist_ok=False)\n",
    "except FileExistsError:\n",
    "    print(f\"{targets_path_lp} exists\")\n",
    "\n",
    "# VT and noise\n",
    "targets_path_rg = Path(\n",
    "    \"/home/zhongyiyuan/volpick/model_training/Eval_targets/rg_and_noise\"\n",
    ")\n",
    "try:\n",
    "    targets_path_rg.mkdir(parents=True, exist_ok=False)\n",
    "except FileExistsError:\n",
    "    print(f\"{targets_path_rg} exists\")"
   ]
  },
  {
   "cell_type": "markdown",
   "metadata": {},
   "source": [
    "# Load models"
   ]
  },
  {
   "cell_type": "code",
   "execution_count": 14,
   "metadata": {},
   "outputs": [
    {
     "name": "stdout",
     "output_type": "stream",
     "text": [
      "['Detection', 'P', 'S']\n",
      "PSN\n",
      "peak\n",
      "peak\n",
      "cuda:0\n",
      "cuda:0\n"
     ]
    }
   ],
   "source": [
    "vol_eqt = sbm.EQTransformer.from_pretrained(\"volpick\")\n",
    "vol_eqt.cuda()\n",
    "vol_pn = sbm.PhaseNet.from_pretrained(\"volpick\")\n",
    "vol_pn.cuda()\n",
    "print(vol_eqt.labels)\n",
    "print(vol_pn.labels)\n",
    "print(vol_eqt.norm)\n",
    "print(vol_pn.norm)\n",
    "print(vol_eqt.device)\n",
    "print(vol_pn.device)"
   ]
  },
  {
   "cell_type": "code",
   "execution_count": 15,
   "metadata": {},
   "outputs": [
    {
     "name": "stdout",
     "output_type": "stream",
     "text": [
      "org_eqt\n",
      "['Detection', 'P', 'S']\n",
      "ZNE\n",
      "std\n",
      "cuda:0\n",
      "\n",
      "org_pn\n",
      "NPS\n",
      "ENZ\n",
      "std\n",
      "cuda:0\n",
      "\n",
      "int_eqt\n",
      "['Detection', 'P', 'S']\n",
      "ZNE\n",
      "peak\n",
      "cuda:0\n",
      "\n",
      "int_pn\n",
      "PSN\n",
      "ZNE\n",
      "peak\n",
      "cuda:0\n",
      "\n"
     ]
    }
   ],
   "source": [
    "org_eqt = sbm.EQTransformer.from_pretrained(\"original\")\n",
    "org_eqt2 = sbm.EQTransformer.from_pretrained(\"original_nonconservative\")\n",
    "org_pn = sbm.PhaseNet.from_pretrained(\"original\")\n",
    "org_eqt.cuda()\n",
    "org_eqt2.cuda()\n",
    "org_pn.cuda()\n",
    "print(\"org_eqt\")\n",
    "print(org_eqt.labels)\n",
    "print(org_eqt.component_order)\n",
    "print(org_eqt.norm)\n",
    "print(org_eqt.device)\n",
    "print()\n",
    "\n",
    "print(\"org_pn\")\n",
    "print(org_pn.labels)\n",
    "print(org_pn.component_order)\n",
    "print(org_pn.norm)\n",
    "print(org_pn.device)\n",
    "print()\n",
    "\n",
    "eqt_instance = sbm.EQTransformer.from_pretrained(\"instance\")\n",
    "pn_instance = sbm.PhaseNet.from_pretrained(\"instance\")\n",
    "eqt_instance.cuda()\n",
    "pn_instance.cuda()\n",
    "print(\"int_eqt\")\n",
    "print(eqt_instance.labels)\n",
    "print(eqt_instance.component_order)\n",
    "print(eqt_instance.norm)\n",
    "print(eqt_instance.device)\n",
    "print()\n",
    "\n",
    "print(\"int_pn\")\n",
    "print(pn_instance.labels)\n",
    "print(pn_instance.component_order)\n",
    "print(pn_instance.norm)\n",
    "print(pn_instance.device)\n",
    "print()"
   ]
  },
  {
   "cell_type": "markdown",
   "metadata": {},
   "source": [
    "# Evaluation on the test set"
   ]
  },
  {
   "cell_type": "markdown",
   "metadata": {},
   "source": [
    "Test the retrained model"
   ]
  },
  {
   "cell_type": "code",
   "execution_count": 8,
   "metadata": {},
   "outputs": [
    {
     "name": "stdout",
     "output_type": "stream",
     "text": [
      "{'detection_threshold': 0.10141666, 'P_threshold': 0.22, 'S_threshold': 0.22}\n"
     ]
    }
   ],
   "source": [
    "print(vol_eqt.default_args)"
   ]
  },
  {
   "cell_type": "code",
   "execution_count": 9,
   "metadata": {},
   "outputs": [
    {
     "name": "stdout",
     "output_type": "stream",
     "text": [
      "/home/zhongyiyuan/volpick/model_training/Test_alternative/all_pred/task0/vol_eqt exists\n",
      "Starting set: test\n"
     ]
    },
    {
     "name": "stderr",
     "output_type": "stream",
     "text": [
      "Preloading waveforms: 100%|██████████| 35120/35120 [00:00<00:00, 363538.44it/s]\n"
     ]
    },
    {
     "name": "stdout",
     "output_type": "stream",
     "text": [
      "Number of examples in test: 35120\n",
      "30135 earthquake traces\n",
      "4985 noise traces\n",
      "Probability threshold: 0.220\n",
      "/home/zhongyiyuan/volpick/model_training/Test_alternative/lp_and_noise_pred/task0/vol_eqt exists\n",
      "Starting set: test\n"
     ]
    },
    {
     "name": "stderr",
     "output_type": "stream",
     "text": [
      "Preloading waveforms: 100%|██████████| 20063/20063 [00:00<00:00, 324081.37it/s]"
     ]
    },
    {
     "name": "stdout",
     "output_type": "stream",
     "text": [
      "Number of examples in test: 20063\n",
      "15078 earthquake traces\n",
      "4985 noise traces\n",
      "Probability threshold: 0.220\n"
     ]
    },
    {
     "name": "stderr",
     "output_type": "stream",
     "text": [
      "\n"
     ]
    },
    {
     "name": "stdout",
     "output_type": "stream",
     "text": [
      "/home/zhongyiyuan/volpick/model_training/Test_alternative/rg_and_noise_pred/task0/vol_eqt exists\n",
      "Starting set: test\n"
     ]
    },
    {
     "name": "stderr",
     "output_type": "stream",
     "text": [
      "Preloading waveforms: 100%|██████████| 20042/20042 [00:00<00:00, 322247.93it/s]"
     ]
    },
    {
     "name": "stdout",
     "output_type": "stream",
     "text": [
      "Number of examples in test: 20042\n",
      "15057 earthquake traces\n",
      "4985 noise traces\n",
      "Probability threshold: 0.220\n"
     ]
    },
    {
     "name": "stderr",
     "output_type": "stream",
     "text": [
      "\n"
     ]
    }
   ],
   "source": [
    "tp_thre = 0.5\n",
    "target_path_list = [targets_path_lp_and_rg, targets_path_lp, targets_path_rg]\n",
    "dataset_list = [dataset, dataset_lp_and_noise, dataset_rg_and_noise]\n",
    "\n",
    "model = vol_eqt\n",
    "for target_i, dataset_i in zip(target_path_list, dataset_list):\n",
    "    eval_task0(\n",
    "        dev_test_set=dataset_i,\n",
    "        model=model,\n",
    "        exp_name=f\"vol_eqt\",\n",
    "        targets_path=target_i,\n",
    "        root_save_dir=\"/home/zhongyiyuan/volpick/model_training/Test_alternative\",\n",
    "        prob_thres=np.array([0.22]),\n",
    "        num_workers=16,\n",
    "        batchsize=1024,\n",
    "        num_test_run=-1,\n",
    "        output_remark=\"pred\",\n",
    "        tp_thre=tp_thre,\n",
    "        sets=[\"test\"],\n",
    "        # sets=[\"train\", \"dev\",\"test\"],\n",
    "        # append_to_file=True,\n",
    "        data_norm_type=model.norm,\n",
    "        count_tp_method=1,\n",
    "    )"
   ]
  },
  {
   "cell_type": "code",
   "execution_count": 9,
   "metadata": {},
   "outputs": [
    {
     "name": "stdout",
     "output_type": "stream",
     "text": [
      "{'P_threshold': 0.39, 'S_threshold': 0.34}\n"
     ]
    }
   ],
   "source": [
    "print(vol_pn.default_args)"
   ]
  },
  {
   "cell_type": "code",
   "execution_count": 10,
   "metadata": {},
   "outputs": [
    {
     "name": "stdout",
     "output_type": "stream",
     "text": [
      "/home/zhongyiyuan/volpick/model_training/Test_alternative/all_pred/task0/vol_pn exists\n",
      "Starting set: test\n"
     ]
    },
    {
     "name": "stderr",
     "output_type": "stream",
     "text": [
      "Preloading waveforms: 100%|██████████| 35120/35120 [00:00<00:00, 358128.44it/s]\n"
     ]
    },
    {
     "name": "stdout",
     "output_type": "stream",
     "text": [
      "Number of examples in test: 35120\n",
      "30135 earthquake traces\n",
      "4985 noise traces\n",
      "Probability threshold: 0.3900\n",
      "Probability threshold: 0.3400\n",
      "/home/zhongyiyuan/volpick/model_training/Test_alternative/lp_and_noise_pred/task0/vol_pn exists\n",
      "Starting set: test\n"
     ]
    },
    {
     "name": "stderr",
     "output_type": "stream",
     "text": [
      "Preloading waveforms: 100%|██████████| 20063/20063 [00:00<00:00, 355463.61it/s]"
     ]
    },
    {
     "name": "stdout",
     "output_type": "stream",
     "text": [
      "Number of examples in test: 20063\n",
      "15078 earthquake traces\n",
      "4985 noise traces\n",
      "Probability threshold: 0.3900\n"
     ]
    },
    {
     "name": "stderr",
     "output_type": "stream",
     "text": [
      "\n"
     ]
    },
    {
     "name": "stdout",
     "output_type": "stream",
     "text": [
      "Probability threshold: 0.3400\n",
      "/home/zhongyiyuan/volpick/model_training/Test_alternative/rg_and_noise_pred/task0/vol_pn exists\n",
      "Starting set: test\n"
     ]
    },
    {
     "name": "stderr",
     "output_type": "stream",
     "text": [
      "Preloading waveforms: 100%|██████████| 20042/20042 [00:00<00:00, 357912.70it/s]"
     ]
    },
    {
     "name": "stdout",
     "output_type": "stream",
     "text": [
      "Number of examples in test: 20042\n",
      "15057 earthquake traces\n",
      "4985 noise traces\n",
      "Probability threshold: 0.3900\n"
     ]
    },
    {
     "name": "stderr",
     "output_type": "stream",
     "text": [
      "\n"
     ]
    },
    {
     "name": "stdout",
     "output_type": "stream",
     "text": [
      "Probability threshold: 0.3400\n"
     ]
    }
   ],
   "source": [
    "tp_thre = 0.5\n",
    "target_path_list = [targets_path_lp_and_rg, targets_path_lp, targets_path_rg]\n",
    "dataset_list = [dataset, dataset_lp_and_noise, dataset_rg_and_noise]\n",
    "\n",
    "model = vol_pn\n",
    "for target_i, dataset_i in zip(target_path_list, dataset_list):\n",
    "    eval_task0(\n",
    "        dev_test_set=dataset_i,\n",
    "        model=model,\n",
    "        exp_name=f\"vol_pn\",\n",
    "        targets_path=target_i,\n",
    "        root_save_dir=\"/home/zhongyiyuan/volpick/model_training/Test_alternative\",\n",
    "        prob_thres=np.array([0.39, 0.34]),\n",
    "        num_workers=16,\n",
    "        batchsize=1024,\n",
    "        num_test_run=-1,\n",
    "        output_remark=\"pred\",\n",
    "        tp_thre=tp_thre,\n",
    "        sets=[\"test\"],\n",
    "        # sets=[\"train\", \"dev\",\"test\"],\n",
    "        # append_to_file=True,\n",
    "        data_norm_type=model.norm,\n",
    "        count_tp_method=1,\n",
    "    )"
   ]
  },
  {
   "cell_type": "markdown",
   "metadata": {},
   "source": [
    "Test the original model"
   ]
  },
  {
   "cell_type": "code",
   "execution_count": 11,
   "metadata": {},
   "outputs": [],
   "source": [
    "opt_thresholds_for_original_models_df = pd.read_csv(\n",
    "    \"/home/zhongyiyuan/volpick/model_training/Original_model_opt_thresholds/all_pred/task0/optimal_threshold.csv\"\n",
    ")"
   ]
  },
  {
   "cell_type": "code",
   "execution_count": 13,
   "metadata": {},
   "outputs": [
    {
     "data": {
      "text/html": [
       "<div>\n",
       "<style scoped>\n",
       "    .dataframe tbody tr th:only-of-type {\n",
       "        vertical-align: middle;\n",
       "    }\n",
       "\n",
       "    .dataframe tbody tr th {\n",
       "        vertical-align: top;\n",
       "    }\n",
       "\n",
       "    .dataframe thead th {\n",
       "        text-align: right;\n",
       "    }\n",
       "</style>\n",
       "<table border=\"1\" class=\"dataframe\">\n",
       "  <thead>\n",
       "    <tr style=\"text-align: right;\">\n",
       "      <th></th>\n",
       "      <th>exp_name</th>\n",
       "      <th>model</th>\n",
       "      <th>p_opt_prob_thre</th>\n",
       "      <th>s_opt_prob_thre</th>\n",
       "    </tr>\n",
       "  </thead>\n",
       "  <tbody>\n",
       "    <tr>\n",
       "      <th>0</th>\n",
       "      <td>PhaseNet_org_instance</td>\n",
       "      <td>PhaseNet</td>\n",
       "      <td>0.13</td>\n",
       "      <td>0.050</td>\n",
       "    </tr>\n",
       "    <tr>\n",
       "      <th>1</th>\n",
       "      <td>PhaseNet_org_incorrect_component_order</td>\n",
       "      <td>PhaseNet</td>\n",
       "      <td>0.28</td>\n",
       "      <td>0.170</td>\n",
       "    </tr>\n",
       "    <tr>\n",
       "      <th>2</th>\n",
       "      <td>EQTransformer_org</td>\n",
       "      <td>EQTransformer</td>\n",
       "      <td>0.01</td>\n",
       "      <td>0.001</td>\n",
       "    </tr>\n",
       "    <tr>\n",
       "      <th>3</th>\n",
       "      <td>EQTransformer_org_instance</td>\n",
       "      <td>EQTransformer</td>\n",
       "      <td>0.04</td>\n",
       "      <td>0.040</td>\n",
       "    </tr>\n",
       "    <tr>\n",
       "      <th>4</th>\n",
       "      <td>PhaseNet_org</td>\n",
       "      <td>PhaseNet</td>\n",
       "      <td>0.25</td>\n",
       "      <td>0.190</td>\n",
       "    </tr>\n",
       "    <tr>\n",
       "      <th>5</th>\n",
       "      <td>EQTransformer_org_nonconservative</td>\n",
       "      <td>EQTransformer</td>\n",
       "      <td>0.26</td>\n",
       "      <td>0.150</td>\n",
       "    </tr>\n",
       "    <tr>\n",
       "      <th>6</th>\n",
       "      <td>PhaseNet_org_stead</td>\n",
       "      <td>PhaseNet</td>\n",
       "      <td>0.01</td>\n",
       "      <td>0.040</td>\n",
       "    </tr>\n",
       "    <tr>\n",
       "      <th>7</th>\n",
       "      <td>EQTransformer_org_stead</td>\n",
       "      <td>EQTransformer</td>\n",
       "      <td>0.02</td>\n",
       "      <td>0.010</td>\n",
       "    </tr>\n",
       "  </tbody>\n",
       "</table>\n",
       "</div>"
      ],
      "text/plain": [
       "                                 exp_name          model  p_opt_prob_thre   \n",
       "0                   PhaseNet_org_instance       PhaseNet             0.13  \\\n",
       "1  PhaseNet_org_incorrect_component_order       PhaseNet             0.28   \n",
       "2                       EQTransformer_org  EQTransformer             0.01   \n",
       "3              EQTransformer_org_instance  EQTransformer             0.04   \n",
       "4                            PhaseNet_org       PhaseNet             0.25   \n",
       "5       EQTransformer_org_nonconservative  EQTransformer             0.26   \n",
       "6                      PhaseNet_org_stead       PhaseNet             0.01   \n",
       "7                 EQTransformer_org_stead  EQTransformer             0.02   \n",
       "\n",
       "   s_opt_prob_thre  \n",
       "0            0.050  \n",
       "1            0.170  \n",
       "2            0.001  \n",
       "3            0.040  \n",
       "4            0.190  \n",
       "5            0.150  \n",
       "6            0.040  \n",
       "7            0.010  "
      ]
     },
     "execution_count": 13,
     "metadata": {},
     "output_type": "execute_result"
    }
   ],
   "source": [
    "opt_thresholds_for_original_models_df = opt_thresholds_for_original_models_df[\n",
    "    [\"exp_name\", \"model\", \"p_opt_prob_thre\", \"s_opt_prob_thre\"]  # \"pretraining\"\n",
    "]\n",
    "opt_thresholds_for_original_models_df"
   ]
  },
  {
   "cell_type": "code",
   "execution_count": 13,
   "metadata": {},
   "outputs": [
    {
     "name": "stdout",
     "output_type": "stream",
     "text": [
      "/home/zhongyiyuan/volpick/model_training/Test_alternative/all_pred/task0/org_eqt exists\n",
      "Starting set: test\n"
     ]
    },
    {
     "name": "stderr",
     "output_type": "stream",
     "text": [
      "Preloading waveforms: 100%|██████████| 35120/35120 [00:00<00:00, 312063.50it/s]\n"
     ]
    },
    {
     "name": "stdout",
     "output_type": "stream",
     "text": [
      "Number of examples in test: 35120\n",
      "30135 earthquake traces\n",
      "4985 noise traces\n",
      "Probability threshold: 0.001\n",
      "Probability threshold: 0.010\n",
      "/home/zhongyiyuan/volpick/model_training/Test_alternative/lp_and_noise_pred/task0/org_eqt exists\n",
      "Starting set: test\n"
     ]
    },
    {
     "name": "stderr",
     "output_type": "stream",
     "text": [
      "Preloading waveforms: 100%|██████████| 20063/20063 [00:00<00:00, 328719.90it/s]"
     ]
    },
    {
     "name": "stdout",
     "output_type": "stream",
     "text": [
      "Number of examples in test: 20063\n",
      "15078 earthquake traces\n",
      "4985 noise traces\n",
      "Probability threshold: 0.001\n"
     ]
    },
    {
     "name": "stderr",
     "output_type": "stream",
     "text": [
      "\n"
     ]
    },
    {
     "name": "stdout",
     "output_type": "stream",
     "text": [
      "Probability threshold: 0.010\n",
      "/home/zhongyiyuan/volpick/model_training/Test_alternative/rg_and_noise_pred/task0/org_eqt exists\n",
      "Starting set: test\n"
     ]
    },
    {
     "name": "stderr",
     "output_type": "stream",
     "text": [
      "Preloading waveforms: 100%|██████████| 20042/20042 [00:00<00:00, 326262.71it/s]"
     ]
    },
    {
     "name": "stdout",
     "output_type": "stream",
     "text": [
      "Number of examples in test: 20042\n",
      "15057 earthquake traces\n",
      "4985 noise traces\n",
      "Probability threshold: 0.001\n"
     ]
    },
    {
     "name": "stderr",
     "output_type": "stream",
     "text": [
      "\n"
     ]
    },
    {
     "name": "stdout",
     "output_type": "stream",
     "text": [
      "Probability threshold: 0.010\n"
     ]
    }
   ],
   "source": [
    "tp_thre = 0.5\n",
    "target_path_list = [targets_path_lp_and_rg, targets_path_lp, targets_path_rg]\n",
    "dataset_list = [dataset, dataset_lp_and_noise, dataset_rg_and_noise]\n",
    "\n",
    "model = org_eqt\n",
    "for target_i, dataset_i in zip(target_path_list, dataset_list):\n",
    "    eval_task0(\n",
    "        dev_test_set=dataset_i,\n",
    "        model=model,\n",
    "        exp_name=f\"org_eqt\",\n",
    "        targets_path=target_i,\n",
    "        root_save_dir=\"/home/zhongyiyuan/volpick/model_training/Test_alternative\",\n",
    "        prob_thres=np.array([0.001, 0.01]),\n",
    "        num_workers=16,\n",
    "        batchsize=1024,\n",
    "        num_test_run=-1,\n",
    "        output_remark=\"pred\",\n",
    "        tp_thre=tp_thre,\n",
    "        sets=[\"test\"],\n",
    "        # sets=[\"train\", \"dev\",\"test\"],\n",
    "        # append_to_file=True,\n",
    "        data_norm_type=model.norm,\n",
    "        count_tp_method=1,\n",
    "    )"
   ]
  },
  {
   "cell_type": "code",
   "execution_count": 14,
   "metadata": {},
   "outputs": [
    {
     "name": "stdout",
     "output_type": "stream",
     "text": [
      "/home/zhongyiyuan/volpick/model_training/Test_alternative/all_pred/task0/org_eqt_nonconservative exists\n",
      "Starting set: test\n"
     ]
    },
    {
     "name": "stderr",
     "output_type": "stream",
     "text": [
      "Preloading waveforms: 100%|██████████| 35120/35120 [00:00<00:00, 358411.64it/s]\n"
     ]
    },
    {
     "name": "stdout",
     "output_type": "stream",
     "text": [
      "Number of examples in test: 35120\n",
      "30135 earthquake traces\n",
      "4985 noise traces\n",
      "Probability threshold: 0.2600\n",
      "Probability threshold: 0.1500\n",
      "/home/zhongyiyuan/volpick/model_training/Test_alternative/lp_and_noise_pred/task0/org_eqt_nonconservative exists\n",
      "Starting set: test\n"
     ]
    },
    {
     "name": "stderr",
     "output_type": "stream",
     "text": [
      "Preloading waveforms: 100%|██████████| 20063/20063 [00:00<00:00, 358144.39it/s]"
     ]
    },
    {
     "name": "stdout",
     "output_type": "stream",
     "text": [
      "Number of examples in test: 20063\n",
      "15078 earthquake traces\n",
      "4985 noise traces\n",
      "Probability threshold: 0.2600\n"
     ]
    },
    {
     "name": "stderr",
     "output_type": "stream",
     "text": [
      "\n"
     ]
    },
    {
     "name": "stdout",
     "output_type": "stream",
     "text": [
      "Probability threshold: 0.1500\n",
      "/home/zhongyiyuan/volpick/model_training/Test_alternative/rg_and_noise_pred/task0/org_eqt_nonconservative exists\n",
      "Starting set: test\n"
     ]
    },
    {
     "name": "stderr",
     "output_type": "stream",
     "text": [
      "Preloading waveforms: 100%|██████████| 20042/20042 [00:00<00:00, 363581.57it/s]"
     ]
    },
    {
     "name": "stdout",
     "output_type": "stream",
     "text": [
      "Number of examples in test: 20042\n",
      "15057 earthquake traces\n",
      "4985 noise traces\n",
      "Probability threshold: 0.2600\n"
     ]
    },
    {
     "name": "stderr",
     "output_type": "stream",
     "text": [
      "\n"
     ]
    },
    {
     "name": "stdout",
     "output_type": "stream",
     "text": [
      "Probability threshold: 0.1500\n"
     ]
    }
   ],
   "source": [
    "tp_thre = 0.5\n",
    "target_path_list = [targets_path_lp_and_rg, targets_path_lp, targets_path_rg]\n",
    "dataset_list = [dataset, dataset_lp_and_noise, dataset_rg_and_noise]\n",
    "\n",
    "model = org_eqt2\n",
    "for target_i, dataset_i in zip(target_path_list, dataset_list):\n",
    "    eval_task0(\n",
    "        dev_test_set=dataset_i,\n",
    "        model=model,\n",
    "        exp_name=f\"org_eqt_nonconservative\",\n",
    "        targets_path=target_i,\n",
    "        root_save_dir=\"/home/zhongyiyuan/volpick/model_training/Test_alternative\",\n",
    "        prob_thres=np.array([0.26, 0.15]),\n",
    "        num_workers=16,\n",
    "        batchsize=1024,\n",
    "        num_test_run=-1,\n",
    "        output_remark=\"pred\",\n",
    "        tp_thre=tp_thre,\n",
    "        sets=[\"test\"],\n",
    "        # sets=[\"train\", \"dev\",\"test\"],\n",
    "        # append_to_file=True,\n",
    "        data_norm_type=model.norm,\n",
    "        count_tp_method=1,\n",
    "    )"
   ]
  },
  {
   "cell_type": "code",
   "execution_count": 15,
   "metadata": {},
   "outputs": [
    {
     "name": "stdout",
     "output_type": "stream",
     "text": [
      "/home/zhongyiyuan/volpick/model_training/Test_alternative/all_pred/task0/org_pn exists\n",
      "Starting set: test\n"
     ]
    },
    {
     "name": "stderr",
     "output_type": "stream",
     "text": [
      "Preloading waveforms: 100%|██████████| 35120/35120 [00:00<00:00, 363329.51it/s]\n"
     ]
    },
    {
     "name": "stdout",
     "output_type": "stream",
     "text": [
      "Number of examples in test: 35120\n",
      "30135 earthquake traces\n",
      "4985 noise traces\n",
      "Probability threshold: 0.2500\n",
      "Probability threshold: 0.1900\n",
      "/home/zhongyiyuan/volpick/model_training/Test_alternative/lp_and_noise_pred/task0/org_pn exists\n",
      "Starting set: test\n"
     ]
    },
    {
     "name": "stderr",
     "output_type": "stream",
     "text": [
      "Preloading waveforms: 100%|██████████| 20063/20063 [00:00<00:00, 370036.28it/s]"
     ]
    },
    {
     "name": "stdout",
     "output_type": "stream",
     "text": [
      "Number of examples in test: 20063\n",
      "15078 earthquake traces\n",
      "4985 noise traces\n",
      "Probability threshold: 0.2500\n"
     ]
    },
    {
     "name": "stderr",
     "output_type": "stream",
     "text": [
      "\n"
     ]
    },
    {
     "name": "stdout",
     "output_type": "stream",
     "text": [
      "Probability threshold: 0.1900\n",
      "/home/zhongyiyuan/volpick/model_training/Test_alternative/rg_and_noise_pred/task0/org_pn exists\n",
      "Starting set: test\n"
     ]
    },
    {
     "name": "stderr",
     "output_type": "stream",
     "text": [
      "Preloading waveforms: 100%|██████████| 20042/20042 [00:00<00:00, 360584.06it/s]"
     ]
    },
    {
     "name": "stdout",
     "output_type": "stream",
     "text": [
      "Number of examples in test: 20042\n",
      "15057 earthquake traces\n",
      "4985 noise traces\n",
      "Probability threshold: 0.2500\n"
     ]
    },
    {
     "name": "stderr",
     "output_type": "stream",
     "text": [
      "\n"
     ]
    },
    {
     "name": "stdout",
     "output_type": "stream",
     "text": [
      "Probability threshold: 0.1900\n"
     ]
    }
   ],
   "source": [
    "tp_thre = 0.5\n",
    "target_path_list = [targets_path_lp_and_rg, targets_path_lp, targets_path_rg]\n",
    "dataset_list = [dataset_ENZ, dataset_ENZ_lp_and_noise, dataset_ENZ_rg_and_noise]\n",
    "\n",
    "model = org_pn\n",
    "for target_i, dataset_i in zip(target_path_list, dataset_list):\n",
    "    eval_task0(\n",
    "        dev_test_set=dataset_i,\n",
    "        model=model,\n",
    "        exp_name=f\"org_pn\",\n",
    "        targets_path=target_i,\n",
    "        root_save_dir=\"/home/zhongyiyuan/volpick/model_training/Test_alternative\",\n",
    "        prob_thres=np.array([0.25, 0.19]),\n",
    "        num_workers=16,\n",
    "        batchsize=1024,\n",
    "        num_test_run=-1,\n",
    "        output_remark=\"pred\",\n",
    "        tp_thre=tp_thre,\n",
    "        sets=[\"test\"],\n",
    "        # sets=[\"train\", \"dev\",\"test\"],\n",
    "        # append_to_file=True,\n",
    "        data_norm_type=model.norm,\n",
    "        count_tp_method=1,\n",
    "    )"
   ]
  },
  {
   "cell_type": "markdown",
   "metadata": {},
   "source": [
    "Test the model trained on INSTANCE dataset"
   ]
  },
  {
   "cell_type": "code",
   "execution_count": 15,
   "metadata": {},
   "outputs": [
    {
     "name": "stdout",
     "output_type": "stream",
     "text": [
      "/home/zhongyiyuan/volpick/model_training/Test_alternative/all_pred/task0/int_eqt exists\n",
      "Starting set: test\n"
     ]
    },
    {
     "name": "stderr",
     "output_type": "stream",
     "text": [
      "Preloading waveforms: 100%|██████████| 35120/35120 [00:00<00:00, 328417.14it/s]\n"
     ]
    },
    {
     "name": "stdout",
     "output_type": "stream",
     "text": [
      "Number of examples in test: 35120\n",
      "30135 earthquake traces\n",
      "4985 noise traces\n",
      "Probability threshold: 0.040\n",
      "/home/zhongyiyuan/volpick/model_training/Test_alternative/lp_and_noise_pred/task0/int_eqt exists\n",
      "Starting set: test\n"
     ]
    },
    {
     "name": "stderr",
     "output_type": "stream",
     "text": [
      "Preloading waveforms: 100%|██████████| 20063/20063 [00:00<00:00, 364688.10it/s]"
     ]
    },
    {
     "name": "stdout",
     "output_type": "stream",
     "text": [
      "Number of examples in test: 20063\n",
      "15078 earthquake traces\n",
      "4985 noise traces\n",
      "Probability threshold: 0.040\n"
     ]
    },
    {
     "name": "stderr",
     "output_type": "stream",
     "text": [
      "\n"
     ]
    },
    {
     "name": "stdout",
     "output_type": "stream",
     "text": [
      "/home/zhongyiyuan/volpick/model_training/Test_alternative/rg_and_noise_pred/task0/int_eqt exists\n",
      "Starting set: test\n"
     ]
    },
    {
     "name": "stderr",
     "output_type": "stream",
     "text": [
      "Preloading waveforms: 100%|██████████| 20042/20042 [00:00<00:00, 356072.22it/s]"
     ]
    },
    {
     "name": "stdout",
     "output_type": "stream",
     "text": [
      "Number of examples in test: 20042\n",
      "15057 earthquake traces\n",
      "4985 noise traces\n",
      "Probability threshold: 0.040\n"
     ]
    },
    {
     "name": "stderr",
     "output_type": "stream",
     "text": [
      "\n"
     ]
    }
   ],
   "source": [
    "tp_thre = 0.5\n",
    "target_path_list = [targets_path_lp_and_rg, targets_path_lp, targets_path_rg]\n",
    "dataset_list = [dataset, dataset_lp_and_noise, dataset_rg_and_noise]\n",
    "\n",
    "model = eqt_instance\n",
    "for target_i, dataset_i in zip(target_path_list, dataset_list):\n",
    "    eval_task0(\n",
    "        dev_test_set=dataset_i,\n",
    "        model=model,\n",
    "        exp_name=f\"int_eqt\",\n",
    "        targets_path=target_i,\n",
    "        root_save_dir=\"/home/zhongyiyuan/volpick/model_training/Test_alternative\",\n",
    "        prob_thres=np.array([0.04]),\n",
    "        num_workers=16,\n",
    "        batchsize=1024,\n",
    "        num_test_run=-1,\n",
    "        output_remark=\"pred\",\n",
    "        tp_thre=tp_thre,\n",
    "        sets=[\"test\"],\n",
    "        # sets=[\"train\", \"dev\",\"test\"],\n",
    "        # append_to_file=True,\n",
    "        data_norm_type=model.norm,\n",
    "        count_tp_method=1,\n",
    "    )"
   ]
  },
  {
   "cell_type": "code",
   "execution_count": 16,
   "metadata": {},
   "outputs": [
    {
     "name": "stdout",
     "output_type": "stream",
     "text": [
      "/home/zhongyiyuan/volpick/model_training/Test_alternative/all_pred/task0/int_pn exists\n",
      "Starting set: test\n"
     ]
    },
    {
     "name": "stderr",
     "output_type": "stream",
     "text": [
      "Preloading waveforms: 100%|██████████| 35120/35120 [00:00<00:00, 365489.48it/s]\n"
     ]
    },
    {
     "name": "stdout",
     "output_type": "stream",
     "text": [
      "Number of examples in test: 35120\n",
      "30135 earthquake traces\n",
      "4985 noise traces\n",
      "Probability threshold: 0.130\n",
      "Probability threshold: 0.050\n",
      "/home/zhongyiyuan/volpick/model_training/Test_alternative/lp_and_noise_pred/task0/int_pn exists\n",
      "Starting set: test\n"
     ]
    },
    {
     "name": "stderr",
     "output_type": "stream",
     "text": [
      "Preloading waveforms: 100%|██████████| 20063/20063 [00:00<00:00, 363062.75it/s]"
     ]
    },
    {
     "name": "stdout",
     "output_type": "stream",
     "text": [
      "Number of examples in test: 20063\n",
      "15078 earthquake traces\n",
      "4985 noise traces\n",
      "Probability threshold: 0.130\n"
     ]
    },
    {
     "name": "stderr",
     "output_type": "stream",
     "text": [
      "\n"
     ]
    },
    {
     "name": "stdout",
     "output_type": "stream",
     "text": [
      "Probability threshold: 0.050\n",
      "/home/zhongyiyuan/volpick/model_training/Test_alternative/rg_and_noise_pred/task0/int_pn exists\n",
      "Starting set: test\n"
     ]
    },
    {
     "name": "stderr",
     "output_type": "stream",
     "text": [
      "Preloading waveforms: 100%|██████████| 20042/20042 [00:00<00:00, 326142.46it/s]"
     ]
    },
    {
     "name": "stdout",
     "output_type": "stream",
     "text": [
      "Number of examples in test: 20042\n",
      "15057 earthquake traces\n",
      "4985 noise traces\n",
      "Probability threshold: 0.130\n"
     ]
    },
    {
     "name": "stderr",
     "output_type": "stream",
     "text": [
      "\n"
     ]
    },
    {
     "name": "stdout",
     "output_type": "stream",
     "text": [
      "Probability threshold: 0.050\n"
     ]
    }
   ],
   "source": [
    "tp_thre = 0.5\n",
    "target_path_list = [targets_path_lp_and_rg, targets_path_lp, targets_path_rg]\n",
    "dataset_list = [dataset, dataset_lp_and_noise, dataset_rg_and_noise]\n",
    "\n",
    "model = pn_instance\n",
    "for target_i, dataset_i in zip(target_path_list, dataset_list):\n",
    "    eval_task0(\n",
    "        dev_test_set=dataset_i,\n",
    "        model=model,\n",
    "        exp_name=f\"int_pn\",\n",
    "        targets_path=target_i,\n",
    "        root_save_dir=\"/home/zhongyiyuan/volpick/model_training/Test_alternative\",\n",
    "        prob_thres=np.array([0.13, 0.05]),\n",
    "        num_workers=16,\n",
    "        batchsize=1024,\n",
    "        num_test_run=-1,\n",
    "        output_remark=\"pred\",\n",
    "        tp_thre=tp_thre,\n",
    "        sets=[\"test\"],\n",
    "        # sets=[\"train\", \"dev\",\"test\"],\n",
    "        # append_to_file=True,\n",
    "        data_norm_type=model.norm,\n",
    "        count_tp_method=1,\n",
    "    )"
   ]
  },
  {
   "cell_type": "markdown",
   "metadata": {},
   "source": [
    "## Collect results"
   ]
  },
  {
   "cell_type": "code",
   "execution_count": 17,
   "metadata": {},
   "outputs": [],
   "source": [
    "pred_dir_path = Path(\"/home/zhongyiyuan/volpick/model_training/Test_alternative/\")\n",
    "data_type_dirs = (\"lp_and_noise_pred\", \"rg_and_noise_pred\", \"all_pred\")\n",
    "eqt_pred_dirs = (\"org_eqt\", \"int_eqt\", \"vol_eqt\")\n",
    "pn_pred_dirs = (\"org_pn\", \"int_pn\", \"vol_pn\")"
   ]
  },
  {
   "cell_type": "code",
   "execution_count": 59,
   "metadata": {},
   "outputs": [
    {
     "data": {
      "text/html": [
       "<div>\n",
       "<style scoped>\n",
       "    .dataframe tbody tr th:only-of-type {\n",
       "        vertical-align: middle;\n",
       "    }\n",
       "\n",
       "    .dataframe tbody tr th {\n",
       "        vertical-align: top;\n",
       "    }\n",
       "\n",
       "    .dataframe thead th {\n",
       "        text-align: right;\n",
       "    }\n",
       "</style>\n",
       "<table border=\"1\" class=\"dataframe\">\n",
       "  <thead>\n",
       "    <tr style=\"text-align: right;\">\n",
       "      <th></th>\n",
       "      <th>exp_name</th>\n",
       "      <th>model</th>\n",
       "      <th>pretraining</th>\n",
       "      <th>p_opt_prob_thre</th>\n",
       "      <th>s_opt_prob_thre</th>\n",
       "    </tr>\n",
       "  </thead>\n",
       "  <tbody>\n",
       "    <tr>\n",
       "      <th>0</th>\n",
       "      <td>PhaseNet_org_instance</td>\n",
       "      <td>PhaseNet</td>\n",
       "      <td>instance</td>\n",
       "      <td>0.13</td>\n",
       "      <td>0.050</td>\n",
       "    </tr>\n",
       "    <tr>\n",
       "      <th>1</th>\n",
       "      <td>EQTransformer_org</td>\n",
       "      <td>EQTransformer</td>\n",
       "      <td>original</td>\n",
       "      <td>0.01</td>\n",
       "      <td>0.001</td>\n",
       "    </tr>\n",
       "    <tr>\n",
       "      <th>2</th>\n",
       "      <td>EQTransformer_org_instance</td>\n",
       "      <td>EQTransformer</td>\n",
       "      <td>instance</td>\n",
       "      <td>0.04</td>\n",
       "      <td>0.040</td>\n",
       "    </tr>\n",
       "    <tr>\n",
       "      <th>3</th>\n",
       "      <td>PhaseNet_org</td>\n",
       "      <td>PhaseNet</td>\n",
       "      <td>original</td>\n",
       "      <td>0.28</td>\n",
       "      <td>0.170</td>\n",
       "    </tr>\n",
       "  </tbody>\n",
       "</table>\n",
       "</div>"
      ],
      "text/plain": [
       "                     exp_name          model pretraining  p_opt_prob_thre   \n",
       "0       PhaseNet_org_instance       PhaseNet    instance             0.13  \\\n",
       "1           EQTransformer_org  EQTransformer    original             0.01   \n",
       "2  EQTransformer_org_instance  EQTransformer    instance             0.04   \n",
       "3                PhaseNet_org       PhaseNet    original             0.28   \n",
       "\n",
       "   s_opt_prob_thre  \n",
       "0            0.050  \n",
       "1            0.001  \n",
       "2            0.040  \n",
       "3            0.170  "
      ]
     },
     "execution_count": 59,
     "metadata": {},
     "output_type": "execute_result"
    }
   ],
   "source": [
    "opt_thresholds_for_original_models_df = pd.read_csv(\n",
    "    \"/home/zhongyiyuan/volpick/model_training/Original_model_opt_thresholds/all_pred/task0/optimal_threshold.csv\"\n",
    ")\n",
    "opt_thresholds_for_original_models_df = opt_thresholds_for_original_models_df[\n",
    "    [\"exp_name\", \"model\", \"pretraining\", \"p_opt_prob_thre\", \"s_opt_prob_thre\"]\n",
    "]\n",
    "opt_thresholds_for_original_models_df"
   ]
  },
  {
   "cell_type": "code",
   "execution_count": 60,
   "metadata": {},
   "outputs": [
    {
     "name": "stdout",
     "output_type": "stream",
     "text": [
      "{'vol_eqt': 0.22, 'vol_pn': 0.39, 'org_eqt': 0.01, 'org_pn': 0.28, 'int_eqt': 0.04, 'int_pn': 0.13}\n",
      "{'vol_eqt': 0.22, 'vol_pn': 0.34, 'org_eqt': 0.001, 'org_pn': 0.17, 'int_eqt': 0.04, 'int_pn': 0.05}\n"
     ]
    }
   ],
   "source": [
    "p_thre_dict={\"vol_eqt\":vol_eqt.default_args[\"P_threshold\"],\"vol_pn\":vol_pn.default_args[\"P_threshold\"],\"org_eqt\":0.01,\"org_pn\":0.28,\"int_eqt\":0.04,\"int_pn\":0.13}\n",
    "s_thre_dict={\"vol_eqt\":vol_eqt.default_args[\"S_threshold\"],\"vol_pn\":vol_pn.default_args[\"S_threshold\"],\"org_eqt\":0.001,\"org_pn\":0.17,\"int_eqt\":0.04,\"int_pn\":0.05}\n",
    "print(p_thre_dict)\n",
    "print(s_thre_dict)"
   ]
  },
  {
   "cell_type": "markdown",
   "metadata": {},
   "source": [
    "Plot EQTransformer"
   ]
  },
  {
   "cell_type": "code",
   "execution_count": 61,
   "metadata": {},
   "outputs": [
    {
     "data": {
      "image/png": "[encoded data removed]",
      "text/plain": [
       "<Figure size 885.827x472.441 with 6 Axes>"
      ]
     },
     "metadata": {},
     "output_type": "display_data"
    }
   ],
   "source": [
    "p_metric_dict = {}\n",
    "s_metric_dict = {}\n",
    "p_precision_dict = {x: [] for x in eqt_pred_dirs}\n",
    "s_precision_dict = {x: [] for x in eqt_pred_dirs}\n",
    "p_recall_dict = {x: [] for x in eqt_pred_dirs}\n",
    "s_recall_dict = {x: [] for x in eqt_pred_dirs}\n",
    "p_f1score_dict = {x: [] for x in eqt_pred_dirs}\n",
    "s_f1score_dict = {x: [] for x in eqt_pred_dirs}\n",
    "for model_name in eqt_pred_dirs:\n",
    "    for data_type in data_type_dirs:\n",
    "        pred_df = pd.read_csv(\n",
    "            pred_dir_path / data_type / \"task0\" / model_name / \"test_metrics.csv\"\n",
    "        )\n",
    "        p_row = pred_df[np.isclose(pred_df[\"prob_thre\"], p_thre_dict[model_name])].iloc[\n",
    "            0\n",
    "        ]\n",
    "        s_row = pred_df[np.isclose(pred_df[\"prob_thre\"], s_thre_dict[model_name])].iloc[\n",
    "            0\n",
    "        ]\n",
    "        assert (\n",
    "            np.abs(p_row[\"prob_thre\"] - p_thre_dict[model_name]) < 1e-6\n",
    "        ), f\"{p_row['prob_thre']}, {p_thre_dict[model_name]}\"\n",
    "        assert np.abs(s_row[\"prob_thre\"] - s_thre_dict[model_name]) < 1e-6\n",
    "\n",
    "        p_precision_dict[model_name].append(p_row[\"p_precision\"])\n",
    "        p_recall_dict[model_name].append(p_row[\"p_recall\"])\n",
    "        p_f1score_dict[model_name].append(p_row[\"p_F1score\"])\n",
    "\n",
    "        s_precision_dict[model_name].append(s_row[\"s_precision\"])\n",
    "        s_recall_dict[model_name].append(s_row[\"s_recall\"])\n",
    "        s_f1score_dict[model_name].append(s_row[\"s_F1score\"])\n",
    "\n",
    "\n",
    "p_metrics = {\n",
    "    \"Recall\": p_recall_dict,\n",
    "    \"Precision\": p_precision_dict,\n",
    "    \"F1 score\": p_f1score_dict,\n",
    "}\n",
    "s_metrics = {\n",
    "    \"Recall\": s_recall_dict,\n",
    "    \"Precision\": s_precision_dict,\n",
    "    \"F1 score\": s_f1score_dict,\n",
    "}\n",
    "\n",
    "#plot\n",
    "cm = 1 / 2.54\n",
    "fig, axs = plt.subplots(\n",
    "    2, 3, figsize=(22.5 * cm, 12 * cm), sharey=\"all\", sharex=\"all\"\n",
    ")  # ,layout=\"constrained\"\n",
    "plt.subplots_adjust(hspace=0.2, wspace=0.1)\n",
    "\n",
    "data_types = (\"LP\", \"VT\", \"Overall\")\n",
    "x = np.arange(len(data_types))\n",
    "# x=np.array([0,1.5,3])\n",
    "width = 0.28  # the width of the bars\n",
    "\n",
    "metric_names = [\"Recall\", \"Precision\", \"F1 score\"]\n",
    "colors = [\"teal\", \"darkblue\", \"purple\"]\n",
    "# colors = plt.cm.Paired(np.linspace(0, 1, len(metric_names)))\n",
    "labels = {\n",
    "    \"vol_eqt\": \"EQTransformer retrained in this study\",\n",
    "    \"org_eqt\": \"Original EQTransformer (Mousavi et al., 2020)\",\n",
    "    \"int_eqt\": r\"EQTransformer trained on INSTANCE (M$\\rm{\\\"u}$nchmeyer et al., 2022)\",\n",
    "}\n",
    "\n",
    "fts = 8\n",
    "for i in range(3):\n",
    "    p_metric_dict = p_metrics[metric_names[i]]\n",
    "    s_metric_dict = s_metrics[metric_names[i]]\n",
    "    ax = axs[0][i]\n",
    "\n",
    "    # multiplier = 0\n",
    "    fmt = \"{:.3f}\"\n",
    "    interval = width\n",
    "    for k, (attribute, value) in enumerate(p_metric_dict.items()):\n",
    "        offset = interval * k\n",
    "        rects = ax.bar(\n",
    "            x + offset, value, width, label=labels[attribute], color=colors[k]\n",
    "        )\n",
    "        ax.bar_label(rects, padding=-12, fmt=fmt, fontsize=fts - 3, color=\"white\")\n",
    "        ax.spines[[\"right\", \"top\"]].set_visible(False)\n",
    "        # ax.set_yscale('log')\n",
    "        # multiplier += 1\n",
    "    ax.set_xticks(x + interval, data_types, fontsize=fts)\n",
    "    ax.set_title(metric_names[i], fontsize=fts)\n",
    "    ax.tick_params(labelsize=fts)\n",
    "    ax.set_ylim([0, 1])\n",
    "\n",
    "    # S\n",
    "    ax = axs[1][i]\n",
    "\n",
    "    # multiplier = 0\n",
    "    for k, (attribute, value) in enumerate(s_metric_dict.items()):\n",
    "        offset = interval * k\n",
    "        rects = ax.bar(\n",
    "            x + offset, value, width, label=labels[attribute], color=colors[k]\n",
    "        )\n",
    "        ax.bar_label(rects, padding=-12, fmt=fmt, fontsize=fts - 3, color=\"white\")\n",
    "        ax.spines[[\"right\", \"top\"]].set_visible(False)\n",
    "        # ax.set_yscale('log')\n",
    "        # multiplier += 1\n",
    "    ax.set_xticks(x + interval, data_types, fontsize=fts)\n",
    "    ax.set_ylim([0.3, 1])\n",
    "    ax.set_xlim(x[0] - 0.5 * interval, x[-1] + 2.6 * interval)\n",
    "    ax.tick_params(labelsize=fts)\n",
    "\n",
    "\n",
    "# axs[0][0].set_title(\"P picking\")\n",
    "# axs[0][1].set_title(\"S picking\")\n",
    "axs[1][0].legend(\n",
    "    loc=\"lower left\",\n",
    "    bbox_to_anchor=(0.0, -0.65, 0.5, 0.1),\n",
    "    frameon=False,\n",
    "    fontsize=fts,\n",
    "    ncols=1,\n",
    ")\n",
    "axs[0][0].set_ylabel(\"P-phase picking\", fontsize=fts)\n",
    "axs[1][0].set_ylabel(\"S-phase picking\", fontsize=fts)\n",
    "plt.savefig(\"alt_perf_comp_eqt.pdf\", bbox_inches=\"tight\", pad_inches=0)"
   ]
  },
  {
   "cell_type": "markdown",
   "metadata": {},
   "source": [
    "Plot PhaseNet"
   ]
  },
  {
   "cell_type": "code",
   "execution_count": 62,
   "metadata": {},
   "outputs": [
    {
     "data": {
      "text/plain": [
       "('org_pn', 'int_pn', 'vol_pn')"
      ]
     },
     "execution_count": 62,
     "metadata": {},
     "output_type": "execute_result"
    }
   ],
   "source": [
    "pn_pred_dirs"
   ]
  },
  {
   "cell_type": "code",
   "execution_count": 63,
   "metadata": {},
   "outputs": [],
   "source": [
    "p_metric_dict={}\n",
    "s_metric_dict={}\n",
    "p_precision_dict={x:[] for x in pn_pred_dirs}\n",
    "s_precision_dict={x:[] for x in pn_pred_dirs}\n",
    "p_recall_dict={x:[] for x in pn_pred_dirs}\n",
    "s_recall_dict={x:[] for x in pn_pred_dirs}\n",
    "p_f1score_dict={x:[] for x in pn_pred_dirs}\n",
    "s_f1score_dict={x:[] for x in pn_pred_dirs}\n",
    "for model_name in pn_pred_dirs:\n",
    "    for data_type in data_type_dirs:\n",
    "        pred_df=pd.read_csv(pred_dir_path/data_type/\"task0\"/model_name/\"test_metrics.csv\")\n",
    "        p_row=pred_df[np.isclose(pred_df[\"prob_thre\"],p_thre_dict[model_name])].iloc[0]\n",
    "        s_row=pred_df[np.isclose(pred_df[\"prob_thre\"],s_thre_dict[model_name])].iloc[0]\n",
    "        assert np.abs(p_row[\"prob_thre\"]-p_thre_dict[model_name])<1e-6, f\"{p_row['prob_thre']}, {p_thre_dict[model_name]}\"\n",
    "        assert np.abs(s_row[\"prob_thre\"]-s_thre_dict[model_name])<1e-6\n",
    "\n",
    "        p_precision_dict[model_name].append(p_row[\"p_precision\"])\n",
    "        p_recall_dict[model_name].append(p_row[\"p_recall\"])\n",
    "        p_f1score_dict[model_name].append(p_row[\"p_F1score\"])\n",
    "\n",
    "        s_precision_dict[model_name].append(s_row[\"s_precision\"])\n",
    "        s_recall_dict[model_name].append(s_row[\"s_recall\"])\n",
    "        s_f1score_dict[model_name].append(s_row[\"s_F1score\"])\n",
    "\n",
    "p_metrics={\"Recall\":p_recall_dict,\"Precision\":p_precision_dict,\"F1 score\":p_f1score_dict}\n",
    "s_metrics={\"Recall\":s_recall_dict,\"Precision\":s_precision_dict,\"F1 score\":s_f1score_dict}"
   ]
  },
  {
   "cell_type": "markdown",
   "metadata": {},
   "source": [
    "Plot EQTransformer and PhaseNet together"
   ]
  },
  {
   "cell_type": "code",
   "execution_count": 65,
   "metadata": {},
   "outputs": [],
   "source": [
    "# pred_dirs=pn_pred_dirs+eqt_pred_dirs\n",
    "pred_dirs=['org_pn', 'org_eqt', 'int_pn', 'int_eqt', 'vol_pn', 'vol_eqt']"
   ]
  },
  {
   "cell_type": "code",
   "execution_count": 66,
   "metadata": {},
   "outputs": [],
   "source": [
    "data_types_plotted=['rg_and_noise_pred','lp_and_noise_pred']\n",
    "precision_dict=[{x:[] for x in pred_dirs} for _ in range(len(data_types_plotted))]\n",
    "recall_dict=[{x:[] for x in pred_dirs} for _ in range(len(data_types_plotted))]\n",
    "f1score_dict=[{x:[] for x in pred_dirs} for _ in range(len(data_types_plotted))]\n",
    "\n",
    "for model_name in pred_dirs:\n",
    "    for j,data_type in enumerate(data_types_plotted):\n",
    "        pred_df=pd.read_csv(pred_dir_path/data_type/\"task0\"/model_name/\"test_metrics.csv\")\n",
    "        p_row=pred_df[np.isclose(pred_df[\"prob_thre\"],p_thre_dict[model_name])].iloc[0]\n",
    "        s_row=pred_df[np.isclose(pred_df[\"prob_thre\"],s_thre_dict[model_name])].iloc[0]\n",
    "        assert np.abs(p_row[\"prob_thre\"]-p_thre_dict[model_name])<1e-6, f\"{p_row['prob_thre']}, {p_thre_dict[model_name]}\"\n",
    "        assert np.abs(s_row[\"prob_thre\"]-s_thre_dict[model_name])<1e-6\n",
    "\n",
    "        precision_dict[j][model_name]=[p_row[\"p_precision\"],s_row[\"s_precision\"]]\n",
    "        recall_dict[j][model_name]=[p_row[\"p_recall\"],s_row[\"s_recall\"]]\n",
    "        f1score_dict[j][model_name]=[p_row[\"p_F1score\"],s_row[\"s_F1score\"]]\n",
    "\n",
    "metrics={\"Recall\":recall_dict,\"Precision\":precision_dict,\"F1 score\":f1score_dict}"
   ]
  },
  {
   "cell_type": "markdown",
   "metadata": {},
   "source": [
    "# Cross-domain test: NCEDC"
   ]
  },
  {
   "cell_type": "code",
   "execution_count": 16,
   "metadata": {},
   "outputs": [
    {
     "name": "stdout",
     "output_type": "stream",
     "text": [
      "9682\n"
     ]
    }
   ],
   "source": [
    "data_path_ncedc = Path(\"/home/zhongyiyuan/DATA/my_datasets_seisbench/ncedc\")\n",
    "\n",
    "dataset_ncedc = sbd.WaveformDataset(\n",
    "    data_path_ncedc,\n",
    "    sampling_rate=100,\n",
    "    component_order=\"ZNE\",\n",
    "    dimension_order=\"NCW\",\n",
    "    cache=\"full\",\n",
    ")\n",
    "print(len(dataset_ncedc))\n",
    "dataset_ncedc._metadata[\"split\"] = \"test\""
   ]
  },
  {
   "cell_type": "code",
   "execution_count": 17,
   "metadata": {},
   "outputs": [],
   "source": [
    "dataset_ncedc_lp = dataset_ncedc.filter(\n",
    "    (dataset_ncedc.metadata[\"source_type\"] == \"lp\")\n",
    "    | (dataset_ncedc.metadata[\"source_type\"] == \"noise\"),\n",
    "    inplace=False,\n",
    ")\n",
    "dataset_ncedc_vt = dataset_ncedc.filter(\n",
    "    (dataset_ncedc.metadata[\"source_type\"] != \"lp\")\n",
    "    | (dataset_ncedc.metadata[\"source_type\"] == \"noise\"),\n",
    "    inplace=False,\n",
    ")"
   ]
  },
  {
   "cell_type": "code",
   "execution_count": 18,
   "metadata": {},
   "outputs": [
    {
     "name": "stdout",
     "output_type": "stream",
     "text": [
      "9682\n"
     ]
    }
   ],
   "source": [
    "data_path_ncedc = Path(\"/home/zhongyiyuan/DATA/my_datasets_seisbench/ncedc\")\n",
    "\n",
    "dataset_ncedc_ENZ = sbd.WaveformDataset(\n",
    "    data_path_ncedc,\n",
    "    sampling_rate=100,\n",
    "    component_order=\"ENZ\",\n",
    "    dimension_order=\"NCW\",\n",
    "    cache=\"full\",\n",
    ")\n",
    "print(len(dataset_ncedc_ENZ))\n",
    "dataset_ncedc_ENZ._metadata[\"split\"] = \"test\"\n",
    "dataset_ncedc_ENZ_lp = dataset_ncedc_ENZ.filter(\n",
    "    (dataset_ncedc_ENZ.metadata[\"source_type\"] == \"lp\")\n",
    "    | (dataset_ncedc_ENZ.metadata[\"source_type\"] == \"noise\"),\n",
    "    inplace=False,\n",
    ")\n",
    "dataset_ncedc_ENZ_vt = dataset_ncedc_ENZ.filter(\n",
    "    (dataset_ncedc_ENZ.metadata[\"source_type\"] != \"lp\")\n",
    "    | (dataset_ncedc_ENZ.metadata[\"source_type\"] == \"noise\"),\n",
    "    inplace=False,\n",
    ")"
   ]
  },
  {
   "cell_type": "code",
   "execution_count": 19,
   "metadata": {},
   "outputs": [
    {
     "name": "stdout",
     "output_type": "stream",
     "text": [
      "/home/zhongyiyuan/volpick/model_training/Eval_targets_ncedc/ncedc exists\n",
      "/home/zhongyiyuan/volpick/model_training/Eval_targets_ncedc/ncedc_lp exists\n",
      "/home/zhongyiyuan/volpick/model_training/Eval_targets_ncedc/ncedc_vt exists\n"
     ]
    }
   ],
   "source": [
    "targets_path_lp_and_rg_ncedc = Path(\n",
    "    \"/home/zhongyiyuan/volpick/model_training/Eval_targets_ncedc/ncedc\"\n",
    ")\n",
    "try:\n",
    "    targets_path_lp_and_rg_ncedc.mkdir(parents=True, exist_ok=False)\n",
    "except FileExistsError:\n",
    "    print(f\"{targets_path_lp_and_rg_ncedc} exists\")\n",
    "\n",
    "targets_path_lp_ncedc = Path(\n",
    "    \"/home/zhongyiyuan/volpick/model_training/Eval_targets_ncedc/ncedc_lp\"\n",
    ")\n",
    "try:\n",
    "    targets_path_lp_ncedc.mkdir(parents=True, exist_ok=False)\n",
    "except FileExistsError:\n",
    "    print(f\"{targets_path_lp_ncedc} exists\")\n",
    "\n",
    "targets_path_rg_ncedc = Path(\n",
    "    \"/home/zhongyiyuan/volpick/model_training/Eval_targets_ncedc/ncedc_vt\"\n",
    ")\n",
    "try:\n",
    "    targets_path_rg_ncedc.mkdir(parents=True, exist_ok=False)\n",
    "except FileExistsError:\n",
    "    print(f\"{targets_path_rg_ncedc} exists\")"
   ]
  },
  {
   "cell_type": "markdown",
   "metadata": {},
   "source": [
    "Test the retrained model"
   ]
  },
  {
   "cell_type": "code",
   "execution_count": 36,
   "metadata": {},
   "outputs": [
    {
     "name": "stdout",
     "output_type": "stream",
     "text": [
      "{'detection_threshold': 0.10141666, 'P_threshold': 0.22, 'S_threshold': 0.22}\n"
     ]
    }
   ],
   "source": [
    "print(vol_eqt.default_args)"
   ]
  },
  {
   "cell_type": "code",
   "execution_count": 37,
   "metadata": {},
   "outputs": [
    {
     "name": "stdout",
     "output_type": "stream",
     "text": [
      "/home/zhongyiyuan/volpick/model_training/Test_NCEDC_alternative/ncedc_pred/task0/vol_eqt exists\n",
      "Starting set: test\n"
     ]
    },
    {
     "name": "stderr",
     "output_type": "stream",
     "text": [
      "Preloading waveforms:   0%|          | 0/9682 [00:00<?, ?it/s]"
     ]
    },
    {
     "name": "stderr",
     "output_type": "stream",
     "text": [
      "Preloading waveforms: 100%|██████████| 9682/9682 [00:15<00:00, 613.41it/s]"
     ]
    },
    {
     "name": "stdout",
     "output_type": "stream",
     "text": [
      "Number of examples in test: 9682\n",
      "9682 earthquake traces\n",
      "0 noise traces\n",
      "Probability threshold: 0.220\n"
     ]
    },
    {
     "name": "stderr",
     "output_type": "stream",
     "text": [
      "\n"
     ]
    },
    {
     "name": "stdout",
     "output_type": "stream",
     "text": [
      "/home/zhongyiyuan/volpick/model_training/Test_NCEDC_alternative/ncedc_lp_pred/task0/vol_eqt exists\n",
      "Starting set: test\n"
     ]
    },
    {
     "name": "stderr",
     "output_type": "stream",
     "text": [
      "Preloading waveforms: 100%|██████████| 4841/4841 [00:00<00:00, 5799.51it/s]"
     ]
    },
    {
     "name": "stdout",
     "output_type": "stream",
     "text": [
      "Number of examples in test: 4841\n",
      "4841 earthquake traces\n",
      "0 noise traces\n",
      "Probability threshold: 0.220\n"
     ]
    },
    {
     "name": "stderr",
     "output_type": "stream",
     "text": [
      "\n"
     ]
    },
    {
     "name": "stdout",
     "output_type": "stream",
     "text": [
      "/home/zhongyiyuan/volpick/model_training/Test_NCEDC_alternative/ncedc_vt_pred/task0/vol_eqt exists\n",
      "Starting set: test\n"
     ]
    },
    {
     "name": "stderr",
     "output_type": "stream",
     "text": [
      "Preloading waveforms: 100%|██████████| 4841/4841 [00:00<00:00, 6211.96it/s]"
     ]
    },
    {
     "name": "stdout",
     "output_type": "stream",
     "text": [
      "Number of examples in test: 4841\n",
      "4841 earthquake traces\n",
      "0 noise traces\n",
      "Probability threshold: 0.220\n"
     ]
    },
    {
     "name": "stderr",
     "output_type": "stream",
     "text": [
      "\n"
     ]
    }
   ],
   "source": [
    "\n",
    "tp_thre=0.5\n",
    "target_path_list=[targets_path_lp_and_rg_ncedc, targets_path_lp_ncedc, targets_path_rg_ncedc]\n",
    "dataset_list=[dataset_ncedc, dataset_ncedc_lp, dataset_ncedc_vt]\n",
    "\n",
    "model=vol_eqt\n",
    "for target_i, dataset_i in zip(target_path_list,dataset_list):\n",
    "    eval_task0(dev_test_set=dataset_i,\n",
    "                model=model, \n",
    "                exp_name=f\"vol_eqt\",\n",
    "                targets_path=target_i,\n",
    "                root_save_dir=\"/home/zhongyiyuan/volpick/model_training/Test_NCEDC_alternative\",\n",
    "                prob_thres=np.array([0.22]),\n",
    "                num_workers=16,\n",
    "                batchsize=1024,\n",
    "                num_test_run=-1,\n",
    "                output_remark=\"pred\",\n",
    "                tp_thre=tp_thre,\n",
    "                sets=[\"test\"],\n",
    "                # sets=[\"train\", \"dev\",\"test\"],\n",
    "                # append_to_file=True,\n",
    "                data_norm_type=model.norm,\n",
    "                count_tp_method=1)"
   ]
  },
  {
   "cell_type": "code",
   "execution_count": 399,
   "metadata": {},
   "outputs": [
    {
     "name": "stdout",
     "output_type": "stream",
     "text": [
      "{'P_threshold': 0.39, 'S_threshold': 0.34}\n"
     ]
    }
   ],
   "source": [
    "print(vol_pn.default_args)"
   ]
  },
  {
   "cell_type": "code",
   "execution_count": 38,
   "metadata": {},
   "outputs": [
    {
     "name": "stdout",
     "output_type": "stream",
     "text": [
      "/home/zhongyiyuan/volpick/model_training/Test_NCEDC_alternative/ncedc_pred/task0/vol_pn exists\n",
      "Starting set: test\n"
     ]
    },
    {
     "name": "stderr",
     "output_type": "stream",
     "text": [
      "Preloading waveforms:   0%|          | 0/9682 [00:00<?, ?it/s]"
     ]
    },
    {
     "name": "stderr",
     "output_type": "stream",
     "text": [
      "Preloading waveforms: 100%|██████████| 9682/9682 [00:01<00:00, 6113.92it/s]"
     ]
    },
    {
     "name": "stdout",
     "output_type": "stream",
     "text": [
      "Number of examples in test: 9682\n",
      "9682 earthquake traces\n",
      "0 noise traces\n",
      "Probability threshold: 0.390\n"
     ]
    },
    {
     "name": "stderr",
     "output_type": "stream",
     "text": [
      "\n"
     ]
    },
    {
     "name": "stdout",
     "output_type": "stream",
     "text": [
      "Probability threshold: 0.340\n",
      "/home/zhongyiyuan/volpick/model_training/Test_NCEDC_alternative/ncedc_lp_pred/task0/vol_pn exists\n",
      "Starting set: test\n"
     ]
    },
    {
     "name": "stderr",
     "output_type": "stream",
     "text": [
      "Preloading waveforms: 100%|██████████| 4841/4841 [00:00<00:00, 5756.44it/s]"
     ]
    },
    {
     "name": "stdout",
     "output_type": "stream",
     "text": [
      "Number of examples in test: 4841\n",
      "4841 earthquake traces\n",
      "0 noise traces\n",
      "Probability threshold: 0.390\n"
     ]
    },
    {
     "name": "stderr",
     "output_type": "stream",
     "text": [
      "\n"
     ]
    },
    {
     "name": "stdout",
     "output_type": "stream",
     "text": [
      "Probability threshold: 0.340\n",
      "/home/zhongyiyuan/volpick/model_training/Test_NCEDC_alternative/ncedc_vt_pred/task0/vol_pn exists\n",
      "Starting set: test\n"
     ]
    },
    {
     "name": "stderr",
     "output_type": "stream",
     "text": [
      "Preloading waveforms: 100%|██████████| 4841/4841 [00:00<00:00, 6312.58it/s]"
     ]
    },
    {
     "name": "stdout",
     "output_type": "stream",
     "text": [
      "Number of examples in test: 4841\n",
      "4841 earthquake traces\n",
      "0 noise traces\n",
      "Probability threshold: 0.390\n"
     ]
    },
    {
     "name": "stderr",
     "output_type": "stream",
     "text": [
      "\n"
     ]
    },
    {
     "name": "stdout",
     "output_type": "stream",
     "text": [
      "Probability threshold: 0.340\n"
     ]
    }
   ],
   "source": [
    "tp_thre = 0.5\n",
    "target_path_list = [\n",
    "    targets_path_lp_and_rg_ncedc,\n",
    "    targets_path_lp_ncedc,\n",
    "    targets_path_rg_ncedc,\n",
    "]\n",
    "dataset_list = [dataset_ncedc, dataset_ncedc_lp, dataset_ncedc_vt]\n",
    "\n",
    "model = vol_pn\n",
    "for target_i, dataset_i in zip(target_path_list, dataset_list):\n",
    "    eval_task0(\n",
    "        dev_test_set=dataset_i,\n",
    "        model=model,\n",
    "        exp_name=f\"vol_pn\",\n",
    "        targets_path=target_i,\n",
    "        root_save_dir=\"/home/zhongyiyuan/volpick/model_training/Test_NCEDC_alternative\",\n",
    "        prob_thres=np.array([0.39, 0.34]),\n",
    "        num_workers=16,\n",
    "        batchsize=1024,\n",
    "        num_test_run=-1,\n",
    "        output_remark=\"pred\",\n",
    "        tp_thre=tp_thre,\n",
    "        sets=[\"test\"],\n",
    "        # sets=[\"train\", \"dev\",\"test\"],\n",
    "        # append_to_file=True,\n",
    "        data_norm_type=model.norm,\n",
    "        count_tp_method=1,\n",
    "    )"
   ]
  },
  {
   "cell_type": "markdown",
   "metadata": {},
   "source": [
    "Test the original model"
   ]
  },
  {
   "cell_type": "code",
   "execution_count": 39,
   "metadata": {},
   "outputs": [
    {
     "data": {
      "text/html": [
       "<div>\n",
       "<style scoped>\n",
       "    .dataframe tbody tr th:only-of-type {\n",
       "        vertical-align: middle;\n",
       "    }\n",
       "\n",
       "    .dataframe tbody tr th {\n",
       "        vertical-align: top;\n",
       "    }\n",
       "\n",
       "    .dataframe thead th {\n",
       "        text-align: right;\n",
       "    }\n",
       "</style>\n",
       "<table border=\"1\" class=\"dataframe\">\n",
       "  <thead>\n",
       "    <tr style=\"text-align: right;\">\n",
       "      <th></th>\n",
       "      <th>exp_name</th>\n",
       "      <th>model</th>\n",
       "      <th>pretraining</th>\n",
       "      <th>p_opt_prob_thre</th>\n",
       "      <th>s_opt_prob_thre</th>\n",
       "    </tr>\n",
       "  </thead>\n",
       "  <tbody>\n",
       "    <tr>\n",
       "      <th>0</th>\n",
       "      <td>PhaseNet_org_instance</td>\n",
       "      <td>PhaseNet</td>\n",
       "      <td>instance</td>\n",
       "      <td>0.13</td>\n",
       "      <td>0.050</td>\n",
       "    </tr>\n",
       "    <tr>\n",
       "      <th>1</th>\n",
       "      <td>EQTransformer_org</td>\n",
       "      <td>EQTransformer</td>\n",
       "      <td>original</td>\n",
       "      <td>0.01</td>\n",
       "      <td>0.001</td>\n",
       "    </tr>\n",
       "    <tr>\n",
       "      <th>2</th>\n",
       "      <td>EQTransformer_org_instance</td>\n",
       "      <td>EQTransformer</td>\n",
       "      <td>instance</td>\n",
       "      <td>0.04</td>\n",
       "      <td>0.040</td>\n",
       "    </tr>\n",
       "    <tr>\n",
       "      <th>3</th>\n",
       "      <td>PhaseNet_org</td>\n",
       "      <td>PhaseNet</td>\n",
       "      <td>original</td>\n",
       "      <td>0.28</td>\n",
       "      <td>0.170</td>\n",
       "    </tr>\n",
       "  </tbody>\n",
       "</table>\n",
       "</div>"
      ],
      "text/plain": [
       "                     exp_name          model pretraining  p_opt_prob_thre   \n",
       "0       PhaseNet_org_instance       PhaseNet    instance             0.13  \\\n",
       "1           EQTransformer_org  EQTransformer    original             0.01   \n",
       "2  EQTransformer_org_instance  EQTransformer    instance             0.04   \n",
       "3                PhaseNet_org       PhaseNet    original             0.28   \n",
       "\n",
       "   s_opt_prob_thre  \n",
       "0            0.050  \n",
       "1            0.001  \n",
       "2            0.040  \n",
       "3            0.170  "
      ]
     },
     "execution_count": 39,
     "metadata": {},
     "output_type": "execute_result"
    }
   ],
   "source": [
    "opt_thresholds_for_original_models_df=pd.read_csv(\"/home/zhongyiyuan/volpick/model_training/Original_model_opt_thresholds/all_pred/task0/optimal_threshold.csv\")\n",
    "opt_thresholds_for_original_models_df=opt_thresholds_for_original_models_df[[\"exp_name\",\"model\",\"pretraining\",\"p_opt_prob_thre\",\"s_opt_prob_thre\"]]\n",
    "opt_thresholds_for_original_models_df"
   ]
  },
  {
   "cell_type": "code",
   "execution_count": 40,
   "metadata": {},
   "outputs": [
    {
     "name": "stdout",
     "output_type": "stream",
     "text": [
      "/home/zhongyiyuan/volpick/model_training/Test_NCEDC_alternative/ncedc_pred/task0/org_eqt exists\n",
      "Starting set: test\n"
     ]
    },
    {
     "name": "stderr",
     "output_type": "stream",
     "text": [
      "Preloading waveforms:   0%|          | 0/9682 [00:00<?, ?it/s]"
     ]
    },
    {
     "name": "stderr",
     "output_type": "stream",
     "text": [
      "Preloading waveforms: 100%|██████████| 9682/9682 [00:01<00:00, 6161.36it/s]"
     ]
    },
    {
     "name": "stdout",
     "output_type": "stream",
     "text": [
      "Number of examples in test: 9682\n",
      "9682 earthquake traces\n",
      "0 noise traces\n",
      "Probability threshold: 0.001\n"
     ]
    },
    {
     "name": "stderr",
     "output_type": "stream",
     "text": [
      "\n"
     ]
    },
    {
     "name": "stdout",
     "output_type": "stream",
     "text": [
      "Probability threshold: 0.010\n",
      "/home/zhongyiyuan/volpick/model_training/Test_NCEDC_alternative/ncedc_lp_pred/task0/org_eqt exists\n",
      "Starting set: test\n"
     ]
    },
    {
     "name": "stderr",
     "output_type": "stream",
     "text": [
      "Preloading waveforms: 100%|██████████| 4841/4841 [00:00<00:00, 5831.06it/s]"
     ]
    },
    {
     "name": "stdout",
     "output_type": "stream",
     "text": [
      "Number of examples in test: 4841\n",
      "4841 earthquake traces\n",
      "0 noise traces\n",
      "Probability threshold: 0.001\n"
     ]
    },
    {
     "name": "stderr",
     "output_type": "stream",
     "text": [
      "\n"
     ]
    },
    {
     "name": "stdout",
     "output_type": "stream",
     "text": [
      "Probability threshold: 0.010\n",
      "/home/zhongyiyuan/volpick/model_training/Test_NCEDC_alternative/ncedc_vt_pred/task0/org_eqt exists\n",
      "Starting set: test\n"
     ]
    },
    {
     "name": "stderr",
     "output_type": "stream",
     "text": [
      "Preloading waveforms: 100%|██████████| 4841/4841 [00:00<00:00, 6185.49it/s]"
     ]
    },
    {
     "name": "stdout",
     "output_type": "stream",
     "text": [
      "Number of examples in test: 4841\n",
      "4841 earthquake traces\n",
      "0 noise traces\n",
      "Probability threshold: 0.001\n"
     ]
    },
    {
     "name": "stderr",
     "output_type": "stream",
     "text": [
      "\n"
     ]
    },
    {
     "name": "stdout",
     "output_type": "stream",
     "text": [
      "Probability threshold: 0.010\n"
     ]
    }
   ],
   "source": [
    "tp_thre = 0.5\n",
    "target_path_list = [\n",
    "    targets_path_lp_and_rg_ncedc,\n",
    "    targets_path_lp_ncedc,\n",
    "    targets_path_rg_ncedc,\n",
    "]\n",
    "dataset_list = [dataset_ncedc, dataset_ncedc_lp, dataset_ncedc_vt]\n",
    "\n",
    "model = org_eqt\n",
    "for target_i, dataset_i in zip(target_path_list, dataset_list):\n",
    "    eval_task0(\n",
    "        dev_test_set=dataset_i,\n",
    "        model=model,\n",
    "        exp_name=f\"org_eqt\",\n",
    "        targets_path=target_i,\n",
    "        root_save_dir=\"/home/zhongyiyuan/volpick/model_training/Test_NCEDC_alternative\",\n",
    "        prob_thres=np.array([0.001, 0.01]),\n",
    "        num_workers=16,\n",
    "        batchsize=1024,\n",
    "        num_test_run=-1,\n",
    "        output_remark=\"pred\",\n",
    "        tp_thre=tp_thre,\n",
    "        sets=[\"test\"],\n",
    "        # sets=[\"train\", \"dev\",\"test\"],\n",
    "        # append_to_file=True,\n",
    "        data_norm_type=model.norm,\n",
    "        count_tp_method=1,\n",
    "    )"
   ]
  },
  {
   "cell_type": "code",
   "execution_count": 20,
   "metadata": {},
   "outputs": [
    {
     "name": "stdout",
     "output_type": "stream",
     "text": [
      "/home/zhongyiyuan/volpick/model_training/Test_NCEDC_alternative/ncedc_pred/task0/org_eqt_nonconservative exists\n",
      "Starting set: test\n"
     ]
    },
    {
     "name": "stderr",
     "output_type": "stream",
     "text": [
      "Preloading waveforms: 100%|██████████| 9682/9682 [00:01<00:00, 5542.86it/s]"
     ]
    },
    {
     "name": "stdout",
     "output_type": "stream",
     "text": [
      "Number of examples in test: 9682\n",
      "9682 earthquake traces\n",
      "0 noise traces\n",
      "Probability threshold: 0.2600\n"
     ]
    },
    {
     "name": "stderr",
     "output_type": "stream",
     "text": [
      "\n"
     ]
    },
    {
     "name": "stdout",
     "output_type": "stream",
     "text": [
      "Probability threshold: 0.1500\n",
      "/home/zhongyiyuan/volpick/model_training/Test_NCEDC_alternative/ncedc_lp_pred/task0/org_eqt_nonconservative exists\n",
      "Starting set: test\n"
     ]
    },
    {
     "name": "stderr",
     "output_type": "stream",
     "text": [
      "Preloading waveforms: 100%|██████████| 4841/4841 [00:00<00:00, 5263.71it/s]"
     ]
    },
    {
     "name": "stdout",
     "output_type": "stream",
     "text": [
      "Number of examples in test: 4841\n",
      "4841 earthquake traces\n",
      "0 noise traces\n",
      "Probability threshold: 0.2600\n"
     ]
    },
    {
     "name": "stderr",
     "output_type": "stream",
     "text": [
      "\n"
     ]
    },
    {
     "name": "stdout",
     "output_type": "stream",
     "text": [
      "Probability threshold: 0.1500\n",
      "/home/zhongyiyuan/volpick/model_training/Test_NCEDC_alternative/ncedc_vt_pred/task0/org_eqt_nonconservative exists\n",
      "Starting set: test\n"
     ]
    },
    {
     "name": "stderr",
     "output_type": "stream",
     "text": [
      "Preloading waveforms: 100%|██████████| 4841/4841 [00:00<00:00, 5960.52it/s]"
     ]
    },
    {
     "name": "stdout",
     "output_type": "stream",
     "text": [
      "Number of examples in test: 4841\n",
      "4841 earthquake traces\n",
      "0 noise traces\n",
      "Probability threshold: 0.2600\n"
     ]
    },
    {
     "name": "stderr",
     "output_type": "stream",
     "text": [
      "\n"
     ]
    },
    {
     "name": "stdout",
     "output_type": "stream",
     "text": [
      "Probability threshold: 0.1500\n"
     ]
    }
   ],
   "source": [
    "tp_thre = 0.5\n",
    "target_path_list = [\n",
    "    targets_path_lp_and_rg_ncedc,\n",
    "    targets_path_lp_ncedc,\n",
    "    targets_path_rg_ncedc,\n",
    "]\n",
    "dataset_list = [dataset_ncedc, dataset_ncedc_lp, dataset_ncedc_vt]\n",
    "\n",
    "model = org_eqt2\n",
    "for target_i, dataset_i in zip(target_path_list, dataset_list):\n",
    "    eval_task0(\n",
    "        dev_test_set=dataset_i,\n",
    "        model=model,\n",
    "        exp_name=f\"org_eqt_nonconservative\",\n",
    "        targets_path=target_i,\n",
    "        root_save_dir=\"/home/zhongyiyuan/volpick/model_training/Test_NCEDC_alternative\",\n",
    "        prob_thres=np.array([0.26, 0.15]),\n",
    "        num_workers=16,\n",
    "        batchsize=1024,\n",
    "        num_test_run=-1,\n",
    "        output_remark=\"pred\",\n",
    "        tp_thre=tp_thre,\n",
    "        sets=[\"test\"],\n",
    "        # sets=[\"train\", \"dev\",\"test\"],\n",
    "        # append_to_file=True,\n",
    "        data_norm_type=model.norm,\n",
    "        count_tp_method=1,\n",
    "    )"
   ]
  },
  {
   "cell_type": "code",
   "execution_count": 21,
   "metadata": {},
   "outputs": [
    {
     "name": "stdout",
     "output_type": "stream",
     "text": [
      "/home/zhongyiyuan/volpick/model_training/Test_NCEDC_alternative/ncedc_pred/task0/org_pn exists\n",
      "Starting set: test\n"
     ]
    },
    {
     "name": "stderr",
     "output_type": "stream",
     "text": [
      "Preloading waveforms: 100%|██████████| 9682/9682 [00:01<00:00, 5566.85it/s]"
     ]
    },
    {
     "name": "stdout",
     "output_type": "stream",
     "text": [
      "Number of examples in test: 9682\n",
      "9682 earthquake traces\n",
      "0 noise traces\n",
      "Probability threshold: 0.2500\n"
     ]
    },
    {
     "name": "stderr",
     "output_type": "stream",
     "text": [
      "\n"
     ]
    },
    {
     "name": "stdout",
     "output_type": "stream",
     "text": [
      "Probability threshold: 0.1900\n",
      "/home/zhongyiyuan/volpick/model_training/Test_NCEDC_alternative/ncedc_lp_pred/task0/org_pn exists\n",
      "Starting set: test\n"
     ]
    },
    {
     "name": "stderr",
     "output_type": "stream",
     "text": [
      "Preloading waveforms: 100%|██████████| 4841/4841 [00:00<00:00, 5208.90it/s]"
     ]
    },
    {
     "name": "stdout",
     "output_type": "stream",
     "text": [
      "Number of examples in test: 4841\n",
      "4841 earthquake traces\n",
      "0 noise traces\n",
      "Probability threshold: 0.2500\n"
     ]
    },
    {
     "name": "stderr",
     "output_type": "stream",
     "text": [
      "\n"
     ]
    },
    {
     "name": "stdout",
     "output_type": "stream",
     "text": [
      "Probability threshold: 0.1900\n",
      "/home/zhongyiyuan/volpick/model_training/Test_NCEDC_alternative/ncedc_vt_pred/task0/org_pn exists\n",
      "Starting set: test\n"
     ]
    },
    {
     "name": "stderr",
     "output_type": "stream",
     "text": [
      "Preloading waveforms: 100%|██████████| 4841/4841 [00:00<00:00, 5804.86it/s]"
     ]
    },
    {
     "name": "stdout",
     "output_type": "stream",
     "text": [
      "Number of examples in test: 4841\n",
      "4841 earthquake traces\n",
      "0 noise traces\n",
      "Probability threshold: 0.2500\n"
     ]
    },
    {
     "name": "stderr",
     "output_type": "stream",
     "text": [
      "\n"
     ]
    },
    {
     "name": "stdout",
     "output_type": "stream",
     "text": [
      "Probability threshold: 0.1900\n"
     ]
    }
   ],
   "source": [
    "tp_thre = 0.5\n",
    "target_path_list = [\n",
    "    targets_path_lp_and_rg_ncedc,\n",
    "    targets_path_lp_ncedc,\n",
    "    targets_path_rg_ncedc,\n",
    "]\n",
    "# dataset_list = [dataset_ncedc, dataset_ncedc_lp, dataset_ncedc_vt]\n",
    "dataset_list = [dataset_ncedc_ENZ, dataset_ncedc_ENZ_lp, dataset_ncedc_ENZ_vt]\n",
    "\n",
    "model = org_pn\n",
    "for target_i, dataset_i in zip(target_path_list, dataset_list):\n",
    "    eval_task0(\n",
    "        dev_test_set=dataset_i,\n",
    "        model=model,\n",
    "        exp_name=f\"org_pn\",\n",
    "        targets_path=target_i,\n",
    "        root_save_dir=\"/home/zhongyiyuan/volpick/model_training/Test_NCEDC_alternative\",\n",
    "        prob_thres=np.array([0.25, 0.19]),\n",
    "        num_workers=16,\n",
    "        batchsize=1024,\n",
    "        num_test_run=-1,\n",
    "        output_remark=\"pred\",\n",
    "        tp_thre=tp_thre,\n",
    "        sets=[\"test\"],\n",
    "        # sets=[\"train\", \"dev\",\"test\"],\n",
    "        # append_to_file=True,\n",
    "        data_norm_type=model.norm,\n",
    "        count_tp_method=1,\n",
    "    )"
   ]
  },
  {
   "cell_type": "markdown",
   "metadata": {},
   "source": [
    "Test the model trained on INSTANCE dataset"
   ]
  },
  {
   "cell_type": "code",
   "execution_count": 42,
   "metadata": {},
   "outputs": [
    {
     "name": "stdout",
     "output_type": "stream",
     "text": [
      "/home/zhongyiyuan/volpick/model_training/Test_NCEDC_alternative/ncedc_pred/task0/int_eqt exists\n",
      "Starting set: test\n"
     ]
    },
    {
     "name": "stderr",
     "output_type": "stream",
     "text": [
      "Preloading waveforms:   0%|          | 0/9682 [00:00<?, ?it/s]"
     ]
    },
    {
     "name": "stderr",
     "output_type": "stream",
     "text": [
      "Preloading waveforms: 100%|██████████| 9682/9682 [00:01<00:00, 5366.46it/s]"
     ]
    },
    {
     "name": "stdout",
     "output_type": "stream",
     "text": [
      "Number of examples in test: 9682\n",
      "9682 earthquake traces\n",
      "0 noise traces\n",
      "Probability threshold: 0.040\n"
     ]
    },
    {
     "name": "stderr",
     "output_type": "stream",
     "text": [
      "\n"
     ]
    },
    {
     "name": "stdout",
     "output_type": "stream",
     "text": [
      "/home/zhongyiyuan/volpick/model_training/Test_NCEDC_alternative/ncedc_lp_pred/task0/int_eqt exists\n",
      "Starting set: test\n"
     ]
    },
    {
     "name": "stderr",
     "output_type": "stream",
     "text": [
      "Preloading waveforms: 100%|██████████| 4841/4841 [00:00<00:00, 5000.41it/s]"
     ]
    },
    {
     "name": "stdout",
     "output_type": "stream",
     "text": [
      "Number of examples in test: 4841\n",
      "4841 earthquake traces\n",
      "0 noise traces\n",
      "Probability threshold: 0.040\n"
     ]
    },
    {
     "name": "stderr",
     "output_type": "stream",
     "text": [
      "\n"
     ]
    },
    {
     "name": "stdout",
     "output_type": "stream",
     "text": [
      "/home/zhongyiyuan/volpick/model_training/Test_NCEDC_alternative/ncedc_vt_pred/task0/int_eqt exists\n",
      "Starting set: test\n"
     ]
    },
    {
     "name": "stderr",
     "output_type": "stream",
     "text": [
      "Preloading waveforms: 100%|██████████| 4841/4841 [00:00<00:00, 5482.16it/s]"
     ]
    },
    {
     "name": "stdout",
     "output_type": "stream",
     "text": [
      "Number of examples in test: 4841\n",
      "4841 earthquake traces\n",
      "0 noise traces\n",
      "Probability threshold: 0.040\n"
     ]
    },
    {
     "name": "stderr",
     "output_type": "stream",
     "text": [
      "\n"
     ]
    }
   ],
   "source": [
    "tp_thre = 0.5\n",
    "target_path_list = [\n",
    "    targets_path_lp_and_rg_ncedc,\n",
    "    targets_path_lp_ncedc,\n",
    "    targets_path_rg_ncedc,\n",
    "]\n",
    "dataset_list = [dataset_ncedc, dataset_ncedc_lp, dataset_ncedc_vt]\n",
    "\n",
    "model = eqt_instance\n",
    "for target_i, dataset_i in zip(target_path_list, dataset_list):\n",
    "    eval_task0(\n",
    "        dev_test_set=dataset_i,\n",
    "        model=model,\n",
    "        exp_name=f\"int_eqt\",\n",
    "        targets_path=target_i,\n",
    "        root_save_dir=\"/home/zhongyiyuan/volpick/model_training/Test_NCEDC_alternative\",\n",
    "        prob_thres=np.array([0.04]),\n",
    "        num_workers=16,\n",
    "        batchsize=1024,\n",
    "        num_test_run=-1,\n",
    "        output_remark=\"pred\",\n",
    "        tp_thre=tp_thre,\n",
    "        sets=[\"test\"],\n",
    "        # sets=[\"train\", \"dev\",\"test\"],\n",
    "        # append_to_file=True,\n",
    "        data_norm_type=model.norm,\n",
    "        count_tp_method=1,\n",
    "    )"
   ]
  },
  {
   "cell_type": "code",
   "execution_count": 43,
   "metadata": {},
   "outputs": [
    {
     "name": "stdout",
     "output_type": "stream",
     "text": [
      "/home/zhongyiyuan/volpick/model_training/Test_NCEDC_alternative/ncedc_pred/task0/int_pn exists\n",
      "Starting set: test\n"
     ]
    },
    {
     "name": "stderr",
     "output_type": "stream",
     "text": [
      "Preloading waveforms:   0%|          | 0/9682 [00:00<?, ?it/s]"
     ]
    },
    {
     "name": "stderr",
     "output_type": "stream",
     "text": [
      "Preloading waveforms: 100%|██████████| 9682/9682 [00:01<00:00, 5408.08it/s]"
     ]
    },
    {
     "name": "stdout",
     "output_type": "stream",
     "text": [
      "Number of examples in test: 9682\n",
      "9682 earthquake traces\n",
      "0 noise traces\n",
      "Probability threshold: 0.130\n"
     ]
    },
    {
     "name": "stderr",
     "output_type": "stream",
     "text": [
      "\n"
     ]
    },
    {
     "name": "stdout",
     "output_type": "stream",
     "text": [
      "Probability threshold: 0.050\n",
      "/home/zhongyiyuan/volpick/model_training/Test_NCEDC_alternative/ncedc_lp_pred/task0/int_pn exists\n",
      "Starting set: test\n"
     ]
    },
    {
     "name": "stderr",
     "output_type": "stream",
     "text": [
      "Preloading waveforms: 100%|██████████| 4841/4841 [00:01<00:00, 4798.85it/s]"
     ]
    },
    {
     "name": "stdout",
     "output_type": "stream",
     "text": [
      "Number of examples in test: 4841\n",
      "4841 earthquake traces\n",
      "0 noise traces\n",
      "Probability threshold: 0.130\n"
     ]
    },
    {
     "name": "stderr",
     "output_type": "stream",
     "text": [
      "\n"
     ]
    },
    {
     "name": "stdout",
     "output_type": "stream",
     "text": [
      "Probability threshold: 0.050\n",
      "/home/zhongyiyuan/volpick/model_training/Test_NCEDC_alternative/ncedc_vt_pred/task0/int_pn exists\n",
      "Starting set: test\n"
     ]
    },
    {
     "name": "stderr",
     "output_type": "stream",
     "text": [
      "Preloading waveforms: 100%|██████████| 4841/4841 [00:00<00:00, 5489.41it/s]"
     ]
    },
    {
     "name": "stdout",
     "output_type": "stream",
     "text": [
      "Number of examples in test: 4841\n",
      "4841 earthquake traces\n",
      "0 noise traces\n",
      "Probability threshold: 0.130\n"
     ]
    },
    {
     "name": "stderr",
     "output_type": "stream",
     "text": [
      "\n"
     ]
    },
    {
     "name": "stdout",
     "output_type": "stream",
     "text": [
      "Probability threshold: 0.050\n"
     ]
    }
   ],
   "source": [
    "tp_thre = 0.5\n",
    "target_path_list = [\n",
    "    targets_path_lp_and_rg_ncedc,\n",
    "    targets_path_lp_ncedc,\n",
    "    targets_path_rg_ncedc,\n",
    "]\n",
    "dataset_list = [dataset_ncedc, dataset_ncedc_lp, dataset_ncedc_vt]\n",
    "\n",
    "model = pn_instance\n",
    "for target_i, dataset_i in zip(target_path_list, dataset_list):\n",
    "    eval_task0(\n",
    "        dev_test_set=dataset_i,\n",
    "        model=model,\n",
    "        exp_name=f\"int_pn\",\n",
    "        targets_path=target_i,\n",
    "        root_save_dir=\"/home/zhongyiyuan/volpick/model_training/Test_NCEDC_alternative\",\n",
    "        prob_thres=np.array([0.13, 0.05]),\n",
    "        num_workers=16,\n",
    "        batchsize=1024,\n",
    "        num_test_run=-1,\n",
    "        output_remark=\"pred\",\n",
    "        tp_thre=tp_thre,\n",
    "        sets=[\"test\"],\n",
    "        # sets=[\"train\", \"dev\",\"test\"],\n",
    "        # append_to_file=True,\n",
    "        data_norm_type=model.norm,\n",
    "        count_tp_method=1,\n",
    "    )"
   ]
  },
  {
   "cell_type": "markdown",
   "metadata": {},
   "source": [
    "Plot eqt"
   ]
  },
  {
   "cell_type": "code",
   "execution_count": 68,
   "metadata": {},
   "outputs": [],
   "source": [
    "pred_dir_path=Path(\"/home/zhongyiyuan/volpick/model_training/Test_NCEDC_alternative/\")\n",
    "data_type_dirs=(\"ncedc_lp_pred\",\"ncedc_vt_pred\",\"ncedc_pred\")\n",
    "\n",
    "p_metric_dict={}\n",
    "s_metric_dict={}\n",
    "p_precision_dict={x:[] for x in eqt_pred_dirs}\n",
    "s_precision_dict={x:[] for x in eqt_pred_dirs}\n",
    "p_recall_dict={x:[] for x in eqt_pred_dirs}\n",
    "s_recall_dict={x:[] for x in eqt_pred_dirs}\n",
    "p_f1score_dict={x:[] for x in eqt_pred_dirs}\n",
    "s_f1score_dict={x:[] for x in eqt_pred_dirs}\n",
    "for model_name in eqt_pred_dirs:\n",
    "    for data_type in data_type_dirs:\n",
    "        pred_df=pd.read_csv(pred_dir_path/data_type/\"task0\"/model_name/\"test_metrics.csv\")\n",
    "        p_row=pred_df[np.isclose(pred_df[\"prob_thre\"],p_thre_dict[model_name])].iloc[0]\n",
    "        s_row=pred_df[np.isclose(pred_df[\"prob_thre\"],s_thre_dict[model_name])].iloc[0]\n",
    "        assert np.abs(p_row[\"prob_thre\"]-p_thre_dict[model_name])<1e-6, f\"{p_row['prob_thre']}, {p_thre_dict[model_name]}\"\n",
    "        assert np.abs(s_row[\"prob_thre\"]-s_thre_dict[model_name])<1e-6\n",
    "\n",
    "        p_precision_dict[model_name].append(p_row[\"p_precision\"])\n",
    "        p_recall_dict[model_name].append(p_row[\"p_recall\"])\n",
    "        p_f1score_dict[model_name].append(p_row[\"p_F1score\"])\n",
    "\n",
    "        s_precision_dict[model_name].append(s_row[\"s_precision\"])\n",
    "        s_recall_dict[model_name].append(s_row[\"s_recall\"])\n",
    "        s_f1score_dict[model_name].append(s_row[\"s_F1score\"])\n",
    "\n",
    "p_metrics={\"Recall\":p_recall_dict,\"Precision\":p_precision_dict,\"F1 score\":p_f1score_dict}\n",
    "s_metrics={\"Recall\":s_recall_dict,\"Precision\":s_precision_dict,\"F1 score\":s_f1score_dict}"
   ]
  },
  {
   "cell_type": "markdown",
   "metadata": {},
   "source": [
    "Plot PhaseNet"
   ]
  },
  {
   "cell_type": "markdown",
   "metadata": {},
   "source": [
    "Plot EQTransformer and PhaseNet together"
   ]
  },
  {
   "cell_type": "code",
   "execution_count": 71,
   "metadata": {},
   "outputs": [],
   "source": [
    "pred_dirs = [\"org_pn\", \"org_eqt\", \"int_pn\", \"int_eqt\", \"vol_pn\", \"vol_eqt\"]\n",
    "data_types_plotted = [\n",
    "    \"ncedc_vt_pred\",\n",
    "    \"ncedc_lp_pred\",\n",
    "]  # ['rg_and_noise_pred','lp_and_noise_pred']\n",
    "precision_dict = [{x: [] for x in pred_dirs} for _ in range(len(data_types_plotted))]\n",
    "recall_dict = [{x: [] for x in pred_dirs} for _ in range(len(data_types_plotted))]\n",
    "f1score_dict = [{x: [] for x in pred_dirs} for _ in range(len(data_types_plotted))]\n",
    "pred_dir_path = Path(\"/home/zhongyiyuan/volpick/model_training/Test_NCEDC_alternative/\")\n",
    "\n",
    "for model_name in pred_dirs:\n",
    "    for j, data_type in enumerate(data_types_plotted):\n",
    "        pred_df = pd.read_csv(\n",
    "            pred_dir_path / data_type / \"task0\" / model_name / \"test_metrics.csv\"\n",
    "        )\n",
    "        p_row = pred_df[np.isclose(pred_df[\"prob_thre\"], p_thre_dict[model_name])].iloc[\n",
    "            0\n",
    "        ]\n",
    "        s_row = pred_df[np.isclose(pred_df[\"prob_thre\"], s_thre_dict[model_name])].iloc[\n",
    "            0\n",
    "        ]\n",
    "        assert (\n",
    "            np.abs(p_row[\"prob_thre\"] - p_thre_dict[model_name]) < 1e-6\n",
    "        ), f\"{p_row['prob_thre']}, {p_thre_dict[model_name]}\"\n",
    "        assert np.abs(s_row[\"prob_thre\"] - s_thre_dict[model_name]) < 1e-6\n",
    "\n",
    "        precision_dict[j][model_name] = [p_row[\"p_precision\"], s_row[\"s_precision\"]]\n",
    "        recall_dict[j][model_name] = [p_row[\"p_recall\"], s_row[\"s_recall\"]]\n",
    "        f1score_dict[j][model_name] = [p_row[\"p_F1score\"], s_row[\"s_F1score\"]]\n",
    "\n",
    "metrics = {\"Recall\": recall_dict, \"Precision\": precision_dict, \"F1 score\": f1score_dict}"
   ]
  },
  {
   "cell_type": "markdown",
   "metadata": {},
   "source": [
    "# Cross-domain test: Japan tectonic LFEs"
   ]
  },
  {
   "cell_type": "code",
   "execution_count": 24,
   "metadata": {},
   "outputs": [
    {
     "name": "stdout",
     "output_type": "stream",
     "text": [
      "6224\n"
     ]
    }
   ],
   "source": [
    "data_path_jp_tec_lp = Path(\"/home/zhongyiyuan/DATA/my_datasets_seisbench/japan_tec_lp\")\n",
    "\n",
    "dataset_jp_tec_lp = sbd.WaveformDataset(\n",
    "    data_path_jp_tec_lp,\n",
    "    sampling_rate=100,\n",
    "    component_order=\"ZNE\",\n",
    "    dimension_order=\"NCW\",\n",
    "    cache=\"full\",\n",
    ")\n",
    "print(len(dataset_jp_tec_lp))\n",
    "dataset_jp_tec_lp._metadata[\"split\"] = \"test\""
   ]
  },
  {
   "cell_type": "code",
   "execution_count": 25,
   "metadata": {},
   "outputs": [
    {
     "name": "stdout",
     "output_type": "stream",
     "text": [
      "/home/zhongyiyuan/volpick/model_training/Eval_targets_jp_teclp/japan_tec_lp exists\n"
     ]
    }
   ],
   "source": [
    "targets_path_jp_teclp = Path(\n",
    "    \"/home/zhongyiyuan/volpick/model_training/Eval_targets_jp_teclp/japan_tec_lp\"\n",
    ")\n",
    "try:\n",
    "    targets_path_jp_teclp.mkdir(parents=True, exist_ok=False)\n",
    "except FileExistsError:\n",
    "    print(f\"{targets_path_jp_teclp} exists\")"
   ]
  },
  {
   "cell_type": "code",
   "execution_count": 26,
   "metadata": {},
   "outputs": [
    {
     "name": "stdout",
     "output_type": "stream",
     "text": [
      "6224\n"
     ]
    }
   ],
   "source": [
    "data_path_jp_tec_lp = Path(\"/home/zhongyiyuan/DATA/my_datasets_seisbench/japan_tec_lp\")\n",
    "\n",
    "dataset_jp_tec_lp_ENZ = sbd.WaveformDataset(\n",
    "    data_path_jp_tec_lp,\n",
    "    sampling_rate=100,\n",
    "    component_order=\"ENZ\",\n",
    "    dimension_order=\"NCW\",\n",
    "    cache=\"full\",\n",
    ")\n",
    "print(len(dataset_jp_tec_lp_ENZ))\n",
    "dataset_jp_tec_lp_ENZ._metadata[\"split\"] = \"test\""
   ]
  },
  {
   "cell_type": "markdown",
   "metadata": {},
   "source": [
    "Test the retrained model"
   ]
  },
  {
   "cell_type": "code",
   "execution_count": 75,
   "metadata": {},
   "outputs": [
    {
     "name": "stdout",
     "output_type": "stream",
     "text": [
      "{'detection_threshold': 0.10141666, 'P_threshold': 0.22, 'S_threshold': 0.22}\n"
     ]
    }
   ],
   "source": [
    "print(vol_eqt.default_args)"
   ]
  },
  {
   "cell_type": "code",
   "execution_count": 76,
   "metadata": {},
   "outputs": [
    {
     "name": "stdout",
     "output_type": "stream",
     "text": [
      "/home/zhongyiyuan/volpick/model_training/Test_japan_tec_lp_alternative/japan_tec_lp_pred/task0/vol_eqt exists\n",
      "Starting set: test\n"
     ]
    },
    {
     "name": "stderr",
     "output_type": "stream",
     "text": [
      "Preloading waveforms:   0%|          | 0/6224 [00:00<?, ?it/s]"
     ]
    },
    {
     "name": "stderr",
     "output_type": "stream",
     "text": [
      "Preloading waveforms: 100%|██████████| 6224/6224 [00:08<00:00, 767.83it/s] "
     ]
    },
    {
     "name": "stdout",
     "output_type": "stream",
     "text": [
      "Number of examples in test: 6224\n",
      "6224 earthquake traces\n",
      "0 noise traces\n",
      "Probability threshold: 0.220\n"
     ]
    },
    {
     "name": "stderr",
     "output_type": "stream",
     "text": [
      "\n"
     ]
    }
   ],
   "source": [
    "tp_thre = 0.5\n",
    "\n",
    "model = vol_eqt\n",
    "target_i=targets_path_jp_teclp\n",
    "dataset_i=dataset_jp_tec_lp\n",
    "\n",
    "eval_task0(\n",
    "    dev_test_set=dataset_i,\n",
    "    model=model,\n",
    "    exp_name=f\"vol_eqt\",\n",
    "    targets_path=target_i,\n",
    "    root_save_dir=\"/home/zhongyiyuan/volpick/model_training/Test_japan_tec_lp_alternative\",\n",
    "    prob_thres=np.array([0.22]),\n",
    "    num_workers=16,\n",
    "    batchsize=1024,\n",
    "    num_test_run=-1,\n",
    "    output_remark=\"pred\",\n",
    "    tp_thre=tp_thre,\n",
    "    sets=[\"test\"],\n",
    "    # sets=[\"train\", \"dev\",\"test\"],\n",
    "    # append_to_file=True,\n",
    "    data_norm_type=model.norm,\n",
    "    count_tp_method=1\n",
    ")"
   ]
  },
  {
   "cell_type": "code",
   "execution_count": 73,
   "metadata": {},
   "outputs": [
    {
     "name": "stdout",
     "output_type": "stream",
     "text": [
      "{'P_threshold': 0.39, 'S_threshold': 0.34}\n"
     ]
    }
   ],
   "source": [
    "print(vol_pn.default_args)"
   ]
  },
  {
   "cell_type": "code",
   "execution_count": 77,
   "metadata": {},
   "outputs": [
    {
     "name": "stdout",
     "output_type": "stream",
     "text": [
      "/home/zhongyiyuan/volpick/model_training/Test_japan_tec_lp_alternative/japan_tec_lp_pred/task0/vol_pn exists\n",
      "Starting set: test\n"
     ]
    },
    {
     "name": "stderr",
     "output_type": "stream",
     "text": [
      "Preloading waveforms:   0%|          | 0/6224 [00:00<?, ?it/s]"
     ]
    },
    {
     "name": "stderr",
     "output_type": "stream",
     "text": [
      "Preloading waveforms: 100%|██████████| 6224/6224 [00:00<00:00, 7968.42it/s] "
     ]
    },
    {
     "name": "stdout",
     "output_type": "stream",
     "text": [
      "Number of examples in test: 6224\n",
      "6224 earthquake traces\n",
      "0 noise traces\n",
      "Probability threshold: 0.390\n"
     ]
    },
    {
     "name": "stderr",
     "output_type": "stream",
     "text": [
      "\n"
     ]
    },
    {
     "name": "stdout",
     "output_type": "stream",
     "text": [
      "Probability threshold: 0.340\n"
     ]
    }
   ],
   "source": [
    "model = vol_pn\n",
    "target_i = targets_path_jp_teclp\n",
    "dataset_i = dataset_jp_tec_lp\n",
    "eval_task0(\n",
    "    dev_test_set=dataset_i,\n",
    "    model=model,\n",
    "    exp_name=f\"vol_pn\",\n",
    "    targets_path=target_i,\n",
    "    root_save_dir=\"/home/zhongyiyuan/volpick/model_training/Test_japan_tec_lp_alternative\",\n",
    "    prob_thres=np.array([0.39, 0.34]),\n",
    "    num_workers=16,\n",
    "    batchsize=1024,\n",
    "    num_test_run=-1,\n",
    "    output_remark=\"pred\",\n",
    "    tp_thre=tp_thre,\n",
    "    sets=[\"test\"],\n",
    "    # sets=[\"train\", \"dev\",\"test\"],\n",
    "    # append_to_file=True,\n",
    "    data_norm_type=model.norm,\n",
    "    count_tp_method=1,\n",
    ")"
   ]
  },
  {
   "cell_type": "markdown",
   "metadata": {},
   "source": [
    "Test the original model"
   ]
  },
  {
   "cell_type": "code",
   "execution_count": 78,
   "metadata": {},
   "outputs": [
    {
     "data": {
      "text/html": [
       "<div>\n",
       "<style scoped>\n",
       "    .dataframe tbody tr th:only-of-type {\n",
       "        vertical-align: middle;\n",
       "    }\n",
       "\n",
       "    .dataframe tbody tr th {\n",
       "        vertical-align: top;\n",
       "    }\n",
       "\n",
       "    .dataframe thead th {\n",
       "        text-align: right;\n",
       "    }\n",
       "</style>\n",
       "<table border=\"1\" class=\"dataframe\">\n",
       "  <thead>\n",
       "    <tr style=\"text-align: right;\">\n",
       "      <th></th>\n",
       "      <th>exp_name</th>\n",
       "      <th>model</th>\n",
       "      <th>pretraining</th>\n",
       "      <th>p_opt_prob_thre</th>\n",
       "      <th>s_opt_prob_thre</th>\n",
       "    </tr>\n",
       "  </thead>\n",
       "  <tbody>\n",
       "    <tr>\n",
       "      <th>0</th>\n",
       "      <td>PhaseNet_org_instance</td>\n",
       "      <td>PhaseNet</td>\n",
       "      <td>instance</td>\n",
       "      <td>0.13</td>\n",
       "      <td>0.050</td>\n",
       "    </tr>\n",
       "    <tr>\n",
       "      <th>1</th>\n",
       "      <td>EQTransformer_org</td>\n",
       "      <td>EQTransformer</td>\n",
       "      <td>original</td>\n",
       "      <td>0.01</td>\n",
       "      <td>0.001</td>\n",
       "    </tr>\n",
       "    <tr>\n",
       "      <th>2</th>\n",
       "      <td>EQTransformer_org_instance</td>\n",
       "      <td>EQTransformer</td>\n",
       "      <td>instance</td>\n",
       "      <td>0.04</td>\n",
       "      <td>0.040</td>\n",
       "    </tr>\n",
       "    <tr>\n",
       "      <th>3</th>\n",
       "      <td>PhaseNet_org</td>\n",
       "      <td>PhaseNet</td>\n",
       "      <td>original</td>\n",
       "      <td>0.28</td>\n",
       "      <td>0.170</td>\n",
       "    </tr>\n",
       "  </tbody>\n",
       "</table>\n",
       "</div>"
      ],
      "text/plain": [
       "                     exp_name          model pretraining  p_opt_prob_thre   \n",
       "0       PhaseNet_org_instance       PhaseNet    instance             0.13  \\\n",
       "1           EQTransformer_org  EQTransformer    original             0.01   \n",
       "2  EQTransformer_org_instance  EQTransformer    instance             0.04   \n",
       "3                PhaseNet_org       PhaseNet    original             0.28   \n",
       "\n",
       "   s_opt_prob_thre  \n",
       "0            0.050  \n",
       "1            0.001  \n",
       "2            0.040  \n",
       "3            0.170  "
      ]
     },
     "execution_count": 78,
     "metadata": {},
     "output_type": "execute_result"
    }
   ],
   "source": [
    "opt_thresholds_for_original_models_df = pd.read_csv(\n",
    "    \"/home/zhongyiyuan/volpick/model_training/Original_model_opt_thresholds/all_pred/task0/optimal_threshold.csv\"\n",
    ")\n",
    "opt_thresholds_for_original_models_df = opt_thresholds_for_original_models_df[\n",
    "    [\"exp_name\", \"model\", \"pretraining\", \"p_opt_prob_thre\", \"s_opt_prob_thre\"]\n",
    "]\n",
    "opt_thresholds_for_original_models_df"
   ]
  },
  {
   "cell_type": "code",
   "execution_count": 79,
   "metadata": {},
   "outputs": [
    {
     "name": "stdout",
     "output_type": "stream",
     "text": [
      "/home/zhongyiyuan/volpick/model_training/Test_japan_tec_lp_alternative/japan_tec_lp_pred/task0/org_eqt exists\n",
      "Starting set: test\n"
     ]
    },
    {
     "name": "stderr",
     "output_type": "stream",
     "text": [
      "Preloading waveforms:   1%|          | 63/6224 [00:00<00:19, 317.69it/s]"
     ]
    },
    {
     "name": "stderr",
     "output_type": "stream",
     "text": [
      "Preloading waveforms: 100%|██████████| 6224/6224 [00:00<00:00, 8407.35it/s]"
     ]
    },
    {
     "name": "stdout",
     "output_type": "stream",
     "text": [
      "Number of examples in test: 6224\n",
      "6224 earthquake traces\n",
      "0 noise traces\n",
      "Probability threshold: 0.001\n"
     ]
    },
    {
     "name": "stderr",
     "output_type": "stream",
     "text": [
      "\n"
     ]
    },
    {
     "name": "stdout",
     "output_type": "stream",
     "text": [
      "Probability threshold: 0.010\n"
     ]
    }
   ],
   "source": [
    "tp_thre = 0.5\n",
    "\n",
    "\n",
    "model = org_eqt\n",
    "target_i = targets_path_jp_teclp\n",
    "dataset_i = dataset_jp_tec_lp\n",
    "eval_task0(\n",
    "    dev_test_set=dataset_i,\n",
    "    model=model,\n",
    "    exp_name=f\"org_eqt\",\n",
    "    targets_path=target_i,\n",
    "    root_save_dir=\"/home/zhongyiyuan/volpick/model_training/Test_japan_tec_lp_alternative\",\n",
    "    prob_thres=np.array([0.001, 0.01]),\n",
    "    num_workers=16,\n",
    "    batchsize=1024,\n",
    "    num_test_run=-1,\n",
    "    output_remark=\"pred\",\n",
    "    tp_thre=tp_thre,\n",
    "    sets=[\"test\"],\n",
    "    # sets=[\"train\", \"dev\",\"test\"],\n",
    "    # append_to_file=True,\n",
    "    data_norm_type=model.norm,\n",
    "    count_tp_method=1,\n",
    ")"
   ]
  },
  {
   "cell_type": "code",
   "execution_count": 27,
   "metadata": {},
   "outputs": [
    {
     "name": "stdout",
     "output_type": "stream",
     "text": [
      "/home/zhongyiyuan/volpick/model_training/Test_japan_tec_lp_alternative/japan_tec_lp_pred/task0/org_eqt_nonconservative exists\n",
      "Starting set: test\n"
     ]
    },
    {
     "name": "stderr",
     "output_type": "stream",
     "text": [
      "Preloading waveforms: 100%|██████████| 6224/6224 [00:08<00:00, 750.78it/s] "
     ]
    },
    {
     "name": "stdout",
     "output_type": "stream",
     "text": [
      "Number of examples in test: 6224\n",
      "6224 earthquake traces\n",
      "0 noise traces\n",
      "Probability threshold: 0.2600\n"
     ]
    },
    {
     "name": "stderr",
     "output_type": "stream",
     "text": [
      "\n"
     ]
    },
    {
     "name": "stdout",
     "output_type": "stream",
     "text": [
      "Probability threshold: 0.1500\n"
     ]
    }
   ],
   "source": [
    "tp_thre = 0.5\n",
    "\n",
    "\n",
    "model = org_eqt2\n",
    "target_i = targets_path_jp_teclp\n",
    "dataset_i = dataset_jp_tec_lp\n",
    "eval_task0(\n",
    "    dev_test_set=dataset_i,\n",
    "    model=model,\n",
    "    exp_name=f\"org_eqt_nonconservative\",\n",
    "    targets_path=target_i,\n",
    "    root_save_dir=\"/home/zhongyiyuan/volpick/model_training/Test_japan_tec_lp_alternative\",\n",
    "    prob_thres=np.array([0.26, 0.15]),\n",
    "    num_workers=16,\n",
    "    batchsize=1024,\n",
    "    num_test_run=-1,\n",
    "    output_remark=\"pred\",\n",
    "    tp_thre=tp_thre,\n",
    "    sets=[\"test\"],\n",
    "    # sets=[\"train\", \"dev\",\"test\"],\n",
    "    # append_to_file=True,\n",
    "    data_norm_type=model.norm,\n",
    "    count_tp_method=1,\n",
    ")"
   ]
  },
  {
   "cell_type": "code",
   "execution_count": 28,
   "metadata": {},
   "outputs": [
    {
     "name": "stdout",
     "output_type": "stream",
     "text": [
      "/home/zhongyiyuan/volpick/model_training/Test_japan_tec_lp_alternative/japan_tec_lp_pred/task0/org_pn exists\n",
      "Starting set: test\n"
     ]
    },
    {
     "name": "stderr",
     "output_type": "stream",
     "text": [
      "Preloading waveforms:   0%|          | 0/6224 [00:00<?, ?it/s]"
     ]
    },
    {
     "name": "stderr",
     "output_type": "stream",
     "text": [
      "Preloading waveforms: 100%|██████████| 6224/6224 [00:00<00:00, 8211.57it/s] "
     ]
    },
    {
     "name": "stdout",
     "output_type": "stream",
     "text": [
      "Number of examples in test: 6224\n",
      "6224 earthquake traces\n",
      "0 noise traces\n",
      "Probability threshold: 0.2500\n"
     ]
    },
    {
     "name": "stderr",
     "output_type": "stream",
     "text": [
      "\n"
     ]
    },
    {
     "name": "stdout",
     "output_type": "stream",
     "text": [
      "Probability threshold: 0.1900\n"
     ]
    }
   ],
   "source": [
    "tp_thre = 0.5\n",
    "\n",
    "\n",
    "model = org_pn\n",
    "target_i = targets_path_jp_teclp\n",
    "dataset_i = dataset_jp_tec_lp_ENZ\n",
    "eval_task0(\n",
    "    dev_test_set=dataset_i,\n",
    "    model=model,\n",
    "    exp_name=f\"org_pn\",\n",
    "    targets_path=target_i,\n",
    "    root_save_dir=\"/home/zhongyiyuan/volpick/model_training/Test_japan_tec_lp_alternative\",\n",
    "    prob_thres=np.array([0.25, 0.19]),\n",
    "    num_workers=16,\n",
    "    batchsize=1024,\n",
    "    num_test_run=-1,\n",
    "    output_remark=\"pred\",\n",
    "    tp_thre=tp_thre,\n",
    "    sets=[\"test\"],\n",
    "    # sets=[\"train\", \"dev\",\"test\"],\n",
    "    # append_to_file=True,\n",
    "    data_norm_type=model.norm,\n",
    ")"
   ]
  },
  {
   "cell_type": "markdown",
   "metadata": {},
   "source": [
    "Test the model trained on INSTANCE dataset"
   ]
  },
  {
   "cell_type": "code",
   "execution_count": 80,
   "metadata": {},
   "outputs": [
    {
     "name": "stdout",
     "output_type": "stream",
     "text": [
      "/home/zhongyiyuan/volpick/model_training/Test_japan_tec_lp_alternative/japan_tec_lp_pred/task0/int_eqt exists\n",
      "Starting set: test\n"
     ]
    },
    {
     "name": "stderr",
     "output_type": "stream",
     "text": [
      "Preloading waveforms:   0%|          | 0/6224 [00:00<?, ?it/s]"
     ]
    },
    {
     "name": "stderr",
     "output_type": "stream",
     "text": [
      "Preloading waveforms: 100%|██████████| 6224/6224 [00:00<00:00, 8299.01it/s] "
     ]
    },
    {
     "name": "stdout",
     "output_type": "stream",
     "text": [
      "Number of examples in test: 6224\n",
      "6224 earthquake traces\n",
      "0 noise traces\n",
      "Probability threshold: 0.040\n"
     ]
    },
    {
     "name": "stderr",
     "output_type": "stream",
     "text": [
      "\n"
     ]
    }
   ],
   "source": [
    "tp_thre = 0.5\n",
    "\n",
    "\n",
    "model = eqt_instance\n",
    "target_i = targets_path_jp_teclp\n",
    "dataset_i = dataset_jp_tec_lp\n",
    "eval_task0(\n",
    "    dev_test_set=dataset_i,\n",
    "    model=model,\n",
    "    exp_name=f\"int_eqt\",\n",
    "    targets_path=target_i,\n",
    "    root_save_dir=\"/home/zhongyiyuan/volpick/model_training/Test_japan_tec_lp_alternative\",\n",
    "    prob_thres=np.array([0.04]),\n",
    "    num_workers=16,\n",
    "    batchsize=1024,\n",
    "    num_test_run=-1,\n",
    "    output_remark=\"pred\",\n",
    "    tp_thre=tp_thre,\n",
    "    sets=[\"test\"],\n",
    "    # sets=[\"train\", \"dev\",\"test\"],\n",
    "    # append_to_file=True,\n",
    "    data_norm_type=model.norm,\n",
    "    count_tp_method=1,\n",
    ")"
   ]
  },
  {
   "cell_type": "code",
   "execution_count": 81,
   "metadata": {},
   "outputs": [
    {
     "name": "stdout",
     "output_type": "stream",
     "text": [
      "/home/zhongyiyuan/volpick/model_training/Test_japan_tec_lp_alternative/japan_tec_lp_pred/task0/int_pn exists\n",
      "Starting set: test\n"
     ]
    },
    {
     "name": "stderr",
     "output_type": "stream",
     "text": [
      "Preloading waveforms:   0%|          | 0/6224 [00:00<?, ?it/s]"
     ]
    },
    {
     "name": "stderr",
     "output_type": "stream",
     "text": [
      "Preloading waveforms: 100%|██████████| 6224/6224 [00:00<00:00, 8351.82it/s]"
     ]
    },
    {
     "name": "stdout",
     "output_type": "stream",
     "text": [
      "Number of examples in test: 6224\n",
      "6224 earthquake traces\n",
      "0 noise traces\n",
      "Probability threshold: 0.130\n"
     ]
    },
    {
     "name": "stderr",
     "output_type": "stream",
     "text": [
      "\n"
     ]
    },
    {
     "name": "stdout",
     "output_type": "stream",
     "text": [
      "Probability threshold: 0.050\n"
     ]
    }
   ],
   "source": [
    "tp_thre = 0.5\n",
    "\n",
    "\n",
    "model = pn_instance\n",
    "target_i = targets_path_jp_teclp\n",
    "dataset_i = dataset_jp_tec_lp\n",
    "eval_task0(\n",
    "    dev_test_set=dataset_i,\n",
    "    model=model,\n",
    "    exp_name=f\"int_pn\",\n",
    "    targets_path=target_i,\n",
    "    root_save_dir=\"/home/zhongyiyuan/volpick/model_training/Test_japan_tec_lp_alternative\",\n",
    "    prob_thres=np.array([0.13, 0.05]),\n",
    "    num_workers=16,\n",
    "    batchsize=1024,\n",
    "    num_test_run=-1,\n",
    "    output_remark=\"pred\",\n",
    "    tp_thre=tp_thre,\n",
    "    sets=[\"test\"],\n",
    "    # sets=[\"train\", \"dev\",\"test\"],\n",
    "    # append_to_file=True,\n",
    "    data_norm_type=model.norm,\n",
    "    count_tp_method=1,\n",
    ")"
   ]
  },
  {
   "cell_type": "markdown",
   "metadata": {},
   "source": [
    "# Cross-domain test: Cascade"
   ]
  },
  {
   "cell_type": "code",
   "execution_count": 5,
   "metadata": {},
   "outputs": [
    {
     "name": "stdout",
     "output_type": "stream",
     "text": [
      "1620\n"
     ]
    }
   ],
   "source": [
    "data_path_cascade = Path(\"/home/zhongyiyuan/DATA/my_datasets_seisbench/cascade\")\n",
    "\n",
    "dataset_cascade = sbd.WaveformDataset(\n",
    "    data_path_cascade,\n",
    "    sampling_rate=100,\n",
    "    component_order=\"ZNE\",\n",
    "    dimension_order=\"NCW\",\n",
    "    cache=\"full\",\n",
    ")\n",
    "print(len(dataset_cascade))\n",
    "dataset_cascade._metadata[\"split\"] = \"test\""
   ]
  },
  {
   "cell_type": "code",
   "execution_count": 6,
   "metadata": {},
   "outputs": [],
   "source": [
    "dataset_cascade_lp = dataset_cascade.filter(\n",
    "    (dataset_cascade.metadata[\"source_type\"] == \"lp\")\n",
    "    | (dataset_cascade.metadata[\"source_type\"] == \"noise\"),\n",
    "    inplace=False,\n",
    ")\n",
    "dataset_cascade_vt = dataset_cascade.filter(\n",
    "    (dataset_cascade.metadata[\"source_type\"] != \"lp\")\n",
    "    | (dataset_cascade.metadata[\"source_type\"] == \"noise\"),\n",
    "    inplace=False,\n",
    ")"
   ]
  },
  {
   "cell_type": "code",
   "execution_count": 7,
   "metadata": {},
   "outputs": [
    {
     "name": "stdout",
     "output_type": "stream",
     "text": [
      "1620\n"
     ]
    }
   ],
   "source": [
    "data_path_cacade = Path(\"/home/zhongyiyuan/DATA/my_datasets_seisbench/cascade\")\n",
    "\n",
    "dataset_cascade_ENZ = sbd.WaveformDataset(\n",
    "    data_path_cacade,\n",
    "    sampling_rate=100,\n",
    "    component_order=\"ENZ\",\n",
    "    dimension_order=\"NCW\",\n",
    "    cache=\"full\",\n",
    ")\n",
    "print(len(dataset_cascade_ENZ))\n",
    "dataset_cascade_ENZ._metadata[\"split\"] = \"test\"\n",
    "dataset_cascade_ENZ_lp = dataset_cascade_ENZ.filter(\n",
    "    (dataset_cascade_ENZ.metadata[\"source_type\"] == \"lp\")\n",
    "    | (dataset_cascade_ENZ.metadata[\"source_type\"] == \"noise\"),\n",
    "    inplace=False,\n",
    ")\n",
    "dataset_cascade_ENZ_vt = dataset_cascade_ENZ.filter(\n",
    "    (dataset_cascade_ENZ.metadata[\"source_type\"] != \"lp\")\n",
    "    | (dataset_cascade_ENZ.metadata[\"source_type\"] == \"noise\"),\n",
    "    inplace=False,\n",
    ")"
   ]
  },
  {
   "cell_type": "code",
   "execution_count": 8,
   "metadata": {},
   "outputs": [
    {
     "name": "stdout",
     "output_type": "stream",
     "text": [
      "/home/zhongyiyuan/volpick/model_training/Eval_targets_cascade/cascade exists\n",
      "/home/zhongyiyuan/volpick/model_training/Eval_targets_cascade/cascade_lp exists\n",
      "/home/zhongyiyuan/volpick/model_training/Eval_targets_cascade/cascade_vt exists\n"
     ]
    }
   ],
   "source": [
    "targets_path_lp_and_rg_cascade = Path(\n",
    "    \"/home/zhongyiyuan/volpick/model_training/Eval_targets_cascade/cascade\"\n",
    ")\n",
    "try:\n",
    "    targets_path_lp_and_rg_cascade.mkdir(parents=True, exist_ok=False)\n",
    "except FileExistsError:\n",
    "    print(f\"{targets_path_lp_and_rg_cascade} exists\")\n",
    "\n",
    "targets_path_lp_cascade = Path(\n",
    "    \"/home/zhongyiyuan/volpick/model_training/Eval_targets_cascade/cascade_lp\"\n",
    ")\n",
    "try:\n",
    "    targets_path_lp_cascade.mkdir(parents=True, exist_ok=False)\n",
    "except FileExistsError:\n",
    "    print(f\"{targets_path_lp_cascade} exists\")\n",
    "\n",
    "targets_path_rg_cascade = Path(\n",
    "    \"/home/zhongyiyuan/volpick/model_training/Eval_targets_cascade/cascade_vt\"\n",
    ")\n",
    "try:\n",
    "    targets_path_rg_cascade.mkdir(parents=True, exist_ok=False)\n",
    "except FileExistsError:\n",
    "    print(f\"{targets_path_rg_cascade} exists\")"
   ]
  },
  {
   "cell_type": "markdown",
   "metadata": {},
   "source": [
    "Test the retrained model"
   ]
  },
  {
   "cell_type": "code",
   "execution_count": 9,
   "metadata": {},
   "outputs": [
    {
     "name": "stdout",
     "output_type": "stream",
     "text": [
      "{'detection_threshold': 0.10141666, 'P_threshold': 0.22, 'S_threshold': 0.22}\n"
     ]
    }
   ],
   "source": [
    "print(vol_eqt.default_args)"
   ]
  },
  {
   "cell_type": "code",
   "execution_count": 10,
   "metadata": {},
   "outputs": [
    {
     "name": "stdout",
     "output_type": "stream",
     "text": [
      "/home/zhongyiyuan/volpick/model_training/Test_cascade_alternative/cascade_pred/task0/vol_eqt exists\n",
      "Starting set: test\n"
     ]
    },
    {
     "name": "stderr",
     "output_type": "stream",
     "text": [
      "Preloading waveforms: 100%|██████████| 1620/1620 [00:00<00:00, 3508.97it/s]"
     ]
    },
    {
     "name": "stdout",
     "output_type": "stream",
     "text": [
      "Number of examples in test: 1619\n",
      "1619 earthquake traces\n",
      "0 noise traces\n",
      "Probability threshold: 0.2200\n"
     ]
    },
    {
     "name": "stderr",
     "output_type": "stream",
     "text": [
      "\n"
     ]
    },
    {
     "name": "stdout",
     "output_type": "stream",
     "text": [
      "/home/zhongyiyuan/volpick/model_training/Test_cascade_alternative/cascade_lp_pred/task0/vol_eqt exists\n",
      "Starting set: test\n"
     ]
    },
    {
     "name": "stderr",
     "output_type": "stream",
     "text": [
      "Preloading waveforms: 100%|██████████| 810/810 [00:00<00:00, 5318.11it/s]"
     ]
    },
    {
     "name": "stdout",
     "output_type": "stream",
     "text": [
      "Number of examples in test: 809\n",
      "809 earthquake traces\n",
      "0 noise traces\n",
      "Probability threshold: 0.2200\n"
     ]
    },
    {
     "name": "stderr",
     "output_type": "stream",
     "text": [
      "\n"
     ]
    },
    {
     "name": "stdout",
     "output_type": "stream",
     "text": [
      "/home/zhongyiyuan/volpick/model_training/Test_cascade_alternative/cascade_vt_pred/task0/vol_eqt exists\n",
      "Starting set: test\n"
     ]
    },
    {
     "name": "stderr",
     "output_type": "stream",
     "text": [
      "Preloading waveforms: 100%|██████████| 810/810 [00:00<00:00, 5014.19it/s]"
     ]
    },
    {
     "name": "stdout",
     "output_type": "stream",
     "text": [
      "Number of examples in test: 810\n",
      "810 earthquake traces\n",
      "0 noise traces\n",
      "Probability threshold: 0.2200\n"
     ]
    },
    {
     "name": "stderr",
     "output_type": "stream",
     "text": [
      "\n"
     ]
    }
   ],
   "source": [
    "tp_thre = 0.5\n",
    "target_path_list = [\n",
    "    targets_path_lp_and_rg_cascade,\n",
    "    targets_path_lp_cascade,\n",
    "    targets_path_rg_cascade,\n",
    "]\n",
    "dataset_list = [dataset_cascade, dataset_cascade_lp, dataset_cascade_vt]\n",
    "\n",
    "model = vol_eqt\n",
    "for target_i, dataset_i in zip(target_path_list, dataset_list):\n",
    "    eval_task0(\n",
    "        dev_test_set=dataset_i,\n",
    "        model=model,\n",
    "        exp_name=f\"vol_eqt\",\n",
    "        targets_path=target_i,\n",
    "        root_save_dir=\"/home/zhongyiyuan/volpick/model_training/Test_cascade_alternative\",\n",
    "        prob_thres=np.array([0.22]),\n",
    "        num_workers=16,\n",
    "        batchsize=1024,\n",
    "        num_test_run=-1,\n",
    "        output_remark=\"pred\",\n",
    "        tp_thre=tp_thre,\n",
    "        sets=[\"test\"],\n",
    "        # sets=[\"train\", \"dev\",\"test\"],\n",
    "        # append_to_file=True,\n",
    "        data_norm_type=model.norm,\n",
    "        count_tp_method=1,\n",
    "    )"
   ]
  },
  {
   "cell_type": "code",
   "execution_count": 11,
   "metadata": {},
   "outputs": [
    {
     "name": "stdout",
     "output_type": "stream",
     "text": [
      "/home/zhongyiyuan/volpick/model_training/Test_cascade_alternative/cascade_pred/task0/vol_pn exists\n",
      "Starting set: test\n"
     ]
    },
    {
     "name": "stderr",
     "output_type": "stream",
     "text": [
      "Preloading waveforms: 100%|██████████| 1620/1620 [00:00<00:00, 5190.46it/s]"
     ]
    },
    {
     "name": "stdout",
     "output_type": "stream",
     "text": [
      "Number of examples in test: 1619\n",
      "1619 earthquake traces\n",
      "0 noise traces\n",
      "Probability threshold: 0.3900\n"
     ]
    },
    {
     "name": "stderr",
     "output_type": "stream",
     "text": [
      "\n"
     ]
    },
    {
     "name": "stdout",
     "output_type": "stream",
     "text": [
      "Probability threshold: 0.3400\n",
      "/home/zhongyiyuan/volpick/model_training/Test_cascade_alternative/cascade_lp_pred/task0/vol_pn exists\n",
      "Starting set: test\n"
     ]
    },
    {
     "name": "stderr",
     "output_type": "stream",
     "text": [
      "Preloading waveforms: 100%|██████████| 810/810 [00:00<00:00, 5331.35it/s]"
     ]
    },
    {
     "name": "stdout",
     "output_type": "stream",
     "text": [
      "Number of examples in test: 809\n",
      "809 earthquake traces\n",
      "0 noise traces\n",
      "Probability threshold: 0.3900\n"
     ]
    },
    {
     "name": "stderr",
     "output_type": "stream",
     "text": [
      "\n"
     ]
    },
    {
     "name": "stdout",
     "output_type": "stream",
     "text": [
      "Probability threshold: 0.3400\n",
      "/home/zhongyiyuan/volpick/model_training/Test_cascade_alternative/cascade_vt_pred/task0/vol_pn exists\n",
      "Starting set: test\n"
     ]
    },
    {
     "name": "stderr",
     "output_type": "stream",
     "text": [
      "Preloading waveforms: 100%|██████████| 810/810 [00:00<00:00, 3364.04it/s]"
     ]
    },
    {
     "name": "stdout",
     "output_type": "stream",
     "text": [
      "Number of examples in test: 810\n",
      "810 earthquake traces\n",
      "0 noise traces\n",
      "Probability threshold: 0.3900\n"
     ]
    },
    {
     "name": "stderr",
     "output_type": "stream",
     "text": [
      "\n"
     ]
    },
    {
     "name": "stdout",
     "output_type": "stream",
     "text": [
      "Probability threshold: 0.3400\n"
     ]
    }
   ],
   "source": [
    "tp_thre = 0.5\n",
    "target_path_list = [\n",
    "    targets_path_lp_and_rg_cascade,\n",
    "    targets_path_lp_cascade,\n",
    "    targets_path_rg_cascade,\n",
    "]\n",
    "dataset_list = [dataset_cascade, dataset_cascade_lp, dataset_cascade_vt]\n",
    "\n",
    "model = vol_pn\n",
    "for target_i, dataset_i in zip(target_path_list, dataset_list):\n",
    "    eval_task0(\n",
    "        dev_test_set=dataset_i,\n",
    "        model=model,\n",
    "        exp_name=f\"vol_pn\",\n",
    "        targets_path=target_i,\n",
    "        root_save_dir=\"/home/zhongyiyuan/volpick/model_training/Test_cascade_alternative\",\n",
    "        prob_thres=np.array([0.39, 0.34]),\n",
    "        num_workers=16,\n",
    "        batchsize=1024,\n",
    "        num_test_run=-1,\n",
    "        output_remark=\"pred\",\n",
    "        tp_thre=tp_thre,\n",
    "        sets=[\"test\"],\n",
    "        # sets=[\"train\", \"dev\",\"test\"],\n",
    "        # append_to_file=True,\n",
    "        data_norm_type=model.norm,\n",
    "        count_tp_method=1,\n",
    "    )"
   ]
  },
  {
   "cell_type": "markdown",
   "metadata": {},
   "source": [
    "Test the original model"
   ]
  },
  {
   "cell_type": "code",
   "execution_count": 12,
   "metadata": {},
   "outputs": [
    {
     "data": {
      "text/html": [
       "<div>\n",
       "<style scoped>\n",
       "    .dataframe tbody tr th:only-of-type {\n",
       "        vertical-align: middle;\n",
       "    }\n",
       "\n",
       "    .dataframe tbody tr th {\n",
       "        vertical-align: top;\n",
       "    }\n",
       "\n",
       "    .dataframe thead th {\n",
       "        text-align: right;\n",
       "    }\n",
       "</style>\n",
       "<table border=\"1\" class=\"dataframe\">\n",
       "  <thead>\n",
       "    <tr style=\"text-align: right;\">\n",
       "      <th></th>\n",
       "      <th>exp_name</th>\n",
       "      <th>model</th>\n",
       "      <th>p_opt_prob_thre</th>\n",
       "      <th>s_opt_prob_thre</th>\n",
       "    </tr>\n",
       "  </thead>\n",
       "  <tbody>\n",
       "    <tr>\n",
       "      <th>0</th>\n",
       "      <td>PhaseNet_org_instance</td>\n",
       "      <td>PhaseNet</td>\n",
       "      <td>0.13</td>\n",
       "      <td>0.050</td>\n",
       "    </tr>\n",
       "    <tr>\n",
       "      <th>1</th>\n",
       "      <td>PhaseNet_org_incorrect_component_order</td>\n",
       "      <td>PhaseNet</td>\n",
       "      <td>0.28</td>\n",
       "      <td>0.170</td>\n",
       "    </tr>\n",
       "    <tr>\n",
       "      <th>2</th>\n",
       "      <td>EQTransformer_org</td>\n",
       "      <td>EQTransformer</td>\n",
       "      <td>0.01</td>\n",
       "      <td>0.001</td>\n",
       "    </tr>\n",
       "    <tr>\n",
       "      <th>3</th>\n",
       "      <td>EQTransformer_org_instance</td>\n",
       "      <td>EQTransformer</td>\n",
       "      <td>0.04</td>\n",
       "      <td>0.040</td>\n",
       "    </tr>\n",
       "    <tr>\n",
       "      <th>4</th>\n",
       "      <td>PhaseNet_org</td>\n",
       "      <td>PhaseNet</td>\n",
       "      <td>0.25</td>\n",
       "      <td>0.190</td>\n",
       "    </tr>\n",
       "    <tr>\n",
       "      <th>5</th>\n",
       "      <td>EQTransformer_org_nonconservative</td>\n",
       "      <td>EQTransformer</td>\n",
       "      <td>0.26</td>\n",
       "      <td>0.150</td>\n",
       "    </tr>\n",
       "    <tr>\n",
       "      <th>6</th>\n",
       "      <td>PhaseNet_org_stead</td>\n",
       "      <td>PhaseNet</td>\n",
       "      <td>0.01</td>\n",
       "      <td>0.040</td>\n",
       "    </tr>\n",
       "    <tr>\n",
       "      <th>7</th>\n",
       "      <td>EQTransformer_org_stead</td>\n",
       "      <td>EQTransformer</td>\n",
       "      <td>0.02</td>\n",
       "      <td>0.010</td>\n",
       "    </tr>\n",
       "  </tbody>\n",
       "</table>\n",
       "</div>"
      ],
      "text/plain": [
       "                                 exp_name          model  p_opt_prob_thre   \n",
       "0                   PhaseNet_org_instance       PhaseNet             0.13  \\\n",
       "1  PhaseNet_org_incorrect_component_order       PhaseNet             0.28   \n",
       "2                       EQTransformer_org  EQTransformer             0.01   \n",
       "3              EQTransformer_org_instance  EQTransformer             0.04   \n",
       "4                            PhaseNet_org       PhaseNet             0.25   \n",
       "5       EQTransformer_org_nonconservative  EQTransformer             0.26   \n",
       "6                      PhaseNet_org_stead       PhaseNet             0.01   \n",
       "7                 EQTransformer_org_stead  EQTransformer             0.02   \n",
       "\n",
       "   s_opt_prob_thre  \n",
       "0            0.050  \n",
       "1            0.170  \n",
       "2            0.001  \n",
       "3            0.040  \n",
       "4            0.190  \n",
       "5            0.150  \n",
       "6            0.040  \n",
       "7            0.010  "
      ]
     },
     "execution_count": 12,
     "metadata": {},
     "output_type": "execute_result"
    }
   ],
   "source": [
    "opt_thresholds_for_original_models_df = pd.read_csv(\n",
    "    \"/home/zhongyiyuan/volpick/model_training/Original_model_opt_thresholds/all_pred/task0/optimal_threshold.csv\"\n",
    ")\n",
    "opt_thresholds_for_original_models_df = opt_thresholds_for_original_models_df[\n",
    "    [\"exp_name\", \"model\", \"p_opt_prob_thre\", \"s_opt_prob_thre\"]\n",
    "]\n",
    "opt_thresholds_for_original_models_df"
   ]
  },
  {
   "cell_type": "code",
   "execution_count": 13,
   "metadata": {},
   "outputs": [
    {
     "name": "stdout",
     "output_type": "stream",
     "text": [
      "/home/zhongyiyuan/volpick/model_training/Test_cascade_alternative/cascade_pred/task0/org_eqt exists\n",
      "Starting set: test\n"
     ]
    },
    {
     "name": "stderr",
     "output_type": "stream",
     "text": [
      "Preloading waveforms: 100%|██████████| 1620/1620 [00:00<00:00, 5280.70it/s]"
     ]
    },
    {
     "name": "stdout",
     "output_type": "stream",
     "text": [
      "Number of examples in test: 1619\n",
      "1619 earthquake traces\n",
      "0 noise traces\n",
      "Probability threshold: 0.0010\n"
     ]
    },
    {
     "name": "stderr",
     "output_type": "stream",
     "text": [
      "\n"
     ]
    },
    {
     "name": "stdout",
     "output_type": "stream",
     "text": [
      "Probability threshold: 0.0100\n",
      "/home/zhongyiyuan/volpick/model_training/Test_cascade_alternative/cascade_lp_pred/task0/org_eqt exists\n",
      "Starting set: test\n"
     ]
    },
    {
     "name": "stderr",
     "output_type": "stream",
     "text": [
      "Preloading waveforms: 100%|██████████| 810/810 [00:00<00:00, 3744.66it/s]"
     ]
    },
    {
     "name": "stdout",
     "output_type": "stream",
     "text": [
      "Number of examples in test: 809\n",
      "809 earthquake traces\n",
      "0 noise traces\n",
      "Probability threshold: 0.0010\n"
     ]
    },
    {
     "name": "stderr",
     "output_type": "stream",
     "text": [
      "\n"
     ]
    },
    {
     "name": "stdout",
     "output_type": "stream",
     "text": [
      "Probability threshold: 0.0100\n",
      "/home/zhongyiyuan/volpick/model_training/Test_cascade_alternative/cascade_vt_pred/task0/org_eqt exists\n",
      "Starting set: test\n"
     ]
    },
    {
     "name": "stderr",
     "output_type": "stream",
     "text": [
      "Preloading waveforms: 100%|██████████| 810/810 [00:00<00:00, 3334.91it/s]"
     ]
    },
    {
     "name": "stdout",
     "output_type": "stream",
     "text": [
      "Number of examples in test: 810\n",
      "810 earthquake traces\n",
      "0 noise traces\n",
      "Probability threshold: 0.0010\n"
     ]
    },
    {
     "name": "stderr",
     "output_type": "stream",
     "text": [
      "\n"
     ]
    },
    {
     "name": "stdout",
     "output_type": "stream",
     "text": [
      "Probability threshold: 0.0100\n"
     ]
    }
   ],
   "source": [
    "tp_thre = 0.5\n",
    "target_path_list = [\n",
    "    targets_path_lp_and_rg_cascade,\n",
    "    targets_path_lp_cascade,\n",
    "    targets_path_rg_cascade,\n",
    "]\n",
    "dataset_list = [dataset_cascade, dataset_cascade_lp, dataset_cascade_vt]\n",
    "\n",
    "model = org_eqt\n",
    "for target_i, dataset_i in zip(target_path_list, dataset_list):\n",
    "    eval_task0(\n",
    "        dev_test_set=dataset_i,\n",
    "        model=model,\n",
    "        exp_name=f\"org_eqt\",\n",
    "        targets_path=target_i,\n",
    "        root_save_dir=\"/home/zhongyiyuan/volpick/model_training/Test_cascade_alternative\",\n",
    "        prob_thres=np.array([0.001, 0.01]),\n",
    "        num_workers=16,\n",
    "        batchsize=1024,\n",
    "        num_test_run=-1,\n",
    "        output_remark=\"pred\",\n",
    "        tp_thre=tp_thre,\n",
    "        sets=[\"test\"],\n",
    "        # sets=[\"train\", \"dev\",\"test\"],\n",
    "        # append_to_file=True,\n",
    "        data_norm_type=model.norm,\n",
    "        count_tp_method=1,\n",
    "    )"
   ]
  },
  {
   "cell_type": "code",
   "execution_count": 14,
   "metadata": {},
   "outputs": [
    {
     "name": "stdout",
     "output_type": "stream",
     "text": [
      "/home/zhongyiyuan/volpick/model_training/Test_cascade_alternative/cascade_pred/task0/org_eqt_nonconservative exists\n",
      "Starting set: test\n"
     ]
    },
    {
     "name": "stderr",
     "output_type": "stream",
     "text": [
      "Preloading waveforms: 100%|██████████| 1620/1620 [00:00<00:00, 3915.40it/s]"
     ]
    },
    {
     "name": "stdout",
     "output_type": "stream",
     "text": [
      "Number of examples in test: 1619\n",
      "1619 earthquake traces\n",
      "0 noise traces\n",
      "Probability threshold: 0.2600\n"
     ]
    },
    {
     "name": "stderr",
     "output_type": "stream",
     "text": [
      "\n"
     ]
    },
    {
     "name": "stdout",
     "output_type": "stream",
     "text": [
      "Probability threshold: 0.1500\n",
      "/home/zhongyiyuan/volpick/model_training/Test_cascade_alternative/cascade_lp_pred/task0/org_eqt_nonconservative exists\n",
      "Starting set: test\n"
     ]
    },
    {
     "name": "stderr",
     "output_type": "stream",
     "text": [
      "Preloading waveforms: 100%|██████████| 810/810 [00:00<00:00, 5089.62it/s]"
     ]
    },
    {
     "name": "stdout",
     "output_type": "stream",
     "text": [
      "Number of examples in test: 809\n",
      "809 earthquake traces\n",
      "0 noise traces\n",
      "Probability threshold: 0.2600\n"
     ]
    },
    {
     "name": "stderr",
     "output_type": "stream",
     "text": [
      "\n"
     ]
    },
    {
     "name": "stdout",
     "output_type": "stream",
     "text": [
      "Probability threshold: 0.1500\n",
      "/home/zhongyiyuan/volpick/model_training/Test_cascade_alternative/cascade_vt_pred/task0/org_eqt_nonconservative exists\n",
      "Starting set: test\n"
     ]
    },
    {
     "name": "stderr",
     "output_type": "stream",
     "text": [
      "Preloading waveforms: 100%|██████████| 810/810 [00:00<00:00, 5143.67it/s]"
     ]
    },
    {
     "name": "stdout",
     "output_type": "stream",
     "text": [
      "Number of examples in test: 810\n",
      "810 earthquake traces\n",
      "0 noise traces\n",
      "Probability threshold: 0.2600\n"
     ]
    },
    {
     "name": "stderr",
     "output_type": "stream",
     "text": [
      "\n"
     ]
    },
    {
     "name": "stdout",
     "output_type": "stream",
     "text": [
      "Probability threshold: 0.1500\n"
     ]
    }
   ],
   "source": [
    "tp_thre = 0.5\n",
    "target_path_list = [\n",
    "    targets_path_lp_and_rg_cascade,\n",
    "    targets_path_lp_cascade,\n",
    "    targets_path_rg_cascade,\n",
    "]\n",
    "dataset_list = [dataset_cascade, dataset_cascade_lp, dataset_cascade_vt]\n",
    "\n",
    "model = org_eqt2\n",
    "for target_i, dataset_i in zip(target_path_list, dataset_list):\n",
    "    eval_task0(\n",
    "        dev_test_set=dataset_i,\n",
    "        model=model,\n",
    "        exp_name=f\"org_eqt_nonconservative\",\n",
    "        targets_path=target_i,\n",
    "        root_save_dir=\"/home/zhongyiyuan/volpick/model_training/Test_cascade_alternative\",\n",
    "        prob_thres=np.array([0.26, 0.15]),\n",
    "        num_workers=16,\n",
    "        batchsize=1024,\n",
    "        num_test_run=-1,\n",
    "        output_remark=\"pred\",\n",
    "        tp_thre=tp_thre,\n",
    "        sets=[\"test\"],\n",
    "        # sets=[\"train\", \"dev\",\"test\"],\n",
    "        # append_to_file=True,\n",
    "        data_norm_type=model.norm,\n",
    "        count_tp_method=1,\n",
    "    )"
   ]
  },
  {
   "cell_type": "code",
   "execution_count": 15,
   "metadata": {},
   "outputs": [
    {
     "name": "stdout",
     "output_type": "stream",
     "text": [
      "/home/zhongyiyuan/volpick/model_training/Test_cascade_alternative/cascade_pred/task0/org_pn exists\n",
      "Starting set: test\n"
     ]
    },
    {
     "name": "stderr",
     "output_type": "stream",
     "text": [
      "Preloading waveforms: 100%|██████████| 1620/1620 [00:00<00:00, 3641.22it/s]"
     ]
    },
    {
     "name": "stdout",
     "output_type": "stream",
     "text": [
      "Number of examples in test: 1619\n",
      "1619 earthquake traces\n",
      "0 noise traces\n",
      "Probability threshold: 0.2500\n"
     ]
    },
    {
     "name": "stderr",
     "output_type": "stream",
     "text": [
      "\n"
     ]
    },
    {
     "name": "stdout",
     "output_type": "stream",
     "text": [
      "Probability threshold: 0.1900\n",
      "/home/zhongyiyuan/volpick/model_training/Test_cascade_alternative/cascade_lp_pred/task0/org_pn exists\n",
      "Starting set: test\n"
     ]
    },
    {
     "name": "stderr",
     "output_type": "stream",
     "text": [
      "Preloading waveforms: 100%|██████████| 810/810 [00:00<00:00, 4950.44it/s]"
     ]
    },
    {
     "name": "stdout",
     "output_type": "stream",
     "text": [
      "Number of examples in test: 809\n",
      "809 earthquake traces\n",
      "0 noise traces\n",
      "Probability threshold: 0.2500\n"
     ]
    },
    {
     "name": "stderr",
     "output_type": "stream",
     "text": [
      "\n"
     ]
    },
    {
     "name": "stdout",
     "output_type": "stream",
     "text": [
      "Probability threshold: 0.1900\n",
      "/home/zhongyiyuan/volpick/model_training/Test_cascade_alternative/cascade_vt_pred/task0/org_pn exists\n",
      "Starting set: test\n"
     ]
    },
    {
     "name": "stderr",
     "output_type": "stream",
     "text": [
      "Preloading waveforms: 100%|██████████| 810/810 [00:00<00:00, 4933.83it/s]"
     ]
    },
    {
     "name": "stdout",
     "output_type": "stream",
     "text": [
      "Number of examples in test: 810\n",
      "810 earthquake traces\n",
      "0 noise traces\n",
      "Probability threshold: 0.2500\n"
     ]
    },
    {
     "name": "stderr",
     "output_type": "stream",
     "text": [
      "\n"
     ]
    },
    {
     "name": "stdout",
     "output_type": "stream",
     "text": [
      "Probability threshold: 0.1900\n"
     ]
    }
   ],
   "source": [
    "tp_thre = 0.5\n",
    "target_path_list = [\n",
    "    targets_path_lp_and_rg_cascade,\n",
    "    targets_path_lp_cascade,\n",
    "    targets_path_rg_cascade,\n",
    "]\n",
    "dataset_list = [dataset_cascade, dataset_cascade_lp, dataset_cascade_vt]\n",
    "dataset_list = [dataset_cascade_ENZ, dataset_cascade_ENZ_lp, dataset_cascade_ENZ_vt]\n",
    "\n",
    "model = org_pn\n",
    "for target_i, dataset_i in zip(target_path_list, dataset_list):\n",
    "    eval_task0(\n",
    "        dev_test_set=dataset_i,\n",
    "        model=model,\n",
    "        exp_name=f\"org_pn\",\n",
    "        targets_path=target_i,\n",
    "        root_save_dir=\"/home/zhongyiyuan/volpick/model_training/Test_cascade_alternative\",\n",
    "        prob_thres=np.array([0.25, 0.19]),\n",
    "        num_workers=16,\n",
    "        batchsize=1024,\n",
    "        num_test_run=-1,\n",
    "        output_remark=\"pred\",\n",
    "        tp_thre=tp_thre,\n",
    "        sets=[\"test\"],\n",
    "        # sets=[\"train\", \"dev\",\"test\"],\n",
    "        # append_to_file=True,\n",
    "        data_norm_type=model.norm,\n",
    "        count_tp_method=1,\n",
    "    )"
   ]
  },
  {
   "cell_type": "markdown",
   "metadata": {},
   "source": [
    "Test the model trained on INSTANCE dataset"
   ]
  },
  {
   "cell_type": "code",
   "execution_count": 16,
   "metadata": {},
   "outputs": [
    {
     "name": "stdout",
     "output_type": "stream",
     "text": [
      "/home/zhongyiyuan/volpick/model_training/Test_cascade_alternative/cascade_pred/task0/int_eqt exists\n",
      "Starting set: test\n"
     ]
    },
    {
     "name": "stderr",
     "output_type": "stream",
     "text": [
      "Preloading waveforms: 100%|██████████| 1620/1620 [00:00<00:00, 4766.00it/s]"
     ]
    },
    {
     "name": "stdout",
     "output_type": "stream",
     "text": [
      "Number of examples in test: 1619\n",
      "1619 earthquake traces\n",
      "0 noise traces\n",
      "Probability threshold: 0.0400\n"
     ]
    },
    {
     "name": "stderr",
     "output_type": "stream",
     "text": [
      "\n"
     ]
    },
    {
     "name": "stdout",
     "output_type": "stream",
     "text": [
      "/home/zhongyiyuan/volpick/model_training/Test_cascade_alternative/cascade_lp_pred/task0/int_eqt exists\n",
      "Starting set: test\n"
     ]
    },
    {
     "name": "stderr",
     "output_type": "stream",
     "text": [
      "Preloading waveforms: 100%|██████████| 810/810 [00:00<00:00, 5565.66it/s]"
     ]
    },
    {
     "name": "stdout",
     "output_type": "stream",
     "text": [
      "Number of examples in test: 809\n",
      "809 earthquake traces\n",
      "0 noise traces\n",
      "Probability threshold: 0.0400\n"
     ]
    },
    {
     "name": "stderr",
     "output_type": "stream",
     "text": [
      "\n"
     ]
    },
    {
     "name": "stdout",
     "output_type": "stream",
     "text": [
      "/home/zhongyiyuan/volpick/model_training/Test_cascade_alternative/cascade_vt_pred/task0/int_eqt exists\n",
      "Starting set: test\n"
     ]
    },
    {
     "name": "stderr",
     "output_type": "stream",
     "text": [
      "Preloading waveforms: 100%|██████████| 810/810 [00:00<00:00, 5210.36it/s]"
     ]
    },
    {
     "name": "stdout",
     "output_type": "stream",
     "text": [
      "Number of examples in test: 810\n",
      "810 earthquake traces\n",
      "0 noise traces\n",
      "Probability threshold: 0.0400\n"
     ]
    },
    {
     "name": "stderr",
     "output_type": "stream",
     "text": [
      "\n"
     ]
    }
   ],
   "source": [
    "tp_thre = 0.5\n",
    "target_path_list = [\n",
    "    targets_path_lp_and_rg_cascade,\n",
    "    targets_path_lp_cascade,\n",
    "    targets_path_rg_cascade,\n",
    "]\n",
    "dataset_list = [dataset_cascade, dataset_cascade_lp, dataset_cascade_vt]\n",
    "\n",
    "model = eqt_instance\n",
    "for target_i, dataset_i in zip(target_path_list, dataset_list):\n",
    "    eval_task0(\n",
    "        dev_test_set=dataset_i,\n",
    "        model=model,\n",
    "        exp_name=f\"int_eqt\",\n",
    "        targets_path=target_i,\n",
    "        root_save_dir=\"/home/zhongyiyuan/volpick/model_training/Test_cascade_alternative\",\n",
    "        prob_thres=np.array([0.04]),\n",
    "        num_workers=16,\n",
    "        batchsize=1024,\n",
    "        num_test_run=-1,\n",
    "        output_remark=\"pred\",\n",
    "        tp_thre=tp_thre,\n",
    "        sets=[\"test\"],\n",
    "        # sets=[\"train\", \"dev\",\"test\"],\n",
    "        # append_to_file=True,\n",
    "        data_norm_type=model.norm,\n",
    "        count_tp_method=1,\n",
    "    )"
   ]
  },
  {
   "cell_type": "code",
   "execution_count": 17,
   "metadata": {},
   "outputs": [
    {
     "name": "stdout",
     "output_type": "stream",
     "text": [
      "/home/zhongyiyuan/volpick/model_training/Test_cascade_alternative/cascade_pred/task0/int_pn exists\n",
      "Starting set: test\n"
     ]
    },
    {
     "name": "stderr",
     "output_type": "stream",
     "text": [
      "Preloading waveforms: 100%|██████████| 1620/1620 [00:00<00:00, 5190.65it/s]"
     ]
    },
    {
     "name": "stdout",
     "output_type": "stream",
     "text": [
      "Number of examples in test: 1619\n",
      "1619 earthquake traces\n",
      "0 noise traces\n",
      "Probability threshold: 0.1300\n"
     ]
    },
    {
     "name": "stderr",
     "output_type": "stream",
     "text": [
      "\n"
     ]
    },
    {
     "name": "stdout",
     "output_type": "stream",
     "text": [
      "Probability threshold: 0.0500\n",
      "/home/zhongyiyuan/volpick/model_training/Test_cascade_alternative/cascade_lp_pred/task0/int_pn exists\n",
      "Starting set: test\n"
     ]
    },
    {
     "name": "stderr",
     "output_type": "stream",
     "text": [
      "Preloading waveforms: 100%|██████████| 810/810 [00:00<00:00, 3892.34it/s]"
     ]
    },
    {
     "name": "stdout",
     "output_type": "stream",
     "text": [
      "Number of examples in test: 809\n",
      "809 earthquake traces\n",
      "0 noise traces\n",
      "Probability threshold: 0.1300\n"
     ]
    },
    {
     "name": "stderr",
     "output_type": "stream",
     "text": [
      "\n"
     ]
    },
    {
     "name": "stdout",
     "output_type": "stream",
     "text": [
      "Probability threshold: 0.0500\n",
      "/home/zhongyiyuan/volpick/model_training/Test_cascade_alternative/cascade_vt_pred/task0/int_pn exists\n",
      "Starting set: test\n"
     ]
    },
    {
     "name": "stderr",
     "output_type": "stream",
     "text": [
      "Preloading waveforms: 100%|██████████| 810/810 [00:00<00:00, 4924.05it/s]"
     ]
    },
    {
     "name": "stdout",
     "output_type": "stream",
     "text": [
      "Number of examples in test: 810\n",
      "810 earthquake traces\n",
      "0 noise traces\n",
      "Probability threshold: 0.1300\n"
     ]
    },
    {
     "name": "stderr",
     "output_type": "stream",
     "text": [
      "\n"
     ]
    },
    {
     "name": "stdout",
     "output_type": "stream",
     "text": [
      "Probability threshold: 0.0500\n"
     ]
    }
   ],
   "source": [
    "tp_thre = 0.5\n",
    "target_path_list = [\n",
    "    targets_path_lp_and_rg_cascade,\n",
    "    targets_path_lp_cascade,\n",
    "    targets_path_rg_cascade,\n",
    "]\n",
    "dataset_list = [dataset_cascade, dataset_cascade_lp, dataset_cascade_vt]\n",
    "\n",
    "model = pn_instance\n",
    "for target_i, dataset_i in zip(target_path_list, dataset_list):\n",
    "    eval_task0(\n",
    "        dev_test_set=dataset_i,\n",
    "        model=model,\n",
    "        exp_name=f\"int_pn\",\n",
    "        targets_path=target_i,\n",
    "        root_save_dir=\"/home/zhongyiyuan/volpick/model_training/Test_cascade_alternative\",\n",
    "        prob_thres=np.array([0.13, 0.05]),\n",
    "        num_workers=16,\n",
    "        batchsize=1024,\n",
    "        num_test_run=-1,\n",
    "        output_remark=\"pred\",\n",
    "        tp_thre=tp_thre,\n",
    "        sets=[\"test\"],\n",
    "        # sets=[\"train\", \"dev\",\"test\"],\n",
    "        # append_to_file=True,\n",
    "        data_norm_type=model.norm,\n",
    "        count_tp_method=1,\n",
    "    )"
   ]
  },
  {
   "cell_type": "markdown",
   "metadata": {},
   "source": [
    "Plot"
   ]
  },
  {
   "cell_type": "code",
   "execution_count": 86,
   "metadata": {},
   "outputs": [],
   "source": [
    "pred_dirs = [\"org_pn\", \"org_eqt\", \"int_pn\", \"int_eqt\", \"vol_pn\", \"vol_eqt\"]\n",
    "data_types_plotted = [\"japan_tec_lp_pred\"]"
   ]
  },
  {
   "cell_type": "code",
   "execution_count": 87,
   "metadata": {},
   "outputs": [],
   "source": [
    "pred_dirs = [\"org_pn\", \"org_eqt\", \"int_pn\", \"int_eqt\", \"vol_pn\", \"vol_eqt\"]\n",
    "data_types_plotted = [\"japan_tec_lp_pred\"]\n",
    "precision_dict = [{x: [] for x in pred_dirs} for _ in range(len(data_types_plotted))]\n",
    "recall_dict = [{x: [] for x in pred_dirs} for _ in range(len(data_types_plotted))]\n",
    "f1score_dict = [{x: [] for x in pred_dirs} for _ in range(len(data_types_plotted))]\n",
    "\n",
    "pred_dir_path = Path(\n",
    "    \"/home/zhongyiyuan/volpick/model_training/Test_japan_tec_lp_alternative/\"\n",
    ")\n",
    "\n",
    "for model_name in pred_dirs:\n",
    "    for j, data_type in enumerate(data_types_plotted):\n",
    "        pred_df = pd.read_csv(\n",
    "            pred_dir_path / data_type / \"task0\" / model_name / \"test_metrics.csv\"\n",
    "        )\n",
    "        p_row = pred_df[np.isclose(pred_df[\"prob_thre\"], p_thre_dict[model_name])].iloc[\n",
    "            0\n",
    "        ]\n",
    "        s_row = pred_df[np.isclose(pred_df[\"prob_thre\"], s_thre_dict[model_name])].iloc[\n",
    "            0\n",
    "        ]\n",
    "        assert (\n",
    "            np.abs(p_row[\"prob_thre\"] - p_thre_dict[model_name]) < 1e-6\n",
    "        ), f\"{p_row['prob_thre']}, {p_thre_dict[model_name]}\"\n",
    "        assert np.abs(s_row[\"prob_thre\"] - s_thre_dict[model_name]) < 1e-6\n",
    "\n",
    "        precision_dict[j][model_name] = [p_row[\"p_precision\"], s_row[\"s_precision\"]]\n",
    "        recall_dict[j][model_name] = [p_row[\"p_recall\"], s_row[\"s_recall\"]]\n",
    "        f1score_dict[j][model_name] = [p_row[\"p_F1score\"], s_row[\"s_F1score\"]]\n",
    "\n",
    "metrics = {\"Recall\": recall_dict, \"Precision\": precision_dict, \"F1 score\": f1score_dict}"
   ]
  },
  {
   "cell_type": "markdown",
   "metadata": {},
   "source": [
    "# Cross-domain test: Cascade + northern califronia"
   ]
  },
  {
   "cell_type": "code",
   "execution_count": 16,
   "metadata": {},
   "outputs": [
    {
     "name": "stdout",
     "output_type": "stream",
     "text": [
      "11302\n"
     ]
    }
   ],
   "source": [
    "data_path_westernus = Path(\"/home/zhongyiyuan/DATA/my_datasets_seisbench/westernus\")\n",
    "\n",
    "dataset_westernus = sbd.WaveformDataset(\n",
    "    data_path_westernus,\n",
    "    sampling_rate=100,\n",
    "    component_order=\"ZNE\",\n",
    "    dimension_order=\"NCW\",\n",
    "    cache=\"full\",\n",
    ")\n",
    "print(len(dataset_westernus))\n",
    "# dataset_westernus._metadata[\"split\"] = \"test\""
   ]
  },
  {
   "cell_type": "code",
   "execution_count": 17,
   "metadata": {},
   "outputs": [],
   "source": [
    "dataset_westernus_lp = dataset_westernus.filter(\n",
    "    (dataset_westernus.metadata[\"source_type\"] == \"lp\")\n",
    "    | (dataset_westernus.metadata[\"source_type\"] == \"noise\"),\n",
    "    inplace=False,\n",
    ")\n",
    "dataset_westernus_vt = dataset_westernus.filter(\n",
    "    (dataset_westernus.metadata[\"source_type\"] != \"lp\")\n",
    "    | (dataset_westernus.metadata[\"source_type\"] == \"noise\"),\n",
    "    inplace=False,\n",
    ")"
   ]
  },
  {
   "cell_type": "code",
   "execution_count": 18,
   "metadata": {},
   "outputs": [
    {
     "name": "stdout",
     "output_type": "stream",
     "text": [
      "11302\n"
     ]
    }
   ],
   "source": [
    "data_path_westernus = Path(\"/home/zhongyiyuan/DATA/my_datasets_seisbench/westernus\")\n",
    "\n",
    "dataset_westernus_ENZ = sbd.WaveformDataset(\n",
    "    data_path_westernus,\n",
    "    sampling_rate=100,\n",
    "    component_order=\"ENZ\",\n",
    "    dimension_order=\"NCW\",\n",
    "    cache=\"full\",\n",
    ")\n",
    "print(len(dataset_westernus_ENZ))\n",
    "dataset_westernus_ENZ._metadata[\"split\"] = \"test\"\n",
    "dataset_westernus_ENZ_lp = dataset_westernus_ENZ.filter(\n",
    "    (dataset_westernus_ENZ.metadata[\"source_type\"] == \"lp\")\n",
    "    | (dataset_westernus_ENZ.metadata[\"source_type\"] == \"noise\"),\n",
    "    inplace=False,\n",
    ")\n",
    "dataset_westernus_ENZ_vt = dataset_westernus_ENZ.filter(\n",
    "    (dataset_westernus_ENZ.metadata[\"source_type\"] != \"lp\")\n",
    "    | (dataset_westernus_ENZ.metadata[\"source_type\"] == \"noise\"),\n",
    "    inplace=False,\n",
    ")"
   ]
  },
  {
   "cell_type": "code",
   "execution_count": 19,
   "metadata": {},
   "outputs": [
    {
     "name": "stdout",
     "output_type": "stream",
     "text": [
      "/home/zhongyiyuan/volpick/model_training/Eval_targets_westernus/westernus exists\n",
      "/home/zhongyiyuan/volpick/model_training/Eval_targets_westernus/westernus_lp exists\n",
      "/home/zhongyiyuan/volpick/model_training/Eval_targets_westernus/westernus_vt exists\n"
     ]
    }
   ],
   "source": [
    "targets_path_lp_and_rg_westernus = Path(\n",
    "    \"/home/zhongyiyuan/volpick/model_training/Eval_targets_westernus/westernus\"\n",
    ")\n",
    "try:\n",
    "    targets_path_lp_and_rg_westernus.mkdir(parents=True, exist_ok=False)\n",
    "except FileExistsError:\n",
    "    print(f\"{targets_path_lp_and_rg_westernus} exists\")\n",
    "\n",
    "targets_path_lp_westernus = Path(\n",
    "    \"/home/zhongyiyuan/volpick/model_training/Eval_targets_westernus/westernus_lp\"\n",
    ")\n",
    "try:\n",
    "    targets_path_lp_westernus.mkdir(parents=True, exist_ok=False)\n",
    "except FileExistsError:\n",
    "    print(f\"{targets_path_lp_westernus} exists\")\n",
    "\n",
    "targets_path_rg_westernus = Path(\n",
    "    \"/home/zhongyiyuan/volpick/model_training/Eval_targets_westernus/westernus_vt\"\n",
    ")\n",
    "try:\n",
    "    targets_path_rg_westernus.mkdir(parents=True, exist_ok=False)\n",
    "except FileExistsError:\n",
    "    print(f\"{targets_path_rg_westernus} exists\")"
   ]
  },
  {
   "cell_type": "markdown",
   "metadata": {},
   "source": [
    "Test the retrained model"
   ]
  },
  {
   "cell_type": "code",
   "execution_count": 20,
   "metadata": {},
   "outputs": [
    {
     "name": "stdout",
     "output_type": "stream",
     "text": [
      "/home/zhongyiyuan/volpick/model_training/Test_westernus_alternative/westernus_pred/task0/vol_eqt exists\n",
      "Starting set: test\n"
     ]
    },
    {
     "name": "stderr",
     "output_type": "stream",
     "text": [
      "Preloading waveforms: 100%|██████████| 11302/11302 [00:03<00:00, 2976.73it/s]"
     ]
    },
    {
     "name": "stdout",
     "output_type": "stream",
     "text": [
      "Number of examples in test: 11301\n",
      "11301 earthquake traces\n",
      "0 noise traces\n",
      "Probability threshold: 0.2200\n"
     ]
    },
    {
     "name": "stderr",
     "output_type": "stream",
     "text": [
      "\n"
     ]
    },
    {
     "name": "stdout",
     "output_type": "stream",
     "text": [
      "/home/zhongyiyuan/volpick/model_training/Test_westernus_alternative/westernus_lp_pred/task0/vol_eqt exists\n",
      "Starting set: test\n"
     ]
    },
    {
     "name": "stderr",
     "output_type": "stream",
     "text": [
      "Preloading waveforms: 100%|██████████| 5651/5651 [00:01<00:00, 5607.13it/s]"
     ]
    },
    {
     "name": "stdout",
     "output_type": "stream",
     "text": [
      "Number of examples in test: 5650\n",
      "5650 earthquake traces\n",
      "0 noise traces\n",
      "Probability threshold: 0.2200\n"
     ]
    },
    {
     "name": "stderr",
     "output_type": "stream",
     "text": [
      "\n"
     ]
    },
    {
     "name": "stdout",
     "output_type": "stream",
     "text": [
      "/home/zhongyiyuan/volpick/model_training/Test_westernus_alternative/westernus_vt_pred/task0/vol_eqt exists\n",
      "Starting set: test\n"
     ]
    },
    {
     "name": "stderr",
     "output_type": "stream",
     "text": [
      "Preloading waveforms: 100%|██████████| 5651/5651 [00:00<00:00, 5976.07it/s]"
     ]
    },
    {
     "name": "stdout",
     "output_type": "stream",
     "text": [
      "Number of examples in test: 5651\n",
      "5651 earthquake traces\n",
      "0 noise traces\n",
      "Probability threshold: 0.2200\n"
     ]
    },
    {
     "name": "stderr",
     "output_type": "stream",
     "text": [
      "\n"
     ]
    }
   ],
   "source": [
    "tp_thre = 0.5\n",
    "target_path_list = [\n",
    "    targets_path_lp_and_rg_westernus,\n",
    "    targets_path_lp_westernus,\n",
    "    targets_path_rg_westernus,\n",
    "]\n",
    "dataset_list = [dataset_westernus, dataset_westernus_lp, dataset_westernus_vt]\n",
    "\n",
    "model = vol_eqt\n",
    "for target_i, dataset_i in zip(target_path_list, dataset_list):\n",
    "    eval_task0(\n",
    "        dev_test_set=dataset_i,\n",
    "        model=model,\n",
    "        exp_name=f\"vol_eqt\",\n",
    "        targets_path=target_i,\n",
    "        root_save_dir=\"/home/zhongyiyuan/volpick/model_training/Test_westernus_alternative\",\n",
    "        prob_thres=np.array([0.22]),\n",
    "        num_workers=16,\n",
    "        batchsize=1024,\n",
    "        num_test_run=-1,\n",
    "        output_remark=\"pred\",\n",
    "        tp_thre=tp_thre,\n",
    "        sets=[\"test\"],\n",
    "        # sets=[\"train\", \"dev\",\"test\"],\n",
    "        # append_to_file=True,\n",
    "        data_norm_type=model.norm,\n",
    "        count_tp_method=1,\n",
    "    )"
   ]
  },
  {
   "cell_type": "code",
   "execution_count": 21,
   "metadata": {},
   "outputs": [
    {
     "name": "stdout",
     "output_type": "stream",
     "text": [
      "/home/zhongyiyuan/volpick/model_training/Test_westernus_alternative/westernus_pred/task0/vol_pn exists\n",
      "Starting set: test\n"
     ]
    },
    {
     "name": "stderr",
     "output_type": "stream",
     "text": [
      "Preloading waveforms: 100%|██████████| 11302/11302 [00:01<00:00, 5671.75it/s]"
     ]
    },
    {
     "name": "stdout",
     "output_type": "stream",
     "text": [
      "Number of examples in test: 11301\n",
      "11301 earthquake traces\n",
      "0 noise traces\n",
      "Probability threshold: 0.3900\n"
     ]
    },
    {
     "name": "stderr",
     "output_type": "stream",
     "text": [
      "\n"
     ]
    },
    {
     "name": "stdout",
     "output_type": "stream",
     "text": [
      "Probability threshold: 0.3400\n",
      "/home/zhongyiyuan/volpick/model_training/Test_westernus_alternative/westernus_lp_pred/task0/vol_pn exists\n",
      "Starting set: test\n"
     ]
    },
    {
     "name": "stderr",
     "output_type": "stream",
     "text": [
      "Preloading waveforms: 100%|██████████| 5651/5651 [00:01<00:00, 5605.99it/s]"
     ]
    },
    {
     "name": "stdout",
     "output_type": "stream",
     "text": [
      "Number of examples in test: 5650\n",
      "5650 earthquake traces\n",
      "0 noise traces\n",
      "Probability threshold: 0.3900\n"
     ]
    },
    {
     "name": "stderr",
     "output_type": "stream",
     "text": [
      "\n"
     ]
    },
    {
     "name": "stdout",
     "output_type": "stream",
     "text": [
      "Probability threshold: 0.3400\n",
      "/home/zhongyiyuan/volpick/model_training/Test_westernus_alternative/westernus_vt_pred/task0/vol_pn exists\n",
      "Starting set: test\n"
     ]
    },
    {
     "name": "stderr",
     "output_type": "stream",
     "text": [
      "Preloading waveforms: 100%|██████████| 5651/5651 [00:00<00:00, 5993.02it/s]"
     ]
    },
    {
     "name": "stdout",
     "output_type": "stream",
     "text": [
      "Number of examples in test: 5651\n",
      "5651 earthquake traces\n",
      "0 noise traces\n",
      "Probability threshold: 0.3900\n"
     ]
    },
    {
     "name": "stderr",
     "output_type": "stream",
     "text": [
      "\n"
     ]
    },
    {
     "name": "stdout",
     "output_type": "stream",
     "text": [
      "Probability threshold: 0.3400\n"
     ]
    }
   ],
   "source": [
    "tp_thre = 0.5\n",
    "target_path_list = [\n",
    "    targets_path_lp_and_rg_westernus,\n",
    "    targets_path_lp_westernus,\n",
    "    targets_path_rg_westernus,\n",
    "]\n",
    "dataset_list = [dataset_westernus, dataset_westernus_lp, dataset_westernus_vt]\n",
    "\n",
    "model = vol_pn\n",
    "for target_i, dataset_i in zip(target_path_list, dataset_list):\n",
    "    eval_task0(\n",
    "        dev_test_set=dataset_i,\n",
    "        model=model,\n",
    "        exp_name=f\"vol_pn\",\n",
    "        targets_path=target_i,\n",
    "        root_save_dir=\"/home/zhongyiyuan/volpick/model_training/Test_westernus_alternative\",\n",
    "        prob_thres=np.array([0.39, 0.34]),\n",
    "        num_workers=16,\n",
    "        batchsize=1024,\n",
    "        num_test_run=-1,\n",
    "        output_remark=\"pred\",\n",
    "        tp_thre=tp_thre,\n",
    "        sets=[\"test\"],\n",
    "        # sets=[\"train\", \"dev\",\"test\"],\n",
    "        # append_to_file=True,\n",
    "        data_norm_type=model.norm,\n",
    "        count_tp_method=1,\n",
    "    )"
   ]
  },
  {
   "cell_type": "markdown",
   "metadata": {},
   "source": [
    "Test the original model"
   ]
  },
  {
   "cell_type": "code",
   "execution_count": 22,
   "metadata": {},
   "outputs": [
    {
     "data": {
      "text/html": [
       "<div>\n",
       "<style scoped>\n",
       "    .dataframe tbody tr th:only-of-type {\n",
       "        vertical-align: middle;\n",
       "    }\n",
       "\n",
       "    .dataframe tbody tr th {\n",
       "        vertical-align: top;\n",
       "    }\n",
       "\n",
       "    .dataframe thead th {\n",
       "        text-align: right;\n",
       "    }\n",
       "</style>\n",
       "<table border=\"1\" class=\"dataframe\">\n",
       "  <thead>\n",
       "    <tr style=\"text-align: right;\">\n",
       "      <th></th>\n",
       "      <th>exp_name</th>\n",
       "      <th>model</th>\n",
       "      <th>p_opt_prob_thre</th>\n",
       "      <th>s_opt_prob_thre</th>\n",
       "    </tr>\n",
       "  </thead>\n",
       "  <tbody>\n",
       "    <tr>\n",
       "      <th>0</th>\n",
       "      <td>PhaseNet_org_instance</td>\n",
       "      <td>PhaseNet</td>\n",
       "      <td>0.13</td>\n",
       "      <td>0.050</td>\n",
       "    </tr>\n",
       "    <tr>\n",
       "      <th>1</th>\n",
       "      <td>PhaseNet_org_incorrect_component_order</td>\n",
       "      <td>PhaseNet</td>\n",
       "      <td>0.28</td>\n",
       "      <td>0.170</td>\n",
       "    </tr>\n",
       "    <tr>\n",
       "      <th>2</th>\n",
       "      <td>EQTransformer_org</td>\n",
       "      <td>EQTransformer</td>\n",
       "      <td>0.01</td>\n",
       "      <td>0.001</td>\n",
       "    </tr>\n",
       "    <tr>\n",
       "      <th>3</th>\n",
       "      <td>EQTransformer_org_instance</td>\n",
       "      <td>EQTransformer</td>\n",
       "      <td>0.04</td>\n",
       "      <td>0.040</td>\n",
       "    </tr>\n",
       "    <tr>\n",
       "      <th>4</th>\n",
       "      <td>PhaseNet_org</td>\n",
       "      <td>PhaseNet</td>\n",
       "      <td>0.25</td>\n",
       "      <td>0.190</td>\n",
       "    </tr>\n",
       "    <tr>\n",
       "      <th>5</th>\n",
       "      <td>EQTransformer_org_nonconservative</td>\n",
       "      <td>EQTransformer</td>\n",
       "      <td>0.26</td>\n",
       "      <td>0.150</td>\n",
       "    </tr>\n",
       "    <tr>\n",
       "      <th>6</th>\n",
       "      <td>PhaseNet_org_stead</td>\n",
       "      <td>PhaseNet</td>\n",
       "      <td>0.01</td>\n",
       "      <td>0.040</td>\n",
       "    </tr>\n",
       "    <tr>\n",
       "      <th>7</th>\n",
       "      <td>EQTransformer_org_stead</td>\n",
       "      <td>EQTransformer</td>\n",
       "      <td>0.02</td>\n",
       "      <td>0.010</td>\n",
       "    </tr>\n",
       "  </tbody>\n",
       "</table>\n",
       "</div>"
      ],
      "text/plain": [
       "                                 exp_name          model  p_opt_prob_thre   \n",
       "0                   PhaseNet_org_instance       PhaseNet             0.13  \\\n",
       "1  PhaseNet_org_incorrect_component_order       PhaseNet             0.28   \n",
       "2                       EQTransformer_org  EQTransformer             0.01   \n",
       "3              EQTransformer_org_instance  EQTransformer             0.04   \n",
       "4                            PhaseNet_org       PhaseNet             0.25   \n",
       "5       EQTransformer_org_nonconservative  EQTransformer             0.26   \n",
       "6                      PhaseNet_org_stead       PhaseNet             0.01   \n",
       "7                 EQTransformer_org_stead  EQTransformer             0.02   \n",
       "\n",
       "   s_opt_prob_thre  \n",
       "0            0.050  \n",
       "1            0.170  \n",
       "2            0.001  \n",
       "3            0.040  \n",
       "4            0.190  \n",
       "5            0.150  \n",
       "6            0.040  \n",
       "7            0.010  "
      ]
     },
     "execution_count": 22,
     "metadata": {},
     "output_type": "execute_result"
    }
   ],
   "source": [
    "opt_thresholds_for_original_models_df = pd.read_csv(\n",
    "    \"/home/zhongyiyuan/volpick/model_training/Original_model_opt_thresholds/all_pred/task0/optimal_threshold.csv\"\n",
    ")\n",
    "opt_thresholds_for_original_models_df = opt_thresholds_for_original_models_df[\n",
    "    [\"exp_name\", \"model\", \"p_opt_prob_thre\", \"s_opt_prob_thre\"]\n",
    "]\n",
    "opt_thresholds_for_original_models_df"
   ]
  },
  {
   "cell_type": "code",
   "execution_count": 23,
   "metadata": {},
   "outputs": [
    {
     "name": "stdout",
     "output_type": "stream",
     "text": [
      "/home/zhongyiyuan/volpick/model_training/Test_westernus_alternative/westernus_pred/task0/org_eqt exists\n",
      "Starting set: test\n"
     ]
    },
    {
     "name": "stderr",
     "output_type": "stream",
     "text": [
      "Preloading waveforms: 100%|██████████| 11302/11302 [00:01<00:00, 5844.51it/s]"
     ]
    },
    {
     "name": "stdout",
     "output_type": "stream",
     "text": [
      "Number of examples in test: 11301\n",
      "11301 earthquake traces\n",
      "0 noise traces\n",
      "Probability threshold: 0.0010\n"
     ]
    },
    {
     "name": "stderr",
     "output_type": "stream",
     "text": [
      "\n"
     ]
    },
    {
     "name": "stdout",
     "output_type": "stream",
     "text": [
      "Probability threshold: 0.0100\n",
      "/home/zhongyiyuan/volpick/model_training/Test_westernus_alternative/westernus_lp_pred/task0/org_eqt exists\n",
      "Starting set: test\n"
     ]
    },
    {
     "name": "stderr",
     "output_type": "stream",
     "text": [
      "Preloading waveforms: 100%|██████████| 5651/5651 [00:01<00:00, 5526.02it/s]"
     ]
    },
    {
     "name": "stdout",
     "output_type": "stream",
     "text": [
      "Number of examples in test: 5650\n",
      "5650 earthquake traces\n",
      "0 noise traces\n",
      "Probability threshold: 0.0010\n"
     ]
    },
    {
     "name": "stderr",
     "output_type": "stream",
     "text": [
      "\n"
     ]
    },
    {
     "name": "stdout",
     "output_type": "stream",
     "text": [
      "Probability threshold: 0.0100\n",
      "/home/zhongyiyuan/volpick/model_training/Test_westernus_alternative/westernus_vt_pred/task0/org_eqt exists\n",
      "Starting set: test\n"
     ]
    },
    {
     "name": "stderr",
     "output_type": "stream",
     "text": [
      "Preloading waveforms: 100%|██████████| 5651/5651 [00:00<00:00, 5985.13it/s]"
     ]
    },
    {
     "name": "stdout",
     "output_type": "stream",
     "text": [
      "Number of examples in test: 5651\n",
      "5651 earthquake traces\n",
      "0 noise traces\n",
      "Probability threshold: 0.0010\n"
     ]
    },
    {
     "name": "stderr",
     "output_type": "stream",
     "text": [
      "\n"
     ]
    },
    {
     "name": "stdout",
     "output_type": "stream",
     "text": [
      "Probability threshold: 0.0100\n"
     ]
    }
   ],
   "source": [
    "tp_thre = 0.5\n",
    "target_path_list = [\n",
    "    targets_path_lp_and_rg_westernus,\n",
    "    targets_path_lp_westernus,\n",
    "    targets_path_rg_westernus,\n",
    "]\n",
    "dataset_list = [dataset_westernus, dataset_westernus_lp, dataset_westernus_vt]\n",
    "\n",
    "model = org_eqt\n",
    "for target_i, dataset_i in zip(target_path_list, dataset_list):\n",
    "    eval_task0(\n",
    "        dev_test_set=dataset_i,\n",
    "        model=model,\n",
    "        exp_name=f\"org_eqt\",\n",
    "        targets_path=target_i,\n",
    "        root_save_dir=\"/home/zhongyiyuan/volpick/model_training/Test_westernus_alternative\",\n",
    "        prob_thres=np.array([0.001, 0.01]),\n",
    "        num_workers=16,\n",
    "        batchsize=1024,\n",
    "        num_test_run=-1,\n",
    "        output_remark=\"pred\",\n",
    "        tp_thre=tp_thre,\n",
    "        sets=[\"test\"],\n",
    "        # sets=[\"train\", \"dev\",\"test\"],\n",
    "        # append_to_file=True,\n",
    "        data_norm_type=model.norm,\n",
    "        count_tp_method=1,\n",
    "    )"
   ]
  },
  {
   "cell_type": "code",
   "execution_count": 24,
   "metadata": {},
   "outputs": [
    {
     "name": "stdout",
     "output_type": "stream",
     "text": [
      "/home/zhongyiyuan/volpick/model_training/Test_westernus_alternative/westernus_pred/task0/org_eqt_nonconservative exists\n",
      "Starting set: test\n"
     ]
    },
    {
     "name": "stderr",
     "output_type": "stream",
     "text": [
      "Preloading waveforms: 100%|██████████| 11302/11302 [00:01<00:00, 5827.63it/s]"
     ]
    },
    {
     "name": "stdout",
     "output_type": "stream",
     "text": [
      "Number of examples in test: 11301\n",
      "11301 earthquake traces\n",
      "0 noise traces\n",
      "Probability threshold: 0.2600\n"
     ]
    },
    {
     "name": "stderr",
     "output_type": "stream",
     "text": [
      "\n"
     ]
    },
    {
     "name": "stdout",
     "output_type": "stream",
     "text": [
      "Probability threshold: 0.1500\n",
      "/home/zhongyiyuan/volpick/model_training/Test_westernus_alternative/westernus_lp_pred/task0/org_eqt_nonconservative exists\n",
      "Starting set: test\n"
     ]
    },
    {
     "name": "stderr",
     "output_type": "stream",
     "text": [
      "Preloading waveforms: 100%|██████████| 5651/5651 [00:01<00:00, 5604.20it/s]"
     ]
    },
    {
     "name": "stdout",
     "output_type": "stream",
     "text": [
      "Number of examples in test: 5650\n",
      "5650 earthquake traces\n",
      "0 noise traces\n",
      "Probability threshold: 0.2600\n"
     ]
    },
    {
     "name": "stderr",
     "output_type": "stream",
     "text": [
      "\n"
     ]
    },
    {
     "name": "stdout",
     "output_type": "stream",
     "text": [
      "Probability threshold: 0.1500\n",
      "/home/zhongyiyuan/volpick/model_training/Test_westernus_alternative/westernus_vt_pred/task0/org_eqt_nonconservative exists\n",
      "Starting set: test\n"
     ]
    },
    {
     "name": "stderr",
     "output_type": "stream",
     "text": [
      "Preloading waveforms: 100%|██████████| 5651/5651 [00:00<00:00, 6013.41it/s]"
     ]
    },
    {
     "name": "stdout",
     "output_type": "stream",
     "text": [
      "Number of examples in test: 5651\n",
      "5651 earthquake traces\n",
      "0 noise traces\n",
      "Probability threshold: 0.2600\n"
     ]
    },
    {
     "name": "stderr",
     "output_type": "stream",
     "text": [
      "\n"
     ]
    },
    {
     "name": "stdout",
     "output_type": "stream",
     "text": [
      "Probability threshold: 0.1500\n"
     ]
    }
   ],
   "source": [
    "tp_thre = 0.5\n",
    "target_path_list = [\n",
    "    targets_path_lp_and_rg_westernus,\n",
    "    targets_path_lp_westernus,\n",
    "    targets_path_rg_westernus,\n",
    "]\n",
    "dataset_list = [dataset_westernus, dataset_westernus_lp, dataset_westernus_vt]\n",
    "\n",
    "model = org_eqt2\n",
    "for target_i, dataset_i in zip(target_path_list, dataset_list):\n",
    "    eval_task0(\n",
    "        dev_test_set=dataset_i,\n",
    "        model=model,\n",
    "        exp_name=f\"org_eqt_nonconservative\",\n",
    "        targets_path=target_i,\n",
    "        root_save_dir=\"/home/zhongyiyuan/volpick/model_training/Test_westernus_alternative\",\n",
    "        prob_thres=np.array([0.26, 0.15]),\n",
    "        num_workers=16,\n",
    "        batchsize=1024,\n",
    "        num_test_run=-1,\n",
    "        output_remark=\"pred\",\n",
    "        tp_thre=tp_thre,\n",
    "        sets=[\"test\"],\n",
    "        # sets=[\"train\", \"dev\",\"test\"],\n",
    "        # append_to_file=True,\n",
    "        data_norm_type=model.norm,\n",
    "        count_tp_method=1,\n",
    "    )"
   ]
  },
  {
   "cell_type": "code",
   "execution_count": 25,
   "metadata": {},
   "outputs": [
    {
     "name": "stdout",
     "output_type": "stream",
     "text": [
      "/home/zhongyiyuan/volpick/model_training/Test_westernus_alternative/westernus_pred/task0/org_pn exists\n",
      "Starting set: test\n"
     ]
    },
    {
     "name": "stderr",
     "output_type": "stream",
     "text": [
      "Preloading waveforms: 100%|██████████| 11302/11302 [00:01<00:00, 5721.54it/s]"
     ]
    },
    {
     "name": "stdout",
     "output_type": "stream",
     "text": [
      "Number of examples in test: 11301\n",
      "11301 earthquake traces\n",
      "0 noise traces\n",
      "Probability threshold: 0.2500\n"
     ]
    },
    {
     "name": "stderr",
     "output_type": "stream",
     "text": [
      "\n"
     ]
    },
    {
     "name": "stdout",
     "output_type": "stream",
     "text": [
      "Probability threshold: 0.1900\n",
      "/home/zhongyiyuan/volpick/model_training/Test_westernus_alternative/westernus_lp_pred/task0/org_pn exists\n",
      "Starting set: test\n"
     ]
    },
    {
     "name": "stderr",
     "output_type": "stream",
     "text": [
      "Preloading waveforms: 100%|██████████| 5651/5651 [00:01<00:00, 5441.75it/s]"
     ]
    },
    {
     "name": "stdout",
     "output_type": "stream",
     "text": [
      "Number of examples in test: 5650\n",
      "5650 earthquake traces\n",
      "0 noise traces\n",
      "Probability threshold: 0.2500\n"
     ]
    },
    {
     "name": "stderr",
     "output_type": "stream",
     "text": [
      "\n"
     ]
    },
    {
     "name": "stdout",
     "output_type": "stream",
     "text": [
      "Probability threshold: 0.1900\n",
      "/home/zhongyiyuan/volpick/model_training/Test_westernus_alternative/westernus_vt_pred/task0/org_pn exists\n",
      "Starting set: test\n"
     ]
    },
    {
     "name": "stderr",
     "output_type": "stream",
     "text": [
      "Preloading waveforms: 100%|██████████| 5651/5651 [00:00<00:00, 5956.30it/s]"
     ]
    },
    {
     "name": "stdout",
     "output_type": "stream",
     "text": [
      "Number of examples in test: 5651\n",
      "5651 earthquake traces\n",
      "0 noise traces\n",
      "Probability threshold: 0.2500\n"
     ]
    },
    {
     "name": "stderr",
     "output_type": "stream",
     "text": [
      "\n"
     ]
    },
    {
     "name": "stdout",
     "output_type": "stream",
     "text": [
      "Probability threshold: 0.1900\n"
     ]
    }
   ],
   "source": [
    "tp_thre = 0.5\n",
    "target_path_list = [\n",
    "    targets_path_lp_and_rg_westernus,\n",
    "    targets_path_lp_westernus,\n",
    "    targets_path_rg_westernus,\n",
    "]\n",
    "# dataset_list = [dataset_westernus, dataset_westernus_lp, dataset_westernus_vt]\n",
    "dataset_list = [\n",
    "    dataset_westernus_ENZ,\n",
    "    dataset_westernus_ENZ_lp,\n",
    "    dataset_westernus_ENZ_vt,\n",
    "]\n",
    "\n",
    "model = org_pn\n",
    "for target_i, dataset_i in zip(target_path_list, dataset_list):\n",
    "    eval_task0(\n",
    "        dev_test_set=dataset_i,\n",
    "        model=model,\n",
    "        exp_name=f\"org_pn\",\n",
    "        targets_path=target_i,\n",
    "        root_save_dir=\"/home/zhongyiyuan/volpick/model_training/Test_westernus_alternative\",\n",
    "        prob_thres=np.array([0.25, 0.19]),\n",
    "        num_workers=16,\n",
    "        batchsize=1024,\n",
    "        num_test_run=-1,\n",
    "        output_remark=\"pred\",\n",
    "        tp_thre=tp_thre,\n",
    "        sets=[\"test\"],\n",
    "        # sets=[\"train\", \"dev\",\"test\"],\n",
    "        # append_to_file=True,\n",
    "        data_norm_type=model.norm,\n",
    "        count_tp_method=1,\n",
    "    )"
   ]
  },
  {
   "cell_type": "markdown",
   "metadata": {},
   "source": [
    "Test the model trained on INSTANCE dataset"
   ]
  },
  {
   "cell_type": "code",
   "execution_count": 26,
   "metadata": {},
   "outputs": [
    {
     "name": "stdout",
     "output_type": "stream",
     "text": [
      "/home/zhongyiyuan/volpick/model_training/Test_westernus_alternative/westernus_pred/task0/int_eqt exists\n",
      "Starting set: test\n"
     ]
    },
    {
     "name": "stderr",
     "output_type": "stream",
     "text": [
      "Preloading waveforms: 100%|██████████| 11302/11302 [00:01<00:00, 5742.15it/s]"
     ]
    },
    {
     "name": "stdout",
     "output_type": "stream",
     "text": [
      "Number of examples in test: 11301\n",
      "11301 earthquake traces\n",
      "0 noise traces\n",
      "Probability threshold: 0.0400\n"
     ]
    },
    {
     "name": "stderr",
     "output_type": "stream",
     "text": [
      "\n"
     ]
    },
    {
     "name": "stdout",
     "output_type": "stream",
     "text": [
      "/home/zhongyiyuan/volpick/model_training/Test_westernus_alternative/westernus_lp_pred/task0/int_eqt exists\n",
      "Starting set: test\n"
     ]
    },
    {
     "name": "stderr",
     "output_type": "stream",
     "text": [
      "Preloading waveforms: 100%|██████████| 5651/5651 [00:01<00:00, 5580.39it/s]"
     ]
    },
    {
     "name": "stdout",
     "output_type": "stream",
     "text": [
      "Number of examples in test: 5650\n",
      "5650 earthquake traces\n",
      "0 noise traces\n",
      "Probability threshold: 0.0400\n"
     ]
    },
    {
     "name": "stderr",
     "output_type": "stream",
     "text": [
      "\n"
     ]
    },
    {
     "name": "stdout",
     "output_type": "stream",
     "text": [
      "/home/zhongyiyuan/volpick/model_training/Test_westernus_alternative/westernus_vt_pred/task0/int_eqt exists\n",
      "Starting set: test\n"
     ]
    },
    {
     "name": "stderr",
     "output_type": "stream",
     "text": [
      "Preloading waveforms: 100%|██████████| 5651/5651 [00:00<00:00, 5786.37it/s]"
     ]
    },
    {
     "name": "stdout",
     "output_type": "stream",
     "text": [
      "Number of examples in test: 5651\n",
      "5651 earthquake traces\n",
      "0 noise traces\n",
      "Probability threshold: 0.0400\n"
     ]
    },
    {
     "name": "stderr",
     "output_type": "stream",
     "text": [
      "\n"
     ]
    }
   ],
   "source": [
    "tp_thre = 0.5\n",
    "target_path_list = [\n",
    "    targets_path_lp_and_rg_westernus,\n",
    "    targets_path_lp_westernus,\n",
    "    targets_path_rg_westernus,\n",
    "]\n",
    "dataset_list = [dataset_westernus, dataset_westernus_lp, dataset_westernus_vt]\n",
    "\n",
    "model = eqt_instance\n",
    "for target_i, dataset_i in zip(target_path_list, dataset_list):\n",
    "    eval_task0(\n",
    "        dev_test_set=dataset_i,\n",
    "        model=model,\n",
    "        exp_name=f\"int_eqt\",\n",
    "        targets_path=target_i,\n",
    "        root_save_dir=\"/home/zhongyiyuan/volpick/model_training/Test_westernus_alternative\",\n",
    "        prob_thres=np.array([0.04]),\n",
    "        num_workers=16,\n",
    "        batchsize=1024,\n",
    "        num_test_run=-1,\n",
    "        output_remark=\"pred\",\n",
    "        tp_thre=tp_thre,\n",
    "        sets=[\"test\"],\n",
    "        # sets=[\"train\", \"dev\",\"test\"],\n",
    "        # append_to_file=True,\n",
    "        data_norm_type=model.norm,\n",
    "        count_tp_method=1,\n",
    "    )"
   ]
  },
  {
   "cell_type": "code",
   "execution_count": 27,
   "metadata": {},
   "outputs": [
    {
     "name": "stdout",
     "output_type": "stream",
     "text": [
      "/home/zhongyiyuan/volpick/model_training/Test_westernus_alternative/westernus_pred/task0/int_pn exists\n",
      "Starting set: test\n"
     ]
    },
    {
     "name": "stderr",
     "output_type": "stream",
     "text": [
      "Preloading waveforms: 100%|██████████| 11302/11302 [00:01<00:00, 5820.41it/s]"
     ]
    },
    {
     "name": "stdout",
     "output_type": "stream",
     "text": [
      "Number of examples in test: 11301\n",
      "11301 earthquake traces\n",
      "0 noise traces\n",
      "Probability threshold: 0.1300\n"
     ]
    },
    {
     "name": "stderr",
     "output_type": "stream",
     "text": [
      "\n"
     ]
    },
    {
     "name": "stdout",
     "output_type": "stream",
     "text": [
      "Probability threshold: 0.0500\n",
      "/home/zhongyiyuan/volpick/model_training/Test_westernus_alternative/westernus_lp_pred/task0/int_pn exists\n",
      "Starting set: test\n"
     ]
    },
    {
     "name": "stderr",
     "output_type": "stream",
     "text": [
      "Preloading waveforms: 100%|██████████| 5651/5651 [00:01<00:00, 5552.76it/s]"
     ]
    },
    {
     "name": "stdout",
     "output_type": "stream",
     "text": [
      "Number of examples in test: 5650\n",
      "5650 earthquake traces\n",
      "0 noise traces\n",
      "Probability threshold: 0.1300\n"
     ]
    },
    {
     "name": "stderr",
     "output_type": "stream",
     "text": [
      "\n"
     ]
    },
    {
     "name": "stdout",
     "output_type": "stream",
     "text": [
      "Probability threshold: 0.0500\n",
      "/home/zhongyiyuan/volpick/model_training/Test_westernus_alternative/westernus_vt_pred/task0/int_pn exists\n",
      "Starting set: test\n"
     ]
    },
    {
     "name": "stderr",
     "output_type": "stream",
     "text": [
      "Preloading waveforms: 100%|██████████| 5651/5651 [00:00<00:00, 5998.92it/s]"
     ]
    },
    {
     "name": "stdout",
     "output_type": "stream",
     "text": [
      "Number of examples in test: 5651\n",
      "5651 earthquake traces\n",
      "0 noise traces\n",
      "Probability threshold: 0.1300\n"
     ]
    },
    {
     "name": "stderr",
     "output_type": "stream",
     "text": [
      "\n"
     ]
    },
    {
     "name": "stdout",
     "output_type": "stream",
     "text": [
      "Probability threshold: 0.0500\n"
     ]
    }
   ],
   "source": [
    "tp_thre = 0.5\n",
    "target_path_list = [\n",
    "    targets_path_lp_and_rg_westernus,\n",
    "    targets_path_lp_westernus,\n",
    "    targets_path_rg_westernus,\n",
    "]\n",
    "dataset_list = [dataset_westernus, dataset_westernus_lp, dataset_westernus_vt]\n",
    "\n",
    "model = pn_instance\n",
    "for target_i, dataset_i in zip(target_path_list, dataset_list):\n",
    "    eval_task0(\n",
    "        dev_test_set=dataset_i,\n",
    "        model=model,\n",
    "        exp_name=f\"int_pn\",\n",
    "        targets_path=target_i,\n",
    "        root_save_dir=\"/home/zhongyiyuan/volpick/model_training/Test_westernus_alternative\",\n",
    "        prob_thres=np.array([0.13, 0.05]),\n",
    "        num_workers=16,\n",
    "        batchsize=1024,\n",
    "        num_test_run=-1,\n",
    "        output_remark=\"pred\",\n",
    "        tp_thre=tp_thre,\n",
    "        sets=[\"test\"],\n",
    "        # sets=[\"train\", \"dev\",\"test\"],\n",
    "        # append_to_file=True,\n",
    "        data_norm_type=model.norm,\n",
    "        count_tp_method=1,\n",
    "    )"
   ]
  },
  {
   "cell_type": "markdown",
   "metadata": {},
   "source": [
    "# Plot across different_regions"
   ]
  },
  {
   "cell_type": "code",
   "execution_count": 28,
   "metadata": {},
   "outputs": [
    {
     "data": {
      "text/html": [
       "<div>\n",
       "<style scoped>\n",
       "    .dataframe tbody tr th:only-of-type {\n",
       "        vertical-align: middle;\n",
       "    }\n",
       "\n",
       "    .dataframe tbody tr th {\n",
       "        vertical-align: top;\n",
       "    }\n",
       "\n",
       "    .dataframe thead th {\n",
       "        text-align: right;\n",
       "    }\n",
       "</style>\n",
       "<table border=\"1\" class=\"dataframe\">\n",
       "  <thead>\n",
       "    <tr style=\"text-align: right;\">\n",
       "      <th></th>\n",
       "      <th>exp_name</th>\n",
       "      <th>model</th>\n",
       "      <th>p_opt_prob_thre</th>\n",
       "      <th>s_opt_prob_thre</th>\n",
       "    </tr>\n",
       "  </thead>\n",
       "  <tbody>\n",
       "    <tr>\n",
       "      <th>0</th>\n",
       "      <td>PhaseNet_org_instance</td>\n",
       "      <td>PhaseNet</td>\n",
       "      <td>0.13</td>\n",
       "      <td>0.050</td>\n",
       "    </tr>\n",
       "    <tr>\n",
       "      <th>1</th>\n",
       "      <td>PhaseNet_org_incorrect_component_order</td>\n",
       "      <td>PhaseNet</td>\n",
       "      <td>0.28</td>\n",
       "      <td>0.170</td>\n",
       "    </tr>\n",
       "    <tr>\n",
       "      <th>2</th>\n",
       "      <td>EQTransformer_org</td>\n",
       "      <td>EQTransformer</td>\n",
       "      <td>0.01</td>\n",
       "      <td>0.001</td>\n",
       "    </tr>\n",
       "    <tr>\n",
       "      <th>3</th>\n",
       "      <td>EQTransformer_org_instance</td>\n",
       "      <td>EQTransformer</td>\n",
       "      <td>0.04</td>\n",
       "      <td>0.040</td>\n",
       "    </tr>\n",
       "    <tr>\n",
       "      <th>4</th>\n",
       "      <td>PhaseNet_org</td>\n",
       "      <td>PhaseNet</td>\n",
       "      <td>0.25</td>\n",
       "      <td>0.190</td>\n",
       "    </tr>\n",
       "    <tr>\n",
       "      <th>5</th>\n",
       "      <td>EQTransformer_org_nonconservative</td>\n",
       "      <td>EQTransformer</td>\n",
       "      <td>0.26</td>\n",
       "      <td>0.150</td>\n",
       "    </tr>\n",
       "    <tr>\n",
       "      <th>6</th>\n",
       "      <td>PhaseNet_org_stead</td>\n",
       "      <td>PhaseNet</td>\n",
       "      <td>0.01</td>\n",
       "      <td>0.040</td>\n",
       "    </tr>\n",
       "    <tr>\n",
       "      <th>7</th>\n",
       "      <td>EQTransformer_org_stead</td>\n",
       "      <td>EQTransformer</td>\n",
       "      <td>0.02</td>\n",
       "      <td>0.010</td>\n",
       "    </tr>\n",
       "  </tbody>\n",
       "</table>\n",
       "</div>"
      ],
      "text/plain": [
       "                                 exp_name          model  p_opt_prob_thre   \n",
       "0                   PhaseNet_org_instance       PhaseNet             0.13  \\\n",
       "1  PhaseNet_org_incorrect_component_order       PhaseNet             0.28   \n",
       "2                       EQTransformer_org  EQTransformer             0.01   \n",
       "3              EQTransformer_org_instance  EQTransformer             0.04   \n",
       "4                            PhaseNet_org       PhaseNet             0.25   \n",
       "5       EQTransformer_org_nonconservative  EQTransformer             0.26   \n",
       "6                      PhaseNet_org_stead       PhaseNet             0.01   \n",
       "7                 EQTransformer_org_stead  EQTransformer             0.02   \n",
       "\n",
       "   s_opt_prob_thre  \n",
       "0            0.050  \n",
       "1            0.170  \n",
       "2            0.001  \n",
       "3            0.040  \n",
       "4            0.190  \n",
       "5            0.150  \n",
       "6            0.040  \n",
       "7            0.010  "
      ]
     },
     "execution_count": 28,
     "metadata": {},
     "output_type": "execute_result"
    }
   ],
   "source": [
    "opt_thresholds_for_original_models_df = pd.read_csv(\n",
    "    \"/home/zhongyiyuan/volpick/model_training/Original_model_opt_thresholds/all_pred/task0/optimal_threshold.csv\"\n",
    ")\n",
    "opt_thresholds_for_original_models_df = opt_thresholds_for_original_models_df[\n",
    "    [\"exp_name\", \"model\", \"p_opt_prob_thre\", \"s_opt_prob_thre\"]  # \"pretraining\"\n",
    "]\n",
    "opt_thresholds_for_original_models_df"
   ]
  },
  {
   "cell_type": "code",
   "execution_count": 29,
   "metadata": {},
   "outputs": [
    {
     "name": "stdout",
     "output_type": "stream",
     "text": [
      "{'vol_eqt': 0.22, 'vol_pn': 0.39, 'org_eqt': 0.01, 'org_eqt_nonconservative': 0.26, 'org_pn': 0.25, 'int_eqt': 0.04, 'int_pn': 0.13, 'std_eqt': 0.02, 'std_pn': 0.01}\n",
      "{'vol_eqt': 0.22, 'vol_pn': 0.34, 'org_eqt': 0.001, 'org_eqt_nonconservative': 0.15, 'org_pn': 0.19, 'int_eqt': 0.04, 'int_pn': 0.05, 'std_eqt': 0.01, 'std_pn': 0.04}\n"
     ]
    }
   ],
   "source": [
    "p_thre_dict = {\n",
    "    \"vol_eqt\": 0.22,\n",
    "    \"vol_pn\": 0.39,\n",
    "    \"org_eqt\": 0.01,\n",
    "    \"org_eqt_nonconservative\": 0.26,\n",
    "    \"org_pn\": 0.25,\n",
    "    \"int_eqt\": 0.04,\n",
    "    \"int_pn\": 0.13,\n",
    "    \"std_eqt\": 0.02,\n",
    "    \"std_pn\": 0.01,\n",
    "}\n",
    "s_thre_dict = {\n",
    "    \"vol_eqt\": 0.22,\n",
    "    \"vol_pn\": 0.34,\n",
    "    \"org_eqt\": 0.001,\n",
    "    \"org_eqt_nonconservative\": 0.15,\n",
    "    \"org_pn\": 0.19,\n",
    "    \"int_eqt\": 0.04,\n",
    "    \"int_pn\": 0.05,\n",
    "    \"std_eqt\": 0.01,\n",
    "    \"std_pn\": 0.04,\n",
    "}\n",
    "print(p_thre_dict)\n",
    "print(s_thre_dict)"
   ]
  },
  {
   "cell_type": "code",
   "execution_count": 30,
   "metadata": {},
   "outputs": [],
   "source": [
    "pred_dirs = [\n",
    "    \"org_pn\",\n",
    "    \"org_eqt_nonconservative\",\n",
    "    \"int_pn\",\n",
    "    \"int_eqt\",\n",
    "    \"vol_pn\",\n",
    "    \"vol_eqt\",\n",
    "]\n",
    "pred_dir_path_list = [\n",
    "    Path(\"/home/zhongyiyuan/volpick/model_training/Test_alternative/\"),\n",
    "    Path(\"/home/zhongyiyuan/volpick/model_training/Test_westernus_alternative/\"),\n",
    "    # Path(\"/home/zhongyiyuan/volpick/model_training/Test_cascade_alternative/\"),\n",
    "    Path(\"/home/zhongyiyuan/volpick/model_training/Test_japan_tec_lp_alternative/\"),\n",
    "]\n",
    "\n",
    "metrics_list = []\n",
    "for i, pred_dir_path in enumerate(pred_dir_path_list):\n",
    "    if i == 0:\n",
    "        data_types_plotted = [\"lp_and_noise_pred\", \"rg_and_noise_pred\"]\n",
    "    elif i == 1:\n",
    "        data_types_plotted = [\n",
    "            \"westernus_lp_pred\",\n",
    "            \"westernus_vt_pred\",\n",
    "        ]\n",
    "    # elif i == 2:\n",
    "    #     data_types_plotted = [\"cascade_lp_pred\", \"cascade_vt_pred\"]\n",
    "    else:\n",
    "        data_types_plotted = [\"japan_tec_lp_pred\"]\n",
    "\n",
    "    precision_dict = [\n",
    "        {x: [] for x in pred_dirs} for _ in range(len(data_types_plotted))\n",
    "    ]\n",
    "    recall_dict = [{x: [] for x in pred_dirs} for _ in range(len(data_types_plotted))]\n",
    "    f1score_dict = [{x: [] for x in pred_dirs} for _ in range(len(data_types_plotted))]\n",
    "\n",
    "    for model_name in pred_dirs:\n",
    "        for j, data_type in enumerate(data_types_plotted):\n",
    "            pred_df = pd.read_csv(\n",
    "                pred_dir_path / data_type / \"task0\" / model_name / \"test_metrics.csv\"\n",
    "            )\n",
    "            p_row = pred_df[\n",
    "                np.isclose(pred_df[\"prob_thre\"], p_thre_dict[model_name])\n",
    "            ].iloc[0]\n",
    "            s_row = pred_df[\n",
    "                np.isclose(pred_df[\"prob_thre\"], s_thre_dict[model_name])\n",
    "            ].iloc[0]\n",
    "            assert (\n",
    "                np.abs(p_row[\"prob_thre\"] - p_thre_dict[model_name]) < 1e-6\n",
    "            ), f\"{p_row['prob_thre']}, {p_thre_dict[model_name]}\"\n",
    "            assert np.abs(s_row[\"prob_thre\"] - s_thre_dict[model_name]) < 1e-6\n",
    "\n",
    "            precision_dict[j][model_name] = [p_row[\"p_precision\"], s_row[\"s_precision\"]]\n",
    "            recall_dict[j][model_name] = [p_row[\"p_recall\"], s_row[\"s_recall\"]]\n",
    "            f1score_dict[j][model_name] = [p_row[\"p_F1score\"], s_row[\"s_F1score\"]]\n",
    "    metrics = {\n",
    "        \"Recall\": recall_dict,\n",
    "        \"Precision\": precision_dict,\n",
    "        \"F1 score\": f1score_dict,\n",
    "    }\n",
    "    metrics_list.append(metrics)"
   ]
  },
  {
   "cell_type": "code",
   "execution_count": 41,
   "metadata": {},
   "outputs": [
    {
     "data": {
      "image/png": "[encoded data removed]",
      "text/plain": [
       "<Figure size 748.031x590.551 with 5 Axes>"
      ]
     },
     "metadata": {},
     "output_type": "display_data"
    }
   ],
   "source": [
    "cm = 1 / 2.54\n",
    "fig, axs = plt.subplots(\n",
    "    3, 2, figsize=(19 * cm, 15 * cm), sharey=\"all\", sharex=\"all\", squeeze=False\n",
    ")  # ,layout=\"constrained\"\n",
    "plt.subplots_adjust(hspace=0.15, wspace=0.15)\n",
    "\n",
    "data_types = (\"P phase picking\", \"S phase picking\")\n",
    "x = np.arange(len(data_types)) * 2.21\n",
    "# x=np.array([0,1.5,3])\n",
    "width = 0.257  # the width of the bars\n",
    "\n",
    "metric_names = [\"F1 score\"]\n",
    "colors = [\n",
    "    (164 / 255, 208 / 255, 80 / 255),\n",
    "    (84 / 255, 130 / 255, 53 / 255),\n",
    "    (0 / 255, 176 / 255, 240 / 255),\n",
    "    (0 / 255, 112 / 255, 192 / 255),\n",
    "    (255 / 255, 192 / 255, 0 / 255),\n",
    "    (170 / 255, 80 / 255, 30 / 255),\n",
    "    # (9 / 255, 80 / 255, 153 / 255),\n",
    "    # (0 / 255, 112 / 255, 182 / 255),\n",
    "]\n",
    "# colors = [\"#96DEAE\", \"#008080\", \"#0074B7\", \"#003B73\", \"#D0565C\", \"#880C25\"]\n",
    "colors = [\"#96DEAE\", \"#008080\", \"#0074B7\", \"#024376\", \"#D0565C\", \"#880C25\"]\n",
    "colors = [\"#96DEAE\", \"#008080\", \"#0074B7\", \"#024376\", \"#D0565C\", \"#AE0000\"]\n",
    "# colors = [\"#6988E7\", \"#F05C79\", \"#0074B7\", \"#DC143C\", \"#003B73\", \"#5E091A\"]\n",
    "# colors=[\"teal\",\"teal\",\"darkblue\",\"darkblue\",\"purple\",\"purple\"]\n",
    "hatches = [\"//\", \".\", \"//\", \".\", \"//\", \".\"]\n",
    "alphas = [0.7, 1, 0.7, 1, 0.7, 1]\n",
    "# colors=[\"aquamarine\",\"dodgerblue\",\"orchid\",\"teal\",\"navy\",\"brown\"]\n",
    "# colors = plt.cm.Paired(np.linspace(0, 1, len(metric_names)))\n",
    "# labels = {\n",
    "#     \"org_eqt\": \"Original EQTransformer (Mousavi et al., 2020)\",\n",
    "#     \"int_eqt\": \"EQTransformer trained on INSTANCE\\n\"\n",
    "#     r\"(M$\\rm{\\\"u}$nchmeyer et al., 2022)\",\n",
    "#     \"vol_eqt\": \"EQTransformer retrained in this study\",\n",
    "#     \"org_pn\": \"Original PhaseNet (Zhu & Beroza, 2019)\",\n",
    "#     \"int_pn\": \"PhaseNet trained on INSTANCE\\n\" r\"(M$\\rm{\\\"u}$nchmeyer et al., 2022)\",\n",
    "#     \"vol_pn\": \"PhaseNet retrained in this study\",\n",
    "# }\n",
    "labels = {\n",
    "    \"org_eqt\": \"Original EQTransformer (Mousavi et al., 2020)\",\n",
    "    \"org_eqt_nonconservative\": \"Original EQTransformer (Mousavi et al., 2020)\",\n",
    "    \"int_eqt\": r\"EQTransformer trained on INSTANCE ($\\rm{M\\\"unchmeyer}$ et al., 2022)\",\n",
    "    \"vol_eqt\": \"EQTransformer retrained in this study\",\n",
    "    \"org_pn\": \"Original PhaseNet (Zhu & Beroza, 2019)\",\n",
    "    \"int_pn\": r\"PhaseNet trained on INSTANCE ($\\rm{M\\\"unchmeyer}$ et al., 2022)\",\n",
    "    \"vol_pn\": \"PhaseNet retrained in this study\",\n",
    "}\n",
    "test_set_names = [\n",
    "    \"Alaska, Hawaii and Japan\",\n",
    "    \"Western United States\",\n",
    "    \"Japan tectonic LFEs\",\n",
    "]\n",
    "\n",
    "fts = 8\n",
    "for i in range(3):\n",
    "    for j in range(2):\n",
    "        if i == 2 and j == 1:\n",
    "            break\n",
    "        # if i == 2 and j == 0:\n",
    "        #     metric_dict = metrics_list[i][metric_names[0]][j]\n",
    "        #     ax = axs[i][1]\n",
    "        # else:\n",
    "        metric_dict = metrics_list[i][metric_names[0]][j]\n",
    "        ax = axs[i][j]\n",
    "\n",
    "        # ax = axs[i][j]\n",
    "\n",
    "        fmt = \"{:.2f}\"  # 注意，这里的舍入用的是四舍六入五化偶\n",
    "        interval = width + 0.0635\n",
    "        for k, (attribute, value) in enumerate(metric_dict.items()):\n",
    "            offset = interval * k\n",
    "            rects = ax.bar(\n",
    "                x + offset,\n",
    "                value,\n",
    "                width,\n",
    "                label=labels[attribute],\n",
    "                # edgecolor=\"white\",\n",
    "                color=colors[k],\n",
    "                # linewidth=3,\n",
    "            )  # ,edgecolor=\"black\",hatch=hatches[k]\n",
    "            ax.bar_label(rects, padding=1.5, fmt=fmt, fontsize=fts - 2.0, color=\"black\")\n",
    "            ax.spines[[\"right\", \"top\"]].set_visible(False)\n",
    "\n",
    "        ax.set_xticks(x + 2.5 * interval, data_types, fontsize=fts)\n",
    "        ax.tick_params(labelsize=fts)\n",
    "        ax.set_ylim([0.1, 1])\n",
    "        ax.set_xlim(x[0] - 0.6 * interval, x[-1] + 5.6 * interval)\n",
    "        ax.yaxis.set_major_locator(MultipleLocator(0.2))\n",
    "        ax.yaxis.set_minor_locator(MultipleLocator(0.05))\n",
    "    # axs[i][0].set_ylabel(metric_names[i], fontsize=fts)\n",
    "    axs[i][0].set_ylabel(test_set_names[i], fontsize=fts)\n",
    "    axs[i][0].text(\n",
    "        0.02,\n",
    "        1.0,\n",
    "        \"(\" + chr(97 + i) + \")\",\n",
    "        verticalalignment=\"top\",\n",
    "        horizontalalignment=\"left\",\n",
    "        # weight=\"bold\",\n",
    "        transform=axs[i][0].transAxes,\n",
    "        fontsize=fts + 3,\n",
    "    )\n",
    "fig.delaxes(axs[2][1])\n",
    "handles, legend_labels = axs[2][1].get_legend_handles_labels()\n",
    "\n",
    "legend_label_order = [0, 2, 4, 1, 3, 5]\n",
    "\n",
    "#\n",
    "leg = axs[1][1].legend(\n",
    "    # [handles[idx] for idx in legend_label_order],\n",
    "    # [legend_labels[idx] for idx in legend_label_order],\n",
    "    markerfirst=True,\n",
    "    handlelength=0.8,\n",
    "    handleheight=1.0,\n",
    "    #   markerscale=5,\n",
    "    loc=\"lower left\",\n",
    "    bbox_to_anchor=(-0.15, -1.15, 1, 1.5),\n",
    "    frameon=False,\n",
    "    fontsize=fts - 1,\n",
    "    # ncols=2,\n",
    "    # columnspacing=0.8,\n",
    "    labelspacing=0.75,\n",
    ")\n",
    "\n",
    "axs[1][1].xaxis.set_tick_params(which=\"both\", labelbottom=True)\n",
    "# axs[1][1].set_xticks(x + 2.5 * interval, data_types, fontsize=fts)\n",
    "\n",
    "axs[0][1].set_title(\"VT test set\", y=1.05, fontsize=fts)\n",
    "axs[0][0].set_title(\"LP test set\", y=1.05, fontsize=fts)\n",
    "plt.savefig(\"alt_f1_scores_3_testsets.pdf\", dpi=600, bbox_inches=\"tight\", pad_inches=0)"
   ]
  },
  {
   "cell_type": "code",
   "execution_count": 42,
   "metadata": {},
   "outputs": [
    {
     "data": {
      "image/png": "[encoded data removed]",
      "text/plain": [
       "<Figure size 748.031x551.181 with 5 Axes>"
      ]
     },
     "metadata": {},
     "output_type": "display_data"
    }
   ],
   "source": [
    "cm = 1 / 2.54\n",
    "fig, axs = plt.subplots(\n",
    "    3, 2, figsize=(19 * cm, 14 * cm), sharey=\"all\", sharex=\"all\", squeeze=False\n",
    ")  # ,layout=\"constrained\"\n",
    "plt.subplots_adjust(hspace=0.15, wspace=0.15)\n",
    "\n",
    "data_types = (\"P phase picking\", \"S phase picking\")\n",
    "x = np.arange(len(data_types)) * 2.21\n",
    "# x=np.array([0,1.5,3])\n",
    "width = 0.257  # the width of the bars\n",
    "\n",
    "metric_names = [\"Precision\"]\n",
    "colors = [\n",
    "    (164 / 255, 208 / 255, 80 / 255),\n",
    "    (84 / 255, 130 / 255, 53 / 255),\n",
    "    (0 / 255, 176 / 255, 240 / 255),\n",
    "    (0 / 255, 112 / 255, 192 / 255),\n",
    "    (255 / 255, 192 / 255, 0 / 255),\n",
    "    (170 / 255, 80 / 255, 30 / 255),\n",
    "    # (9 / 255, 80 / 255, 153 / 255),\n",
    "    # (0 / 255, 112 / 255, 182 / 255),\n",
    "]\n",
    "# colors = [\"#96DEAE\", \"#008080\", \"#0074B7\", \"#003B73\", \"#D0565C\", \"#880C25\"]\n",
    "colors = [\"#96DEAE\", \"#008080\", \"#0074B7\", \"#024376\", \"#D0565C\", \"#880C25\"]\n",
    "colors = [\"#96DEAE\", \"#008080\", \"#0074B7\", \"#024376\", \"#D0565C\", \"#AE0000\"]\n",
    "# colors = [\"#6988E7\", \"#F05C79\", \"#0074B7\", \"#DC143C\", \"#003B73\", \"#5E091A\"]\n",
    "# colors=[\"teal\",\"teal\",\"darkblue\",\"darkblue\",\"purple\",\"purple\"]\n",
    "hatches = [\"//\", \".\", \"//\", \".\", \"//\", \".\"]\n",
    "alphas = [0.7, 1, 0.7, 1, 0.7, 1]\n",
    "# colors=[\"aquamarine\",\"dodgerblue\",\"orchid\",\"teal\",\"navy\",\"brown\"]\n",
    "# colors = plt.cm.Paired(np.linspace(0, 1, len(metric_names)))\n",
    "labels = {\n",
    "    \"org_eqt\": \"Original EQTransformer (Mousavi et al., 2020)\",\n",
    "    \"org_eqt_nonconservative\": \"Original EQTransformer (Mousavi et al., 2020)\",\n",
    "    \"int_eqt\": r\"EQTransformer trained on INSTANCE ($\\rm{M\\\"unchmeyer}$ et al., 2022)\",\n",
    "    \"vol_eqt\": \"EQTransformer retrained in this study\",\n",
    "    \"org_pn\": \"Original PhaseNet (Zhu & Beroza, 2019)\",\n",
    "    \"int_pn\": r\"PhaseNet trained on INSTANCE ($\\rm{M\\\"unchmeyer}$ et al., 2022)\",\n",
    "    \"vol_pn\": \"PhaseNet retrained in this study\",\n",
    "}\n",
    "test_set_names = [\n",
    "    \"Alaska, Hawaii and Japan\",\n",
    "    \"Western United States\",\n",
    "    \"Japan tectonic LFEs\",\n",
    "]\n",
    "\n",
    "fts = 8\n",
    "for i in range(3):\n",
    "    for j in range(2):\n",
    "        if i == 2 and j == 1:\n",
    "            break\n",
    "        # if i == 2 and j == 0:\n",
    "        #     metric_dict = metrics_list[i][metric_names[0]][j]\n",
    "        #     ax = axs[i][1]\n",
    "        # else:\n",
    "        metric_dict = metrics_list[i][metric_names[0]][j]\n",
    "        ax = axs[i][j]\n",
    "\n",
    "        # ax = axs[i][j]\n",
    "\n",
    "        fmt = \"{:.2f}\"\n",
    "        interval = width + 0.0635\n",
    "        for k, (attribute, value) in enumerate(metric_dict.items()):\n",
    "            offset = interval * k\n",
    "            rects = ax.bar(\n",
    "                x + offset,\n",
    "                value,\n",
    "                width,\n",
    "                label=labels[attribute],\n",
    "                # edgecolor=\"white\",\n",
    "                color=colors[k],\n",
    "                # linewidth=3,\n",
    "            )  # ,edgecolor=\"black\",hatch=hatches[k]\n",
    "            ax.bar_label(rects, padding=1.5, fmt=fmt, fontsize=fts - 2.0, color=\"black\")\n",
    "            ax.spines[[\"right\", \"top\"]].set_visible(False)\n",
    "\n",
    "        ax.set_xticks(x + 2.5 * interval, data_types, fontsize=fts)\n",
    "        ax.tick_params(labelsize=fts)\n",
    "        ax.set_ylim([0.0, 1])\n",
    "        ax.set_xlim(x[0] - 0.6 * interval, x[-1] + 5.6 * interval)\n",
    "        ax.yaxis.set_major_locator(MultipleLocator(0.2))\n",
    "        ax.yaxis.set_minor_locator(MultipleLocator(0.05))\n",
    "    # axs[i][0].set_ylabel(metric_names[i], fontsize=fts)\n",
    "    axs[i][0].set_ylabel(test_set_names[i], fontsize=fts)\n",
    "    axs[i][0].text(\n",
    "        0.02,\n",
    "        1.1,\n",
    "        \"(\" + chr(97 + i) + \")\",\n",
    "        verticalalignment=\"top\",\n",
    "        horizontalalignment=\"left\",\n",
    "        # weight=\"bold\",\n",
    "        transform=axs[i][0].transAxes,\n",
    "        fontsize=fts + 3,\n",
    "    )\n",
    "fig.delaxes(axs[2][1])\n",
    "handles, legend_labels = axs[2][1].get_legend_handles_labels()\n",
    "\n",
    "legend_label_order = [0, 2, 4, 1, 3, 5]\n",
    "\n",
    "#\n",
    "leg = axs[1][1].legend(\n",
    "    # [handles[idx] for idx in legend_label_order],\n",
    "    # [legend_labels[idx] for idx in legend_label_order],\n",
    "    markerfirst=True,\n",
    "    handlelength=0.8,\n",
    "    handleheight=1.0,\n",
    "    #   markerscale=5,\n",
    "    loc=\"lower left\",\n",
    "    bbox_to_anchor=(-0.15, -1.18, 1, 1.5),\n",
    "    frameon=False,\n",
    "    fontsize=fts - 1,\n",
    "    # ncols=2,\n",
    "    # columnspacing=0.8,\n",
    "    labelspacing=0.75,\n",
    ")\n",
    "axs[1][1].xaxis.set_tick_params(which=\"both\", labelbottom=True)\n",
    "axs[0][1].set_title(\"VT test set\", y=1.05, fontsize=fts)\n",
    "axs[0][0].set_title(\"LP test set\", y=1.05, fontsize=fts)\n",
    "plt.savefig(\"alt_precision_3_testsets.pdf\", dpi=600, bbox_inches=\"tight\", pad_inches=0)\n",
    "plt.savefig(\"alt_precision_3_testsets.jpg\", dpi=600, bbox_inches=\"tight\", pad_inches=0)"
   ]
  },
  {
   "cell_type": "code",
   "execution_count": 44,
   "metadata": {},
   "outputs": [
    {
     "data": {
      "image/png": "[encoded data removed]",
      "text/plain": [
       "<Figure size 748.031x590.551 with 5 Axes>"
      ]
     },
     "metadata": {},
     "output_type": "display_data"
    }
   ],
   "source": [
    "cm = 1 / 2.54\n",
    "fig, axs = plt.subplots(\n",
    "    3, 2, figsize=(19 * cm, 15 * cm), sharey=\"all\", sharex=\"all\", squeeze=False\n",
    ")  # ,layout=\"constrained\"\n",
    "plt.subplots_adjust(hspace=0.2, wspace=0.15)\n",
    "\n",
    "data_types = (\"P phase picking\", \"S phase picking\")\n",
    "x = np.arange(len(data_types)) * 2.21\n",
    "# x=np.array([0,1.5,3])\n",
    "width = 0.257  # the width of the bars\n",
    "\n",
    "metric_names = [\"Recall\"]\n",
    "colors = [\n",
    "    (164 / 255, 208 / 255, 80 / 255),\n",
    "    (84 / 255, 130 / 255, 53 / 255),\n",
    "    (0 / 255, 176 / 255, 240 / 255),\n",
    "    (0 / 255, 112 / 255, 192 / 255),\n",
    "    (255 / 255, 192 / 255, 0 / 255),\n",
    "    (170 / 255, 80 / 255, 30 / 255),\n",
    "    # (9 / 255, 80 / 255, 153 / 255),\n",
    "    # (0 / 255, 112 / 255, 182 / 255),\n",
    "]\n",
    "# colors = [\"#96DEAE\", \"#008080\", \"#0074B7\", \"#003B73\", \"#D0565C\", \"#880C25\"]\n",
    "colors = [\"#96DEAE\", \"#008080\", \"#0074B7\", \"#024376\", \"#D0565C\", \"#880C25\"]\n",
    "colors = [\"#96DEAE\", \"#008080\", \"#0074B7\", \"#024376\", \"#D0565C\", \"#AE0000\"]\n",
    "# colors = [\"#6988E7\", \"#F05C79\", \"#0074B7\", \"#DC143C\", \"#003B73\", \"#5E091A\"]\n",
    "# colors=[\"teal\",\"teal\",\"darkblue\",\"darkblue\",\"purple\",\"purple\"]\n",
    "hatches = [\"//\", \".\", \"//\", \".\", \"//\", \".\"]\n",
    "alphas = [0.7, 1, 0.7, 1, 0.7, 1]\n",
    "# colors=[\"aquamarine\",\"dodgerblue\",\"orchid\",\"teal\",\"navy\",\"brown\"]\n",
    "# colors = plt.cm.Paired(np.linspace(0, 1, len(metric_names)))\n",
    "labels = {\n",
    "    \"org_eqt\": \"Original EQTransformer (Mousavi et al., 2020)\",\n",
    "    \"org_eqt_nonconservative\": \"Original EQTransformer (Mousavi et al., 2020)\",\n",
    "    \"int_eqt\": r\"EQTransformer trained on INSTANCE ($\\rm{M\\\"unchmeyer}$ et al., 2022)\",\n",
    "    \"vol_eqt\": \"EQTransformer retrained in this study\",\n",
    "    \"org_pn\": \"Original PhaseNet (Zhu & Beroza, 2019)\",\n",
    "    \"int_pn\": r\"PhaseNet trained on INSTANCE ($\\rm{M\\\"unchmeyer}$ et al., 2022)\",\n",
    "    \"vol_pn\": \"PhaseNet retrained in this study\",\n",
    "}\n",
    "test_set_names = [\n",
    "    \"Alaska, Hawaii and Japan\",\n",
    "    \"Western United States\",\n",
    "    \"Japan tectonic LFEs\",\n",
    "]\n",
    "fts = 8\n",
    "for i in range(3):\n",
    "    for j in range(2):\n",
    "        if i == 2 and j == 1:\n",
    "            break\n",
    "        # if i == 2 and j == 0:\n",
    "        #     metric_dict = metrics_list[i][metric_names[0]][j]\n",
    "        #     ax = axs[i][1]\n",
    "        # else:\n",
    "        metric_dict = metrics_list[i][metric_names[0]][j]\n",
    "        ax = axs[i][j]\n",
    "\n",
    "        # ax = axs[i][j]\n",
    "\n",
    "        fmt = \"{:.2f}\"\n",
    "        interval = width + 0.0635\n",
    "        for k, (attribute, value) in enumerate(metric_dict.items()):\n",
    "            offset = interval * k\n",
    "            rects = ax.bar(\n",
    "                x + offset,\n",
    "                value,\n",
    "                width,\n",
    "                label=labels[attribute],\n",
    "                # edgecolor=\"white\",\n",
    "                color=colors[k],\n",
    "                # linewidth=3,\n",
    "            )  # ,edgecolor=\"black\",hatch=hatches[k]\n",
    "            ax.bar_label(rects, padding=1.5, fmt=fmt, fontsize=fts - 2.0, color=\"black\")\n",
    "            ax.spines[[\"right\", \"top\"]].set_visible(False)\n",
    "\n",
    "        ax.set_xticks(x + 2.5 * interval, data_types, fontsize=fts)\n",
    "        ax.tick_params(labelsize=fts)\n",
    "        ax.set_ylim([0.0, 1])\n",
    "        ax.set_xlim(x[0] - 0.6 * interval, x[-1] + 5.6 * interval)\n",
    "        ax.yaxis.set_major_locator(MultipleLocator(0.2))\n",
    "        ax.yaxis.set_minor_locator(MultipleLocator(0.05))\n",
    "    # axs[i][0].set_ylabel(metric_names[i], fontsize=fts)\n",
    "    axs[i][0].set_ylabel(test_set_names[i], fontsize=fts)\n",
    "    axs[i][0].text(\n",
    "        0.02,\n",
    "        1.0,\n",
    "        \"(\" + chr(97 + i) + \")\",\n",
    "        verticalalignment=\"top\",\n",
    "        horizontalalignment=\"left\",\n",
    "        # weight=\"bold\",\n",
    "        transform=axs[i][0].transAxes,\n",
    "        fontsize=fts + 3,\n",
    "    )\n",
    "fig.delaxes(axs[2][1])\n",
    "handles, legend_labels = axs[1][1].get_legend_handles_labels()\n",
    "\n",
    "legend_label_order = [0, 2, 4, 1, 3, 5]\n",
    "\n",
    "#\n",
    "leg = axs[1][1].legend(\n",
    "    # [handles[idx] for idx in legend_label_order],\n",
    "    # [legend_labels[idx] for idx in legend_label_order],\n",
    "    markerfirst=True,\n",
    "    handlelength=0.8,\n",
    "    handleheight=1.0,\n",
    "    #   markerscale=5,\n",
    "    loc=\"lower left\",\n",
    "    bbox_to_anchor=(-0.14, -1.35, 1, 1.5),\n",
    "    frameon=False,\n",
    "    fontsize=fts - 1,\n",
    "    # ncols=2,\n",
    "    # columnspacing=0.8,\n",
    "    labelspacing=0.75,\n",
    ")\n",
    "\n",
    "axs[1][1].xaxis.set_tick_params(which=\"both\", labelbottom=True)\n",
    "axs[0][1].set_title(\"VT test set\", y=1.05, fontsize=fts)\n",
    "axs[0][0].set_title(\"LP test set\", y=1.05, fontsize=fts)\n",
    "plt.savefig(\"alt_recall_3_testsets.pdf\", dpi=600, bbox_inches=\"tight\", pad_inches=0)\n",
    "plt.savefig(\"alt_recall_3_testsets.jpg\", dpi=600, bbox_inches=\"tight\", pad_inches=0)"
   ]
  }
 ],
 "metadata": {
  "kernelspec": {
   "display_name": "seisbench",
   "language": "python",
   "name": "python3"
  },
  "language_info": {
   "codemirror_mode": {
    "name": "ipython",
    "version": 3
   },
   "file_extension": ".py",
   "mimetype": "text/x-python",
   "name": "python",
   "nbconvert_exporter": "python",
   "pygments_lexer": "ipython3",
   "version": "3.9.16"
  },
  "orig_nbformat": 4
 },
 "nbformat": 4,
 "nbformat_minor": 2
}
