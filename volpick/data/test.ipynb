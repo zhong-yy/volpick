{
 "cells": [
  {
   "cell_type": "code",
   "execution_count": 8,
   "metadata": {},
   "outputs": [],
   "source": [
    "import obspy.core.event as obe\n",
    "from obspy import read_events\n",
    "import pandas as pd"
   ]
  },
  {
   "cell_type": "code",
   "execution_count": 2,
   "metadata": {},
   "outputs": [],
   "source": [
    "cat=read_events(\"/mnt/DATA2/YiyuanZhong/lp_data/Alaska/alaska_catalog.xml\")"
   ]
  },
  {
   "cell_type": "code",
   "execution_count": 3,
   "metadata": {},
   "outputs": [
    {
     "data": {
      "text/plain": [
       "121193"
      ]
     },
     "execution_count": 3,
     "metadata": {},
     "output_type": "execute_result"
    }
   ],
   "source": [
    "len(cat)"
   ]
  },
  {
   "cell_type": "code",
   "execution_count": 9,
   "metadata": {},
   "outputs": [
    {
     "data": {
      "text/plain": [
       "Origin\n",
       "\t resource_id: ResourceIdentifier(id=\"smi:local/0422d383-c1ce-4c3d-b97d-b879c8369926\")\n",
       "\t        time: UTCDateTime(1989, 10, 14, 16, 10, 11, 70000)\n",
       "\t   longitude: -152.61833333333334\n",
       "\t    latitude: 61.2315\n",
       "\t       depth: 9.52\n",
       "\t        ---------\n",
       "\t    arrivals: 9 Elements"
      ]
     },
     "execution_count": 9,
     "metadata": {},
     "output_type": "execute_result"
    }
   ],
   "source": [
    "cat.events[-1].preferred_origin()"
   ]
  },
  {
   "cell_type": "code",
   "execution_count": 13,
   "metadata": {},
   "outputs": [
    {
     "data": {
      "text/plain": [
       "'le'"
      ]
     },
     "execution_count": 13,
     "metadata": {},
     "output_type": "execute_result"
    }
   ],
   "source": [
    "cat.events[-1].extra.source_type.value"
   ]
  },
  {
   "cell_type": "code",
   "execution_count": 17,
   "metadata": {},
   "outputs": [
    {
     "data": {
      "text/plain": [
       "'alsk61831353'"
      ]
     },
     "execution_count": 17,
     "metadata": {},
     "output_type": "execute_result"
    }
   ],
   "source": [
    "str(cat.events[-1].resource_id).split(\"/\")[-1]"
   ]
  },
  {
   "cell_type": "code",
   "execution_count": 21,
   "metadata": {},
   "outputs": [
    {
     "ename": "TypeError",
     "evalue": "'print_all' is an invalid keyword argument for print()",
     "output_type": "error",
     "traceback": [
      "\u001b[0;31m---------------------------------------------------------------------------\u001b[0m",
      "\u001b[0;31mTypeError\u001b[0m                                 Traceback (most recent call last)",
      "Cell \u001b[0;32mIn[21], line 1\u001b[0m\n\u001b[0;32m----> 1\u001b[0m \u001b[39mprint\u001b[39;49m(cat,print_all\u001b[39m=\u001b[39;49m\u001b[39mTrue\u001b[39;49;00m)\n",
      "\u001b[0;31mTypeError\u001b[0m: 'print_all' is an invalid keyword argument for print()"
     ]
    }
   ],
   "source": [
    "print(cat,print_all=True)\n"
   ]
  },
  {
   "cell_type": "code",
   "execution_count": 22,
   "metadata": {},
   "outputs": [
    {
     "name": "stdout",
     "output_type": "stream",
     "text": [
      "Event:\t1989-10-12T13:14:35.200000Z | +61.452, -151.237 | 1.1  ml\n",
      "\n",
      "\t            resource_id: ResourceIdentifier(id=\"smi:local/alsk61831343\")\n",
      "\t    preferred_origin_id: ResourceIdentifier(id=\"smi:local/bd1c814e-57b1-4127-b104-cb7090592be3\")\n",
      "\t preferred_magnitude_id: ResourceIdentifier(id=\"smi:local/07bc7a73-7126-4522-a4ef-bd49da76f764\")\n",
      "\t                   ---------\n",
      "\t                  picks: 8 Elements\n",
      "\t                origins: 1 Elements\n",
      "\t             magnitudes: 1 Elements\n",
      "Event:\t1989-10-13T14:49:48.750000Z | +61.227, -152.345 | 0.4  ml\n",
      "\n",
      "\t            resource_id: ResourceIdentifier(id=\"smi:local/alsk61831348\")\n",
      "\t    preferred_origin_id: ResourceIdentifier(id=\"smi:local/b2680429-2e77-464b-8fda-055d5a5f6c2a\")\n",
      "\t preferred_magnitude_id: ResourceIdentifier(id=\"smi:local/e5fe443b-96e1-4f03-a202-a15eed347656\")\n",
      "\t                   ---------\n",
      "\t                  picks: 9 Elements\n",
      "\t                origins: 1 Elements\n",
      "\t             magnitudes: 1 Elements\n",
      "Event:\t1989-10-14T16:10:11.070000Z | +61.231, -152.618 | 0.7  ml\n",
      "\n",
      "\t            resource_id: ResourceIdentifier(id=\"smi:local/alsk61831353\")\n",
      "\t    preferred_origin_id: ResourceIdentifier(id=\"smi:local/0422d383-c1ce-4c3d-b97d-b879c8369926\")\n",
      "\t preferred_magnitude_id: ResourceIdentifier(id=\"smi:local/83f2c5ab-0601-4bea-b900-1a87967fec5a\")\n",
      "\t                   ---------\n",
      "\t                  picks: 9 Elements\n",
      "\t                origins: 1 Elements\n",
      "\t             magnitudes: 1 Elements\n"
     ]
    }
   ],
   "source": [
    "for event in cat.events:\n",
    "    print(event)"
   ]
  },
  {
   "cell_type": "code",
   "execution_count": 27,
   "metadata": {},
   "outputs": [
    {
     "data": {
      "text/plain": [
       "['events', 'comments', 'resource_id', 'description', 'creation_info', 'nsmap']"
      ]
     },
     "execution_count": 27,
     "metadata": {},
     "output_type": "execute_result"
    }
   ],
   "source": [
    "list(cat.__dict__.keys())"
   ]
  },
  {
   "cell_type": "code",
   "execution_count": 30,
   "metadata": {},
   "outputs": [
    {
     "data": {
      "text/plain": [
       "{'events': [Event:\t1989-10-12T13:14:35.200000Z | +61.452, -151.237 | 1.1  ml\n",
       "\n",
       "\t            resource_id: ResourceIdentifier(id=\"smi:local/alsk61831343\")\n",
       "\t    preferred_origin_id: ResourceIdentifier(id=\"smi:local/bd1c814e-57b1-4127-b104-cb7090592be3\")\n",
       "\t preferred_magnitude_id: ResourceIdentifier(id=\"smi:local/07bc7a73-7126-4522-a4ef-bd49da76f764\")\n",
       "\t                   ---------\n",
       "\t                  picks: 8 Elements\n",
       "\t                origins: 1 Elements\n",
       "\t             magnitudes: 1 Elements,\n",
       "  Event:\t1989-10-13T14:49:48.750000Z | +61.227, -152.345 | 0.4  ml\n",
       "\n",
       "\t            resource_id: ResourceIdentifier(id=\"smi:local/alsk61831348\")\n",
       "\t    preferred_origin_id: ResourceIdentifier(id=\"smi:local/b2680429-2e77-464b-8fda-055d5a5f6c2a\")\n",
       "\t preferred_magnitude_id: ResourceIdentifier(id=\"smi:local/e5fe443b-96e1-4f03-a202-a15eed347656\")\n",
       "\t                   ---------\n",
       "\t                  picks: 9 Elements\n",
       "\t                origins: 1 Elements\n",
       "\t             magnitudes: 1 Elements,\n",
       "  Event:\t1989-10-14T16:10:11.070000Z | +61.231, -152.618 | 0.7  ml\n",
       "\n",
       "\t            resource_id: ResourceIdentifier(id=\"smi:local/alsk61831353\")\n",
       "\t    preferred_origin_id: ResourceIdentifier(id=\"smi:local/0422d383-c1ce-4c3d-b97d-b879c8369926\")\n",
       "\t preferred_magnitude_id: ResourceIdentifier(id=\"smi:local/83f2c5ab-0601-4bea-b900-1a87967fec5a\")\n",
       "\t                   ---------\n",
       "\t                  picks: 9 Elements\n",
       "\t                origins: 1 Elements\n",
       "\t             magnitudes: 1 Elements],\n",
       " 'comments': [],\n",
       " 'resource_id': smi:local/ad99b300-a70d-41d3-b629-530fea075e66,\n",
       " 'description': None,\n",
       " 'creation_info': CreationInfo(),\n",
       " 'nsmap': {None: 'http://quakeml.org/xmlns/bed/1.2',\n",
       "  'q': 'http://quakeml.org/xmlns/quakeml/1.2',\n",
       "  'ns0': 'http://some-page.de/xmlns/1.0'}}"
      ]
     },
     "execution_count": 30,
     "metadata": {},
     "output_type": "execute_result"
    }
   ],
   "source": [
    "cat.__dict__"
   ]
  },
  {
   "cell_type": "code",
   "execution_count": 31,
   "metadata": {},
   "outputs": [
    {
     "data": {
      "text/plain": [
       "{'events': [Event:\t1989-10-12T13:14:35.200000Z | +61.452, -151.237 | 1.1  ml\n",
       "\n",
       "\t            resource_id: ResourceIdentifier(id=\"smi:local/alsk61831343\")\n",
       "\t    preferred_origin_id: ResourceIdentifier(id=\"smi:local/bd1c814e-57b1-4127-b104-cb7090592be3\")\n",
       "\t preferred_magnitude_id: ResourceIdentifier(id=\"smi:local/07bc7a73-7126-4522-a4ef-bd49da76f764\")\n",
       "\t                   ---------\n",
       "\t                  picks: 8 Elements\n",
       "\t                origins: 1 Elements\n",
       "\t             magnitudes: 1 Elements,\n",
       "  Event:\t1989-10-13T14:49:48.750000Z | +61.227, -152.345 | 0.4  ml\n",
       "\n",
       "\t            resource_id: ResourceIdentifier(id=\"smi:local/alsk61831348\")\n",
       "\t    preferred_origin_id: ResourceIdentifier(id=\"smi:local/b2680429-2e77-464b-8fda-055d5a5f6c2a\")\n",
       "\t preferred_magnitude_id: ResourceIdentifier(id=\"smi:local/e5fe443b-96e1-4f03-a202-a15eed347656\")\n",
       "\t                   ---------\n",
       "\t                  picks: 9 Elements\n",
       "\t                origins: 1 Elements\n",
       "\t             magnitudes: 1 Elements,\n",
       "  Event:\t1989-10-14T16:10:11.070000Z | +61.231, -152.618 | 0.7  ml\n",
       "\n",
       "\t            resource_id: ResourceIdentifier(id=\"smi:local/alsk61831353\")\n",
       "\t    preferred_origin_id: ResourceIdentifier(id=\"smi:local/0422d383-c1ce-4c3d-b97d-b879c8369926\")\n",
       "\t preferred_magnitude_id: ResourceIdentifier(id=\"smi:local/83f2c5ab-0601-4bea-b900-1a87967fec5a\")\n",
       "\t                   ---------\n",
       "\t                  picks: 9 Elements\n",
       "\t                origins: 1 Elements\n",
       "\t             magnitudes: 1 Elements],\n",
       " 'comments': [],\n",
       " 'resource_id': smi:local/ad99b300-a70d-41d3-b629-530fea075e66,\n",
       " 'description': None,\n",
       " 'creation_info': CreationInfo(),\n",
       " 'nsmap': {None: 'http://quakeml.org/xmlns/bed/1.2',\n",
       "  'q': 'http://quakeml.org/xmlns/quakeml/1.2',\n",
       "  'ns0': 'http://some-page.de/xmlns/1.0'}}"
      ]
     },
     "execution_count": 31,
     "metadata": {},
     "output_type": "execute_result"
    }
   ],
   "source": [
    "vars(cat)"
   ]
  },
  {
   "cell_type": "code",
   "execution_count": 25,
   "metadata": {},
   "outputs": [
    {
     "data": {
      "text/plain": [
       "61.45183333333333"
      ]
     },
     "execution_count": 25,
     "metadata": {},
     "output_type": "execute_result"
    }
   ],
   "source": [
    "cat.events[0].preferred_origin().latitude"
   ]
  },
  {
   "cell_type": "code",
   "execution_count": 1,
   "metadata": {},
   "outputs": [],
   "source": [
    "from data import *"
   ]
  },
  {
   "cell_type": "code",
   "execution_count": 2,
   "metadata": {},
   "outputs": [],
   "source": [
    "alsk=AlaskaDataset()\n",
    "alsk.read(pathname=\"./alaska_catalog.xml\")"
   ]
  },
  {
   "cell_type": "code",
   "execution_count": null,
   "metadata": {},
   "outputs": [],
   "source": []
  },
  {
   "cell_type": "code",
   "execution_count": 8,
   "metadata": {},
   "outputs": [
    {
     "data": {
      "text/plain": [
       "624201275.2"
      ]
     },
     "execution_count": 8,
     "metadata": {},
     "output_type": "execute_result"
    }
   ],
   "source": [
    "alsk.events[0].origins[0].time.timestamp"
   ]
  },
  {
   "cell_type": "code",
   "execution_count": 4,
   "metadata": {},
   "outputs": [
    {
     "data": {
      "text/plain": [
       "Magnitude\n",
       "\t    resource_id: ResourceIdentifier(id=\"smi:local/07bc7a73-7126-4522-a4ef-bd49da76f764\")\n",
       "\t            mag: 1.1\n",
       "\t magnitude_type: 'ml'\n",
       "\t      origin_id: ResourceIdentifier(id=\"smi:local/bd1c814e-57b1-4127-b104-cb7090592be3\")"
      ]
     },
     "execution_count": 4,
     "metadata": {},
     "output_type": "execute_result"
    }
   ],
   "source": [
    "alsk.events[0].preferred_magnitude()"
   ]
  },
  {
   "cell_type": "code",
   "execution_count": 5,
   "metadata": {},
   "outputs": [
    {
     "data": {
      "text/plain": [
       "1989-10-12T13:14:35.200000Z"
      ]
     },
     "execution_count": 5,
     "metadata": {},
     "output_type": "execute_result"
    }
   ],
   "source": [
    "alsk.events[0].origins[0].time"
   ]
  },
  {
   "cell_type": "code",
   "execution_count": 6,
   "metadata": {},
   "outputs": [
    {
     "name": "stdout",
     "output_type": "stream",
     "text": [
      "Event alsk61831353: 1989-10-12T13:14:35.200000Z| 61.4518, -151.2367 | 1.1 ml\n",
      "Event alsk61831353: 1989-10-13T14:49:48.750000Z| 61.2267, -152.3445 | 0.4 ml\n",
      "Event alsk61831353: 1989-10-14T16:10:11.070000Z| 61.2315, -152.6183 | 0.7 ml\n"
     ]
    }
   ],
   "source": [
    "alsk.display()"
   ]
  },
  {
   "cell_type": "code",
   "execution_count": 6,
   "metadata": {},
   "outputs": [],
   "source": [
    "import pandas as pd\n",
    "# catalog_table = pd.read_csv(\"/home/zhongyiyuan/DATA/Alaska_data//alaska_catalog.csv\")"
   ]
  },
  {
   "cell_type": "code",
   "execution_count": 31,
   "metadata": {},
   "outputs": [],
   "source": [
    "catalog_table=pd.read_csv(\"/home/zhongyiyuan/DATA/lp_data/Alaska/alaska_catalog.csv\")"
   ]
  },
  {
   "cell_type": "code",
   "execution_count": 33,
   "metadata": {},
   "outputs": [],
   "source": [
    "catalog_table.drop(catalog_table.index,inplace=True)"
   ]
  },
  {
   "cell_type": "code",
   "execution_count": 29,
   "metadata": {},
   "outputs": [
    {
     "name": "stdout",
     "output_type": "stream",
     "text": [
      "<class 'pandas.core.frame.DataFrame'>\n",
      "RangeIndex: 0 entries\n",
      "Data columns (total 17 columns):\n",
      " #   Column                 Non-Null Count  Dtype  \n",
      "---  ------                 --------------  -----  \n",
      " 0   source_id              0 non-null      object \n",
      " 1   source_origin_time     0 non-null      object \n",
      " 2   source_latitude_deg    0 non-null      float64\n",
      " 3   source_longitude_deg   0 non-null      float64\n",
      " 4   source_depth_km        0 non-null      float64\n",
      " 5   source_magnitude       0 non-null      float64\n",
      " 6   source_magnitude_type  0 non-null      object \n",
      " 7   source_type            0 non-null      object \n",
      " 8   station_network_code   0 non-null      object \n",
      " 9   station_code           0 non-null      object \n",
      " 10  station_location_code  0 non-null      object \n",
      " 11  trace_channel          0 non-null      object \n",
      " 12  trace_p_arrival_time   0 non-null      object \n",
      " 13  trace_s_arrival_time   0 non-null      object \n",
      " 14  trace_p_min_weight     0 non-null      float64\n",
      " 15  trace_s_min_weight     0 non-null      float64\n",
      " 16  trace_p_first_motion   0 non-null      object \n",
      "dtypes: float64(6), object(11)\n",
      "memory usage: 124.0+ bytes\n"
     ]
    }
   ],
   "source": [
    "catalog_table.info()"
   ]
  },
  {
   "cell_type": "code",
   "execution_count": 32,
   "metadata": {},
   "outputs": [
    {
     "name": "stdout",
     "output_type": "stream",
     "text": [
      "<class 'pandas.core.frame.DataFrame'>\n",
      "Int64Index: 97134 entries, 48 to 881732\n",
      "Data columns (total 17 columns):\n",
      " #   Column                 Non-Null Count  Dtype  \n",
      "---  ------                 --------------  -----  \n",
      " 0   source_id              97134 non-null  object \n",
      " 1   source_origin_time     97134 non-null  object \n",
      " 2   source_latitude_deg    97134 non-null  float64\n",
      " 3   source_longitude_deg   97134 non-null  float64\n",
      " 4   source_depth_km        97134 non-null  float64\n",
      " 5   source_magnitude       97134 non-null  float64\n",
      " 6   source_magnitude_type  97134 non-null  object \n",
      " 7   source_type            97134 non-null  object \n",
      " 8   station_network_code   97134 non-null  object \n",
      " 9   station_code           97134 non-null  object \n",
      " 10  station_location_code  97134 non-null  object \n",
      " 11  trace_channel          97134 non-null  object \n",
      " 12  trace_p_arrival_time   91862 non-null  object \n",
      " 13  trace_s_arrival_time   69147 non-null  object \n",
      " 14  trace_p_min_weight     91862 non-null  float64\n",
      " 15  trace_s_min_weight     69147 non-null  float64\n",
      " 16  trace_p_first_motion   29068 non-null  object \n",
      "dtypes: float64(6), object(11)\n",
      "memory usage: 13.3+ MB\n"
     ]
    }
   ],
   "source": [
    "lp_metadata=catalog_table[catalog_table[\"source_type\"]==\"lp\"]\n",
    "lp_metadata.info()"
   ]
  },
  {
   "cell_type": "code",
   "execution_count": 27,
   "metadata": {},
   "outputs": [
    {
     "data": {
      "text/plain": [
       "48        lp\n",
       "51        lp\n",
       "130       lp\n",
       "131       lp\n",
       "132       lp\n",
       "          ..\n",
       "881715    lp\n",
       "881729    lp\n",
       "881730    lp\n",
       "881731    lp\n",
       "881732    lp\n",
       "Name: source_type, Length: 63875, dtype: object"
      ]
     },
     "execution_count": 27,
     "metadata": {},
     "output_type": "execute_result"
    }
   ],
   "source": [
    "lp_metadata[\"source_type\"]"
   ]
  },
  {
   "cell_type": "code",
   "execution_count": 25,
   "metadata": {},
   "outputs": [],
   "source": [
    "lp_metadata=lp_metadata[(pd.notna(lp_metadata[\"trace_s_arrival_time\"])) &(pd.notna(lp_metadata[\"trace_p_arrival_time\"]))]"
   ]
  },
  {
   "cell_type": "code",
   "execution_count": 34,
   "metadata": {},
   "outputs": [
    {
     "name": "stdout",
     "output_type": "stream",
     "text": [
      "<class 'pandas.core.frame.DataFrame'>\n",
      "Int64Index: 97134 entries, 48 to 881732\n",
      "Data columns (total 17 columns):\n",
      " #   Column                 Non-Null Count  Dtype  \n",
      "---  ------                 --------------  -----  \n",
      " 0   source_id              97134 non-null  object \n",
      " 1   source_origin_time     97134 non-null  object \n",
      " 2   source_latitude_deg    97134 non-null  float64\n",
      " 3   source_longitude_deg   97134 non-null  float64\n",
      " 4   source_depth_km        97134 non-null  float64\n",
      " 5   source_magnitude       97134 non-null  float64\n",
      " 6   source_magnitude_type  97134 non-null  object \n",
      " 7   source_type            97134 non-null  object \n",
      " 8   station_network_code   97134 non-null  object \n",
      " 9   station_code           97134 non-null  object \n",
      " 10  station_location_code  97134 non-null  object \n",
      " 11  trace_channel          97134 non-null  object \n",
      " 12  trace_p_arrival_time   91862 non-null  object \n",
      " 13  trace_s_arrival_time   69147 non-null  object \n",
      " 14  trace_p_min_weight     91862 non-null  float64\n",
      " 15  trace_s_min_weight     69147 non-null  float64\n",
      " 16  trace_p_first_motion   29068 non-null  object \n",
      "dtypes: float64(6), object(11)\n",
      "memory usage: 13.3+ MB\n"
     ]
    }
   ],
   "source": [
    "lp_metadata.info()"
   ]
  },
  {
   "cell_type": "code",
   "execution_count": 14,
   "metadata": {},
   "outputs": [],
   "source": [
    "import sys"
   ]
  },
  {
   "cell_type": "code",
   "execution_count": 19,
   "metadata": {},
   "outputs": [
    {
     "data": {
      "text/plain": [
       "15.4970703125"
      ]
     },
     "execution_count": 19,
     "metadata": {},
     "output_type": "execute_result"
    }
   ],
   "source": [
    "sys.getsizeof(catalog_table)/1024"
   ]
  },
  {
   "cell_type": "code",
   "execution_count": 23,
   "metadata": {},
   "outputs": [
    {
     "data": {
      "text/plain": [
       "0.2421875"
      ]
     },
     "execution_count": 23,
     "metadata": {},
     "output_type": "execute_result"
    }
   ],
   "source": [
    "aa=catalog_table.to_dict(\"records\")\n",
    "sys.getsizeof(aa)/1024"
   ]
  },
  {
   "cell_type": "code",
   "execution_count": 26,
   "metadata": {},
   "outputs": [
    {
     "data": {
      "text/plain": [
       "True"
      ]
     },
     "execution_count": 26,
     "metadata": {},
     "output_type": "execute_result"
    }
   ],
   "source": [
    "pd.isna(aa[0][\"trace_s_min_weight\"])"
   ]
  },
  {
   "cell_type": "code",
   "execution_count": 55,
   "metadata": {},
   "outputs": [
    {
     "name": "stdout",
     "output_type": "stream",
     "text": [
      "alsk61766333 1999-09-15T00:30:22.190000Z 1999-09-15T00:30:23.710000Z\n",
      "<class 'pandas.core.frame.myname'>\n",
      "alsk61766333 1999-09-15T00:30:22.190000Z 1999-09-15T00:30:22.690000Z\n",
      "<class 'pandas.core.frame.myname'>\n",
      "alsk61766333 1999-09-15T00:30:22.190000Z 1999-09-15T00:30:23.180000Z\n",
      "<class 'pandas.core.frame.myname'>\n",
      "alsk61766333 1999-09-15T00:30:22.190000Z 1999-09-15T00:30:23.480000Z\n",
      "<class 'pandas.core.frame.myname'>\n",
      "alsk61766333 1999-09-15T00:30:22.190000Z 1999-09-15T00:30:23.460000Z\n",
      "<class 'pandas.core.frame.myname'>\n",
      "alsk61766333 1999-09-15T00:30:22.190000Z 1999-09-15T00:30:22.540000Z\n",
      "<class 'pandas.core.frame.myname'>\n",
      "alsk61766333 1999-09-15T00:30:22.190000Z 1999-09-15T00:30:22.440000Z\n",
      "<class 'pandas.core.frame.myname'>\n",
      "alsk61766333 1999-09-15T00:30:22.190000Z 1999-09-15T00:30:22.550000Z\n",
      "<class 'pandas.core.frame.myname'>\n",
      "alsk61766333 1999-09-15T00:30:22.190000Z 1999-09-15T00:30:23.270000Z\n",
      "<class 'pandas.core.frame.myname'>\n",
      "alsk61766338 1999-09-15T07:34:15.000000Z 1999-09-15T07:34:17.153333Z\n",
      "<class 'pandas.core.frame.myname'>\n",
      "alsk61766338 1999-09-15T07:34:15.000000Z 1999-09-15T07:34:18.880000Z\n",
      "<class 'pandas.core.frame.myname'>\n",
      "alsk61766338 1999-09-15T07:34:15.000000Z 1999-09-15T07:34:18.870000Z\n",
      "<class 'pandas.core.frame.myname'>\n",
      "alsk61766338 1999-09-15T07:34:15.000000Z 1999-09-15T07:34:16.200000Z\n",
      "<class 'pandas.core.frame.myname'>\n",
      "alsk61766338 1999-09-15T07:34:15.000000Z 1999-09-15T07:34:15.880000Z\n",
      "<class 'pandas.core.frame.myname'>\n",
      "alsk61766338 1999-09-15T07:34:15.000000Z 1999-09-15T07:34:16.723333Z\n",
      "<class 'pandas.core.frame.myname'>\n",
      "alsk61766338 1999-09-15T07:34:15.000000Z 1999-09-15T07:34:18.500000Z\n",
      "<class 'pandas.core.frame.myname'>\n",
      "alsk61766338 1999-09-15T07:34:15.000000Z 1999-09-15T07:34:17.500000Z\n",
      "<class 'pandas.core.frame.myname'>\n",
      "alsk61766343 1999-09-15T07:34:44.790000Z 1999-09-15T07:34:46.973333Z\n",
      "<class 'pandas.core.frame.myname'>\n",
      "alsk61766343 1999-09-15T07:34:44.790000Z 1999-09-15T07:34:45.930000Z\n",
      "<class 'pandas.core.frame.myname'>\n",
      "alsk61766343 1999-09-15T07:34:44.790000Z 1999-09-15T07:34:45.640000Z\n",
      "<class 'pandas.core.frame.myname'>\n",
      "alsk61766343 1999-09-15T07:34:44.790000Z 1999-09-15T07:34:46.450000Z\n",
      "<class 'pandas.core.frame.myname'>\n"
     ]
    }
   ],
   "source": [
    "for x in catalog_table.itertuples(name=\"myname\"):\n",
    "    print(x.source_id,x.source_origin_time,x.trace_p_arrival_time)\n",
    "    print(type(x))"
   ]
  },
  {
   "cell_type": "code",
   "execution_count": 70,
   "metadata": {},
   "outputs": [
    {
     "name": "stdout",
     "output_type": "stream",
     "text": [
      "False nan\n",
      "True 1999-09-15T00:30:23.020000Z\n",
      "True 1999-09-15T00:30:23.950000Z\n",
      "True 1999-09-15T00:30:24.030000Z\n",
      "True 1999-09-15T00:30:23.920000Z\n",
      "True 1999-09-15T00:30:22.700000Z\n",
      "True 1999-09-15T00:30:22.780000Z\n",
      "True 1999-09-15T00:30:22.700000Z\n",
      "True 1999-09-15T00:30:24.180000Z\n",
      "True 1999-09-15T07:34:18.763333Z\n",
      "True 1999-09-15T07:34:22.070000Z\n",
      "False nan\n",
      "True 1999-09-15T07:34:17.100000Z\n",
      "False nan\n",
      "True 1999-09-15T07:34:18.035000Z\n",
      "True 1999-09-15T07:34:21.200000Z\n",
      "False nan\n",
      "True 1999-09-15T07:34:48.406667Z\n",
      "True 1999-09-15T07:34:46.820000Z\n",
      "False nan\n",
      "True 1999-09-15T07:34:47.720000Z\n"
     ]
    }
   ],
   "source": [
    "for x in catalog_table.itertuples(name=\"myname\"):\n",
    "    print(not pd.isna(x.trace_s_arrival_time), x.trace_s_arrival_time)\n",
    "    # print(type(x))"
   ]
  },
  {
   "cell_type": "code",
   "execution_count": 81,
   "metadata": {},
   "outputs": [
    {
     "data": {
      "text/plain": [
       "True"
      ]
     },
     "execution_count": 81,
     "metadata": {},
     "output_type": "execute_result"
    }
   ],
   "source": [
    "pd.isna(catalog_table[\"trace_s_arrival_time\"][0])\n",
    "#    print(\"x\")\n"
   ]
  },
  {
   "cell_type": "code",
   "execution_count": 86,
   "metadata": {},
   "outputs": [],
   "source": [
    "a=np.nan\n",
    "b=None"
   ]
  },
  {
   "cell_type": "code",
   "execution_count": 89,
   "metadata": {},
   "outputs": [
    {
     "name": "stdout",
     "output_type": "stream",
     "text": [
      "x\n"
     ]
    }
   ],
   "source": [
    "if a is None or b is None:\n",
    "    print(\"x\")"
   ]
  },
  {
   "cell_type": "code",
   "execution_count": null,
   "metadata": {},
   "outputs": [],
   "source": []
  },
  {
   "cell_type": "code",
   "execution_count": 34,
   "metadata": {},
   "outputs": [
    {
     "name": "stdout",
     "output_type": "stream",
     "text": [
      "505 µs ± 9.29 µs per loop (mean ± std. dev. of 7 runs, 1,000 loops each)\n"
     ]
    }
   ],
   "source": [
    "%%timeit\n",
    "for x in catalog_table.iterrows():\n",
    "    pass"
   ]
  },
  {
   "cell_type": "code",
   "execution_count": 36,
   "metadata": {},
   "outputs": [
    {
     "name": "stdout",
     "output_type": "stream",
     "text": [
      "647 µs ± 12.1 µs per loop (mean ± std. dev. of 7 runs, 1,000 loops each)\n"
     ]
    }
   ],
   "source": [
    "%%timeit\n",
    "aa=catalog_table.to_dict(\"records\")\n",
    "for x in aa:\n",
    "    pass"
   ]
  },
  {
   "cell_type": "code",
   "execution_count": 40,
   "metadata": {},
   "outputs": [],
   "source": [
    "from obspy import read_inventory"
   ]
  },
  {
   "cell_type": "code",
   "execution_count": 41,
   "metadata": {},
   "outputs": [],
   "source": [
    "inv=read_inventory(\"/home/zhongyiyuan/DATA/Alaska_data/Catalog_readable_format/iris_stations.xml\")"
   ]
  },
  {
   "cell_type": "code",
   "execution_count": 93,
   "metadata": {},
   "outputs": [
    {
     "data": {
      "text/plain": [
       "44.0"
      ]
     },
     "execution_count": 93,
     "metadata": {},
     "output_type": "execute_result"
    }
   ],
   "source": [
    "inv[0][0].elevation"
   ]
  },
  {
   "cell_type": "code",
   "execution_count": 46,
   "metadata": {},
   "outputs": [
    {
     "data": {
      "text/plain": [
       "Network 1A (NCISP6 ())\n",
       "\tStation Count: 60/60 (Selected/Total)\n",
       "\t2007-01-01T00:00:00.000000Z - 2008-12-31T23:59:59.999900Z\n",
       "\tAccess: open\n",
       "\tContains:\n",
       "\t\tStations (60):\n",
       "\t\t\t1A.NE00 (Zhenxing, Dandong, Liaoning, China)\n",
       "\t\t\t1A.NE01 (Donggang, Dandong, Liaoning,China)\n",
       "\t\t\t1A.NE02 (Donggang, Dandong, Liaoning,China)\n",
       "\t\t\t1A.NE03 (Donggang, Dandong, Liaoning,China)\n",
       "\t\t\t1A.NE04 (Fengcheng, Dandong, Liaoning, China)\n",
       "\t\t\t1A.NE05 (Fengcheng, Dandong, Liaoning, China)\n",
       "\t\t\t1A.NE06 (Fengcheng, Dandong, Liaoning, China)\n",
       "\t\t\t1A.NE07 (Xiuyan, Anshan, Liaoning, China)\n",
       "\t\t\t1A.NE08 (Xiuyan, Anshan, Liaoning, China)\n",
       "\t\t\t1A.NE09 (Xiuyan, Anshan, Liaoning, China)\n",
       "\t\t\t1A.NE10 (Xiuyan, Anshan, Liaoning, China)\n",
       "\t\t\t1A.NE11 (Liaoyang, Liaoning,China)\n",
       "\t\t\t1A.NE12 (Liaoyang, Liaoning,China)\n",
       "\t\t\t1A.NE14 (Qianshan, Anshan, Liaoning, China)\n",
       "\t\t\t1A.NE15 (Tiedong Qu, Anshan Shi,Liaoning,China)\n",
       "\t\t\t1A.NE16 (Liaoyang,Liaoning,China)\n",
       "\t\t\t1A.NE17 (Liaozhong, Shenyang, Liaoning, China)\n",
       "\t\t\t1A.NE18 (Tai'an, Anshan, Liaoning,China)\n",
       "\t\t\t1A.NE19 (Tai'an,Anshan,Liaoning,China)\n",
       "\t\t\t1A.NE20 (Tai'an, China)\n",
       "\t\t\t1A.NE21 (Heishan, Jinzhou, Liaoning, China)\n",
       "\t\t\t1A.NE22 (Heishan, Jinzhou,Liaoning, China)\n",
       "\t\t\t1A.NE23 (Fuxin, Liaoning, China)\n",
       "\t\t\t1A.NE24 (Fuxin, Liaoning, China)\n",
       "\t\t\t1A.NE25 (Fuxin, Liaoning, China)\n",
       "\t\t\t1A.NE26 (Fuxin, Liaoning, China)\n",
       "\t\t\t1A.NE27 (Fuxin, Liaoning, China)\n",
       "\t\t\t1A.NE28 (Hure, Tongliao, Inner Mongolia, China)\n",
       "\t\t\t1A.NE29 (Naiman, Tongliao, Inner Mongolia, China)\n",
       "\t\t\t1A.NE30 (Naiman, Tongliao, Inner Mongolia, China)\n",
       "\t\t\t1A.NE31 (Naiman, Tongliao, Inner Mongolia, China)\n",
       "\t\t\t1A.NE32 (Naiman, Tongliao, Inner Mongolia, China)\n",
       "\t\t\t1A.NE33 (Naiman, Tongliao, Inner Mongolia, China)\n",
       "\t\t\t1A.NE34 (Ongniud, Chifeng, Inner Mongolia, China)\n",
       "\t\t\t1A.NE35 (Ongniud, Chifeng, Inner Mongolia, China)\n",
       "\t\t\t1A.NE36 (Bairin Youqi, Chifeng, Inner Mongolia, China)\n",
       "\t\t\t1A.NE37 (Bairin Youqi, Chifeng, Inner Mongolia, China)\n",
       "\t\t\t1A.NE38 (Ar Horqin, Chifeng, Inner Mongolia ,China)\n",
       "\t\t\t1A.NE39 (Bairin Zuoqi, Chifeng, Inner Mongolia, China)\n",
       "\t\t\t1A.NE40 (Bairin Zuoqi, Chifeng, Inner Mongolia, China)\n",
       "\t\t\t1A.NE41 (Bairin Zuoqi, Chifeng, Inner Mongolia, China)\n",
       "\t\t\t1A.NE42 (Bairin Zuoqi, Chifeng, Inner Mongolia, China)\n",
       "\t\t\t1A.NE43 (Bairin Zuoqi, Chifeng, Inner Mongolia, China)\n",
       "\t\t\t1A.NE44 (Bairin Zuoqi, Chifeng, Inner Mongolia, China)\n",
       "\t\t\t1A.NE45 (Bairin Zuoqi, Chifeng, Inner Mongolia, China)\n",
       "\t\t\t1A.NE46 (West Ujimqin, Xilin Gol, Inner Mongolia, China)\n",
       "\t\t\t1A.NE47 (West Ujimqin, Xilin Gol, Inner Mongolia, China)\n",
       "\t\t\t1A.NE48 (West Ujimqin, Xilin Gol, Inner Mongolia, China)\n",
       "\t\t\t1A.NE49 (West Ujimqin, Xilin Gol, Inner Mongolia, China)\n",
       "\t\t\t1A.NE50 (West Ujimqin, Xilin Gol, Inner Mongolia, China)\n",
       "\t\t\t1A.NE51 (West Ujimqin, Xilin Gol, Inner Mongolia, China)\n",
       "\t\t\t1A.NE52 (West Ujimqin, Xilin Gol, Inner Mongolia, China)\n",
       "\t\t\t1A.NE53 (East Ujimqin, Xilin Gol, Inner Mongolia, China)\n",
       "\t\t\t1A.NE54 (East Ujimqin, Xilin Gol, Inner Mongolia, China)\n",
       "\t\t\t1A.NE55 (East Ujimqin, Xilin Gol, Inner Mongolia, China)\n",
       "\t\t\t1A.NE56 (East Ujimqin, Xilin Gol, Inner Mongolia, China)\n",
       "\t\t\t1A.NE57 (East Ujimqin, Xilin Gol, Inner Mongolia, China)\n",
       "\t\t\t1A.NE58 (East Ujimqin, Xilin Gol, Inner Mongolia, China)\n",
       "\t\t\t1A.NE59 (East Ujimqin, Xilin Gol, Inner Mongolia, China)\n",
       "\t\t\t1A.NE60 (East Ujimqin, Xilin Gol, Inner Mongolia, China)\n",
       "\t\tChannels (0):\n"
      ]
     },
     "execution_count": 46,
     "metadata": {},
     "output_type": "execute_result"
    }
   ],
   "source": [
    "sys.getsi"
   ]
  }
 ],
 "metadata": {
  "kernelspec": {
   "display_name": "seisbench_v0.3",
   "language": "python",
   "name": "python3"
  },
  "language_info": {
   "codemirror_mode": {
    "name": "ipython",
    "version": 3
   },
   "file_extension": ".py",
   "mimetype": "text/x-python",
   "name": "python",
   "nbconvert_exporter": "python",
   "pygments_lexer": "ipython3",
   "version": "3.9.16"
  },
  "orig_nbformat": 4
 },
 "nbformat": 4,
 "nbformat_minor": 2
}
