{
 "cells": [
  {
   "cell_type": "markdown",
   "metadata": {},
   "source": [
    "# Import"
   ]
  },
  {
   "cell_type": "code",
   "execution_count": 1,
   "metadata": {},
   "outputs": [],
   "source": [
    "%load_ext autoreload\n",
    "%autoreload 2\n",
    "from torch.utils.data import DataLoader\n",
    "import torch\n",
    "import pytorch_lightning as pl\n",
    "from pathlib import Path\n",
    "import os\n",
    "import time\n",
    "import datetime\n",
    "import yaml\n",
    "import pandas as pd\n",
    "import numpy as np\n",
    "\n",
    "import matplotlib.pyplot as plt\n",
    "from matplotlib.ticker import (MultipleLocator, FormatStrFormatter, AutoMinorLocator)\n",
    "\n",
    "import logging\n",
    "\n",
    "from tqdm.notebook import tqdm\n",
    "\n",
    "import volpick.model.models as models\n",
    "import seisbench.models as sbm\n",
    "import seisbench.generate as sbg\n",
    "from volpick.model.utils import load_best_model_from_base_dir,load_best_model,plot_prediction_examples\n",
    "import seisbench.data as sbd\n",
    "from volpick.model.generate_eval_targets import generate_task0, generate_task1, generate_task23\n",
    "\n",
    "from obspy.signal.trigger import recursive_sta_lta, trigger_onset\n",
    "from volpick.model.models import phase_dict\n",
    "from volpick.model.eval_taks0 import evaluate, get_ground_truth, count_TP_FP_FN, compute_residuals, calculate_precision_recall_F1score, eval_task0, opt_prob_metrics, collect_task0_results,collect_task0_results_dev\n",
    "from volpick.model.eval_taks123 import eval_tasks123,collect_task123_results\n",
    "\n",
    "import json\n",
    "\n",
    "from sklearn.metrics import roc_curve, precision_recall_curve, roc_auc_score"
   ]
  },
  {
   "cell_type": "code",
   "execution_count": 2,
   "metadata": {},
   "outputs": [
    {
     "name": "stdout",
     "output_type": "stream",
     "text": [
      "True\n",
      "[ True  True]\n"
     ]
    }
   ],
   "source": [
    "def lteq(a, b):\n",
    "    \"\"\"return a<=b\"\"\"\n",
    "    return (a < b) | (abs(a - b) < 1e-12)  # parentheses are important!!!\n",
    "\n",
    "\n",
    "print(lteq(10, 20))\n",
    "print(lteq(np.array([10.0, 20.0]), 20.0))"
   ]
  },
  {
   "cell_type": "markdown",
   "metadata": {},
   "source": [
    "# Load data"
   ]
  },
  {
   "cell_type": "code",
   "execution_count": 3,
   "metadata": {},
   "outputs": [
    {
     "name": "stderr",
     "output_type": "stream",
     "text": [
      "Preloading waveforms: 100%|██████████| 35120/35120 [00:05<00:00, 6709.42it/s] \n"
     ]
    }
   ],
   "source": [
    "data_path = Path(\"/home/zhongyiyuan/DATA/my_datasets_seisbench/vcseis\")\n",
    "\n",
    "dataset = sbd.WaveformDataset(\n",
    "    data_path,\n",
    "    sampling_rate=100,\n",
    "    component_order=\"ZNE\",\n",
    "    dimension_order=\"NCW\",\n",
    "    cache=\"full\",\n",
    ")\n",
    "dataset.filter(dataset[\"split\"].isin([\"test\"]), inplace=True)\n",
    "dataset.preload_waveforms(pbar=True)\n",
    "\n",
    "# print(len(dataset))"
   ]
  },
  {
   "cell_type": "code",
   "execution_count": 4,
   "metadata": {},
   "outputs": [
    {
     "data": {
      "text/plain": [
       "True"
      ]
     },
     "execution_count": 4,
     "metadata": {},
     "output_type": "execute_result"
    }
   ],
   "source": [
    "data_eq = dataset.filter(dataset[\"source_type\"] != \"noise\", inplace=False).test()\n",
    "np.all((data_eq[\"split\"] == \"test\").values)"
   ]
  },
  {
   "cell_type": "code",
   "execution_count": 5,
   "metadata": {},
   "outputs": [
    {
     "name": "stderr",
     "output_type": "stream",
     "text": [
      "Preloading waveforms: 100%|██████████| 35120/35120 [00:05<00:00, 6734.99it/s] \n"
     ]
    }
   ],
   "source": [
    "data_path = Path(\"/home/zhongyiyuan/DATA/my_datasets_seisbench/vcseis\")\n",
    "\n",
    "dataset_ENZ = sbd.WaveformDataset(\n",
    "    data_path,\n",
    "    sampling_rate=100,\n",
    "    component_order=\"ENZ\",\n",
    "    dimension_order=\"NCW\",\n",
    "    cache=\"full\",\n",
    ")\n",
    "dataset_ENZ.filter(dataset_ENZ[\"split\"].isin([\"test\"]), inplace=True)\n",
    "dataset_ENZ.preload_waveforms(pbar=True)"
   ]
  },
  {
   "cell_type": "code",
   "execution_count": 6,
   "metadata": {},
   "outputs": [
    {
     "data": {
      "text/plain": [
       "True"
      ]
     },
     "execution_count": 6,
     "metadata": {},
     "output_type": "execute_result"
    }
   ],
   "source": [
    "data_eq_ENZ = dataset_ENZ.filter(\n",
    "    dataset_ENZ[\"source_type\"] != \"noise\", inplace=False\n",
    ").test()\n",
    "np.all((data_eq_ENZ[\"split\"] == \"test\").values)"
   ]
  },
  {
   "cell_type": "markdown",
   "metadata": {},
   "source": [
    "# Load models"
   ]
  },
  {
   "cell_type": "code",
   "execution_count": 7,
   "metadata": {},
   "outputs": [
    {
     "name": "stdout",
     "output_type": "stream",
     "text": [
      "['Detection', 'P', 'S']\n",
      "PSN\n",
      "peak\n",
      "peak\n",
      "cuda:0\n",
      "cuda:0\n"
     ]
    }
   ],
   "source": [
    "vol_eqt = sbm.EQTransformer.from_pretrained(\"volpick\")\n",
    "vol_eqt.cuda()\n",
    "vol_pn = sbm.PhaseNet.from_pretrained(\"volpick\")\n",
    "vol_pn.cuda()\n",
    "print(vol_eqt.labels)\n",
    "print(vol_pn.labels)\n",
    "print(vol_eqt.norm)\n",
    "print(vol_pn.norm)\n",
    "print(vol_eqt.device)\n",
    "print(vol_pn.device)"
   ]
  },
  {
   "cell_type": "code",
   "execution_count": 43,
   "metadata": {},
   "outputs": [],
   "source": [
    "test_model = sbm.GPD.from_pretrained(\n",
    "    \"original\",\n",
    "    version_str=\"1\",\n",
    ")"
   ]
  },
  {
   "cell_type": "code",
   "execution_count": 8,
   "metadata": {},
   "outputs": [
    {
     "name": "stdout",
     "output_type": "stream",
     "text": [
      "['Detection', 'P', 'S']\n",
      "['Detection', 'P', 'S']\n",
      "NPS\n",
      "std\n",
      "std\n",
      "std\n",
      "cuda:0\n",
      "cuda:0\n",
      "cuda:0\n",
      "['Detection', 'P', 'S']\n",
      "PSN\n",
      "peak\n",
      "peak\n",
      "cuda:0\n",
      "cuda:0\n"
     ]
    }
   ],
   "source": [
    "org_eqt = sbm.EQTransformer.from_pretrained(\"original\")\n",
    "org_eqt2 = sbm.EQTransformer.from_pretrained(\"original_nonconservative\")\n",
    "org_pn = sbm.PhaseNet.from_pretrained(\"original\")\n",
    "org_eqt.cuda()\n",
    "org_eqt2.cuda()\n",
    "org_pn.cuda()\n",
    "print(org_eqt.labels)\n",
    "print(org_eqt2.labels)\n",
    "print(org_pn.labels)\n",
    "print(org_eqt.norm)\n",
    "print(org_eqt2.norm)\n",
    "print(org_pn.norm)\n",
    "print(org_eqt.device)\n",
    "print(org_eqt2.device)\n",
    "print(org_pn.device)\n",
    "\n",
    "eqt_instance = sbm.EQTransformer.from_pretrained(\"instance\")\n",
    "pn_instance = sbm.PhaseNet.from_pretrained(\"instance\")\n",
    "eqt_instance.cuda()\n",
    "pn_instance.cuda()\n",
    "print(eqt_instance.labels)\n",
    "print(pn_instance.labels)\n",
    "print(eqt_instance.norm)\n",
    "print(pn_instance.norm)\n",
    "print(eqt_instance.device)\n",
    "print(pn_instance.device)"
   ]
  },
  {
   "cell_type": "markdown",
   "metadata": {},
   "source": [
    "# Figure saving path"
   ]
  },
  {
   "cell_type": "code",
   "execution_count": 3,
   "metadata": {},
   "outputs": [
    {
     "name": "stdout",
     "output_type": "stream",
     "text": [
      ". exists\n"
     ]
    }
   ],
   "source": [
    "root_save_path = Path(\"./\")\n",
    "try:\n",
    "    root_save_path.mkdir(parents=True, exist_ok=False)\n",
    "except FileExistsError:\n",
    "    print(f\"{root_save_path} exists\")"
   ]
  },
  {
   "cell_type": "markdown",
   "metadata": {},
   "source": [
    "# Frequency index"
   ]
  },
  {
   "cell_type": "code",
   "execution_count": 10,
   "metadata": {},
   "outputs": [
    {
     "name": "stdout",
     "output_type": "stream",
     "text": [
      "15078\n",
      "15057\n"
     ]
    }
   ],
   "source": [
    "freq_indices = data_eq.metadata.drop_duplicates(\n",
    "    subset=\"source_id\", keep=\"first\", inplace=False\n",
    ")[\"source_frequency_index\"].to_numpy()\n",
    "source_ids = data_eq.metadata.drop_duplicates(\n",
    "    subset=\"source_id\", keep=\"first\", inplace=False\n",
    ")[\"source_id\"].to_numpy()\n",
    "\n",
    "# lp and vt\n",
    "lp_metadata = data_eq.metadata[data_eq.metadata[\"source_type\"] == \"lp\"]\n",
    "rg_metadata = data_eq.metadata[data_eq.metadata[\"source_type\"] != \"lp\"]\n",
    "print(len(lp_metadata))\n",
    "print(len(rg_metadata))\n",
    "\n",
    "# frequency indexes of lp events and vt events\n",
    "freq_indices_lp = lp_metadata.drop_duplicates(\n",
    "    subset=\"source_id\", keep=\"first\", inplace=False\n",
    ")[\"source_frequency_index\"].to_numpy()\n",
    "freq_indices_rg = rg_metadata.drop_duplicates(\n",
    "    subset=\"source_id\", keep=\"first\", inplace=False\n",
    ")[\"source_frequency_index\"].to_numpy()"
   ]
  },
  {
   "cell_type": "code",
   "execution_count": 11,
   "metadata": {},
   "outputs": [],
   "source": [
    "# frequency index for each trace\n",
    "trace_freq_indices = data_eq.metadata[\"trace_frequency_index\"]\n",
    "trace_freq_indices_lp = lp_metadata[\"trace_frequency_index\"]\n",
    "trace_freq_indices_rg = rg_metadata[\"trace_frequency_index\"]"
   ]
  },
  {
   "cell_type": "code",
   "execution_count": 12,
   "metadata": {},
   "outputs": [
    {
     "name": "stdout",
     "output_type": "stream",
     "text": [
      "Total 23700\n",
      "LP: 11798\n",
      "VT: 11902\n",
      "True\n",
      "True\n",
      "True\n",
      "True\n"
     ]
    }
   ],
   "source": [
    "print(f\"Total {len(freq_indices)}\")\n",
    "print(f\"LP: {len(freq_indices_lp)}\")\n",
    "print(f\"VT: {len(freq_indices_rg)}\")\n",
    "\n",
    "# validate\n",
    "print(len(freq_indices_rg) + len(freq_indices_lp) == len(freq_indices))\n",
    "print(\n",
    "    np.all(\n",
    "        np.sort(np.concatenate((freq_indices_rg, freq_indices_lp)))\n",
    "        == np.sort(freq_indices)\n",
    "    )\n",
    ")\n",
    "# print(np.sum(np.sort(np.concatenate((freq_indices_rg, freq_indices_lp)))-np.sort(freq_indices)))\n",
    "\n",
    "print(\n",
    "    len(trace_freq_indices_rg) + len(trace_freq_indices_lp) == len(trace_freq_indices)\n",
    ")\n",
    "print(\n",
    "    np.all(\n",
    "        np.sort(np.concatenate((trace_freq_indices_rg, trace_freq_indices_lp)))\n",
    "        == np.sort(trace_freq_indices)\n",
    "    )\n",
    ")\n",
    "# print(np.sum(np.sort(np.concatenate((trace_freq_indices_rg, trace_freq_indices_lp)))-np.sort(trace_freq_indices)))"
   ]
  },
  {
   "cell_type": "code",
   "execution_count": 13,
   "metadata": {},
   "outputs": [
    {
     "name": "stdout",
     "output_type": "stream",
     "text": [
      "max 1.7097844144183325\n",
      "min -2.678715296267784\n",
      "max 1.0597718278203687\n",
      "min -2.343523628440629\n"
     ]
    },
    {
     "data": {
      "text/plain": [
       "Text(0, 0.5, 'Count')"
      ]
     },
     "execution_count": 13,
     "metadata": {},
     "output_type": "execute_result"
    },
    {
     "data": {
      "image/png": "[encoded data removed]",
      "text/plain": [
       "<Figure size 700x450 with 1 Axes>"
      ]
     },
     "metadata": {},
     "output_type": "display_data"
    },
    {
     "data": {
      "image/png": "[encoded data removed]",
      "text/plain": [
       "<Figure size 700x450 with 1 Axes>"
      ]
     },
     "metadata": {},
     "output_type": "display_data"
    }
   ],
   "source": [
    "print(f\"max {np.max(trace_freq_indices)}\")\n",
    "print(f\"min {np.min(trace_freq_indices)}\")\n",
    "fts = 12\n",
    "fig = plt.figure(figsize=(7, 4.5))\n",
    "\n",
    "bins = np.arange(-2.4, 1.2, 0.2)\n",
    "plt.hist(\n",
    "    trace_freq_indices,\n",
    "    bins,\n",
    "    density=False,\n",
    "    stacked=True,\n",
    "    color=\"white\",\n",
    "    edgecolor=\"black\",\n",
    "    label=\"Total\",\n",
    ")\n",
    "plt.hist(\n",
    "    trace_freq_indices_rg,\n",
    "    bins,\n",
    "    density=False,\n",
    "    edgecolor=\"black\",\n",
    "    color=\"dodgerblue\",\n",
    "    alpha=0.8,\n",
    "    label=\"VT\",\n",
    ")\n",
    "plt.hist(\n",
    "    trace_freq_indices_lp,\n",
    "    bins,\n",
    "    density=False,\n",
    "    edgecolor=\"black\",\n",
    "    color=\"firebrick\",\n",
    "    alpha=0.8,\n",
    "    label=\"LP\",\n",
    ")\n",
    "plt.gca().tick_params(labelsize=fts)\n",
    "plt.legend()\n",
    "plt.xlabel(\"Station-wise frequency index\", fontsize=fts)\n",
    "plt.ylabel(\"Count\", fontsize=fts)\n",
    "# plt.savefig(root_save_path / \"FI_by_traces.jpg\", bbox_inches=\"tight\", dpi=600)\n",
    "# plt.savefig(root_save_path/\"FI_by_traces.pdf\", bbox_inches=\"tight\", dpi=600)\n",
    "\n",
    "print(f\"max {np.max(freq_indices)}\")\n",
    "print(f\"min {np.min(freq_indices)}\")\n",
    "fts = 12\n",
    "fig = plt.figure(figsize=(7, 4.5))\n",
    "\n",
    "\n",
    "plt.hist(\n",
    "    freq_indices, bins, density=False, color=\"white\", edgecolor=\"black\", label=\"Total\"\n",
    ")\n",
    "plt.hist(\n",
    "    freq_indices_rg,\n",
    "    bins,\n",
    "    density=False,\n",
    "    color=\"dodgerblue\",\n",
    "    edgecolor=\"black\",\n",
    "    alpha=0.8,\n",
    "    label=\"VT\",\n",
    ")\n",
    "plt.hist(\n",
    "    freq_indices_lp,\n",
    "    bins,\n",
    "    density=False,\n",
    "    color=\"firebrick\",\n",
    "    edgecolor=\"black\",\n",
    "    alpha=0.8,\n",
    "    label=\"LP\",\n",
    ")\n",
    "\n",
    "plt.gca().tick_params(labelsize=fts)\n",
    "plt.legend()\n",
    "plt.xlabel(\"Station-averaged frequency index\", fontsize=fts)\n",
    "plt.ylabel(\"Count\", fontsize=fts)\n",
    "# plt.savefig(\n",
    "#     root_save_path / \"FI_averaged_over_stations.jpg\", bbox_inches=\"tight\", dpi=600\n",
    "# )"
   ]
  },
  {
   "cell_type": "markdown",
   "metadata": {},
   "source": [
    "# Evaluation"
   ]
  },
  {
   "cell_type": "code",
   "execution_count": 13,
   "metadata": {},
   "outputs": [
    {
     "name": "stdout",
     "output_type": "stream",
     "text": [
      "  -2.400000e+00,   -2.200000e+00\n",
      "  -2.200000e+00,   -2.000000e+00\n",
      "  -2.000000e+00,   -1.800000e+00\n",
      "  -1.800000e+00,   -1.600000e+00\n",
      "  -1.600000e+00,   -1.400000e+00\n",
      "  -1.400000e+00,   -1.200000e+00\n",
      "  -1.200000e+00,   -1.000000e+00\n",
      "  -1.000000e+00,   -8.000000e-01\n",
      "  -8.000000e-01,   -6.000000e-01\n",
      "  -6.000000e-01,   -4.000000e-01\n",
      "  -4.000000e-01,   -2.000000e-01\n",
      "  -2.000000e-01,    2.220446e-15\n",
      "   2.220446e-15,    2.000000e-01\n",
      "   2.000000e-01,    4.000000e-01\n",
      "   4.000000e-01,    6.000000e-01\n",
      "   6.000000e-01,    8.000000e-01\n",
      "   8.000000e-01,    1.000000e+00\n"
     ]
    }
   ],
   "source": [
    "bins = np.arange(-2.4, 1.2, 0.2)\n",
    "for x, y in zip(bins[:-1], bins[1:]):\n",
    "    print(f\"{x:15e}, {y:15e}\")"
   ]
  },
  {
   "cell_type": "code",
   "execution_count": 14,
   "metadata": {},
   "outputs": [
    {
     "data": {
      "text/plain": [
       "(array([408., 355., 323., 362., 358., 332., 317., 326., 337., 268., 288.,\n",
       "        223., 267., 259., 227., 224., 221., 265., 205., 218., 218., 197.,\n",
       "        182., 236., 223., 220., 274., 228., 321., 310., 286., 316., 362.,\n",
       "        416., 428., 441., 497., 516., 535., 502., 607., 616., 607., 590.,\n",
       "        613., 558., 500., 501., 416., 412.]),\n",
       " array([-0.79999948, -0.78200138, -0.76400327, -0.74600517, -0.72800707,\n",
       "        -0.71000896, -0.69201086, -0.67401276, -0.65601465, -0.63801655,\n",
       "        -0.62001845, -0.60202034, -0.58402224, -0.56602413, -0.54802603,\n",
       "        -0.53002793, -0.51202982, -0.49403172, -0.47603362, -0.45803551,\n",
       "        -0.44003741, -0.42203931, -0.4040412 , -0.3860431 , -0.368045  ,\n",
       "        -0.35004689, -0.33204879, -0.31405069, -0.29605258, -0.27805448,\n",
       "        -0.26005638, -0.24205827, -0.22406017, -0.20606206, -0.18806396,\n",
       "        -0.17006586, -0.15206775, -0.13406965, -0.11607155, -0.09807344,\n",
       "        -0.08007534, -0.06207724, -0.04407913, -0.02608103, -0.00808293,\n",
       "         0.00991518,  0.02791328,  0.04591138,  0.06390949,  0.08190759,\n",
       "         0.09990569]),\n",
       " <BarContainer object of 50 artists>)"
      ]
     },
     "execution_count": 14,
     "metadata": {},
     "output_type": "execute_result"
    },
    {
     "data": {
      "image/png": "[encoded data removed]",
      "text/plain": [
       "<Figure size 640x480 with 1 Axes>"
      ]
     },
     "metadata": {},
     "output_type": "display_data"
    }
   ],
   "source": [
    "plt.hist(\n",
    "    data_eq.metadata[\n",
    "        (data_eq.metadata[\"source_frequency_index\"] > -0.8)\n",
    "        & (lteq(data_eq.metadata[\"source_frequency_index\"], 0.1))\n",
    "    ][\"source_frequency_index\"],\n",
    "    50,\n",
    ")"
   ]
  },
  {
   "cell_type": "code",
   "execution_count": 15,
   "metadata": {},
   "outputs": [
    {
     "data": {
      "text/plain": [
       "8            bucket8$0,:3,:12192\n",
       "12           bucket8$1,:3,:12099\n",
       "16           bucket8$2,:3,:12263\n",
       "37           bucket8$3,:3,:12257\n",
       "43           bucket8$4,:3,:12250\n",
       "                   ...          \n",
       "315440     bucket81$382,:3,:8900\n",
       "315458     bucket81$383,:3,:8958\n",
       "315467    bucket89$758,:3,:11700\n",
       "315477     bucket81$384,:3,:9499\n",
       "315485    bucket89$759,:3,:11600\n",
       "Name: trace_name, Length: 30135, dtype: object"
      ]
     },
     "execution_count": 15,
     "metadata": {},
     "output_type": "execute_result"
    }
   ],
   "source": [
    "data_eq[\"trace_name\"]"
   ]
  },
  {
   "cell_type": "markdown",
   "metadata": {},
   "source": [
    "## Predict"
   ]
  },
  {
   "cell_type": "code",
   "execution_count": 16,
   "metadata": {},
   "outputs": [
    {
     "name": "stdout",
     "output_type": "stream",
     "text": [
      "[-2.40000000e+00 -2.20000000e+00 -2.00000000e+00 -1.80000000e+00\n",
      " -1.60000000e+00 -1.40000000e+00 -1.20000000e+00 -1.00000000e+00\n",
      " -8.00000000e-01 -6.00000000e-01 -4.00000000e-01 -2.00000000e-01\n",
      "  2.22044605e-15  2.00000000e-01  4.00000000e-01  6.00000000e-01\n",
      "  8.00000000e-01  1.00000000e+00]\n",
      "(-2.4,-2.2] 1\n"
     ]
    },
    {
     "name": "stderr",
     "output_type": "stream",
     "text": [
      "100%|██████████| 1/1 [00:00<00:00, 878.39it/s]\n"
     ]
    },
    {
     "name": "stdout",
     "output_type": "stream",
     "text": [
      "(-2.4,-2.2]_pred/task0/vol_eqt exists\n",
      "Starting set: test\n"
     ]
    },
    {
     "name": "stderr",
     "output_type": "stream",
     "text": [
      "Preloading waveforms: 100%|██████████| 1/1 [00:00<00:00, 19972.88it/s]"
     ]
    },
    {
     "name": "stdout",
     "output_type": "stream",
     "text": [
      "Number of examples in test: 1\n",
      "1 earthquake traces\n",
      "0 noise traces\n",
      "Probability threshold: 0.2200\n"
     ]
    },
    {
     "name": "stderr",
     "output_type": "stream",
     "text": [
      "\n"
     ]
    },
    {
     "name": "stderr",
     "output_type": "stream",
     "text": [
      "/home/zhongyiyuan/miniconda3/envs/seisbench/lib/python3.9/site-packages/numpy/core/_methods.py:269: RuntimeWarning: Degrees of freedom <= 0 for slice\n",
      "  ret = _var(a, axis=axis, dtype=dtype, out=out, ddof=ddof,\n",
      "/home/zhongyiyuan/miniconda3/envs/seisbench/lib/python3.9/site-packages/numpy/core/_methods.py:261: RuntimeWarning: invalid value encountered in scalar divide\n",
      "  ret = ret.dtype.type(ret / rcount)\n"
     ]
    },
    {
     "name": "stdout",
     "output_type": "stream",
     "text": [
      "(-2.4,-2.2]_pred/task0/vol_pn exists\n",
      "Starting set: test\n"
     ]
    },
    {
     "name": "stderr",
     "output_type": "stream",
     "text": [
      "Preloading waveforms: 100%|██████████| 1/1 [00:00<00:00, 10433.59it/s]"
     ]
    },
    {
     "name": "stdout",
     "output_type": "stream",
     "text": [
      "Number of examples in test: 1\n",
      "1 earthquake traces\n",
      "0 noise traces\n",
      "Probability threshold: 0.3900\n"
     ]
    },
    {
     "name": "stderr",
     "output_type": "stream",
     "text": [
      "\n"
     ]
    },
    {
     "name": "stdout",
     "output_type": "stream",
     "text": [
      "Probability threshold: 0.3400\n"
     ]
    },
    {
     "name": "stderr",
     "output_type": "stream",
     "text": [
      "/home/zhongyiyuan/miniconda3/envs/seisbench/lib/python3.9/site-packages/numpy/core/_methods.py:269: RuntimeWarning: Degrees of freedom <= 0 for slice\n",
      "  ret = _var(a, axis=axis, dtype=dtype, out=out, ddof=ddof,\n",
      "/home/zhongyiyuan/miniconda3/envs/seisbench/lib/python3.9/site-packages/numpy/core/_methods.py:261: RuntimeWarning: invalid value encountered in scalar divide\n",
      "  ret = ret.dtype.type(ret / rcount)\n",
      "/home/zhongyiyuan/miniconda3/envs/seisbench/lib/python3.9/site-packages/numpy/core/_methods.py:269: RuntimeWarning: Degrees of freedom <= 0 for slice\n",
      "  ret = _var(a, axis=axis, dtype=dtype, out=out, ddof=ddof,\n",
      "/home/zhongyiyuan/miniconda3/envs/seisbench/lib/python3.9/site-packages/numpy/core/_methods.py:261: RuntimeWarning: invalid value encountered in scalar divide\n",
      "  ret = ret.dtype.type(ret / rcount)\n"
     ]
    },
    {
     "name": "stdout",
     "output_type": "stream",
     "text": [
      "(-2.4,-2.2]_pred/task0/org_eqt exists\n",
      "Starting set: test\n"
     ]
    },
    {
     "name": "stderr",
     "output_type": "stream",
     "text": [
      "Preloading waveforms: 100%|██████████| 1/1 [00:00<00:00, 15196.75it/s]"
     ]
    },
    {
     "name": "stdout",
     "output_type": "stream",
     "text": [
      "Number of examples in test: 1\n",
      "1 earthquake traces\n",
      "0 noise traces\n",
      "Probability threshold: 0.2600\n"
     ]
    },
    {
     "name": "stderr",
     "output_type": "stream",
     "text": [
      "\n"
     ]
    },
    {
     "name": "stdout",
     "output_type": "stream",
     "text": [
      "No predicted P picks\n",
      "No predicted S picks\n",
      "Probability threshold: 0.1500\n"
     ]
    },
    {
     "name": "stderr",
     "output_type": "stream",
     "text": [
      "/home/zhongyiyuan/volpick/volpick/model/eval_taks0.py:320: RuntimeWarning: invalid value encountered in scalar divide\n",
      "  precision = TP / (TP + FP)\n",
      "/home/zhongyiyuan/volpick/volpick/model/eval_taks0.py:320: RuntimeWarning: invalid value encountered in scalar divide\n",
      "  precision = TP / (TP + FP)\n",
      "/home/zhongyiyuan/miniconda3/envs/seisbench/lib/python3.9/site-packages/numpy/core/_methods.py:269: RuntimeWarning: Degrees of freedom <= 0 for slice\n",
      "  ret = _var(a, axis=axis, dtype=dtype, out=out, ddof=ddof,\n",
      "/home/zhongyiyuan/miniconda3/envs/seisbench/lib/python3.9/site-packages/numpy/core/_methods.py:261: RuntimeWarning: invalid value encountered in scalar divide\n",
      "  ret = ret.dtype.type(ret / rcount)\n",
      "/home/zhongyiyuan/miniconda3/envs/seisbench/lib/python3.9/site-packages/numpy/core/fromnumeric.py:3464: RuntimeWarning: Mean of empty slice.\n",
      "  return _methods._mean(a, axis=axis, dtype=dtype,\n",
      "/home/zhongyiyuan/miniconda3/envs/seisbench/lib/python3.9/site-packages/numpy/core/_methods.py:192: RuntimeWarning: invalid value encountered in scalar divide\n",
      "  ret = ret.dtype.type(ret / rcount)\n"
     ]
    },
    {
     "name": "stdout",
     "output_type": "stream",
     "text": [
      "No predicted P picks\n",
      "(-2.4,-2.2]_pred/task0/org_pn exists\n",
      "Starting set: test\n"
     ]
    },
    {
     "name": "stderr",
     "output_type": "stream",
     "text": [
      "Preloading waveforms: 100%|██████████| 1/1 [00:00<00:00, 10230.01it/s]"
     ]
    },
    {
     "name": "stdout",
     "output_type": "stream",
     "text": [
      "Number of examples in test: 1\n",
      "1 earthquake traces\n",
      "0 noise traces\n",
      "Probability threshold: 0.2500\n"
     ]
    },
    {
     "name": "stderr",
     "output_type": "stream",
     "text": [
      "\n"
     ]
    },
    {
     "name": "stdout",
     "output_type": "stream",
     "text": [
      "Probability threshold: 0.1900\n"
     ]
    },
    {
     "name": "stderr",
     "output_type": "stream",
     "text": [
      "/home/zhongyiyuan/volpick/volpick/model/eval_taks0.py:321: RuntimeWarning: invalid value encountered in scalar divide\n",
      "  recall = TP / (TP + FN)\n",
      "/home/zhongyiyuan/miniconda3/envs/seisbench/lib/python3.9/site-packages/numpy/core/_methods.py:269: RuntimeWarning: Degrees of freedom <= 0 for slice\n",
      "  ret = _var(a, axis=axis, dtype=dtype, out=out, ddof=ddof,\n",
      "/home/zhongyiyuan/miniconda3/envs/seisbench/lib/python3.9/site-packages/numpy/core/_methods.py:261: RuntimeWarning: invalid value encountered in scalar divide\n",
      "  ret = ret.dtype.type(ret / rcount)\n",
      "/home/zhongyiyuan/miniconda3/envs/seisbench/lib/python3.9/site-packages/numpy/core/fromnumeric.py:3464: RuntimeWarning: Mean of empty slice.\n",
      "  return _methods._mean(a, axis=axis, dtype=dtype,\n",
      "/home/zhongyiyuan/miniconda3/envs/seisbench/lib/python3.9/site-packages/numpy/core/_methods.py:192: RuntimeWarning: invalid value encountered in scalar divide\n",
      "  ret = ret.dtype.type(ret / rcount)\n",
      "/home/zhongyiyuan/miniconda3/envs/seisbench/lib/python3.9/site-packages/numpy/core/_methods.py:226: RuntimeWarning: invalid value encountered in divide\n",
      "  arrmean = um.true_divide(arrmean, div, out=arrmean,\n",
      "/home/zhongyiyuan/volpick/volpick/model/eval_taks0.py:321: RuntimeWarning: invalid value encountered in scalar divide\n",
      "  recall = TP / (TP + FN)\n",
      "/home/zhongyiyuan/miniconda3/envs/seisbench/lib/python3.9/site-packages/numpy/core/_methods.py:269: RuntimeWarning: Degrees of freedom <= 0 for slice\n",
      "  ret = _var(a, axis=axis, dtype=dtype, out=out, ddof=ddof,\n",
      "/home/zhongyiyuan/miniconda3/envs/seisbench/lib/python3.9/site-packages/numpy/core/_methods.py:261: RuntimeWarning: invalid value encountered in scalar divide\n",
      "  ret = ret.dtype.type(ret / rcount)\n",
      "/home/zhongyiyuan/miniconda3/envs/seisbench/lib/python3.9/site-packages/numpy/core/fromnumeric.py:3464: RuntimeWarning: Mean of empty slice.\n",
      "  return _methods._mean(a, axis=axis, dtype=dtype,\n",
      "/home/zhongyiyuan/miniconda3/envs/seisbench/lib/python3.9/site-packages/numpy/core/_methods.py:192: RuntimeWarning: invalid value encountered in scalar divide\n",
      "  ret = ret.dtype.type(ret / rcount)\n",
      "/home/zhongyiyuan/miniconda3/envs/seisbench/lib/python3.9/site-packages/numpy/core/_methods.py:226: RuntimeWarning: invalid value encountered in divide\n",
      "  arrmean = um.true_divide(arrmean, div, out=arrmean,\n"
     ]
    },
    {
     "name": "stdout",
     "output_type": "stream",
     "text": [
      "(-2.4,-2.2]_pred/task0/int_eqt exists\n",
      "Starting set: test\n"
     ]
    },
    {
     "name": "stderr",
     "output_type": "stream",
     "text": [
      "Preloading waveforms: 100%|██████████| 1/1 [00:00<00:00, 10255.02it/s]"
     ]
    },
    {
     "name": "stdout",
     "output_type": "stream",
     "text": [
      "Number of examples in test: 1\n",
      "1 earthquake traces\n",
      "0 noise traces\n",
      "Probability threshold: 0.0400\n"
     ]
    },
    {
     "name": "stderr",
     "output_type": "stream",
     "text": [
      "\n",
      "/home/zhongyiyuan/volpick/volpick/model/eval_taks0.py:321: RuntimeWarning: invalid value encountered in scalar divide\n",
      "  recall = TP / (TP + FN)\n",
      "/home/zhongyiyuan/miniconda3/envs/seisbench/lib/python3.9/site-packages/numpy/core/_methods.py:269: RuntimeWarning: Degrees of freedom <= 0 for slice\n",
      "  ret = _var(a, axis=axis, dtype=dtype, out=out, ddof=ddof,\n",
      "/home/zhongyiyuan/miniconda3/envs/seisbench/lib/python3.9/site-packages/numpy/core/_methods.py:261: RuntimeWarning: invalid value encountered in scalar divide\n",
      "  ret = ret.dtype.type(ret / rcount)\n",
      "/home/zhongyiyuan/miniconda3/envs/seisbench/lib/python3.9/site-packages/numpy/core/fromnumeric.py:3464: RuntimeWarning: Mean of empty slice.\n",
      "  return _methods._mean(a, axis=axis, dtype=dtype,\n",
      "/home/zhongyiyuan/miniconda3/envs/seisbench/lib/python3.9/site-packages/numpy/core/_methods.py:192: RuntimeWarning: invalid value encountered in scalar divide\n",
      "  ret = ret.dtype.type(ret / rcount)\n",
      "/home/zhongyiyuan/miniconda3/envs/seisbench/lib/python3.9/site-packages/numpy/core/_methods.py:226: RuntimeWarning: invalid value encountered in divide\n",
      "  arrmean = um.true_divide(arrmean, div, out=arrmean,\n"
     ]
    },
    {
     "name": "stdout",
     "output_type": "stream",
     "text": [
      "(-2.4,-2.2]_pred/task0/int_pn exists\n",
      "Starting set: test\n"
     ]
    },
    {
     "name": "stderr",
     "output_type": "stream",
     "text": [
      "Preloading waveforms: 100%|██████████| 1/1 [00:00<00:00, 9279.43it/s]"
     ]
    },
    {
     "name": "stdout",
     "output_type": "stream",
     "text": [
      "Number of examples in test: 1\n",
      "1 earthquake traces\n",
      "0 noise traces\n",
      "Probability threshold: 0.1300\n"
     ]
    },
    {
     "name": "stderr",
     "output_type": "stream",
     "text": [
      "\n"
     ]
    },
    {
     "name": "stdout",
     "output_type": "stream",
     "text": [
      "Probability threshold: 0.0500\n"
     ]
    },
    {
     "name": "stderr",
     "output_type": "stream",
     "text": [
      "/home/zhongyiyuan/volpick/volpick/model/eval_taks0.py:321: RuntimeWarning: invalid value encountered in scalar divide\n",
      "  recall = TP / (TP + FN)\n",
      "/home/zhongyiyuan/miniconda3/envs/seisbench/lib/python3.9/site-packages/numpy/core/_methods.py:269: RuntimeWarning: Degrees of freedom <= 0 for slice\n",
      "  ret = _var(a, axis=axis, dtype=dtype, out=out, ddof=ddof,\n",
      "/home/zhongyiyuan/miniconda3/envs/seisbench/lib/python3.9/site-packages/numpy/core/_methods.py:261: RuntimeWarning: invalid value encountered in scalar divide\n",
      "  ret = ret.dtype.type(ret / rcount)\n",
      "/home/zhongyiyuan/miniconda3/envs/seisbench/lib/python3.9/site-packages/numpy/core/fromnumeric.py:3464: RuntimeWarning: Mean of empty slice.\n",
      "  return _methods._mean(a, axis=axis, dtype=dtype,\n",
      "/home/zhongyiyuan/miniconda3/envs/seisbench/lib/python3.9/site-packages/numpy/core/_methods.py:192: RuntimeWarning: invalid value encountered in scalar divide\n",
      "  ret = ret.dtype.type(ret / rcount)\n",
      "/home/zhongyiyuan/miniconda3/envs/seisbench/lib/python3.9/site-packages/numpy/core/_methods.py:226: RuntimeWarning: invalid value encountered in divide\n",
      "  arrmean = um.true_divide(arrmean, div, out=arrmean,\n",
      "/home/zhongyiyuan/volpick/volpick/model/eval_taks0.py:321: RuntimeWarning: invalid value encountered in scalar divide\n",
      "  recall = TP / (TP + FN)\n",
      "/home/zhongyiyuan/miniconda3/envs/seisbench/lib/python3.9/site-packages/numpy/core/_methods.py:269: RuntimeWarning: Degrees of freedom <= 0 for slice\n",
      "  ret = _var(a, axis=axis, dtype=dtype, out=out, ddof=ddof,\n",
      "/home/zhongyiyuan/miniconda3/envs/seisbench/lib/python3.9/site-packages/numpy/core/_methods.py:261: RuntimeWarning: invalid value encountered in scalar divide\n",
      "  ret = ret.dtype.type(ret / rcount)\n",
      "/home/zhongyiyuan/miniconda3/envs/seisbench/lib/python3.9/site-packages/numpy/core/fromnumeric.py:3464: RuntimeWarning: Mean of empty slice.\n",
      "  return _methods._mean(a, axis=axis, dtype=dtype,\n",
      "/home/zhongyiyuan/miniconda3/envs/seisbench/lib/python3.9/site-packages/numpy/core/_methods.py:192: RuntimeWarning: invalid value encountered in scalar divide\n",
      "  ret = ret.dtype.type(ret / rcount)\n",
      "/home/zhongyiyuan/miniconda3/envs/seisbench/lib/python3.9/site-packages/numpy/core/_methods.py:226: RuntimeWarning: invalid value encountered in divide\n",
      "  arrmean = um.true_divide(arrmean, div, out=arrmean,\n"
     ]
    },
    {
     "name": "stdout",
     "output_type": "stream",
     "text": [
      "(-2.2,-2.0] 11\n"
     ]
    },
    {
     "name": "stderr",
     "output_type": "stream",
     "text": [
      "100%|██████████| 11/11 [00:00<00:00, 1908.63it/s]\n"
     ]
    },
    {
     "name": "stdout",
     "output_type": "stream",
     "text": [
      "(-2.2,-2.0]_pred/task0/vol_eqt exists\n",
      "Starting set: test\n"
     ]
    },
    {
     "name": "stderr",
     "output_type": "stream",
     "text": [
      "Preloading waveforms: 100%|██████████| 11/11 [00:00<00:00, 128875.26it/s]"
     ]
    },
    {
     "name": "stdout",
     "output_type": "stream",
     "text": [
      "Number of examples in test: 11\n",
      "11 earthquake traces\n",
      "0 noise traces\n",
      "Probability threshold: 0.2200\n"
     ]
    },
    {
     "name": "stderr",
     "output_type": "stream",
     "text": [
      "\n"
     ]
    },
    {
     "name": "stdout",
     "output_type": "stream",
     "text": [
      "(-2.2,-2.0]_pred/task0/vol_pn exists\n",
      "Starting set: test\n"
     ]
    },
    {
     "name": "stderr",
     "output_type": "stream",
     "text": [
      "Preloading waveforms: 100%|██████████| 11/11 [00:00<00:00, 117697.31it/s]"
     ]
    },
    {
     "name": "stdout",
     "output_type": "stream",
     "text": [
      "Number of examples in test: 11\n",
      "11 earthquake traces\n",
      "0 noise traces\n",
      "Probability threshold: 0.3900\n"
     ]
    },
    {
     "name": "stderr",
     "output_type": "stream",
     "text": [
      "\n"
     ]
    },
    {
     "name": "stdout",
     "output_type": "stream",
     "text": [
      "Probability threshold: 0.3400\n",
      "(-2.2,-2.0]_pred/task0/org_eqt exists\n",
      "Starting set: test\n"
     ]
    },
    {
     "name": "stderr",
     "output_type": "stream",
     "text": [
      "Preloading waveforms: 100%|██████████| 11/11 [00:00<00:00, 106552.76it/s]"
     ]
    },
    {
     "name": "stdout",
     "output_type": "stream",
     "text": [
      "Number of examples in test: 11\n",
      "11 earthquake traces\n",
      "0 noise traces\n",
      "Probability threshold: 0.2600\n"
     ]
    },
    {
     "name": "stderr",
     "output_type": "stream",
     "text": [
      "\n"
     ]
    },
    {
     "name": "stdout",
     "output_type": "stream",
     "text": [
      "Probability threshold: 0.1500\n",
      "(-2.2,-2.0]_pred/task0/org_pn exists\n",
      "Starting set: test\n"
     ]
    },
    {
     "name": "stderr",
     "output_type": "stream",
     "text": [
      "Preloading waveforms: 100%|██████████| 11/11 [00:00<00:00, 98164.56it/s]"
     ]
    },
    {
     "name": "stdout",
     "output_type": "stream",
     "text": [
      "Number of examples in test: 11\n",
      "11 earthquake traces\n",
      "0 noise traces\n",
      "Probability threshold: 0.2500\n"
     ]
    },
    {
     "name": "stderr",
     "output_type": "stream",
     "text": [
      "\n"
     ]
    },
    {
     "name": "stdout",
     "output_type": "stream",
     "text": [
      "Probability threshold: 0.1900\n",
      "(-2.2,-2.0]_pred/task0/int_eqt exists\n",
      "Starting set: test\n"
     ]
    },
    {
     "name": "stderr",
     "output_type": "stream",
     "text": [
      "Preloading waveforms: 100%|██████████| 11/11 [00:00<00:00, 93395.43it/s]"
     ]
    },
    {
     "name": "stdout",
     "output_type": "stream",
     "text": [
      "Number of examples in test: 11\n",
      "11 earthquake traces\n",
      "0 noise traces\n",
      "Probability threshold: 0.0400\n"
     ]
    },
    {
     "name": "stderr",
     "output_type": "stream",
     "text": [
      "\n"
     ]
    },
    {
     "name": "stdout",
     "output_type": "stream",
     "text": [
      "(-2.2,-2.0]_pred/task0/int_pn exists\n",
      "Starting set: test\n"
     ]
    },
    {
     "name": "stderr",
     "output_type": "stream",
     "text": [
      "Preloading waveforms: 100%|██████████| 11/11 [00:00<00:00, 117099.86it/s]"
     ]
    },
    {
     "name": "stdout",
     "output_type": "stream",
     "text": [
      "Number of examples in test: 11\n",
      "11 earthquake traces\n",
      "0 noise traces\n",
      "Probability threshold: 0.1300\n"
     ]
    },
    {
     "name": "stderr",
     "output_type": "stream",
     "text": [
      "\n"
     ]
    },
    {
     "name": "stdout",
     "output_type": "stream",
     "text": [
      "Probability threshold: 0.0500\n"
     ]
    },
    {
     "name": "stderr",
     "output_type": "stream",
     "text": [
      "/home/zhongyiyuan/volpick/volpick/model/eval_taks0.py:322: RuntimeWarning: invalid value encountered in scalar divide\n",
      "  F1score = 2.0 * (precision * recall) / (precision + recall)\n",
      "/home/zhongyiyuan/volpick/volpick/model/eval_taks0.py:322: RuntimeWarning: invalid value encountered in scalar divide\n",
      "  F1score = 2.0 * (precision * recall) / (precision + recall)\n"
     ]
    },
    {
     "name": "stdout",
     "output_type": "stream",
     "text": [
      "(-2.0,-1.8] 52\n"
     ]
    },
    {
     "name": "stderr",
     "output_type": "stream",
     "text": [
      "100%|██████████| 52/52 [00:00<00:00, 2916.14it/s]\n"
     ]
    },
    {
     "name": "stdout",
     "output_type": "stream",
     "text": [
      "(-2.0,-1.8]_pred/task0/vol_eqt exists\n",
      "Starting set: test\n"
     ]
    },
    {
     "name": "stderr",
     "output_type": "stream",
     "text": [
      "Preloading waveforms: 100%|██████████| 52/52 [00:00<00:00, 247845.24it/s]"
     ]
    },
    {
     "name": "stdout",
     "output_type": "stream",
     "text": [
      "Number of examples in test: 52\n",
      "52 earthquake traces\n",
      "0 noise traces\n",
      "Probability threshold: 0.2200\n"
     ]
    },
    {
     "name": "stderr",
     "output_type": "stream",
     "text": [
      "\n"
     ]
    },
    {
     "name": "stdout",
     "output_type": "stream",
     "text": [
      "(-2.0,-1.8]_pred/task0/vol_pn exists\n",
      "Starting set: test\n"
     ]
    },
    {
     "name": "stderr",
     "output_type": "stream",
     "text": [
      "Preloading waveforms: 100%|██████████| 52/52 [00:00<00:00, 246444.98it/s]"
     ]
    },
    {
     "name": "stdout",
     "output_type": "stream",
     "text": [
      "Number of examples in test: 52\n",
      "52 earthquake traces\n",
      "0 noise traces\n",
      "Probability threshold: 0.3900\n"
     ]
    },
    {
     "name": "stderr",
     "output_type": "stream",
     "text": [
      "\n"
     ]
    },
    {
     "name": "stdout",
     "output_type": "stream",
     "text": [
      "Probability threshold: 0.3400\n",
      "(-2.0,-1.8]_pred/task0/org_eqt exists\n",
      "Starting set: test\n"
     ]
    },
    {
     "name": "stderr",
     "output_type": "stream",
     "text": [
      "Preloading waveforms: 100%|██████████| 52/52 [00:00<00:00, 250406.21it/s]"
     ]
    },
    {
     "name": "stdout",
     "output_type": "stream",
     "text": [
      "Number of examples in test: 52\n",
      "52 earthquake traces\n",
      "0 noise traces\n",
      "Probability threshold: 0.2600\n"
     ]
    },
    {
     "name": "stderr",
     "output_type": "stream",
     "text": [
      "\n"
     ]
    },
    {
     "name": "stdout",
     "output_type": "stream",
     "text": [
      "Probability threshold: 0.1500\n",
      "(-2.0,-1.8]_pred/task0/org_pn exists\n",
      "Starting set: test\n"
     ]
    },
    {
     "name": "stderr",
     "output_type": "stream",
     "text": [
      "Preloading waveforms: 100%|██████████| 52/52 [00:00<00:00, 248693.05it/s]"
     ]
    },
    {
     "name": "stdout",
     "output_type": "stream",
     "text": [
      "Number of examples in test: 52\n",
      "52 earthquake traces\n",
      "0 noise traces\n",
      "Probability threshold: 0.2500\n"
     ]
    },
    {
     "name": "stderr",
     "output_type": "stream",
     "text": [
      "\n"
     ]
    },
    {
     "name": "stdout",
     "output_type": "stream",
     "text": [
      "Probability threshold: 0.1900\n",
      "(-2.0,-1.8]_pred/task0/int_eqt exists\n",
      "Starting set: test\n"
     ]
    },
    {
     "name": "stderr",
     "output_type": "stream",
     "text": [
      "Preloading waveforms: 100%|██████████| 52/52 [00:00<00:00, 239938.18it/s]"
     ]
    },
    {
     "name": "stdout",
     "output_type": "stream",
     "text": [
      "Number of examples in test: 52\n",
      "52 earthquake traces\n",
      "0 noise traces\n",
      "Probability threshold: 0.0400\n"
     ]
    },
    {
     "name": "stderr",
     "output_type": "stream",
     "text": [
      "\n"
     ]
    },
    {
     "name": "stdout",
     "output_type": "stream",
     "text": [
      "(-2.0,-1.8]_pred/task0/int_pn exists\n",
      "Starting set: test\n"
     ]
    },
    {
     "name": "stderr",
     "output_type": "stream",
     "text": [
      "Preloading waveforms: 100%|██████████| 52/52 [00:00<00:00, 220752.84it/s]"
     ]
    },
    {
     "name": "stdout",
     "output_type": "stream",
     "text": [
      "Number of examples in test: 52\n",
      "52 earthquake traces\n",
      "0 noise traces\n",
      "Probability threshold: 0.1300\n"
     ]
    },
    {
     "name": "stderr",
     "output_type": "stream",
     "text": [
      "\n"
     ]
    },
    {
     "name": "stdout",
     "output_type": "stream",
     "text": [
      "Probability threshold: 0.0500\n",
      "(-1.8,-1.6] 255\n"
     ]
    },
    {
     "name": "stderr",
     "output_type": "stream",
     "text": [
      "100%|██████████| 255/255 [00:00<00:00, 3016.85it/s]\n"
     ]
    },
    {
     "name": "stdout",
     "output_type": "stream",
     "text": [
      "(-1.8,-1.6]_pred/task0/vol_eqt exists\n",
      "Starting set: test\n"
     ]
    },
    {
     "name": "stderr",
     "output_type": "stream",
     "text": [
      "Preloading waveforms: 100%|██████████| 255/255 [00:00<00:00, 316340.59it/s]"
     ]
    },
    {
     "name": "stdout",
     "output_type": "stream",
     "text": [
      "Number of examples in test: 255\n",
      "255 earthquake traces\n",
      "0 noise traces\n",
      "Probability threshold: 0.2200\n"
     ]
    },
    {
     "name": "stderr",
     "output_type": "stream",
     "text": [
      "\n"
     ]
    },
    {
     "name": "stdout",
     "output_type": "stream",
     "text": [
      "(-1.8,-1.6]_pred/task0/vol_pn exists\n",
      "Starting set: test\n"
     ]
    },
    {
     "name": "stderr",
     "output_type": "stream",
     "text": [
      "Preloading waveforms: 100%|██████████| 255/255 [00:00<00:00, 316809.10it/s]"
     ]
    },
    {
     "name": "stdout",
     "output_type": "stream",
     "text": [
      "Number of examples in test: 255\n",
      "255 earthquake traces\n",
      "0 noise traces\n",
      "Probability threshold: 0.3900\n"
     ]
    },
    {
     "name": "stderr",
     "output_type": "stream",
     "text": [
      "\n"
     ]
    },
    {
     "name": "stdout",
     "output_type": "stream",
     "text": [
      "Probability threshold: 0.3400\n",
      "(-1.8,-1.6]_pred/task0/org_eqt exists\n",
      "Starting set: test\n"
     ]
    },
    {
     "name": "stderr",
     "output_type": "stream",
     "text": [
      "Preloading waveforms: 100%|██████████| 255/255 [00:00<00:00, 322736.13it/s]"
     ]
    },
    {
     "name": "stdout",
     "output_type": "stream",
     "text": [
      "Number of examples in test: 255\n",
      "255 earthquake traces\n",
      "0 noise traces\n",
      "Probability threshold: 0.2600\n"
     ]
    },
    {
     "name": "stderr",
     "output_type": "stream",
     "text": [
      "\n"
     ]
    },
    {
     "name": "stdout",
     "output_type": "stream",
     "text": [
      "Probability threshold: 0.1500\n",
      "(-1.8,-1.6]_pred/task0/org_pn exists\n",
      "Starting set: test\n"
     ]
    },
    {
     "name": "stderr",
     "output_type": "stream",
     "text": [
      "Preloading waveforms: 100%|██████████| 255/255 [00:00<00:00, 308671.72it/s]"
     ]
    },
    {
     "name": "stdout",
     "output_type": "stream",
     "text": [
      "Number of examples in test: 255\n",
      "255 earthquake traces\n",
      "0 noise traces\n",
      "Probability threshold: 0.2500\n"
     ]
    },
    {
     "name": "stderr",
     "output_type": "stream",
     "text": [
      "\n"
     ]
    },
    {
     "name": "stdout",
     "output_type": "stream",
     "text": [
      "Probability threshold: 0.1900\n",
      "(-1.8,-1.6]_pred/task0/int_eqt exists\n",
      "Starting set: test\n"
     ]
    },
    {
     "name": "stderr",
     "output_type": "stream",
     "text": [
      "Preloading waveforms: 100%|██████████| 255/255 [00:00<00:00, 308849.99it/s]"
     ]
    },
    {
     "name": "stdout",
     "output_type": "stream",
     "text": [
      "Number of examples in test: 255\n",
      "255 earthquake traces\n",
      "0 noise traces\n",
      "Probability threshold: 0.0400\n"
     ]
    },
    {
     "name": "stderr",
     "output_type": "stream",
     "text": [
      "\n"
     ]
    },
    {
     "name": "stdout",
     "output_type": "stream",
     "text": [
      "(-1.8,-1.6]_pred/task0/int_pn exists\n",
      "Starting set: test\n"
     ]
    },
    {
     "name": "stderr",
     "output_type": "stream",
     "text": [
      "Preloading waveforms: 100%|██████████| 255/255 [00:00<00:00, 328283.46it/s]"
     ]
    },
    {
     "name": "stdout",
     "output_type": "stream",
     "text": [
      "Number of examples in test: 255\n",
      "255 earthquake traces\n",
      "0 noise traces\n",
      "Probability threshold: 0.1300\n"
     ]
    },
    {
     "name": "stderr",
     "output_type": "stream",
     "text": [
      "\n"
     ]
    },
    {
     "name": "stdout",
     "output_type": "stream",
     "text": [
      "Probability threshold: 0.0500\n",
      "(-1.6,-1.4] 714\n"
     ]
    },
    {
     "name": "stderr",
     "output_type": "stream",
     "text": [
      "100%|██████████| 714/714 [00:00<00:00, 3001.31it/s]\n"
     ]
    },
    {
     "name": "stdout",
     "output_type": "stream",
     "text": [
      "(-1.6,-1.4]_pred/task0/vol_eqt exists\n",
      "Starting set: test\n"
     ]
    },
    {
     "name": "stderr",
     "output_type": "stream",
     "text": [
      "Preloading waveforms: 100%|██████████| 714/714 [00:00<00:00, 350056.46it/s]"
     ]
    },
    {
     "name": "stdout",
     "output_type": "stream",
     "text": [
      "Number of examples in test: 714\n",
      "714 earthquake traces\n",
      "0 noise traces\n",
      "Probability threshold: 0.2200\n"
     ]
    },
    {
     "name": "stderr",
     "output_type": "stream",
     "text": [
      "\n"
     ]
    },
    {
     "name": "stdout",
     "output_type": "stream",
     "text": [
      "(-1.6,-1.4]_pred/task0/vol_pn exists\n",
      "Starting set: test\n"
     ]
    },
    {
     "name": "stderr",
     "output_type": "stream",
     "text": [
      "Preloading waveforms: 100%|██████████| 714/714 [00:00<00:00, 356049.58it/s]"
     ]
    },
    {
     "name": "stdout",
     "output_type": "stream",
     "text": [
      "Number of examples in test: 714\n",
      "714 earthquake traces\n",
      "0 noise traces\n",
      "Probability threshold: 0.3900\n"
     ]
    },
    {
     "name": "stderr",
     "output_type": "stream",
     "text": [
      "\n"
     ]
    },
    {
     "name": "stdout",
     "output_type": "stream",
     "text": [
      "Probability threshold: 0.3400\n",
      "(-1.6,-1.4]_pred/task0/org_eqt exists\n",
      "Starting set: test\n"
     ]
    },
    {
     "name": "stderr",
     "output_type": "stream",
     "text": [
      "Preloading waveforms: 100%|██████████| 714/714 [00:00<00:00, 334345.55it/s]"
     ]
    },
    {
     "name": "stdout",
     "output_type": "stream",
     "text": [
      "Number of examples in test: 714\n",
      "714 earthquake traces\n",
      "0 noise traces\n",
      "Probability threshold: 0.2600\n"
     ]
    },
    {
     "name": "stderr",
     "output_type": "stream",
     "text": [
      "\n"
     ]
    },
    {
     "name": "stdout",
     "output_type": "stream",
     "text": [
      "Probability threshold: 0.1500\n",
      "(-1.6,-1.4]_pred/task0/org_pn exists\n",
      "Starting set: test\n"
     ]
    },
    {
     "name": "stderr",
     "output_type": "stream",
     "text": [
      "Preloading waveforms: 100%|██████████| 714/714 [00:00<00:00, 331349.09it/s]"
     ]
    },
    {
     "name": "stdout",
     "output_type": "stream",
     "text": [
      "Number of examples in test: 714\n",
      "714 earthquake traces\n",
      "0 noise traces\n",
      "Probability threshold: 0.2500\n"
     ]
    },
    {
     "name": "stderr",
     "output_type": "stream",
     "text": [
      "\n"
     ]
    },
    {
     "name": "stdout",
     "output_type": "stream",
     "text": [
      "Probability threshold: 0.1900\n",
      "(-1.6,-1.4]_pred/task0/int_eqt exists\n",
      "Starting set: test\n"
     ]
    },
    {
     "name": "stderr",
     "output_type": "stream",
     "text": [
      "Preloading waveforms: 100%|██████████| 714/714 [00:00<00:00, 337853.46it/s]"
     ]
    },
    {
     "name": "stdout",
     "output_type": "stream",
     "text": [
      "Number of examples in test: 714\n",
      "714 earthquake traces\n",
      "0 noise traces\n",
      "Probability threshold: 0.0400\n"
     ]
    },
    {
     "name": "stderr",
     "output_type": "stream",
     "text": [
      "\n"
     ]
    },
    {
     "name": "stdout",
     "output_type": "stream",
     "text": [
      "(-1.6,-1.4]_pred/task0/int_pn exists\n",
      "Starting set: test\n"
     ]
    },
    {
     "name": "stderr",
     "output_type": "stream",
     "text": [
      "Preloading waveforms: 100%|██████████| 714/714 [00:00<00:00, 343511.48it/s]"
     ]
    },
    {
     "name": "stdout",
     "output_type": "stream",
     "text": [
      "Number of examples in test: 714\n",
      "714 earthquake traces\n",
      "0 noise traces\n",
      "Probability threshold: 0.1300\n"
     ]
    },
    {
     "name": "stderr",
     "output_type": "stream",
     "text": [
      "\n"
     ]
    },
    {
     "name": "stdout",
     "output_type": "stream",
     "text": [
      "Probability threshold: 0.0500\n",
      "(-1.4,-1.2] 1367\n"
     ]
    },
    {
     "name": "stderr",
     "output_type": "stream",
     "text": [
      "100%|██████████| 1367/1367 [00:00<00:00, 3046.02it/s]\n"
     ]
    },
    {
     "name": "stdout",
     "output_type": "stream",
     "text": [
      "(-1.4,-1.2]_pred/task0/vol_eqt exists\n",
      "Starting set: test\n"
     ]
    },
    {
     "name": "stderr",
     "output_type": "stream",
     "text": [
      "Preloading waveforms: 100%|██████████| 1367/1367 [00:00<00:00, 262263.91it/s]"
     ]
    },
    {
     "name": "stdout",
     "output_type": "stream",
     "text": [
      "Number of examples in test: 1367\n",
      "1367 earthquake traces\n",
      "0 noise traces\n",
      "Probability threshold: 0.2200\n"
     ]
    },
    {
     "name": "stderr",
     "output_type": "stream",
     "text": [
      "\n"
     ]
    },
    {
     "name": "stdout",
     "output_type": "stream",
     "text": [
      "(-1.4,-1.2]_pred/task0/vol_pn exists\n",
      "Starting set: test\n"
     ]
    },
    {
     "name": "stderr",
     "output_type": "stream",
     "text": [
      "Preloading waveforms: 100%|██████████| 1367/1367 [00:00<00:00, 350872.87it/s]"
     ]
    },
    {
     "name": "stdout",
     "output_type": "stream",
     "text": [
      "Number of examples in test: 1367\n",
      "1367 earthquake traces\n",
      "0 noise traces\n",
      "Probability threshold: 0.3900\n"
     ]
    },
    {
     "name": "stderr",
     "output_type": "stream",
     "text": [
      "\n"
     ]
    },
    {
     "name": "stdout",
     "output_type": "stream",
     "text": [
      "Probability threshold: 0.3400\n",
      "(-1.4,-1.2]_pred/task0/org_eqt exists\n",
      "Starting set: test\n"
     ]
    },
    {
     "name": "stderr",
     "output_type": "stream",
     "text": [
      "Preloading waveforms: 100%|██████████| 1367/1367 [00:00<00:00, 345211.24it/s]"
     ]
    },
    {
     "name": "stdout",
     "output_type": "stream",
     "text": [
      "Number of examples in test: 1367\n",
      "1367 earthquake traces\n",
      "0 noise traces\n",
      "Probability threshold: 0.2600\n"
     ]
    },
    {
     "name": "stderr",
     "output_type": "stream",
     "text": [
      "\n"
     ]
    },
    {
     "name": "stdout",
     "output_type": "stream",
     "text": [
      "Probability threshold: 0.1500\n",
      "(-1.4,-1.2]_pred/task0/org_pn exists\n",
      "Starting set: test\n"
     ]
    },
    {
     "name": "stderr",
     "output_type": "stream",
     "text": [
      "Preloading waveforms: 100%|██████████| 1367/1367 [00:00<00:00, 358956.59it/s]"
     ]
    },
    {
     "name": "stdout",
     "output_type": "stream",
     "text": [
      "Number of examples in test: 1367\n",
      "1367 earthquake traces\n",
      "0 noise traces\n",
      "Probability threshold: 0.2500\n"
     ]
    },
    {
     "name": "stderr",
     "output_type": "stream",
     "text": [
      "\n"
     ]
    },
    {
     "name": "stdout",
     "output_type": "stream",
     "text": [
      "Probability threshold: 0.1900\n",
      "(-1.4,-1.2]_pred/task0/int_eqt exists\n",
      "Starting set: test\n"
     ]
    },
    {
     "name": "stderr",
     "output_type": "stream",
     "text": [
      "Preloading waveforms: 100%|██████████| 1367/1367 [00:00<00:00, 354912.63it/s]"
     ]
    },
    {
     "name": "stdout",
     "output_type": "stream",
     "text": [
      "Number of examples in test: 1367\n",
      "1367 earthquake traces\n",
      "0 noise traces\n",
      "Probability threshold: 0.0400\n"
     ]
    },
    {
     "name": "stderr",
     "output_type": "stream",
     "text": [
      "\n"
     ]
    },
    {
     "name": "stdout",
     "output_type": "stream",
     "text": [
      "(-1.4,-1.2]_pred/task0/int_pn exists\n",
      "Starting set: test\n"
     ]
    },
    {
     "name": "stderr",
     "output_type": "stream",
     "text": [
      "Preloading waveforms: 100%|██████████| 1367/1367 [00:00<00:00, 357479.49it/s]"
     ]
    },
    {
     "name": "stdout",
     "output_type": "stream",
     "text": [
      "Number of examples in test: 1367\n",
      "1367 earthquake traces\n",
      "0 noise traces\n",
      "Probability threshold: 0.1300\n"
     ]
    },
    {
     "name": "stderr",
     "output_type": "stream",
     "text": [
      "\n"
     ]
    },
    {
     "name": "stdout",
     "output_type": "stream",
     "text": [
      "Probability threshold: 0.0500\n",
      "(-1.2,-1.0] 2771\n"
     ]
    },
    {
     "name": "stderr",
     "output_type": "stream",
     "text": [
      "100%|██████████| 2771/2771 [00:00<00:00, 3036.26it/s]\n"
     ]
    },
    {
     "name": "stdout",
     "output_type": "stream",
     "text": [
      "(-1.2,-1.0]_pred/task0/vol_eqt exists\n",
      "Starting set: test\n"
     ]
    },
    {
     "name": "stderr",
     "output_type": "stream",
     "text": [
      "Preloading waveforms: 100%|██████████| 2771/2771 [00:00<00:00, 359104.48it/s]"
     ]
    },
    {
     "name": "stdout",
     "output_type": "stream",
     "text": [
      "Number of examples in test: 2771\n",
      "2771 earthquake traces\n",
      "0 noise traces\n",
      "Probability threshold: 0.2200\n"
     ]
    },
    {
     "name": "stderr",
     "output_type": "stream",
     "text": [
      "\n"
     ]
    },
    {
     "name": "stdout",
     "output_type": "stream",
     "text": [
      "(-1.2,-1.0]_pred/task0/vol_pn exists\n",
      "Starting set: test\n"
     ]
    },
    {
     "name": "stderr",
     "output_type": "stream",
     "text": [
      "Preloading waveforms: 100%|██████████| 2771/2771 [00:00<00:00, 355338.64it/s]"
     ]
    },
    {
     "name": "stdout",
     "output_type": "stream",
     "text": [
      "Number of examples in test: 2771\n",
      "2771 earthquake traces\n",
      "0 noise traces\n",
      "Probability threshold: 0.3900\n"
     ]
    },
    {
     "name": "stderr",
     "output_type": "stream",
     "text": [
      "\n"
     ]
    },
    {
     "name": "stdout",
     "output_type": "stream",
     "text": [
      "Probability threshold: 0.3400\n",
      "(-1.2,-1.0]_pred/task0/org_eqt exists\n",
      "Starting set: test\n"
     ]
    },
    {
     "name": "stderr",
     "output_type": "stream",
     "text": [
      "Preloading waveforms: 100%|██████████| 2771/2771 [00:00<00:00, 358716.56it/s]"
     ]
    },
    {
     "name": "stdout",
     "output_type": "stream",
     "text": [
      "Number of examples in test: 2771\n",
      "2771 earthquake traces\n",
      "0 noise traces\n",
      "Probability threshold: 0.2600\n"
     ]
    },
    {
     "name": "stderr",
     "output_type": "stream",
     "text": [
      "\n"
     ]
    },
    {
     "name": "stdout",
     "output_type": "stream",
     "text": [
      "Probability threshold: 0.1500\n",
      "(-1.2,-1.0]_pred/task0/org_pn exists\n",
      "Starting set: test\n"
     ]
    },
    {
     "name": "stderr",
     "output_type": "stream",
     "text": [
      "Preloading waveforms: 100%|██████████| 2771/2771 [00:00<00:00, 353415.33it/s]"
     ]
    },
    {
     "name": "stdout",
     "output_type": "stream",
     "text": [
      "Number of examples in test: 2771\n",
      "2771 earthquake traces\n",
      "0 noise traces\n",
      "Probability threshold: 0.2500\n"
     ]
    },
    {
     "name": "stderr",
     "output_type": "stream",
     "text": [
      "\n"
     ]
    },
    {
     "name": "stdout",
     "output_type": "stream",
     "text": [
      "Probability threshold: 0.1900\n",
      "(-1.2,-1.0]_pred/task0/int_eqt exists\n",
      "Starting set: test\n"
     ]
    },
    {
     "name": "stderr",
     "output_type": "stream",
     "text": [
      "Preloading waveforms: 100%|██████████| 2771/2771 [00:00<00:00, 357678.84it/s]"
     ]
    },
    {
     "name": "stdout",
     "output_type": "stream",
     "text": [
      "Number of examples in test: 2771\n",
      "2771 earthquake traces\n",
      "0 noise traces\n",
      "Probability threshold: 0.0400\n"
     ]
    },
    {
     "name": "stderr",
     "output_type": "stream",
     "text": [
      "\n"
     ]
    },
    {
     "name": "stdout",
     "output_type": "stream",
     "text": [
      "(-1.2,-1.0]_pred/task0/int_pn exists\n",
      "Starting set: test\n"
     ]
    },
    {
     "name": "stderr",
     "output_type": "stream",
     "text": [
      "Preloading waveforms: 100%|██████████| 2771/2771 [00:00<00:00, 132950.69it/s]"
     ]
    },
    {
     "name": "stdout",
     "output_type": "stream",
     "text": [
      "Number of examples in test: 2771\n",
      "2771 earthquake traces\n",
      "0 noise traces\n",
      "Probability threshold: 0.1300\n"
     ]
    },
    {
     "name": "stderr",
     "output_type": "stream",
     "text": [
      "\n"
     ]
    },
    {
     "name": "stdout",
     "output_type": "stream",
     "text": [
      "Probability threshold: 0.0500\n",
      "(-1.0,-0.8] 4162\n"
     ]
    },
    {
     "name": "stderr",
     "output_type": "stream",
     "text": [
      "100%|██████████| 4162/4162 [00:01<00:00, 2980.02it/s]\n"
     ]
    },
    {
     "name": "stdout",
     "output_type": "stream",
     "text": [
      "(-1.0,-0.8]_pred/task0/vol_eqt exists\n",
      "Starting set: test\n"
     ]
    },
    {
     "name": "stderr",
     "output_type": "stream",
     "text": [
      "Preloading waveforms: 100%|██████████| 4162/4162 [00:00<00:00, 361909.26it/s]"
     ]
    },
    {
     "name": "stdout",
     "output_type": "stream",
     "text": [
      "Number of examples in test: 4162\n",
      "4162 earthquake traces\n",
      "0 noise traces\n",
      "Probability threshold: 0.2200\n"
     ]
    },
    {
     "name": "stderr",
     "output_type": "stream",
     "text": [
      "\n"
     ]
    },
    {
     "name": "stdout",
     "output_type": "stream",
     "text": [
      "(-1.0,-0.8]_pred/task0/vol_pn exists\n",
      "Starting set: test\n"
     ]
    },
    {
     "name": "stderr",
     "output_type": "stream",
     "text": [
      "Preloading waveforms: 100%|██████████| 4162/4162 [00:00<00:00, 361399.77it/s]"
     ]
    },
    {
     "name": "stdout",
     "output_type": "stream",
     "text": [
      "Number of examples in test: 4162\n",
      "4162 earthquake traces\n",
      "0 noise traces\n",
      "Probability threshold: 0.3900\n"
     ]
    },
    {
     "name": "stderr",
     "output_type": "stream",
     "text": [
      "\n"
     ]
    },
    {
     "name": "stdout",
     "output_type": "stream",
     "text": [
      "Probability threshold: 0.3400\n",
      "(-1.0,-0.8]_pred/task0/org_eqt exists\n",
      "Starting set: test\n"
     ]
    },
    {
     "name": "stderr",
     "output_type": "stream",
     "text": [
      "Preloading waveforms: 100%|██████████| 4162/4162 [00:00<00:00, 362525.56it/s]"
     ]
    },
    {
     "name": "stdout",
     "output_type": "stream",
     "text": [
      "Number of examples in test: 4162\n",
      "4162 earthquake traces\n",
      "0 noise traces\n",
      "Probability threshold: 0.2600\n"
     ]
    },
    {
     "name": "stderr",
     "output_type": "stream",
     "text": [
      "\n"
     ]
    },
    {
     "name": "stdout",
     "output_type": "stream",
     "text": [
      "Probability threshold: 0.1500\n",
      "(-1.0,-0.8]_pred/task0/org_pn exists\n",
      "Starting set: test\n"
     ]
    },
    {
     "name": "stderr",
     "output_type": "stream",
     "text": [
      "Preloading waveforms: 100%|██████████| 4162/4162 [00:00<00:00, 354371.48it/s]"
     ]
    },
    {
     "name": "stdout",
     "output_type": "stream",
     "text": [
      "Number of examples in test: 4162\n",
      "4162 earthquake traces\n",
      "0 noise traces\n",
      "Probability threshold: 0.2500\n"
     ]
    },
    {
     "name": "stderr",
     "output_type": "stream",
     "text": [
      "\n"
     ]
    },
    {
     "name": "stdout",
     "output_type": "stream",
     "text": [
      "Probability threshold: 0.1900\n",
      "(-1.0,-0.8]_pred/task0/int_eqt exists\n",
      "Starting set: test\n"
     ]
    },
    {
     "name": "stderr",
     "output_type": "stream",
     "text": [
      "Preloading waveforms: 100%|██████████| 4162/4162 [00:00<00:00, 352582.12it/s]"
     ]
    },
    {
     "name": "stdout",
     "output_type": "stream",
     "text": [
      "Number of examples in test: 4162\n",
      "4162 earthquake traces\n",
      "0 noise traces\n",
      "Probability threshold: 0.0400\n"
     ]
    },
    {
     "name": "stderr",
     "output_type": "stream",
     "text": [
      "\n"
     ]
    },
    {
     "name": "stdout",
     "output_type": "stream",
     "text": [
      "(-1.0,-0.8]_pred/task0/int_pn exists\n",
      "Starting set: test\n"
     ]
    },
    {
     "name": "stderr",
     "output_type": "stream",
     "text": [
      "Preloading waveforms: 100%|██████████| 4162/4162 [00:00<00:00, 360095.16it/s]"
     ]
    },
    {
     "name": "stdout",
     "output_type": "stream",
     "text": [
      "Number of examples in test: 4162\n",
      "4162 earthquake traces\n",
      "0 noise traces\n",
      "Probability threshold: 0.1300\n"
     ]
    },
    {
     "name": "stderr",
     "output_type": "stream",
     "text": [
      "\n"
     ]
    },
    {
     "name": "stdout",
     "output_type": "stream",
     "text": [
      "Probability threshold: 0.0500\n",
      "(-0.8,-0.6] 3698\n"
     ]
    },
    {
     "name": "stderr",
     "output_type": "stream",
     "text": [
      "100%|██████████| 3698/3698 [00:01<00:00, 2799.59it/s]\n"
     ]
    },
    {
     "name": "stdout",
     "output_type": "stream",
     "text": [
      "(-0.8,-0.6]_pred/task0/vol_eqt exists\n",
      "Starting set: test\n"
     ]
    },
    {
     "name": "stderr",
     "output_type": "stream",
     "text": [
      "Preloading waveforms: 100%|██████████| 3698/3698 [00:00<00:00, 352488.15it/s]"
     ]
    },
    {
     "name": "stdout",
     "output_type": "stream",
     "text": [
      "Number of examples in test: 3698\n",
      "3698 earthquake traces\n",
      "0 noise traces\n",
      "Probability threshold: 0.2200\n"
     ]
    },
    {
     "name": "stderr",
     "output_type": "stream",
     "text": [
      "\n"
     ]
    },
    {
     "name": "stdout",
     "output_type": "stream",
     "text": [
      "(-0.8,-0.6]_pred/task0/vol_pn exists\n",
      "Starting set: test\n"
     ]
    },
    {
     "name": "stderr",
     "output_type": "stream",
     "text": [
      "Preloading waveforms: 100%|██████████| 3698/3698 [00:00<00:00, 341784.80it/s]"
     ]
    },
    {
     "name": "stdout",
     "output_type": "stream",
     "text": [
      "Number of examples in test: 3698\n",
      "3698 earthquake traces\n",
      "0 noise traces\n",
      "Probability threshold: 0.3900\n"
     ]
    },
    {
     "name": "stderr",
     "output_type": "stream",
     "text": [
      "\n"
     ]
    },
    {
     "name": "stdout",
     "output_type": "stream",
     "text": [
      "Probability threshold: 0.3400\n",
      "(-0.8,-0.6]_pred/task0/org_eqt exists\n",
      "Starting set: test\n"
     ]
    },
    {
     "name": "stderr",
     "output_type": "stream",
     "text": [
      "Preloading waveforms: 100%|██████████| 3698/3698 [00:00<00:00, 348246.17it/s]"
     ]
    },
    {
     "name": "stdout",
     "output_type": "stream",
     "text": [
      "Number of examples in test: 3698\n",
      "3698 earthquake traces\n",
      "0 noise traces\n",
      "Probability threshold: 0.2600\n"
     ]
    },
    {
     "name": "stderr",
     "output_type": "stream",
     "text": [
      "\n"
     ]
    },
    {
     "name": "stdout",
     "output_type": "stream",
     "text": [
      "Probability threshold: 0.1500\n",
      "(-0.8,-0.6]_pred/task0/org_pn exists\n",
      "Starting set: test\n"
     ]
    },
    {
     "name": "stderr",
     "output_type": "stream",
     "text": [
      "Preloading waveforms: 100%|██████████| 3698/3698 [00:00<00:00, 338547.12it/s]"
     ]
    },
    {
     "name": "stdout",
     "output_type": "stream",
     "text": [
      "Number of examples in test: 3698\n",
      "3698 earthquake traces\n",
      "0 noise traces\n",
      "Probability threshold: 0.2500\n"
     ]
    },
    {
     "name": "stderr",
     "output_type": "stream",
     "text": [
      "\n"
     ]
    },
    {
     "name": "stdout",
     "output_type": "stream",
     "text": [
      "Probability threshold: 0.1900\n",
      "(-0.8,-0.6]_pred/task0/int_eqt exists\n",
      "Starting set: test\n"
     ]
    },
    {
     "name": "stderr",
     "output_type": "stream",
     "text": [
      "Preloading waveforms: 100%|██████████| 3698/3698 [00:00<00:00, 369043.66it/s]"
     ]
    },
    {
     "name": "stdout",
     "output_type": "stream",
     "text": [
      "Number of examples in test: 3698\n",
      "3698 earthquake traces\n",
      "0 noise traces\n",
      "Probability threshold: 0.0400\n"
     ]
    },
    {
     "name": "stderr",
     "output_type": "stream",
     "text": [
      "\n"
     ]
    },
    {
     "name": "stdout",
     "output_type": "stream",
     "text": [
      "(-0.8,-0.6]_pred/task0/int_pn exists\n",
      "Starting set: test\n"
     ]
    },
    {
     "name": "stderr",
     "output_type": "stream",
     "text": [
      "Preloading waveforms: 100%|██████████| 3698/3698 [00:00<00:00, 365918.09it/s]"
     ]
    },
    {
     "name": "stdout",
     "output_type": "stream",
     "text": [
      "Number of examples in test: 3698\n",
      "3698 earthquake traces\n",
      "0 noise traces\n",
      "Probability threshold: 0.1300\n"
     ]
    },
    {
     "name": "stderr",
     "output_type": "stream",
     "text": [
      "\n"
     ]
    },
    {
     "name": "stdout",
     "output_type": "stream",
     "text": [
      "Probability threshold: 0.0500\n",
      "(-0.6,-0.4] 2540\n"
     ]
    },
    {
     "name": "stderr",
     "output_type": "stream",
     "text": [
      "100%|██████████| 2540/2540 [00:00<00:00, 2733.79it/s]\n"
     ]
    },
    {
     "name": "stdout",
     "output_type": "stream",
     "text": [
      "(-0.6,-0.4]_pred/task0/vol_eqt exists\n",
      "Starting set: test\n"
     ]
    },
    {
     "name": "stderr",
     "output_type": "stream",
     "text": [
      "Preloading waveforms: 100%|██████████| 2540/2540 [00:00<00:00, 357825.28it/s]"
     ]
    },
    {
     "name": "stdout",
     "output_type": "stream",
     "text": [
      "Number of examples in test: 2540\n",
      "2540 earthquake traces\n",
      "0 noise traces\n",
      "Probability threshold: 0.2200\n"
     ]
    },
    {
     "name": "stderr",
     "output_type": "stream",
     "text": [
      "\n"
     ]
    },
    {
     "name": "stdout",
     "output_type": "stream",
     "text": [
      "(-0.6,-0.4]_pred/task0/vol_pn exists\n",
      "Starting set: test\n"
     ]
    },
    {
     "name": "stderr",
     "output_type": "stream",
     "text": [
      "Preloading waveforms: 100%|██████████| 2540/2540 [00:00<00:00, 366996.18it/s]"
     ]
    },
    {
     "name": "stdout",
     "output_type": "stream",
     "text": [
      "Number of examples in test: 2540\n",
      "2540 earthquake traces\n",
      "0 noise traces\n",
      "Probability threshold: 0.3900\n"
     ]
    },
    {
     "name": "stderr",
     "output_type": "stream",
     "text": [
      "\n"
     ]
    },
    {
     "name": "stdout",
     "output_type": "stream",
     "text": [
      "Probability threshold: 0.3400\n",
      "(-0.6,-0.4]_pred/task0/org_eqt exists\n",
      "Starting set: test\n"
     ]
    },
    {
     "name": "stderr",
     "output_type": "stream",
     "text": [
      "Preloading waveforms: 100%|██████████| 2540/2540 [00:00<00:00, 358632.34it/s]"
     ]
    },
    {
     "name": "stdout",
     "output_type": "stream",
     "text": [
      "Number of examples in test: 2540\n",
      "2540 earthquake traces\n",
      "0 noise traces\n",
      "Probability threshold: 0.2600\n"
     ]
    },
    {
     "name": "stderr",
     "output_type": "stream",
     "text": [
      "\n"
     ]
    },
    {
     "name": "stdout",
     "output_type": "stream",
     "text": [
      "Probability threshold: 0.1500\n",
      "(-0.6,-0.4]_pred/task0/org_pn exists\n",
      "Starting set: test\n"
     ]
    },
    {
     "name": "stderr",
     "output_type": "stream",
     "text": [
      "Preloading waveforms: 100%|██████████| 2540/2540 [00:00<00:00, 357789.23it/s]"
     ]
    },
    {
     "name": "stdout",
     "output_type": "stream",
     "text": [
      "Number of examples in test: 2540\n",
      "2540 earthquake traces\n",
      "0 noise traces\n",
      "Probability threshold: 0.2500\n"
     ]
    },
    {
     "name": "stderr",
     "output_type": "stream",
     "text": [
      "\n"
     ]
    },
    {
     "name": "stdout",
     "output_type": "stream",
     "text": [
      "Probability threshold: 0.1900\n",
      "(-0.6,-0.4]_pred/task0/int_eqt exists\n",
      "Starting set: test\n"
     ]
    },
    {
     "name": "stderr",
     "output_type": "stream",
     "text": [
      "Preloading waveforms: 100%|██████████| 2540/2540 [00:00<00:00, 355651.22it/s]"
     ]
    },
    {
     "name": "stdout",
     "output_type": "stream",
     "text": [
      "Number of examples in test: 2540\n",
      "2540 earthquake traces\n",
      "0 noise traces\n",
      "Probability threshold: 0.0400\n"
     ]
    },
    {
     "name": "stderr",
     "output_type": "stream",
     "text": [
      "\n"
     ]
    },
    {
     "name": "stdout",
     "output_type": "stream",
     "text": [
      "(-0.6,-0.4]_pred/task0/int_pn exists\n",
      "Starting set: test\n"
     ]
    },
    {
     "name": "stderr",
     "output_type": "stream",
     "text": [
      "Preloading waveforms: 100%|██████████| 2540/2540 [00:00<00:00, 356699.10it/s]"
     ]
    },
    {
     "name": "stdout",
     "output_type": "stream",
     "text": [
      "Number of examples in test: 2540\n",
      "2540 earthquake traces\n",
      "0 noise traces\n",
      "Probability threshold: 0.1300\n"
     ]
    },
    {
     "name": "stderr",
     "output_type": "stream",
     "text": [
      "\n"
     ]
    },
    {
     "name": "stdout",
     "output_type": "stream",
     "text": [
      "Probability threshold: 0.0500\n",
      "(-0.4,-0.2] 3074\n"
     ]
    },
    {
     "name": "stderr",
     "output_type": "stream",
     "text": [
      "100%|██████████| 3074/3074 [00:01<00:00, 2763.15it/s]\n"
     ]
    },
    {
     "name": "stdout",
     "output_type": "stream",
     "text": [
      "(-0.4,-0.2]_pred/task0/vol_eqt exists\n",
      "Starting set: test\n"
     ]
    },
    {
     "name": "stderr",
     "output_type": "stream",
     "text": [
      "Preloading waveforms: 100%|██████████| 3074/3074 [00:00<00:00, 357501.47it/s]"
     ]
    },
    {
     "name": "stdout",
     "output_type": "stream",
     "text": [
      "Number of examples in test: 3074\n",
      "3074 earthquake traces\n",
      "0 noise traces\n",
      "Probability threshold: 0.2200\n"
     ]
    },
    {
     "name": "stderr",
     "output_type": "stream",
     "text": [
      "\n"
     ]
    },
    {
     "name": "stdout",
     "output_type": "stream",
     "text": [
      "(-0.4,-0.2]_pred/task0/vol_pn exists\n",
      "Starting set: test\n"
     ]
    },
    {
     "name": "stderr",
     "output_type": "stream",
     "text": [
      "Preloading waveforms: 100%|██████████| 3074/3074 [00:00<00:00, 348750.08it/s]"
     ]
    },
    {
     "name": "stdout",
     "output_type": "stream",
     "text": [
      "Number of examples in test: 3074\n",
      "3074 earthquake traces\n",
      "0 noise traces\n",
      "Probability threshold: 0.3900\n"
     ]
    },
    {
     "name": "stderr",
     "output_type": "stream",
     "text": [
      "\n"
     ]
    },
    {
     "name": "stdout",
     "output_type": "stream",
     "text": [
      "Probability threshold: 0.3400\n",
      "(-0.4,-0.2]_pred/task0/org_eqt exists\n",
      "Starting set: test\n"
     ]
    },
    {
     "name": "stderr",
     "output_type": "stream",
     "text": [
      "Preloading waveforms: 100%|██████████| 3074/3074 [00:00<00:00, 358495.50it/s]"
     ]
    },
    {
     "name": "stdout",
     "output_type": "stream",
     "text": [
      "Number of examples in test: 3074\n",
      "3074 earthquake traces\n",
      "0 noise traces\n",
      "Probability threshold: 0.2600\n"
     ]
    },
    {
     "name": "stderr",
     "output_type": "stream",
     "text": [
      "\n"
     ]
    },
    {
     "name": "stdout",
     "output_type": "stream",
     "text": [
      "Probability threshold: 0.1500\n",
      "(-0.4,-0.2]_pred/task0/org_pn exists\n",
      "Starting set: test\n"
     ]
    },
    {
     "name": "stderr",
     "output_type": "stream",
     "text": [
      "Preloading waveforms: 100%|██████████| 3074/3074 [00:00<00:00, 359004.58it/s]"
     ]
    },
    {
     "name": "stdout",
     "output_type": "stream",
     "text": [
      "Number of examples in test: 3074\n",
      "3074 earthquake traces\n",
      "0 noise traces\n",
      "Probability threshold: 0.2500\n"
     ]
    },
    {
     "name": "stderr",
     "output_type": "stream",
     "text": [
      "\n"
     ]
    },
    {
     "name": "stdout",
     "output_type": "stream",
     "text": [
      "Probability threshold: 0.1900\n",
      "(-0.4,-0.2]_pred/task0/int_eqt exists\n",
      "Starting set: test\n"
     ]
    },
    {
     "name": "stderr",
     "output_type": "stream",
     "text": [
      "Preloading waveforms: 100%|██████████| 3074/3074 [00:00<00:00, 354620.45it/s]"
     ]
    },
    {
     "name": "stdout",
     "output_type": "stream",
     "text": [
      "Number of examples in test: 3074\n",
      "3074 earthquake traces\n",
      "0 noise traces\n",
      "Probability threshold: 0.0400\n"
     ]
    },
    {
     "name": "stderr",
     "output_type": "stream",
     "text": [
      "\n"
     ]
    },
    {
     "name": "stdout",
     "output_type": "stream",
     "text": [
      "(-0.4,-0.2]_pred/task0/int_pn exists\n",
      "Starting set: test\n"
     ]
    },
    {
     "name": "stderr",
     "output_type": "stream",
     "text": [
      "Preloading waveforms: 100%|██████████| 3074/3074 [00:00<00:00, 356483.37it/s]"
     ]
    },
    {
     "name": "stdout",
     "output_type": "stream",
     "text": [
      "Number of examples in test: 3074\n",
      "3074 earthquake traces\n",
      "0 noise traces\n",
      "Probability threshold: 0.1300\n"
     ]
    },
    {
     "name": "stderr",
     "output_type": "stream",
     "text": [
      "\n"
     ]
    },
    {
     "name": "stdout",
     "output_type": "stream",
     "text": [
      "Probability threshold: 0.0500\n",
      "(-0.2,0.0] 5902\n"
     ]
    },
    {
     "name": "stderr",
     "output_type": "stream",
     "text": [
      "100%|██████████| 5902/5902 [00:02<00:00, 2778.46it/s]\n"
     ]
    },
    {
     "name": "stdout",
     "output_type": "stream",
     "text": [
      "(-0.2,0.0]_pred/task0/vol_eqt exists\n",
      "Starting set: test\n"
     ]
    },
    {
     "name": "stderr",
     "output_type": "stream",
     "text": [
      "Preloading waveforms: 100%|██████████| 5902/5902 [00:00<00:00, 359134.50it/s]"
     ]
    },
    {
     "name": "stdout",
     "output_type": "stream",
     "text": [
      "Number of examples in test: 5902\n",
      "5902 earthquake traces\n",
      "0 noise traces\n",
      "Probability threshold: 0.2200\n"
     ]
    },
    {
     "name": "stderr",
     "output_type": "stream",
     "text": [
      "\n"
     ]
    },
    {
     "name": "stdout",
     "output_type": "stream",
     "text": [
      "(-0.2,0.0]_pred/task0/vol_pn exists\n",
      "Starting set: test\n"
     ]
    },
    {
     "name": "stderr",
     "output_type": "stream",
     "text": [
      "Preloading waveforms: 100%|██████████| 5902/5902 [00:00<00:00, 358225.03it/s]"
     ]
    },
    {
     "name": "stdout",
     "output_type": "stream",
     "text": [
      "Number of examples in test: 5902\n",
      "5902 earthquake traces\n",
      "0 noise traces\n",
      "Probability threshold: 0.3900\n"
     ]
    },
    {
     "name": "stderr",
     "output_type": "stream",
     "text": [
      "\n"
     ]
    },
    {
     "name": "stdout",
     "output_type": "stream",
     "text": [
      "Probability threshold: 0.3400\n",
      "(-0.2,0.0]_pred/task0/org_eqt exists\n",
      "Starting set: test\n"
     ]
    },
    {
     "name": "stderr",
     "output_type": "stream",
     "text": [
      "Preloading waveforms: 100%|██████████| 5902/5902 [00:00<00:00, 359902.04it/s]"
     ]
    },
    {
     "name": "stdout",
     "output_type": "stream",
     "text": [
      "Number of examples in test: 5902\n",
      "5902 earthquake traces\n",
      "0 noise traces\n",
      "Probability threshold: 0.2600\n"
     ]
    },
    {
     "name": "stderr",
     "output_type": "stream",
     "text": [
      "\n"
     ]
    },
    {
     "name": "stdout",
     "output_type": "stream",
     "text": [
      "Probability threshold: 0.1500\n",
      "(-0.2,0.0]_pred/task0/org_pn exists\n",
      "Starting set: test\n"
     ]
    },
    {
     "name": "stderr",
     "output_type": "stream",
     "text": [
      "Preloading waveforms: 100%|██████████| 5902/5902 [00:00<00:00, 360883.19it/s]"
     ]
    },
    {
     "name": "stdout",
     "output_type": "stream",
     "text": [
      "Number of examples in test: 5902\n",
      "5902 earthquake traces\n",
      "0 noise traces\n",
      "Probability threshold: 0.2500\n"
     ]
    },
    {
     "name": "stderr",
     "output_type": "stream",
     "text": [
      "\n"
     ]
    },
    {
     "name": "stdout",
     "output_type": "stream",
     "text": [
      "Probability threshold: 0.1900\n",
      "(-0.2,0.0]_pred/task0/int_eqt exists\n",
      "Starting set: test\n"
     ]
    },
    {
     "name": "stderr",
     "output_type": "stream",
     "text": [
      "Preloading waveforms: 100%|██████████| 5902/5902 [00:00<00:00, 361294.02it/s]"
     ]
    },
    {
     "name": "stdout",
     "output_type": "stream",
     "text": [
      "Number of examples in test: 5902\n",
      "5902 earthquake traces\n",
      "0 noise traces\n",
      "Probability threshold: 0.0400\n"
     ]
    },
    {
     "name": "stderr",
     "output_type": "stream",
     "text": [
      "\n"
     ]
    },
    {
     "name": "stdout",
     "output_type": "stream",
     "text": [
      "(-0.2,0.0]_pred/task0/int_pn exists\n",
      "Starting set: test\n"
     ]
    },
    {
     "name": "stderr",
     "output_type": "stream",
     "text": [
      "Preloading waveforms: 100%|██████████| 5902/5902 [00:00<00:00, 333806.85it/s]"
     ]
    },
    {
     "name": "stdout",
     "output_type": "stream",
     "text": [
      "Number of examples in test: 5902\n",
      "5902 earthquake traces\n",
      "0 noise traces\n",
      "Probability threshold: 0.1300\n"
     ]
    },
    {
     "name": "stderr",
     "output_type": "stream",
     "text": [
      "\n"
     ]
    },
    {
     "name": "stdout",
     "output_type": "stream",
     "text": [
      "Probability threshold: 0.0500\n",
      "(0.0,0.2] 4367\n"
     ]
    },
    {
     "name": "stderr",
     "output_type": "stream",
     "text": [
      "100%|██████████| 4367/4367 [00:01<00:00, 2751.06it/s]\n"
     ]
    },
    {
     "name": "stdout",
     "output_type": "stream",
     "text": [
      "(0.0,0.2]_pred/task0/vol_eqt exists\n",
      "Starting set: test\n"
     ]
    },
    {
     "name": "stderr",
     "output_type": "stream",
     "text": [
      "Preloading waveforms: 100%|██████████| 4367/4367 [00:00<00:00, 355805.78it/s]"
     ]
    },
    {
     "name": "stdout",
     "output_type": "stream",
     "text": [
      "Number of examples in test: 4367\n",
      "4367 earthquake traces\n",
      "0 noise traces\n",
      "Probability threshold: 0.2200\n"
     ]
    },
    {
     "name": "stderr",
     "output_type": "stream",
     "text": [
      "\n"
     ]
    },
    {
     "name": "stdout",
     "output_type": "stream",
     "text": [
      "(0.0,0.2]_pred/task0/vol_pn exists\n",
      "Starting set: test\n"
     ]
    },
    {
     "name": "stderr",
     "output_type": "stream",
     "text": [
      "Preloading waveforms: 100%|██████████| 4367/4367 [00:00<00:00, 363711.79it/s]"
     ]
    },
    {
     "name": "stdout",
     "output_type": "stream",
     "text": [
      "Number of examples in test: 4367\n",
      "4367 earthquake traces\n",
      "0 noise traces\n",
      "Probability threshold: 0.3900\n"
     ]
    },
    {
     "name": "stderr",
     "output_type": "stream",
     "text": [
      "\n"
     ]
    },
    {
     "name": "stdout",
     "output_type": "stream",
     "text": [
      "Probability threshold: 0.3400\n",
      "(0.0,0.2]_pred/task0/org_eqt exists\n",
      "Starting set: test\n"
     ]
    },
    {
     "name": "stderr",
     "output_type": "stream",
     "text": [
      "Preloading waveforms: 100%|██████████| 4367/4367 [00:00<00:00, 357284.08it/s]"
     ]
    },
    {
     "name": "stdout",
     "output_type": "stream",
     "text": [
      "Number of examples in test: 4367\n",
      "4367 earthquake traces\n",
      "0 noise traces\n",
      "Probability threshold: 0.2600\n"
     ]
    },
    {
     "name": "stderr",
     "output_type": "stream",
     "text": [
      "\n"
     ]
    },
    {
     "name": "stdout",
     "output_type": "stream",
     "text": [
      "Probability threshold: 0.1500\n",
      "(0.0,0.2]_pred/task0/org_pn exists\n",
      "Starting set: test\n"
     ]
    },
    {
     "name": "stderr",
     "output_type": "stream",
     "text": [
      "Preloading waveforms: 100%|██████████| 4367/4367 [00:00<00:00, 358444.73it/s]"
     ]
    },
    {
     "name": "stdout",
     "output_type": "stream",
     "text": [
      "Number of examples in test: 4367\n",
      "4367 earthquake traces\n",
      "0 noise traces\n",
      "Probability threshold: 0.2500\n"
     ]
    },
    {
     "name": "stderr",
     "output_type": "stream",
     "text": [
      "\n"
     ]
    },
    {
     "name": "stdout",
     "output_type": "stream",
     "text": [
      "Probability threshold: 0.1900\n",
      "(0.0,0.2]_pred/task0/int_eqt exists\n",
      "Starting set: test\n"
     ]
    },
    {
     "name": "stderr",
     "output_type": "stream",
     "text": [
      "Preloading waveforms: 100%|██████████| 4367/4367 [00:00<00:00, 354024.62it/s]"
     ]
    },
    {
     "name": "stdout",
     "output_type": "stream",
     "text": [
      "Number of examples in test: 4367\n",
      "4367 earthquake traces\n",
      "0 noise traces\n",
      "Probability threshold: 0.0400\n"
     ]
    },
    {
     "name": "stderr",
     "output_type": "stream",
     "text": [
      "\n"
     ]
    },
    {
     "name": "stdout",
     "output_type": "stream",
     "text": [
      "(0.0,0.2]_pred/task0/int_pn exists\n",
      "Starting set: test\n"
     ]
    },
    {
     "name": "stderr",
     "output_type": "stream",
     "text": [
      "Preloading waveforms: 100%|██████████| 4367/4367 [00:00<00:00, 356866.41it/s]"
     ]
    },
    {
     "name": "stdout",
     "output_type": "stream",
     "text": [
      "Number of examples in test: 4367\n",
      "4367 earthquake traces\n",
      "0 noise traces\n",
      "Probability threshold: 0.1300\n"
     ]
    },
    {
     "name": "stderr",
     "output_type": "stream",
     "text": [
      "\n"
     ]
    },
    {
     "name": "stdout",
     "output_type": "stream",
     "text": [
      "Probability threshold: 0.0500\n",
      "(0.2,0.4] 1058\n"
     ]
    },
    {
     "name": "stderr",
     "output_type": "stream",
     "text": [
      "100%|██████████| 1058/1058 [00:00<00:00, 2704.31it/s]\n"
     ]
    },
    {
     "name": "stdout",
     "output_type": "stream",
     "text": [
      "(0.2,0.4]_pred/task0/vol_eqt exists\n",
      "Starting set: test\n"
     ]
    },
    {
     "name": "stderr",
     "output_type": "stream",
     "text": [
      "Preloading waveforms: 100%|██████████| 1058/1058 [00:00<00:00, 350021.58it/s]"
     ]
    },
    {
     "name": "stdout",
     "output_type": "stream",
     "text": [
      "Number of examples in test: 1058\n",
      "1058 earthquake traces\n",
      "0 noise traces\n",
      "Probability threshold: 0.2200\n"
     ]
    },
    {
     "name": "stderr",
     "output_type": "stream",
     "text": [
      "\n"
     ]
    },
    {
     "name": "stdout",
     "output_type": "stream",
     "text": [
      "(0.2,0.4]_pred/task0/vol_pn exists\n",
      "Starting set: test\n"
     ]
    },
    {
     "name": "stderr",
     "output_type": "stream",
     "text": [
      "Preloading waveforms: 100%|██████████| 1058/1058 [00:00<00:00, 346279.64it/s]"
     ]
    },
    {
     "name": "stdout",
     "output_type": "stream",
     "text": [
      "Number of examples in test: 1058\n",
      "1058 earthquake traces\n",
      "0 noise traces\n",
      "Probability threshold: 0.3900\n"
     ]
    },
    {
     "name": "stderr",
     "output_type": "stream",
     "text": [
      "\n"
     ]
    },
    {
     "name": "stdout",
     "output_type": "stream",
     "text": [
      "Probability threshold: 0.3400\n",
      "(0.2,0.4]_pred/task0/org_eqt exists\n",
      "Starting set: test\n"
     ]
    },
    {
     "name": "stderr",
     "output_type": "stream",
     "text": [
      "Preloading waveforms: 100%|██████████| 1058/1058 [00:00<00:00, 355233.24it/s]"
     ]
    },
    {
     "name": "stdout",
     "output_type": "stream",
     "text": [
      "Number of examples in test: 1058\n",
      "1058 earthquake traces\n",
      "0 noise traces\n",
      "Probability threshold: 0.2600\n"
     ]
    },
    {
     "name": "stderr",
     "output_type": "stream",
     "text": [
      "\n"
     ]
    },
    {
     "name": "stdout",
     "output_type": "stream",
     "text": [
      "Probability threshold: 0.1500\n",
      "(0.2,0.4]_pred/task0/org_pn exists\n",
      "Starting set: test\n"
     ]
    },
    {
     "name": "stderr",
     "output_type": "stream",
     "text": [
      "Preloading waveforms: 100%|██████████| 1058/1058 [00:00<00:00, 348783.59it/s]"
     ]
    },
    {
     "name": "stdout",
     "output_type": "stream",
     "text": [
      "Number of examples in test: 1058\n",
      "1058 earthquake traces\n",
      "0 noise traces\n",
      "Probability threshold: 0.2500\n"
     ]
    },
    {
     "name": "stderr",
     "output_type": "stream",
     "text": [
      "\n"
     ]
    },
    {
     "name": "stdout",
     "output_type": "stream",
     "text": [
      "Probability threshold: 0.1900\n",
      "(0.2,0.4]_pred/task0/int_eqt exists\n",
      "Starting set: test\n"
     ]
    },
    {
     "name": "stderr",
     "output_type": "stream",
     "text": [
      "Preloading waveforms: 100%|██████████| 1058/1058 [00:00<00:00, 356202.73it/s]"
     ]
    },
    {
     "name": "stdout",
     "output_type": "stream",
     "text": [
      "Number of examples in test: 1058\n",
      "1058 earthquake traces\n",
      "0 noise traces\n",
      "Probability threshold: 0.0400\n"
     ]
    },
    {
     "name": "stderr",
     "output_type": "stream",
     "text": [
      "\n"
     ]
    },
    {
     "name": "stdout",
     "output_type": "stream",
     "text": [
      "(0.2,0.4]_pred/task0/int_pn exists\n",
      "Starting set: test\n"
     ]
    },
    {
     "name": "stderr",
     "output_type": "stream",
     "text": [
      "Preloading waveforms: 100%|██████████| 1058/1058 [00:00<00:00, 351881.19it/s]"
     ]
    },
    {
     "name": "stdout",
     "output_type": "stream",
     "text": [
      "Number of examples in test: 1058\n",
      "1058 earthquake traces\n",
      "0 noise traces\n",
      "Probability threshold: 0.1300\n"
     ]
    },
    {
     "name": "stderr",
     "output_type": "stream",
     "text": [
      "\n"
     ]
    },
    {
     "name": "stdout",
     "output_type": "stream",
     "text": [
      "Probability threshold: 0.0500\n",
      "(0.4,0.6] 137\n"
     ]
    },
    {
     "name": "stderr",
     "output_type": "stream",
     "text": [
      "100%|██████████| 137/137 [00:00<00:00, 2618.66it/s]\n"
     ]
    },
    {
     "name": "stdout",
     "output_type": "stream",
     "text": [
      "(0.4,0.6]_pred/task0/vol_eqt exists\n",
      "Starting set: test\n"
     ]
    },
    {
     "name": "stderr",
     "output_type": "stream",
     "text": [
      "Preloading waveforms: 100%|██████████| 137/137 [00:00<00:00, 305161.79it/s]"
     ]
    },
    {
     "name": "stdout",
     "output_type": "stream",
     "text": [
      "Number of examples in test: 137\n",
      "137 earthquake traces\n",
      "0 noise traces\n",
      "Probability threshold: 0.2200\n"
     ]
    },
    {
     "name": "stderr",
     "output_type": "stream",
     "text": [
      "\n"
     ]
    },
    {
     "name": "stdout",
     "output_type": "stream",
     "text": [
      "(0.4,0.6]_pred/task0/vol_pn exists\n",
      "Starting set: test\n"
     ]
    },
    {
     "name": "stderr",
     "output_type": "stream",
     "text": [
      "Preloading waveforms: 100%|██████████| 137/137 [00:00<00:00, 283203.38it/s]"
     ]
    },
    {
     "name": "stdout",
     "output_type": "stream",
     "text": [
      "Number of examples in test: 137\n",
      "137 earthquake traces\n",
      "0 noise traces\n",
      "Probability threshold: 0.3900\n"
     ]
    },
    {
     "name": "stderr",
     "output_type": "stream",
     "text": [
      "\n"
     ]
    },
    {
     "name": "stdout",
     "output_type": "stream",
     "text": [
      "Probability threshold: 0.3400\n",
      "(0.4,0.6]_pred/task0/org_eqt exists\n",
      "Starting set: test\n"
     ]
    },
    {
     "name": "stderr",
     "output_type": "stream",
     "text": [
      "Preloading waveforms: 100%|██████████| 137/137 [00:00<00:00, 301796.03it/s]"
     ]
    },
    {
     "name": "stdout",
     "output_type": "stream",
     "text": [
      "Number of examples in test: 137\n",
      "137 earthquake traces\n",
      "0 noise traces\n",
      "Probability threshold: 0.2600\n"
     ]
    },
    {
     "name": "stderr",
     "output_type": "stream",
     "text": [
      "\n"
     ]
    },
    {
     "name": "stdout",
     "output_type": "stream",
     "text": [
      "Probability threshold: 0.1500\n",
      "(0.4,0.6]_pred/task0/org_pn exists\n",
      "Starting set: test\n"
     ]
    },
    {
     "name": "stderr",
     "output_type": "stream",
     "text": [
      "Preloading waveforms: 100%|██████████| 137/137 [00:00<00:00, 291094.05it/s]"
     ]
    },
    {
     "name": "stdout",
     "output_type": "stream",
     "text": [
      "Number of examples in test: 137\n",
      "137 earthquake traces\n",
      "0 noise traces\n",
      "Probability threshold: 0.2500\n"
     ]
    },
    {
     "name": "stderr",
     "output_type": "stream",
     "text": [
      "\n"
     ]
    },
    {
     "name": "stdout",
     "output_type": "stream",
     "text": [
      "Probability threshold: 0.1900\n",
      "(0.4,0.6]_pred/task0/int_eqt exists\n",
      "Starting set: test\n"
     ]
    },
    {
     "name": "stderr",
     "output_type": "stream",
     "text": [
      "Preloading waveforms: 100%|██████████| 137/137 [00:00<00:00, 293023.79it/s]"
     ]
    },
    {
     "name": "stdout",
     "output_type": "stream",
     "text": [
      "Number of examples in test: 137\n",
      "137 earthquake traces\n",
      "0 noise traces\n",
      "Probability threshold: 0.0400\n"
     ]
    },
    {
     "name": "stderr",
     "output_type": "stream",
     "text": [
      "\n"
     ]
    },
    {
     "name": "stdout",
     "output_type": "stream",
     "text": [
      "(0.4,0.6]_pred/task0/int_pn exists\n",
      "Starting set: test\n"
     ]
    },
    {
     "name": "stderr",
     "output_type": "stream",
     "text": [
      "Preloading waveforms: 100%|██████████| 137/137 [00:00<00:00, 299281.07it/s]"
     ]
    },
    {
     "name": "stdout",
     "output_type": "stream",
     "text": [
      "Number of examples in test: 137\n",
      "137 earthquake traces\n",
      "0 noise traces\n",
      "Probability threshold: 0.1300\n"
     ]
    },
    {
     "name": "stderr",
     "output_type": "stream",
     "text": [
      "\n"
     ]
    },
    {
     "name": "stdout",
     "output_type": "stream",
     "text": [
      "Probability threshold: 0.0500\n",
      "(0.6,0.8] 21\n"
     ]
    },
    {
     "name": "stderr",
     "output_type": "stream",
     "text": [
      "100%|██████████| 21/21 [00:00<00:00, 2413.62it/s]\n"
     ]
    },
    {
     "name": "stdout",
     "output_type": "stream",
     "text": [
      "(0.6,0.8]_pred/task0/vol_eqt exists\n",
      "Starting set: test\n"
     ]
    },
    {
     "name": "stderr",
     "output_type": "stream",
     "text": [
      "Preloading waveforms: 100%|██████████| 21/21 [00:00<00:00, 181609.04it/s]"
     ]
    },
    {
     "name": "stdout",
     "output_type": "stream",
     "text": [
      "Number of examples in test: 21\n",
      "21 earthquake traces\n",
      "0 noise traces\n",
      "Probability threshold: 0.2200\n"
     ]
    },
    {
     "name": "stderr",
     "output_type": "stream",
     "text": [
      "\n"
     ]
    },
    {
     "name": "stdout",
     "output_type": "stream",
     "text": [
      "(0.6,0.8]_pred/task0/vol_pn exists\n",
      "Starting set: test\n"
     ]
    },
    {
     "name": "stderr",
     "output_type": "stream",
     "text": [
      "Preloading waveforms: 100%|██████████| 21/21 [00:00<00:00, 173728.57it/s]"
     ]
    },
    {
     "name": "stdout",
     "output_type": "stream",
     "text": [
      "Number of examples in test: 21\n",
      "21 earthquake traces\n",
      "0 noise traces\n",
      "Probability threshold: 0.3900\n"
     ]
    },
    {
     "name": "stderr",
     "output_type": "stream",
     "text": [
      "\n"
     ]
    },
    {
     "name": "stdout",
     "output_type": "stream",
     "text": [
      "Probability threshold: 0.3400\n",
      "(0.6,0.8]_pred/task0/org_eqt exists\n",
      "Starting set: test\n"
     ]
    },
    {
     "name": "stderr",
     "output_type": "stream",
     "text": [
      "Preloading waveforms: 100%|██████████| 21/21 [00:00<00:00, 169060.24it/s]"
     ]
    },
    {
     "name": "stdout",
     "output_type": "stream",
     "text": [
      "Number of examples in test: 21\n",
      "21 earthquake traces\n",
      "0 noise traces\n",
      "Probability threshold: 0.2600\n"
     ]
    },
    {
     "name": "stderr",
     "output_type": "stream",
     "text": [
      "\n"
     ]
    },
    {
     "name": "stdout",
     "output_type": "stream",
     "text": [
      "Probability threshold: 0.1500\n",
      "(0.6,0.8]_pred/task0/org_pn exists\n",
      "Starting set: test\n"
     ]
    },
    {
     "name": "stderr",
     "output_type": "stream",
     "text": [
      "Preloading waveforms: 100%|██████████| 21/21 [00:00<00:00, 167453.20it/s]"
     ]
    },
    {
     "name": "stdout",
     "output_type": "stream",
     "text": [
      "Number of examples in test: 21\n",
      "21 earthquake traces\n",
      "0 noise traces\n",
      "Probability threshold: 0.2500\n"
     ]
    },
    {
     "name": "stderr",
     "output_type": "stream",
     "text": [
      "\n"
     ]
    },
    {
     "name": "stdout",
     "output_type": "stream",
     "text": [
      "Probability threshold: 0.1900\n",
      "(0.6,0.8]_pred/task0/int_eqt exists\n",
      "Starting set: test\n"
     ]
    },
    {
     "name": "stderr",
     "output_type": "stream",
     "text": [
      "Preloading waveforms: 100%|██████████| 21/21 [00:00<00:00, 155894.48it/s]"
     ]
    },
    {
     "name": "stdout",
     "output_type": "stream",
     "text": [
      "Number of examples in test: 21\n",
      "21 earthquake traces\n",
      "0 noise traces\n",
      "Probability threshold: 0.0400\n"
     ]
    },
    {
     "name": "stderr",
     "output_type": "stream",
     "text": [
      "\n"
     ]
    },
    {
     "name": "stdout",
     "output_type": "stream",
     "text": [
      "(0.6,0.8]_pred/task0/int_pn exists\n",
      "Starting set: test\n"
     ]
    },
    {
     "name": "stderr",
     "output_type": "stream",
     "text": [
      "Preloading waveforms: 100%|██████████| 21/21 [00:00<00:00, 175809.15it/s]"
     ]
    },
    {
     "name": "stdout",
     "output_type": "stream",
     "text": [
      "Number of examples in test: 21\n",
      "21 earthquake traces\n",
      "0 noise traces\n",
      "Probability threshold: 0.1300\n"
     ]
    },
    {
     "name": "stderr",
     "output_type": "stream",
     "text": [
      "\n"
     ]
    },
    {
     "name": "stdout",
     "output_type": "stream",
     "text": [
      "Probability threshold: 0.0500\n",
      "(0.8,1.0] 4\n"
     ]
    },
    {
     "name": "stderr",
     "output_type": "stream",
     "text": [
      "100%|██████████| 4/4 [00:00<00:00, 1877.07it/s]\n"
     ]
    },
    {
     "name": "stdout",
     "output_type": "stream",
     "text": [
      "(0.8,1.0]_pred/task0/vol_eqt exists\n",
      "Starting set: test\n"
     ]
    },
    {
     "name": "stderr",
     "output_type": "stream",
     "text": [
      "Preloading waveforms: 100%|██████████| 4/4 [00:00<00:00, 64035.18it/s]"
     ]
    },
    {
     "name": "stdout",
     "output_type": "stream",
     "text": [
      "Number of examples in test: 4\n",
      "4 earthquake traces\n",
      "0 noise traces\n",
      "Probability threshold: 0.2200\n"
     ]
    },
    {
     "name": "stderr",
     "output_type": "stream",
     "text": [
      "\n"
     ]
    },
    {
     "name": "stdout",
     "output_type": "stream",
     "text": [
      "(0.8,1.0]_pred/task0/vol_pn exists\n",
      "Starting set: test\n"
     ]
    },
    {
     "name": "stderr",
     "output_type": "stream",
     "text": [
      "Preloading waveforms: 100%|██████████| 4/4 [00:00<00:00, 49490.31it/s]"
     ]
    },
    {
     "name": "stdout",
     "output_type": "stream",
     "text": [
      "Number of examples in test: 4\n",
      "4 earthquake traces\n",
      "0 noise traces\n",
      "Probability threshold: 0.3900\n"
     ]
    },
    {
     "name": "stderr",
     "output_type": "stream",
     "text": [
      "\n"
     ]
    },
    {
     "name": "stdout",
     "output_type": "stream",
     "text": [
      "Probability threshold: 0.3400\n",
      "(0.8,1.0]_pred/task0/org_eqt exists\n",
      "Starting set: test\n"
     ]
    },
    {
     "name": "stderr",
     "output_type": "stream",
     "text": [
      "Preloading waveforms: 100%|██████████| 4/4 [00:00<00:00, 43464.29it/s]"
     ]
    },
    {
     "name": "stdout",
     "output_type": "stream",
     "text": [
      "Number of examples in test: 4\n",
      "4 earthquake traces\n",
      "0 noise traces\n",
      "Probability threshold: 0.2600\n"
     ]
    },
    {
     "name": "stderr",
     "output_type": "stream",
     "text": [
      "\n"
     ]
    },
    {
     "name": "stdout",
     "output_type": "stream",
     "text": [
      "Probability threshold: 0.1500\n",
      "(0.8,1.0]_pred/task0/org_pn exists\n",
      "Starting set: test\n"
     ]
    },
    {
     "name": "stderr",
     "output_type": "stream",
     "text": [
      "Preloading waveforms: 100%|██████████| 4/4 [00:00<00:00, 32961.13it/s]"
     ]
    },
    {
     "name": "stdout",
     "output_type": "stream",
     "text": [
      "Number of examples in test: 4\n",
      "4 earthquake traces\n",
      "0 noise traces\n",
      "Probability threshold: 0.2500\n"
     ]
    },
    {
     "name": "stderr",
     "output_type": "stream",
     "text": [
      "\n"
     ]
    },
    {
     "name": "stdout",
     "output_type": "stream",
     "text": [
      "Probability threshold: 0.1900\n",
      "(0.8,1.0]_pred/task0/int_eqt exists\n",
      "Starting set: test\n"
     ]
    },
    {
     "name": "stderr",
     "output_type": "stream",
     "text": [
      "Preloading waveforms: 100%|██████████| 4/4 [00:00<00:00, 49932.19it/s]"
     ]
    },
    {
     "name": "stdout",
     "output_type": "stream",
     "text": [
      "Number of examples in test: 4\n",
      "4 earthquake traces\n",
      "0 noise traces\n",
      "Probability threshold: 0.0400\n"
     ]
    },
    {
     "name": "stderr",
     "output_type": "stream",
     "text": [
      "\n"
     ]
    },
    {
     "name": "stdout",
     "output_type": "stream",
     "text": [
      "(0.8,1.0]_pred/task0/int_pn exists\n",
      "Starting set: test\n"
     ]
    },
    {
     "name": "stderr",
     "output_type": "stream",
     "text": [
      "Preloading waveforms: 100%|██████████| 4/4 [00:00<00:00, 49636.73it/s]"
     ]
    },
    {
     "name": "stdout",
     "output_type": "stream",
     "text": [
      "Number of examples in test: 4\n",
      "4 earthquake traces\n",
      "0 noise traces\n",
      "Probability threshold: 0.1300\n"
     ]
    },
    {
     "name": "stderr",
     "output_type": "stream",
     "text": [
      "\n"
     ]
    },
    {
     "name": "stdout",
     "output_type": "stream",
     "text": [
      "Probability threshold: 0.0500\n",
      "Finished. Runing time 0:13:23.032878\n"
     ]
    }
   ],
   "source": [
    "tp_thre = 0.5\n",
    "print(bins)\n",
    "t1 = time.perf_counter()\n",
    "FIstrings = []\n",
    "FIs_midpoint = []\n",
    "num_seis = {}\n",
    "for x, y in zip(bins[:-1], bins[1:]):\n",
    "    mask = (data_eq.metadata[\"source_frequency_index\"] > x) & (\n",
    "        lteq(data_eq.metadata[\"source_frequency_index\"], y)\n",
    "    )\n",
    "\n",
    "    sub_dataset = data_eq.filter(mask, inplace=False)\n",
    "\n",
    "    mask2 = (data_eq_ENZ.metadata[\"source_frequency_index\"] > x) & (\n",
    "        lteq(data_eq_ENZ.metadata[\"source_frequency_index\"], y)\n",
    "    )\n",
    "    sub_dataset_ENZ = data_eq_ENZ.filter(mask2, inplace=False)\n",
    "    if len(sub_dataset) > 0:\n",
    "        fi_str = f\"({x:.1f},{y:.1f}]\"\n",
    "        # FI_dataset_map[f\"{0.5*(x+y):.2f}\"]=sub_dataset\n",
    "        FIstrings.append(fi_str)\n",
    "        FIs_midpoint.append(0.5 * (x + y))\n",
    "        print(fi_str, len(sub_dataset))\n",
    "        num_seis[fi_str] = len(sub_dataset)\n",
    "\n",
    "        # sub_dataset._metadata[\"split\"]=\"test\"\n",
    "\n",
    "        targets_path_fi = root_save_path / f\"{fi_str}\"\n",
    "        try:\n",
    "            targets_path_fi.mkdir(parents=True, exist_ok=False)\n",
    "        except FileExistsError:\n",
    "            print(f\"{targets_path_fi} exists\")\n",
    "        generate_task0(\n",
    "            dataset=sub_dataset,\n",
    "            output=targets_path_fi,\n",
    "            sampling_rate=100,\n",
    "            noise_before_events=False,\n",
    "            replace_if_exist=True,\n",
    "        )\n",
    "\n",
    "        # for model in original_model_list:\n",
    "        #     eval_task0(dev_test_set=sub_dataset,\n",
    "        #                 model=model,\n",
    "        #                 exp_name=f\"{model.name}_original\",\n",
    "        #                 targets_path=targets_path_fi,\n",
    "        #                 prob_thres=np.array([0.2, 0.225, 0.25,0.275, 0.3,0.35, 0.4, 0.5]),\n",
    "        #                 num_workers=16,\n",
    "        #                 batchsize=2048,\n",
    "        #                 num_test_run=-1,\n",
    "        #                 output_remark=\"pred\",\n",
    "        #                 sets=[\"test\"],\n",
    "        #                 data_norm_type=model.norm)\n",
    "\n",
    "        # retrained eqt\n",
    "\n",
    "        model = vol_eqt\n",
    "        # for target_i, dataset_i in zip(target_path_list,dataset_list):\n",
    "        eval_task0(\n",
    "            dev_test_set=sub_dataset,\n",
    "            model=model,\n",
    "            exp_name=f\"vol_eqt\",\n",
    "            targets_path=targets_path_fi,\n",
    "            prob_thres=np.array([0.22]),\n",
    "            num_workers=12,\n",
    "            batchsize=1024,\n",
    "            num_test_run=-1,\n",
    "            output_remark=\"pred\",\n",
    "            tp_thre=tp_thre,\n",
    "            sets=[\"test\"],\n",
    "            data_norm_type=model.norm,\n",
    "            count_tp_method=1,\n",
    "        )\n",
    "\n",
    "        model = vol_pn\n",
    "        eval_task0(\n",
    "            dev_test_set=sub_dataset,\n",
    "            model=model,\n",
    "            exp_name=f\"vol_pn\",\n",
    "            targets_path=targets_path_fi,\n",
    "            prob_thres=np.array([0.39, 0.34]),\n",
    "            num_workers=12,\n",
    "            batchsize=1024,\n",
    "            num_test_run=-1,\n",
    "            output_remark=\"pred\",\n",
    "            tp_thre=tp_thre,\n",
    "            sets=[\"test\"],\n",
    "            data_norm_type=model.norm,\n",
    "            count_tp_method=1,\n",
    "        )\n",
    "\n",
    "        model = org_eqt2\n",
    "        eval_task0(\n",
    "            dev_test_set=sub_dataset,\n",
    "            model=model,\n",
    "            exp_name=f\"org_eqt\",\n",
    "            targets_path=targets_path_fi,\n",
    "            prob_thres=np.array([0.26, 0.15]),\n",
    "            num_workers=12,\n",
    "            batchsize=1024,\n",
    "            num_test_run=-1,\n",
    "            output_remark=\"pred\",\n",
    "            tp_thre=tp_thre,\n",
    "            sets=[\"test\"],\n",
    "            # sets=[\"train\", \"dev\",\"test\"],\n",
    "            # append_to_file=True,\n",
    "            data_norm_type=model.norm,\n",
    "            count_tp_method=1,\n",
    "        )\n",
    "\n",
    "        model = org_pn\n",
    "        eval_task0(\n",
    "            dev_test_set=sub_dataset_ENZ,\n",
    "            model=model,\n",
    "            exp_name=f\"org_pn\",\n",
    "            targets_path=targets_path_fi,\n",
    "            prob_thres=np.array([0.25, 0.19]),\n",
    "            num_workers=12,\n",
    "            batchsize=1024,\n",
    "            num_test_run=-1,\n",
    "            output_remark=\"pred\",\n",
    "            tp_thre=tp_thre,\n",
    "            sets=[\"test\"],\n",
    "            # sets=[\"train\", \"dev\",\"test\"],\n",
    "            # append_to_file=True,\n",
    "            data_norm_type=model.norm,\n",
    "            count_tp_method=1,\n",
    "        )\n",
    "\n",
    "        model = eqt_instance\n",
    "        eval_task0(\n",
    "            dev_test_set=sub_dataset,\n",
    "            model=model,\n",
    "            exp_name=f\"int_eqt\",\n",
    "            targets_path=targets_path_fi,\n",
    "            prob_thres=np.array([0.04]),\n",
    "            num_workers=12,\n",
    "            batchsize=1024,\n",
    "            num_test_run=-1,\n",
    "            output_remark=\"pred\",\n",
    "            tp_thre=tp_thre,\n",
    "            sets=[\"test\"],\n",
    "            # sets=[\"train\", \"dev\",\"test\"],\n",
    "            # append_to_file=True,\n",
    "            data_norm_type=model.norm,\n",
    "            count_tp_method=1,\n",
    "        )\n",
    "\n",
    "        model = pn_instance\n",
    "        eval_task0(\n",
    "            dev_test_set=sub_dataset,\n",
    "            model=model,\n",
    "            exp_name=f\"int_pn\",\n",
    "            targets_path=targets_path_fi,\n",
    "            prob_thres=np.array([0.13, 0.05]),\n",
    "            num_workers=12,\n",
    "            batchsize=1024,\n",
    "            num_test_run=-1,\n",
    "            output_remark=\"pred\",\n",
    "            tp_thre=tp_thre,\n",
    "            sets=[\"test\"],\n",
    "            # sets=[\"train\", \"dev\",\"test\"],\n",
    "            # append_to_file=True,\n",
    "            data_norm_type=model.norm,\n",
    "            count_tp_method=1,\n",
    "        )\n",
    "\n",
    "t2 = time.perf_counter()\n",
    "running_time = str(datetime.timedelta(seconds=t2 - t1))\n",
    "print(f\"Finished. Runing time {running_time}\")"
   ]
  },
  {
   "cell_type": "code",
   "execution_count": 17,
   "metadata": {},
   "outputs": [],
   "source": [
    "def str2list(str_list):\n",
    "    return [float(x.strip()) for x in str_list.lstrip(\"[\").rstrip(\"]\").split(\",\")]\n",
    "\n",
    "\n",
    "avg_snrs = []\n",
    "median_snrs = []\n",
    "min_snrs = []\n",
    "max_snrs = []\n",
    "snr_10p = []\n",
    "snr_90p = []\n",
    "for x, y in zip(bins[:-1], bins[1:]):\n",
    "    # print(x,y)\n",
    "    mask = (data_eq.metadata[\"source_frequency_index\"] > x) & (\n",
    "        lteq(data_eq.metadata[\"source_frequency_index\"], y)\n",
    "    )\n",
    "    group = data_eq.metadata[mask].copy()\n",
    "\n",
    "    snr_zne = group[\"trace_snr_db\"].apply(str2list)\n",
    "    snr_zne = snr_zne[snr_zne.apply(lambda x: not np.all(pd.isna(np.array(x))))]\n",
    "    snr = snr_zne.apply(np.nanmean)\n",
    "    snr = snr[pd.notna(snr)]\n",
    "\n",
    "    avg_snrs.append(np.average(snr.values))\n",
    "    median_snrs.append(np.median(snr.values))\n",
    "    min_snrs.append(np.min(snr.values))\n",
    "    max_snrs.append(np.max(snr.values))\n",
    "    snr_10p.append(np.percentile(snr.values, 10))\n",
    "    snr_90p.append(np.percentile(snr.values, 90))\n",
    "\n",
    "df_snr = pd.DataFrame(\n",
    "    data={\n",
    "        \"FI_interval\": FIstrings,\n",
    "        \"FI\": FIs_midpoint,\n",
    "        \"mean_snr\": avg_snrs,\n",
    "        \"median_snr\": median_snrs,\n",
    "        \"min_snr\": min_snrs,\n",
    "        \"max_snr\": max_snrs,\n",
    "        \"10_percentile\": snr_10p,\n",
    "        \"90_percentile\": snr_90p,\n",
    "    }\n",
    ")\n",
    "df_snr.to_csv(\"snr_vs_fi.csv\", index=False)"
   ]
  },
  {
   "cell_type": "code",
   "execution_count": 171,
   "metadata": {},
   "outputs": [
    {
     "data": {
      "text/html": [
       "<div>\n",
       "<style scoped>\n",
       "    .dataframe tbody tr th:only-of-type {\n",
       "        vertical-align: middle;\n",
       "    }\n",
       "\n",
       "    .dataframe tbody tr th {\n",
       "        vertical-align: top;\n",
       "    }\n",
       "\n",
       "    .dataframe thead th {\n",
       "        text-align: right;\n",
       "    }\n",
       "</style>\n",
       "<table border=\"1\" class=\"dataframe\">\n",
       "  <thead>\n",
       "    <tr style=\"text-align: right;\">\n",
       "      <th></th>\n",
       "      <th>FI_interval</th>\n",
       "      <th>FI</th>\n",
       "      <th>mean_snr</th>\n",
       "      <th>median_snr</th>\n",
       "      <th>min_snr</th>\n",
       "      <th>max_snr</th>\n",
       "      <th>10_percentile</th>\n",
       "      <th>90_percentile</th>\n",
       "    </tr>\n",
       "  </thead>\n",
       "  <tbody>\n",
       "    <tr>\n",
       "      <th>0</th>\n",
       "      <td>(-2.4,-2.2]</td>\n",
       "      <td>-2.3</td>\n",
       "      <td>11.484437</td>\n",
       "      <td>11.484437</td>\n",
       "      <td>11.484437</td>\n",
       "      <td>11.484437</td>\n",
       "      <td>11.484437</td>\n",
       "      <td>11.484437</td>\n",
       "    </tr>\n",
       "    <tr>\n",
       "      <th>1</th>\n",
       "      <td>(-2.2,-2.0]</td>\n",
       "      <td>-2.1</td>\n",
       "      <td>11.669144</td>\n",
       "      <td>10.641607</td>\n",
       "      <td>2.938699</td>\n",
       "      <td>30.647172</td>\n",
       "      <td>5.101165</td>\n",
       "      <td>15.586016</td>\n",
       "    </tr>\n",
       "    <tr>\n",
       "      <th>2</th>\n",
       "      <td>(-2.0,-1.8]</td>\n",
       "      <td>-1.9</td>\n",
       "      <td>15.197806</td>\n",
       "      <td>13.606696</td>\n",
       "      <td>-0.935811</td>\n",
       "      <td>43.676361</td>\n",
       "      <td>5.844983</td>\n",
       "      <td>29.420531</td>\n",
       "    </tr>\n",
       "    <tr>\n",
       "      <th>3</th>\n",
       "      <td>(-1.8,-1.6]</td>\n",
       "      <td>-1.7</td>\n",
       "      <td>17.208195</td>\n",
       "      <td>17.368786</td>\n",
       "      <td>-2.179872</td>\n",
       "      <td>43.245810</td>\n",
       "      <td>6.020793</td>\n",
       "      <td>26.487642</td>\n",
       "    </tr>\n",
       "    <tr>\n",
       "      <th>4</th>\n",
       "      <td>(-1.6,-1.4]</td>\n",
       "      <td>-1.5</td>\n",
       "      <td>15.432589</td>\n",
       "      <td>15.371816</td>\n",
       "      <td>-3.473964</td>\n",
       "      <td>44.614352</td>\n",
       "      <td>4.898011</td>\n",
       "      <td>25.133796</td>\n",
       "    </tr>\n",
       "    <tr>\n",
       "      <th>5</th>\n",
       "      <td>(-1.4,-1.2]</td>\n",
       "      <td>-1.3</td>\n",
       "      <td>13.372398</td>\n",
       "      <td>13.205215</td>\n",
       "      <td>-5.821095</td>\n",
       "      <td>53.637147</td>\n",
       "      <td>3.714935</td>\n",
       "      <td>22.703156</td>\n",
       "    </tr>\n",
       "    <tr>\n",
       "      <th>6</th>\n",
       "      <td>(-1.2,-1.0]</td>\n",
       "      <td>-1.1</td>\n",
       "      <td>11.586803</td>\n",
       "      <td>11.010119</td>\n",
       "      <td>-5.336976</td>\n",
       "      <td>53.996095</td>\n",
       "      <td>2.744256</td>\n",
       "      <td>20.963717</td>\n",
       "    </tr>\n",
       "    <tr>\n",
       "      <th>7</th>\n",
       "      <td>(-1.0,-0.8]</td>\n",
       "      <td>-0.9</td>\n",
       "      <td>10.601935</td>\n",
       "      <td>9.858986</td>\n",
       "      <td>-12.553719</td>\n",
       "      <td>71.610046</td>\n",
       "      <td>2.624934</td>\n",
       "      <td>18.987568</td>\n",
       "    </tr>\n",
       "    <tr>\n",
       "      <th>8</th>\n",
       "      <td>(-0.8,-0.6]</td>\n",
       "      <td>-0.7</td>\n",
       "      <td>9.812808</td>\n",
       "      <td>8.684368</td>\n",
       "      <td>-13.670948</td>\n",
       "      <td>82.069498</td>\n",
       "      <td>2.003853</td>\n",
       "      <td>18.369375</td>\n",
       "    </tr>\n",
       "    <tr>\n",
       "      <th>9</th>\n",
       "      <td>(-0.6,-0.4]</td>\n",
       "      <td>-0.5</td>\n",
       "      <td>10.425551</td>\n",
       "      <td>8.696951</td>\n",
       "      <td>-27.459271</td>\n",
       "      <td>66.301884</td>\n",
       "      <td>1.369187</td>\n",
       "      <td>22.278459</td>\n",
       "    </tr>\n",
       "    <tr>\n",
       "      <th>10</th>\n",
       "      <td>(-0.4,-0.2]</td>\n",
       "      <td>-0.3</td>\n",
       "      <td>10.898285</td>\n",
       "      <td>8.239530</td>\n",
       "      <td>-16.066509</td>\n",
       "      <td>61.768634</td>\n",
       "      <td>0.484107</td>\n",
       "      <td>25.962296</td>\n",
       "    </tr>\n",
       "    <tr>\n",
       "      <th>11</th>\n",
       "      <td>(-0.2,0.0]</td>\n",
       "      <td>-0.1</td>\n",
       "      <td>10.681480</td>\n",
       "      <td>8.265117</td>\n",
       "      <td>-19.874464</td>\n",
       "      <td>53.648774</td>\n",
       "      <td>0.999316</td>\n",
       "      <td>24.323744</td>\n",
       "    </tr>\n",
       "    <tr>\n",
       "      <th>12</th>\n",
       "      <td>(0.0,0.2]</td>\n",
       "      <td>0.1</td>\n",
       "      <td>12.528670</td>\n",
       "      <td>10.849251</td>\n",
       "      <td>-24.273903</td>\n",
       "      <td>59.596376</td>\n",
       "      <td>1.498408</td>\n",
       "      <td>26.014416</td>\n",
       "    </tr>\n",
       "    <tr>\n",
       "      <th>13</th>\n",
       "      <td>(0.2,0.4]</td>\n",
       "      <td>0.3</td>\n",
       "      <td>14.292217</td>\n",
       "      <td>12.358979</td>\n",
       "      <td>-6.529967</td>\n",
       "      <td>53.346900</td>\n",
       "      <td>2.059869</td>\n",
       "      <td>29.544151</td>\n",
       "    </tr>\n",
       "    <tr>\n",
       "      <th>14</th>\n",
       "      <td>(0.4,0.6]</td>\n",
       "      <td>0.5</td>\n",
       "      <td>15.943509</td>\n",
       "      <td>15.005050</td>\n",
       "      <td>-2.753840</td>\n",
       "      <td>47.101686</td>\n",
       "      <td>2.490717</td>\n",
       "      <td>30.327057</td>\n",
       "    </tr>\n",
       "    <tr>\n",
       "      <th>15</th>\n",
       "      <td>(0.6,0.8]</td>\n",
       "      <td>0.7</td>\n",
       "      <td>19.119171</td>\n",
       "      <td>17.590870</td>\n",
       "      <td>-0.581526</td>\n",
       "      <td>34.171187</td>\n",
       "      <td>12.480437</td>\n",
       "      <td>30.602741</td>\n",
       "    </tr>\n",
       "    <tr>\n",
       "      <th>16</th>\n",
       "      <td>(0.8,1.0]</td>\n",
       "      <td>0.9</td>\n",
       "      <td>20.875678</td>\n",
       "      <td>21.066955</td>\n",
       "      <td>17.467849</td>\n",
       "      <td>23.900952</td>\n",
       "      <td>17.727002</td>\n",
       "      <td>23.871332</td>\n",
       "    </tr>\n",
       "  </tbody>\n",
       "</table>\n",
       "</div>"
      ],
      "text/plain": [
       "    FI_interval   FI   mean_snr  median_snr    min_snr    max_snr   \n",
       "0   (-2.4,-2.2] -2.3  11.484437   11.484437  11.484437  11.484437  \\\n",
       "1   (-2.2,-2.0] -2.1  11.669144   10.641607   2.938699  30.647172   \n",
       "2   (-2.0,-1.8] -1.9  15.197806   13.606696  -0.935811  43.676361   \n",
       "3   (-1.8,-1.6] -1.7  17.208195   17.368786  -2.179872  43.245810   \n",
       "4   (-1.6,-1.4] -1.5  15.432589   15.371816  -3.473964  44.614352   \n",
       "5   (-1.4,-1.2] -1.3  13.372398   13.205215  -5.821095  53.637147   \n",
       "6   (-1.2,-1.0] -1.1  11.586803   11.010119  -5.336976  53.996095   \n",
       "7   (-1.0,-0.8] -0.9  10.601935    9.858986 -12.553719  71.610046   \n",
       "8   (-0.8,-0.6] -0.7   9.812808    8.684368 -13.670948  82.069498   \n",
       "9   (-0.6,-0.4] -0.5  10.425551    8.696951 -27.459271  66.301884   \n",
       "10  (-0.4,-0.2] -0.3  10.898285    8.239530 -16.066509  61.768634   \n",
       "11   (-0.2,0.0] -0.1  10.681480    8.265117 -19.874464  53.648774   \n",
       "12    (0.0,0.2]  0.1  12.528670   10.849251 -24.273903  59.596376   \n",
       "13    (0.2,0.4]  0.3  14.292217   12.358979  -6.529967  53.346900   \n",
       "14    (0.4,0.6]  0.5  15.943509   15.005050  -2.753840  47.101686   \n",
       "15    (0.6,0.8]  0.7  19.119171   17.590870  -0.581526  34.171187   \n",
       "16    (0.8,1.0]  0.9  20.875678   21.066955  17.467849  23.900952   \n",
       "\n",
       "    10_percentile  90_percentile  \n",
       "0       11.484437      11.484437  \n",
       "1        5.101165      15.586016  \n",
       "2        5.844983      29.420531  \n",
       "3        6.020793      26.487642  \n",
       "4        4.898011      25.133796  \n",
       "5        3.714935      22.703156  \n",
       "6        2.744256      20.963717  \n",
       "7        2.624934      18.987568  \n",
       "8        2.003853      18.369375  \n",
       "9        1.369187      22.278459  \n",
       "10       0.484107      25.962296  \n",
       "11       0.999316      24.323744  \n",
       "12       1.498408      26.014416  \n",
       "13       2.059869      29.544151  \n",
       "14       2.490717      30.327057  \n",
       "15      12.480437      30.602741  \n",
       "16      17.727002      23.871332  "
      ]
     },
     "execution_count": 171,
     "metadata": {},
     "output_type": "execute_result"
    }
   ],
   "source": [
    "df_snr"
   ]
  },
  {
   "cell_type": "code",
   "execution_count": 18,
   "metadata": {},
   "outputs": [],
   "source": [
    "with open(root_save_path / \"FI_intervals.txt\", \"w\") as FIs_file:\n",
    "    for x in FIstrings:\n",
    "        FIs_file.write(f\"{x}\\n\")"
   ]
  },
  {
   "cell_type": "markdown",
   "metadata": {},
   "source": [
    "# Collect results"
   ]
  },
  {
   "cell_type": "code",
   "execution_count": 19,
   "metadata": {},
   "outputs": [
    {
     "data": {
      "text/html": [
       "<div>\n",
       "<style scoped>\n",
       "    .dataframe tbody tr th:only-of-type {\n",
       "        vertical-align: middle;\n",
       "    }\n",
       "\n",
       "    .dataframe tbody tr th {\n",
       "        vertical-align: top;\n",
       "    }\n",
       "\n",
       "    .dataframe thead th {\n",
       "        text-align: right;\n",
       "    }\n",
       "</style>\n",
       "<table border=\"1\" class=\"dataframe\">\n",
       "  <thead>\n",
       "    <tr style=\"text-align: right;\">\n",
       "      <th></th>\n",
       "      <th>exp_name</th>\n",
       "      <th>model</th>\n",
       "      <th>p_opt_prob_thre</th>\n",
       "      <th>s_opt_prob_thre</th>\n",
       "    </tr>\n",
       "  </thead>\n",
       "  <tbody>\n",
       "    <tr>\n",
       "      <th>0</th>\n",
       "      <td>PhaseNet_org_instance</td>\n",
       "      <td>PhaseNet</td>\n",
       "      <td>0.13</td>\n",
       "      <td>0.050</td>\n",
       "    </tr>\n",
       "    <tr>\n",
       "      <th>1</th>\n",
       "      <td>PhaseNet_org_incorrect_component_order</td>\n",
       "      <td>PhaseNet</td>\n",
       "      <td>0.28</td>\n",
       "      <td>0.170</td>\n",
       "    </tr>\n",
       "    <tr>\n",
       "      <th>2</th>\n",
       "      <td>EQTransformer_org</td>\n",
       "      <td>EQTransformer</td>\n",
       "      <td>0.01</td>\n",
       "      <td>0.001</td>\n",
       "    </tr>\n",
       "    <tr>\n",
       "      <th>3</th>\n",
       "      <td>EQTransformer_org_instance</td>\n",
       "      <td>EQTransformer</td>\n",
       "      <td>0.04</td>\n",
       "      <td>0.040</td>\n",
       "    </tr>\n",
       "    <tr>\n",
       "      <th>4</th>\n",
       "      <td>PhaseNet_org</td>\n",
       "      <td>PhaseNet</td>\n",
       "      <td>0.25</td>\n",
       "      <td>0.190</td>\n",
       "    </tr>\n",
       "    <tr>\n",
       "      <th>5</th>\n",
       "      <td>EQTransformer_org_nonconservative</td>\n",
       "      <td>EQTransformer</td>\n",
       "      <td>0.26</td>\n",
       "      <td>0.150</td>\n",
       "    </tr>\n",
       "    <tr>\n",
       "      <th>6</th>\n",
       "      <td>PhaseNet_org_stead</td>\n",
       "      <td>PhaseNet</td>\n",
       "      <td>0.01</td>\n",
       "      <td>0.040</td>\n",
       "    </tr>\n",
       "    <tr>\n",
       "      <th>7</th>\n",
       "      <td>EQTransformer_org_stead</td>\n",
       "      <td>EQTransformer</td>\n",
       "      <td>0.02</td>\n",
       "      <td>0.010</td>\n",
       "    </tr>\n",
       "  </tbody>\n",
       "</table>\n",
       "</div>"
      ],
      "text/plain": [
       "                                 exp_name          model  p_opt_prob_thre   \n",
       "0                   PhaseNet_org_instance       PhaseNet             0.13  \\\n",
       "1  PhaseNet_org_incorrect_component_order       PhaseNet             0.28   \n",
       "2                       EQTransformer_org  EQTransformer             0.01   \n",
       "3              EQTransformer_org_instance  EQTransformer             0.04   \n",
       "4                            PhaseNet_org       PhaseNet             0.25   \n",
       "5       EQTransformer_org_nonconservative  EQTransformer             0.26   \n",
       "6                      PhaseNet_org_stead       PhaseNet             0.01   \n",
       "7                 EQTransformer_org_stead  EQTransformer             0.02   \n",
       "\n",
       "   s_opt_prob_thre  \n",
       "0            0.050  \n",
       "1            0.170  \n",
       "2            0.001  \n",
       "3            0.040  \n",
       "4            0.190  \n",
       "5            0.150  \n",
       "6            0.040  \n",
       "7            0.010  "
      ]
     },
     "execution_count": 19,
     "metadata": {},
     "output_type": "execute_result"
    }
   ],
   "source": [
    "opt_thresholds_for_original_models_df = pd.read_csv(\n",
    "    \"/home/zhongyiyuan/volpick/model_training/Original_model_opt_thresholds/all_pred/task0/optimal_threshold.csv\"\n",
    ")\n",
    "opt_thresholds_for_original_models_df = opt_thresholds_for_original_models_df[\n",
    "    [\"exp_name\", \"model\", \"p_opt_prob_thre\", \"s_opt_prob_thre\"]  # \"pretraining\",\n",
    "]\n",
    "opt_thresholds_for_original_models_df"
   ]
  },
  {
   "cell_type": "code",
   "execution_count": 6,
   "metadata": {},
   "outputs": [],
   "source": [
    "eqt_pred_dirs = [\"org_eqt\", \"int_eqt\", \"vol_eqt\"]\n",
    "pn_pred_dirs = [\"org_pn\", \"int_pn\", \"vol_pn\"]\n",
    "exp_names = eqt_pred_dirs + pn_pred_dirs\n",
    "\n",
    "save_csv_names = {\n",
    "    \"org_pn\": \"org_pn_fi.csv\",\n",
    "    \"int_pn\": \"int_pn_fi.csv\",\n",
    "    \"vol_pn\": \"vol_pn_fi.csv\",\n",
    "    \"org_eqt\": \"org_eqt_fi.csv\",\n",
    "    \"vol_eqt\": \"vol_eqt_fi.csv\",\n",
    "    \"int_eqt\": \"int_eqt_fi.csv\",\n",
    "}\n",
    "p_thre_dict = {\n",
    "    \"vol_eqt\": 0.22,\n",
    "    \"vol_pn\": 0.39,\n",
    "    \"org_eqt\": 0.26,\n",
    "    \"org_pn\": 0.25,\n",
    "    \"int_eqt\": 0.04,\n",
    "    \"int_pn\": 0.13,\n",
    "}\n",
    "s_thre_dict = {\n",
    "    \"vol_eqt\": 0.22,\n",
    "    \"vol_pn\": 0.34,\n",
    "    \"org_eqt\": 0.15,\n",
    "    \"org_pn\": 0.19,\n",
    "    \"int_eqt\": 0.04,\n",
    "    \"int_pn\": 0.05,\n",
    "}"
   ]
  },
  {
   "cell_type": "markdown",
   "metadata": {},
   "source": [
    "Write result"
   ]
  },
  {
   "cell_type": "code",
   "execution_count": 25,
   "metadata": {},
   "outputs": [],
   "source": [
    "# run only once\n",
    "for exp_name in exp_names:\n",
    "    p_metrics_vs_fi = []\n",
    "    s_metrics_vs_fi = []\n",
    "    for i, (fi_str, fi) in enumerate(zip(FIstrings, FIs_midpoint)):\n",
    "        # print(i,fi_str,fi)\n",
    "        tmp_metrics = pd.read_csv(\n",
    "            root_save_path / f\"{fi_str}_pred\" / \"task0\" / exp_name / \"test_metrics.csv\"\n",
    "        )\n",
    "\n",
    "        column_labels = tmp_metrics.columns\n",
    "        p_labels = [x for x in column_labels if x.startswith(\"p_\")]\n",
    "        s_labels = [x for x in column_labels if x.startswith(\"s_\")]\n",
    "\n",
    "        p_tmp_dict = (\n",
    "            tmp_metrics[np.isclose(tmp_metrics[\"prob_thre\"], p_thre_dict[exp_name])][\n",
    "                [\"prob_thre\"] + p_labels\n",
    "            ]\n",
    "            .squeeze()\n",
    "            .to_dict()\n",
    "        )\n",
    "        p_tmp_dict[\"FI\"] = fi\n",
    "        p_tmp_dict[\"FI_interval\"] = fi_str\n",
    "        p_tmp_dict[\"n_seis\"] = num_seis[fi_str]\n",
    "\n",
    "        s_tmp_dict = (\n",
    "            tmp_metrics[np.isclose(tmp_metrics[\"prob_thre\"], s_thre_dict[exp_name])][\n",
    "                [\"prob_thre\"] + s_labels\n",
    "            ]\n",
    "            .squeeze()\n",
    "            .to_dict()\n",
    "        )\n",
    "        s_tmp_dict[\"FI\"] = fi\n",
    "        s_tmp_dict[\"FI_interval\"] = fi_str\n",
    "        s_tmp_dict[\"n_seis\"] = num_seis[fi_str]\n",
    "\n",
    "        p_metrics_vs_fi.append(p_tmp_dict)\n",
    "        s_metrics_vs_fi.append(s_tmp_dict)\n",
    "    p_metrics_vs_fi = pd.DataFrame(p_metrics_vs_fi)\n",
    "    p_metrics_vs_fi.to_csv(\n",
    "        root_save_path / f\"p.{save_csv_names[exp_name]}\", index=False\n",
    "    )\n",
    "    s_metrics_vs_fi = pd.DataFrame(s_metrics_vs_fi)\n",
    "    s_metrics_vs_fi.to_csv(\n",
    "        root_save_path / f\"s.{save_csv_names[exp_name]}\", index=False\n",
    "    )"
   ]
  },
  {
   "cell_type": "markdown",
   "metadata": {},
   "source": [
    "# Plot figures"
   ]
  },
  {
   "cell_type": "code",
   "execution_count": 4,
   "metadata": {},
   "outputs": [],
   "source": [
    "nseis_lower_limit = 100"
   ]
  },
  {
   "cell_type": "markdown",
   "metadata": {},
   "source": [
    "SNR, number of traces"
   ]
  },
  {
   "cell_type": "code",
   "execution_count": 1,
   "metadata": {},
   "outputs": [
    {
     "ename": "NameError",
     "evalue": "name 'pd' is not defined",
     "output_type": "error",
     "traceback": [
      "\u001b[0;31m---------------------------------------------------------------------------\u001b[0m",
      "\u001b[0;31mNameError\u001b[0m                                 Traceback (most recent call last)",
      "Cell \u001b[0;32mIn[1], line 3\u001b[0m\n\u001b[1;32m      1\u001b[0m \u001b[38;5;66;03m# number of data\u001b[39;00m\n\u001b[1;32m      2\u001b[0m exp_name \u001b[38;5;241m=\u001b[39m \u001b[38;5;124m\"\u001b[39m\u001b[38;5;124mvol_eqt\u001b[39m\u001b[38;5;124m\"\u001b[39m\n\u001b[0;32m----> 3\u001b[0m metrics_vs_fi \u001b[38;5;241m=\u001b[39m \u001b[43mpd\u001b[49m\u001b[38;5;241m.\u001b[39mread_csv(root_save_path \u001b[38;5;241m/\u001b[39m \u001b[38;5;124mf\u001b[39m\u001b[38;5;124m\"\u001b[39m\u001b[38;5;124mp.\u001b[39m\u001b[38;5;132;01m{\u001b[39;00msave_csv_names[exp_name]\u001b[38;5;132;01m}\u001b[39;00m\u001b[38;5;124m\"\u001b[39m)\n\u001b[1;32m      5\u001b[0m nseis \u001b[38;5;241m=\u001b[39m metrics_vs_fi[\u001b[38;5;124m\"\u001b[39m\u001b[38;5;124mn_seis\u001b[39m\u001b[38;5;124m\"\u001b[39m]\u001b[38;5;241m.\u001b[39mto_numpy()\n\u001b[1;32m      6\u001b[0m FIs \u001b[38;5;241m=\u001b[39m metrics_vs_fi[\u001b[38;5;124m\"\u001b[39m\u001b[38;5;124mFI\u001b[39m\u001b[38;5;124m\"\u001b[39m]\u001b[38;5;241m.\u001b[39mto_numpy()\n",
      "\u001b[0;31mNameError\u001b[0m: name 'pd' is not defined"
     ]
    }
   ],
   "source": [
    "# number of data\n",
    "exp_name = \"vol_eqt\"\n",
    "metrics_vs_fi = pd.read_csv(root_save_path / f\"p.{save_csv_names[exp_name]}\")\n",
    "\n",
    "nseis = metrics_vs_fi[\"n_seis\"].to_numpy()\n",
    "FIs = metrics_vs_fi[\"FI\"].to_numpy()\n",
    "intervals = metrics_vs_fi[\"FI_interval\"].to_numpy()\n",
    "\n",
    "cm = 1 / 2.54\n",
    "fts = 8\n",
    "fig, axs = plt.subplots(2, 1, figsize=(18 * cm, 14 * cm), sharex=\"all\")\n",
    "plt.subplots_adjust(wspace=0.05, hspace=0.1)\n",
    "ax = axs[0]\n",
    "ax.semilogy(FIs, nseis, \"ro-\")\n",
    "ax.axhline(nseis_lower_limit, color=\"black\")\n",
    "# ax.set_xlabel(\"Frequency index groups\")\n",
    "ax.set_ylabel(\"Number of seismograms\", fontsize=fts)\n",
    "# ax.set_xticks(FIs)\n",
    "# ax.set_xticklabels(intervals, rotation=-80)\n",
    "ax.grid()\n",
    "ax.tick_params(labelsize=fts)\n",
    "ax.text(\n",
    "    -0.05,\n",
    "    1.0,\n",
    "    \"(a)\",\n",
    "    verticalalignment=\"top\",\n",
    "    horizontalalignment=\"right\",\n",
    "    transform=ax.transAxes,\n",
    "    fontsize=fts + 2,\n",
    "    # weight=\"bold\",\n",
    "    color=\"black\",\n",
    ")\n",
    "\n",
    "\n",
    "# SNRs\n",
    "df_with_enough_data = metrics_vs_fi[metrics_vs_fi[\"n_seis\"] > 0]\n",
    "intervals2 = df_with_enough_data[\"FI_interval\"].to_numpy()\n",
    "FIs2 = df_with_enough_data[\"FI\"].to_numpy()\n",
    "\n",
    "\n",
    "def str2list(str_list):\n",
    "    return [float(x.strip()) for x in str_list.lstrip(\"[\").rstrip(\"]\").split(\",\")]\n",
    "\n",
    "\n",
    "snr_list = []\n",
    "for fi_str in intervals2:\n",
    "    x, y = fi_str.lstrip(\"(\").rstrip(\"]\").split(\",\")\n",
    "    x = float(x)\n",
    "    y = float(y)\n",
    "    print(x, y)\n",
    "    mask = (data_eq.metadata[\"source_frequency_index\"] > x) & (\n",
    "        lteq(data_eq.metadata[\"source_frequency_index\"], y)\n",
    "    )\n",
    "    group = data_eq.metadata[mask].copy()\n",
    "\n",
    "    snr_zne = group[\"trace_snr_db\"].apply(str2list)\n",
    "    snr_zne = snr_zne[snr_zne.apply(lambda x: not np.all(pd.isna(np.array(x))))]\n",
    "    snr = snr_zne.apply(np.nanmean)\n",
    "    snr = snr[pd.notna(snr)]\n",
    "    print(min(snr), max(snr))\n",
    "    snr_list.append(snr.values)\n",
    "\n",
    "ax = axs[1]\n",
    "\n",
    "violin = ax.violinplot(\n",
    "    dataset=snr_list,\n",
    "    positions=FIs2,\n",
    "    showmeans=True,\n",
    "    showextrema=True,\n",
    "    showmedians=True,\n",
    "    widths=0.18,\n",
    "    quantiles=[[0.05, 0.95] for _ in range(len(snr_list))],\n",
    ")\n",
    "violin[\"cmeans\"].set_linestyle(\"-\")\n",
    "violin[\"cmeans\"].set_color(\"orange\")\n",
    "violin[\"cmeans\"].set_label(\"Mean\")\n",
    "\n",
    "\n",
    "violin[\"cmedians\"].set_linestyle(\"dotted\")\n",
    "violin[\"cmedians\"].set_color(\"teal\")\n",
    "violin[\"cmedians\"].set_label(\"Median\")\n",
    "\n",
    "violin[\"cquantiles\"].set_color(\"dodgerblue\")\n",
    "violin[\"cquantiles\"].set_linewidth(1)\n",
    "violin[\"cquantiles\"].set_label(\"10th/90th percentiles\")\n",
    "for partname in (\"cbars\", \"cmins\", \"cmaxes\"):\n",
    "    vp = violin[partname]\n",
    "    vp.set_edgecolor(\"black\")\n",
    "    vp.set_linewidth(1)\n",
    "for pc in violin[\"bodies\"]:\n",
    "    pc.set_facecolor(\"silver\")\n",
    "    pc.set_edgecolor(\"darkgray\")\n",
    "    pc.set_alpha(1)\n",
    "\n",
    "ax.tick_params(labelsize=fts)\n",
    "ax.text(\n",
    "    -0.05,\n",
    "    1.0,\n",
    "    \"(b)\",\n",
    "    verticalalignment=\"top\",\n",
    "    horizontalalignment=\"right\",\n",
    "    transform=ax.transAxes,\n",
    "    fontsize=fts + 2,\n",
    "    # weight=\"bold\",\n",
    "    color=\"black\",\n",
    ")\n",
    "\n",
    "# for pc in parts['bodies']:\n",
    "#     pc.set_facecolor('#D43F3A')\n",
    "#     pc.set_edgecolor('black')\n",
    "#     pc.set_alpha(1)\n",
    "# ax.plot(FIs, mean_snrs, \"bo-\")\n",
    "# ax.plot(FIs, median_snrs, \"go-\")\n",
    "# ax.axhline(nseis_lower_limit, color=\"black\")\n",
    "ax.set_xlabel(\"Intervals of frequency index\", fontsize=fts)\n",
    "ax.set_ylabel(\"SNR (dB)\", fontsize=fts)\n",
    "ax.set_xticks(FIs)\n",
    "ax.set_xticklabels(intervals, rotation=-80, fontsize=fts)\n",
    "ax.legend(loc=\"upper left\", fontsize=fts)\n",
    "ax.grid()\n",
    "# ax.set_axisbelow(True)\n",
    "# plt.savefig(root_save_path/\"FI_vs_n.jpg\", dpi=300, bbox_inches=\"tight\")\n",
    "plt.savefig(\n",
    "    root_save_path / \"fi_vs_n_and_snr.pdf\", dpi=600, bbox_inches=\"tight\", pad_inches=0\n",
    ")\n",
    "plt.savefig(\n",
    "    root_save_path / \"fi_vs_n_and_snr.jpg\", dpi=600, bbox_inches=\"tight\", pad_inches=0\n",
    ")"
   ]
  },
  {
   "cell_type": "code",
   "execution_count": 27,
   "metadata": {},
   "outputs": [
    {
     "data": {
      "text/plain": [
       "['org_eqt', 'int_eqt', 'vol_eqt']"
      ]
     },
     "execution_count": 27,
     "metadata": {},
     "output_type": "execute_result"
    }
   ],
   "source": [
    "eqt_pred_dirs"
   ]
  },
  {
   "cell_type": "code",
   "execution_count": 9,
   "metadata": {},
   "outputs": [
    {
     "data": {
      "image/png": "[encoded data removed]",
      "text/plain": [
       "<Figure size 866.142x393.701 with 6 Axes>"
      ]
     },
     "metadata": {},
     "output_type": "display_data"
    }
   ],
   "source": [
    "cm = 1 / 2.54\n",
    "fig, axs = plt.subplots(2, 3, figsize=(22 * cm, 10 * cm), sharex=\"all\", sharey=\"all\")\n",
    "plt.subplots_adjust(wspace=0.03, hspace=0.08)\n",
    "\n",
    "labels = {\n",
    "    \"org_eqt\": \"Original EQTransformer (Mousavi et al., 2020)\",\n",
    "    \"int_eqt\": r\"EQTransformer trained on INSTANCE (M$\\rm{\\\"u}$nchmeyer et al., 2022)\",\n",
    "    \"vol_eqt\": \"EQTransformer retrained in this study\",\n",
    "    \"org_pn\": \"Original PhaseNet (Zhu & Beroza, 2019)\",\n",
    "    \"int_pn\": r\"PhaseNet trained on INSTANCE (M$\\rm{\\\"u}$nchmeyer et al., 2022)\",\n",
    "    \"vol_pn\": \"PhaseNet retrained in this study\",\n",
    "}\n",
    "lw = 1.2\n",
    "ms = 4.0\n",
    "fts = 8\n",
    "\n",
    "markerfacecolors = [None, \"white\"]\n",
    "markeredgecolors = [None, None]\n",
    "markers = [\"s\", \"d\", \"o\"]\n",
    "linestyles = [\"solid\", \"dotted\"]\n",
    "colors = [\"teal\", \"dodgerblue\", \"firebrick\"]\n",
    "for i_net, pred_dirs in enumerate([pn_pred_dirs, eqt_pred_dirs]):\n",
    "    markerfacecolor = markerfacecolors[i_net]\n",
    "    markeredgecolor = markeredgecolors[i_net]\n",
    "    linestyle = linestyles[i_net]\n",
    "\n",
    "    for i in range(3):\n",
    "        exp_name = pred_dirs[i]\n",
    "        color = colors[i]\n",
    "        marker = markers[i]\n",
    "\n",
    "        for j, phase in enumerate([\"p\", \"s\"]):\n",
    "            metrics_vs_fi = pd.read_csv(\n",
    "                root_save_path / f\"{phase}.{save_csv_names[exp_name]}\"\n",
    "            )\n",
    "            metrics_vs_fi = metrics_vs_fi[metrics_vs_fi[\"n_seis\"] > nseis_lower_limit]\n",
    "            for k, metric in enumerate([\"recall\", \"precision\", \"F1score\"]):\n",
    "                FIs = metrics_vs_fi[\"FI\"].values\n",
    "                intervals = (\n",
    "                    metrics_vs_fi[\"FI_interval\"]\n",
    "                    .apply(lambda x: x.replace(\",\", \", \"))\n",
    "                    .values\n",
    "                )\n",
    "                ax = axs[j][k]\n",
    "                metric_value = metrics_vs_fi[f\"{phase}_{metric}\"]\n",
    "                ax.plot(\n",
    "                    FIs,\n",
    "                    metric_value,\n",
    "                    color=color,\n",
    "                    linewidth=lw,\n",
    "                    linestyle=linestyle,\n",
    "                    marker=marker,\n",
    "                    markeredgecolor=markeredgecolor,\n",
    "                    markerfacecolor=markerfacecolor,\n",
    "                    markersize=ms,\n",
    "                    label=labels[exp_name],\n",
    "                )\n",
    "                ax.tick_params(labelsize=fts)\n",
    "                ax.set_xticks(FIs)\n",
    "                ax.set_xticklabels(intervals, rotation=-90)  # , ha=\"left\"\n",
    "                ax.yaxis.set_minor_locator(MultipleLocator(0.05))\n",
    "                ax.set_ylim([0.2, 1])\n",
    "                ax.grid(True)\n",
    "axs[0][0].set_ylabel(\"P picking\", fontsize=fts, weight=\"bold\")\n",
    "axs[1][0].set_ylabel(\"S picking\", fontsize=fts, weight=\"bold\")\n",
    "axs[0][0].set_title(\"Recall\", fontsize=fts, weight=\"bold\")\n",
    "axs[0][1].set_title(\"Precision\", fontsize=fts, weight=\"bold\")\n",
    "axs[0][2].set_title(\"F1 score\", fontsize=fts, weight=\"bold\")\n",
    "axs[0][0].legend(\n",
    "    loc=\"lower left\",\n",
    "    bbox_to_anchor=(-0.2, 1.13, 1, 0.5),\n",
    "    frameon=False,\n",
    "    fontsize=fts - 0.5,\n",
    "    ncols=2,\n",
    "    columnspacing=0.9,\n",
    ")\n",
    "axs[1][1].set_xlabel(\"Frequency index\", fontsize=fts)\n",
    "\n",
    "# for i,ax in enumerate(axs.flat):\n",
    "#     ax.text(\n",
    "#             0.02,\n",
    "#             0.98,\n",
    "#             \"(\"+chr(97+i)+\")\",\n",
    "#             verticalalignment=\"top\",\n",
    "#             horizontalalignment=\"left\",\n",
    "#             transform=ax.transAxes,\n",
    "#             fontsize=fts,\n",
    "#             weight=\"bold\",\n",
    "#             color=\"black\",\n",
    "#         )\n",
    "plt.savefig(\n",
    "    root_save_path / f\"alt_metrics_vs_fi.pdf\",\n",
    "    dpi=600,\n",
    "    bbox_inches=\"tight\",\n",
    "    pad_inches=0,\n",
    ")"
   ]
  },
  {
   "cell_type": "code",
   "execution_count": 10,
   "metadata": {},
   "outputs": [
    {
     "data": {
      "text/plain": [
       "{'org_pn': 'org_pn_fi.csv',\n",
       " 'int_pn': 'int_pn_fi.csv',\n",
       " 'vol_pn': 'vol_pn_fi.csv',\n",
       " 'org_eqt': 'org_eqt_fi.csv',\n",
       " 'vol_eqt': 'vol_eqt_fi.csv',\n",
       " 'int_eqt': 'int_eqt_fi.csv'}"
      ]
     },
     "execution_count": 10,
     "metadata": {},
     "output_type": "execute_result"
    }
   ],
   "source": [
    "save_csv_names"
   ]
  },
  {
   "cell_type": "code",
   "execution_count": 32,
   "metadata": {},
   "outputs": [],
   "source": [
    "metrics_vs_fi = pd.read_csv(root_save_path / f\"p.org_pn_fi.csv\")\n",
    "metrics_vs_fi = metrics_vs_fi[metrics_vs_fi[\"n_seis\"] > nseis_lower_limit]"
   ]
  },
  {
   "cell_type": "code",
   "execution_count": 28,
   "metadata": {},
   "outputs": [
    {
     "data": {
      "text/html": [
       "<div>\n",
       "<style scoped>\n",
       "    .dataframe tbody tr th:only-of-type {\n",
       "        vertical-align: middle;\n",
       "    }\n",
       "\n",
       "    .dataframe tbody tr th {\n",
       "        vertical-align: top;\n",
       "    }\n",
       "\n",
       "    .dataframe thead th {\n",
       "        text-align: right;\n",
       "    }\n",
       "</style>\n",
       "<table border=\"1\" class=\"dataframe\">\n",
       "  <thead>\n",
       "    <tr style=\"text-align: right;\">\n",
       "      <th></th>\n",
       "      <th>prob_thre</th>\n",
       "      <th>s_TP</th>\n",
       "      <th>s_FP</th>\n",
       "      <th>s_FN</th>\n",
       "      <th>s_precision</th>\n",
       "      <th>s_recall</th>\n",
       "      <th>s_F1score</th>\n",
       "      <th>s_mean</th>\n",
       "      <th>s_median</th>\n",
       "      <th>s_std</th>\n",
       "      <th>...</th>\n",
       "      <th>s_modified_MAD</th>\n",
       "      <th>s_modified_mean2</th>\n",
       "      <th>s_modified_median2</th>\n",
       "      <th>s_modified_std2</th>\n",
       "      <th>s_modified_RMSE2</th>\n",
       "      <th>s_modified_MAE2</th>\n",
       "      <th>s_modified_MAD2</th>\n",
       "      <th>FI</th>\n",
       "      <th>FI_interval</th>\n",
       "      <th>n_seis</th>\n",
       "    </tr>\n",
       "  </thead>\n",
       "  <tbody>\n",
       "    <tr>\n",
       "      <th>0</th>\n",
       "      <td>0.17</td>\n",
       "      <td>1.0</td>\n",
       "      <td>0.0</td>\n",
       "      <td>0.0</td>\n",
       "      <td>1.000000</td>\n",
       "      <td>1.000000</td>\n",
       "      <td>1.000000</td>\n",
       "      <td>-0.170000</td>\n",
       "      <td>-4.12</td>\n",
       "      <td>NaN</td>\n",
       "      <td>...</td>\n",
       "      <td>0.000</td>\n",
       "      <td>-0.170000</td>\n",
       "      <td>-0.170</td>\n",
       "      <td>NaN</td>\n",
       "      <td>0.170000</td>\n",
       "      <td>0.170000</td>\n",
       "      <td>0.000</td>\n",
       "      <td>-2.3</td>\n",
       "      <td>(-2.4,-2.2]</td>\n",
       "      <td>1</td>\n",
       "    </tr>\n",
       "    <tr>\n",
       "      <th>1</th>\n",
       "      <td>0.17</td>\n",
       "      <td>0.0</td>\n",
       "      <td>5.0</td>\n",
       "      <td>11.0</td>\n",
       "      <td>0.000000</td>\n",
       "      <td>0.000000</td>\n",
       "      <td>NaN</td>\n",
       "      <td>0.950000</td>\n",
       "      <td>-0.94</td>\n",
       "      <td>4.350506</td>\n",
       "      <td>...</td>\n",
       "      <td>0.070</td>\n",
       "      <td>-0.636667</td>\n",
       "      <td>-0.640</td>\n",
       "      <td>0.065064</td>\n",
       "      <td>0.638879</td>\n",
       "      <td>0.636667</td>\n",
       "      <td>0.060</td>\n",
       "      <td>-2.1</td>\n",
       "      <td>(-2.2,-2.0]</td>\n",
       "      <td>11</td>\n",
       "    </tr>\n",
       "    <tr>\n",
       "      <th>2</th>\n",
       "      <td>0.17</td>\n",
       "      <td>6.0</td>\n",
       "      <td>22.0</td>\n",
       "      <td>46.0</td>\n",
       "      <td>0.214286</td>\n",
       "      <td>0.115385</td>\n",
       "      <td>0.150000</td>\n",
       "      <td>-0.046786</td>\n",
       "      <td>-0.03</td>\n",
       "      <td>1.195953</td>\n",
       "      <td>...</td>\n",
       "      <td>0.530</td>\n",
       "      <td>-0.378667</td>\n",
       "      <td>-0.620</td>\n",
       "      <td>0.459967</td>\n",
       "      <td>0.583826</td>\n",
       "      <td>0.497333</td>\n",
       "      <td>0.250</td>\n",
       "      <td>-1.9</td>\n",
       "      <td>(-2.0,-1.8]</td>\n",
       "      <td>52</td>\n",
       "    </tr>\n",
       "    <tr>\n",
       "      <th>3</th>\n",
       "      <td>0.17</td>\n",
       "      <td>51.0</td>\n",
       "      <td>80.0</td>\n",
       "      <td>201.0</td>\n",
       "      <td>0.389313</td>\n",
       "      <td>0.202381</td>\n",
       "      <td>0.266319</td>\n",
       "      <td>0.033182</td>\n",
       "      <td>-0.12</td>\n",
       "      <td>2.826289</td>\n",
       "      <td>...</td>\n",
       "      <td>0.675</td>\n",
       "      <td>-0.194805</td>\n",
       "      <td>-0.040</td>\n",
       "      <td>0.426478</td>\n",
       "      <td>0.466337</td>\n",
       "      <td>0.360779</td>\n",
       "      <td>0.280</td>\n",
       "      <td>-1.7</td>\n",
       "      <td>(-1.8,-1.6]</td>\n",
       "      <td>255</td>\n",
       "    </tr>\n",
       "    <tr>\n",
       "      <th>4</th>\n",
       "      <td>0.17</td>\n",
       "      <td>144.0</td>\n",
       "      <td>213.0</td>\n",
       "      <td>554.0</td>\n",
       "      <td>0.403361</td>\n",
       "      <td>0.206304</td>\n",
       "      <td>0.272986</td>\n",
       "      <td>-0.025568</td>\n",
       "      <td>-0.12</td>\n",
       "      <td>3.468058</td>\n",
       "      <td>...</td>\n",
       "      <td>0.615</td>\n",
       "      <td>-0.171729</td>\n",
       "      <td>-0.060</td>\n",
       "      <td>0.433311</td>\n",
       "      <td>0.465157</td>\n",
       "      <td>0.353131</td>\n",
       "      <td>0.255</td>\n",
       "      <td>-1.5</td>\n",
       "      <td>(-1.6,-1.4]</td>\n",
       "      <td>714</td>\n",
       "    </tr>\n",
       "    <tr>\n",
       "      <th>5</th>\n",
       "      <td>0.17</td>\n",
       "      <td>404.0</td>\n",
       "      <td>371.0</td>\n",
       "      <td>923.0</td>\n",
       "      <td>0.521290</td>\n",
       "      <td>0.304446</td>\n",
       "      <td>0.384396</td>\n",
       "      <td>-0.186567</td>\n",
       "      <td>-0.09</td>\n",
       "      <td>3.895239</td>\n",
       "      <td>...</td>\n",
       "      <td>0.450</td>\n",
       "      <td>-0.012783</td>\n",
       "      <td>0.030</td>\n",
       "      <td>0.409884</td>\n",
       "      <td>0.409703</td>\n",
       "      <td>0.293043</td>\n",
       "      <td>0.160</td>\n",
       "      <td>-1.3</td>\n",
       "      <td>(-1.4,-1.2]</td>\n",
       "      <td>1367</td>\n",
       "    </tr>\n",
       "    <tr>\n",
       "      <th>6</th>\n",
       "      <td>0.17</td>\n",
       "      <td>1215.0</td>\n",
       "      <td>800.0</td>\n",
       "      <td>1448.0</td>\n",
       "      <td>0.602978</td>\n",
       "      <td>0.456252</td>\n",
       "      <td>0.519453</td>\n",
       "      <td>-0.110020</td>\n",
       "      <td>-0.04</td>\n",
       "      <td>4.531635</td>\n",
       "      <td>...</td>\n",
       "      <td>0.210</td>\n",
       "      <td>0.082468</td>\n",
       "      <td>0.080</td>\n",
       "      <td>0.305569</td>\n",
       "      <td>0.316395</td>\n",
       "      <td>0.217504</td>\n",
       "      <td>0.110</td>\n",
       "      <td>-1.1</td>\n",
       "      <td>(-1.2,-1.0]</td>\n",
       "      <td>2771</td>\n",
       "    </tr>\n",
       "    <tr>\n",
       "      <th>7</th>\n",
       "      <td>0.17</td>\n",
       "      <td>2175.0</td>\n",
       "      <td>1256.0</td>\n",
       "      <td>1817.0</td>\n",
       "      <td>0.633926</td>\n",
       "      <td>0.544840</td>\n",
       "      <td>0.586016</td>\n",
       "      <td>-0.057001</td>\n",
       "      <td>0.00</td>\n",
       "      <td>5.086103</td>\n",
       "      <td>...</td>\n",
       "      <td>0.170</td>\n",
       "      <td>0.120183</td>\n",
       "      <td>0.090</td>\n",
       "      <td>0.273570</td>\n",
       "      <td>0.298754</td>\n",
       "      <td>0.204086</td>\n",
       "      <td>0.100</td>\n",
       "      <td>-0.9</td>\n",
       "      <td>(-1.0,-0.8]</td>\n",
       "      <td>4162</td>\n",
       "    </tr>\n",
       "    <tr>\n",
       "      <th>8</th>\n",
       "      <td>0.17</td>\n",
       "      <td>2097.0</td>\n",
       "      <td>1223.0</td>\n",
       "      <td>1435.0</td>\n",
       "      <td>0.631627</td>\n",
       "      <td>0.593715</td>\n",
       "      <td>0.612084</td>\n",
       "      <td>-0.043513</td>\n",
       "      <td>0.02</td>\n",
       "      <td>5.331978</td>\n",
       "      <td>...</td>\n",
       "      <td>0.180</td>\n",
       "      <td>0.106772</td>\n",
       "      <td>0.080</td>\n",
       "      <td>0.257262</td>\n",
       "      <td>0.278487</td>\n",
       "      <td>0.190351</td>\n",
       "      <td>0.090</td>\n",
       "      <td>-0.7</td>\n",
       "      <td>(-0.8,-0.6]</td>\n",
       "      <td>3698</td>\n",
       "    </tr>\n",
       "    <tr>\n",
       "      <th>9</th>\n",
       "      <td>0.17</td>\n",
       "      <td>1504.0</td>\n",
       "      <td>816.0</td>\n",
       "      <td>883.0</td>\n",
       "      <td>0.648276</td>\n",
       "      <td>0.630080</td>\n",
       "      <td>0.639048</td>\n",
       "      <td>-0.055937</td>\n",
       "      <td>0.03</td>\n",
       "      <td>5.510142</td>\n",
       "      <td>...</td>\n",
       "      <td>0.160</td>\n",
       "      <td>0.079176</td>\n",
       "      <td>0.060</td>\n",
       "      <td>0.252374</td>\n",
       "      <td>0.264429</td>\n",
       "      <td>0.174072</td>\n",
       "      <td>0.080</td>\n",
       "      <td>-0.5</td>\n",
       "      <td>(-0.6,-0.4]</td>\n",
       "      <td>2540</td>\n",
       "    </tr>\n",
       "    <tr>\n",
       "      <th>10</th>\n",
       "      <td>0.17</td>\n",
       "      <td>2152.0</td>\n",
       "      <td>683.0</td>\n",
       "      <td>673.0</td>\n",
       "      <td>0.759083</td>\n",
       "      <td>0.761770</td>\n",
       "      <td>0.760424</td>\n",
       "      <td>-0.318318</td>\n",
       "      <td>0.03</td>\n",
       "      <td>4.773235</td>\n",
       "      <td>...</td>\n",
       "      <td>0.080</td>\n",
       "      <td>0.068675</td>\n",
       "      <td>0.050</td>\n",
       "      <td>0.211911</td>\n",
       "      <td>0.222717</td>\n",
       "      <td>0.139439</td>\n",
       "      <td>0.060</td>\n",
       "      <td>-0.3</td>\n",
       "      <td>(-0.4,-0.2]</td>\n",
       "      <td>3074</td>\n",
       "    </tr>\n",
       "    <tr>\n",
       "      <th>11</th>\n",
       "      <td>0.17</td>\n",
       "      <td>4701.0</td>\n",
       "      <td>913.0</td>\n",
       "      <td>781.0</td>\n",
       "      <td>0.837371</td>\n",
       "      <td>0.857534</td>\n",
       "      <td>0.847332</td>\n",
       "      <td>-0.249351</td>\n",
       "      <td>0.03</td>\n",
       "      <td>3.912270</td>\n",
       "      <td>...</td>\n",
       "      <td>0.060</td>\n",
       "      <td>0.065372</td>\n",
       "      <td>0.050</td>\n",
       "      <td>0.176184</td>\n",
       "      <td>0.187904</td>\n",
       "      <td>0.117163</td>\n",
       "      <td>0.050</td>\n",
       "      <td>-0.1</td>\n",
       "      <td>(-0.2,0.0]</td>\n",
       "      <td>5902</td>\n",
       "    </tr>\n",
       "    <tr>\n",
       "      <th>12</th>\n",
       "      <td>0.17</td>\n",
       "      <td>3644.0</td>\n",
       "      <td>586.0</td>\n",
       "      <td>440.0</td>\n",
       "      <td>0.861466</td>\n",
       "      <td>0.892262</td>\n",
       "      <td>0.876594</td>\n",
       "      <td>-0.152741</td>\n",
       "      <td>0.03</td>\n",
       "      <td>3.760719</td>\n",
       "      <td>...</td>\n",
       "      <td>0.050</td>\n",
       "      <td>0.063708</td>\n",
       "      <td>0.050</td>\n",
       "      <td>0.165527</td>\n",
       "      <td>0.177344</td>\n",
       "      <td>0.110639</td>\n",
       "      <td>0.050</td>\n",
       "      <td>0.1</td>\n",
       "      <td>(0.0,0.2]</td>\n",
       "      <td>4367</td>\n",
       "    </tr>\n",
       "    <tr>\n",
       "      <th>13</th>\n",
       "      <td>0.17</td>\n",
       "      <td>848.0</td>\n",
       "      <td>116.0</td>\n",
       "      <td>139.0</td>\n",
       "      <td>0.879668</td>\n",
       "      <td>0.859169</td>\n",
       "      <td>0.869298</td>\n",
       "      <td>0.001625</td>\n",
       "      <td>0.02</td>\n",
       "      <td>2.741229</td>\n",
       "      <td>...</td>\n",
       "      <td>0.060</td>\n",
       "      <td>0.070509</td>\n",
       "      <td>0.040</td>\n",
       "      <td>0.190283</td>\n",
       "      <td>0.202825</td>\n",
       "      <td>0.122613</td>\n",
       "      <td>0.050</td>\n",
       "      <td>0.3</td>\n",
       "      <td>(0.2,0.4]</td>\n",
       "      <td>1058</td>\n",
       "    </tr>\n",
       "    <tr>\n",
       "      <th>14</th>\n",
       "      <td>0.17</td>\n",
       "      <td>97.0</td>\n",
       "      <td>14.0</td>\n",
       "      <td>36.0</td>\n",
       "      <td>0.873874</td>\n",
       "      <td>0.729323</td>\n",
       "      <td>0.795082</td>\n",
       "      <td>0.223874</td>\n",
       "      <td>0.01</td>\n",
       "      <td>2.675147</td>\n",
       "      <td>...</td>\n",
       "      <td>0.050</td>\n",
       "      <td>0.094757</td>\n",
       "      <td>0.040</td>\n",
       "      <td>0.214366</td>\n",
       "      <td>0.233421</td>\n",
       "      <td>0.129126</td>\n",
       "      <td>0.040</td>\n",
       "      <td>0.5</td>\n",
       "      <td>(0.4,0.6]</td>\n",
       "      <td>137</td>\n",
       "    </tr>\n",
       "    <tr>\n",
       "      <th>15</th>\n",
       "      <td>0.17</td>\n",
       "      <td>12.0</td>\n",
       "      <td>4.0</td>\n",
       "      <td>9.0</td>\n",
       "      <td>0.750000</td>\n",
       "      <td>0.571429</td>\n",
       "      <td>0.648649</td>\n",
       "      <td>0.301250</td>\n",
       "      <td>0.01</td>\n",
       "      <td>0.571604</td>\n",
       "      <td>...</td>\n",
       "      <td>0.060</td>\n",
       "      <td>0.117143</td>\n",
       "      <td>0.035</td>\n",
       "      <td>0.208269</td>\n",
       "      <td>0.232379</td>\n",
       "      <td>0.127143</td>\n",
       "      <td>0.035</td>\n",
       "      <td>0.7</td>\n",
       "      <td>(0.6,0.8]</td>\n",
       "      <td>21</td>\n",
       "    </tr>\n",
       "    <tr>\n",
       "      <th>16</th>\n",
       "      <td>0.17</td>\n",
       "      <td>2.0</td>\n",
       "      <td>0.0</td>\n",
       "      <td>2.0</td>\n",
       "      <td>1.000000</td>\n",
       "      <td>0.500000</td>\n",
       "      <td>0.666667</td>\n",
       "      <td>-0.030000</td>\n",
       "      <td>-0.01</td>\n",
       "      <td>0.014142</td>\n",
       "      <td>...</td>\n",
       "      <td>0.010</td>\n",
       "      <td>-0.030000</td>\n",
       "      <td>-0.030</td>\n",
       "      <td>0.014142</td>\n",
       "      <td>0.031623</td>\n",
       "      <td>0.030000</td>\n",
       "      <td>0.010</td>\n",
       "      <td>0.9</td>\n",
       "      <td>(0.8,1.0]</td>\n",
       "      <td>4</td>\n",
       "    </tr>\n",
       "  </tbody>\n",
       "</table>\n",
       "<p>17 rows × 28 columns</p>\n",
       "</div>"
      ],
      "text/plain": [
       "    prob_thre    s_TP    s_FP    s_FN  s_precision  s_recall  s_F1score   \n",
       "0        0.17     1.0     0.0     0.0     1.000000  1.000000   1.000000  \\\n",
       "1        0.17     0.0     5.0    11.0     0.000000  0.000000        NaN   \n",
       "2        0.17     6.0    22.0    46.0     0.214286  0.115385   0.150000   \n",
       "3        0.17    51.0    80.0   201.0     0.389313  0.202381   0.266319   \n",
       "4        0.17   144.0   213.0   554.0     0.403361  0.206304   0.272986   \n",
       "5        0.17   404.0   371.0   923.0     0.521290  0.304446   0.384396   \n",
       "6        0.17  1215.0   800.0  1448.0     0.602978  0.456252   0.519453   \n",
       "7        0.17  2175.0  1256.0  1817.0     0.633926  0.544840   0.586016   \n",
       "8        0.17  2097.0  1223.0  1435.0     0.631627  0.593715   0.612084   \n",
       "9        0.17  1504.0   816.0   883.0     0.648276  0.630080   0.639048   \n",
       "10       0.17  2152.0   683.0   673.0     0.759083  0.761770   0.760424   \n",
       "11       0.17  4701.0   913.0   781.0     0.837371  0.857534   0.847332   \n",
       "12       0.17  3644.0   586.0   440.0     0.861466  0.892262   0.876594   \n",
       "13       0.17   848.0   116.0   139.0     0.879668  0.859169   0.869298   \n",
       "14       0.17    97.0    14.0    36.0     0.873874  0.729323   0.795082   \n",
       "15       0.17    12.0     4.0     9.0     0.750000  0.571429   0.648649   \n",
       "16       0.17     2.0     0.0     2.0     1.000000  0.500000   0.666667   \n",
       "\n",
       "      s_mean  s_median     s_std  ...  s_modified_MAD  s_modified_mean2   \n",
       "0  -0.170000     -4.12       NaN  ...           0.000         -0.170000  \\\n",
       "1   0.950000     -0.94  4.350506  ...           0.070         -0.636667   \n",
       "2  -0.046786     -0.03  1.195953  ...           0.530         -0.378667   \n",
       "3   0.033182     -0.12  2.826289  ...           0.675         -0.194805   \n",
       "4  -0.025568     -0.12  3.468058  ...           0.615         -0.171729   \n",
       "5  -0.186567     -0.09  3.895239  ...           0.450         -0.012783   \n",
       "6  -0.110020     -0.04  4.531635  ...           0.210          0.082468   \n",
       "7  -0.057001      0.00  5.086103  ...           0.170          0.120183   \n",
       "8  -0.043513      0.02  5.331978  ...           0.180          0.106772   \n",
       "9  -0.055937      0.03  5.510142  ...           0.160          0.079176   \n",
       "10 -0.318318      0.03  4.773235  ...           0.080          0.068675   \n",
       "11 -0.249351      0.03  3.912270  ...           0.060          0.065372   \n",
       "12 -0.152741      0.03  3.760719  ...           0.050          0.063708   \n",
       "13  0.001625      0.02  2.741229  ...           0.060          0.070509   \n",
       "14  0.223874      0.01  2.675147  ...           0.050          0.094757   \n",
       "15  0.301250      0.01  0.571604  ...           0.060          0.117143   \n",
       "16 -0.030000     -0.01  0.014142  ...           0.010         -0.030000   \n",
       "\n",
       "    s_modified_median2  s_modified_std2  s_modified_RMSE2  s_modified_MAE2   \n",
       "0               -0.170              NaN          0.170000         0.170000  \\\n",
       "1               -0.640         0.065064          0.638879         0.636667   \n",
       "2               -0.620         0.459967          0.583826         0.497333   \n",
       "3               -0.040         0.426478          0.466337         0.360779   \n",
       "4               -0.060         0.433311          0.465157         0.353131   \n",
       "5                0.030         0.409884          0.409703         0.293043   \n",
       "6                0.080         0.305569          0.316395         0.217504   \n",
       "7                0.090         0.273570          0.298754         0.204086   \n",
       "8                0.080         0.257262          0.278487         0.190351   \n",
       "9                0.060         0.252374          0.264429         0.174072   \n",
       "10               0.050         0.211911          0.222717         0.139439   \n",
       "11               0.050         0.176184          0.187904         0.117163   \n",
       "12               0.050         0.165527          0.177344         0.110639   \n",
       "13               0.040         0.190283          0.202825         0.122613   \n",
       "14               0.040         0.214366          0.233421         0.129126   \n",
       "15               0.035         0.208269          0.232379         0.127143   \n",
       "16              -0.030         0.014142          0.031623         0.030000   \n",
       "\n",
       "    s_modified_MAD2   FI  FI_interval  n_seis  \n",
       "0             0.000 -2.3  (-2.4,-2.2]       1  \n",
       "1             0.060 -2.1  (-2.2,-2.0]      11  \n",
       "2             0.250 -1.9  (-2.0,-1.8]      52  \n",
       "3             0.280 -1.7  (-1.8,-1.6]     255  \n",
       "4             0.255 -1.5  (-1.6,-1.4]     714  \n",
       "5             0.160 -1.3  (-1.4,-1.2]    1367  \n",
       "6             0.110 -1.1  (-1.2,-1.0]    2771  \n",
       "7             0.100 -0.9  (-1.0,-0.8]    4162  \n",
       "8             0.090 -0.7  (-0.8,-0.6]    3698  \n",
       "9             0.080 -0.5  (-0.6,-0.4]    2540  \n",
       "10            0.060 -0.3  (-0.4,-0.2]    3074  \n",
       "11            0.050 -0.1   (-0.2,0.0]    5902  \n",
       "12            0.050  0.1    (0.0,0.2]    4367  \n",
       "13            0.050  0.3    (0.2,0.4]    1058  \n",
       "14            0.040  0.5    (0.4,0.6]     137  \n",
       "15            0.035  0.7    (0.6,0.8]      21  \n",
       "16            0.010  0.9    (0.8,1.0]       4  \n",
       "\n",
       "[17 rows x 28 columns]"
      ]
     },
     "execution_count": 28,
     "metadata": {},
     "output_type": "execute_result"
    }
   ],
   "source": [
    "metrics_vs_fi[\"s_F1score\"]"
   ]
  },
  {
   "cell_type": "code",
   "execution_count": 34,
   "metadata": {},
   "outputs": [
    {
     "data": {
      "text/plain": [
       "0.8952929875120077"
      ]
     },
     "execution_count": 34,
     "metadata": {},
     "output_type": "execute_result"
    }
   ],
   "source": [
    "np.max(metrics_vs_fi[\"p_F1score\"])"
   ]
  },
  {
   "cell_type": "code",
   "execution_count": 38,
   "metadata": {},
   "outputs": [],
   "source": [
    "metrics_vs_fi = pd.read_csv(root_save_path / f\"s.vol_pn_fi.csv\")\n",
    "metrics_vs_fi = metrics_vs_fi[metrics_vs_fi[\"n_seis\"] > nseis_lower_limit]"
   ]
  },
  {
   "cell_type": "code",
   "execution_count": 39,
   "metadata": {},
   "outputs": [
    {
     "data": {
      "text/plain": [
       "0.7547169811320755"
      ]
     },
     "execution_count": 39,
     "metadata": {},
     "output_type": "execute_result"
    }
   ],
   "source": [
    "np.min(metrics_vs_fi[\"s_F1score\"])"
   ]
  },
  {
   "cell_type": "code",
   "execution_count": 40,
   "metadata": {},
   "outputs": [
    {
     "data": {
      "text/plain": [
       "3     0.832000\n",
       "4     0.754717\n",
       "5     0.813212\n",
       "6     0.847201\n",
       "7     0.851530\n",
       "8     0.864380\n",
       "9     0.865340\n",
       "10    0.893173\n",
       "11    0.935659\n",
       "12    0.945680\n",
       "13    0.943662\n",
       "14    0.954545\n",
       "Name: s_F1score, dtype: float64"
      ]
     },
     "execution_count": 40,
     "metadata": {},
     "output_type": "execute_result"
    }
   ],
   "source": [
    "metrics_vs_fi[\"s_F1score\"]"
   ]
  },
  {
   "cell_type": "code",
   "execution_count": 11,
   "metadata": {},
   "outputs": [
    {
     "data": {
      "image/png": "[encoded data removed]",
      "text/plain": [
       "<Figure size 866.142x314.961 with 6 Axes>"
      ]
     },
     "metadata": {},
     "output_type": "display_data"
    }
   ],
   "source": [
    "cm = 1 / 2.54\n",
    "fig, axs = plt.subplots(2, 3, figsize=(22 * cm, 8 * cm), sharex=\"all\", sharey=\"all\")\n",
    "plt.subplots_adjust(wspace=0.05, hspace=0.08)\n",
    "\n",
    "labels = {\n",
    "    \"org_eqt\": \"Original EQTransformer (Mousavi et al., 2020)\",\n",
    "    \"int_eqt\": r\"EQTransformer trained on INSTANCE (M$\\rm{\\\"u}$nchmeyer et al., 2022)\",\n",
    "    \"vol_eqt\": \"EQTransformer retrained in this study\",\n",
    "    \"org_pn\": \"Original PhaseNet (Zhu & Beroza, 2019)\",\n",
    "    \"int_pn\": r\"PhaseNet trained on INSTANCE (M$\\rm{\\\"u}$nchmeyer et al., 2022)\",\n",
    "    \"vol_pn\": \"PhaseNet retrained in this study\",\n",
    "}\n",
    "lw = 1.2\n",
    "ms = 4.0\n",
    "fts = 9\n",
    "\n",
    "markerfacecolors = [None, \"white\"]\n",
    "markeredgecolors = [None, None]\n",
    "markers = [\"s\", \"d\", \"o\"]\n",
    "linestyles = [\"solid\", \"dotted\"]\n",
    "colors = [\"teal\", \"dodgerblue\", \"firebrick\"]\n",
    "for i_net, pred_dirs in enumerate([pn_pred_dirs, eqt_pred_dirs]):\n",
    "    markerfacecolor = markerfacecolors[i_net]\n",
    "    markeredgecolor = markeredgecolors[i_net]\n",
    "    linestyle = linestyles[i_net]\n",
    "\n",
    "    for i in range(3):\n",
    "        exp_name = pred_dirs[i]\n",
    "        color = colors[i]\n",
    "        marker = markers[i]\n",
    "\n",
    "        for j, phase in enumerate([\"p\", \"s\"]):\n",
    "            metrics_vs_fi = pd.read_csv(\n",
    "                root_save_path / f\"{phase}.{save_csv_names[exp_name]}\"\n",
    "            )\n",
    "            metrics_vs_fi = metrics_vs_fi[metrics_vs_fi[\"n_seis\"] > nseis_lower_limit]\n",
    "            for k, metric in enumerate([\"recall\", \"precision\", \"F1score\"]):\n",
    "                FIs = metrics_vs_fi[\"FI\"].values\n",
    "                intervals = (\n",
    "                    metrics_vs_fi[\"FI_interval\"]\n",
    "                    .apply(lambda x: x.replace(\",\", \", \"))\n",
    "                    .values\n",
    "                )\n",
    "                ax = axs[j][k]\n",
    "                metric_value = metrics_vs_fi[f\"{phase}_{metric}\"]\n",
    "                ax.plot(\n",
    "                    FIs,\n",
    "                    metric_value,\n",
    "                    color=color,\n",
    "                    linewidth=lw,\n",
    "                    linestyle=linestyle,\n",
    "                    marker=marker,\n",
    "                    markeredgecolor=markeredgecolor,\n",
    "                    markerfacecolor=markerfacecolor,\n",
    "                    markersize=ms,\n",
    "                    label=labels[exp_name],\n",
    "                )\n",
    "                ax.tick_params(labelsize=fts)\n",
    "                ax.set_xticks(FIs)\n",
    "                ax.set_xticklabels(intervals, rotation=-75)  # , ha=\"left\"\n",
    "                ax.yaxis.set_major_locator(MultipleLocator(0.2))\n",
    "                ax.yaxis.set_minor_locator(MultipleLocator(0.05))\n",
    "                ax.set_ylim([0.15, 1])\n",
    "                ax.grid(True)\n",
    "axs[0][0].set_ylabel(\"P picking\", fontsize=fts, weight=\"bold\")\n",
    "axs[1][0].set_ylabel(\"S picking\", fontsize=fts, weight=\"bold\")\n",
    "axs[0][0].set_title(\"Recall\", fontsize=fts, weight=\"bold\")\n",
    "axs[0][1].set_title(\"Precision\", fontsize=fts, weight=\"bold\")\n",
    "axs[0][2].set_title(\"F1 score\", fontsize=fts, weight=\"bold\")\n",
    "axs[0][0].legend(\n",
    "    loc=\"lower left\",\n",
    "    bbox_to_anchor=(-0.3, 1.13, 1, 0.5),\n",
    "    frameon=False,\n",
    "    fontsize=fts - 1.0,\n",
    "    ncols=2,\n",
    "    columnspacing=0.9,\n",
    ")\n",
    "axs[1][1].set_xlabel(\"Frequency index\", fontsize=fts)\n",
    "\n",
    "# for i,ax in enumerate(axs.flat):\n",
    "#     ax.text(\n",
    "#             0.02,\n",
    "#             0.98,\n",
    "#             \"(\"+chr(97+i)+\")\",\n",
    "#             verticalalignment=\"top\",\n",
    "#             horizontalalignment=\"left\",\n",
    "#             transform=ax.transAxes,\n",
    "#             fontsize=fts,\n",
    "#             weight=\"bold\",\n",
    "#             color=\"black\",\n",
    "#         )\n",
    "plt.savefig(\n",
    "    root_save_path / f\"alt_metrics_vs_fi_smaller_size.pdf\",\n",
    "    dpi=600,\n",
    "    bbox_inches=\"tight\",\n",
    "    pad_inches=0,\n",
    ")"
   ]
  }
 ],
 "metadata": {
  "kernelspec": {
   "display_name": "seisbench_v0.4",
   "language": "python",
   "name": "python3"
  },
  "language_info": {
   "codemirror_mode": {
    "name": "ipython",
    "version": 3
   },
   "file_extension": ".py",
   "mimetype": "text/x-python",
   "name": "python",
   "nbconvert_exporter": "python",
   "pygments_lexer": "ipython3",
   "version": "3.9.16"
  },
  "orig_nbformat": 4
 },
 "nbformat": 4,
 "nbformat_minor": 2
}
