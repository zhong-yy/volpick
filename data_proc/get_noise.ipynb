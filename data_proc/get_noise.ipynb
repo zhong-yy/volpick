{
 "cells": [
  {
   "cell_type": "markdown",
   "metadata": {},
   "source": [
    "# Import"
   ]
  },
  {
   "cell_type": "code",
   "execution_count": 1,
   "metadata": {},
   "outputs": [],
   "source": [
    "%load_ext autoreload\n",
    "%autoreload 2\n",
    "import volpick.data\n",
    "import volpick\n",
    "from obspy.clients.fdsn import Client\n",
    "from obspy import UTCDateTime\n",
    "import matplotlib.pyplot as plt\n",
    "import os\n",
    "import pandas as pd\n",
    "import numpy as np\n",
    "import time\n",
    "import datetime\n",
    "from pathlib import Path\n",
    "from obspy import read\n",
    "from collections import namedtuple\n",
    "from volpick.data.utils import freqency_index\n",
    "import seisbench.data as sbd\n",
    "from volpick.data.utils import extract_events, exclude_close_events\n",
    "from volpick.data import AlaskaDataset,NoiseData\n",
    "\n",
    "import HinetPy\n",
    "from HinetPy.utils import to_datetime, point_inside_circular, point_inside_box\n",
    "from volpick.data.data import HinetClient2\n",
    "from datetime import datetime\n",
    "from datetime import timedelta\n",
    "\n",
    "def create_noise_table(base_catalog,time_difference_limit=3600*24):\n",
    "    stations=np.unique(base_catalog.apply(lambda x: (x[\"station_network_code\"],x[\"station_code\"],x[\"station_location_code\"],x[\"trace_channel\"]),axis=1).values)\n",
    "    np.random.seed(100)\n",
    "\n",
    "    if len(stations)>300:\n",
    "        np.random.shuffle(stations)\n",
    "        stations=stations[:300]\n",
    "    \n",
    "    # conservertive_event_end\n",
    "    def get_event_end(x):\n",
    "        if pd.notna(x[\"trace_p_arrival_time\"]) and pd.notna(x[\"trace_s_arrival_time\"]):\n",
    "            if x[\"trace_p_arrival_time\"]<x[\"trace_s_arrival_time\"]:\n",
    "                return x[\"trace_p_arrival_time\"]+(x[\"trace_s_arrival_time\"]-x[\"trace_p_arrival_time\"])*5+60\n",
    "            else:\n",
    "                return x[\"source_origin_time\"]+600\n",
    "        elif pd.notna(x[\"trace_p_arrival_time\"]):\n",
    "            return x[\"trace_p_arrival_time\"]+600\n",
    "        else:\n",
    "            return x[\"source_origin_time\"]+600\n",
    "    \n",
    "    subcatalogs=[]\n",
    "    for station in stations:    \n",
    "        subcatalog=base_catalog[base_catalog.apply(lambda x: (x[\"station_network_code\"],x[\"station_code\"],x[\"station_location_code\"],x[\"trace_channel\"]),axis=1)==station].copy()\n",
    "        subcatalog[\"source_origin_time\"]=subcatalog[\"source_origin_time\"].apply(lambda x: UTCDateTime(x) if pd.notna(x) else np.nan)\n",
    "        subcatalog[\"trace_p_arrival_time\"]=subcatalog[\"trace_p_arrival_time\"].apply(lambda x: UTCDateTime(x) if pd.notna(x) else np.nan)\n",
    "        subcatalog[\"trace_s_arrival_time\"]=subcatalog[\"trace_s_arrival_time\"].apply(lambda x: UTCDateTime(x) if pd.notna(x) else np.nan)\n",
    "        subcatalog.sort_values(by=[\"source_origin_time\"], inplace=True)\n",
    "        subcatalog[\"event_end\"]=subcatalog.apply(get_event_end,axis=1)\n",
    "\n",
    "        forward_event_time_diff = (subcatalog[\"source_origin_time\"].values[1:]-subcatalog[\"event_end\"].values[:-1]).astype(float)\n",
    "        forward_event_time_diff=np.append(forward_event_time_diff,np.nan)\n",
    "        subcatalog[\"forward_event_time_difference\"]=forward_event_time_diff\n",
    "        subcatalog[\"next_event_origin_time\"]=np.append(subcatalog[\"source_origin_time\"][1:].values,np.nan)\n",
    "\n",
    "        subcatalog.sort_values(by=[\"forward_event_time_difference\"], ascending=False, inplace=True)\n",
    "        subcatalog=subcatalog[pd.notna(subcatalog[\"forward_event_time_difference\"])&(subcatalog[\"forward_event_time_difference\"]>time_difference_limit)]\n",
    "        subcatalog=subcatalog.iloc[:500].copy()\n",
    "        subcatalog.reset_index(inplace=True)\n",
    "        subcatalogs.append(subcatalog)\n",
    "    result=pd.concat(subcatalogs,ignore_index=True)\n",
    "    return result"
   ]
  },
  {
   "cell_type": "code",
   "execution_count": 6,
   "metadata": {},
   "outputs": [
    {
     "name": "stdout",
     "output_type": "stream",
     "text": [
      "The default saving directory is used: /home/zhongyiyuan/DATA/my_data/Alaska\n",
      "/home/zhongyiyuan/DATA/my_data/Alaska exists\n"
     ]
    }
   ],
   "source": [
    "alsk=AlaskaDataset()"
   ]
  },
  {
   "cell_type": "code",
   "execution_count": 302,
   "metadata": {},
   "outputs": [
    {
     "name": "stdout",
     "output_type": "stream",
     "text": [
      "The whole catalog includes 882415 waveforms, where there are\n",
      " 785281 waveforms for regular earthquakes\n",
      " 97134 waveforms for long-period earthquakes\n"
     ]
    }
   ],
   "source": [
    "ak_whole_catalog=alsk.read(format=\"csv\")\n",
    "print(f\"The whole catalog includes {len(ak_whole_catalog)} waveforms, where there are\")\n",
    "print(f\"\"\" {len(ak_whole_catalog[ak_whole_catalog[\"source_type\"]!=\"lp\"])} waveforms for regular earthquakes\"\"\")\n",
    "print(f\"\"\" {len(ak_whole_catalog[ak_whole_catalog[\"source_type\"]==\"lp\"])} waveforms for long-period earthquakes\"\"\")"
   ]
  },
  {
   "cell_type": "code",
   "execution_count": 2,
   "metadata": {},
   "outputs": [
    {
     "name": "stdout",
     "output_type": "stream",
     "text": [
      "The default saving directory is used: /home/zhongyiyuan/DATA/my_data/hawaii2012to2021\n",
      "/home/zhongyiyuan/DATA/my_data/hawaii2012to2021 exists\n"
     ]
    }
   ],
   "source": [
    "hawaii2 = volpick.data.HawaiiDataset(\n",
    "    root_folder_name=\"hawaii2012to2021\",\n",
    "    cat_file_name=\"hawaii_catalog2012to2021\",\n",
    ")\n",
    "hw_whole_catalog2=hawaii2.read(format=\"csv\")"
   ]
  },
  {
   "cell_type": "code",
   "execution_count": 306,
   "metadata": {},
   "outputs": [],
   "source": [
    "hw_stations=np.unique(hw_whole_catalog2.apply(lambda x: (x[\"station_network_code\"],x[\"station_code\"],x[\"station_location_code\"],x[\"trace_channel\"]),axis=1).values)"
   ]
  },
  {
   "cell_type": "code",
   "execution_count": 309,
   "metadata": {},
   "outputs": [],
   "source": [
    "result2=create_noise_table(base_catalog=hw_whole_catalog2)"
   ]
  },
  {
   "cell_type": "code",
   "execution_count": 314,
   "metadata": {},
   "outputs": [
    {
     "data": {
      "text/plain": [
       "250"
      ]
     },
     "execution_count": 314,
     "metadata": {},
     "output_type": "execute_result"
    }
   ],
   "source": [
    "len(hw_stations)"
   ]
  },
  {
   "cell_type": "code",
   "execution_count": 17,
   "metadata": {},
   "outputs": [],
   "source": [
    "alsk_lp_metadata=pd.read_csv(\"/home/zhongyiyuan/DATA/my_datasets_seisbench/alaska/metadata_ak_lp.csv\")\n",
    "alsk_vt_metadata=pd.read_csv(\"/home/zhongyiyuan/DATA/my_datasets_seisbench/alaska/metadata_ak_rg.csv\")\n",
    "alsk_metadata=pd.concat([alsk_lp_metadata,alsk_vt_metadata],ignore_index=True)"
   ]
  },
  {
   "cell_type": "code",
   "execution_count": 18,
   "metadata": {},
   "outputs": [
    {
     "data": {
      "text/plain": [
       "Index(['source_id', 'source_origin_time', 'source_latitude_deg',\n",
       "       'source_longitude_deg', 'source_depth_km', 'source_magnitude',\n",
       "       'source_magnitude_type', 'source_type', 'station_network_code',\n",
       "       'station_code', 'station_location_code', 'trace_channel',\n",
       "       'station_latitude_deg', 'station_longitude_deg', 'station_elevation_m',\n",
       "       'station_epicentral_distance_m', 'path_azimuth_deg',\n",
       "       'path_back_azimuth_deg', 'trace_p_arrival_time', 'trace_s_arrival_time',\n",
       "       'trace_p_max_weight', 'trace_s_max_weight', 'trace_p_first_motion',\n",
       "       'trace_name', 'trace_sampling_rate_hz', 'trace_has_spikes',\n",
       "       'trace_start_time', 'trace_p_arrival_sample', 'trace_p_status',\n",
       "       'trace_s_arrival_sample', 'trace_s_status', 'trace_snr_db',\n",
       "       'trace_mean_snr_db', 'trace_frequency_index', 'split',\n",
       "       'trace_name_original', 'source_frequency_index'],\n",
       "      dtype='object')"
      ]
     },
     "execution_count": 18,
     "metadata": {},
     "output_type": "execute_result"
    }
   ],
   "source": [
    "alsk_metadata.columns"
   ]
  },
  {
   "cell_type": "code",
   "execution_count": null,
   "metadata": {},
   "outputs": [],
   "source": [
    "alsk_lp_metadata"
   ]
  },
  {
   "cell_type": "code",
   "execution_count": 166,
   "metadata": {},
   "outputs": [],
   "source": [
    "stations=np.unique(alsk_metadata.apply(lambda x: (x[\"station_network_code\"],x[\"station_code\"],x[\"station_location_code\"],x[\"trace_channel\"]),axis=1).values)"
   ]
  },
  {
   "cell_type": "code",
   "execution_count": 207,
   "metadata": {},
   "outputs": [
    {
     "data": {
      "text/plain": [
       "array([('AK', 'ATKA', '--', 'BH'), ('AK', 'CNP', '--', 'BH'),\n",
       "       ('AK', 'FALS', '--', 'BH'), ('AK', 'HOM', '--', 'BH'),\n",
       "       ('AK', 'NIKH', '--', 'BH'), ('AK', 'NIKO', '--', 'BH'),\n",
       "       ('AK', 'SKN', '--', 'BH'), ('AK', 'SLK', '--', 'BH'),\n",
       "       ('AK', 'SSN', '--', 'BH'), ('AK', 'UNV', '--', 'BH'),\n",
       "       ('AK', 'UNV', '--', 'BN'), ('AT', 'AKUT', '--', 'BH'),\n",
       "       ('AT', 'CHGN', '--', 'BH'), ('AT', 'PMR', '--', 'BH'),\n",
       "       ('AT', 'SDPT', '--', 'BH'), ('AV', 'ACH', '--', 'BH'),\n",
       "       ('AV', 'ACH', '--', 'EH'), ('AV', 'ADAG', '--', 'EH'),\n",
       "       ('AV', 'AHB', '--', 'EH'), ('AV', 'AJAX', '--', 'EH'),\n",
       "       ('AV', 'AKBB', '--', 'BH'), ('AV', 'AKGG', '--', 'BH'),\n",
       "       ('AV', 'AKLV', '--', 'BH'), ('AV', 'AKMO', '--', 'BH'),\n",
       "       ('AV', 'AKRB', '--', 'BH'), ('AV', 'AKS', '--', 'EH'),\n",
       "       ('AV', 'AKSA', '--', 'BH'), ('AV', 'AKV', '--', 'BH'),\n",
       "       ('AV', 'AKV', '--', 'EH'), ('AV', 'AMKA', '--', 'BH'),\n",
       "       ('AV', 'ANCK', '--', 'BH'), ('AV', 'ANCK', '--', 'EH'),\n",
       "       ('AV', 'ANIA', '--', 'EH'), ('AV', 'ANNE', '--', 'EH'),\n",
       "       ('AV', 'ANNW', '--', 'EH'), ('AV', 'ANON', '--', 'EH'),\n",
       "       ('AV', 'ANPB', '--', 'EH'), ('AV', 'ANPK', '--', 'EH'),\n",
       "       ('AV', 'ANSL', '--', 'EH'), ('AV', 'AU22', '--', 'BH'),\n",
       "       ('AV', 'AUC', '--', 'EH'), ('AV', 'AUCH', '--', 'BH'),\n",
       "       ('AV', 'AUE', '--', 'EH'), ('AV', 'AUH', '--', 'EH'),\n",
       "       ('AV', 'AUI', '--', 'EH'), ('AV', 'AUJA', '--', 'BH'),\n",
       "       ('AV', 'AUJK', '--', 'EH'), ('AV', 'AUL', '--', 'BH'),\n",
       "       ('AV', 'AUL', '--', 'EH'), ('AV', 'AUNW', '--', 'EH'),\n",
       "       ('AV', 'AUP', '--', 'EH'), ('AV', 'AUQ', '--', 'BH'),\n",
       "       ('AV', 'AUR', '--', 'EH'), ('AV', 'AUS', '--', 'EH'),\n",
       "       ('AV', 'AUSB', '--', 'BH'), ('AV', 'AUSE', '--', 'EH'),\n",
       "       ('AV', 'AUSS', '--', 'BH'), ('AV', 'AUW', '--', 'EH'),\n",
       "       ('AV', 'AUWS', '--', 'BH'), ('AV', 'AZAC', '--', 'EH'),\n",
       "       ('AV', 'BGL', '--', 'EH'), ('AV', 'BGR', '--', 'EH'),\n",
       "       ('AV', 'BKG', '--', 'EH'), ('AV', 'BLDY', '--', 'EH'),\n",
       "       ('AV', 'BLHA', '--', 'EH'), ('AV', 'BPBC', '--', 'EH'),\n",
       "       ('AV', 'BRPK', '--', 'EH'), ('AV', 'CAHL', '--', 'EH'),\n",
       "       ('AV', 'CDD', '--', 'EH'), ('AV', 'CEAP', '--', 'SH'),\n",
       "       ('AV', 'CEPE', '--', 'SH'), ('AV', 'CERA', '--', 'SH'),\n",
       "       ('AV', 'CERB', '--', 'SH'), ('AV', 'CESW', '--', 'SH'),\n",
       "       ('AV', 'CETU', '--', 'SH'), ('AV', 'CGL', '--', 'EH'),\n",
       "       ('AV', 'CKL', '--', 'EH'), ('AV', 'CKN', '--', 'EH'),\n",
       "       ('AV', 'CKT', '--', 'EH'), ('AV', 'CLCO', '--', 'BH'),\n",
       "       ('AV', 'CLES', '--', 'BH'), ('AV', 'CLES', '--', 'SH'),\n",
       "       ('AV', 'CNTC', '--', 'EH'), ('AV', 'CP2', '--', 'EH'),\n",
       "       ('AV', 'CRP', '--', 'EH'), ('AV', 'DFR', '--', 'EH'),\n",
       "       ('AV', 'DOL', '--', 'EH'), ('AV', 'DRR3', '--', 'EH'),\n",
       "       ('AV', 'DT1', '--', 'EH'), ('AV', 'DTN', '--', 'EH'),\n",
       "       ('AV', 'ETKA', '--', 'EH'), ('AV', 'FONW', '--', 'EH'),\n",
       "       ('AV', 'FOPK', '--', 'EH'), ('AV', 'FOPK', '--', 'EL'),\n",
       "       ('AV', 'FOSS', '--', 'EH'), ('AV', 'FOSS', '--', 'EL'),\n",
       "       ('AV', 'GAEA', '--', 'EH'), ('AV', 'GAKI', '--', 'EH'),\n",
       "       ('AV', 'GALA', '--', 'EH'), ('AV', 'GANE', '--', 'EH'),\n",
       "       ('AV', 'GANO', '--', 'EH'), ('AV', 'GASW', '--', 'EH'),\n",
       "       ('AV', 'GSCK', '--', 'EH'), ('AV', 'GSIG', '--', 'EH'),\n",
       "       ('AV', 'GSMY', '--', 'EH'), ('AV', 'GSSP', '--', 'EH'),\n",
       "       ('AV', 'GSTD', '--', 'EH'), ('AV', 'GSTR', '--', 'EH'),\n",
       "       ('AV', 'HAG', '--', 'EH'), ('AV', 'HAG', '--', 'SH'),\n",
       "       ('AV', 'HSB', '--', 'EH'), ('AV', 'ILI', '--', 'EH'),\n",
       "       ('AV', 'ILNE', '--', 'SH'), ('AV', 'ILS', '--', 'BH'),\n",
       "       ('AV', 'ILS', '--', 'EH'), ('AV', 'ILSW', '--', 'BH'),\n",
       "       ('AV', 'ILW', '--', 'BH'), ('AV', 'ILW', '--', 'EH'),\n",
       "       ('AV', 'ILW', '--', 'SH'), ('AV', 'INE', '--', 'EH'),\n",
       "       ('AV', 'ISLZ', '--', 'BH'), ('AV', 'ISLZ', '--', 'EH'),\n",
       "       ('AV', 'ISNN', '--', 'EH'), ('AV', 'ISTK', '--', 'EH'),\n",
       "       ('AV', 'IVE', '--', 'BH'), ('AV', 'IVE', '--', 'EH'),\n",
       "       ('AV', 'IVS', '--', 'EH'), ('AV', 'KABR', '--', 'EH'),\n",
       "       ('AV', 'KABU', '--', 'BH'), ('AV', 'KAHC', '--', 'EH'),\n",
       "       ('AV', 'KAHG', '--', 'BH'), ('AV', 'KAHG', '--', 'EH'),\n",
       "       ('AV', 'KAIC', '--', 'EH'), ('AV', 'KAKN', '--', 'BH'),\n",
       "       ('AV', 'KAPH', '--', 'EH'), ('AV', 'KARR', '--', 'EH'),\n",
       "       ('AV', 'KAWH', '--', 'EH'), ('AV', 'KBM', '--', 'EH'),\n",
       "       ('AV', 'KCE', '--', 'EH'), ('AV', 'KCG', '--', 'EH'),\n",
       "       ('AV', 'KEL', '--', 'EH'), ('AV', 'KICM', '--', 'EH'),\n",
       "       ('AV', 'KIKV', '--', 'EH'), ('AV', 'KIMD', '--', 'EH'),\n",
       "       ('AV', 'KINC', '--', 'EH'), ('AV', 'KIRH', '--', 'EH'),\n",
       "       ('AV', 'KIWB', '--', 'EH'), ('AV', 'KJL', '--', 'EH'),\n",
       "       ('AV', 'KOFP', '--', 'EH'), ('AV', 'KOKL', '--', 'EH'),\n",
       "       ('AV', 'KOKV', '--', 'EH'), ('AV', 'KONE', '--', 'EH'),\n",
       "       ('AV', 'KONW', '--', 'EH'), ('AV', 'KOSE', '--', 'EH'),\n",
       "       ('AV', 'KOWE', '--', 'EH'), ('AV', 'KVT', '--', 'EH'),\n",
       "       ('AV', 'LSNW', '--', 'SH'), ('AV', 'LSPA', '--', 'SH'),\n",
       "       ('AV', 'LSSA', '--', 'SH'), ('AV', 'LSSE', '--', 'SH'),\n",
       "       ('AV', 'LVA', '--', 'BH'), ('AV', 'LVA', '--', 'EH'),\n",
       "       ('AV', 'MAPS', '--', 'BH'), ('AV', 'MCIR', '--', 'BH'),\n",
       "       ('AV', 'MCIR', '--', 'EH'), ('AV', 'MGLS', '--', 'EH'),\n",
       "       ('AV', 'MGOD', '--', 'BH'), ('AV', 'MGOD', '--', 'EH'),\n",
       "       ('AV', 'MMN', '--', 'EH'), ('AV', 'MNAT', '--', 'BH'),\n",
       "       ('AV', 'MNAT', '--', 'EH'), ('AV', 'MREP', '--', 'EH'),\n",
       "       ('AV', 'MSOM', '--', 'EH'), ('AV', 'MSW', '--', 'BH'),\n",
       "       ('AV', 'MSW', '--', 'EH'), ('AV', 'MTBL', '--', 'BH'),\n",
       "       ('AV', 'MTBL', '--', 'EH'), ('AV', 'NCG', '--', 'EH'),\n",
       "       ('AV', 'NCT', '--', 'BH'), ('AV', 'NCT', '--', 'EH'),\n",
       "       ('AV', 'OKAK', '--', 'EH'), ('AV', 'OKCD', '--', 'BH'),\n",
       "       ('AV', 'OKCE', '--', 'BH'), ('AV', 'OKCF', '--', 'EH'),\n",
       "       ('AV', 'OKER', '--', 'EH'), ('AV', 'OKFG', '--', 'BH'),\n",
       "       ('AV', 'OKID', '--', 'EH'), ('AV', 'OKNC', '--', 'BH'),\n",
       "       ('AV', 'OKRE', '--', 'EH'), ('AV', 'OKSO', '--', 'BH'),\n",
       "       ('AV', 'OKSP', '--', 'EH'), ('AV', 'OKTU', '--', 'EH'),\n",
       "       ('AV', 'OKWE', '--', 'EH'), ('AV', 'OKWR', '--', 'EH'),\n",
       "       ('AV', 'OPT', '--', 'EH'), ('AV', 'PDB', '--', 'EH'),\n",
       "       ('AV', 'PLBL', '--', 'EH'), ('AV', 'PLK1', '--', 'EH'),\n",
       "       ('AV', 'PLK2', '--', 'EH'), ('AV', 'PLK3', '--', 'EH'),\n",
       "       ('AV', 'PLK4', '--', 'EH'), ('AV', 'PLK5', '--', 'EH'),\n",
       "       ('AV', 'PLWL', '--', 'EH'), ('AV', 'PN7A', '--', 'BH'),\n",
       "       ('AV', 'PN7A', '--', 'EH'), ('AV', 'PN7A', '--', 'SH'),\n",
       "       ('AV', 'PS1A', '--', 'BH'), ('AV', 'PS1A', '--', 'EH'),\n",
       "       ('AV', 'PS4A', '--', 'BH'), ('AV', 'PS4A', '--', 'EH'),\n",
       "       ('AV', 'PV6', '--', 'EH'), ('AV', 'PV6A', '--', 'SH'),\n",
       "       ('AV', 'PVV', '--', 'EH'), ('AV', 'PVV', '--', 'SH'),\n",
       "       ('AV', 'RDDF', '--', 'BH'), ('AV', 'RDDR', '--', 'EH'),\n",
       "       ('AV', 'RDE', '--', 'EH'), ('AV', 'RDJH', '--', 'BH'),\n",
       "       ('AV', 'RDN', '--', 'EH'), ('AV', 'RDSO', '--', 'BH'),\n",
       "       ('AV', 'RDT', '--', 'BH'), ('AV', 'RDT', '--', 'EH'),\n",
       "       ('AV', 'RDWB', '--', 'BH'), ('AV', 'RED', '--', 'BH'),\n",
       "       ('AV', 'RED', '--', 'EH'), ('AV', 'REF', '--', 'EH'),\n",
       "       ('AV', 'REF', '--', 'SH'), ('AV', 'RSO', '--', 'EH'),\n",
       "       ('AV', 'SPBG', '--', 'BH'), ('AV', 'SPCG', '--', 'BH'),\n",
       "       ('AV', 'SPCN', '--', 'BH'), ('AV', 'SPCP', '--', 'BH'),\n",
       "       ('AV', 'SPCR', '--', 'BH'), ('AV', 'SPNN', '--', 'BH'),\n",
       "       ('AV', 'SPNW', '--', 'EH'), ('AV', 'SPU', '--', 'EH'),\n",
       "       ('AV', 'SPWE', '--', 'EH'), ('AV', 'SSBA', '--', 'BH'),\n",
       "       ('AV', 'SSLN', '--', 'BH'), ('AV', 'SSLN', '--', 'EH'),\n",
       "       ('AV', 'SSLS', '--', 'BH'), ('AV', 'SSLS', '--', 'EH'),\n",
       "       ('AV', 'SSLW', '--', 'EH'), ('AV', 'STLK', '--', 'BH'),\n",
       "       ('AV', 'STLK', '--', 'EH'), ('AV', 'TACS', '--', 'EH'),\n",
       "       ('AV', 'TAFL', '--', 'EH'), ('AV', 'TAFP', '--', 'EH'),\n",
       "       ('AV', 'TANO', '--', 'EH'), ('AV', 'TAPA', '--', 'EH'),\n",
       "       ('AV', 'TASE', '--', 'EH'), ('AV', 'VNFG', '--', 'EH'),\n",
       "       ('AV', 'VNHG', '--', 'EH'), ('AV', 'VNKR', '--', 'EH'),\n",
       "       ('AV', 'VNNF', '--', 'EH'), ('AV', 'VNSG', '--', 'EH'),\n",
       "       ('AV', 'VNSS', '--', 'EH'), ('AV', 'VNSW', '--', 'EH'),\n",
       "       ('AV', 'VNWF', '--', 'EH'), ('AV', 'WACK', '--', 'BH'),\n",
       "       ('AV', 'WACK', '--', 'EH'), ('AV', 'WANC', '--', 'EH'),\n",
       "       ('AV', 'WASW', '--', 'EH'), ('AV', 'WASW', '--', 'SH'),\n",
       "       ('AV', 'WAZA', '--', 'BH'), ('AV', 'WAZA', '--', 'EH'),\n",
       "       ('AV', 'WEBT', '--', 'EH'), ('AV', 'WECS', '--', 'BH'),\n",
       "       ('AV', 'WECS', '--', 'EH'), ('AV', 'WESE', '--', 'EH'),\n",
       "       ('AV', 'WESN', '--', 'EH'), ('AV', 'WESP', '--', 'EH'),\n",
       "       ('AV', 'WESS', '--', 'EH'), ('AV', 'WFAR', '--', 'EH'),\n",
       "       ('AV', 'WPOG', '--', 'EH'), ('AV', 'WTUG', '--', 'EH'),\n",
       "       ('AV', 'ZRO', '--', 'EH'), ('II', 'KDAK', '00', 'BH'),\n",
       "       ('IU', 'ADK', '00', 'BH'), ('TA', 'N20K', '--', 'BH'),\n",
       "       ('TA', 'N25K', '--', 'BH'), ('TA', 'O20K', '--', 'BH'),\n",
       "       ('TA', 'Q17K', '--', 'BH'), ('TA', 'Q18K', '--', 'BH'),\n",
       "       ('TA', 'Q19K', '--', 'BH'), ('TA', 'R17K', '--', 'BH'),\n",
       "       ('TA', 'S12K', '--', 'BH'), ('TA', 'S14K', '--', 'BH')],\n",
       "      dtype=object)"
      ]
     },
     "execution_count": 207,
     "metadata": {},
     "output_type": "execute_result"
    }
   ],
   "source": [
    "stations"
   ]
  },
  {
   "cell_type": "code",
   "execution_count": 209,
   "metadata": {},
   "outputs": [],
   "source": [
    "np.random.shuffle(stations)"
   ]
  },
  {
   "cell_type": "code",
   "execution_count": 280,
   "metadata": {},
   "outputs": [
    {
     "data": {
      "text/plain": [
       "24826"
      ]
     },
     "execution_count": 280,
     "metadata": {},
     "output_type": "execute_result"
    }
   ],
   "source": [
    "len(result)"
   ]
  },
  {
   "cell_type": "code",
   "execution_count": 283,
   "metadata": {},
   "outputs": [
    {
     "data": {
      "text/plain": [
       "(-500.05, 10501.05, -0.19677219968256443, 4.132216193333853)"
      ]
     },
     "execution_count": 283,
     "metadata": {},
     "output_type": "execute_result"
    },
    {
     "data": {
      "image/png": "[encoded data removed]",
      "text/plain": [
       "<Figure size 640x480 with 2 Axes>"
      ]
     },
     "metadata": {},
     "output_type": "display_data"
    }
   ],
   "source": [
    "import matplotlib.pyplot as plt\n",
    "\n",
    "import obspy\n",
    "from obspy.clients.fdsn import Client\n",
    "from obspy.signal.trigger import recursive_sta_lta, trigger_onset\n",
    "\n",
    "\n",
    "# Retrieve waveforms via FDSNWS\n",
    "client = Client(\"LMU\")\n",
    "t = obspy.UTCDateTime(\"2009-08-24 00:19:45\")\n",
    "st = client.get_waveforms('BW', 'RTSH', '', 'EHZ', t, t + 50)\n",
    "\n",
    "# For convenience\n",
    "tr = st[0]  # only one trace in mseed volume\n",
    "df = tr.stats.sampling_rate\n",
    "\n",
    "# Characteristic function and trigger onsets\n",
    "cft = recursive_sta_lta(tr.data, int(2.5 * df), int(10. * df))\n",
    "on_of = trigger_onset(cft, 3.5, 0.5)\n",
    "\n",
    "# Plotting the results\n",
    "ax = plt.subplot(211)\n",
    "plt.plot(tr.data, 'k')\n",
    "ymin, ymax = ax.get_ylim()\n",
    "plt.vlines(on_of[:, 0], ymin, ymax, color='r', linewidth=2)\n",
    "plt.vlines(on_of[:, 1], ymin, ymax, color='b', linewidth=2)\n",
    "plt.subplot(212, sharex=ax)\n",
    "plt.plot(cft, 'k')\n",
    "plt.hlines([3.5, 0.5], 0, len(cft), color=['r', 'b'], linestyle='--')\n",
    "plt.axis('tight')"
   ]
  },
  {
   "cell_type": "code",
   "execution_count": 294,
   "metadata": {},
   "outputs": [
    {
     "data": {
      "text/plain": [
       "array([21.93])"
      ]
     },
     "execution_count": 294,
     "metadata": {},
     "output_type": "execute_result"
    }
   ],
   "source": [
    "on_of[:, 0] / tr.stats.sampling_rate+ tr.times(reftime=tr.stats.starttime)[0]"
   ]
  },
  {
   "cell_type": "code",
   "execution_count": 303,
   "metadata": {},
   "outputs": [
    {
     "data": {
      "text/plain": [
       "441"
      ]
     },
     "execution_count": 303,
     "metadata": {},
     "output_type": "execute_result"
    }
   ],
   "source": [
    "len(stations2)"
   ]
  },
  {
   "cell_type": "code",
   "execution_count": 296,
   "metadata": {},
   "outputs": [
    {
     "data": {
      "text/plain": [
       "(1, 2)"
      ]
     },
     "execution_count": 296,
     "metadata": {},
     "output_type": "execute_result"
    }
   ],
   "source": [
    "on_of.shape"
   ]
  },
  {
   "cell_type": "code",
   "execution_count": 292,
   "metadata": {},
   "outputs": [
    {
     "data": {
      "text/plain": [
       "0.0"
      ]
     },
     "execution_count": 292,
     "metadata": {},
     "output_type": "execute_result"
    }
   ],
   "source": []
  },
  {
   "cell_type": "code",
   "execution_count": 193,
   "metadata": {},
   "outputs": [],
   "source": [
    "stations2=np.unique(ak_whole_catalog.apply(lambda x: (x[\"station_network_code\"],x[\"station_code\"],x[\"station_location_code\"],x[\"trace_channel\"]),axis=1).values)"
   ]
  },
  {
   "cell_type": "code",
   "execution_count": 258,
   "metadata": {},
   "outputs": [],
   "source": []
  },
  {
   "cell_type": "code",
   "execution_count": 259,
   "metadata": {},
   "outputs": [],
   "source": [
    "st=read()"
   ]
  },
  {
   "cell_type": "code",
   "execution_count": 274,
   "metadata": {},
   "outputs": [
    {
     "data": {
      "text/plain": [
       "'090824T002003.000'"
      ]
     },
     "execution_count": 274,
     "metadata": {},
     "output_type": "execute_result"
    }
   ],
   "source": [
    "str(st[0].stats.starttime).replace(\"-\",\"\").replace(\":\",\"\")[2:-4]"
   ]
  },
  {
   "cell_type": "code",
   "execution_count": 254,
   "metadata": {},
   "outputs": [
    {
     "data": {
      "text/plain": [
       "Index(['index', 'source_id', 'source_origin_time', 'source_latitude_deg',\n",
       "       'source_longitude_deg', 'source_depth_km', 'source_magnitude',\n",
       "       'source_magnitude_type', 'source_type', 'station_network_code',\n",
       "       'station_code', 'station_location_code', 'trace_channel',\n",
       "       'trace_p_arrival_time', 'trace_s_arrival_time', 'trace_p_max_weight',\n",
       "       'trace_s_max_weight', 'trace_p_first_motion', 'event_end',\n",
       "       'forward_event_time_difference', 'next_event_origin_time'],\n",
       "      dtype='object')"
      ]
     },
     "execution_count": 254,
     "metadata": {},
     "output_type": "execute_result"
    }
   ],
   "source": [
    "result.columns"
   ]
  },
  {
   "cell_type": "code",
   "execution_count": 246,
   "metadata": {},
   "outputs": [],
   "source": [
    "result=create_noise_table(base_catalog=ak_whole_catalog)"
   ]
  },
  {
   "cell_type": "code",
   "execution_count": 313,
   "metadata": {},
   "outputs": [
    {
     "data": {
      "text/html": [
       "<div>\n",
       "<style scoped>\n",
       "    .dataframe tbody tr th:only-of-type {\n",
       "        vertical-align: middle;\n",
       "    }\n",
       "\n",
       "    .dataframe tbody tr th {\n",
       "        vertical-align: top;\n",
       "    }\n",
       "\n",
       "    .dataframe thead th {\n",
       "        text-align: right;\n",
       "    }\n",
       "</style>\n",
       "<table border=\"1\" class=\"dataframe\">\n",
       "  <thead>\n",
       "    <tr style=\"text-align: right;\">\n",
       "      <th></th>\n",
       "      <th>index</th>\n",
       "      <th>source_id</th>\n",
       "      <th>source_origin_time</th>\n",
       "      <th>source_latitude_deg</th>\n",
       "      <th>source_longitude_deg</th>\n",
       "      <th>source_depth_km</th>\n",
       "      <th>source_magnitude</th>\n",
       "      <th>source_magnitude_type</th>\n",
       "      <th>source_type</th>\n",
       "      <th>station_network_code</th>\n",
       "      <th>...</th>\n",
       "      <th>station_location_code</th>\n",
       "      <th>trace_channel</th>\n",
       "      <th>trace_p_arrival_time</th>\n",
       "      <th>trace_s_arrival_time</th>\n",
       "      <th>trace_p_max_weight</th>\n",
       "      <th>trace_s_max_weight</th>\n",
       "      <th>trace_p_first_motion</th>\n",
       "      <th>event_end</th>\n",
       "      <th>forward_event_time_difference</th>\n",
       "      <th>next_event_origin_time</th>\n",
       "    </tr>\n",
       "  </thead>\n",
       "  <tbody>\n",
       "    <tr>\n",
       "      <th>0</th>\n",
       "      <td>0</td>\n",
       "      <td>alk60407578</td>\n",
       "      <td>2008-09-12T02:23:22.060000Z</td>\n",
       "      <td>53.419833</td>\n",
       "      <td>-168.152167</td>\n",
       "      <td>1.35</td>\n",
       "      <td>0.70</td>\n",
       "      <td>ml</td>\n",
       "      <td>le</td>\n",
       "      <td>AV</td>\n",
       "      <td>...</td>\n",
       "      <td>--</td>\n",
       "      <td>EH</td>\n",
       "      <td>NaN</td>\n",
       "      <td>NaN</td>\n",
       "      <td>NaN</td>\n",
       "      <td>NaN</td>\n",
       "      <td>NaN</td>\n",
       "      <td>2008-09-12T02:33:22.060000Z</td>\n",
       "      <td>59209348.80</td>\n",
       "      <td>2010-07-29T09:35:50.860000Z</td>\n",
       "    </tr>\n",
       "    <tr>\n",
       "      <th>1</th>\n",
       "      <td>1</td>\n",
       "      <td>alk60956228</td>\n",
       "      <td>2005-02-27T03:41:59.000000Z</td>\n",
       "      <td>53.282167</td>\n",
       "      <td>-168.302667</td>\n",
       "      <td>4.40</td>\n",
       "      <td>1.80</td>\n",
       "      <td>ml</td>\n",
       "      <td>le</td>\n",
       "      <td>AV</td>\n",
       "      <td>...</td>\n",
       "      <td>--</td>\n",
       "      <td>EH</td>\n",
       "      <td>2005-02-27T03:42:04.240000Z</td>\n",
       "      <td>NaN</td>\n",
       "      <td>0.40</td>\n",
       "      <td>NaN</td>\n",
       "      <td>NaN</td>\n",
       "      <td>2005-02-27T03:52:04.240000Z</td>\n",
       "      <td>10593648.09</td>\n",
       "      <td>2005-06-29T18:32:52.330000Z</td>\n",
       "    </tr>\n",
       "    <tr>\n",
       "      <th>2</th>\n",
       "      <td>2</td>\n",
       "      <td>alk70738014</td>\n",
       "      <td>2017-02-20T02:01:05.900000Z</td>\n",
       "      <td>53.931333</td>\n",
       "      <td>-167.988167</td>\n",
       "      <td>1.08</td>\n",
       "      <td>1.57</td>\n",
       "      <td>ml</td>\n",
       "      <td>le</td>\n",
       "      <td>AV</td>\n",
       "      <td>...</td>\n",
       "      <td>--</td>\n",
       "      <td>EH</td>\n",
       "      <td>2017-02-20T02:01:16.060000Z</td>\n",
       "      <td>NaN</td>\n",
       "      <td>1.02</td>\n",
       "      <td>NaN</td>\n",
       "      <td>U</td>\n",
       "      <td>2017-02-20T02:11:16.060000Z</td>\n",
       "      <td>9582471.43</td>\n",
       "      <td>2017-06-10T23:59:07.490000Z</td>\n",
       "    </tr>\n",
       "    <tr>\n",
       "      <th>3</th>\n",
       "      <td>3</td>\n",
       "      <td>alk60981651</td>\n",
       "      <td>2015-03-19T07:18:24.870000Z</td>\n",
       "      <td>53.210333</td>\n",
       "      <td>-168.384500</td>\n",
       "      <td>0.47</td>\n",
       "      <td>1.70</td>\n",
       "      <td>ml</td>\n",
       "      <td>le</td>\n",
       "      <td>AV</td>\n",
       "      <td>...</td>\n",
       "      <td>--</td>\n",
       "      <td>EH</td>\n",
       "      <td>2015-03-19T07:18:31.980000Z</td>\n",
       "      <td>NaN</td>\n",
       "      <td>0.06</td>\n",
       "      <td>NaN</td>\n",
       "      <td>U</td>\n",
       "      <td>2015-03-19T07:28:31.980000Z</td>\n",
       "      <td>7780029.43</td>\n",
       "      <td>2015-06-17T08:35:41.410000Z</td>\n",
       "    </tr>\n",
       "    <tr>\n",
       "      <th>4</th>\n",
       "      <td>4</td>\n",
       "      <td>alk60741868</td>\n",
       "      <td>2006-03-01T07:33:53.840000Z</td>\n",
       "      <td>53.423667</td>\n",
       "      <td>-168.099167</td>\n",
       "      <td>3.27</td>\n",
       "      <td>1.40</td>\n",
       "      <td>ml</td>\n",
       "      <td>le</td>\n",
       "      <td>AV</td>\n",
       "      <td>...</td>\n",
       "      <td>--</td>\n",
       "      <td>EH</td>\n",
       "      <td>2006-03-01T07:33:55.440000Z</td>\n",
       "      <td>NaN</td>\n",
       "      <td>1.12</td>\n",
       "      <td>NaN</td>\n",
       "      <td>NaN</td>\n",
       "      <td>2006-03-01T07:43:55.440000Z</td>\n",
       "      <td>7779359.74</td>\n",
       "      <td>2006-05-30T08:39:55.180000Z</td>\n",
       "    </tr>\n",
       "    <tr>\n",
       "      <th>...</th>\n",
       "      <td>...</td>\n",
       "      <td>...</td>\n",
       "      <td>...</td>\n",
       "      <td>...</td>\n",
       "      <td>...</td>\n",
       "      <td>...</td>\n",
       "      <td>...</td>\n",
       "      <td>...</td>\n",
       "      <td>...</td>\n",
       "      <td>...</td>\n",
       "      <td>...</td>\n",
       "      <td>...</td>\n",
       "      <td>...</td>\n",
       "      <td>...</td>\n",
       "      <td>...</td>\n",
       "      <td>...</td>\n",
       "      <td>...</td>\n",
       "      <td>...</td>\n",
       "      <td>...</td>\n",
       "      <td>...</td>\n",
       "      <td>...</td>\n",
       "    </tr>\n",
       "    <tr>\n",
       "      <th>24821</th>\n",
       "      <td>215</td>\n",
       "      <td>alk61761083</td>\n",
       "      <td>1999-04-06T08:20:57.840000Z</td>\n",
       "      <td>54.616500</td>\n",
       "      <td>-161.269833</td>\n",
       "      <td>14.64</td>\n",
       "      <td>2.60</td>\n",
       "      <td>ml</td>\n",
       "      <td>ot</td>\n",
       "      <td>AV</td>\n",
       "      <td>...</td>\n",
       "      <td>--</td>\n",
       "      <td>EH</td>\n",
       "      <td>1999-04-06T08:21:10.220000Z</td>\n",
       "      <td>1999-04-06T08:21:19.370000Z</td>\n",
       "      <td>1.08</td>\n",
       "      <td>1.08</td>\n",
       "      <td>NaN</td>\n",
       "      <td>1999-04-06T08:22:55.970000Z</td>\n",
       "      <td>94441.29</td>\n",
       "      <td>1999-04-07T10:36:57.260000Z</td>\n",
       "    </tr>\n",
       "    <tr>\n",
       "      <th>24822</th>\n",
       "      <td>216</td>\n",
       "      <td>alk61760673</td>\n",
       "      <td>1999-03-26T23:22:18.130000Z</td>\n",
       "      <td>54.770667</td>\n",
       "      <td>-164.187500</td>\n",
       "      <td>0.58</td>\n",
       "      <td>2.50</td>\n",
       "      <td>ml</td>\n",
       "      <td>le</td>\n",
       "      <td>AV</td>\n",
       "      <td>...</td>\n",
       "      <td>--</td>\n",
       "      <td>EH</td>\n",
       "      <td>NaN</td>\n",
       "      <td>NaN</td>\n",
       "      <td>NaN</td>\n",
       "      <td>NaN</td>\n",
       "      <td>NaN</td>\n",
       "      <td>1999-03-26T23:32:18.130000Z</td>\n",
       "      <td>94169.84</td>\n",
       "      <td>1999-03-28T01:41:47.970000Z</td>\n",
       "    </tr>\n",
       "    <tr>\n",
       "      <th>24823</th>\n",
       "      <td>217</td>\n",
       "      <td>alk61768883</td>\n",
       "      <td>1999-11-10T11:09:42.670000Z</td>\n",
       "      <td>54.466500</td>\n",
       "      <td>-160.991333</td>\n",
       "      <td>-3.19</td>\n",
       "      <td>3.20</td>\n",
       "      <td>ml</td>\n",
       "      <td>ot</td>\n",
       "      <td>AV</td>\n",
       "      <td>...</td>\n",
       "      <td>--</td>\n",
       "      <td>EH</td>\n",
       "      <td>1999-11-10T11:09:54.020000Z</td>\n",
       "      <td>1999-11-10T11:10:02.930000Z</td>\n",
       "      <td>0.68</td>\n",
       "      <td>1.02</td>\n",
       "      <td>NaN</td>\n",
       "      <td>1999-11-10T11:11:38.570000Z</td>\n",
       "      <td>91393.93</td>\n",
       "      <td>1999-11-11T12:34:52.500000Z</td>\n",
       "    </tr>\n",
       "    <tr>\n",
       "      <th>24824</th>\n",
       "      <td>218</td>\n",
       "      <td>alk61768383</td>\n",
       "      <td>1999-11-03T04:00:22.850000Z</td>\n",
       "      <td>54.413833</td>\n",
       "      <td>-161.450167</td>\n",
       "      <td>-3.18</td>\n",
       "      <td>2.60</td>\n",
       "      <td>ml</td>\n",
       "      <td>ot</td>\n",
       "      <td>AV</td>\n",
       "      <td>...</td>\n",
       "      <td>--</td>\n",
       "      <td>EH</td>\n",
       "      <td>1999-11-03T04:00:36.940000Z</td>\n",
       "      <td>NaN</td>\n",
       "      <td>0.74</td>\n",
       "      <td>NaN</td>\n",
       "      <td>NaN</td>\n",
       "      <td>1999-11-03T04:10:36.940000Z</td>\n",
       "      <td>89224.08</td>\n",
       "      <td>1999-11-04T04:57:41.020000Z</td>\n",
       "    </tr>\n",
       "    <tr>\n",
       "      <th>24825</th>\n",
       "      <td>219</td>\n",
       "      <td>alk61775808</td>\n",
       "      <td>2000-09-06T16:33:11.370000Z</td>\n",
       "      <td>55.173667</td>\n",
       "      <td>-160.277333</td>\n",
       "      <td>-3.19</td>\n",
       "      <td>3.00</td>\n",
       "      <td>ml</td>\n",
       "      <td>ot</td>\n",
       "      <td>AV</td>\n",
       "      <td>...</td>\n",
       "      <td>--</td>\n",
       "      <td>EH</td>\n",
       "      <td>2000-09-06T16:33:19.860000Z</td>\n",
       "      <td>2000-09-06T16:33:26.540000Z</td>\n",
       "      <td>1.25</td>\n",
       "      <td>0.93</td>\n",
       "      <td>NaN</td>\n",
       "      <td>2000-09-06T16:34:53.260000Z</td>\n",
       "      <td>89167.94</td>\n",
       "      <td>2000-09-07T17:21:01.200000Z</td>\n",
       "    </tr>\n",
       "  </tbody>\n",
       "</table>\n",
       "<p>24826 rows × 21 columns</p>\n",
       "</div>"
      ],
      "text/plain": [
       "       index    source_id           source_origin_time  source_latitude_deg   \n",
       "0          0  alk60407578  2008-09-12T02:23:22.060000Z            53.419833  \\\n",
       "1          1  alk60956228  2005-02-27T03:41:59.000000Z            53.282167   \n",
       "2          2  alk70738014  2017-02-20T02:01:05.900000Z            53.931333   \n",
       "3          3  alk60981651  2015-03-19T07:18:24.870000Z            53.210333   \n",
       "4          4  alk60741868  2006-03-01T07:33:53.840000Z            53.423667   \n",
       "...      ...          ...                          ...                  ...   \n",
       "24821    215  alk61761083  1999-04-06T08:20:57.840000Z            54.616500   \n",
       "24822    216  alk61760673  1999-03-26T23:22:18.130000Z            54.770667   \n",
       "24823    217  alk61768883  1999-11-10T11:09:42.670000Z            54.466500   \n",
       "24824    218  alk61768383  1999-11-03T04:00:22.850000Z            54.413833   \n",
       "24825    219  alk61775808  2000-09-06T16:33:11.370000Z            55.173667   \n",
       "\n",
       "       source_longitude_deg  source_depth_km  source_magnitude   \n",
       "0               -168.152167             1.35              0.70  \\\n",
       "1               -168.302667             4.40              1.80   \n",
       "2               -167.988167             1.08              1.57   \n",
       "3               -168.384500             0.47              1.70   \n",
       "4               -168.099167             3.27              1.40   \n",
       "...                     ...              ...               ...   \n",
       "24821           -161.269833            14.64              2.60   \n",
       "24822           -164.187500             0.58              2.50   \n",
       "24823           -160.991333            -3.19              3.20   \n",
       "24824           -161.450167            -3.18              2.60   \n",
       "24825           -160.277333            -3.19              3.00   \n",
       "\n",
       "      source_magnitude_type source_type station_network_code  ...   \n",
       "0                        ml          le                   AV  ...  \\\n",
       "1                        ml          le                   AV  ...   \n",
       "2                        ml          le                   AV  ...   \n",
       "3                        ml          le                   AV  ...   \n",
       "4                        ml          le                   AV  ...   \n",
       "...                     ...         ...                  ...  ...   \n",
       "24821                    ml          ot                   AV  ...   \n",
       "24822                    ml          le                   AV  ...   \n",
       "24823                    ml          ot                   AV  ...   \n",
       "24824                    ml          ot                   AV  ...   \n",
       "24825                    ml          ot                   AV  ...   \n",
       "\n",
       "      station_location_code trace_channel         trace_p_arrival_time   \n",
       "0                        --            EH                          NaN  \\\n",
       "1                        --            EH  2005-02-27T03:42:04.240000Z   \n",
       "2                        --            EH  2017-02-20T02:01:16.060000Z   \n",
       "3                        --            EH  2015-03-19T07:18:31.980000Z   \n",
       "4                        --            EH  2006-03-01T07:33:55.440000Z   \n",
       "...                     ...           ...                          ...   \n",
       "24821                    --            EH  1999-04-06T08:21:10.220000Z   \n",
       "24822                    --            EH                          NaN   \n",
       "24823                    --            EH  1999-11-10T11:09:54.020000Z   \n",
       "24824                    --            EH  1999-11-03T04:00:36.940000Z   \n",
       "24825                    --            EH  2000-09-06T16:33:19.860000Z   \n",
       "\n",
       "              trace_s_arrival_time trace_p_max_weight  trace_s_max_weight   \n",
       "0                              NaN                NaN                 NaN  \\\n",
       "1                              NaN               0.40                 NaN   \n",
       "2                              NaN               1.02                 NaN   \n",
       "3                              NaN               0.06                 NaN   \n",
       "4                              NaN               1.12                 NaN   \n",
       "...                            ...                ...                 ...   \n",
       "24821  1999-04-06T08:21:19.370000Z               1.08                1.08   \n",
       "24822                          NaN                NaN                 NaN   \n",
       "24823  1999-11-10T11:10:02.930000Z               0.68                1.02   \n",
       "24824                          NaN               0.74                 NaN   \n",
       "24825  2000-09-06T16:33:26.540000Z               1.25                0.93   \n",
       "\n",
       "       trace_p_first_motion                    event_end   \n",
       "0                       NaN  2008-09-12T02:33:22.060000Z  \\\n",
       "1                       NaN  2005-02-27T03:52:04.240000Z   \n",
       "2                         U  2017-02-20T02:11:16.060000Z   \n",
       "3                         U  2015-03-19T07:28:31.980000Z   \n",
       "4                       NaN  2006-03-01T07:43:55.440000Z   \n",
       "...                     ...                          ...   \n",
       "24821                   NaN  1999-04-06T08:22:55.970000Z   \n",
       "24822                   NaN  1999-03-26T23:32:18.130000Z   \n",
       "24823                   NaN  1999-11-10T11:11:38.570000Z   \n",
       "24824                   NaN  1999-11-03T04:10:36.940000Z   \n",
       "24825                   NaN  2000-09-06T16:34:53.260000Z   \n",
       "\n",
       "      forward_event_time_difference       next_event_origin_time  \n",
       "0                       59209348.80  2010-07-29T09:35:50.860000Z  \n",
       "1                       10593648.09  2005-06-29T18:32:52.330000Z  \n",
       "2                        9582471.43  2017-06-10T23:59:07.490000Z  \n",
       "3                        7780029.43  2015-06-17T08:35:41.410000Z  \n",
       "4                        7779359.74  2006-05-30T08:39:55.180000Z  \n",
       "...                             ...                          ...  \n",
       "24821                      94441.29  1999-04-07T10:36:57.260000Z  \n",
       "24822                      94169.84  1999-03-28T01:41:47.970000Z  \n",
       "24823                      91393.93  1999-11-11T12:34:52.500000Z  \n",
       "24824                      89224.08  1999-11-04T04:57:41.020000Z  \n",
       "24825                      89167.94  2000-09-07T17:21:01.200000Z  \n",
       "\n",
       "[24826 rows x 21 columns]"
      ]
     },
     "execution_count": 313,
     "metadata": {},
     "output_type": "execute_result"
    }
   ],
   "source": [
    "result"
   ]
  },
  {
   "cell_type": "code",
   "execution_count": 279,
   "metadata": {},
   "outputs": [],
   "source": [
    "result.to_csv(\"ak_noise_table.csv\",index=False)"
   ]
  },
  {
   "cell_type": "code",
   "execution_count": 255,
   "metadata": {},
   "outputs": [
    {
     "data": {
      "text/html": [
       "<div>\n",
       "<style scoped>\n",
       "    .dataframe tbody tr th:only-of-type {\n",
       "        vertical-align: middle;\n",
       "    }\n",
       "\n",
       "    .dataframe tbody tr th {\n",
       "        vertical-align: top;\n",
       "    }\n",
       "\n",
       "    .dataframe thead th {\n",
       "        text-align: right;\n",
       "    }\n",
       "</style>\n",
       "<table border=\"1\" class=\"dataframe\">\n",
       "  <thead>\n",
       "    <tr style=\"text-align: right;\">\n",
       "      <th></th>\n",
       "      <th>source_id</th>\n",
       "      <th>source_origin_time</th>\n",
       "      <th>source_latitude_deg</th>\n",
       "      <th>source_longitude_deg</th>\n",
       "      <th>source_depth_km</th>\n",
       "      <th>source_magnitude</th>\n",
       "      <th>source_magnitude_type</th>\n",
       "      <th>source_type</th>\n",
       "      <th>station_network_code</th>\n",
       "      <th>station_code</th>\n",
       "      <th>station_location_code</th>\n",
       "      <th>trace_channel</th>\n",
       "      <th>trace_p_arrival_time</th>\n",
       "      <th>trace_s_arrival_time</th>\n",
       "      <th>trace_p_max_weight</th>\n",
       "      <th>trace_s_max_weight</th>\n",
       "      <th>trace_p_first_motion</th>\n",
       "    </tr>\n",
       "  </thead>\n",
       "  <tbody>\n",
       "    <tr>\n",
       "      <th>0</th>\n",
       "      <td>alk61831343</td>\n",
       "      <td>1989-10-12T13:14:35.200000Z</td>\n",
       "      <td>61.451833</td>\n",
       "      <td>-151.236667</td>\n",
       "      <td>13.47</td>\n",
       "      <td>1.10</td>\n",
       "      <td>ml</td>\n",
       "      <td>ot</td>\n",
       "      <td>AV</td>\n",
       "      <td>BGL</td>\n",
       "      <td>--</td>\n",
       "      <td>EH</td>\n",
       "      <td>1989-10-12T13:14:46.390000Z</td>\n",
       "      <td>1989-10-12T13:14:54.990000Z</td>\n",
       "      <td>1.12</td>\n",
       "      <td>0.56</td>\n",
       "      <td>NaN</td>\n",
       "    </tr>\n",
       "    <tr>\n",
       "      <th>1</th>\n",
       "      <td>alk61831343</td>\n",
       "      <td>1989-10-12T13:14:35.200000Z</td>\n",
       "      <td>61.451833</td>\n",
       "      <td>-151.236667</td>\n",
       "      <td>13.47</td>\n",
       "      <td>1.10</td>\n",
       "      <td>ml</td>\n",
       "      <td>ot</td>\n",
       "      <td>AV</td>\n",
       "      <td>CGL</td>\n",
       "      <td>--</td>\n",
       "      <td>EH</td>\n",
       "      <td>1989-10-12T13:14:43.170000Z</td>\n",
       "      <td>NaN</td>\n",
       "      <td>1.12</td>\n",
       "      <td>NaN</td>\n",
       "      <td>U</td>\n",
       "    </tr>\n",
       "    <tr>\n",
       "      <th>2</th>\n",
       "      <td>alk61831343</td>\n",
       "      <td>1989-10-12T13:14:35.200000Z</td>\n",
       "      <td>61.451833</td>\n",
       "      <td>-151.236667</td>\n",
       "      <td>13.47</td>\n",
       "      <td>1.10</td>\n",
       "      <td>ml</td>\n",
       "      <td>ot</td>\n",
       "      <td>AV</td>\n",
       "      <td>CRP</td>\n",
       "      <td>--</td>\n",
       "      <td>EH</td>\n",
       "      <td>1989-10-12T13:14:44.760000Z</td>\n",
       "      <td>NaN</td>\n",
       "      <td>1.12</td>\n",
       "      <td>NaN</td>\n",
       "      <td>NaN</td>\n",
       "    </tr>\n",
       "    <tr>\n",
       "      <th>3</th>\n",
       "      <td>alk61831343</td>\n",
       "      <td>1989-10-12T13:14:35.200000Z</td>\n",
       "      <td>61.451833</td>\n",
       "      <td>-151.236667</td>\n",
       "      <td>13.47</td>\n",
       "      <td>1.10</td>\n",
       "      <td>ml</td>\n",
       "      <td>ot</td>\n",
       "      <td>AV</td>\n",
       "      <td>NCG</td>\n",
       "      <td>--</td>\n",
       "      <td>EH</td>\n",
       "      <td>1989-10-12T13:14:44.000000Z</td>\n",
       "      <td>NaN</td>\n",
       "      <td>1.12</td>\n",
       "      <td>NaN</td>\n",
       "      <td>U</td>\n",
       "    </tr>\n",
       "    <tr>\n",
       "      <th>4</th>\n",
       "      <td>alk61831343</td>\n",
       "      <td>1989-10-12T13:14:35.200000Z</td>\n",
       "      <td>61.451833</td>\n",
       "      <td>-151.236667</td>\n",
       "      <td>13.47</td>\n",
       "      <td>1.10</td>\n",
       "      <td>ml</td>\n",
       "      <td>ot</td>\n",
       "      <td>AV</td>\n",
       "      <td>SPU</td>\n",
       "      <td>--</td>\n",
       "      <td>EH</td>\n",
       "      <td>1989-10-12T13:14:44.510000Z</td>\n",
       "      <td>1989-10-12T13:14:51.810000Z</td>\n",
       "      <td>1.12</td>\n",
       "      <td>0.84</td>\n",
       "      <td>U</td>\n",
       "    </tr>\n",
       "    <tr>\n",
       "      <th>...</th>\n",
       "      <td>...</td>\n",
       "      <td>...</td>\n",
       "      <td>...</td>\n",
       "      <td>...</td>\n",
       "      <td>...</td>\n",
       "      <td>...</td>\n",
       "      <td>...</td>\n",
       "      <td>...</td>\n",
       "      <td>...</td>\n",
       "      <td>...</td>\n",
       "      <td>...</td>\n",
       "      <td>...</td>\n",
       "      <td>...</td>\n",
       "      <td>...</td>\n",
       "      <td>...</td>\n",
       "      <td>...</td>\n",
       "      <td>...</td>\n",
       "    </tr>\n",
       "    <tr>\n",
       "      <th>882410</th>\n",
       "      <td>alk65066207</td>\n",
       "      <td>2017-12-31T22:19:25.390000Z</td>\n",
       "      <td>60.647667</td>\n",
       "      <td>-152.687500</td>\n",
       "      <td>5.73</td>\n",
       "      <td>0.23</td>\n",
       "      <td>ml</td>\n",
       "      <td>le</td>\n",
       "      <td>AV</td>\n",
       "      <td>RDSO</td>\n",
       "      <td>--</td>\n",
       "      <td>BH</td>\n",
       "      <td>2017-12-31T22:19:29.240000Z</td>\n",
       "      <td>2017-12-31T22:19:32.120000Z</td>\n",
       "      <td>1.08</td>\n",
       "      <td>1.08</td>\n",
       "      <td>U</td>\n",
       "    </tr>\n",
       "    <tr>\n",
       "      <th>882411</th>\n",
       "      <td>alk65066207</td>\n",
       "      <td>2017-12-31T22:19:25.390000Z</td>\n",
       "      <td>60.647667</td>\n",
       "      <td>-152.687500</td>\n",
       "      <td>5.73</td>\n",
       "      <td>0.23</td>\n",
       "      <td>ml</td>\n",
       "      <td>le</td>\n",
       "      <td>AV</td>\n",
       "      <td>RDT</td>\n",
       "      <td>--</td>\n",
       "      <td>EH</td>\n",
       "      <td>2017-12-31T22:19:28.500000Z</td>\n",
       "      <td>NaN</td>\n",
       "      <td>1.08</td>\n",
       "      <td>NaN</td>\n",
       "      <td>D</td>\n",
       "    </tr>\n",
       "    <tr>\n",
       "      <th>882412</th>\n",
       "      <td>alk65066207</td>\n",
       "      <td>2017-12-31T22:19:25.390000Z</td>\n",
       "      <td>60.647667</td>\n",
       "      <td>-152.687500</td>\n",
       "      <td>5.73</td>\n",
       "      <td>0.23</td>\n",
       "      <td>ml</td>\n",
       "      <td>le</td>\n",
       "      <td>AV</td>\n",
       "      <td>RDWB</td>\n",
       "      <td>--</td>\n",
       "      <td>BH</td>\n",
       "      <td>2017-12-31T22:19:28.840000Z</td>\n",
       "      <td>2017-12-31T22:19:31.560000Z</td>\n",
       "      <td>1.08</td>\n",
       "      <td>1.08</td>\n",
       "      <td>D</td>\n",
       "    </tr>\n",
       "    <tr>\n",
       "      <th>882413</th>\n",
       "      <td>alk65066207</td>\n",
       "      <td>2017-12-31T22:19:25.390000Z</td>\n",
       "      <td>60.647667</td>\n",
       "      <td>-152.687500</td>\n",
       "      <td>5.73</td>\n",
       "      <td>0.23</td>\n",
       "      <td>ml</td>\n",
       "      <td>le</td>\n",
       "      <td>AV</td>\n",
       "      <td>RED</td>\n",
       "      <td>--</td>\n",
       "      <td>BH</td>\n",
       "      <td>2017-12-31T22:19:29.780000Z</td>\n",
       "      <td>2017-12-31T22:19:33.260000Z</td>\n",
       "      <td>0.81</td>\n",
       "      <td>1.08</td>\n",
       "      <td>D</td>\n",
       "    </tr>\n",
       "    <tr>\n",
       "      <th>882414</th>\n",
       "      <td>alk65066207</td>\n",
       "      <td>2017-12-31T22:19:25.390000Z</td>\n",
       "      <td>60.647667</td>\n",
       "      <td>-152.687500</td>\n",
       "      <td>5.73</td>\n",
       "      <td>0.23</td>\n",
       "      <td>ml</td>\n",
       "      <td>le</td>\n",
       "      <td>AV</td>\n",
       "      <td>RSO</td>\n",
       "      <td>--</td>\n",
       "      <td>EH</td>\n",
       "      <td>2017-12-31T22:19:29.270000Z</td>\n",
       "      <td>NaN</td>\n",
       "      <td>1.08</td>\n",
       "      <td>NaN</td>\n",
       "      <td>U</td>\n",
       "    </tr>\n",
       "  </tbody>\n",
       "</table>\n",
       "<p>882415 rows × 17 columns</p>\n",
       "</div>"
      ],
      "text/plain": [
       "          source_id           source_origin_time  source_latitude_deg   \n",
       "0       alk61831343  1989-10-12T13:14:35.200000Z            61.451833  \\\n",
       "1       alk61831343  1989-10-12T13:14:35.200000Z            61.451833   \n",
       "2       alk61831343  1989-10-12T13:14:35.200000Z            61.451833   \n",
       "3       alk61831343  1989-10-12T13:14:35.200000Z            61.451833   \n",
       "4       alk61831343  1989-10-12T13:14:35.200000Z            61.451833   \n",
       "...             ...                          ...                  ...   \n",
       "882410  alk65066207  2017-12-31T22:19:25.390000Z            60.647667   \n",
       "882411  alk65066207  2017-12-31T22:19:25.390000Z            60.647667   \n",
       "882412  alk65066207  2017-12-31T22:19:25.390000Z            60.647667   \n",
       "882413  alk65066207  2017-12-31T22:19:25.390000Z            60.647667   \n",
       "882414  alk65066207  2017-12-31T22:19:25.390000Z            60.647667   \n",
       "\n",
       "        source_longitude_deg  source_depth_km  source_magnitude   \n",
       "0                -151.236667            13.47              1.10  \\\n",
       "1                -151.236667            13.47              1.10   \n",
       "2                -151.236667            13.47              1.10   \n",
       "3                -151.236667            13.47              1.10   \n",
       "4                -151.236667            13.47              1.10   \n",
       "...                      ...              ...               ...   \n",
       "882410           -152.687500             5.73              0.23   \n",
       "882411           -152.687500             5.73              0.23   \n",
       "882412           -152.687500             5.73              0.23   \n",
       "882413           -152.687500             5.73              0.23   \n",
       "882414           -152.687500             5.73              0.23   \n",
       "\n",
       "       source_magnitude_type source_type station_network_code station_code   \n",
       "0                         ml          ot                   AV          BGL  \\\n",
       "1                         ml          ot                   AV          CGL   \n",
       "2                         ml          ot                   AV          CRP   \n",
       "3                         ml          ot                   AV          NCG   \n",
       "4                         ml          ot                   AV          SPU   \n",
       "...                      ...         ...                  ...          ...   \n",
       "882410                    ml          le                   AV         RDSO   \n",
       "882411                    ml          le                   AV          RDT   \n",
       "882412                    ml          le                   AV         RDWB   \n",
       "882413                    ml          le                   AV          RED   \n",
       "882414                    ml          le                   AV          RSO   \n",
       "\n",
       "       station_location_code trace_channel         trace_p_arrival_time   \n",
       "0                         --            EH  1989-10-12T13:14:46.390000Z  \\\n",
       "1                         --            EH  1989-10-12T13:14:43.170000Z   \n",
       "2                         --            EH  1989-10-12T13:14:44.760000Z   \n",
       "3                         --            EH  1989-10-12T13:14:44.000000Z   \n",
       "4                         --            EH  1989-10-12T13:14:44.510000Z   \n",
       "...                      ...           ...                          ...   \n",
       "882410                    --            BH  2017-12-31T22:19:29.240000Z   \n",
       "882411                    --            EH  2017-12-31T22:19:28.500000Z   \n",
       "882412                    --            BH  2017-12-31T22:19:28.840000Z   \n",
       "882413                    --            BH  2017-12-31T22:19:29.780000Z   \n",
       "882414                    --            EH  2017-12-31T22:19:29.270000Z   \n",
       "\n",
       "               trace_s_arrival_time  trace_p_max_weight  trace_s_max_weight   \n",
       "0       1989-10-12T13:14:54.990000Z                1.12                0.56  \\\n",
       "1                               NaN                1.12                 NaN   \n",
       "2                               NaN                1.12                 NaN   \n",
       "3                               NaN                1.12                 NaN   \n",
       "4       1989-10-12T13:14:51.810000Z                1.12                0.84   \n",
       "...                             ...                 ...                 ...   \n",
       "882410  2017-12-31T22:19:32.120000Z                1.08                1.08   \n",
       "882411                          NaN                1.08                 NaN   \n",
       "882412  2017-12-31T22:19:31.560000Z                1.08                1.08   \n",
       "882413  2017-12-31T22:19:33.260000Z                0.81                1.08   \n",
       "882414                          NaN                1.08                 NaN   \n",
       "\n",
       "       trace_p_first_motion  \n",
       "0                       NaN  \n",
       "1                         U  \n",
       "2                       NaN  \n",
       "3                         U  \n",
       "4                         U  \n",
       "...                     ...  \n",
       "882410                    U  \n",
       "882411                    D  \n",
       "882412                    D  \n",
       "882413                    D  \n",
       "882414                    U  \n",
       "\n",
       "[882415 rows x 17 columns]"
      ]
     },
     "execution_count": 255,
     "metadata": {},
     "output_type": "execute_result"
    }
   ],
   "source": [
    "ak_whole_catalog"
   ]
  },
  {
   "cell_type": "code",
   "execution_count": 247,
   "metadata": {},
   "outputs": [
    {
     "data": {
      "text/plain": [
       "24826"
      ]
     },
     "execution_count": 247,
     "metadata": {},
     "output_type": "execute_result"
    }
   ],
   "source": [
    "len(result)"
   ]
  },
  {
   "cell_type": "code",
   "execution_count": 252,
   "metadata": {},
   "outputs": [
    {
     "data": {
      "text/plain": [
       "RangeIndex(start=0, stop=24826, step=1)"
      ]
     },
     "execution_count": 252,
     "metadata": {},
     "output_type": "execute_result"
    }
   ],
   "source": [
    "result.index"
   ]
  },
  {
   "cell_type": "code",
   "execution_count": 249,
   "metadata": {},
   "outputs": [],
   "source": [
    "result.to_csv(\"test_noise_table.csv\",index=False)"
   ]
  },
  {
   "cell_type": "code",
   "execution_count": 194,
   "metadata": {},
   "outputs": [
    {
     "data": {
      "text/plain": [
       "(288,)"
      ]
     },
     "execution_count": 194,
     "metadata": {},
     "output_type": "execute_result"
    }
   ],
   "source": [
    "stations.shape"
   ]
  },
  {
   "cell_type": "code",
   "execution_count": 23,
   "metadata": {},
   "outputs": [
    {
     "data": {
      "text/plain": [
       "('AK', 'ATKA', '--', 'BH')"
      ]
     },
     "execution_count": 23,
     "metadata": {},
     "output_type": "execute_result"
    }
   ],
   "source": [
    "stations[0]"
   ]
  },
  {
   "cell_type": "code",
   "execution_count": 24,
   "metadata": {},
   "outputs": [],
   "source": [
    "starttimes=[]\n",
    "endtimes=[]"
   ]
  },
  {
   "cell_type": "code",
   "execution_count": 28,
   "metadata": {},
   "outputs": [
    {
     "data": {
      "text/plain": [
       "Index(['source_id', 'source_origin_time', 'source_latitude_deg',\n",
       "       'source_longitude_deg', 'source_depth_km', 'source_magnitude',\n",
       "       'source_magnitude_type', 'source_type', 'station_network_code',\n",
       "       'station_code', 'station_location_code', 'trace_channel',\n",
       "       'trace_p_arrival_time', 'trace_s_arrival_time', 'trace_p_max_weight',\n",
       "       'trace_s_max_weight', 'trace_p_first_motion'],\n",
       "      dtype='object')"
      ]
     },
     "execution_count": 28,
     "metadata": {},
     "output_type": "execute_result"
    }
   ],
   "source": [
    "ak_whole_catalog.columns"
   ]
  },
  {
   "cell_type": "code",
   "execution_count": 233,
   "metadata": {},
   "outputs": [],
   "source": [
    "sta=stations[0]\n",
    "# data_at_a_station=\n",
    "data_at_a_station=ak_whole_catalog[ak_whole_catalog.apply(lambda x: (x[\"station_network_code\"],x[\"station_code\"],x[\"station_location_code\"],x[\"trace_channel\"]),axis=1)==sta].copy()"
   ]
  },
  {
   "cell_type": "code",
   "execution_count": 234,
   "metadata": {},
   "outputs": [],
   "source": [
    "def get_event_end(x):\n",
    "    if pd.notna(x[\"trace_p_arrival_time\"]) and pd.notna(x[\"trace_s_arrival_time\"]):\n",
    "        if x[\"trace_p_arrival_time\"]<x[\"trace_s_arrival_time\"]:\n",
    "            return x[\"trace_p_arrival_time\"]+(x[\"trace_s_arrival_time\"]-x[\"trace_p_arrival_time\"])*5+60\n",
    "        else:\n",
    "            return x[\"source_origin_time\"]+600\n",
    "    elif pd.notna(x[\"trace_p_arrival_time\"]):\n",
    "        return x[\"trace_p_arrival_time\"]+600\n",
    "    else:\n",
    "        return x[\"source_origin_time\"]+600"
   ]
  },
  {
   "cell_type": "code",
   "execution_count": 235,
   "metadata": {},
   "outputs": [],
   "source": [
    "data_at_a_station.sort_values(by=[\"source_origin_time\"], ignore_index=True, inplace=True)\n",
    "data_at_a_station[\"source_origin_time\"]=data_at_a_station[\"source_origin_time\"].apply(lambda x: UTCDateTime(x) if pd.notna(x) else np.nan)\n",
    "data_at_a_station[\"trace_p_arrival_time\"]=data_at_a_station[\"trace_p_arrival_time\"].apply(lambda x: UTCDateTime(x) if pd.notna(x) else np.nan)\n",
    "data_at_a_station[\"trace_s_arrival_time\"]=data_at_a_station[\"trace_s_arrival_time\"].apply(lambda x: UTCDateTime(x) if pd.notna(x) else np.nan)\n",
    "\n",
    "data_at_a_station[\"event_end\"]=data_at_a_station.apply(get_event_end,axis=1)\n",
    "\n",
    "forward_event_time_diff = (data_at_a_station[\"source_origin_time\"].values[1:]-data_at_a_station[\"event_end\"].values[:-1]).astype(float)\n",
    "forward_event_time_diff=np.append(forward_event_time_diff,np.nan)\n",
    "data_at_a_station[\"forward_event_time_difference\"]=forward_event_time_diff\n",
    "data_at_a_station[\"next_event_origin_time\"]=np.append(data_at_a_station[\"source_origin_time\"][1:].values,np.nan)"
   ]
  },
  {
   "cell_type": "code",
   "execution_count": 236,
   "metadata": {},
   "outputs": [
    {
     "data": {
      "text/html": [
       "<div>\n",
       "<style scoped>\n",
       "    .dataframe tbody tr th:only-of-type {\n",
       "        vertical-align: middle;\n",
       "    }\n",
       "\n",
       "    .dataframe tbody tr th {\n",
       "        vertical-align: top;\n",
       "    }\n",
       "\n",
       "    .dataframe thead th {\n",
       "        text-align: right;\n",
       "    }\n",
       "</style>\n",
       "<table border=\"1\" class=\"dataframe\">\n",
       "  <thead>\n",
       "    <tr style=\"text-align: right;\">\n",
       "      <th></th>\n",
       "      <th>source_origin_time</th>\n",
       "      <th>trace_p_arrival_time</th>\n",
       "      <th>trace_s_arrival_time</th>\n",
       "      <th>event_end</th>\n",
       "      <th>next_event_origin_time</th>\n",
       "      <th>forward_event_time_difference</th>\n",
       "    </tr>\n",
       "  </thead>\n",
       "  <tbody>\n",
       "    <tr>\n",
       "      <th>0</th>\n",
       "      <td>1989-10-31T11:31:11.540000Z</td>\n",
       "      <td>1989-10-31T11:31:19.770000Z</td>\n",
       "      <td>NaN</td>\n",
       "      <td>1989-10-31T11:41:19.770000Z</td>\n",
       "      <td>1993-11-19T11:48:17.540000Z</td>\n",
       "      <td>1.278724e+08</td>\n",
       "    </tr>\n",
       "    <tr>\n",
       "      <th>1</th>\n",
       "      <td>1993-11-19T11:48:17.540000Z</td>\n",
       "      <td>1993-11-19T11:48:19.890000Z</td>\n",
       "      <td>1993-11-19T11:48:21.030000Z</td>\n",
       "      <td>1993-11-19T11:49:25.590000Z</td>\n",
       "      <td>1994-09-16T02:18:04.380000Z</td>\n",
       "      <td>2.597212e+07</td>\n",
       "    </tr>\n",
       "    <tr>\n",
       "      <th>2</th>\n",
       "      <td>1994-09-16T02:18:04.380000Z</td>\n",
       "      <td>1994-09-16T02:18:09.180000Z</td>\n",
       "      <td>1994-09-16T02:18:12.570000Z</td>\n",
       "      <td>1994-09-16T02:19:26.130000Z</td>\n",
       "      <td>1994-09-20T00:42:10.350000Z</td>\n",
       "      <td>3.397642e+05</td>\n",
       "    </tr>\n",
       "    <tr>\n",
       "      <th>3</th>\n",
       "      <td>1994-09-20T00:42:10.350000Z</td>\n",
       "      <td>1994-09-20T00:42:12.770000Z</td>\n",
       "      <td>NaN</td>\n",
       "      <td>1994-09-20T00:52:12.770000Z</td>\n",
       "      <td>1994-10-01T08:55:26.220000Z</td>\n",
       "      <td>9.793934e+05</td>\n",
       "    </tr>\n",
       "    <tr>\n",
       "      <th>4</th>\n",
       "      <td>1994-10-01T08:55:26.220000Z</td>\n",
       "      <td>1994-10-01T08:55:27.820000Z</td>\n",
       "      <td>1994-10-01T08:55:28.950000Z</td>\n",
       "      <td>1994-10-01T08:56:33.470000Z</td>\n",
       "      <td>1994-10-17T03:39:35.750000Z</td>\n",
       "      <td>1.363382e+06</td>\n",
       "    </tr>\n",
       "    <tr>\n",
       "      <th>...</th>\n",
       "      <td>...</td>\n",
       "      <td>...</td>\n",
       "      <td>...</td>\n",
       "      <td>...</td>\n",
       "      <td>...</td>\n",
       "      <td>...</td>\n",
       "    </tr>\n",
       "    <tr>\n",
       "      <th>4401</th>\n",
       "      <td>2016-01-01T00:37:54.540000Z</td>\n",
       "      <td>2016-01-01T00:38:21.240000Z</td>\n",
       "      <td>NaN</td>\n",
       "      <td>2016-01-01T00:48:21.240000Z</td>\n",
       "      <td>2016-01-16T06:10:48.250000Z</td>\n",
       "      <td>1.315347e+06</td>\n",
       "    </tr>\n",
       "    <tr>\n",
       "      <th>4402</th>\n",
       "      <td>2016-01-16T06:10:48.250000Z</td>\n",
       "      <td>2016-01-16T06:10:49.280000Z</td>\n",
       "      <td>2016-01-16T06:10:50.830000Z</td>\n",
       "      <td>2016-01-16T06:11:57.030000Z</td>\n",
       "      <td>2016-09-27T14:08:27.480000Z</td>\n",
       "      <td>2.206059e+07</td>\n",
       "    </tr>\n",
       "    <tr>\n",
       "      <th>4403</th>\n",
       "      <td>2016-09-27T14:08:27.480000Z</td>\n",
       "      <td>2016-09-27T14:08:36.390000Z</td>\n",
       "      <td>NaN</td>\n",
       "      <td>2016-09-27T14:18:36.390000Z</td>\n",
       "      <td>2016-12-07T22:06:12.890000Z</td>\n",
       "      <td>6.162456e+06</td>\n",
       "    </tr>\n",
       "    <tr>\n",
       "      <th>4404</th>\n",
       "      <td>2016-12-07T22:06:12.890000Z</td>\n",
       "      <td>2016-12-07T22:06:14.370000Z</td>\n",
       "      <td>2016-12-07T22:06:15.660000Z</td>\n",
       "      <td>2016-12-07T22:07:20.820000Z</td>\n",
       "      <td>2017-01-12T14:22:06.560000Z</td>\n",
       "      <td>3.082486e+06</td>\n",
       "    </tr>\n",
       "    <tr>\n",
       "      <th>4405</th>\n",
       "      <td>2017-01-12T14:22:06.560000Z</td>\n",
       "      <td>2017-01-12T14:22:17.140000Z</td>\n",
       "      <td>NaN</td>\n",
       "      <td>2017-01-12T14:32:17.140000Z</td>\n",
       "      <td>NaN</td>\n",
       "      <td>NaN</td>\n",
       "    </tr>\n",
       "  </tbody>\n",
       "</table>\n",
       "<p>4406 rows × 6 columns</p>\n",
       "</div>"
      ],
      "text/plain": [
       "               source_origin_time         trace_p_arrival_time   \n",
       "0     1989-10-31T11:31:11.540000Z  1989-10-31T11:31:19.770000Z  \\\n",
       "1     1993-11-19T11:48:17.540000Z  1993-11-19T11:48:19.890000Z   \n",
       "2     1994-09-16T02:18:04.380000Z  1994-09-16T02:18:09.180000Z   \n",
       "3     1994-09-20T00:42:10.350000Z  1994-09-20T00:42:12.770000Z   \n",
       "4     1994-10-01T08:55:26.220000Z  1994-10-01T08:55:27.820000Z   \n",
       "...                           ...                          ...   \n",
       "4401  2016-01-01T00:37:54.540000Z  2016-01-01T00:38:21.240000Z   \n",
       "4402  2016-01-16T06:10:48.250000Z  2016-01-16T06:10:49.280000Z   \n",
       "4403  2016-09-27T14:08:27.480000Z  2016-09-27T14:08:36.390000Z   \n",
       "4404  2016-12-07T22:06:12.890000Z  2016-12-07T22:06:14.370000Z   \n",
       "4405  2017-01-12T14:22:06.560000Z  2017-01-12T14:22:17.140000Z   \n",
       "\n",
       "             trace_s_arrival_time                    event_end   \n",
       "0                             NaN  1989-10-31T11:41:19.770000Z  \\\n",
       "1     1993-11-19T11:48:21.030000Z  1993-11-19T11:49:25.590000Z   \n",
       "2     1994-09-16T02:18:12.570000Z  1994-09-16T02:19:26.130000Z   \n",
       "3                             NaN  1994-09-20T00:52:12.770000Z   \n",
       "4     1994-10-01T08:55:28.950000Z  1994-10-01T08:56:33.470000Z   \n",
       "...                           ...                          ...   \n",
       "4401                          NaN  2016-01-01T00:48:21.240000Z   \n",
       "4402  2016-01-16T06:10:50.830000Z  2016-01-16T06:11:57.030000Z   \n",
       "4403                          NaN  2016-09-27T14:18:36.390000Z   \n",
       "4404  2016-12-07T22:06:15.660000Z  2016-12-07T22:07:20.820000Z   \n",
       "4405                          NaN  2017-01-12T14:32:17.140000Z   \n",
       "\n",
       "           next_event_origin_time  forward_event_time_difference  \n",
       "0     1993-11-19T11:48:17.540000Z                   1.278724e+08  \n",
       "1     1994-09-16T02:18:04.380000Z                   2.597212e+07  \n",
       "2     1994-09-20T00:42:10.350000Z                   3.397642e+05  \n",
       "3     1994-10-01T08:55:26.220000Z                   9.793934e+05  \n",
       "4     1994-10-17T03:39:35.750000Z                   1.363382e+06  \n",
       "...                           ...                            ...  \n",
       "4401  2016-01-16T06:10:48.250000Z                   1.315347e+06  \n",
       "4402  2016-09-27T14:08:27.480000Z                   2.206059e+07  \n",
       "4403  2016-12-07T22:06:12.890000Z                   6.162456e+06  \n",
       "4404  2017-01-12T14:22:06.560000Z                   3.082486e+06  \n",
       "4405                          NaN                            NaN  \n",
       "\n",
       "[4406 rows x 6 columns]"
      ]
     },
     "execution_count": 236,
     "metadata": {},
     "output_type": "execute_result"
    }
   ],
   "source": [
    "data_at_a_station[[\"source_origin_time\",\"trace_p_arrival_time\",\"trace_s_arrival_time\",\"event_end\",\"next_event_origin_time\",\"forward_event_time_difference\"]]"
   ]
  },
  {
   "cell_type": "code",
   "execution_count": 241,
   "metadata": {},
   "outputs": [
    {
     "data": {
      "text/html": [
       "<div>\n",
       "<style scoped>\n",
       "    .dataframe tbody tr th:only-of-type {\n",
       "        vertical-align: middle;\n",
       "    }\n",
       "\n",
       "    .dataframe tbody tr th {\n",
       "        vertical-align: top;\n",
       "    }\n",
       "\n",
       "    .dataframe thead th {\n",
       "        text-align: right;\n",
       "    }\n",
       "</style>\n",
       "<table border=\"1\" class=\"dataframe\">\n",
       "  <thead>\n",
       "    <tr style=\"text-align: right;\">\n",
       "      <th></th>\n",
       "      <th>index</th>\n",
       "      <th>source_id</th>\n",
       "      <th>source_origin_time</th>\n",
       "      <th>source_latitude_deg</th>\n",
       "      <th>source_longitude_deg</th>\n",
       "      <th>source_depth_km</th>\n",
       "      <th>source_magnitude</th>\n",
       "      <th>source_magnitude_type</th>\n",
       "      <th>source_type</th>\n",
       "      <th>station_network_code</th>\n",
       "      <th>...</th>\n",
       "      <th>station_location_code</th>\n",
       "      <th>trace_channel</th>\n",
       "      <th>trace_p_arrival_time</th>\n",
       "      <th>trace_s_arrival_time</th>\n",
       "      <th>trace_p_max_weight</th>\n",
       "      <th>trace_s_max_weight</th>\n",
       "      <th>trace_p_first_motion</th>\n",
       "      <th>event_end</th>\n",
       "      <th>forward_event_time_difference</th>\n",
       "      <th>next_event_origin_time</th>\n",
       "    </tr>\n",
       "  </thead>\n",
       "  <tbody>\n",
       "    <tr>\n",
       "      <th>0</th>\n",
       "      <td>0</td>\n",
       "      <td>alk60812643</td>\n",
       "      <td>1989-10-31T11:31:11.540000Z</td>\n",
       "      <td>60.510000</td>\n",
       "      <td>-152.650000</td>\n",
       "      <td>9.14</td>\n",
       "      <td>0.40</td>\n",
       "      <td>ml</td>\n",
       "      <td>le</td>\n",
       "      <td>AV</td>\n",
       "      <td>...</td>\n",
       "      <td>--</td>\n",
       "      <td>EH</td>\n",
       "      <td>1989-10-31T11:31:19.770000Z</td>\n",
       "      <td>NaN</td>\n",
       "      <td>0.81</td>\n",
       "      <td>NaN</td>\n",
       "      <td>NaN</td>\n",
       "      <td>1989-10-31T11:41:19.770000Z</td>\n",
       "      <td>1.278724e+08</td>\n",
       "      <td>1993-11-19T11:48:17.540000Z</td>\n",
       "    </tr>\n",
       "    <tr>\n",
       "      <th>1</th>\n",
       "      <td>1</td>\n",
       "      <td>alk61819983</td>\n",
       "      <td>1993-11-19T11:48:17.540000Z</td>\n",
       "      <td>59.993500</td>\n",
       "      <td>-153.054833</td>\n",
       "      <td>3.22</td>\n",
       "      <td>0.70</td>\n",
       "      <td>ml</td>\n",
       "      <td>le</td>\n",
       "      <td>AV</td>\n",
       "      <td>...</td>\n",
       "      <td>--</td>\n",
       "      <td>EH</td>\n",
       "      <td>1993-11-19T11:48:19.890000Z</td>\n",
       "      <td>1993-11-19T11:48:21.030000Z</td>\n",
       "      <td>1.20</td>\n",
       "      <td>0.90</td>\n",
       "      <td>D</td>\n",
       "      <td>1993-11-19T11:49:25.590000Z</td>\n",
       "      <td>2.597212e+07</td>\n",
       "      <td>1994-09-16T02:18:04.380000Z</td>\n",
       "    </tr>\n",
       "    <tr>\n",
       "      <th>2</th>\n",
       "      <td>2</td>\n",
       "      <td>alk61825303</td>\n",
       "      <td>1994-09-16T02:18:04.380000Z</td>\n",
       "      <td>60.330667</td>\n",
       "      <td>-152.949000</td>\n",
       "      <td>1.80</td>\n",
       "      <td>1.30</td>\n",
       "      <td>ml</td>\n",
       "      <td>le</td>\n",
       "      <td>AV</td>\n",
       "      <td>...</td>\n",
       "      <td>--</td>\n",
       "      <td>EH</td>\n",
       "      <td>1994-09-16T02:18:09.180000Z</td>\n",
       "      <td>1994-09-16T02:18:12.570000Z</td>\n",
       "      <td>1.09</td>\n",
       "      <td>0.81</td>\n",
       "      <td>D</td>\n",
       "      <td>1994-09-16T02:19:26.130000Z</td>\n",
       "      <td>3.397642e+05</td>\n",
       "      <td>1994-09-20T00:42:10.350000Z</td>\n",
       "    </tr>\n",
       "    <tr>\n",
       "      <th>3</th>\n",
       "      <td>3</td>\n",
       "      <td>alk61825398</td>\n",
       "      <td>1994-09-20T00:42:10.350000Z</td>\n",
       "      <td>59.984333</td>\n",
       "      <td>-153.096000</td>\n",
       "      <td>2.44</td>\n",
       "      <td>0.90</td>\n",
       "      <td>ml</td>\n",
       "      <td>le</td>\n",
       "      <td>AV</td>\n",
       "      <td>...</td>\n",
       "      <td>--</td>\n",
       "      <td>EH</td>\n",
       "      <td>1994-09-20T00:42:12.770000Z</td>\n",
       "      <td>NaN</td>\n",
       "      <td>1.04</td>\n",
       "      <td>NaN</td>\n",
       "      <td>D</td>\n",
       "      <td>1994-09-20T00:52:12.770000Z</td>\n",
       "      <td>9.793934e+05</td>\n",
       "      <td>1994-10-01T08:55:26.220000Z</td>\n",
       "    </tr>\n",
       "    <tr>\n",
       "      <th>4</th>\n",
       "      <td>4</td>\n",
       "      <td>alk61825683</td>\n",
       "      <td>1994-10-01T08:55:26.220000Z</td>\n",
       "      <td>60.036333</td>\n",
       "      <td>-153.064333</td>\n",
       "      <td>0.00</td>\n",
       "      <td>0.00</td>\n",
       "      <td>ml</td>\n",
       "      <td>le</td>\n",
       "      <td>AV</td>\n",
       "      <td>...</td>\n",
       "      <td>--</td>\n",
       "      <td>EH</td>\n",
       "      <td>1994-10-01T08:55:27.820000Z</td>\n",
       "      <td>1994-10-01T08:55:28.950000Z</td>\n",
       "      <td>1.04</td>\n",
       "      <td>0.78</td>\n",
       "      <td>NaN</td>\n",
       "      <td>1994-10-01T08:56:33.470000Z</td>\n",
       "      <td>1.363382e+06</td>\n",
       "      <td>1994-10-17T03:39:35.750000Z</td>\n",
       "    </tr>\n",
       "    <tr>\n",
       "      <th>...</th>\n",
       "      <td>...</td>\n",
       "      <td>...</td>\n",
       "      <td>...</td>\n",
       "      <td>...</td>\n",
       "      <td>...</td>\n",
       "      <td>...</td>\n",
       "      <td>...</td>\n",
       "      <td>...</td>\n",
       "      <td>...</td>\n",
       "      <td>...</td>\n",
       "      <td>...</td>\n",
       "      <td>...</td>\n",
       "      <td>...</td>\n",
       "      <td>...</td>\n",
       "      <td>...</td>\n",
       "      <td>...</td>\n",
       "      <td>...</td>\n",
       "      <td>...</td>\n",
       "      <td>...</td>\n",
       "      <td>...</td>\n",
       "      <td>...</td>\n",
       "    </tr>\n",
       "    <tr>\n",
       "      <th>946</th>\n",
       "      <td>4400</td>\n",
       "      <td>alk61135991</td>\n",
       "      <td>2015-12-06T05:48:32.170000Z</td>\n",
       "      <td>60.131333</td>\n",
       "      <td>-152.703500</td>\n",
       "      <td>-1.62</td>\n",
       "      <td>0.99</td>\n",
       "      <td>ml</td>\n",
       "      <td>le</td>\n",
       "      <td>AV</td>\n",
       "      <td>...</td>\n",
       "      <td>--</td>\n",
       "      <td>EH</td>\n",
       "      <td>2015-12-06T05:48:35.070000Z</td>\n",
       "      <td>2015-12-06T05:48:37.820000Z</td>\n",
       "      <td>1.11</td>\n",
       "      <td>0.83</td>\n",
       "      <td>U</td>\n",
       "      <td>2015-12-06T05:49:48.820000Z</td>\n",
       "      <td>2.227686e+06</td>\n",
       "      <td>2016-01-01T00:37:54.540000Z</td>\n",
       "    </tr>\n",
       "    <tr>\n",
       "      <th>947</th>\n",
       "      <td>4401</td>\n",
       "      <td>alk61148721</td>\n",
       "      <td>2016-01-01T00:37:54.540000Z</td>\n",
       "      <td>61.532333</td>\n",
       "      <td>-152.363167</td>\n",
       "      <td>5.32</td>\n",
       "      <td>3.41</td>\n",
       "      <td>ml</td>\n",
       "      <td>le</td>\n",
       "      <td>AV</td>\n",
       "      <td>...</td>\n",
       "      <td>--</td>\n",
       "      <td>EH</td>\n",
       "      <td>2016-01-01T00:38:21.240000Z</td>\n",
       "      <td>NaN</td>\n",
       "      <td>0.46</td>\n",
       "      <td>NaN</td>\n",
       "      <td>U</td>\n",
       "      <td>2016-01-01T00:48:21.240000Z</td>\n",
       "      <td>1.315347e+06</td>\n",
       "      <td>2016-01-16T06:10:48.250000Z</td>\n",
       "    </tr>\n",
       "    <tr>\n",
       "      <th>948</th>\n",
       "      <td>4402</td>\n",
       "      <td>alk61152531</td>\n",
       "      <td>2016-01-16T06:10:48.250000Z</td>\n",
       "      <td>60.084000</td>\n",
       "      <td>-153.068333</td>\n",
       "      <td>-2.87</td>\n",
       "      <td>2.09</td>\n",
       "      <td>ml</td>\n",
       "      <td>le</td>\n",
       "      <td>AV</td>\n",
       "      <td>...</td>\n",
       "      <td>--</td>\n",
       "      <td>EH</td>\n",
       "      <td>2016-01-16T06:10:49.280000Z</td>\n",
       "      <td>2016-01-16T06:10:50.830000Z</td>\n",
       "      <td>1.11</td>\n",
       "      <td>0.83</td>\n",
       "      <td>U</td>\n",
       "      <td>2016-01-16T06:11:57.030000Z</td>\n",
       "      <td>2.206059e+07</td>\n",
       "      <td>2016-09-27T14:08:27.480000Z</td>\n",
       "    </tr>\n",
       "    <tr>\n",
       "      <th>949</th>\n",
       "      <td>4403</td>\n",
       "      <td>alk61318841</td>\n",
       "      <td>2016-09-27T14:08:27.480000Z</td>\n",
       "      <td>60.541833</td>\n",
       "      <td>-152.666333</td>\n",
       "      <td>6.13</td>\n",
       "      <td>2.34</td>\n",
       "      <td>ml</td>\n",
       "      <td>le</td>\n",
       "      <td>AV</td>\n",
       "      <td>...</td>\n",
       "      <td>--</td>\n",
       "      <td>EH</td>\n",
       "      <td>2016-09-27T14:08:36.390000Z</td>\n",
       "      <td>NaN</td>\n",
       "      <td>0.94</td>\n",
       "      <td>NaN</td>\n",
       "      <td>U</td>\n",
       "      <td>2016-09-27T14:18:36.390000Z</td>\n",
       "      <td>6.162456e+06</td>\n",
       "      <td>2016-12-07T22:06:12.890000Z</td>\n",
       "    </tr>\n",
       "    <tr>\n",
       "      <th>950</th>\n",
       "      <td>4404</td>\n",
       "      <td>alk70731099</td>\n",
       "      <td>2016-12-07T22:06:12.890000Z</td>\n",
       "      <td>60.063000</td>\n",
       "      <td>-153.086500</td>\n",
       "      <td>-2.61</td>\n",
       "      <td>0.59</td>\n",
       "      <td>ml</td>\n",
       "      <td>le</td>\n",
       "      <td>AV</td>\n",
       "      <td>...</td>\n",
       "      <td>--</td>\n",
       "      <td>EH</td>\n",
       "      <td>2016-12-07T22:06:14.370000Z</td>\n",
       "      <td>2016-12-07T22:06:15.660000Z</td>\n",
       "      <td>1.15</td>\n",
       "      <td>1.15</td>\n",
       "      <td>U</td>\n",
       "      <td>2016-12-07T22:07:20.820000Z</td>\n",
       "      <td>3.082486e+06</td>\n",
       "      <td>2017-01-12T14:22:06.560000Z</td>\n",
       "    </tr>\n",
       "  </tbody>\n",
       "</table>\n",
       "<p>951 rows × 21 columns</p>\n",
       "</div>"
      ],
      "text/plain": [
       "     index    source_id           source_origin_time  source_latitude_deg   \n",
       "0        0  alk60812643  1989-10-31T11:31:11.540000Z            60.510000  \\\n",
       "1        1  alk61819983  1993-11-19T11:48:17.540000Z            59.993500   \n",
       "2        2  alk61825303  1994-09-16T02:18:04.380000Z            60.330667   \n",
       "3        3  alk61825398  1994-09-20T00:42:10.350000Z            59.984333   \n",
       "4        4  alk61825683  1994-10-01T08:55:26.220000Z            60.036333   \n",
       "..     ...          ...                          ...                  ...   \n",
       "946   4400  alk61135991  2015-12-06T05:48:32.170000Z            60.131333   \n",
       "947   4401  alk61148721  2016-01-01T00:37:54.540000Z            61.532333   \n",
       "948   4402  alk61152531  2016-01-16T06:10:48.250000Z            60.084000   \n",
       "949   4403  alk61318841  2016-09-27T14:08:27.480000Z            60.541833   \n",
       "950   4404  alk70731099  2016-12-07T22:06:12.890000Z            60.063000   \n",
       "\n",
       "     source_longitude_deg  source_depth_km  source_magnitude   \n",
       "0             -152.650000             9.14              0.40  \\\n",
       "1             -153.054833             3.22              0.70   \n",
       "2             -152.949000             1.80              1.30   \n",
       "3             -153.096000             2.44              0.90   \n",
       "4             -153.064333             0.00              0.00   \n",
       "..                    ...              ...               ...   \n",
       "946           -152.703500            -1.62              0.99   \n",
       "947           -152.363167             5.32              3.41   \n",
       "948           -153.068333            -2.87              2.09   \n",
       "949           -152.666333             6.13              2.34   \n",
       "950           -153.086500            -2.61              0.59   \n",
       "\n",
       "    source_magnitude_type source_type station_network_code  ...   \n",
       "0                      ml          le                   AV  ...  \\\n",
       "1                      ml          le                   AV  ...   \n",
       "2                      ml          le                   AV  ...   \n",
       "3                      ml          le                   AV  ...   \n",
       "4                      ml          le                   AV  ...   \n",
       "..                    ...         ...                  ...  ...   \n",
       "946                    ml          le                   AV  ...   \n",
       "947                    ml          le                   AV  ...   \n",
       "948                    ml          le                   AV  ...   \n",
       "949                    ml          le                   AV  ...   \n",
       "950                    ml          le                   AV  ...   \n",
       "\n",
       "    station_location_code trace_channel         trace_p_arrival_time   \n",
       "0                      --            EH  1989-10-31T11:31:19.770000Z  \\\n",
       "1                      --            EH  1993-11-19T11:48:19.890000Z   \n",
       "2                      --            EH  1994-09-16T02:18:09.180000Z   \n",
       "3                      --            EH  1994-09-20T00:42:12.770000Z   \n",
       "4                      --            EH  1994-10-01T08:55:27.820000Z   \n",
       "..                    ...           ...                          ...   \n",
       "946                    --            EH  2015-12-06T05:48:35.070000Z   \n",
       "947                    --            EH  2016-01-01T00:38:21.240000Z   \n",
       "948                    --            EH  2016-01-16T06:10:49.280000Z   \n",
       "949                    --            EH  2016-09-27T14:08:36.390000Z   \n",
       "950                    --            EH  2016-12-07T22:06:14.370000Z   \n",
       "\n",
       "            trace_s_arrival_time trace_p_max_weight  trace_s_max_weight   \n",
       "0                            NaN               0.81                 NaN  \\\n",
       "1    1993-11-19T11:48:21.030000Z               1.20                0.90   \n",
       "2    1994-09-16T02:18:12.570000Z               1.09                0.81   \n",
       "3                            NaN               1.04                 NaN   \n",
       "4    1994-10-01T08:55:28.950000Z               1.04                0.78   \n",
       "..                           ...                ...                 ...   \n",
       "946  2015-12-06T05:48:37.820000Z               1.11                0.83   \n",
       "947                          NaN               0.46                 NaN   \n",
       "948  2016-01-16T06:10:50.830000Z               1.11                0.83   \n",
       "949                          NaN               0.94                 NaN   \n",
       "950  2016-12-07T22:06:15.660000Z               1.15                1.15   \n",
       "\n",
       "     trace_p_first_motion                    event_end   \n",
       "0                     NaN  1989-10-31T11:41:19.770000Z  \\\n",
       "1                       D  1993-11-19T11:49:25.590000Z   \n",
       "2                       D  1994-09-16T02:19:26.130000Z   \n",
       "3                       D  1994-09-20T00:52:12.770000Z   \n",
       "4                     NaN  1994-10-01T08:56:33.470000Z   \n",
       "..                    ...                          ...   \n",
       "946                     U  2015-12-06T05:49:48.820000Z   \n",
       "947                     U  2016-01-01T00:48:21.240000Z   \n",
       "948                     U  2016-01-16T06:11:57.030000Z   \n",
       "949                     U  2016-09-27T14:18:36.390000Z   \n",
       "950                     U  2016-12-07T22:07:20.820000Z   \n",
       "\n",
       "    forward_event_time_difference       next_event_origin_time  \n",
       "0                    1.278724e+08  1993-11-19T11:48:17.540000Z  \n",
       "1                    2.597212e+07  1994-09-16T02:18:04.380000Z  \n",
       "2                    3.397642e+05  1994-09-20T00:42:10.350000Z  \n",
       "3                    9.793934e+05  1994-10-01T08:55:26.220000Z  \n",
       "4                    1.363382e+06  1994-10-17T03:39:35.750000Z  \n",
       "..                            ...                          ...  \n",
       "946                  2.227686e+06  2016-01-01T00:37:54.540000Z  \n",
       "947                  1.315347e+06  2016-01-16T06:10:48.250000Z  \n",
       "948                  2.206059e+07  2016-09-27T14:08:27.480000Z  \n",
       "949                  6.162456e+06  2016-12-07T22:06:12.890000Z  \n",
       "950                  3.082486e+06  2017-01-12T14:22:06.560000Z  \n",
       "\n",
       "[951 rows x 21 columns]"
      ]
     },
     "execution_count": 241,
     "metadata": {},
     "output_type": "execute_result"
    }
   ],
   "source": [
    "data_at_a_station"
   ]
  },
  {
   "cell_type": "code",
   "execution_count": 237,
   "metadata": {},
   "outputs": [],
   "source": [
    "data_at_a_station[\"source_origin_time\"]=data_at_a_station[\"source_origin_time\"].apply(lambda x: UTCDateTime(x) if pd.notna(x) else np.nan)\n",
    "data_at_a_station[\"trace_p_arrival_time\"]=data_at_a_station[\"trace_p_arrival_time\"].apply(lambda x: UTCDateTime(x) if pd.notna(x) else np.nan)\n",
    "data_at_a_station[\"trace_s_arrival_time\"]=data_at_a_station[\"trace_s_arrival_time\"].apply(lambda x: UTCDateTime(x) if pd.notna(x) else np.nan)\n",
    "data_at_a_station.sort_values(by=[\"source_origin_time\"], ignore_index=True, inplace=True)\n",
    "data_at_a_station[\"event_end\"]=data_at_a_station.apply(get_event_end,axis=1)\n",
    "\n",
    "forward_event_time_diff = (data_at_a_station[\"source_origin_time\"].values[1:]-data_at_a_station[\"event_end\"].values[:-1]).astype(float)\n",
    "forward_event_time_diff=np.append(forward_event_time_diff,np.nan)\n",
    "data_at_a_station[\"forward_event_time_difference\"]=forward_event_time_diff\n",
    "data_at_a_station[\"next_event_origin_time\"]=np.append(data_at_a_station[\"source_origin_time\"][1:].values,np.nan)"
   ]
  },
  {
   "cell_type": "code",
   "execution_count": 238,
   "metadata": {},
   "outputs": [
    {
     "data": {
      "text/html": [
       "<div>\n",
       "<style scoped>\n",
       "    .dataframe tbody tr th:only-of-type {\n",
       "        vertical-align: middle;\n",
       "    }\n",
       "\n",
       "    .dataframe tbody tr th {\n",
       "        vertical-align: top;\n",
       "    }\n",
       "\n",
       "    .dataframe thead th {\n",
       "        text-align: right;\n",
       "    }\n",
       "</style>\n",
       "<table border=\"1\" class=\"dataframe\">\n",
       "  <thead>\n",
       "    <tr style=\"text-align: right;\">\n",
       "      <th></th>\n",
       "      <th>source_origin_time</th>\n",
       "      <th>trace_p_arrival_time</th>\n",
       "      <th>trace_s_arrival_time</th>\n",
       "      <th>event_end</th>\n",
       "      <th>next_event_origin_time</th>\n",
       "      <th>forward_event_time_difference</th>\n",
       "    </tr>\n",
       "  </thead>\n",
       "  <tbody>\n",
       "    <tr>\n",
       "      <th>0</th>\n",
       "      <td>1989-10-31T11:31:11.540000Z</td>\n",
       "      <td>1989-10-31T11:31:19.770000Z</td>\n",
       "      <td>NaN</td>\n",
       "      <td>1989-10-31T11:41:19.770000Z</td>\n",
       "      <td>1993-11-19T11:48:17.540000Z</td>\n",
       "      <td>1.278724e+08</td>\n",
       "    </tr>\n",
       "    <tr>\n",
       "      <th>1</th>\n",
       "      <td>1993-11-19T11:48:17.540000Z</td>\n",
       "      <td>1993-11-19T11:48:19.890000Z</td>\n",
       "      <td>1993-11-19T11:48:21.030000Z</td>\n",
       "      <td>1993-11-19T11:49:25.590000Z</td>\n",
       "      <td>1994-09-16T02:18:04.380000Z</td>\n",
       "      <td>2.597212e+07</td>\n",
       "    </tr>\n",
       "    <tr>\n",
       "      <th>2</th>\n",
       "      <td>1994-09-16T02:18:04.380000Z</td>\n",
       "      <td>1994-09-16T02:18:09.180000Z</td>\n",
       "      <td>1994-09-16T02:18:12.570000Z</td>\n",
       "      <td>1994-09-16T02:19:26.130000Z</td>\n",
       "      <td>1994-09-20T00:42:10.350000Z</td>\n",
       "      <td>3.397642e+05</td>\n",
       "    </tr>\n",
       "    <tr>\n",
       "      <th>3</th>\n",
       "      <td>1994-09-20T00:42:10.350000Z</td>\n",
       "      <td>1994-09-20T00:42:12.770000Z</td>\n",
       "      <td>NaN</td>\n",
       "      <td>1994-09-20T00:52:12.770000Z</td>\n",
       "      <td>1994-10-01T08:55:26.220000Z</td>\n",
       "      <td>9.793934e+05</td>\n",
       "    </tr>\n",
       "    <tr>\n",
       "      <th>4</th>\n",
       "      <td>1994-10-01T08:55:26.220000Z</td>\n",
       "      <td>1994-10-01T08:55:27.820000Z</td>\n",
       "      <td>1994-10-01T08:55:28.950000Z</td>\n",
       "      <td>1994-10-01T08:56:33.470000Z</td>\n",
       "      <td>1994-10-17T03:39:35.750000Z</td>\n",
       "      <td>1.363382e+06</td>\n",
       "    </tr>\n",
       "    <tr>\n",
       "      <th>...</th>\n",
       "      <td>...</td>\n",
       "      <td>...</td>\n",
       "      <td>...</td>\n",
       "      <td>...</td>\n",
       "      <td>...</td>\n",
       "      <td>...</td>\n",
       "    </tr>\n",
       "    <tr>\n",
       "      <th>4401</th>\n",
       "      <td>2016-01-01T00:37:54.540000Z</td>\n",
       "      <td>2016-01-01T00:38:21.240000Z</td>\n",
       "      <td>NaN</td>\n",
       "      <td>2016-01-01T00:48:21.240000Z</td>\n",
       "      <td>2016-01-16T06:10:48.250000Z</td>\n",
       "      <td>1.315347e+06</td>\n",
       "    </tr>\n",
       "    <tr>\n",
       "      <th>4402</th>\n",
       "      <td>2016-01-16T06:10:48.250000Z</td>\n",
       "      <td>2016-01-16T06:10:49.280000Z</td>\n",
       "      <td>2016-01-16T06:10:50.830000Z</td>\n",
       "      <td>2016-01-16T06:11:57.030000Z</td>\n",
       "      <td>2016-09-27T14:08:27.480000Z</td>\n",
       "      <td>2.206059e+07</td>\n",
       "    </tr>\n",
       "    <tr>\n",
       "      <th>4403</th>\n",
       "      <td>2016-09-27T14:08:27.480000Z</td>\n",
       "      <td>2016-09-27T14:08:36.390000Z</td>\n",
       "      <td>NaN</td>\n",
       "      <td>2016-09-27T14:18:36.390000Z</td>\n",
       "      <td>2016-12-07T22:06:12.890000Z</td>\n",
       "      <td>6.162456e+06</td>\n",
       "    </tr>\n",
       "    <tr>\n",
       "      <th>4404</th>\n",
       "      <td>2016-12-07T22:06:12.890000Z</td>\n",
       "      <td>2016-12-07T22:06:14.370000Z</td>\n",
       "      <td>2016-12-07T22:06:15.660000Z</td>\n",
       "      <td>2016-12-07T22:07:20.820000Z</td>\n",
       "      <td>2017-01-12T14:22:06.560000Z</td>\n",
       "      <td>3.082486e+06</td>\n",
       "    </tr>\n",
       "    <tr>\n",
       "      <th>4405</th>\n",
       "      <td>2017-01-12T14:22:06.560000Z</td>\n",
       "      <td>2017-01-12T14:22:17.140000Z</td>\n",
       "      <td>NaN</td>\n",
       "      <td>2017-01-12T14:32:17.140000Z</td>\n",
       "      <td>NaN</td>\n",
       "      <td>NaN</td>\n",
       "    </tr>\n",
       "  </tbody>\n",
       "</table>\n",
       "<p>4406 rows × 6 columns</p>\n",
       "</div>"
      ],
      "text/plain": [
       "               source_origin_time         trace_p_arrival_time   \n",
       "0     1989-10-31T11:31:11.540000Z  1989-10-31T11:31:19.770000Z  \\\n",
       "1     1993-11-19T11:48:17.540000Z  1993-11-19T11:48:19.890000Z   \n",
       "2     1994-09-16T02:18:04.380000Z  1994-09-16T02:18:09.180000Z   \n",
       "3     1994-09-20T00:42:10.350000Z  1994-09-20T00:42:12.770000Z   \n",
       "4     1994-10-01T08:55:26.220000Z  1994-10-01T08:55:27.820000Z   \n",
       "...                           ...                          ...   \n",
       "4401  2016-01-01T00:37:54.540000Z  2016-01-01T00:38:21.240000Z   \n",
       "4402  2016-01-16T06:10:48.250000Z  2016-01-16T06:10:49.280000Z   \n",
       "4403  2016-09-27T14:08:27.480000Z  2016-09-27T14:08:36.390000Z   \n",
       "4404  2016-12-07T22:06:12.890000Z  2016-12-07T22:06:14.370000Z   \n",
       "4405  2017-01-12T14:22:06.560000Z  2017-01-12T14:22:17.140000Z   \n",
       "\n",
       "             trace_s_arrival_time                    event_end   \n",
       "0                             NaN  1989-10-31T11:41:19.770000Z  \\\n",
       "1     1993-11-19T11:48:21.030000Z  1993-11-19T11:49:25.590000Z   \n",
       "2     1994-09-16T02:18:12.570000Z  1994-09-16T02:19:26.130000Z   \n",
       "3                             NaN  1994-09-20T00:52:12.770000Z   \n",
       "4     1994-10-01T08:55:28.950000Z  1994-10-01T08:56:33.470000Z   \n",
       "...                           ...                          ...   \n",
       "4401                          NaN  2016-01-01T00:48:21.240000Z   \n",
       "4402  2016-01-16T06:10:50.830000Z  2016-01-16T06:11:57.030000Z   \n",
       "4403                          NaN  2016-09-27T14:18:36.390000Z   \n",
       "4404  2016-12-07T22:06:15.660000Z  2016-12-07T22:07:20.820000Z   \n",
       "4405                          NaN  2017-01-12T14:32:17.140000Z   \n",
       "\n",
       "           next_event_origin_time  forward_event_time_difference  \n",
       "0     1993-11-19T11:48:17.540000Z                   1.278724e+08  \n",
       "1     1994-09-16T02:18:04.380000Z                   2.597212e+07  \n",
       "2     1994-09-20T00:42:10.350000Z                   3.397642e+05  \n",
       "3     1994-10-01T08:55:26.220000Z                   9.793934e+05  \n",
       "4     1994-10-17T03:39:35.750000Z                   1.363382e+06  \n",
       "...                           ...                            ...  \n",
       "4401  2016-01-16T06:10:48.250000Z                   1.315347e+06  \n",
       "4402  2016-09-27T14:08:27.480000Z                   2.206059e+07  \n",
       "4403  2016-12-07T22:06:12.890000Z                   6.162456e+06  \n",
       "4404  2017-01-12T14:22:06.560000Z                   3.082486e+06  \n",
       "4405                          NaN                            NaN  \n",
       "\n",
       "[4406 rows x 6 columns]"
      ]
     },
     "execution_count": 238,
     "metadata": {},
     "output_type": "execute_result"
    }
   ],
   "source": [
    "data_at_a_station[[\"source_origin_time\",\"trace_p_arrival_time\",\"trace_s_arrival_time\",\"event_end\",\"next_event_origin_time\",\"forward_event_time_difference\"]]"
   ]
  },
  {
   "cell_type": "code",
   "execution_count": 257,
   "metadata": {},
   "outputs": [
    {
     "data": {
      "text/html": [
       "<div>\n",
       "<style scoped>\n",
       "    .dataframe tbody tr th:only-of-type {\n",
       "        vertical-align: middle;\n",
       "    }\n",
       "\n",
       "    .dataframe tbody tr th {\n",
       "        vertical-align: top;\n",
       "    }\n",
       "\n",
       "    .dataframe thead th {\n",
       "        text-align: right;\n",
       "    }\n",
       "</style>\n",
       "<table border=\"1\" class=\"dataframe\">\n",
       "  <thead>\n",
       "    <tr style=\"text-align: right;\">\n",
       "      <th></th>\n",
       "      <th>index</th>\n",
       "      <th>source_id</th>\n",
       "      <th>source_origin_time</th>\n",
       "      <th>source_latitude_deg</th>\n",
       "      <th>source_longitude_deg</th>\n",
       "      <th>source_depth_km</th>\n",
       "      <th>source_magnitude</th>\n",
       "      <th>source_magnitude_type</th>\n",
       "      <th>source_type</th>\n",
       "      <th>station_network_code</th>\n",
       "      <th>...</th>\n",
       "      <th>station_location_code</th>\n",
       "      <th>trace_channel</th>\n",
       "      <th>trace_p_arrival_time</th>\n",
       "      <th>trace_s_arrival_time</th>\n",
       "      <th>trace_p_max_weight</th>\n",
       "      <th>trace_s_max_weight</th>\n",
       "      <th>trace_p_first_motion</th>\n",
       "      <th>event_end</th>\n",
       "      <th>forward_event_time_difference</th>\n",
       "      <th>next_event_origin_time</th>\n",
       "    </tr>\n",
       "  </thead>\n",
       "  <tbody>\n",
       "    <tr>\n",
       "      <th>0</th>\n",
       "      <td>0</td>\n",
       "      <td>alk60812643</td>\n",
       "      <td>1989-10-31T11:31:11.540000Z</td>\n",
       "      <td>60.510000</td>\n",
       "      <td>-152.650000</td>\n",
       "      <td>9.14</td>\n",
       "      <td>0.40</td>\n",
       "      <td>ml</td>\n",
       "      <td>le</td>\n",
       "      <td>AV</td>\n",
       "      <td>...</td>\n",
       "      <td>--</td>\n",
       "      <td>EH</td>\n",
       "      <td>1989-10-31T11:31:19.770000Z</td>\n",
       "      <td>NaN</td>\n",
       "      <td>0.81</td>\n",
       "      <td>NaN</td>\n",
       "      <td>NaN</td>\n",
       "      <td>1989-10-31T11:41:19.770000Z</td>\n",
       "      <td>1.278724e+08</td>\n",
       "      <td>1993-11-19T11:48:17.540000Z</td>\n",
       "    </tr>\n",
       "    <tr>\n",
       "      <th>1</th>\n",
       "      <td>1</td>\n",
       "      <td>alk61819983</td>\n",
       "      <td>1993-11-19T11:48:17.540000Z</td>\n",
       "      <td>59.993500</td>\n",
       "      <td>-153.054833</td>\n",
       "      <td>3.22</td>\n",
       "      <td>0.70</td>\n",
       "      <td>ml</td>\n",
       "      <td>le</td>\n",
       "      <td>AV</td>\n",
       "      <td>...</td>\n",
       "      <td>--</td>\n",
       "      <td>EH</td>\n",
       "      <td>1993-11-19T11:48:19.890000Z</td>\n",
       "      <td>1993-11-19T11:48:21.030000Z</td>\n",
       "      <td>1.20</td>\n",
       "      <td>0.90</td>\n",
       "      <td>D</td>\n",
       "      <td>1993-11-19T11:49:25.590000Z</td>\n",
       "      <td>2.597212e+07</td>\n",
       "      <td>1994-09-16T02:18:04.380000Z</td>\n",
       "    </tr>\n",
       "    <tr>\n",
       "      <th>2</th>\n",
       "      <td>2</td>\n",
       "      <td>alk61825303</td>\n",
       "      <td>1994-09-16T02:18:04.380000Z</td>\n",
       "      <td>60.330667</td>\n",
       "      <td>-152.949000</td>\n",
       "      <td>1.80</td>\n",
       "      <td>1.30</td>\n",
       "      <td>ml</td>\n",
       "      <td>le</td>\n",
       "      <td>AV</td>\n",
       "      <td>...</td>\n",
       "      <td>--</td>\n",
       "      <td>EH</td>\n",
       "      <td>1994-09-16T02:18:09.180000Z</td>\n",
       "      <td>1994-09-16T02:18:12.570000Z</td>\n",
       "      <td>1.09</td>\n",
       "      <td>0.81</td>\n",
       "      <td>D</td>\n",
       "      <td>1994-09-16T02:19:26.130000Z</td>\n",
       "      <td>3.397642e+05</td>\n",
       "      <td>1994-09-20T00:42:10.350000Z</td>\n",
       "    </tr>\n",
       "    <tr>\n",
       "      <th>3</th>\n",
       "      <td>3</td>\n",
       "      <td>alk61825398</td>\n",
       "      <td>1994-09-20T00:42:10.350000Z</td>\n",
       "      <td>59.984333</td>\n",
       "      <td>-153.096000</td>\n",
       "      <td>2.44</td>\n",
       "      <td>0.90</td>\n",
       "      <td>ml</td>\n",
       "      <td>le</td>\n",
       "      <td>AV</td>\n",
       "      <td>...</td>\n",
       "      <td>--</td>\n",
       "      <td>EH</td>\n",
       "      <td>1994-09-20T00:42:12.770000Z</td>\n",
       "      <td>NaN</td>\n",
       "      <td>1.04</td>\n",
       "      <td>NaN</td>\n",
       "      <td>D</td>\n",
       "      <td>1994-09-20T00:52:12.770000Z</td>\n",
       "      <td>9.793934e+05</td>\n",
       "      <td>1994-10-01T08:55:26.220000Z</td>\n",
       "    </tr>\n",
       "    <tr>\n",
       "      <th>4</th>\n",
       "      <td>4</td>\n",
       "      <td>alk61825683</td>\n",
       "      <td>1994-10-01T08:55:26.220000Z</td>\n",
       "      <td>60.036333</td>\n",
       "      <td>-153.064333</td>\n",
       "      <td>0.00</td>\n",
       "      <td>0.00</td>\n",
       "      <td>ml</td>\n",
       "      <td>le</td>\n",
       "      <td>AV</td>\n",
       "      <td>...</td>\n",
       "      <td>--</td>\n",
       "      <td>EH</td>\n",
       "      <td>1994-10-01T08:55:27.820000Z</td>\n",
       "      <td>1994-10-01T08:55:28.950000Z</td>\n",
       "      <td>1.04</td>\n",
       "      <td>0.78</td>\n",
       "      <td>NaN</td>\n",
       "      <td>1994-10-01T08:56:33.470000Z</td>\n",
       "      <td>1.363382e+06</td>\n",
       "      <td>1994-10-17T03:39:35.750000Z</td>\n",
       "    </tr>\n",
       "    <tr>\n",
       "      <th>...</th>\n",
       "      <td>...</td>\n",
       "      <td>...</td>\n",
       "      <td>...</td>\n",
       "      <td>...</td>\n",
       "      <td>...</td>\n",
       "      <td>...</td>\n",
       "      <td>...</td>\n",
       "      <td>...</td>\n",
       "      <td>...</td>\n",
       "      <td>...</td>\n",
       "      <td>...</td>\n",
       "      <td>...</td>\n",
       "      <td>...</td>\n",
       "      <td>...</td>\n",
       "      <td>...</td>\n",
       "      <td>...</td>\n",
       "      <td>...</td>\n",
       "      <td>...</td>\n",
       "      <td>...</td>\n",
       "      <td>...</td>\n",
       "      <td>...</td>\n",
       "    </tr>\n",
       "    <tr>\n",
       "      <th>946</th>\n",
       "      <td>4400</td>\n",
       "      <td>alk61135991</td>\n",
       "      <td>2015-12-06T05:48:32.170000Z</td>\n",
       "      <td>60.131333</td>\n",
       "      <td>-152.703500</td>\n",
       "      <td>-1.62</td>\n",
       "      <td>0.99</td>\n",
       "      <td>ml</td>\n",
       "      <td>le</td>\n",
       "      <td>AV</td>\n",
       "      <td>...</td>\n",
       "      <td>--</td>\n",
       "      <td>EH</td>\n",
       "      <td>2015-12-06T05:48:35.070000Z</td>\n",
       "      <td>2015-12-06T05:48:37.820000Z</td>\n",
       "      <td>1.11</td>\n",
       "      <td>0.83</td>\n",
       "      <td>U</td>\n",
       "      <td>2015-12-06T05:49:48.820000Z</td>\n",
       "      <td>2.227686e+06</td>\n",
       "      <td>2016-01-01T00:37:54.540000Z</td>\n",
       "    </tr>\n",
       "    <tr>\n",
       "      <th>947</th>\n",
       "      <td>4401</td>\n",
       "      <td>alk61148721</td>\n",
       "      <td>2016-01-01T00:37:54.540000Z</td>\n",
       "      <td>61.532333</td>\n",
       "      <td>-152.363167</td>\n",
       "      <td>5.32</td>\n",
       "      <td>3.41</td>\n",
       "      <td>ml</td>\n",
       "      <td>le</td>\n",
       "      <td>AV</td>\n",
       "      <td>...</td>\n",
       "      <td>--</td>\n",
       "      <td>EH</td>\n",
       "      <td>2016-01-01T00:38:21.240000Z</td>\n",
       "      <td>NaN</td>\n",
       "      <td>0.46</td>\n",
       "      <td>NaN</td>\n",
       "      <td>U</td>\n",
       "      <td>2016-01-01T00:48:21.240000Z</td>\n",
       "      <td>1.315347e+06</td>\n",
       "      <td>2016-01-16T06:10:48.250000Z</td>\n",
       "    </tr>\n",
       "    <tr>\n",
       "      <th>948</th>\n",
       "      <td>4402</td>\n",
       "      <td>alk61152531</td>\n",
       "      <td>2016-01-16T06:10:48.250000Z</td>\n",
       "      <td>60.084000</td>\n",
       "      <td>-153.068333</td>\n",
       "      <td>-2.87</td>\n",
       "      <td>2.09</td>\n",
       "      <td>ml</td>\n",
       "      <td>le</td>\n",
       "      <td>AV</td>\n",
       "      <td>...</td>\n",
       "      <td>--</td>\n",
       "      <td>EH</td>\n",
       "      <td>2016-01-16T06:10:49.280000Z</td>\n",
       "      <td>2016-01-16T06:10:50.830000Z</td>\n",
       "      <td>1.11</td>\n",
       "      <td>0.83</td>\n",
       "      <td>U</td>\n",
       "      <td>2016-01-16T06:11:57.030000Z</td>\n",
       "      <td>2.206059e+07</td>\n",
       "      <td>2016-09-27T14:08:27.480000Z</td>\n",
       "    </tr>\n",
       "    <tr>\n",
       "      <th>949</th>\n",
       "      <td>4403</td>\n",
       "      <td>alk61318841</td>\n",
       "      <td>2016-09-27T14:08:27.480000Z</td>\n",
       "      <td>60.541833</td>\n",
       "      <td>-152.666333</td>\n",
       "      <td>6.13</td>\n",
       "      <td>2.34</td>\n",
       "      <td>ml</td>\n",
       "      <td>le</td>\n",
       "      <td>AV</td>\n",
       "      <td>...</td>\n",
       "      <td>--</td>\n",
       "      <td>EH</td>\n",
       "      <td>2016-09-27T14:08:36.390000Z</td>\n",
       "      <td>NaN</td>\n",
       "      <td>0.94</td>\n",
       "      <td>NaN</td>\n",
       "      <td>U</td>\n",
       "      <td>2016-09-27T14:18:36.390000Z</td>\n",
       "      <td>6.162456e+06</td>\n",
       "      <td>2016-12-07T22:06:12.890000Z</td>\n",
       "    </tr>\n",
       "    <tr>\n",
       "      <th>950</th>\n",
       "      <td>4404</td>\n",
       "      <td>alk70731099</td>\n",
       "      <td>2016-12-07T22:06:12.890000Z</td>\n",
       "      <td>60.063000</td>\n",
       "      <td>-153.086500</td>\n",
       "      <td>-2.61</td>\n",
       "      <td>0.59</td>\n",
       "      <td>ml</td>\n",
       "      <td>le</td>\n",
       "      <td>AV</td>\n",
       "      <td>...</td>\n",
       "      <td>--</td>\n",
       "      <td>EH</td>\n",
       "      <td>2016-12-07T22:06:14.370000Z</td>\n",
       "      <td>2016-12-07T22:06:15.660000Z</td>\n",
       "      <td>1.15</td>\n",
       "      <td>1.15</td>\n",
       "      <td>U</td>\n",
       "      <td>2016-12-07T22:07:20.820000Z</td>\n",
       "      <td>3.082486e+06</td>\n",
       "      <td>2017-01-12T14:22:06.560000Z</td>\n",
       "    </tr>\n",
       "  </tbody>\n",
       "</table>\n",
       "<p>951 rows × 21 columns</p>\n",
       "</div>"
      ],
      "text/plain": [
       "     index    source_id           source_origin_time  source_latitude_deg   \n",
       "0        0  alk60812643  1989-10-31T11:31:11.540000Z            60.510000  \\\n",
       "1        1  alk61819983  1993-11-19T11:48:17.540000Z            59.993500   \n",
       "2        2  alk61825303  1994-09-16T02:18:04.380000Z            60.330667   \n",
       "3        3  alk61825398  1994-09-20T00:42:10.350000Z            59.984333   \n",
       "4        4  alk61825683  1994-10-01T08:55:26.220000Z            60.036333   \n",
       "..     ...          ...                          ...                  ...   \n",
       "946   4400  alk61135991  2015-12-06T05:48:32.170000Z            60.131333   \n",
       "947   4401  alk61148721  2016-01-01T00:37:54.540000Z            61.532333   \n",
       "948   4402  alk61152531  2016-01-16T06:10:48.250000Z            60.084000   \n",
       "949   4403  alk61318841  2016-09-27T14:08:27.480000Z            60.541833   \n",
       "950   4404  alk70731099  2016-12-07T22:06:12.890000Z            60.063000   \n",
       "\n",
       "     source_longitude_deg  source_depth_km  source_magnitude   \n",
       "0             -152.650000             9.14              0.40  \\\n",
       "1             -153.054833             3.22              0.70   \n",
       "2             -152.949000             1.80              1.30   \n",
       "3             -153.096000             2.44              0.90   \n",
       "4             -153.064333             0.00              0.00   \n",
       "..                    ...              ...               ...   \n",
       "946           -152.703500            -1.62              0.99   \n",
       "947           -152.363167             5.32              3.41   \n",
       "948           -153.068333            -2.87              2.09   \n",
       "949           -152.666333             6.13              2.34   \n",
       "950           -153.086500            -2.61              0.59   \n",
       "\n",
       "    source_magnitude_type source_type station_network_code  ...   \n",
       "0                      ml          le                   AV  ...  \\\n",
       "1                      ml          le                   AV  ...   \n",
       "2                      ml          le                   AV  ...   \n",
       "3                      ml          le                   AV  ...   \n",
       "4                      ml          le                   AV  ...   \n",
       "..                    ...         ...                  ...  ...   \n",
       "946                    ml          le                   AV  ...   \n",
       "947                    ml          le                   AV  ...   \n",
       "948                    ml          le                   AV  ...   \n",
       "949                    ml          le                   AV  ...   \n",
       "950                    ml          le                   AV  ...   \n",
       "\n",
       "    station_location_code trace_channel         trace_p_arrival_time   \n",
       "0                      --            EH  1989-10-31T11:31:19.770000Z  \\\n",
       "1                      --            EH  1993-11-19T11:48:19.890000Z   \n",
       "2                      --            EH  1994-09-16T02:18:09.180000Z   \n",
       "3                      --            EH  1994-09-20T00:42:12.770000Z   \n",
       "4                      --            EH  1994-10-01T08:55:27.820000Z   \n",
       "..                    ...           ...                          ...   \n",
       "946                    --            EH  2015-12-06T05:48:35.070000Z   \n",
       "947                    --            EH  2016-01-01T00:38:21.240000Z   \n",
       "948                    --            EH  2016-01-16T06:10:49.280000Z   \n",
       "949                    --            EH  2016-09-27T14:08:36.390000Z   \n",
       "950                    --            EH  2016-12-07T22:06:14.370000Z   \n",
       "\n",
       "            trace_s_arrival_time trace_p_max_weight  trace_s_max_weight   \n",
       "0                            NaN               0.81                 NaN  \\\n",
       "1    1993-11-19T11:48:21.030000Z               1.20                0.90   \n",
       "2    1994-09-16T02:18:12.570000Z               1.09                0.81   \n",
       "3                            NaN               1.04                 NaN   \n",
       "4    1994-10-01T08:55:28.950000Z               1.04                0.78   \n",
       "..                           ...                ...                 ...   \n",
       "946  2015-12-06T05:48:37.820000Z               1.11                0.83   \n",
       "947                          NaN               0.46                 NaN   \n",
       "948  2016-01-16T06:10:50.830000Z               1.11                0.83   \n",
       "949                          NaN               0.94                 NaN   \n",
       "950  2016-12-07T22:06:15.660000Z               1.15                1.15   \n",
       "\n",
       "     trace_p_first_motion                    event_end   \n",
       "0                     NaN  1989-10-31T11:41:19.770000Z  \\\n",
       "1                       D  1993-11-19T11:49:25.590000Z   \n",
       "2                       D  1994-09-16T02:19:26.130000Z   \n",
       "3                       D  1994-09-20T00:52:12.770000Z   \n",
       "4                     NaN  1994-10-01T08:56:33.470000Z   \n",
       "..                    ...                          ...   \n",
       "946                     U  2015-12-06T05:49:48.820000Z   \n",
       "947                     U  2016-01-01T00:48:21.240000Z   \n",
       "948                     U  2016-01-16T06:11:57.030000Z   \n",
       "949                     U  2016-09-27T14:18:36.390000Z   \n",
       "950                     U  2016-12-07T22:07:20.820000Z   \n",
       "\n",
       "    forward_event_time_difference       next_event_origin_time  \n",
       "0                    1.278724e+08  1993-11-19T11:48:17.540000Z  \n",
       "1                    2.597212e+07  1994-09-16T02:18:04.380000Z  \n",
       "2                    3.397642e+05  1994-09-20T00:42:10.350000Z  \n",
       "3                    9.793934e+05  1994-10-01T08:55:26.220000Z  \n",
       "4                    1.363382e+06  1994-10-17T03:39:35.750000Z  \n",
       "..                            ...                          ...  \n",
       "946                  2.227686e+06  2016-01-01T00:37:54.540000Z  \n",
       "947                  1.315347e+06  2016-01-16T06:10:48.250000Z  \n",
       "948                  2.206059e+07  2016-09-27T14:08:27.480000Z  \n",
       "949                  6.162456e+06  2016-12-07T22:06:12.890000Z  \n",
       "950                  3.082486e+06  2017-01-12T14:22:06.560000Z  \n",
       "\n",
       "[951 rows x 21 columns]"
      ]
     },
     "execution_count": 257,
     "metadata": {},
     "output_type": "execute_result"
    }
   ],
   "source": [
    "data_at_a_station"
   ]
  },
  {
   "cell_type": "code",
   "execution_count": 177,
   "metadata": {},
   "outputs": [
    {
     "data": {
      "text/plain": [
       "189045.52"
      ]
     },
     "execution_count": 177,
     "metadata": {},
     "output_type": "execute_result"
    }
   ],
   "source": [
    "UTCDateTime(\"2017-12-19T22:02:47.000000Z\")-UTCDateTime(\"2017-12-17T17:32:01.480000Z\")"
   ]
  },
  {
   "cell_type": "code",
   "execution_count": 228,
   "metadata": {},
   "outputs": [
    {
     "data": {
      "text/html": [
       "<div>\n",
       "<style scoped>\n",
       "    .dataframe tbody tr th:only-of-type {\n",
       "        vertical-align: middle;\n",
       "    }\n",
       "\n",
       "    .dataframe tbody tr th {\n",
       "        vertical-align: top;\n",
       "    }\n",
       "\n",
       "    .dataframe thead th {\n",
       "        text-align: right;\n",
       "    }\n",
       "</style>\n",
       "<table border=\"1\" class=\"dataframe\">\n",
       "  <thead>\n",
       "    <tr style=\"text-align: right;\">\n",
       "      <th></th>\n",
       "      <th>source_origin_time</th>\n",
       "      <th>trace_p_arrival_time</th>\n",
       "      <th>trace_s_arrival_time</th>\n",
       "      <th>event_end</th>\n",
       "      <th>next_event_origin_time</th>\n",
       "      <th>forward_event_time_difference</th>\n",
       "    </tr>\n",
       "  </thead>\n",
       "  <tbody>\n",
       "    <tr>\n",
       "      <th>0</th>\n",
       "      <td>1989-10-31T11:31:11.540000Z</td>\n",
       "      <td>1989-10-31T11:31:19.770000Z</td>\n",
       "      <td>NaN</td>\n",
       "      <td>1989-10-31T11:41:19.770000Z</td>\n",
       "      <td>1993-11-19T11:48:17.540000Z</td>\n",
       "      <td>1.278724e+08</td>\n",
       "    </tr>\n",
       "    <tr>\n",
       "      <th>1</th>\n",
       "      <td>1993-11-19T11:48:17.540000Z</td>\n",
       "      <td>1993-11-19T11:48:19.890000Z</td>\n",
       "      <td>1993-11-19T11:48:21.030000Z</td>\n",
       "      <td>1993-11-19T11:49:25.590000Z</td>\n",
       "      <td>1994-09-16T02:18:04.380000Z</td>\n",
       "      <td>2.597212e+07</td>\n",
       "    </tr>\n",
       "    <tr>\n",
       "      <th>2</th>\n",
       "      <td>2001-11-28T19:29:01.220000Z</td>\n",
       "      <td>2001-11-28T19:29:02.880000Z</td>\n",
       "      <td>NaN</td>\n",
       "      <td>2001-11-28T19:39:02.880000Z</td>\n",
       "      <td>2002-08-24T20:43:56.950000Z</td>\n",
       "      <td>2.324549e+07</td>\n",
       "    </tr>\n",
       "    <tr>\n",
       "      <th>3</th>\n",
       "      <td>2016-01-16T06:10:48.250000Z</td>\n",
       "      <td>2016-01-16T06:10:49.280000Z</td>\n",
       "      <td>2016-01-16T06:10:50.830000Z</td>\n",
       "      <td>2016-01-16T06:11:57.030000Z</td>\n",
       "      <td>2016-09-27T14:08:27.480000Z</td>\n",
       "      <td>2.206059e+07</td>\n",
       "    </tr>\n",
       "    <tr>\n",
       "      <th>4</th>\n",
       "      <td>2015-03-27T04:50:05.790000Z</td>\n",
       "      <td>NaN</td>\n",
       "      <td>NaN</td>\n",
       "      <td>2015-03-27T05:00:05.790000Z</td>\n",
       "      <td>2015-11-18T04:48:32.390000Z</td>\n",
       "      <td>2.038971e+07</td>\n",
       "    </tr>\n",
       "    <tr>\n",
       "      <th>...</th>\n",
       "      <td>...</td>\n",
       "      <td>...</td>\n",
       "      <td>...</td>\n",
       "      <td>...</td>\n",
       "      <td>...</td>\n",
       "      <td>...</td>\n",
       "    </tr>\n",
       "    <tr>\n",
       "      <th>4401</th>\n",
       "      <td>1996-08-03T13:29:38.880000Z</td>\n",
       "      <td>1996-08-03T13:29:41.000000Z</td>\n",
       "      <td>NaN</td>\n",
       "      <td>1996-08-03T13:39:41.000000Z</td>\n",
       "      <td>1996-08-03T13:29:40.090000Z</td>\n",
       "      <td>-6.009100e+02</td>\n",
       "    </tr>\n",
       "    <tr>\n",
       "      <th>4402</th>\n",
       "      <td>1996-10-31T19:04:13.690000Z</td>\n",
       "      <td>1996-10-31T19:04:15.760000Z</td>\n",
       "      <td>NaN</td>\n",
       "      <td>1996-10-31T19:14:15.760000Z</td>\n",
       "      <td>1996-10-31T19:04:14.740000Z</td>\n",
       "      <td>-6.010200e+02</td>\n",
       "    </tr>\n",
       "    <tr>\n",
       "      <th>4403</th>\n",
       "      <td>1997-02-01T00:21:00.280000Z</td>\n",
       "      <td>1997-02-01T00:21:02.570000Z</td>\n",
       "      <td>NaN</td>\n",
       "      <td>1997-02-01T00:31:02.570000Z</td>\n",
       "      <td>1997-02-01T00:21:00.810000Z</td>\n",
       "      <td>-6.017600e+02</td>\n",
       "    </tr>\n",
       "    <tr>\n",
       "      <th>4404</th>\n",
       "      <td>2001-06-14T04:15:51.580000Z</td>\n",
       "      <td>2001-06-14T04:16:01.980000Z</td>\n",
       "      <td>NaN</td>\n",
       "      <td>2001-06-14T04:26:01.980000Z</td>\n",
       "      <td>2001-06-14T04:15:54.880000Z</td>\n",
       "      <td>-6.071000e+02</td>\n",
       "    </tr>\n",
       "    <tr>\n",
       "      <th>4405</th>\n",
       "      <td>2017-01-12T14:22:06.560000Z</td>\n",
       "      <td>2017-01-12T14:22:17.140000Z</td>\n",
       "      <td>NaN</td>\n",
       "      <td>2017-01-12T14:32:17.140000Z</td>\n",
       "      <td>NaN</td>\n",
       "      <td>NaN</td>\n",
       "    </tr>\n",
       "  </tbody>\n",
       "</table>\n",
       "<p>4406 rows × 6 columns</p>\n",
       "</div>"
      ],
      "text/plain": [
       "               source_origin_time         trace_p_arrival_time   \n",
       "0     1989-10-31T11:31:11.540000Z  1989-10-31T11:31:19.770000Z  \\\n",
       "1     1993-11-19T11:48:17.540000Z  1993-11-19T11:48:19.890000Z   \n",
       "2     2001-11-28T19:29:01.220000Z  2001-11-28T19:29:02.880000Z   \n",
       "3     2016-01-16T06:10:48.250000Z  2016-01-16T06:10:49.280000Z   \n",
       "4     2015-03-27T04:50:05.790000Z                          NaN   \n",
       "...                           ...                          ...   \n",
       "4401  1996-08-03T13:29:38.880000Z  1996-08-03T13:29:41.000000Z   \n",
       "4402  1996-10-31T19:04:13.690000Z  1996-10-31T19:04:15.760000Z   \n",
       "4403  1997-02-01T00:21:00.280000Z  1997-02-01T00:21:02.570000Z   \n",
       "4404  2001-06-14T04:15:51.580000Z  2001-06-14T04:16:01.980000Z   \n",
       "4405  2017-01-12T14:22:06.560000Z  2017-01-12T14:22:17.140000Z   \n",
       "\n",
       "             trace_s_arrival_time                    event_end   \n",
       "0                             NaN  1989-10-31T11:41:19.770000Z  \\\n",
       "1     1993-11-19T11:48:21.030000Z  1993-11-19T11:49:25.590000Z   \n",
       "2                             NaN  2001-11-28T19:39:02.880000Z   \n",
       "3     2016-01-16T06:10:50.830000Z  2016-01-16T06:11:57.030000Z   \n",
       "4                             NaN  2015-03-27T05:00:05.790000Z   \n",
       "...                           ...                          ...   \n",
       "4401                          NaN  1996-08-03T13:39:41.000000Z   \n",
       "4402                          NaN  1996-10-31T19:14:15.760000Z   \n",
       "4403                          NaN  1997-02-01T00:31:02.570000Z   \n",
       "4404                          NaN  2001-06-14T04:26:01.980000Z   \n",
       "4405                          NaN  2017-01-12T14:32:17.140000Z   \n",
       "\n",
       "           next_event_origin_time  forward_event_time_difference  \n",
       "0     1993-11-19T11:48:17.540000Z                   1.278724e+08  \n",
       "1     1994-09-16T02:18:04.380000Z                   2.597212e+07  \n",
       "2     2002-08-24T20:43:56.950000Z                   2.324549e+07  \n",
       "3     2016-09-27T14:08:27.480000Z                   2.206059e+07  \n",
       "4     2015-11-18T04:48:32.390000Z                   2.038971e+07  \n",
       "...                           ...                            ...  \n",
       "4401  1996-08-03T13:29:40.090000Z                  -6.009100e+02  \n",
       "4402  1996-10-31T19:04:14.740000Z                  -6.010200e+02  \n",
       "4403  1997-02-01T00:21:00.810000Z                  -6.017600e+02  \n",
       "4404  2001-06-14T04:15:54.880000Z                  -6.071000e+02  \n",
       "4405                          NaN                            NaN  \n",
       "\n",
       "[4406 rows x 6 columns]"
      ]
     },
     "execution_count": 228,
     "metadata": {},
     "output_type": "execute_result"
    }
   ],
   "source": [
    "data_at_a_station.sort_values(by=[\"forward_event_time_difference\"], ascending=False, ignore_index=True, inplace=True)\n",
    "\n",
    "data_at_a_station[[\"source_origin_time\",\"trace_p_arrival_time\",\"trace_s_arrival_time\",\"event_end\",\"next_event_origin_time\",\"forward_event_time_difference\"]]"
   ]
  },
  {
   "cell_type": "code",
   "execution_count": 239,
   "metadata": {},
   "outputs": [],
   "source": [
    "data_at_a_station=data_at_a_station[pd.notna(data_at_a_station[\"forward_event_time_difference\"])&(data_at_a_station[\"forward_event_time_difference\"]>3600*24)]\n",
    "data_at_a_station.reset_index(inplace=True)"
   ]
  },
  {
   "cell_type": "code",
   "execution_count": 240,
   "metadata": {},
   "outputs": [
    {
     "data": {
      "text/html": [
       "<div>\n",
       "<style scoped>\n",
       "    .dataframe tbody tr th:only-of-type {\n",
       "        vertical-align: middle;\n",
       "    }\n",
       "\n",
       "    .dataframe tbody tr th {\n",
       "        vertical-align: top;\n",
       "    }\n",
       "\n",
       "    .dataframe thead th {\n",
       "        text-align: right;\n",
       "    }\n",
       "</style>\n",
       "<table border=\"1\" class=\"dataframe\">\n",
       "  <thead>\n",
       "    <tr style=\"text-align: right;\">\n",
       "      <th></th>\n",
       "      <th>source_origin_time</th>\n",
       "      <th>trace_p_arrival_time</th>\n",
       "      <th>trace_s_arrival_time</th>\n",
       "      <th>event_end</th>\n",
       "      <th>next_event_origin_time</th>\n",
       "      <th>forward_event_time_difference</th>\n",
       "    </tr>\n",
       "  </thead>\n",
       "  <tbody>\n",
       "    <tr>\n",
       "      <th>0</th>\n",
       "      <td>1989-10-31T11:31:11.540000Z</td>\n",
       "      <td>1989-10-31T11:31:19.770000Z</td>\n",
       "      <td>NaN</td>\n",
       "      <td>1989-10-31T11:41:19.770000Z</td>\n",
       "      <td>1993-11-19T11:48:17.540000Z</td>\n",
       "      <td>1.278724e+08</td>\n",
       "    </tr>\n",
       "    <tr>\n",
       "      <th>1</th>\n",
       "      <td>1993-11-19T11:48:17.540000Z</td>\n",
       "      <td>1993-11-19T11:48:19.890000Z</td>\n",
       "      <td>1993-11-19T11:48:21.030000Z</td>\n",
       "      <td>1993-11-19T11:49:25.590000Z</td>\n",
       "      <td>1994-09-16T02:18:04.380000Z</td>\n",
       "      <td>2.597212e+07</td>\n",
       "    </tr>\n",
       "    <tr>\n",
       "      <th>2</th>\n",
       "      <td>1994-09-16T02:18:04.380000Z</td>\n",
       "      <td>1994-09-16T02:18:09.180000Z</td>\n",
       "      <td>1994-09-16T02:18:12.570000Z</td>\n",
       "      <td>1994-09-16T02:19:26.130000Z</td>\n",
       "      <td>1994-09-20T00:42:10.350000Z</td>\n",
       "      <td>3.397642e+05</td>\n",
       "    </tr>\n",
       "    <tr>\n",
       "      <th>3</th>\n",
       "      <td>1994-09-20T00:42:10.350000Z</td>\n",
       "      <td>1994-09-20T00:42:12.770000Z</td>\n",
       "      <td>NaN</td>\n",
       "      <td>1994-09-20T00:52:12.770000Z</td>\n",
       "      <td>1994-10-01T08:55:26.220000Z</td>\n",
       "      <td>9.793934e+05</td>\n",
       "    </tr>\n",
       "    <tr>\n",
       "      <th>4</th>\n",
       "      <td>1994-10-01T08:55:26.220000Z</td>\n",
       "      <td>1994-10-01T08:55:27.820000Z</td>\n",
       "      <td>1994-10-01T08:55:28.950000Z</td>\n",
       "      <td>1994-10-01T08:56:33.470000Z</td>\n",
       "      <td>1994-10-17T03:39:35.750000Z</td>\n",
       "      <td>1.363382e+06</td>\n",
       "    </tr>\n",
       "    <tr>\n",
       "      <th>...</th>\n",
       "      <td>...</td>\n",
       "      <td>...</td>\n",
       "      <td>...</td>\n",
       "      <td>...</td>\n",
       "      <td>...</td>\n",
       "      <td>...</td>\n",
       "    </tr>\n",
       "    <tr>\n",
       "      <th>946</th>\n",
       "      <td>2015-12-06T05:48:32.170000Z</td>\n",
       "      <td>2015-12-06T05:48:35.070000Z</td>\n",
       "      <td>2015-12-06T05:48:37.820000Z</td>\n",
       "      <td>2015-12-06T05:49:48.820000Z</td>\n",
       "      <td>2016-01-01T00:37:54.540000Z</td>\n",
       "      <td>2.227686e+06</td>\n",
       "    </tr>\n",
       "    <tr>\n",
       "      <th>947</th>\n",
       "      <td>2016-01-01T00:37:54.540000Z</td>\n",
       "      <td>2016-01-01T00:38:21.240000Z</td>\n",
       "      <td>NaN</td>\n",
       "      <td>2016-01-01T00:48:21.240000Z</td>\n",
       "      <td>2016-01-16T06:10:48.250000Z</td>\n",
       "      <td>1.315347e+06</td>\n",
       "    </tr>\n",
       "    <tr>\n",
       "      <th>948</th>\n",
       "      <td>2016-01-16T06:10:48.250000Z</td>\n",
       "      <td>2016-01-16T06:10:49.280000Z</td>\n",
       "      <td>2016-01-16T06:10:50.830000Z</td>\n",
       "      <td>2016-01-16T06:11:57.030000Z</td>\n",
       "      <td>2016-09-27T14:08:27.480000Z</td>\n",
       "      <td>2.206059e+07</td>\n",
       "    </tr>\n",
       "    <tr>\n",
       "      <th>949</th>\n",
       "      <td>2016-09-27T14:08:27.480000Z</td>\n",
       "      <td>2016-09-27T14:08:36.390000Z</td>\n",
       "      <td>NaN</td>\n",
       "      <td>2016-09-27T14:18:36.390000Z</td>\n",
       "      <td>2016-12-07T22:06:12.890000Z</td>\n",
       "      <td>6.162456e+06</td>\n",
       "    </tr>\n",
       "    <tr>\n",
       "      <th>950</th>\n",
       "      <td>2016-12-07T22:06:12.890000Z</td>\n",
       "      <td>2016-12-07T22:06:14.370000Z</td>\n",
       "      <td>2016-12-07T22:06:15.660000Z</td>\n",
       "      <td>2016-12-07T22:07:20.820000Z</td>\n",
       "      <td>2017-01-12T14:22:06.560000Z</td>\n",
       "      <td>3.082486e+06</td>\n",
       "    </tr>\n",
       "  </tbody>\n",
       "</table>\n",
       "<p>951 rows × 6 columns</p>\n",
       "</div>"
      ],
      "text/plain": [
       "              source_origin_time         trace_p_arrival_time   \n",
       "0    1989-10-31T11:31:11.540000Z  1989-10-31T11:31:19.770000Z  \\\n",
       "1    1993-11-19T11:48:17.540000Z  1993-11-19T11:48:19.890000Z   \n",
       "2    1994-09-16T02:18:04.380000Z  1994-09-16T02:18:09.180000Z   \n",
       "3    1994-09-20T00:42:10.350000Z  1994-09-20T00:42:12.770000Z   \n",
       "4    1994-10-01T08:55:26.220000Z  1994-10-01T08:55:27.820000Z   \n",
       "..                           ...                          ...   \n",
       "946  2015-12-06T05:48:32.170000Z  2015-12-06T05:48:35.070000Z   \n",
       "947  2016-01-01T00:37:54.540000Z  2016-01-01T00:38:21.240000Z   \n",
       "948  2016-01-16T06:10:48.250000Z  2016-01-16T06:10:49.280000Z   \n",
       "949  2016-09-27T14:08:27.480000Z  2016-09-27T14:08:36.390000Z   \n",
       "950  2016-12-07T22:06:12.890000Z  2016-12-07T22:06:14.370000Z   \n",
       "\n",
       "            trace_s_arrival_time                    event_end   \n",
       "0                            NaN  1989-10-31T11:41:19.770000Z  \\\n",
       "1    1993-11-19T11:48:21.030000Z  1993-11-19T11:49:25.590000Z   \n",
       "2    1994-09-16T02:18:12.570000Z  1994-09-16T02:19:26.130000Z   \n",
       "3                            NaN  1994-09-20T00:52:12.770000Z   \n",
       "4    1994-10-01T08:55:28.950000Z  1994-10-01T08:56:33.470000Z   \n",
       "..                           ...                          ...   \n",
       "946  2015-12-06T05:48:37.820000Z  2015-12-06T05:49:48.820000Z   \n",
       "947                          NaN  2016-01-01T00:48:21.240000Z   \n",
       "948  2016-01-16T06:10:50.830000Z  2016-01-16T06:11:57.030000Z   \n",
       "949                          NaN  2016-09-27T14:18:36.390000Z   \n",
       "950  2016-12-07T22:06:15.660000Z  2016-12-07T22:07:20.820000Z   \n",
       "\n",
       "          next_event_origin_time  forward_event_time_difference  \n",
       "0    1993-11-19T11:48:17.540000Z                   1.278724e+08  \n",
       "1    1994-09-16T02:18:04.380000Z                   2.597212e+07  \n",
       "2    1994-09-20T00:42:10.350000Z                   3.397642e+05  \n",
       "3    1994-10-01T08:55:26.220000Z                   9.793934e+05  \n",
       "4    1994-10-17T03:39:35.750000Z                   1.363382e+06  \n",
       "..                           ...                            ...  \n",
       "946  2016-01-01T00:37:54.540000Z                   2.227686e+06  \n",
       "947  2016-01-16T06:10:48.250000Z                   1.315347e+06  \n",
       "948  2016-09-27T14:08:27.480000Z                   2.206059e+07  \n",
       "949  2016-12-07T22:06:12.890000Z                   6.162456e+06  \n",
       "950  2017-01-12T14:22:06.560000Z                   3.082486e+06  \n",
       "\n",
       "[951 rows x 6 columns]"
      ]
     },
     "execution_count": 240,
     "metadata": {},
     "output_type": "execute_result"
    }
   ],
   "source": [
    "data_at_a_station[[\"source_origin_time\",\"trace_p_arrival_time\",\"trace_s_arrival_time\",\"event_end\",\"next_event_origin_time\",\"forward_event_time_difference\"]]"
   ]
  },
  {
   "cell_type": "code",
   "execution_count": 206,
   "metadata": {},
   "outputs": [
    {
     "data": {
      "text/plain": [
       "575"
      ]
     },
     "execution_count": 206,
     "metadata": {},
     "output_type": "execute_result"
    }
   ],
   "source": [
    "len(data_at_a_station)"
   ]
  },
  {
   "cell_type": "code",
   "execution_count": 188,
   "metadata": {},
   "outputs": [],
   "source": [
    "data_at_a_station[\"source_id\"]\n",
    "data_at_a_station[\"source_id\"]=np.nan"
   ]
  },
  {
   "cell_type": "code",
   "execution_count": 191,
   "metadata": {},
   "outputs": [],
   "source": [
    "data_at_a_station[\"noise_trace_start_time\"]="
   ]
  },
  {
   "cell_type": "code",
   "execution_count": 181,
   "metadata": {},
   "outputs": [
    {
     "data": {
      "text/plain": [
       "483"
      ]
     },
     "execution_count": 181,
     "metadata": {},
     "output_type": "execute_result"
    }
   ],
   "source": [
    "len(data_at_a_station)"
   ]
  },
  {
   "cell_type": "code",
   "execution_count": 156,
   "metadata": {},
   "outputs": [],
   "source": []
  },
  {
   "cell_type": "code",
   "execution_count": 157,
   "metadata": {},
   "outputs": [
    {
     "data": {
      "text/html": [
       "<div>\n",
       "<style scoped>\n",
       "    .dataframe tbody tr th:only-of-type {\n",
       "        vertical-align: middle;\n",
       "    }\n",
       "\n",
       "    .dataframe tbody tr th {\n",
       "        vertical-align: top;\n",
       "    }\n",
       "\n",
       "    .dataframe thead th {\n",
       "        text-align: right;\n",
       "    }\n",
       "</style>\n",
       "<table border=\"1\" class=\"dataframe\">\n",
       "  <thead>\n",
       "    <tr style=\"text-align: right;\">\n",
       "      <th></th>\n",
       "      <th>source_origin_time</th>\n",
       "      <th>trace_p_arrival_time</th>\n",
       "      <th>trace_s_arrival_time</th>\n",
       "      <th>event_end</th>\n",
       "      <th>forward_event_time_difference</th>\n",
       "    </tr>\n",
       "  </thead>\n",
       "  <tbody>\n",
       "    <tr>\n",
       "      <th>0</th>\n",
       "      <td>2012-09-02T05:38:41.870000Z</td>\n",
       "      <td>2012-09-02T05:38:46.860000Z</td>\n",
       "      <td>2012-09-02T05:38:50.990000Z</td>\n",
       "      <td>2012-09-02T05:38:55.120000Z</td>\n",
       "      <td>40556793.68</td>\n",
       "    </tr>\n",
       "    <tr>\n",
       "      <th>1</th>\n",
       "      <td>2016-09-14T01:05:48.650000Z</td>\n",
       "      <td>2016-09-14T01:05:52.390000Z</td>\n",
       "      <td>2016-09-14T01:05:55.290000Z</td>\n",
       "      <td>2016-09-14T01:05:58.190000Z</td>\n",
       "      <td>27745816.12</td>\n",
       "    </tr>\n",
       "    <tr>\n",
       "      <th>2</th>\n",
       "      <td>2007-03-30T20:53:29.550000Z</td>\n",
       "      <td>2007-03-30T20:53:31.900000Z</td>\n",
       "      <td>2007-03-30T20:53:33.550000Z</td>\n",
       "      <td>2007-03-30T20:53:35.200000Z</td>\n",
       "      <td>24142482.80</td>\n",
       "    </tr>\n",
       "    <tr>\n",
       "      <th>3</th>\n",
       "      <td>2009-08-23T13:20:21.180000Z</td>\n",
       "      <td>2009-08-23T13:20:22.960000Z</td>\n",
       "      <td>2009-08-23T13:20:24.760000Z</td>\n",
       "      <td>2009-08-23T13:20:26.560000Z</td>\n",
       "      <td>24041060.71</td>\n",
       "    </tr>\n",
       "    <tr>\n",
       "      <th>4</th>\n",
       "      <td>2011-04-16T07:20:31.580000Z</td>\n",
       "      <td>2011-04-16T07:20:46.490000Z</td>\n",
       "      <td>NaN</td>\n",
       "      <td>2011-04-16T07:25:46.490000Z</td>\n",
       "      <td>11871797.82</td>\n",
       "    </tr>\n",
       "    <tr>\n",
       "      <th>...</th>\n",
       "      <td>...</td>\n",
       "      <td>...</td>\n",
       "      <td>...</td>\n",
       "      <td>...</td>\n",
       "      <td>...</td>\n",
       "    </tr>\n",
       "    <tr>\n",
       "      <th>1247</th>\n",
       "      <td>2006-10-08T03:55:05.410000Z</td>\n",
       "      <td>NaN</td>\n",
       "      <td>2006-10-08T03:55:09.380000Z</td>\n",
       "      <td>2006-10-08T04:00:05.410000Z</td>\n",
       "      <td>-270.63</td>\n",
       "    </tr>\n",
       "    <tr>\n",
       "      <th>1248</th>\n",
       "      <td>2006-10-08T04:19:37.170000Z</td>\n",
       "      <td>NaN</td>\n",
       "      <td>2006-10-08T04:19:40.860000Z</td>\n",
       "      <td>2006-10-08T04:24:37.170000Z</td>\n",
       "      <td>-274.74</td>\n",
       "    </tr>\n",
       "    <tr>\n",
       "      <th>1249</th>\n",
       "      <td>2006-10-08T03:58:43.720000Z</td>\n",
       "      <td>2006-10-08T03:58:45.800000Z</td>\n",
       "      <td>NaN</td>\n",
       "      <td>2006-10-08T04:03:45.800000Z</td>\n",
       "      <td>-275.90</td>\n",
       "    </tr>\n",
       "    <tr>\n",
       "      <th>1250</th>\n",
       "      <td>2006-10-08T03:57:44.430000Z</td>\n",
       "      <td>NaN</td>\n",
       "      <td>2006-10-08T03:57:48.730000Z</td>\n",
       "      <td>2006-10-08T04:02:44.430000Z</td>\n",
       "      <td>-284.94</td>\n",
       "    </tr>\n",
       "    <tr>\n",
       "      <th>1251</th>\n",
       "      <td>2017-12-19T22:02:47.000000Z</td>\n",
       "      <td>2017-12-19T22:02:48.560000Z</td>\n",
       "      <td>2017-12-19T22:02:50.340000Z</td>\n",
       "      <td>2017-12-19T22:02:52.120000Z</td>\n",
       "      <td>NaN</td>\n",
       "    </tr>\n",
       "  </tbody>\n",
       "</table>\n",
       "<p>1252 rows × 5 columns</p>\n",
       "</div>"
      ],
      "text/plain": [
       "               source_origin_time         trace_p_arrival_time   \n",
       "0     2012-09-02T05:38:41.870000Z  2012-09-02T05:38:46.860000Z  \\\n",
       "1     2016-09-14T01:05:48.650000Z  2016-09-14T01:05:52.390000Z   \n",
       "2     2007-03-30T20:53:29.550000Z  2007-03-30T20:53:31.900000Z   \n",
       "3     2009-08-23T13:20:21.180000Z  2009-08-23T13:20:22.960000Z   \n",
       "4     2011-04-16T07:20:31.580000Z  2011-04-16T07:20:46.490000Z   \n",
       "...                           ...                          ...   \n",
       "1247  2006-10-08T03:55:05.410000Z                          NaN   \n",
       "1248  2006-10-08T04:19:37.170000Z                          NaN   \n",
       "1249  2006-10-08T03:58:43.720000Z  2006-10-08T03:58:45.800000Z   \n",
       "1250  2006-10-08T03:57:44.430000Z                          NaN   \n",
       "1251  2017-12-19T22:02:47.000000Z  2017-12-19T22:02:48.560000Z   \n",
       "\n",
       "             trace_s_arrival_time                    event_end   \n",
       "0     2012-09-02T05:38:50.990000Z  2012-09-02T05:38:55.120000Z  \\\n",
       "1     2016-09-14T01:05:55.290000Z  2016-09-14T01:05:58.190000Z   \n",
       "2     2007-03-30T20:53:33.550000Z  2007-03-30T20:53:35.200000Z   \n",
       "3     2009-08-23T13:20:24.760000Z  2009-08-23T13:20:26.560000Z   \n",
       "4                             NaN  2011-04-16T07:25:46.490000Z   \n",
       "...                           ...                          ...   \n",
       "1247  2006-10-08T03:55:09.380000Z  2006-10-08T04:00:05.410000Z   \n",
       "1248  2006-10-08T04:19:40.860000Z  2006-10-08T04:24:37.170000Z   \n",
       "1249                          NaN  2006-10-08T04:03:45.800000Z   \n",
       "1250  2006-10-08T03:57:48.730000Z  2006-10-08T04:02:44.430000Z   \n",
       "1251  2017-12-19T22:02:50.340000Z  2017-12-19T22:02:52.120000Z   \n",
       "\n",
       "      forward_event_time_difference  \n",
       "0                       40556793.68  \n",
       "1                       27745816.12  \n",
       "2                       24142482.80  \n",
       "3                       24041060.71  \n",
       "4                       11871797.82  \n",
       "...                             ...  \n",
       "1247                        -270.63  \n",
       "1248                        -274.74  \n",
       "1249                        -275.90  \n",
       "1250                        -284.94  \n",
       "1251                            NaN  \n",
       "\n",
       "[1252 rows x 5 columns]"
      ]
     },
     "execution_count": 157,
     "metadata": {},
     "output_type": "execute_result"
    }
   ],
   "source": [
    "data_at_a_station[[\"source_origin_time\",\"trace_p_arrival_time\",\"trace_s_arrival_time\",\"event_end\",\"forward_event_time_difference\"]]"
   ]
  },
  {
   "cell_type": "code",
   "execution_count": 142,
   "metadata": {},
   "outputs": [],
   "source": [
    "forward_event_time_diff=np.append(forward_event_time_diff,np.nan)"
   ]
  },
  {
   "cell_type": "code",
   "execution_count": 143,
   "metadata": {},
   "outputs": [
    {
     "data": {
      "text/plain": [
       "array([325608.465   , 478495.335   , 860627.679999, ..., 239454.12    ,\n",
       "       189045.52    ,           nan])"
      ]
     },
     "execution_count": 143,
     "metadata": {},
     "output_type": "execute_result"
    }
   ],
   "source": [
    "forward_event_time_diff"
   ]
  },
  {
   "cell_type": "code",
   "execution_count": 136,
   "metadata": {},
   "outputs": [
    {
     "data": {
      "text/plain": [
       "array([325608.465   , 478495.335   , 860627.679999, ...,  50249.12    ,\n",
       "       239454.12    , 189045.52    ])"
      ]
     },
     "execution_count": 136,
     "metadata": {},
     "output_type": "execute_result"
    }
   ],
   "source": [
    "forward_diff_org"
   ]
  },
  {
   "cell_type": "code",
   "execution_count": 133,
   "metadata": {},
   "outputs": [
    {
     "data": {
      "text/plain": [
       "array([325608.465   , 478495.335   , 860627.679999, ...,  50249.12    ,\n",
       "       239454.12    , 189045.52    ])"
      ]
     },
     "execution_count": 133,
     "metadata": {},
     "output_type": "execute_result"
    }
   ],
   "source": [
    "forward_diff_org.astype(float)"
   ]
  },
  {
   "cell_type": "code",
   "execution_count": 134,
   "metadata": {},
   "outputs": [
    {
     "data": {
      "text/plain": [
       "array([325608.465, 478495.335, 860627.679999, ..., 50249.12, 239454.12,\n",
       "       189045.52], dtype=object)"
      ]
     },
     "execution_count": 134,
     "metadata": {},
     "output_type": "execute_result"
    }
   ],
   "source": [
    "forward_diff_org"
   ]
  },
  {
   "cell_type": "code",
   "execution_count": null,
   "metadata": {},
   "outputs": [],
   "source": []
  },
  {
   "cell_type": "code",
   "execution_count": 123,
   "metadata": {},
   "outputs": [],
   "source": [
    "data_at_a_station.apply(get_event_end,axis=1)"
   ]
  },
  {
   "cell_type": "code",
   "execution_count": null,
   "metadata": {},
   "outputs": [],
   "source": []
  },
  {
   "cell_type": "code",
   "execution_count": null,
   "metadata": {},
   "outputs": [],
   "source": [
    "# org_times=data_at_a_station[\"source_origin_time\"].apply(lambda x: UTCDateTime(x))\n",
    "forward_diff_org = np.append(np.diff(data_at_a_station[\"source_origin_time\"].values), np.nan).astype(float)\n",
    "backward_diff_org = np.insert(np.diff(data_at_a_station[\"source_origin_time\"].values), 0, np.nan).astype(float)\n",
    "data_at_a_station[\"forward_diff_org\"]=forward_diff_org"
   ]
  },
  {
   "cell_type": "code",
   "execution_count": 117,
   "metadata": {},
   "outputs": [
    {
     "data": {
      "text/plain": [
       "100"
      ]
     },
     "execution_count": 117,
     "metadata": {},
     "output_type": "execute_result"
    }
   ],
   "source": [
    "a=10\n",
    "b=15\n",
    "b+1 if a==100 else 100"
   ]
  },
  {
   "cell_type": "code",
   "execution_count": 115,
   "metadata": {},
   "outputs": [
    {
     "data": {
      "text/plain": [
       "False"
      ]
     },
     "execution_count": 115,
     "metadata": {},
     "output_type": "execute_result"
    }
   ],
   "source": [
    "pd.notna(np.nan)"
   ]
  },
  {
   "cell_type": "code",
   "execution_count": 120,
   "metadata": {},
   "outputs": [],
   "source": []
  },
  {
   "cell_type": "code",
   "execution_count": 44,
   "metadata": {},
   "outputs": [
    {
     "data": {
      "text/html": [
       "<div>\n",
       "<style scoped>\n",
       "    .dataframe tbody tr th:only-of-type {\n",
       "        vertical-align: middle;\n",
       "    }\n",
       "\n",
       "    .dataframe tbody tr th {\n",
       "        vertical-align: top;\n",
       "    }\n",
       "\n",
       "    .dataframe thead th {\n",
       "        text-align: right;\n",
       "    }\n",
       "</style>\n",
       "<table border=\"1\" class=\"dataframe\">\n",
       "  <thead>\n",
       "    <tr style=\"text-align: right;\">\n",
       "      <th></th>\n",
       "      <th>source_id</th>\n",
       "      <th>source_origin_time</th>\n",
       "      <th>source_latitude_deg</th>\n",
       "      <th>source_longitude_deg</th>\n",
       "      <th>source_depth_km</th>\n",
       "      <th>source_magnitude</th>\n",
       "      <th>source_magnitude_type</th>\n",
       "      <th>source_type</th>\n",
       "      <th>station_network_code</th>\n",
       "      <th>station_code</th>\n",
       "      <th>station_location_code</th>\n",
       "      <th>trace_channel</th>\n",
       "      <th>trace_p_arrival_time</th>\n",
       "      <th>trace_s_arrival_time</th>\n",
       "      <th>trace_p_max_weight</th>\n",
       "      <th>trace_s_max_weight</th>\n",
       "      <th>trace_p_first_motion</th>\n",
       "    </tr>\n",
       "  </thead>\n",
       "  <tbody>\n",
       "    <tr>\n",
       "      <th>0</th>\n",
       "      <td>alk60985543</td>\n",
       "      <td>2005-03-27T08:39:00.470000Z</td>\n",
       "      <td>52.234500</td>\n",
       "      <td>-174.447333</td>\n",
       "      <td>0.83</td>\n",
       "      <td>1.20</td>\n",
       "      <td>ml</td>\n",
       "      <td>le</td>\n",
       "      <td>AK</td>\n",
       "      <td>ATKA</td>\n",
       "      <td>--</td>\n",
       "      <td>BH</td>\n",
       "      <td>2005-03-27T08:39:03.655000Z</td>\n",
       "      <td>2005-03-27T08:39:06.280000Z</td>\n",
       "      <td>1.02</td>\n",
       "      <td>1.02</td>\n",
       "      <td>D</td>\n",
       "    </tr>\n",
       "    <tr>\n",
       "      <th>1</th>\n",
       "      <td>alk60986908</td>\n",
       "      <td>2005-03-31T03:05:57.370000Z</td>\n",
       "      <td>52.320167</td>\n",
       "      <td>-174.105333</td>\n",
       "      <td>6.90</td>\n",
       "      <td>1.40</td>\n",
       "      <td>ml</td>\n",
       "      <td>le</td>\n",
       "      <td>AK</td>\n",
       "      <td>ATKA</td>\n",
       "      <td>--</td>\n",
       "      <td>BH</td>\n",
       "      <td>2005-03-31T03:06:00.325000Z</td>\n",
       "      <td>2005-03-31T03:06:02.630000Z</td>\n",
       "      <td>1.21</td>\n",
       "      <td>1.21</td>\n",
       "      <td>U</td>\n",
       "    </tr>\n",
       "    <tr>\n",
       "      <th>2</th>\n",
       "      <td>alk61001183</td>\n",
       "      <td>2005-04-05T16:01:00.270000Z</td>\n",
       "      <td>52.313833</td>\n",
       "      <td>-174.183167</td>\n",
       "      <td>8.28</td>\n",
       "      <td>0.80</td>\n",
       "      <td>ml</td>\n",
       "      <td>le</td>\n",
       "      <td>AK</td>\n",
       "      <td>ATKA</td>\n",
       "      <td>--</td>\n",
       "      <td>BH</td>\n",
       "      <td>2005-04-05T16:01:03.106667Z</td>\n",
       "      <td>2005-04-05T16:01:05.113334Z</td>\n",
       "      <td>1.00</td>\n",
       "      <td>1.00</td>\n",
       "      <td>NaN</td>\n",
       "    </tr>\n",
       "    <tr>\n",
       "      <th>3</th>\n",
       "      <td>alk61007043</td>\n",
       "      <td>2005-04-15T15:04:54.800000Z</td>\n",
       "      <td>52.307833</td>\n",
       "      <td>-174.204333</td>\n",
       "      <td>3.70</td>\n",
       "      <td>1.00</td>\n",
       "      <td>ml</td>\n",
       "      <td>le</td>\n",
       "      <td>AK</td>\n",
       "      <td>ATKA</td>\n",
       "      <td>--</td>\n",
       "      <td>BH</td>\n",
       "      <td>2005-04-15T15:04:57.100000Z</td>\n",
       "      <td>2005-04-15T15:04:59.040000Z</td>\n",
       "      <td>1.11</td>\n",
       "      <td>1.11</td>\n",
       "      <td>U</td>\n",
       "    </tr>\n",
       "    <tr>\n",
       "      <th>4</th>\n",
       "      <td>alk61007053</td>\n",
       "      <td>2005-04-15T15:06:17.120000Z</td>\n",
       "      <td>52.304833</td>\n",
       "      <td>-174.211667</td>\n",
       "      <td>3.65</td>\n",
       "      <td>0.30</td>\n",
       "      <td>ml</td>\n",
       "      <td>le</td>\n",
       "      <td>AK</td>\n",
       "      <td>ATKA</td>\n",
       "      <td>--</td>\n",
       "      <td>BH</td>\n",
       "      <td>2005-04-15T15:06:19.420000Z</td>\n",
       "      <td>NaN</td>\n",
       "      <td>1.06</td>\n",
       "      <td>NaN</td>\n",
       "      <td>NaN</td>\n",
       "    </tr>\n",
       "    <tr>\n",
       "      <th>...</th>\n",
       "      <td>...</td>\n",
       "      <td>...</td>\n",
       "      <td>...</td>\n",
       "      <td>...</td>\n",
       "      <td>...</td>\n",
       "      <td>...</td>\n",
       "      <td>...</td>\n",
       "      <td>...</td>\n",
       "      <td>...</td>\n",
       "      <td>...</td>\n",
       "      <td>...</td>\n",
       "      <td>...</td>\n",
       "      <td>...</td>\n",
       "      <td>...</td>\n",
       "      <td>...</td>\n",
       "      <td>...</td>\n",
       "      <td>...</td>\n",
       "    </tr>\n",
       "    <tr>\n",
       "      <th>1247</th>\n",
       "      <td>alk70770874</td>\n",
       "      <td>2017-12-14T04:26:02.530000Z</td>\n",
       "      <td>52.113000</td>\n",
       "      <td>-174.256167</td>\n",
       "      <td>12.60</td>\n",
       "      <td>0.05</td>\n",
       "      <td>ml</td>\n",
       "      <td>le</td>\n",
       "      <td>AK</td>\n",
       "      <td>ATKA</td>\n",
       "      <td>--</td>\n",
       "      <td>BH</td>\n",
       "      <td>2017-12-14T04:26:05.540000Z</td>\n",
       "      <td>2017-12-14T04:26:07.740000Z</td>\n",
       "      <td>1.08</td>\n",
       "      <td>1.08</td>\n",
       "      <td>D</td>\n",
       "    </tr>\n",
       "    <tr>\n",
       "      <th>1248</th>\n",
       "      <td>alk70770914</td>\n",
       "      <td>2017-12-14T09:03:17.630000Z</td>\n",
       "      <td>52.284333</td>\n",
       "      <td>-174.127833</td>\n",
       "      <td>11.24</td>\n",
       "      <td>0.20</td>\n",
       "      <td>ml</td>\n",
       "      <td>le</td>\n",
       "      <td>AK</td>\n",
       "      <td>ATKA</td>\n",
       "      <td>--</td>\n",
       "      <td>BH</td>\n",
       "      <td>2017-12-14T09:03:20.440000Z</td>\n",
       "      <td>2017-12-14T09:03:22.600000Z</td>\n",
       "      <td>1.04</td>\n",
       "      <td>1.04</td>\n",
       "      <td>U</td>\n",
       "    </tr>\n",
       "    <tr>\n",
       "      <th>1249</th>\n",
       "      <td>alk65057732</td>\n",
       "      <td>2017-12-14T23:00:53.880000Z</td>\n",
       "      <td>52.318833</td>\n",
       "      <td>-174.223000</td>\n",
       "      <td>3.87</td>\n",
       "      <td>0.26</td>\n",
       "      <td>ml</td>\n",
       "      <td>le</td>\n",
       "      <td>AK</td>\n",
       "      <td>ATKA</td>\n",
       "      <td>--</td>\n",
       "      <td>BH</td>\n",
       "      <td>2017-12-14T23:00:56.490000Z</td>\n",
       "      <td>2017-12-14T23:00:58.630000Z</td>\n",
       "      <td>1.03</td>\n",
       "      <td>1.03</td>\n",
       "      <td>U</td>\n",
       "    </tr>\n",
       "    <tr>\n",
       "      <th>1250</th>\n",
       "      <td>alk70771379</td>\n",
       "      <td>2017-12-17T17:31:54.890000Z</td>\n",
       "      <td>52.301667</td>\n",
       "      <td>-174.157833</td>\n",
       "      <td>4.64</td>\n",
       "      <td>-0.22</td>\n",
       "      <td>ml</td>\n",
       "      <td>le</td>\n",
       "      <td>AK</td>\n",
       "      <td>ATKA</td>\n",
       "      <td>--</td>\n",
       "      <td>BH</td>\n",
       "      <td>2017-12-17T17:31:57.120000Z</td>\n",
       "      <td>2017-12-17T17:31:59.300000Z</td>\n",
       "      <td>0.86</td>\n",
       "      <td>0.86</td>\n",
       "      <td>D</td>\n",
       "    </tr>\n",
       "    <tr>\n",
       "      <th>1251</th>\n",
       "      <td>alk70771584</td>\n",
       "      <td>2017-12-19T22:02:47.000000Z</td>\n",
       "      <td>52.174000</td>\n",
       "      <td>-174.276500</td>\n",
       "      <td>7.37</td>\n",
       "      <td>0.19</td>\n",
       "      <td>ml</td>\n",
       "      <td>le</td>\n",
       "      <td>AK</td>\n",
       "      <td>ATKA</td>\n",
       "      <td>--</td>\n",
       "      <td>BH</td>\n",
       "      <td>2017-12-19T22:02:48.560000Z</td>\n",
       "      <td>2017-12-19T22:02:50.340000Z</td>\n",
       "      <td>1.08</td>\n",
       "      <td>1.08</td>\n",
       "      <td>D</td>\n",
       "    </tr>\n",
       "  </tbody>\n",
       "</table>\n",
       "<p>1252 rows × 17 columns</p>\n",
       "</div>"
      ],
      "text/plain": [
       "        source_id           source_origin_time  source_latitude_deg   \n",
       "0     alk60985543  2005-03-27T08:39:00.470000Z            52.234500  \\\n",
       "1     alk60986908  2005-03-31T03:05:57.370000Z            52.320167   \n",
       "2     alk61001183  2005-04-05T16:01:00.270000Z            52.313833   \n",
       "3     alk61007043  2005-04-15T15:04:54.800000Z            52.307833   \n",
       "4     alk61007053  2005-04-15T15:06:17.120000Z            52.304833   \n",
       "...           ...                          ...                  ...   \n",
       "1247  alk70770874  2017-12-14T04:26:02.530000Z            52.113000   \n",
       "1248  alk70770914  2017-12-14T09:03:17.630000Z            52.284333   \n",
       "1249  alk65057732  2017-12-14T23:00:53.880000Z            52.318833   \n",
       "1250  alk70771379  2017-12-17T17:31:54.890000Z            52.301667   \n",
       "1251  alk70771584  2017-12-19T22:02:47.000000Z            52.174000   \n",
       "\n",
       "      source_longitude_deg  source_depth_km  source_magnitude   \n",
       "0              -174.447333             0.83              1.20  \\\n",
       "1              -174.105333             6.90              1.40   \n",
       "2              -174.183167             8.28              0.80   \n",
       "3              -174.204333             3.70              1.00   \n",
       "4              -174.211667             3.65              0.30   \n",
       "...                    ...              ...               ...   \n",
       "1247           -174.256167            12.60              0.05   \n",
       "1248           -174.127833            11.24              0.20   \n",
       "1249           -174.223000             3.87              0.26   \n",
       "1250           -174.157833             4.64             -0.22   \n",
       "1251           -174.276500             7.37              0.19   \n",
       "\n",
       "     source_magnitude_type source_type station_network_code station_code   \n",
       "0                       ml          le                   AK         ATKA  \\\n",
       "1                       ml          le                   AK         ATKA   \n",
       "2                       ml          le                   AK         ATKA   \n",
       "3                       ml          le                   AK         ATKA   \n",
       "4                       ml          le                   AK         ATKA   \n",
       "...                    ...         ...                  ...          ...   \n",
       "1247                    ml          le                   AK         ATKA   \n",
       "1248                    ml          le                   AK         ATKA   \n",
       "1249                    ml          le                   AK         ATKA   \n",
       "1250                    ml          le                   AK         ATKA   \n",
       "1251                    ml          le                   AK         ATKA   \n",
       "\n",
       "     station_location_code trace_channel         trace_p_arrival_time   \n",
       "0                       --            BH  2005-03-27T08:39:03.655000Z  \\\n",
       "1                       --            BH  2005-03-31T03:06:00.325000Z   \n",
       "2                       --            BH  2005-04-05T16:01:03.106667Z   \n",
       "3                       --            BH  2005-04-15T15:04:57.100000Z   \n",
       "4                       --            BH  2005-04-15T15:06:19.420000Z   \n",
       "...                    ...           ...                          ...   \n",
       "1247                    --            BH  2017-12-14T04:26:05.540000Z   \n",
       "1248                    --            BH  2017-12-14T09:03:20.440000Z   \n",
       "1249                    --            BH  2017-12-14T23:00:56.490000Z   \n",
       "1250                    --            BH  2017-12-17T17:31:57.120000Z   \n",
       "1251                    --            BH  2017-12-19T22:02:48.560000Z   \n",
       "\n",
       "             trace_s_arrival_time  trace_p_max_weight  trace_s_max_weight   \n",
       "0     2005-03-27T08:39:06.280000Z                1.02                1.02  \\\n",
       "1     2005-03-31T03:06:02.630000Z                1.21                1.21   \n",
       "2     2005-04-05T16:01:05.113334Z                1.00                1.00   \n",
       "3     2005-04-15T15:04:59.040000Z                1.11                1.11   \n",
       "4                             NaN                1.06                 NaN   \n",
       "...                           ...                 ...                 ...   \n",
       "1247  2017-12-14T04:26:07.740000Z                1.08                1.08   \n",
       "1248  2017-12-14T09:03:22.600000Z                1.04                1.04   \n",
       "1249  2017-12-14T23:00:58.630000Z                1.03                1.03   \n",
       "1250  2017-12-17T17:31:59.300000Z                0.86                0.86   \n",
       "1251  2017-12-19T22:02:50.340000Z                1.08                1.08   \n",
       "\n",
       "     trace_p_first_motion  \n",
       "0                       D  \n",
       "1                       U  \n",
       "2                     NaN  \n",
       "3                       U  \n",
       "4                     NaN  \n",
       "...                   ...  \n",
       "1247                    D  \n",
       "1248                    U  \n",
       "1249                    U  \n",
       "1250                    D  \n",
       "1251                    D  \n",
       "\n",
       "[1252 rows x 17 columns]"
      ]
     },
     "execution_count": 44,
     "metadata": {},
     "output_type": "execute_result"
    }
   ],
   "source": [
    "data_at_a_station"
   ]
  },
  {
   "cell_type": "code",
   "execution_count": 72,
   "metadata": {},
   "outputs": [
    {
     "data": {
      "text/plain": [
       "array([325616.9, 478502.9, 860634.53, ..., 50256.25, 239461.01, 189052.11],\n",
       "      dtype=object)"
      ]
     },
     "execution_count": 72,
     "metadata": {},
     "output_type": "execute_result"
    }
   ],
   "source": [
    "np.diff(org_times.values)"
   ]
  },
  {
   "cell_type": "code",
   "execution_count": 93,
   "metadata": {},
   "outputs": [],
   "source": [
    "data_at_a_station[\"forward_diff_org\"]=forward_diff_org"
   ]
  },
  {
   "cell_type": "code",
   "execution_count": 97,
   "metadata": {},
   "outputs": [
    {
     "data": {
      "text/plain": [
       "<Axes: ylabel='Frequency'>"
      ]
     },
     "execution_count": 97,
     "metadata": {},
     "output_type": "execute_result"
    },
    {
     "data": {
      "image/png": "[encoded data removed]",
      "text/plain": [
       "<Figure size 640x480 with 1 Axes>"
      ]
     },
     "metadata": {},
     "output_type": "display_data"
    }
   ],
   "source": [
    "data_at_a_station[\"forward_diff_org\"].plot(kind='hist',logx=True)"
   ]
  },
  {
   "cell_type": "code",
   "execution_count": 106,
   "metadata": {},
   "outputs": [
    {
     "data": {
      "image/png": "[encoded data removed]",
      "text/plain": [
       "<Figure size 640x480 with 1 Axes>"
      ]
     },
     "metadata": {},
     "output_type": "display_data"
    }
   ],
   "source": [
    "plt.hist(forward_diff_org[forward_diff_org<1e6],100,log=True);\n",
    "# plt.xscale(\"log\")\n",
    "# plt.xlim([0,15000])"
   ]
  },
  {
   "cell_type": "code",
   "execution_count": 65,
   "metadata": {},
   "outputs": [],
   "source": [
    "np.unique([repr(type(x)) for x in forward_diff_org])\n",
    "types=[repr(type(x)) for x in forward_diff_org]\n"
   ]
  },
  {
   "cell_type": "code",
   "execution_count": 67,
   "metadata": {},
   "outputs": [
    {
     "name": "stdout",
     "output_type": "stream",
     "text": [
      "[\"<class 'float'>\"]\n"
     ]
    }
   ],
   "source": [
    "print(np.unique(types))"
   ]
  },
  {
   "cell_type": "markdown",
   "metadata": {},
   "source": [
    "# Japan"
   ]
  },
  {
   "cell_type": "code",
   "execution_count": 190,
   "metadata": {},
   "outputs": [],
   "source": [
    "org_time=cat.iloc[0][\"source_origin_time\"]"
   ]
  },
  {
   "cell_type": "code",
   "execution_count": 191,
   "metadata": {},
   "outputs": [
    {
     "data": {
      "text/plain": [
       "2004-04-01T00:16:40.830000Z"
      ]
     },
     "execution_count": 191,
     "metadata": {},
     "output_type": "execute_result"
    }
   ],
   "source": [
    "org_time"
   ]
  },
  {
   "cell_type": "code",
   "execution_count": 192,
   "metadata": {},
   "outputs": [
    {
     "data": {
      "text/plain": [
       "datetime.datetime(2004, 4, 1, 0, 16, 40, 330000)"
      ]
     },
     "execution_count": 192,
     "metadata": {},
     "output_type": "execute_result"
    }
   ],
   "source": [
    "datetime.fromisoformat((org_time - 0.5).isoformat())"
   ]
  },
  {
   "cell_type": "code",
   "execution_count": 14,
   "metadata": {},
   "outputs": [
    {
     "name": "stderr",
     "output_type": "stream",
     "text": [
      "[2023-09-14 16:09:53] INFO: 2010-12-01 00:00 ~2\n",
      "[2023-09-14 16:09:53] INFO: [1/1] => 2010-12-01 00:00 ~2\n"
     ]
    }
   ],
   "source": [
    "from HinetPy import Client\n",
    "client = Client(\"zyy123\", \"zhong95\")\n",
    "data2, ctable2 = client.get_continuous_waveform(\"0101\", \"201012010000\", span=2,outdir=\"test\")"
   ]
  },
  {
   "cell_type": "code",
   "execution_count": 18,
   "metadata": {},
   "outputs": [],
   "source": [
    "from obspy import Stream"
   ]
  },
  {
   "cell_type": "code",
   "execution_count": 16,
   "metadata": {},
   "outputs": [],
   "source": [
    "def _read_sac_files(data_dir):\n",
    "    sac_files = list(data_dir.glob(\"*.SAC\"))\n",
    "    sts = Stream()\n",
    "    for sac in sac_files:\n",
    "        st = read(sac)\n",
    "        sts += st\n",
    "    return sts"
   ]
  },
  {
   "cell_type": "code",
   "execution_count": 31,
   "metadata": {},
   "outputs": [
    {
     "name": "stderr",
     "output_type": "stream",
     "text": [
      "[2023-09-14 16:14:47] INFO: 2342 channels found in test/0101_20101201.ch.\n",
      "[2023-09-14 16:14:47] INFO: 3 channels to be extracted.\n",
      "[2023-09-14 16:15:05] INFO: 3 SAC data successfully extracted.\n"
     ]
    }
   ],
   "source": [
    "HinetPy.win32.extract_sac(\n",
    "    data2,\n",
    "    ctable2,\n",
    "    filter_by_name=[\"N.AGWH\"],\n",
    "    outdir=data2.split(\".\")[0],\n",
    ")"
   ]
  },
  {
   "cell_type": "code",
   "execution_count": 32,
   "metadata": {},
   "outputs": [],
   "source": [
    "st=_read_sac_files(Path(data2.split(\".\")[0]))"
   ]
  },
  {
   "cell_type": "code",
   "execution_count": 36,
   "metadata": {},
   "outputs": [
    {
     "data": {
      "image/png": "[encoded data removed]",
      "text/plain": [
       "<Figure size 640x480 with 1 Axes>"
      ]
     },
     "metadata": {},
     "output_type": "display_data"
    },
    {
     "data": {
      "image/png": "[encoded data removed]",
      "text/plain": [
       "<Figure size 640x480 with 1 Axes>"
      ]
     },
     "metadata": {},
     "output_type": "display_data"
    },
    {
     "data": {
      "image/png": "[encoded data removed]",
      "text/plain": [
       "<Figure size 640x480 with 1 Axes>"
      ]
     },
     "metadata": {},
     "output_type": "display_data"
    }
   ],
   "source": [
    "st.spectrogram(log=True);\n"
   ]
  },
  {
   "cell_type": "code",
   "execution_count": 25,
   "metadata": {},
   "outputs": [
    {
     "data": {
      "text/plain": [
       "'test/0101_201012010000_2.cnt'"
      ]
     },
     "execution_count": 25,
     "metadata": {},
     "output_type": "execute_result"
    }
   ],
   "source": []
  },
  {
   "cell_type": "code",
   "execution_count": 177,
   "metadata": {},
   "outputs": [
    {
     "data": {
      "image/png": "[encoded data removed]",
      "text/plain": [
       "<Figure size 640x480 with 1 Axes>"
      ]
     },
     "metadata": {},
     "output_type": "display_data"
    }
   ],
   "source": [
    "st[26].spectrogram(log=True);"
   ]
  },
  {
   "cell_type": "code",
   "execution_count": 147,
   "metadata": {},
   "outputs": [
    {
     "data": {
      "image/png": "[encoded data removed]",
      "text/plain": [
       "<Figure size 640x480 with 1 Axes>"
      ]
     },
     "metadata": {},
     "output_type": "display_data"
    },
    {
     "data": {
      "image/png": "[encoded data removed]",
      "text/plain": [
       "<Figure size 640x480 with 1 Axes>"
      ]
     },
     "metadata": {},
     "output_type": "display_data"
    },
    {
     "data": {
      "image/png": "[encoded data removed]",
      "text/plain": [
       "<Figure size 640x480 with 1 Axes>"
      ]
     },
     "metadata": {},
     "output_type": "display_data"
    }
   ],
   "source": [
    "st.spectrogram(log=True);"
   ]
  },
  {
   "cell_type": "code",
   "execution_count": null,
   "metadata": {},
   "outputs": [
    {
     "data": {
      "text/plain": [
       "'090824T002003.000'"
      ]
     },
     "metadata": {},
     "output_type": "display_data"
    }
   ],
   "source": [
    "str(st[0].stats.starttime).replace(\"-\",\"\").replace(\":\",\"\")[2:-4]"
   ]
  },
  {
   "cell_type": "code",
   "execution_count": 151,
   "metadata": {},
   "outputs": [],
   "source": [
    "stations=list(np.unique(np.append(np.unique(japan_vol_LP_with_PS[\"station_code\"].values),np.unique(japan_VT_with_PS[\"station_code\"].values))))"
   ]
  },
  {
   "cell_type": "code",
   "execution_count": 153,
   "metadata": {},
   "outputs": [
    {
     "name": "stderr",
     "output_type": "stream",
     "text": [
      "[2023-09-14 13:10:10] INFO: 2336 channels found in test/0101_20100101.ch.\n",
      "[2023-09-14 13:10:10] INFO: 1482 channels to be extracted.\n",
      "[2023-09-14 13:12:59] WARNING: Data for N.SNBH.U (7063) not exists. Skipped.\n",
      "[2023-09-14 13:13:09] WARNING: Data for N.SNBH.N (7064) not exists. Skipped.\n",
      "[2023-09-14 13:13:09] WARNING: Data for N.KRKH.U (71b3) not exists. Skipped.\n",
      "[2023-09-14 13:13:18] WARNING: Data for N.SNBH.E (7065) not exists. Skipped.\n",
      "[2023-09-14 13:13:19] WARNING: Data for N.KRKH.N (71b4) not exists. Skipped.\n",
      "[2023-09-14 13:13:21] WARNING: Data for N.NSHH.U (7813) not exists. Skipped.\n",
      "[2023-09-14 13:13:26] WARNING: Data for N.KRKH.E (71b5) not exists. Skipped.\n",
      "[2023-09-14 13:13:28] WARNING: Data for N.NSHH.N (7814) not exists. Skipped.\n",
      "[2023-09-14 13:13:33] WARNING: Data for N.NSHH.E (7815) not exists. Skipped.\n",
      "[2023-09-14 13:13:48] INFO: 1473 SAC data successfully extracted.\n"
     ]
    }
   ],
   "source": [
    "HinetPy.win32.extract_sac(\n",
    "    data,\n",
    "    ctable,\n",
    "    filter_by_name=stations,\n",
    "    outdir=data.split(\".\")[0],\n",
    ")"
   ]
  },
  {
   "cell_type": "code",
   "execution_count": 66,
   "metadata": {},
   "outputs": [],
   "source": [
    "a=st.select(station=\"N.YTOH\")"
   ]
  },
  {
   "cell_type": "code",
   "execution_count": 69,
   "metadata": {},
   "outputs": [
    {
     "data": {
      "text/plain": [
       "         network: \n",
       "         station: N.YTOH\n",
       "        location: \n",
       "         channel: E\n",
       "       starttime: 2010-01-01T00:00:00.000000Z\n",
       "         endtime: 2010-01-01T00:01:59.990000Z\n",
       "   sampling_rate: 100.0\n",
       "           delta: 0.01\n",
       "            npts: 12000\n",
       "           calib: 1.0\n",
       "         _format: SAC\n",
       "             sac: AttribDict({'delta': 0.01, 'b': 0.0, 'stla': 36.5711, 'stlo': 137.1595, 'stel': -92.0, 'cmpaz': 90.0, 'cmpinc': 90.0, 'nzyear': 2010, 'nzjday': 1, 'nzhour': 0, 'nzmin': 0, 'nzsec': 0, 'nzmsec': 0, 'nvhdr': 6, 'npts': 12000, 'iftype': 1, 'idep': 7, 'ievtyp': 40, 'leven': 1, 'lpspol': 0, 'lovrok': 1, 'lcalda': 1, 'unused23': 0, 'kstnm': 'N.YTOH', 'kevnm': 'Hi-net', 'kcmpnm': 'E'})"
      ]
     },
     "execution_count": 69,
     "metadata": {},
     "output_type": "execute_result"
    }
   ],
   "source": [
    "a[0].stats"
   ]
  },
  {
   "cell_type": "code",
   "execution_count": 61,
   "metadata": {},
   "outputs": [
    {
     "data": {
      "text/plain": [
       "1476 Trace(s) in Stream:\n",
       "\n",
       ".N.AKNH..U | 2010-01-01T00:00:00.000000Z - 2010-01-01T00:01:59.990000Z | 100.0 Hz, 12000 samples\n",
       "...\n",
       "(1474 other traces)\n",
       "...\n",
       ".N.HHIH..E | 2010-01-01T00:00:00.000000Z - 2010-01-01T00:01:59.990000Z | 100.0 Hz, 12000 samples\n",
       "\n",
       "[Use \"print(Stream.__str__(extended=True))\" to print all Traces]"
      ]
     },
     "execution_count": 61,
     "metadata": {},
     "output_type": "execute_result"
    }
   ],
   "source": [
    "st"
   ]
  },
  {
   "cell_type": "code",
   "execution_count": 60,
   "metadata": {},
   "outputs": [
    {
     "data": {
      "text/plain": [
       "0 Trace(s) in Stream:\n"
      ]
     },
     "execution_count": 60,
     "metadata": {},
     "output_type": "execute_result"
    }
   ],
   "source": [
    "st.select(station=stations[0])"
   ]
  },
  {
   "cell_type": "code",
   "execution_count": 52,
   "metadata": {},
   "outputs": [
    {
     "data": {
      "text/plain": [
       "1476 Trace(s) in Stream:\n",
       "\n",
       ".N.AKNH..U | 2010-01-01T00:00:00.000000Z - 2010-01-01T00:01:59.990000Z | 100.0 Hz, 12000 samples\n",
       "...\n",
       "(1474 other traces)\n",
       "...\n",
       ".N.HHIH..E | 2010-01-01T00:00:00.000000Z - 2010-01-01T00:01:59.990000Z | 100.0 Hz, 12000 samples\n",
       "\n",
       "[Use \"print(Stream.__str__(extended=True))\" to print all Traces]"
      ]
     },
     "execution_count": 52,
     "metadata": {},
     "output_type": "execute_result"
    }
   ],
   "source": [
    "st"
   ]
  },
  {
   "cell_type": "code",
   "execution_count": 70,
   "metadata": {},
   "outputs": [],
   "source": [
    "st=_read_sac_files(Path(\"japan_download_temp_files/D20040402212900_20\"))"
   ]
  },
  {
   "cell_type": "code",
   "execution_count": 72,
   "metadata": {},
   "outputs": [
    {
     "data": {
      "text/plain": [
       "         network: \n",
       "         station: N.AYWH\n",
       "        location: \n",
       "         channel: U\n",
       "       starttime: 2004-04-02T15:49:24.000000Z\n",
       "         endtime: 2004-04-02T15:50:14.990000Z\n",
       "   sampling_rate: 100.0\n",
       "           delta: 0.01\n",
       "            npts: 5100\n",
       "           calib: 1.0\n",
       "         _format: SAC\n",
       "             sac: AttribDict({'delta': 0.01, 'b': 24.0, 'stla': 43.2708, 'stlo': 143.4317, 'stel': -2.0, 'cmpaz': 0.0, 'cmpinc': 0.0, 'nzyear': 2004, 'nzjday': 93, 'nzhour': 15, 'nzmin': 49, 'nzsec': 0, 'nzmsec': 0, 'nvhdr': 6, 'npts': 5100, 'iftype': 1, 'idep': 7, 'ievtyp': 40, 'leven': 1, 'lpspol': 0, 'lovrok': 1, 'lcalda': 1, 'unused23': 0, 'kstnm': 'N.AYWH', 'kevnm': 'Hi-net', 'kcmpnm': 'U'})"
      ]
     },
     "execution_count": 72,
     "metadata": {},
     "output_type": "execute_result"
    }
   ],
   "source": [
    "st[0].stats"
   ]
  },
  {
   "cell_type": "code",
   "execution_count": 85,
   "metadata": {},
   "outputs": [],
   "source": [
    "df2 = pd.DataFrame(np.array([[1, 2, 3], [4, 5, 6], [7, 8, 9],[10, 11, 12],[13, 14, 15],[16, 17, 18],[19, 20, 21]]),\n",
    "                   columns=['a', 'b', 'c'])"
   ]
  },
  {
   "cell_type": "code",
   "execution_count": 86,
   "metadata": {},
   "outputs": [
    {
     "data": {
      "text/html": [
       "<div>\n",
       "<style scoped>\n",
       "    .dataframe tbody tr th:only-of-type {\n",
       "        vertical-align: middle;\n",
       "    }\n",
       "\n",
       "    .dataframe tbody tr th {\n",
       "        vertical-align: top;\n",
       "    }\n",
       "\n",
       "    .dataframe thead th {\n",
       "        text-align: right;\n",
       "    }\n",
       "</style>\n",
       "<table border=\"1\" class=\"dataframe\">\n",
       "  <thead>\n",
       "    <tr style=\"text-align: right;\">\n",
       "      <th></th>\n",
       "      <th>a</th>\n",
       "      <th>b</th>\n",
       "      <th>c</th>\n",
       "    </tr>\n",
       "  </thead>\n",
       "  <tbody>\n",
       "    <tr>\n",
       "      <th>2</th>\n",
       "      <td>7</td>\n",
       "      <td>8</td>\n",
       "      <td>9</td>\n",
       "    </tr>\n",
       "    <tr>\n",
       "      <th>4</th>\n",
       "      <td>13</td>\n",
       "      <td>14</td>\n",
       "      <td>15</td>\n",
       "    </tr>\n",
       "    <tr>\n",
       "      <th>6</th>\n",
       "      <td>19</td>\n",
       "      <td>20</td>\n",
       "      <td>21</td>\n",
       "    </tr>\n",
       "  </tbody>\n",
       "</table>\n",
       "</div>"
      ],
      "text/plain": [
       "    a   b   c\n",
       "2   7   8   9\n",
       "4  13  14  15\n",
       "6  19  20  21"
      ]
     },
     "execution_count": 86,
     "metadata": {},
     "output_type": "execute_result"
    }
   ],
   "source": [
    "df2.iloc[np.arange(2,8,2)]"
   ]
  },
  {
   "cell_type": "code",
   "execution_count": 76,
   "metadata": {},
   "outputs": [],
   "source": [
    "aa=np.array([1,2,3,4,6,123,341,-2,12])"
   ]
  },
  {
   "cell_type": "code",
   "execution_count": 75,
   "metadata": {},
   "outputs": [
    {
     "data": {
      "text/plain": [
       "array([2, 4, 6])"
      ]
     },
     "execution_count": 75,
     "metadata": {},
     "output_type": "execute_result"
    }
   ],
   "source": [
    "np.arange(2,8,2)"
   ]
  },
  {
   "cell_type": "code",
   "execution_count": 77,
   "metadata": {},
   "outputs": [
    {
     "ename": "AttributeError",
     "evalue": "'numpy.ndarray' object has no attribute 'iloc'",
     "output_type": "error",
     "traceback": [
      "\u001b[0;31m---------------------------------------------------------------------------\u001b[0m",
      "\u001b[0;31mAttributeError\u001b[0m                            Traceback (most recent call last)",
      "Cell \u001b[0;32mIn[77], line 1\u001b[0m\n\u001b[0;32m----> 1\u001b[0m aa\u001b[39m.\u001b[39;49miloc[np\u001b[39m.\u001b[39marange(\u001b[39m2\u001b[39m,\u001b[39m8\u001b[39m,\u001b[39m2\u001b[39m)]\n",
      "\u001b[0;31mAttributeError\u001b[0m: 'numpy.ndarray' object has no attribute 'iloc'"
     ]
    }
   ],
   "source": [
    "aa.iloc[np.arange(2,8,2)]"
   ]
  },
  {
   "cell_type": "code",
   "execution_count": 51,
   "metadata": {},
   "outputs": [
    {
     "data": {
      "text/plain": [
       "AttribDict({'delta': 0.01, 'b': 0.0, 'stla': 37.5438, 'stlo': 139.3648, 'stel': 116.0, 'cmpaz': 0.0, 'cmpinc': 90.0, 'nzyear': 2010, 'nzjday': 1, 'nzhour': 0, 'nzmin': 0, 'nzsec': 0, 'nzmsec': 0, 'nvhdr': 6, 'npts': 12000, 'iftype': 1, 'idep': 7, 'ievtyp': 40, 'leven': 1, 'lpspol': 0, 'lovrok': 1, 'lcalda': 1, 'unused23': 0, 'kstnm': 'N.KMKH', 'kevnm': 'Hi-net', 'kcmpnm': 'N'})"
      ]
     },
     "execution_count": 51,
     "metadata": {},
     "output_type": "execute_result"
    }
   ],
   "source": [
    "st[601].stats.sac\n"
   ]
  },
  {
   "cell_type": "code",
   "execution_count": 40,
   "metadata": {},
   "outputs": [
    {
     "data": {
      "text/plain": [
       "         network: \n",
       "         station: N.AGWH\n",
       "        location: \n",
       "         channel: U\n",
       "       starttime: 2010-12-01T00:00:00.000000Z\n",
       "         endtime: 2010-12-01T00:01:59.990000Z\n",
       "   sampling_rate: 100.0\n",
       "           delta: 0.01\n",
       "            npts: 12000\n",
       "           calib: 1.0\n",
       "         _format: SAC\n",
       "             sac: AttribDict({'delta': 0.01, 'b': 0.0, 'stla': 43.0842, 'stlo': 140.8199, 'stel': -77.0, 'cmpaz': 0.0, 'cmpinc': 0.0, 'nzyear': 2010, 'nzjday': 335, 'nzhour': 0, 'nzmin': 0, 'nzsec': 0, 'nzmsec': 0, 'nvhdr': 6, 'npts': 12000, 'iftype': 1, 'idep': 7, 'ievtyp': 40, 'leven': 1, 'lpspol': 0, 'lovrok': 1, 'lcalda': 1, 'unused23': 0, 'kstnm': 'N.AGWH', 'kevnm': 'Hi-net', 'kcmpnm': 'U'})"
      ]
     },
     "execution_count": 40,
     "metadata": {},
     "output_type": "execute_result"
    }
   ],
   "source": [
    "st[1].stats"
   ]
  },
  {
   "cell_type": "code",
   "execution_count": 2,
   "metadata": {},
   "outputs": [],
   "source": [
    "cat=pd.read_csv(\"/mnt/DATA2/YiyuanZhong/my_data/Japan/japan_catalog.csv\")"
   ]
  },
  {
   "cell_type": "code",
   "execution_count": 53,
   "metadata": {},
   "outputs": [],
   "source": [
    "japan_vol_LP_with_PS=pd.read_csv(\"/mnt/DATA2/YiyuanZhong/my_data/Japan/japan_vol_LP_with_PS.csv\")\n",
    "japan_VT_with_PS=pd.read_csv(\"/mnt/DATA2/YiyuanZhong/my_data/Japan/japan_VT_with_PS.csv\")"
   ]
  },
  {
   "cell_type": "code",
   "execution_count": 56,
   "metadata": {},
   "outputs": [],
   "source": [
    "stations=list(np.unique(np.append(np.unique(japan_vol_LP_with_PS[\"station_code\"].values),np.unique(japan_VT_with_PS[\"station_code\"].values))))"
   ]
  },
  {
   "cell_type": "code",
   "execution_count": 54,
   "metadata": {},
   "outputs": [
    {
     "data": {
      "text/plain": [
       "951"
      ]
     },
     "execution_count": 54,
     "metadata": {},
     "output_type": "execute_result"
    }
   ],
   "source": [
    "len(np.unique(np.append(np.unique(japan_vol_LP_with_PS[\"station_code\"].values),np.unique(japan_VT_with_PS[\"station_code\"].values))))"
   ]
  },
  {
   "cell_type": "code",
   "execution_count": 16,
   "metadata": {},
   "outputs": [
    {
     "data": {
      "text/plain": [
       "61574412"
      ]
     },
     "execution_count": 16,
     "metadata": {},
     "output_type": "execute_result"
    }
   ],
   "source": [
    "len(cat)"
   ]
  },
  {
   "cell_type": "code",
   "execution_count": 76,
   "metadata": {},
   "outputs": [],
   "source": [
    "def get_event_end(x):\n",
    "    if pd.notna(x[\"trace_p_arrival_time\"]) and pd.notna(\n",
    "        x[\"trace_s_arrival_time\"]\n",
    "    ):\n",
    "        if x[\"trace_p_arrival_time\"] < x[\"trace_s_arrival_time\"]:\n",
    "            return (\n",
    "                x[\"trace_p_arrival_time\"]\n",
    "                + (x[\"trace_s_arrival_time\"] - x[\"trace_p_arrival_time\"]) * 5\n",
    "                + 60\n",
    "            )\n",
    "        else:\n",
    "            return x[\"source_origin_time\"] + 600\n",
    "    elif pd.notna(x[\"trace_p_arrival_time\"]):\n",
    "        return x[\"trace_p_arrival_time\"] + 600\n",
    "    else:\n",
    "        return x[\"source_origin_time\"] + 600"
   ]
  },
  {
   "cell_type": "code",
   "execution_count": 18,
   "metadata": {},
   "outputs": [],
   "source": [
    "cat[\"source_origin_time\"] = cat[\"source_origin_time\"].apply(\n",
    "    lambda x: UTCDateTime(x) if pd.notna(x) else np.nan\n",
    ")\n",
    "cat[\"trace_p_arrival_time\"] = cat[\n",
    "    \"trace_p_arrival_time\"\n",
    "].apply(lambda x: UTCDateTime(x) if pd.notna(x) else np.nan)\n",
    "cat[\"trace_s_arrival_time\"] = cat[\n",
    "    \"trace_s_arrival_time\"\n",
    "].apply(lambda x: UTCDateTime(x) if pd.notna(x) else np.nan)"
   ]
  },
  {
   "cell_type": "code",
   "execution_count": 19,
   "metadata": {},
   "outputs": [],
   "source": [
    "cat[\"event_end\"]=cat[\"source_origin_time\"]+120*60"
   ]
  },
  {
   "cell_type": "code",
   "execution_count": 20,
   "metadata": {},
   "outputs": [],
   "source": [
    "cat.sort_values(by=[\"source_origin_time\"], inplace=True)"
   ]
  },
  {
   "cell_type": "code",
   "execution_count": 26,
   "metadata": {},
   "outputs": [
    {
     "data": {
      "text/plain": [
       "0           2004-04-01T00:16:40.830000Z\n",
       "1           2004-04-01T00:16:40.830000Z\n",
       "2           2004-04-01T00:16:40.830000Z\n",
       "3           2004-04-01T00:16:40.830000Z\n",
       "4           2004-04-01T00:16:40.830000Z\n",
       "                       ...             \n",
       "61574395    2023-06-28T23:59:34.720000Z\n",
       "61574394    2023-06-28T23:59:34.720000Z\n",
       "61574410    2023-06-28T23:59:34.720000Z\n",
       "61574401    2023-06-28T23:59:34.720000Z\n",
       "61574411    2023-06-28T23:59:34.720000Z\n",
       "Name: source_origin_time, Length: 61574412, dtype: object"
      ]
     },
     "execution_count": 26,
     "metadata": {},
     "output_type": "execute_result"
    }
   ],
   "source": [
    "cat[\"source_origin_time\"]"
   ]
  },
  {
   "cell_type": "code",
   "execution_count": 66,
   "metadata": {},
   "outputs": [],
   "source": [
    "cat[\"event_end\"]=cat[\"source_origin_time\"]+300"
   ]
  },
  {
   "cell_type": "code",
   "execution_count": 4,
   "metadata": {},
   "outputs": [],
   "source": [
    "events=cat.drop_duplicates(\n",
    "        subset=\"source_id\", keep=\"first\", ignore_index=True\n",
    "    ).copy()\n",
    "events[\"source_origin_time\"] = events[\"source_origin_time\"].apply(\n",
    "    lambda x: UTCDateTime(x) if pd.notna(x) else np.nan\n",
    ")\n",
    "events.sort_values(by=[\"source_origin_time\"], inplace=True)\n",
    "events[\"event_end\"]=events[\"source_origin_time\"]+600"
   ]
  },
  {
   "cell_type": "code",
   "execution_count": 5,
   "metadata": {},
   "outputs": [],
   "source": [
    "time_difference_limit=2600\n",
    "forward_event_time_diff = (\n",
    "    events[\"source_origin_time\"].values[1:]\n",
    "    - events[\"event_end\"].values[:-1]\n",
    ").astype(float)\n",
    "\n",
    "forward_event_time_diff = np.append(forward_event_time_diff, np.nan)\n",
    "events[\"forward_event_time_difference\"] = forward_event_time_diff\n",
    "events[\"next_event_origin_time\"] = np.append(\n",
    "    events[\"source_origin_time\"][1:].values, np.nan\n",
    ")\n",
    "\n",
    "events2=events.sort_values(\n",
    "    by=[\"forward_event_time_difference\"], ascending=False, inplace=False\n",
    ")\n",
    "events2 = events2[\n",
    "    pd.notna(events2[\"forward_event_time_difference\"])\n",
    "    & (events2[\"forward_event_time_difference\"] > time_difference_limit)\n",
    "]"
   ]
  },
  {
   "cell_type": "code",
   "execution_count": 6,
   "metadata": {},
   "outputs": [
    {
     "data": {
      "text/plain": [
       "59"
      ]
     },
     "execution_count": 6,
     "metadata": {},
     "output_type": "execute_result"
    }
   ],
   "source": [
    "len(events2)"
   ]
  },
  {
   "cell_type": "code",
   "execution_count": 13,
   "metadata": {},
   "outputs": [
    {
     "data": {
      "text/plain": [
       "98000"
      ]
     },
     "execution_count": 13,
     "metadata": {},
     "output_type": "execute_result"
    }
   ],
   "source": [
    "98*500*2"
   ]
  },
  {
   "cell_type": "code",
   "execution_count": 123,
   "metadata": {},
   "outputs": [
    {
     "data": {
      "text/plain": [
       "1789911"
      ]
     },
     "execution_count": 123,
     "metadata": {},
     "output_type": "execute_result"
    }
   ],
   "source": [
    "len(events2)"
   ]
  },
  {
   "cell_type": "code",
   "execution_count": 124,
   "metadata": {},
   "outputs": [
    {
     "data": {
      "text/plain": [
       "-1352"
      ]
     },
     "execution_count": 124,
     "metadata": {},
     "output_type": "execute_result"
    }
   ],
   "source": [
    "1789911-1791263"
   ]
  },
  {
   "cell_type": "code",
   "execution_count": 43,
   "metadata": {},
   "outputs": [
    {
     "data": {
      "text/plain": [
       "0           N.SAMH\n",
       "1           NOBUKA\n",
       "2           HU.KMU\n",
       "3           HU.MYR\n",
       "4           N.TKIH\n",
       "             ...  \n",
       "61574395    N.TKKH\n",
       "61574394    TAMANA\n",
       "61574410    KU.SMT\n",
       "61574401    URESHI\n",
       "61574411    N.UMIH\n",
       "Name: station_code, Length: 61574412, dtype: object"
      ]
     },
     "execution_count": 43,
     "metadata": {},
     "output_type": "execute_result"
    }
   ],
   "source": [
    "cat[\"station_code\"]"
   ]
  },
  {
   "cell_type": "code",
   "execution_count": 79,
   "metadata": {},
   "outputs": [],
   "source": []
  },
  {
   "cell_type": "code",
   "execution_count": 80,
   "metadata": {},
   "outputs": [
    {
     "data": {
      "text/plain": [
       "26307"
      ]
     },
     "execution_count": 80,
     "metadata": {},
     "output_type": "execute_result"
    }
   ],
   "source": [
    "np.sum(forward_event_time_diff>1200)"
   ]
  },
  {
   "cell_type": "code",
   "execution_count": 95,
   "metadata": {},
   "outputs": [],
   "source": [
    "time_difference_limit=3600*24\n",
    "\n",
    "subcatalog=cat[cat[\"station_code\"]==\"N.SAMH\"].copy()\n",
    "subcatalog.sort_values(by=[\"source_origin_time\"], inplace=True)\n",
    "# subcatalog[\"event_end\"]=subcatalog[\"source_origin_time\"]+1800\n",
    "subcatalog[\"event_end\"] = subcatalog.apply(get_event_end, axis=1)\n",
    "len(subcatalog)\n",
    "\n",
    "forward_event_time_diff = (\n",
    "    subcatalog[\"source_origin_time\"].values[1:]\n",
    "    - subcatalog[\"event_end\"].values[:-1]\n",
    ").astype(float)\n",
    "\n",
    "forward_event_time_diff = np.append(forward_event_time_diff, np.nan)\n",
    "subcatalog[\"forward_event_time_difference\"] = forward_event_time_diff\n",
    "subcatalog[\"next_event_origin_time\"] = np.append(\n",
    "    subcatalog[\"source_origin_time\"][1:].values, np.nan\n",
    ")\n",
    "\n",
    "subcatalog.sort_values(\n",
    "    by=[\"forward_event_time_difference\"], ascending=False, inplace=True\n",
    ")\n",
    "subcatalog = subcatalog[\n",
    "    pd.notna(subcatalog[\"forward_event_time_difference\"])\n",
    "    & (subcatalog[\"forward_event_time_difference\"] > time_difference_limit)\n",
    "]\n",
    "# subcatalog = subcatalog.iloc[:number_records_each_station].copy()\n",
    "# subcatalog.reset_index(inplace=True)"
   ]
  },
  {
   "cell_type": "code",
   "execution_count": 96,
   "metadata": {},
   "outputs": [
    {
     "data": {
      "text/plain": [
       "647"
      ]
     },
     "execution_count": 96,
     "metadata": {},
     "output_type": "execute_result"
    }
   ],
   "source": [
    "len(subcatalog)"
   ]
  },
  {
   "cell_type": "code",
   "execution_count": 71,
   "metadata": {},
   "outputs": [
    {
     "data": {
      "text/plain": [
       "210"
      ]
     },
     "execution_count": 71,
     "metadata": {},
     "output_type": "execute_result"
    }
   ],
   "source": [
    "len(cat.iloc[:-1][forward_event_time_diff>2400][\"source_id\"].unique())"
   ]
  },
  {
   "cell_type": "code",
   "execution_count": 33,
   "metadata": {},
   "outputs": [
    {
     "data": {
      "text/plain": [
       "(array([6.1574408e+07, 0.0000000e+00, 1.0000000e+00, 0.0000000e+00,\n",
       "        0.0000000e+00, 1.0000000e+00, 0.0000000e+00, 0.0000000e+00,\n",
       "        0.0000000e+00, 1.0000000e+00]),\n",
       " array([  -3600.   ,  238328.839,  480257.678,  722186.517,  964115.356,\n",
       "        1206044.195, 1447973.034, 1689901.873, 1931830.712, 2173759.551,\n",
       "        2415688.39 ]),\n",
       " <BarContainer object of 10 artists>)"
      ]
     },
     "execution_count": 33,
     "metadata": {},
     "output_type": "execute_result"
    },
    {
     "data": {
      "image/png": "[encoded data removed]",
      "text/plain": [
       "<Figure size 640x480 with 1 Axes>"
      ]
     },
     "metadata": {},
     "output_type": "display_data"
    }
   ],
   "source": [
    "plt.hist(forward_event_time_diff,log=True)"
   ]
  }
 ],
 "metadata": {
  "kernelspec": {
   "display_name": "seisbench_v0.4",
   "language": "python",
   "name": "python3"
  },
  "language_info": {
   "codemirror_mode": {
    "name": "ipython",
    "version": 3
   },
   "file_extension": ".py",
   "mimetype": "text/x-python",
   "name": "python",
   "nbconvert_exporter": "python",
   "pygments_lexer": "ipython3",
   "version": "3.9.16"
  },
  "orig_nbformat": 4
 },
 "nbformat": 4,
 "nbformat_minor": 2
}
