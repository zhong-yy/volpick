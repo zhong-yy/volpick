{
 "cells": [
  {
   "attachments": {},
   "cell_type": "markdown",
   "metadata": {},
   "source": [
    "# Libraries"
   ]
  },
  {
   "cell_type": "code",
   "execution_count": 1,
   "metadata": {},
   "outputs": [],
   "source": [
    "import volpick.data\n",
    "import volpick\n",
    "from obspy.clients.fdsn import Client\n",
    "from obspy import UTCDateTime\n",
    "import matplotlib.pyplot as plt\n",
    "import os\n",
    "import pandas as pd\n",
    "import numpy as np\n",
    "import time\n",
    "import datetime\n",
    "from pathlib import Path\n",
    "from obspy import read\n",
    "from collections import namedtuple\n",
    "from volpick.data.utils import freqency_index,extract_events\n",
    "volpick.cache_root=Path(\"/home/zhongyiyuan/DATA/my_data\")"
   ]
  },
  {
   "cell_type": "code",
   "execution_count": 4,
   "metadata": {},
   "outputs": [],
   "source": [
    "lp_info=pd.read_csv(\"/home/zhongyiyuan/DATA/LP_catalog/NCEDC/LP.txt\",skiprows=1)"
   ]
  },
  {
   "cell_type": "code",
   "execution_count": 5,
   "metadata": {},
   "outputs": [
    {
     "data": {
      "text/html": [
       "<div>\n",
       "<style scoped>\n",
       "    .dataframe tbody tr th:only-of-type {\n",
       "        vertical-align: middle;\n",
       "    }\n",
       "\n",
       "    .dataframe tbody tr th {\n",
       "        vertical-align: top;\n",
       "    }\n",
       "\n",
       "    .dataframe thead th {\n",
       "        text-align: right;\n",
       "    }\n",
       "</style>\n",
       "<table border=\"1\" class=\"dataframe\">\n",
       "  <thead>\n",
       "    <tr style=\"text-align: right;\">\n",
       "      <th></th>\n",
       "      <th>DateTime</th>\n",
       "      <th>Latitude</th>\n",
       "      <th>Longitude</th>\n",
       "      <th>Depth</th>\n",
       "      <th>Magnitude</th>\n",
       "      <th>MagType</th>\n",
       "      <th>NbStations</th>\n",
       "      <th>Gap</th>\n",
       "      <th>Distance</th>\n",
       "      <th>RMS</th>\n",
       "      <th>Source</th>\n",
       "      <th>EventID</th>\n",
       "    </tr>\n",
       "  </thead>\n",
       "  <tbody>\n",
       "    <tr>\n",
       "      <th>0</th>\n",
       "      <td>1976/01/15 11:55:32.54</td>\n",
       "      <td>39.04767</td>\n",
       "      <td>-122.93100</td>\n",
       "      <td>19.435</td>\n",
       "      <td>1.95</td>\n",
       "      <td>Md</td>\n",
       "      <td>9</td>\n",
       "      <td>140</td>\n",
       "      <td>8</td>\n",
       "      <td>0.04</td>\n",
       "      <td>NCSN</td>\n",
       "      <td>1028378</td>\n",
       "    </tr>\n",
       "    <tr>\n",
       "      <th>1</th>\n",
       "      <td>1980/02/08 15:57:46.46</td>\n",
       "      <td>39.05467</td>\n",
       "      <td>-122.87383</td>\n",
       "      <td>16.550</td>\n",
       "      <td>2.45</td>\n",
       "      <td>Md</td>\n",
       "      <td>4</td>\n",
       "      <td>237</td>\n",
       "      <td>9</td>\n",
       "      <td>0.00</td>\n",
       "      <td>NCSN</td>\n",
       "      <td>1050906</td>\n",
       "    </tr>\n",
       "    <tr>\n",
       "      <th>2</th>\n",
       "      <td>1982/04/15 15:56:55.72</td>\n",
       "      <td>40.46300</td>\n",
       "      <td>-121.58283</td>\n",
       "      <td>18.757</td>\n",
       "      <td>2.05</td>\n",
       "      <td>Md</td>\n",
       "      <td>8</td>\n",
       "      <td>110</td>\n",
       "      <td>5</td>\n",
       "      <td>0.04</td>\n",
       "      <td>NCSN</td>\n",
       "      <td>1073742</td>\n",
       "    </tr>\n",
       "    <tr>\n",
       "      <th>3</th>\n",
       "      <td>1982/07/13 05:38:17.25</td>\n",
       "      <td>39.09133</td>\n",
       "      <td>-122.90000</td>\n",
       "      <td>18.841</td>\n",
       "      <td>2.06</td>\n",
       "      <td>Md</td>\n",
       "      <td>11</td>\n",
       "      <td>70</td>\n",
       "      <td>8</td>\n",
       "      <td>0.20</td>\n",
       "      <td>NCSN</td>\n",
       "      <td>1076180</td>\n",
       "    </tr>\n",
       "    <tr>\n",
       "      <th>4</th>\n",
       "      <td>1983/12/16 04:59:42.46</td>\n",
       "      <td>40.48617</td>\n",
       "      <td>-121.57367</td>\n",
       "      <td>16.942</td>\n",
       "      <td>1.61</td>\n",
       "      <td>Md</td>\n",
       "      <td>8</td>\n",
       "      <td>82</td>\n",
       "      <td>4</td>\n",
       "      <td>0.03</td>\n",
       "      <td>NCSN</td>\n",
       "      <td>1108516</td>\n",
       "    </tr>\n",
       "    <tr>\n",
       "      <th>...</th>\n",
       "      <td>...</td>\n",
       "      <td>...</td>\n",
       "      <td>...</td>\n",
       "      <td>...</td>\n",
       "      <td>...</td>\n",
       "      <td>...</td>\n",
       "      <td>...</td>\n",
       "      <td>...</td>\n",
       "      <td>...</td>\n",
       "      <td>...</td>\n",
       "      <td>...</td>\n",
       "      <td>...</td>\n",
       "    </tr>\n",
       "    <tr>\n",
       "      <th>1282</th>\n",
       "      <td>2019/11/09 22:32:45.34</td>\n",
       "      <td>40.46367</td>\n",
       "      <td>-121.60917</td>\n",
       "      <td>10.420</td>\n",
       "      <td>0.33</td>\n",
       "      <td>Md</td>\n",
       "      <td>11</td>\n",
       "      <td>126</td>\n",
       "      <td>6</td>\n",
       "      <td>0.23</td>\n",
       "      <td>NCSN</td>\n",
       "      <td>73301801</td>\n",
       "    </tr>\n",
       "    <tr>\n",
       "      <th>1283</th>\n",
       "      <td>2019/11/30 14:02:39.18</td>\n",
       "      <td>40.49050</td>\n",
       "      <td>-121.61000</td>\n",
       "      <td>14.170</td>\n",
       "      <td>0.50</td>\n",
       "      <td>Md</td>\n",
       "      <td>15</td>\n",
       "      <td>79</td>\n",
       "      <td>3</td>\n",
       "      <td>0.34</td>\n",
       "      <td>NCSN</td>\n",
       "      <td>73311616</td>\n",
       "    </tr>\n",
       "    <tr>\n",
       "      <th>1284</th>\n",
       "      <td>2019/12/09 06:48:42.34</td>\n",
       "      <td>37.64333</td>\n",
       "      <td>-118.89600</td>\n",
       "      <td>-1.580</td>\n",
       "      <td>0.48</td>\n",
       "      <td>Md</td>\n",
       "      <td>18</td>\n",
       "      <td>116</td>\n",
       "      <td>0</td>\n",
       "      <td>0.13</td>\n",
       "      <td>NCSN</td>\n",
       "      <td>73312786</td>\n",
       "    </tr>\n",
       "    <tr>\n",
       "      <th>1285</th>\n",
       "      <td>2019/12/10 06:41:45.76</td>\n",
       "      <td>37.64933</td>\n",
       "      <td>-118.89667</td>\n",
       "      <td>-1.290</td>\n",
       "      <td>0.25</td>\n",
       "      <td>Md</td>\n",
       "      <td>15</td>\n",
       "      <td>156</td>\n",
       "      <td>1</td>\n",
       "      <td>0.07</td>\n",
       "      <td>NCSN</td>\n",
       "      <td>73313121</td>\n",
       "    </tr>\n",
       "    <tr>\n",
       "      <th>1286</th>\n",
       "      <td>2019/12/12 05:44:22.33</td>\n",
       "      <td>40.54333</td>\n",
       "      <td>-121.66267</td>\n",
       "      <td>16.860</td>\n",
       "      <td>0.72</td>\n",
       "      <td>Md</td>\n",
       "      <td>12</td>\n",
       "      <td>273</td>\n",
       "      <td>8</td>\n",
       "      <td>0.30</td>\n",
       "      <td>NCSN</td>\n",
       "      <td>73313791</td>\n",
       "    </tr>\n",
       "  </tbody>\n",
       "</table>\n",
       "<p>1287 rows × 12 columns</p>\n",
       "</div>"
      ],
      "text/plain": [
       "                    DateTime  Latitude  Longitude   Depth  Magnitude MagType   \n",
       "0     1976/01/15 11:55:32.54  39.04767 -122.93100  19.435       1.95      Md  \\\n",
       "1     1980/02/08 15:57:46.46  39.05467 -122.87383  16.550       2.45      Md   \n",
       "2     1982/04/15 15:56:55.72  40.46300 -121.58283  18.757       2.05      Md   \n",
       "3     1982/07/13 05:38:17.25  39.09133 -122.90000  18.841       2.06      Md   \n",
       "4     1983/12/16 04:59:42.46  40.48617 -121.57367  16.942       1.61      Md   \n",
       "...                      ...       ...        ...     ...        ...     ...   \n",
       "1282  2019/11/09 22:32:45.34  40.46367 -121.60917  10.420       0.33      Md   \n",
       "1283  2019/11/30 14:02:39.18  40.49050 -121.61000  14.170       0.50      Md   \n",
       "1284  2019/12/09 06:48:42.34  37.64333 -118.89600  -1.580       0.48      Md   \n",
       "1285  2019/12/10 06:41:45.76  37.64933 -118.89667  -1.290       0.25      Md   \n",
       "1286  2019/12/12 05:44:22.33  40.54333 -121.66267  16.860       0.72      Md   \n",
       "\n",
       "      NbStations  Gap  Distance   RMS Source   EventID  \n",
       "0              9  140         8  0.04   NCSN   1028378  \n",
       "1              4  237         9  0.00   NCSN   1050906  \n",
       "2              8  110         5  0.04   NCSN   1073742  \n",
       "3             11   70         8  0.20   NCSN   1076180  \n",
       "4              8   82         4  0.03   NCSN   1108516  \n",
       "...          ...  ...       ...   ...    ...       ...  \n",
       "1282          11  126         6  0.23   NCSN  73301801  \n",
       "1283          15   79         3  0.34   NCSN  73311616  \n",
       "1284          18  116         0  0.13   NCSN  73312786  \n",
       "1285          15  156         1  0.07   NCSN  73313121  \n",
       "1286          12  273         8  0.30   NCSN  73313791  \n",
       "\n",
       "[1287 rows x 12 columns]"
      ]
     },
     "execution_count": 5,
     "metadata": {},
     "output_type": "execute_result"
    }
   ],
   "source": [
    "lp_info"
   ]
  },
  {
   "cell_type": "code",
   "execution_count": 87,
   "metadata": {},
   "outputs": [
    {
     "data": {
      "text/plain": [
       "'1976-01-15T11:55:32.54'"
      ]
     },
     "execution_count": 87,
     "metadata": {},
     "output_type": "execute_result"
    }
   ],
   "source": [
    "lp_info.iloc[0][\"DateTime\"].replace(\" \",\"T\").replace(\"/\",\"-\")"
   ]
  },
  {
   "cell_type": "code",
   "execution_count": 90,
   "metadata": {},
   "outputs": [
    {
     "data": {
      "text/plain": [
       "numpy.float64"
      ]
     },
     "execution_count": 90,
     "metadata": {},
     "output_type": "execute_result"
    }
   ],
   "source": [
    "type(lp_info.iloc[0][\"Latitude\"])"
   ]
  },
  {
   "cell_type": "code",
   "execution_count": 34,
   "metadata": {},
   "outputs": [],
   "source": [
    "summary_df=pd.read_csv(\"/home/zhongyiyuan/DATA/LP_catalog/NCEDC/LP.txt\",skiprows=1)\n",
    "summary_dict={}"
   ]
  },
  {
   "cell_type": "code",
   "execution_count": 35,
   "metadata": {},
   "outputs": [
    {
     "ename": "KeyError",
     "evalue": "'ncedc1028378'",
     "output_type": "error",
     "traceback": [
      "\u001b[0;31m---------------------------------------------------------------------------\u001b[0m",
      "\u001b[0;31mKeyError\u001b[0m                                  Traceback (most recent call last)",
      "Cell \u001b[0;32mIn[35], line 1\u001b[0m\n\u001b[0;32m----> 1\u001b[0m summary_dict[\u001b[39m\"\u001b[39;49m\u001b[39mncedc1028378\u001b[39;49m\u001b[39m\"\u001b[39;49m]\n",
      "\u001b[0;31mKeyError\u001b[0m: 'ncedc1028378'"
     ]
    }
   ],
   "source": [
    "summary_dict[\"ncedc1028378\"]"
   ]
  },
  {
   "cell_type": "code",
   "execution_count": 37,
   "metadata": {},
   "outputs": [
    {
     "data": {
      "text/plain": [
       "True"
      ]
     },
     "execution_count": 37,
     "metadata": {},
     "output_type": "execute_result"
    }
   ],
   "source": [
    "\"ncedc73513570\" not in summary_dict"
   ]
  },
  {
   "cell_type": "code",
   "execution_count": 38,
   "metadata": {},
   "outputs": [
    {
     "data": {
      "text/plain": [
       "0        1028378\n",
       "1        1050906\n",
       "2        1073742\n",
       "3        1076180\n",
       "4        1108516\n",
       "          ...   \n",
       "1282    73301801\n",
       "1283    73311616\n",
       "1284    73312786\n",
       "1285    73313121\n",
       "1286    73313791\n",
       "Name: EventID, Length: 1287, dtype: int64"
      ]
     },
     "execution_count": 38,
     "metadata": {},
     "output_type": "execute_result"
    }
   ],
   "source": [
    "lp_info[\"EventID\"]"
   ]
  },
  {
   "cell_type": "code",
   "execution_count": 39,
   "metadata": {},
   "outputs": [
    {
     "data": {
      "text/html": [
       "<div>\n",
       "<style scoped>\n",
       "    .dataframe tbody tr th:only-of-type {\n",
       "        vertical-align: middle;\n",
       "    }\n",
       "\n",
       "    .dataframe tbody tr th {\n",
       "        vertical-align: top;\n",
       "    }\n",
       "\n",
       "    .dataframe thead th {\n",
       "        text-align: right;\n",
       "    }\n",
       "</style>\n",
       "<table border=\"1\" class=\"dataframe\">\n",
       "  <thead>\n",
       "    <tr style=\"text-align: right;\">\n",
       "      <th></th>\n",
       "      <th>DateTime</th>\n",
       "      <th>Latitude</th>\n",
       "      <th>Longitude</th>\n",
       "      <th>Depth</th>\n",
       "      <th>Magnitude</th>\n",
       "      <th>MagType</th>\n",
       "      <th>NbStations</th>\n",
       "      <th>Gap</th>\n",
       "      <th>Distance</th>\n",
       "      <th>RMS</th>\n",
       "      <th>Source</th>\n",
       "      <th>EventID</th>\n",
       "    </tr>\n",
       "  </thead>\n",
       "  <tbody>\n",
       "    <tr>\n",
       "      <th>0</th>\n",
       "      <td>1976/01/15 11:55:32.54</td>\n",
       "      <td>39.04767</td>\n",
       "      <td>-122.931</td>\n",
       "      <td>19.435</td>\n",
       "      <td>1.95</td>\n",
       "      <td>Md</td>\n",
       "      <td>9</td>\n",
       "      <td>140</td>\n",
       "      <td>8</td>\n",
       "      <td>0.04</td>\n",
       "      <td>NCSN</td>\n",
       "      <td>1028378</td>\n",
       "    </tr>\n",
       "  </tbody>\n",
       "</table>\n",
       "</div>"
      ],
      "text/plain": [
       "                 DateTime  Latitude  Longitude   Depth  Magnitude MagType   \n",
       "0  1976/01/15 11:55:32.54  39.04767   -122.931  19.435       1.95      Md  \\\n",
       "\n",
       "   NbStations  Gap  Distance   RMS Source  EventID  \n",
       "0           9  140         8  0.04   NCSN  1028378  "
      ]
     },
     "execution_count": 39,
     "metadata": {},
     "output_type": "execute_result"
    }
   ],
   "source": [
    "lp_info[lp_info[\"EventID\"]==1028378]"
   ]
  },
  {
   "attachments": {},
   "cell_type": "markdown",
   "metadata": {},
   "source": [
    "# Load tables"
   ]
  },
  {
   "cell_type": "code",
   "execution_count": 2,
   "metadata": {},
   "outputs": [
    {
     "name": "stdout",
     "output_type": "stream",
     "text": [
      "The default saving directory is used: /home/zhongyiyuan/DATA/my_data/ncedc\n",
      "/home/zhongyiyuan/DATA/my_data/ncedc exists\n"
     ]
    }
   ],
   "source": [
    "ncedc=volpick.data.NCEDCDataset()"
   ]
  },
  {
   "cell_type": "code",
   "execution_count": 72,
   "metadata": {},
   "outputs": [],
   "source": [
    "ncedc.read(format=\"quakeml\")"
   ]
  },
  {
   "cell_type": "code",
   "execution_count": null,
   "metadata": {},
   "outputs": [],
   "source": [
    "ncedc"
   ]
  },
  {
   "cell_type": "code",
   "execution_count": 74,
   "metadata": {},
   "outputs": [],
   "source": [
    "cat2 = ncedc.filter(\"time > 1997-10-14T04:31\",\n",
    "                  \"time < 1997-10-14T04:32\")"
   ]
  },
  {
   "cell_type": "code",
   "execution_count": 82,
   "metadata": {},
   "outputs": [
    {
     "data": {
      "text/plain": [
       "['NC', 'MDR', '02', 'EHZ']"
      ]
     },
     "execution_count": 82,
     "metadata": {},
     "output_type": "execute_result"
    }
   ],
   "source": [
    "cat2[0].picks[3].waveform_id.id.split(\".\")"
   ]
  },
  {
   "cell_type": "code",
   "execution_count": 3,
   "metadata": {},
   "outputs": [
    {
     "name": "stdout",
     "output_type": "stream",
     "text": [
      "The whole catalog includes 16402 waveforms, where there are\n",
      " 0 waveforms for regular earthquakes\n",
      " 16402 waveforms for long-period earthquakes\n"
     ]
    }
   ],
   "source": [
    "whole_catalog_lp=ncedc.read(format=\"csv\")\n",
    "print(f\"The whole catalog includes {len(whole_catalog_lp)} waveforms, where there are\")\n",
    "print(f\"\"\" {len(whole_catalog_lp[whole_catalog_lp[\"source_type\"]!=\"lp\"])} waveforms for regular earthquakes\"\"\")\n",
    "print(f\"\"\" {len(whole_catalog_lp[whole_catalog_lp[\"source_type\"]==\"lp\"])} waveforms for long-period earthquakes\"\"\")"
   ]
  },
  {
   "cell_type": "code",
   "execution_count": 4,
   "metadata": {},
   "outputs": [
    {
     "name": "stdout",
     "output_type": "stream",
     "text": [
      "1287\n"
     ]
    }
   ],
   "source": [
    "full_lp_events=extract_events(whole_catalog_lp)\n",
    "print(len(full_lp_events))"
   ]
  },
  {
   "cell_type": "code",
   "execution_count": 5,
   "metadata": {},
   "outputs": [
    {
     "data": {
      "text/html": [
       "<div>\n",
       "<style scoped>\n",
       "    .dataframe tbody tr th:only-of-type {\n",
       "        vertical-align: middle;\n",
       "    }\n",
       "\n",
       "    .dataframe tbody tr th {\n",
       "        vertical-align: top;\n",
       "    }\n",
       "\n",
       "    .dataframe thead th {\n",
       "        text-align: right;\n",
       "    }\n",
       "</style>\n",
       "<table border=\"1\" class=\"dataframe\">\n",
       "  <thead>\n",
       "    <tr style=\"text-align: right;\">\n",
       "      <th></th>\n",
       "      <th>source_id</th>\n",
       "      <th>source_origin_time</th>\n",
       "      <th>source_latitude_deg</th>\n",
       "      <th>source_longitude_deg</th>\n",
       "      <th>source_depth_km</th>\n",
       "      <th>source_magnitude</th>\n",
       "      <th>source_magnitude_type</th>\n",
       "      <th>source_type</th>\n",
       "      <th>station_network_code</th>\n",
       "      <th>station_code</th>\n",
       "      <th>station_location_code</th>\n",
       "      <th>trace_channel</th>\n",
       "      <th>trace_p_arrival_time</th>\n",
       "      <th>trace_s_arrival_time</th>\n",
       "      <th>trace_p_max_weight</th>\n",
       "      <th>trace_s_max_weight</th>\n",
       "      <th>trace_p_first_motion</th>\n",
       "    </tr>\n",
       "  </thead>\n",
       "  <tbody>\n",
       "    <tr>\n",
       "      <th>0</th>\n",
       "      <td>ncedc1028378</td>\n",
       "      <td>1976-01-15T11:55:32.540000Z</td>\n",
       "      <td>39.047667</td>\n",
       "      <td>-122.931000</td>\n",
       "      <td>19.43</td>\n",
       "      <td>1.95</td>\n",
       "      <td>Md</td>\n",
       "      <td>lp</td>\n",
       "      <td>NC</td>\n",
       "      <td>GCV</td>\n",
       "      <td>01</td>\n",
       "      <td>EH</td>\n",
       "      <td>1976-01-15T11:55:39.080000Z</td>\n",
       "      <td>NaN</td>\n",
       "      <td>1.64</td>\n",
       "      <td>NaN</td>\n",
       "      <td>NaN</td>\n",
       "    </tr>\n",
       "    <tr>\n",
       "      <th>2</th>\n",
       "      <td>ncedc1028378</td>\n",
       "      <td>1976-01-15T11:55:32.540000Z</td>\n",
       "      <td>39.047667</td>\n",
       "      <td>-122.931000</td>\n",
       "      <td>19.43</td>\n",
       "      <td>1.95</td>\n",
       "      <td>Md</td>\n",
       "      <td>lp</td>\n",
       "      <td>NC</td>\n",
       "      <td>GGL</td>\n",
       "      <td>--</td>\n",
       "      <td>EH</td>\n",
       "      <td>1976-01-15T11:55:37.790000Z</td>\n",
       "      <td>NaN</td>\n",
       "      <td>0.82</td>\n",
       "      <td>NaN</td>\n",
       "      <td>NaN</td>\n",
       "    </tr>\n",
       "    <tr>\n",
       "      <th>3</th>\n",
       "      <td>ncedc1028378</td>\n",
       "      <td>1976-01-15T11:55:32.540000Z</td>\n",
       "      <td>39.047667</td>\n",
       "      <td>-122.931000</td>\n",
       "      <td>19.43</td>\n",
       "      <td>1.95</td>\n",
       "      <td>Md</td>\n",
       "      <td>lp</td>\n",
       "      <td>NC</td>\n",
       "      <td>GHG</td>\n",
       "      <td>--</td>\n",
       "      <td>EH</td>\n",
       "      <td>1976-01-15T11:55:36.480000Z</td>\n",
       "      <td>NaN</td>\n",
       "      <td>1.64</td>\n",
       "      <td>NaN</td>\n",
       "      <td>U</td>\n",
       "    </tr>\n",
       "    <tr>\n",
       "      <th>4</th>\n",
       "      <td>ncedc1028378</td>\n",
       "      <td>1976-01-15T11:55:32.540000Z</td>\n",
       "      <td>39.047667</td>\n",
       "      <td>-122.931000</td>\n",
       "      <td>19.43</td>\n",
       "      <td>1.95</td>\n",
       "      <td>Md</td>\n",
       "      <td>lp</td>\n",
       "      <td>NC</td>\n",
       "      <td>GHL</td>\n",
       "      <td>--</td>\n",
       "      <td>EH</td>\n",
       "      <td>1976-01-15T11:55:36.030000Z</td>\n",
       "      <td>NaN</td>\n",
       "      <td>1.64</td>\n",
       "      <td>NaN</td>\n",
       "      <td>NaN</td>\n",
       "    </tr>\n",
       "    <tr>\n",
       "      <th>5</th>\n",
       "      <td>ncedc1028378</td>\n",
       "      <td>1976-01-15T11:55:32.540000Z</td>\n",
       "      <td>39.047667</td>\n",
       "      <td>-122.931000</td>\n",
       "      <td>19.43</td>\n",
       "      <td>1.95</td>\n",
       "      <td>Md</td>\n",
       "      <td>lp</td>\n",
       "      <td>NC</td>\n",
       "      <td>GMC</td>\n",
       "      <td>--</td>\n",
       "      <td>EH</td>\n",
       "      <td>1976-01-15T11:55:38.950000Z</td>\n",
       "      <td>NaN</td>\n",
       "      <td>0.32</td>\n",
       "      <td>NaN</td>\n",
       "      <td>NaN</td>\n",
       "    </tr>\n",
       "    <tr>\n",
       "      <th>...</th>\n",
       "      <td>...</td>\n",
       "      <td>...</td>\n",
       "      <td>...</td>\n",
       "      <td>...</td>\n",
       "      <td>...</td>\n",
       "      <td>...</td>\n",
       "      <td>...</td>\n",
       "      <td>...</td>\n",
       "      <td>...</td>\n",
       "      <td>...</td>\n",
       "      <td>...</td>\n",
       "      <td>...</td>\n",
       "      <td>...</td>\n",
       "      <td>...</td>\n",
       "      <td>...</td>\n",
       "      <td>...</td>\n",
       "      <td>...</td>\n",
       "    </tr>\n",
       "    <tr>\n",
       "      <th>16397</th>\n",
       "      <td>ncedc73313791</td>\n",
       "      <td>2019-12-12T05:44:22.330000Z</td>\n",
       "      <td>40.543333</td>\n",
       "      <td>-121.662667</td>\n",
       "      <td>16.86</td>\n",
       "      <td>0.72</td>\n",
       "      <td>Md</td>\n",
       "      <td>lp</td>\n",
       "      <td>NC</td>\n",
       "      <td>LDH</td>\n",
       "      <td>--</td>\n",
       "      <td>HH</td>\n",
       "      <td>2019-12-12T05:44:25.920000Z</td>\n",
       "      <td>2019-12-12T05:44:28.440000Z</td>\n",
       "      <td>0.28</td>\n",
       "      <td>1.41</td>\n",
       "      <td>NaN</td>\n",
       "    </tr>\n",
       "    <tr>\n",
       "      <th>16398</th>\n",
       "      <td>ncedc73313791</td>\n",
       "      <td>2019-12-12T05:44:22.330000Z</td>\n",
       "      <td>40.543333</td>\n",
       "      <td>-121.662667</td>\n",
       "      <td>16.86</td>\n",
       "      <td>0.72</td>\n",
       "      <td>Md</td>\n",
       "      <td>lp</td>\n",
       "      <td>NC</td>\n",
       "      <td>LEL</td>\n",
       "      <td>--</td>\n",
       "      <td>EH</td>\n",
       "      <td>2019-12-12T05:44:26.400000Z</td>\n",
       "      <td>2019-12-12T05:44:28.770000Z</td>\n",
       "      <td>1.41</td>\n",
       "      <td>0.04</td>\n",
       "      <td>U</td>\n",
       "    </tr>\n",
       "    <tr>\n",
       "      <th>16399</th>\n",
       "      <td>ncedc73313791</td>\n",
       "      <td>2019-12-12T05:44:22.330000Z</td>\n",
       "      <td>40.543333</td>\n",
       "      <td>-121.662667</td>\n",
       "      <td>16.86</td>\n",
       "      <td>0.72</td>\n",
       "      <td>Md</td>\n",
       "      <td>lp</td>\n",
       "      <td>NC</td>\n",
       "      <td>LRD</td>\n",
       "      <td>--</td>\n",
       "      <td>EH</td>\n",
       "      <td>2019-12-12T05:44:26.680000Z</td>\n",
       "      <td>2019-12-12T05:44:30.910000Z</td>\n",
       "      <td>0.28</td>\n",
       "      <td>1.41</td>\n",
       "      <td>NaN</td>\n",
       "    </tr>\n",
       "    <tr>\n",
       "      <th>16400</th>\n",
       "      <td>ncedc73313791</td>\n",
       "      <td>2019-12-12T05:44:22.330000Z</td>\n",
       "      <td>40.543333</td>\n",
       "      <td>-121.662667</td>\n",
       "      <td>16.86</td>\n",
       "      <td>0.72</td>\n",
       "      <td>Md</td>\n",
       "      <td>lp</td>\n",
       "      <td>NC</td>\n",
       "      <td>LRR</td>\n",
       "      <td>--</td>\n",
       "      <td>EH</td>\n",
       "      <td>2019-12-12T05:44:26.310000Z</td>\n",
       "      <td>2019-12-12T05:44:28.500000Z</td>\n",
       "      <td>1.41</td>\n",
       "      <td>1.41</td>\n",
       "      <td>U</td>\n",
       "    </tr>\n",
       "    <tr>\n",
       "      <th>16401</th>\n",
       "      <td>ncedc73313791</td>\n",
       "      <td>2019-12-12T05:44:22.330000Z</td>\n",
       "      <td>40.543333</td>\n",
       "      <td>-121.662667</td>\n",
       "      <td>16.86</td>\n",
       "      <td>0.72</td>\n",
       "      <td>Md</td>\n",
       "      <td>lp</td>\n",
       "      <td>NC</td>\n",
       "      <td>LSI</td>\n",
       "      <td>--</td>\n",
       "      <td>EH</td>\n",
       "      <td>2019-12-12T05:44:27.120000Z</td>\n",
       "      <td>2019-12-12T05:44:31.410000Z</td>\n",
       "      <td>1.41</td>\n",
       "      <td>0.14</td>\n",
       "      <td>U</td>\n",
       "    </tr>\n",
       "  </tbody>\n",
       "</table>\n",
       "<p>13511 rows × 17 columns</p>\n",
       "</div>"
      ],
      "text/plain": [
       "           source_id           source_origin_time  source_latitude_deg   \n",
       "0       ncedc1028378  1976-01-15T11:55:32.540000Z            39.047667  \\\n",
       "2       ncedc1028378  1976-01-15T11:55:32.540000Z            39.047667   \n",
       "3       ncedc1028378  1976-01-15T11:55:32.540000Z            39.047667   \n",
       "4       ncedc1028378  1976-01-15T11:55:32.540000Z            39.047667   \n",
       "5       ncedc1028378  1976-01-15T11:55:32.540000Z            39.047667   \n",
       "...              ...                          ...                  ...   \n",
       "16397  ncedc73313791  2019-12-12T05:44:22.330000Z            40.543333   \n",
       "16398  ncedc73313791  2019-12-12T05:44:22.330000Z            40.543333   \n",
       "16399  ncedc73313791  2019-12-12T05:44:22.330000Z            40.543333   \n",
       "16400  ncedc73313791  2019-12-12T05:44:22.330000Z            40.543333   \n",
       "16401  ncedc73313791  2019-12-12T05:44:22.330000Z            40.543333   \n",
       "\n",
       "       source_longitude_deg  source_depth_km  source_magnitude   \n",
       "0               -122.931000            19.43              1.95  \\\n",
       "2               -122.931000            19.43              1.95   \n",
       "3               -122.931000            19.43              1.95   \n",
       "4               -122.931000            19.43              1.95   \n",
       "5               -122.931000            19.43              1.95   \n",
       "...                     ...              ...               ...   \n",
       "16397           -121.662667            16.86              0.72   \n",
       "16398           -121.662667            16.86              0.72   \n",
       "16399           -121.662667            16.86              0.72   \n",
       "16400           -121.662667            16.86              0.72   \n",
       "16401           -121.662667            16.86              0.72   \n",
       "\n",
       "      source_magnitude_type source_type station_network_code station_code   \n",
       "0                        Md          lp                   NC          GCV  \\\n",
       "2                        Md          lp                   NC          GGL   \n",
       "3                        Md          lp                   NC          GHG   \n",
       "4                        Md          lp                   NC          GHL   \n",
       "5                        Md          lp                   NC          GMC   \n",
       "...                     ...         ...                  ...          ...   \n",
       "16397                    Md          lp                   NC          LDH   \n",
       "16398                    Md          lp                   NC          LEL   \n",
       "16399                    Md          lp                   NC          LRD   \n",
       "16400                    Md          lp                   NC          LRR   \n",
       "16401                    Md          lp                   NC          LSI   \n",
       "\n",
       "      station_location_code trace_channel         trace_p_arrival_time   \n",
       "0                        01            EH  1976-01-15T11:55:39.080000Z  \\\n",
       "2                        --            EH  1976-01-15T11:55:37.790000Z   \n",
       "3                        --            EH  1976-01-15T11:55:36.480000Z   \n",
       "4                        --            EH  1976-01-15T11:55:36.030000Z   \n",
       "5                        --            EH  1976-01-15T11:55:38.950000Z   \n",
       "...                     ...           ...                          ...   \n",
       "16397                    --            HH  2019-12-12T05:44:25.920000Z   \n",
       "16398                    --            EH  2019-12-12T05:44:26.400000Z   \n",
       "16399                    --            EH  2019-12-12T05:44:26.680000Z   \n",
       "16400                    --            EH  2019-12-12T05:44:26.310000Z   \n",
       "16401                    --            EH  2019-12-12T05:44:27.120000Z   \n",
       "\n",
       "              trace_s_arrival_time  trace_p_max_weight  trace_s_max_weight   \n",
       "0                              NaN                1.64                 NaN  \\\n",
       "2                              NaN                0.82                 NaN   \n",
       "3                              NaN                1.64                 NaN   \n",
       "4                              NaN                1.64                 NaN   \n",
       "5                              NaN                0.32                 NaN   \n",
       "...                            ...                 ...                 ...   \n",
       "16397  2019-12-12T05:44:28.440000Z                0.28                1.41   \n",
       "16398  2019-12-12T05:44:28.770000Z                1.41                0.04   \n",
       "16399  2019-12-12T05:44:30.910000Z                0.28                1.41   \n",
       "16400  2019-12-12T05:44:28.500000Z                1.41                1.41   \n",
       "16401  2019-12-12T05:44:31.410000Z                1.41                0.14   \n",
       "\n",
       "      trace_p_first_motion  \n",
       "0                      NaN  \n",
       "2                      NaN  \n",
       "3                        U  \n",
       "4                      NaN  \n",
       "5                      NaN  \n",
       "...                    ...  \n",
       "16397                  NaN  \n",
       "16398                    U  \n",
       "16399                  NaN  \n",
       "16400                    U  \n",
       "16401                    U  \n",
       "\n",
       "[13511 rows x 17 columns]"
      ]
     },
     "execution_count": 5,
     "metadata": {},
     "output_type": "execute_result"
    }
   ],
   "source": [
    "whole_catalog_lp[pd.notna(whole_catalog_lp[\"trace_p_max_weight\"])|pd.notna(whole_catalog_lp[\"trace_s_max_weight\"])]"
   ]
  },
  {
   "cell_type": "code",
   "execution_count": 20,
   "metadata": {},
   "outputs": [
    {
     "name": "stdout",
     "output_type": "stream",
     "text": [
      "There are 2891 waveforms whose arrival weights are 0\n"
     ]
    }
   ],
   "source": [
    "zero_weight_subcatalog=whole_catalog_lp[pd.isna(whole_catalog_lp[\"trace_p_max_weight\"])&pd.isna(whole_catalog_lp[\"trace_s_max_weight\"])]\n",
    "print(f\"There are {len(zero_weight_subcatalog)} waveforms whose arrival weights are 0\")"
   ]
  },
  {
   "cell_type": "code",
   "execution_count": 58,
   "metadata": {},
   "outputs": [
    {
     "name": "stdout",
     "output_type": "stream",
     "text": [
      "5422 waveforms have both P and S arrivals with nonzero weights\n",
      "including 0 regular earthquake waveforms\n",
      "and 5422 long-period earthquake waveforms\n"
     ]
    }
   ],
   "source": [
    "len_both_S_and_S=len(whole_catalog_lp[pd.notna(whole_catalog_lp[\"trace_p_arrival_time\"])&pd.notna(whole_catalog[\"trace_s_arrival_time\"])&pd.notna(whole_catalog_lp[\"trace_p_max_weight\"])&pd.notna(whole_catalog_lp[\"trace_s_max_weight\"])])\n",
    "len_both_S_and_S_rg=len(whole_catalog_lp[pd.notna(whole_catalog_lp[\"trace_p_arrival_time\"])&pd.notna(whole_catalog_lp[\"trace_s_arrival_time\"])&pd.notna(whole_catalog_lp[\"trace_p_max_weight\"])&pd.notna(whole_catalog_lp[\"trace_s_max_weight\"])&(whole_catalog_lp[\"source_type\"]!=\"lp\")])\n",
    "len_both_S_and_S_lp=len(whole_catalog_lp[pd.notna(whole_catalog_lp[\"trace_p_arrival_time\"])&pd.notna(whole_catalog_lp[\"trace_s_arrival_time\"])&pd.notna(whole_catalog_lp[\"trace_p_max_weight\"])&pd.notna(whole_catalog_lp[\"trace_s_max_weight\"])&(whole_catalog_lp[\"source_type\"]==\"lp\")])\n",
    "print(f\"{len_both_S_and_S} waveforms have both P and S arrivals with nonzero weights\")\n",
    "print(f\"including {len_both_S_and_S_rg} regular earthquake waveforms\")\n",
    "print(f\"and {len_both_S_and_S_lp} long-period earthquake waveforms\")"
   ]
  },
  {
   "cell_type": "code",
   "execution_count": 60,
   "metadata": {},
   "outputs": [
    {
     "data": {
      "text/plain": [
       "1140"
      ]
     },
     "execution_count": 60,
     "metadata": {},
     "output_type": "execute_result"
    }
   ],
   "source": [
    "len(whole_catalog_lp[pd.notna(whole_catalog_lp[\"trace_p_arrival_time\"])&pd.notna(whole_catalog[\"trace_s_arrival_time\"])&pd.notna(whole_catalog_lp[\"trace_p_max_weight\"])&pd.notna(whole_catalog_lp[\"trace_s_max_weight\"])].drop_duplicates(subset=\"source_id\",keep=\"first\",inplace=False))"
   ]
  },
  {
   "cell_type": "code",
   "execution_count": 91,
   "metadata": {},
   "outputs": [
    {
     "data": {
      "text/plain": [
       "0        01\n",
       "1        --\n",
       "2        --\n",
       "3        --\n",
       "4        --\n",
       "         ..\n",
       "16397    --\n",
       "16398    --\n",
       "16399    --\n",
       "16400    --\n",
       "16401    --\n",
       "Name: station_location_code, Length: 16402, dtype: object"
      ]
     },
     "execution_count": 91,
     "metadata": {},
     "output_type": "execute_result"
    }
   ],
   "source": [
    "whole_catalog_lp[\"station_location_code\"]"
   ]
  },
  {
   "cell_type": "code",
   "execution_count": 6,
   "metadata": {},
   "outputs": [],
   "source": [
    "same_station_catalog=whole_catalog_lp[whole_catalog_lp.duplicated(subset=[\"source_id\",\"station_network_code\",\"station_code\"],keep=False)]\n",
    "same_station_catalog.to_csv(\"same_station_ncedc.csv\",index=False)"
   ]
  },
  {
   "cell_type": "code",
   "execution_count": 7,
   "metadata": {},
   "outputs": [
    {
     "data": {
      "text/plain": [
       "336"
      ]
     },
     "execution_count": 7,
     "metadata": {},
     "output_type": "execute_result"
    }
   ],
   "source": [
    "len(same_station_catalog)"
   ]
  },
  {
   "cell_type": "code",
   "execution_count": 8,
   "metadata": {},
   "outputs": [
    {
     "name": "stdout",
     "output_type": "stream",
     "text": [
      "1287 events\n"
     ]
    }
   ],
   "source": [
    "whole_event_table=whole_catalog_lp.drop_duplicates(subset=\"source_id\",keep=\"first\",ignore_index=True).copy()\n",
    "print(f\"{len(whole_event_table)} events\")"
   ]
  },
  {
   "cell_type": "code",
   "execution_count": 9,
   "metadata": {},
   "outputs": [
    {
     "data": {
      "text/plain": [
       "True"
      ]
     },
     "execution_count": 9,
     "metadata": {},
     "output_type": "execute_result"
    }
   ],
   "source": [
    "# check completeness\n",
    "whole_catalog_with_P_S=whole_catalog_lp[ (pd.notna(whole_catalog_lp[\"trace_s_arrival_time\"])) & (pd.notna(whole_catalog_lp[\"trace_p_arrival_time\"])) ]\n",
    "\n",
    "download_table=pd.read_csv(ncedc.save_dir/\"mseed_log\"/\"downloads.csv\")\n",
    "failed_downloads=pd.read_csv(ncedc.save_dir/\"mseed_log\"/\"failed_downloads.csv\")\n",
    "abnormal_traces=pd.read_csv(ncedc.save_dir/\"mseed_log\"/\"abnormal_traces.csv\")\n",
    "\n",
    "len(download_table)+len(failed_downloads)+len(abnormal_traces)==len(whole_catalog_with_P_S)"
   ]
  },
  {
   "cell_type": "code",
   "execution_count": null,
   "metadata": {},
   "outputs": [],
   "source": []
  },
  {
   "cell_type": "code",
   "execution_count": 10,
   "metadata": {},
   "outputs": [
    {
     "data": {
      "text/plain": [
       "5422"
      ]
     },
     "execution_count": 10,
     "metadata": {},
     "output_type": "execute_result"
    }
   ],
   "source": [
    "len(whole_catalog_with_P_S)"
   ]
  },
  {
   "attachments": {},
   "cell_type": "markdown",
   "metadata": {},
   "source": [
    "# Downloading log"
   ]
  },
  {
   "cell_type": "code",
   "execution_count": 6,
   "metadata": {},
   "outputs": [
    {
     "name": "stdout",
     "output_type": "stream",
     "text": [
      "4856 seismograms have been downloaded sucessfully.\n",
      " 0 waveforms of regular earthquakes\n",
      " 4856 waveforms of long-period earthquakes\n"
     ]
    }
   ],
   "source": [
    "download_table=pd.read_csv(ncedc.save_dir/\"mseed_log\"/\"downloads.csv\")\n",
    "print(f\"{len(download_table)} seismograms have been downloaded sucessfully.\")\n",
    "print(f\"\"\" {len(download_table[download_table[\"source_type\"]!=\"lp\"])} waveforms of regular earthquakes\"\"\")\n",
    "print(f\"\"\" {len(download_table[download_table[\"source_type\"]==\"lp\"])} waveforms of long-period earthquakes\"\"\")"
   ]
  },
  {
   "cell_type": "code",
   "execution_count": 24,
   "metadata": {},
   "outputs": [],
   "source": [
    "x=ncedc.save_dir/\"mseed\""
   ]
  },
  {
   "cell_type": "code",
   "execution_count": 30,
   "metadata": {},
   "outputs": [
    {
     "data": {
      "text/plain": [
       "PosixPath('/home/zhongyiyuan/DATA/my_data/ncedc/mseed')"
      ]
     },
     "execution_count": 30,
     "metadata": {},
     "output_type": "execute_result"
    }
   ],
   "source": [
    "x"
   ]
  },
  {
   "cell_type": "code",
   "execution_count": 29,
   "metadata": {},
   "outputs": [
    {
     "data": {
      "text/plain": [
       "PosixPath('/home/zhongyiyuan/DATA/my_data/ncedc/mseed_log')"
      ]
     },
     "execution_count": 29,
     "metadata": {},
     "output_type": "execute_result"
    }
   ],
   "source": [
    "x.parent/f\"{x.name}_log\""
   ]
  },
  {
   "cell_type": "code",
   "execution_count": 27,
   "metadata": {},
   "outputs": [
    {
     "data": {
      "text/plain": [
       "PosixPath('/home/zhongyiyuan/DATA/my_data/ncedc/mseed_log')"
      ]
     },
     "execution_count": 27,
     "metadata": {},
     "output_type": "execute_result"
    }
   ],
   "source": [
    "ncedc.save_dir/f\"{x.name}_log\""
   ]
  },
  {
   "cell_type": "code",
   "execution_count": 14,
   "metadata": {},
   "outputs": [
    {
     "data": {
      "text/plain": [
       "60"
      ]
     },
     "execution_count": 14,
     "metadata": {},
     "output_type": "execute_result"
    }
   ],
   "source": []
  },
  {
   "cell_type": "code",
   "execution_count": 58,
   "metadata": {},
   "outputs": [],
   "source": [
    "event_table=download_table.drop_duplicates(subset=\"source_id\",keep=\"first\",ignore_index=True).copy()"
   ]
  },
  {
   "cell_type": "code",
   "execution_count": 60,
   "metadata": {},
   "outputs": [
    {
     "name": "stdout",
     "output_type": "stream",
     "text": [
      "1108 events\n"
     ]
    }
   ],
   "source": [
    "print(f\"{len(event_table)} events\")"
   ]
  },
  {
   "cell_type": "code",
   "execution_count": 43,
   "metadata": {},
   "outputs": [
    {
     "data": {
      "text/html": [
       "<div>\n",
       "<style scoped>\n",
       "    .dataframe tbody tr th:only-of-type {\n",
       "        vertical-align: middle;\n",
       "    }\n",
       "\n",
       "    .dataframe tbody tr th {\n",
       "        vertical-align: top;\n",
       "    }\n",
       "\n",
       "    .dataframe thead th {\n",
       "        text-align: right;\n",
       "    }\n",
       "</style>\n",
       "<table border=\"1\" class=\"dataframe\">\n",
       "  <thead>\n",
       "    <tr style=\"text-align: right;\">\n",
       "      <th></th>\n",
       "      <th>station_network_code</th>\n",
       "      <th>station_code</th>\n",
       "      <th>station_location_code</th>\n",
       "      <th>trace_channel</th>\n",
       "    </tr>\n",
       "  </thead>\n",
       "  <tbody>\n",
       "    <tr>\n",
       "      <th>0</th>\n",
       "      <td>BK</td>\n",
       "      <td>MIN</td>\n",
       "      <td>N1</td>\n",
       "      <td>EH</td>\n",
       "    </tr>\n",
       "    <tr>\n",
       "      <th>1</th>\n",
       "      <td>NC</td>\n",
       "      <td>LHC</td>\n",
       "      <td>--</td>\n",
       "      <td>EH</td>\n",
       "    </tr>\n",
       "    <tr>\n",
       "      <th>2</th>\n",
       "      <td>NC</td>\n",
       "      <td>LHK</td>\n",
       "      <td>--</td>\n",
       "      <td>EH</td>\n",
       "    </tr>\n",
       "    <tr>\n",
       "      <th>3</th>\n",
       "      <td>NC</td>\n",
       "      <td>LMZ</td>\n",
       "      <td>--</td>\n",
       "      <td>EH</td>\n",
       "    </tr>\n",
       "    <tr>\n",
       "      <th>4</th>\n",
       "      <td>NC</td>\n",
       "      <td>LSL</td>\n",
       "      <td>--</td>\n",
       "      <td>EH</td>\n",
       "    </tr>\n",
       "    <tr>\n",
       "      <th>...</th>\n",
       "      <td>...</td>\n",
       "      <td>...</td>\n",
       "      <td>...</td>\n",
       "      <td>...</td>\n",
       "    </tr>\n",
       "    <tr>\n",
       "      <th>6179</th>\n",
       "      <td>BK</td>\n",
       "      <td>DANT</td>\n",
       "      <td>00</td>\n",
       "      <td>HH</td>\n",
       "    </tr>\n",
       "    <tr>\n",
       "      <th>6180</th>\n",
       "      <td>NC</td>\n",
       "      <td>LDH</td>\n",
       "      <td>--</td>\n",
       "      <td>HH</td>\n",
       "    </tr>\n",
       "    <tr>\n",
       "      <th>6181</th>\n",
       "      <td>NC</td>\n",
       "      <td>LEL</td>\n",
       "      <td>--</td>\n",
       "      <td>EH</td>\n",
       "    </tr>\n",
       "    <tr>\n",
       "      <th>6182</th>\n",
       "      <td>NC</td>\n",
       "      <td>LRD</td>\n",
       "      <td>--</td>\n",
       "      <td>EH</td>\n",
       "    </tr>\n",
       "    <tr>\n",
       "      <th>6183</th>\n",
       "      <td>NC</td>\n",
       "      <td>LSI</td>\n",
       "      <td>--</td>\n",
       "      <td>EH</td>\n",
       "    </tr>\n",
       "  </tbody>\n",
       "</table>\n",
       "<p>6184 rows × 4 columns</p>\n",
       "</div>"
      ],
      "text/plain": [
       "     station_network_code station_code station_location_code trace_channel\n",
       "0                      BK          MIN                    N1            EH\n",
       "1                      NC          LHC                    --            EH\n",
       "2                      NC          LHK                    --            EH\n",
       "3                      NC          LMZ                    --            EH\n",
       "4                      NC          LSL                    --            EH\n",
       "...                   ...          ...                   ...           ...\n",
       "6179                   BK         DANT                    00            HH\n",
       "6180                   NC          LDH                    --            HH\n",
       "6181                   NC          LEL                    --            EH\n",
       "6182                   NC          LRD                    --            EH\n",
       "6183                   NC          LSI                    --            EH\n",
       "\n",
       "[6184 rows x 4 columns]"
      ]
     },
     "execution_count": 43,
     "metadata": {},
     "output_type": "execute_result"
    }
   ],
   "source": [
    "download_table[[\"station_network_code\",\"station_code\",\"station_location_code\",\"trace_channel\"]]"
   ]
  },
  {
   "attachments": {},
   "cell_type": "markdown",
   "metadata": {},
   "source": [
    "# Failed downloads"
   ]
  },
  {
   "cell_type": "code",
   "execution_count": 25,
   "metadata": {},
   "outputs": [],
   "source": [
    "failed_downloads=pd.read_csv(ncedc.save_dir/\"mseed_log\"/\"failed_downloads.csv\")"
   ]
  },
  {
   "cell_type": "code",
   "execution_count": 26,
   "metadata": {},
   "outputs": [
    {
     "name": "stdout",
     "output_type": "stream",
     "text": [
      "0 failed downloads are not due to FDSNNoDataException\n",
      "225 FDSNNoDataException\n"
     ]
    }
   ],
   "source": [
    "solvable_errors=failed_downloads[~failed_downloads[\"Error\"].isin([\"FDSNNoDataException\"])]\n",
    "nodata_errors=failed_downloads[failed_downloads[\"Error\"]==\"FDSNNoDataException\"]\n",
    "print(f\"{len(solvable_errors)} failed downloads are not due to FDSNNoDataException\")\n",
    "print(f\"{len(nodata_errors)} FDSNNoDataException\")"
   ]
  },
  {
   "cell_type": "code",
   "execution_count": 46,
   "metadata": {},
   "outputs": [
    {
     "data": {
      "text/html": [
       "<div>\n",
       "<style scoped>\n",
       "    .dataframe tbody tr th:only-of-type {\n",
       "        vertical-align: middle;\n",
       "    }\n",
       "\n",
       "    .dataframe tbody tr th {\n",
       "        vertical-align: top;\n",
       "    }\n",
       "\n",
       "    .dataframe thead th {\n",
       "        text-align: right;\n",
       "    }\n",
       "</style>\n",
       "<table border=\"1\" class=\"dataframe\">\n",
       "  <thead>\n",
       "    <tr style=\"text-align: right;\">\n",
       "      <th></th>\n",
       "      <th>source_id</th>\n",
       "      <th>source_origin_time</th>\n",
       "      <th>source_latitude_deg</th>\n",
       "      <th>source_longitude_deg</th>\n",
       "      <th>source_depth_km</th>\n",
       "      <th>source_magnitude</th>\n",
       "      <th>source_magnitude_type</th>\n",
       "      <th>source_type</th>\n",
       "      <th>station_network_code</th>\n",
       "      <th>station_code</th>\n",
       "      <th>...</th>\n",
       "      <th>trace_p_min_weight</th>\n",
       "      <th>trace_s_min_weight</th>\n",
       "      <th>trace_p_first_motion</th>\n",
       "      <th>station_latitude_deg</th>\n",
       "      <th>station_longitude_deg</th>\n",
       "      <th>station_elevation_m</th>\n",
       "      <th>station_epicentral_distance_m</th>\n",
       "      <th>path_azimuth_deg</th>\n",
       "      <th>path_back_azimuth_deg</th>\n",
       "      <th>Error</th>\n",
       "    </tr>\n",
       "  </thead>\n",
       "  <tbody>\n",
       "  </tbody>\n",
       "</table>\n",
       "<p>0 rows × 24 columns</p>\n",
       "</div>"
      ],
      "text/plain": [
       "Empty DataFrame\n",
       "Columns: [source_id, source_origin_time, source_latitude_deg, source_longitude_deg, source_depth_km, source_magnitude, source_magnitude_type, source_type, station_network_code, station_code, station_location_code, trace_channel, trace_p_arrival_time, trace_s_arrival_time, trace_p_min_weight, trace_s_min_weight, trace_p_first_motion, station_latitude_deg, station_longitude_deg, station_elevation_m, station_epicentral_distance_m, path_azimuth_deg, path_back_azimuth_deg, Error]\n",
       "Index: []\n",
       "\n",
       "[0 rows x 24 columns]"
      ]
     },
     "execution_count": 46,
     "metadata": {},
     "output_type": "execute_result"
    }
   ],
   "source": [
    "solvable_errors"
   ]
  },
  {
   "attachments": {},
   "cell_type": "markdown",
   "metadata": {},
   "source": [
    "# Abnormal traces"
   ]
  },
  {
   "cell_type": "code",
   "execution_count": 27,
   "metadata": {},
   "outputs": [],
   "source": [
    "abnormal_traces=pd.read_csv(ncedc.save_dir/\"mseed_log\"/\"abnormal_traces.csv\")"
   ]
  },
  {
   "cell_type": "code",
   "execution_count": 41,
   "metadata": {},
   "outputs": [],
   "source": [
    "not_in_inventory=abnormal_traces[abnormal_traces[\"remark\"]==\"not_in_inventory\"][[\"station_network_code\",\"station_code\",\"station_location_code\",\"trace_channel\", \"trace_p_arrival_time\", \"trace_s_arrival_time\"]]\n",
    "no_waveforms=abnormal_traces[abnormal_traces[\"remark\"]==\"No_waveforms\"][[\"station_network_code\",\"station_code\",\"station_location_code\",\"trace_channel\", \"trace_p_arrival_time\", \"trace_s_arrival_time\"]]\n",
    "p_lt_origin=abnormal_traces[abnormal_traces[\"remark\"]==\"P<origin\"][[\"station_network_code\",\"station_code\",\"station_location_code\",\"trace_channel\", \"trace_p_arrival_time\", \"trace_s_arrival_time\"]]\n",
    "phases_in_gap=abnormal_traces[abnormal_traces[\"remark\"]==\"phases_in_gap\"][[\"station_network_code\",\"station_code\",\"station_location_code\",\"trace_channel\", \"trace_p_arrival_time\", \"trace_s_arrival_time\"]]"
   ]
  },
  {
   "cell_type": "code",
   "execution_count": 45,
   "metadata": {},
   "outputs": [
    {
     "name": "stdout",
     "output_type": "stream",
     "text": [
      "0\n",
      "304\n",
      "8\n",
      "29\n"
     ]
    }
   ],
   "source": [
    "print(len(not_in_inventory))\n",
    "print(len(no_waveforms))\n",
    "print(len(p_lt_origin))\n",
    "print(len(phases_in_gap))"
   ]
  },
  {
   "cell_type": "code",
   "execution_count": 43,
   "metadata": {},
   "outputs": [
    {
     "name": "stdout",
     "output_type": "stream",
     "text": [
      "304\n"
     ]
    }
   ],
   "source": [
    "print(len(no_waveforms))"
   ]
  },
  {
   "cell_type": "code",
   "execution_count": 44,
   "metadata": {},
   "outputs": [
    {
     "data": {
      "text/plain": [
       "8"
      ]
     },
     "execution_count": 44,
     "metadata": {},
     "output_type": "execute_result"
    }
   ],
   "source": [
    "len(p_lt_origin)"
   ]
  },
  {
   "cell_type": "code",
   "execution_count": null,
   "metadata": {},
   "outputs": [],
   "source": []
  },
  {
   "cell_type": "code",
   "execution_count": 30,
   "metadata": {},
   "outputs": [
    {
     "data": {
      "text/plain": [
       "341"
      ]
     },
     "execution_count": 30,
     "metadata": {},
     "output_type": "execute_result"
    }
   ],
   "source": [
    "len(abnormal_traces)"
   ]
  },
  {
   "cell_type": "code",
   "execution_count": 32,
   "metadata": {},
   "outputs": [
    {
     "data": {
      "text/plain": [
       "array(['No_waveforms', 'P<origin', 'phases_in_gap'], dtype=object)"
      ]
     },
     "execution_count": 32,
     "metadata": {},
     "output_type": "execute_result"
    }
   ],
   "source": [
    "np.unique(abnormal_traces[\"remark\"].to_numpy())"
   ]
  },
  {
   "cell_type": "code",
   "execution_count": 16,
   "metadata": {},
   "outputs": [],
   "source": [
    "from obspy.clients.fdsn import RoutingClient\n",
    "client = RoutingClient(\"iris-federator\")"
   ]
  },
  {
   "cell_type": "code",
   "execution_count": 30,
   "metadata": {},
   "outputs": [
    {
     "data": {
      "text/plain": [
       "Inventory created at 2023-06-12T09:43:22.224700Z\n",
       "\tCreated by: IRIS WEB SERVICE: fdsnws-station | version: 1.1.52\n",
       "\t\t    http://service.iris.edu/fdsnws/station/1/query?network=BK&station=C...\n",
       "\tSending institution: IRIS-DMC (IRIS-DMC)\n",
       "\tContains:\n",
       "\t\tNetworks (1):\n",
       "\t\t\tBK\n",
       "\t\tStations (2):\n",
       "\t\t\tBK.CMB (Columbia College, Columbia, CA, USA) (2x)\n",
       "\t\tChannels (0):\n"
      ]
     },
     "execution_count": 30,
     "metadata": {},
     "output_type": "execute_result"
    }
   ],
   "source": [
    "client=Client(\"IRIS\")\n",
    "client.get_stations(network=\"BK\",station=\"CMB\",location=\"--\")"
   ]
  },
  {
   "cell_type": "code",
   "execution_count": 29,
   "metadata": {},
   "outputs": [
    {
     "data": {
      "text/plain": [
       "Inventory created at 2023-06-12T02:42:52.000000Z\n",
       "\tCreated by: NCEDC WEB SERVICE: fdsnws-station | version: 1.2\n",
       "\t\t    http://service.ncedc.org/fdsnws/station/1/query?net=BK&sta=CMB&leve...\n",
       "\tSending institution: NCEDC (NCEDC)\n",
       "\tContains:\n",
       "\t\tNetworks (1):\n",
       "\t\t\tBK\n",
       "\t\tStations (2):\n",
       "\t\t\tBK.CMB (Columbia College, Columbia, CA, USA) (2x)\n",
       "\t\tChannels (0):\n"
      ]
     },
     "execution_count": 29,
     "metadata": {},
     "output_type": "execute_result"
    }
   ],
   "source": [
    "client=Client(\"NCEDC\")\n",
    "client.get_stations(network=\"BK\",station=\"CMB\",location=\"--\")"
   ]
  },
  {
   "cell_type": "code",
   "execution_count": 21,
   "metadata": {},
   "outputs": [
    {
     "data": {
      "text/plain": [
       "Inventory created at 2023-06-12T09:28:36.312326Z\n",
       "\tCreated by: ObsPy 1.4.0\n",
       "\t\t    https://www.obspy.org\n",
       "\tSending institution: NCEDC,ObsPy FDSN Routing 1.4.0,SCEDC (NCEDC,SCEDC)\n",
       "\tContains:\n",
       "\t\tNetworks (2):\n",
       "\t\t\tWR (2x)\n",
       "\t\tStations (2):\n",
       "\t\t\tWR.MGL (Magalia) (2x)\n",
       "\t\tChannels (0):\n"
      ]
     },
     "execution_count": 21,
     "metadata": {},
     "output_type": "execute_result"
    }
   ],
   "source": [
    "client.get_stations(network=\"WR\",station=\"MGL\",location=\"N1\")"
   ]
  },
  {
   "cell_type": "code",
   "execution_count": 22,
   "metadata": {},
   "outputs": [
    {
     "ename": "FDSNException",
     "evalue": "Unknown HTTP code: 404\nDetailed response of server:\n\n -- Error 404: No data matched request.\nRequest:\nhttp://service.iris.edu/irisws/fedcatalog/1/query\nRequest Submitted:\n2023/06/12 09:32:46 UTC\nService version:\nService: irisws-fedcatalog  version: 1.1.17",
     "output_type": "error",
     "traceback": [
      "\u001b[0;31m---------------------------------------------------------------------------\u001b[0m",
      "\u001b[0;31mFDSNException\u001b[0m                             Traceback (most recent call last)",
      "Cell \u001b[0;32mIn[22], line 1\u001b[0m\n\u001b[0;32m----> 1\u001b[0m client\u001b[39m.\u001b[39;49mget_stations(network\u001b[39m=\u001b[39;49m\u001b[39m\"\u001b[39;49m\u001b[39mAK\u001b[39;49m\u001b[39m\"\u001b[39;49m,station\u001b[39m=\u001b[39;49m\u001b[39m\"\u001b[39;49m\u001b[39mSDG\u001b[39;49m\u001b[39m\"\u001b[39;49m,location\u001b[39m=\u001b[39;49m\u001b[39m\"\u001b[39;49m\u001b[39m--\u001b[39;49m\u001b[39m\"\u001b[39;49m)\n",
      "File \u001b[0;32m~/miniconda3/envs/seisbench_v0.4/lib/python3.9/site-packages/decorator.py:232\u001b[0m, in \u001b[0;36mdecorate.<locals>.fun\u001b[0;34m(*args, **kw)\u001b[0m\n\u001b[1;32m    230\u001b[0m \u001b[39mif\u001b[39;00m \u001b[39mnot\u001b[39;00m kwsyntax:\n\u001b[1;32m    231\u001b[0m     args, kw \u001b[39m=\u001b[39m fix(args, kw, sig)\n\u001b[0;32m--> 232\u001b[0m \u001b[39mreturn\u001b[39;00m caller(func, \u001b[39m*\u001b[39;49m(extras \u001b[39m+\u001b[39;49m args), \u001b[39m*\u001b[39;49m\u001b[39m*\u001b[39;49mkw)\n",
      "File \u001b[0;32m~/miniconda3/envs/seisbench_v0.4/lib/python3.9/site-packages/obspy/clients/fdsn/routing/routing_client.py:85\u001b[0m, in \u001b[0;36m_assert_filename_not_in_kwargs\u001b[0;34m(f, *args, **kwargs)\u001b[0m\n\u001b[1;32m     83\u001b[0m \u001b[39mif\u001b[39;00m \u001b[39m\"\u001b[39m\u001b[39mfilename\u001b[39m\u001b[39m\"\u001b[39m \u001b[39min\u001b[39;00m kwargs:\n\u001b[1;32m     84\u001b[0m     \u001b[39mraise\u001b[39;00m \u001b[39mValueError\u001b[39;00m(\u001b[39m\"\u001b[39m\u001b[39mThe `filename` argument is not supported\u001b[39m\u001b[39m\"\u001b[39m)\n\u001b[0;32m---> 85\u001b[0m \u001b[39mreturn\u001b[39;00m f(\u001b[39m*\u001b[39;49margs, \u001b[39m*\u001b[39;49m\u001b[39m*\u001b[39;49mkwargs)\n",
      "File \u001b[0;32m~/miniconda3/envs/seisbench_v0.4/lib/python3.9/site-packages/obspy/clients/fdsn/routing/federator_routing_client.py:106\u001b[0m, in \u001b[0;36mFederatorRoutingClient.get_stations\u001b[0;34m(self, **kwargs)\u001b[0m\n\u001b[1;32m     89\u001b[0m \u001b[39m@_assert_filename_not_in_kwargs\u001b[39m\n\u001b[1;32m     90\u001b[0m \u001b[39mdef\u001b[39;00m \u001b[39mget_stations\u001b[39m(\u001b[39mself\u001b[39m, \u001b[39m*\u001b[39m\u001b[39m*\u001b[39mkwargs):\n\u001b[1;32m     91\u001b[0m \u001b[39m    \u001b[39m\u001b[39m\"\"\"\u001b[39;00m\n\u001b[1;32m     92\u001b[0m \u001b[39m    Get stations from multiple data centers.\u001b[39;00m\n\u001b[1;32m     93\u001b[0m \n\u001b[0;32m   (...)\u001b[0m\n\u001b[1;32m    104\u001b[0m \u001b[39m    for details.\u001b[39;00m\n\u001b[1;32m    105\u001b[0m \u001b[39m    \"\"\"\u001b[39;00m\n\u001b[0;32m--> 106\u001b[0m     \u001b[39mreturn\u001b[39;00m \u001b[39msuper\u001b[39;49m(FederatorRoutingClient, \u001b[39mself\u001b[39;49m)\u001b[39m.\u001b[39;49mget_stations(\u001b[39m*\u001b[39;49m\u001b[39m*\u001b[39;49mkwargs)\n",
      "File \u001b[0;32m~/miniconda3/envs/seisbench_v0.4/lib/python3.9/site-packages/decorator.py:232\u001b[0m, in \u001b[0;36mdecorate.<locals>.fun\u001b[0;34m(*args, **kw)\u001b[0m\n\u001b[1;32m    230\u001b[0m \u001b[39mif\u001b[39;00m \u001b[39mnot\u001b[39;00m kwsyntax:\n\u001b[1;32m    231\u001b[0m     args, kw \u001b[39m=\u001b[39m fix(args, kw, sig)\n\u001b[0;32m--> 232\u001b[0m \u001b[39mreturn\u001b[39;00m caller(func, \u001b[39m*\u001b[39;49m(extras \u001b[39m+\u001b[39;49m args), \u001b[39m*\u001b[39;49m\u001b[39m*\u001b[39;49mkw)\n",
      "File \u001b[0;32m~/miniconda3/envs/seisbench_v0.4/lib/python3.9/site-packages/obspy/clients/fdsn/routing/routing_client.py:85\u001b[0m, in \u001b[0;36m_assert_filename_not_in_kwargs\u001b[0;34m(f, *args, **kwargs)\u001b[0m\n\u001b[1;32m     83\u001b[0m \u001b[39mif\u001b[39;00m \u001b[39m\"\u001b[39m\u001b[39mfilename\u001b[39m\u001b[39m\"\u001b[39m \u001b[39min\u001b[39;00m kwargs:\n\u001b[1;32m     84\u001b[0m     \u001b[39mraise\u001b[39;00m \u001b[39mValueError\u001b[39;00m(\u001b[39m\"\u001b[39m\u001b[39mThe `filename` argument is not supported\u001b[39m\u001b[39m\"\u001b[39m)\n\u001b[0;32m---> 85\u001b[0m \u001b[39mreturn\u001b[39;00m f(\u001b[39m*\u001b[39;49margs, \u001b[39m*\u001b[39;49m\u001b[39m*\u001b[39;49mkwargs)\n",
      "File \u001b[0;32m~/miniconda3/envs/seisbench_v0.4/lib/python3.9/site-packages/obspy/clients/fdsn/routing/routing_client.py:374\u001b[0m, in \u001b[0;36mBaseRoutingClient.get_stations\u001b[0;34m(self, **kwargs)\u001b[0m\n\u001b[1;32m    370\u001b[0m \u001b[39m# Just pass these to the bulk request.\u001b[39;00m\n\u001b[1;32m    371\u001b[0m bulk \u001b[39m=\u001b[39m [kwargs\u001b[39m.\u001b[39mpop(key, \u001b[39m'\u001b[39m\u001b[39m*\u001b[39m\u001b[39m'\u001b[39m) \u001b[39mfor\u001b[39;00m key \u001b[39min\u001b[39;00m (\n\u001b[1;32m    372\u001b[0m         \u001b[39m\"\u001b[39m\u001b[39mnetwork\u001b[39m\u001b[39m\"\u001b[39m, \u001b[39m\"\u001b[39m\u001b[39mstation\u001b[39m\u001b[39m\"\u001b[39m, \u001b[39m\"\u001b[39m\u001b[39mlocation\u001b[39m\u001b[39m\"\u001b[39m, \u001b[39m\"\u001b[39m\u001b[39mchannel\u001b[39m\u001b[39m\"\u001b[39m, \u001b[39m\"\u001b[39m\u001b[39mstarttime\u001b[39m\u001b[39m\"\u001b[39m,\n\u001b[1;32m    373\u001b[0m         \u001b[39m\"\u001b[39m\u001b[39mendtime\u001b[39m\u001b[39m\"\u001b[39m)]\n\u001b[0;32m--> 374\u001b[0m \u001b[39mreturn\u001b[39;00m \u001b[39mself\u001b[39;49m\u001b[39m.\u001b[39;49mget_stations_bulk([bulk], \u001b[39m*\u001b[39;49m\u001b[39m*\u001b[39;49mkwargs)\n",
      "File \u001b[0;32m~/miniconda3/envs/seisbench_v0.4/lib/python3.9/site-packages/decorator.py:232\u001b[0m, in \u001b[0;36mdecorate.<locals>.fun\u001b[0;34m(*args, **kw)\u001b[0m\n\u001b[1;32m    230\u001b[0m \u001b[39mif\u001b[39;00m \u001b[39mnot\u001b[39;00m kwsyntax:\n\u001b[1;32m    231\u001b[0m     args, kw \u001b[39m=\u001b[39m fix(args, kw, sig)\n\u001b[0;32m--> 232\u001b[0m \u001b[39mreturn\u001b[39;00m caller(func, \u001b[39m*\u001b[39;49m(extras \u001b[39m+\u001b[39;49m args), \u001b[39m*\u001b[39;49m\u001b[39m*\u001b[39;49mkw)\n",
      "File \u001b[0;32m~/miniconda3/envs/seisbench_v0.4/lib/python3.9/site-packages/obspy/clients/fdsn/routing/routing_client.py:85\u001b[0m, in \u001b[0;36m_assert_filename_not_in_kwargs\u001b[0;34m(f, *args, **kwargs)\u001b[0m\n\u001b[1;32m     83\u001b[0m \u001b[39mif\u001b[39;00m \u001b[39m\"\u001b[39m\u001b[39mfilename\u001b[39m\u001b[39m\"\u001b[39m \u001b[39min\u001b[39;00m kwargs:\n\u001b[1;32m     84\u001b[0m     \u001b[39mraise\u001b[39;00m \u001b[39mValueError\u001b[39;00m(\u001b[39m\"\u001b[39m\u001b[39mThe `filename` argument is not supported\u001b[39m\u001b[39m\"\u001b[39m)\n\u001b[0;32m---> 85\u001b[0m \u001b[39mreturn\u001b[39;00m f(\u001b[39m*\u001b[39;49margs, \u001b[39m*\u001b[39;49m\u001b[39m*\u001b[39;49mkwargs)\n",
      "File \u001b[0;32m~/miniconda3/envs/seisbench_v0.4/lib/python3.9/site-packages/obspy/clients/fdsn/routing/federator_routing_client.py:139\u001b[0m, in \u001b[0;36mFederatorRoutingClient.get_stations_bulk\u001b[0;34m(self, bulk, **kwargs)\u001b[0m\n\u001b[1;32m    136\u001b[0m params[\u001b[39m\"\u001b[39m\u001b[39mformat\u001b[39m\u001b[39m\"\u001b[39m] \u001b[39m=\u001b[39m \u001b[39m\"\u001b[39m\u001b[39mrequest\u001b[39m\u001b[39m\"\u001b[39m\n\u001b[1;32m    138\u001b[0m bulk_str \u001b[39m=\u001b[39m get_bulk_string(bulk, params)\n\u001b[0;32m--> 139\u001b[0m r \u001b[39m=\u001b[39m \u001b[39mself\u001b[39;49m\u001b[39m.\u001b[39;49m_download(\u001b[39mself\u001b[39;49m\u001b[39m.\u001b[39;49m_url \u001b[39m+\u001b[39;49m \u001b[39m\"\u001b[39;49m\u001b[39m/query\u001b[39;49m\u001b[39m\"\u001b[39;49m, data\u001b[39m=\u001b[39;49mbulk_str,\n\u001b[1;32m    140\u001b[0m                    content_type\u001b[39m=\u001b[39;49m\u001b[39m'\u001b[39;49m\u001b[39mtext/plain\u001b[39;49m\u001b[39m'\u001b[39;49m)\n\u001b[1;32m    141\u001b[0m split \u001b[39m=\u001b[39m \u001b[39mself\u001b[39m\u001b[39m.\u001b[39m_split_routing_response(\n\u001b[1;32m    142\u001b[0m     r\u001b[39m.\u001b[39mcontent\u001b[39m.\u001b[39mdecode() \u001b[39mif\u001b[39;00m \u001b[39mhasattr\u001b[39m(r\u001b[39m.\u001b[39mcontent, \u001b[39m\"\u001b[39m\u001b[39mdecode\u001b[39m\u001b[39m\"\u001b[39m) \u001b[39melse\u001b[39;00m r\u001b[39m.\u001b[39mcontent,\n\u001b[1;32m    143\u001b[0m     service\u001b[39m=\u001b[39m\u001b[39m\"\u001b[39m\u001b[39mstation\u001b[39m\u001b[39m\"\u001b[39m)\n\u001b[1;32m    144\u001b[0m \u001b[39mreturn\u001b[39;00m \u001b[39mself\u001b[39m\u001b[39m.\u001b[39m_download_stations(split, \u001b[39m*\u001b[39m\u001b[39m*\u001b[39mkwargs)\n",
      "File \u001b[0;32m~/miniconda3/envs/seisbench_v0.4/lib/python3.9/site-packages/obspy/clients/base.py:249\u001b[0m, in \u001b[0;36mHTTPClient._download\u001b[0;34m(self, url, params, filename, data, content_type)\u001b[0m\n\u001b[1;32m    247\u001b[0m \u001b[39m# Only accept code 200.\u001b[39;00m\n\u001b[1;32m    248\u001b[0m \u001b[39mif\u001b[39;00m r\u001b[39m.\u001b[39mstatus_code \u001b[39m!=\u001b[39m \u001b[39m200\u001b[39m:\n\u001b[0;32m--> 249\u001b[0m     \u001b[39mself\u001b[39;49m\u001b[39m.\u001b[39;49m_handle_requests_http_error(r)\n\u001b[1;32m    251\u001b[0m \u001b[39m# Return if nothing else happens.\u001b[39;00m\n\u001b[1;32m    252\u001b[0m \u001b[39mif\u001b[39;00m \u001b[39mnot\u001b[39;00m filename:\n",
      "File \u001b[0;32m~/miniconda3/envs/seisbench_v0.4/lib/python3.9/site-packages/obspy/clients/fdsn/routing/routing_client.py:310\u001b[0m, in \u001b[0;36mBaseRoutingClient._handle_requests_http_error\u001b[0;34m(self, r)\u001b[0m\n\u001b[1;32m    308\u001b[0m     reason \u001b[39m+\u001b[39m\u001b[39m=\u001b[39m \u001b[39mb\u001b[39m\u001b[39m\"\u001b[39m\u001b[39m -- \u001b[39m\u001b[39m\"\u001b[39m \u001b[39m+\u001b[39m c\n\u001b[1;32m    309\u001b[0m \u001b[39mwith\u001b[39;00m io\u001b[39m.\u001b[39mBytesIO(reason) \u001b[39mas\u001b[39;00m buf:\n\u001b[0;32m--> 310\u001b[0m     raise_on_error(r\u001b[39m.\u001b[39;49mstatus_code, buf)\n",
      "File \u001b[0;32m~/miniconda3/envs/seisbench_v0.4/lib/python3.9/site-packages/obspy/clients/fdsn/client.py:1860\u001b[0m, in \u001b[0;36mraise_on_error\u001b[0;34m(code, data)\u001b[0m\n\u001b[1;32m   1858\u001b[0m \u001b[39m# Catch any non 200 codes.\u001b[39;00m\n\u001b[1;32m   1859\u001b[0m \u001b[39melif\u001b[39;00m code \u001b[39m!=\u001b[39m \u001b[39m200\u001b[39m:\n\u001b[0;32m-> 1860\u001b[0m     \u001b[39mraise\u001b[39;00m FDSNException(\u001b[39m\"\u001b[39m\u001b[39mUnknown HTTP code: \u001b[39m\u001b[39m%i\u001b[39;00m\u001b[39m\"\u001b[39m \u001b[39m%\u001b[39m code, server_info)\n",
      "\u001b[0;31mFDSNException\u001b[0m: Unknown HTTP code: 404\nDetailed response of server:\n\n -- Error 404: No data matched request.\nRequest:\nhttp://service.iris.edu/irisws/fedcatalog/1/query\nRequest Submitted:\n2023/06/12 09:32:46 UTC\nService version:\nService: irisws-fedcatalog  version: 1.1.17"
     ]
    }
   ],
   "source": [
    "client.get_stations(network=\"AK\",station=\"SDG\",location=\"--\")"
   ]
  },
  {
   "cell_type": "markdown",
   "metadata": {},
   "source": [
    "# VT data"
   ]
  },
  {
   "cell_type": "code",
   "execution_count": 7,
   "metadata": {},
   "outputs": [
    {
     "name": "stdout",
     "output_type": "stream",
     "text": [
      "The default saving directory is used: /home/zhongyiyuan/DATA/my_data/ncedc_vt\n",
      "/home/zhongyiyuan/DATA/my_data/ncedc_vt exists\n"
     ]
    }
   ],
   "source": [
    "ncedc_vt=volpick.data.NCEDCDataset(root_folder_name=\"ncedc_vt\", cat_file_name=\"ncedc_catalog_vt\")"
   ]
  },
  {
   "cell_type": "code",
   "execution_count": 9,
   "metadata": {},
   "outputs": [
    {
     "name": "stdout",
     "output_type": "stream",
     "text": [
      "4519837\n",
      "Exclude 5214 lp waveforms from the catalog\n",
      "The whole catalog includes 4514623 waveforms, where there are\n",
      " 4514623 waveforms of regular earthquakes\n",
      " 0 waveforms of long-period earthquakes\n"
     ]
    }
   ],
   "source": [
    "whole_catalog_rg=ncedc_vt.read(format=\"csv\")\n",
    "print(len(whole_catalog_rg))\n",
    "contained_lp=whole_catalog_rg[whole_catalog_rg[\"source_id\"].isin(whole_catalog_lp[\"source_id\"])]\n",
    "print(f\"Exclude {len(contained_lp)} lp waveforms from the catalog\")\n",
    "whole_catalog_rg=whole_catalog_rg[~whole_catalog_rg[\"source_id\"].isin(whole_catalog_lp[\"source_id\"])]\n",
    "print(f\"The whole catalog includes {len(whole_catalog_rg)} waveforms, where there are\")\n",
    "print(f\"\"\" {len(whole_catalog_rg[whole_catalog_rg[\"source_type\"]!=\"lp\"])} waveforms of regular earthquakes\"\"\")\n",
    "print(f\"\"\" {len(whole_catalog_rg[whole_catalog_rg[\"source_type\"]==\"lp\"])} waveforms of long-period earthquakes\"\"\")"
   ]
  },
  {
   "cell_type": "code",
   "execution_count": 39,
   "metadata": {},
   "outputs": [],
   "source": [
    "x=extract_events(contained_lp)"
   ]
  },
  {
   "cell_type": "code",
   "execution_count": 10,
   "metadata": {},
   "outputs": [
    {
     "data": {
      "text/plain": [
       "0          e\n",
       "1          e\n",
       "2          e\n",
       "3          e\n",
       "4          e\n",
       "          ..\n",
       "4519832    e\n",
       "4519833    e\n",
       "4519834    e\n",
       "4519835    e\n",
       "4519836    e\n",
       "Name: source_type, Length: 4514623, dtype: object"
      ]
     },
     "execution_count": 10,
     "metadata": {},
     "output_type": "execute_result"
    }
   ],
   "source": [
    "whole_catalog_rg[\"source_type\"]"
   ]
  },
  {
   "cell_type": "code",
   "execution_count": 11,
   "metadata": {},
   "outputs": [],
   "source": [
    "traces_with_P_and_S=whole_catalog_rg[(pd.notna(whole_catalog_rg[\"trace_p_arrival_time\"]))&(pd.notna(whole_catalog_rg[\"trace_s_arrival_time\"]))]"
   ]
  },
  {
   "cell_type": "code",
   "execution_count": 12,
   "metadata": {},
   "outputs": [],
   "source": [
    "regular_events_with_P_and_S=extract_events(traces_with_P_and_S) #events in the region"
   ]
  },
  {
   "cell_type": "code",
   "execution_count": 13,
   "metadata": {},
   "outputs": [
    {
     "data": {
      "text/html": [
       "<div>\n",
       "<style scoped>\n",
       "    .dataframe tbody tr th:only-of-type {\n",
       "        vertical-align: middle;\n",
       "    }\n",
       "\n",
       "    .dataframe tbody tr th {\n",
       "        vertical-align: top;\n",
       "    }\n",
       "\n",
       "    .dataframe thead th {\n",
       "        text-align: right;\n",
       "    }\n",
       "</style>\n",
       "<table border=\"1\" class=\"dataframe\">\n",
       "  <thead>\n",
       "    <tr style=\"text-align: right;\">\n",
       "      <th></th>\n",
       "      <th>source_id</th>\n",
       "      <th>source_origin_time</th>\n",
       "      <th>source_latitude_deg</th>\n",
       "      <th>source_longitude_deg</th>\n",
       "      <th>source_depth_km</th>\n",
       "      <th>source_magnitude</th>\n",
       "      <th>source_magnitude_type</th>\n",
       "      <th>source_type</th>\n",
       "    </tr>\n",
       "  </thead>\n",
       "  <tbody>\n",
       "    <tr>\n",
       "      <th>0</th>\n",
       "      <td>ncedc71328725</td>\n",
       "      <td>2010-01-01T02:41:04.750000Z</td>\n",
       "      <td>39.388667</td>\n",
       "      <td>-121.248167</td>\n",
       "      <td>17.98</td>\n",
       "      <td>1.49</td>\n",
       "      <td>Md</td>\n",
       "      <td>e</td>\n",
       "    </tr>\n",
       "    <tr>\n",
       "      <th>1</th>\n",
       "      <td>ncedc71328740</td>\n",
       "      <td>2010-01-01T03:10:33.280000Z</td>\n",
       "      <td>38.789167</td>\n",
       "      <td>-122.776500</td>\n",
       "      <td>0.35</td>\n",
       "      <td>0.17</td>\n",
       "      <td>Md</td>\n",
       "      <td>e</td>\n",
       "    </tr>\n",
       "    <tr>\n",
       "      <th>2</th>\n",
       "      <td>ncedc71328775</td>\n",
       "      <td>2010-01-01T04:17:35.660000Z</td>\n",
       "      <td>38.787167</td>\n",
       "      <td>-122.770833</td>\n",
       "      <td>1.35</td>\n",
       "      <td>1.51</td>\n",
       "      <td>Md</td>\n",
       "      <td>e</td>\n",
       "    </tr>\n",
       "    <tr>\n",
       "      <th>3</th>\n",
       "      <td>ncedc71328790</td>\n",
       "      <td>2010-01-01T05:17:37.280000Z</td>\n",
       "      <td>37.441000</td>\n",
       "      <td>-118.898667</td>\n",
       "      <td>2.62</td>\n",
       "      <td>0.76</td>\n",
       "      <td>Md</td>\n",
       "      <td>e</td>\n",
       "    </tr>\n",
       "    <tr>\n",
       "      <th>4</th>\n",
       "      <td>ncedc71328795</td>\n",
       "      <td>2010-01-01T05:25:27.130000Z</td>\n",
       "      <td>37.360000</td>\n",
       "      <td>-121.724000</td>\n",
       "      <td>5.67</td>\n",
       "      <td>1.00</td>\n",
       "      <td>Md</td>\n",
       "      <td>e</td>\n",
       "    </tr>\n",
       "    <tr>\n",
       "      <th>...</th>\n",
       "      <td>...</td>\n",
       "      <td>...</td>\n",
       "      <td>...</td>\n",
       "      <td>...</td>\n",
       "      <td>...</td>\n",
       "      <td>...</td>\n",
       "      <td>...</td>\n",
       "      <td>...</td>\n",
       "    </tr>\n",
       "    <tr>\n",
       "      <th>101009</th>\n",
       "      <td>ncedc73313206</td>\n",
       "      <td>2019-12-10T14:58:35.510000Z</td>\n",
       "      <td>37.483000</td>\n",
       "      <td>-118.822333</td>\n",
       "      <td>4.83</td>\n",
       "      <td>0.70</td>\n",
       "      <td>Md</td>\n",
       "      <td>e</td>\n",
       "    </tr>\n",
       "    <tr>\n",
       "      <th>101010</th>\n",
       "      <td>ncedc73313216</td>\n",
       "      <td>2019-12-10T16:23:17.650000Z</td>\n",
       "      <td>38.801333</td>\n",
       "      <td>-122.823167</td>\n",
       "      <td>2.63</td>\n",
       "      <td>0.26</td>\n",
       "      <td>Md</td>\n",
       "      <td>e</td>\n",
       "    </tr>\n",
       "    <tr>\n",
       "      <th>101011</th>\n",
       "      <td>ncedc73313316</td>\n",
       "      <td>2019-12-10T20:24:37.230000Z</td>\n",
       "      <td>37.259833</td>\n",
       "      <td>-121.639500</td>\n",
       "      <td>2.87</td>\n",
       "      <td>1.12</td>\n",
       "      <td>Md</td>\n",
       "      <td>e</td>\n",
       "    </tr>\n",
       "    <tr>\n",
       "      <th>101012</th>\n",
       "      <td>ncedc73313351</td>\n",
       "      <td>2019-12-10T22:55:22.580000Z</td>\n",
       "      <td>37.479833</td>\n",
       "      <td>-118.857500</td>\n",
       "      <td>1.59</td>\n",
       "      <td>0.78</td>\n",
       "      <td>Md</td>\n",
       "      <td>e</td>\n",
       "    </tr>\n",
       "    <tr>\n",
       "      <th>101013</th>\n",
       "      <td>ncedc73313366</td>\n",
       "      <td>2019-12-10T23:05:27.540000Z</td>\n",
       "      <td>38.245833</td>\n",
       "      <td>-122.159000</td>\n",
       "      <td>7.30</td>\n",
       "      <td>1.21</td>\n",
       "      <td>Md</td>\n",
       "      <td>e</td>\n",
       "    </tr>\n",
       "  </tbody>\n",
       "</table>\n",
       "<p>101014 rows × 8 columns</p>\n",
       "</div>"
      ],
      "text/plain": [
       "            source_id           source_origin_time  source_latitude_deg   \n",
       "0       ncedc71328725  2010-01-01T02:41:04.750000Z            39.388667  \\\n",
       "1       ncedc71328740  2010-01-01T03:10:33.280000Z            38.789167   \n",
       "2       ncedc71328775  2010-01-01T04:17:35.660000Z            38.787167   \n",
       "3       ncedc71328790  2010-01-01T05:17:37.280000Z            37.441000   \n",
       "4       ncedc71328795  2010-01-01T05:25:27.130000Z            37.360000   \n",
       "...               ...                          ...                  ...   \n",
       "101009  ncedc73313206  2019-12-10T14:58:35.510000Z            37.483000   \n",
       "101010  ncedc73313216  2019-12-10T16:23:17.650000Z            38.801333   \n",
       "101011  ncedc73313316  2019-12-10T20:24:37.230000Z            37.259833   \n",
       "101012  ncedc73313351  2019-12-10T22:55:22.580000Z            37.479833   \n",
       "101013  ncedc73313366  2019-12-10T23:05:27.540000Z            38.245833   \n",
       "\n",
       "        source_longitude_deg  source_depth_km  source_magnitude   \n",
       "0                -121.248167            17.98              1.49  \\\n",
       "1                -122.776500             0.35              0.17   \n",
       "2                -122.770833             1.35              1.51   \n",
       "3                -118.898667             2.62              0.76   \n",
       "4                -121.724000             5.67              1.00   \n",
       "...                      ...              ...               ...   \n",
       "101009           -118.822333             4.83              0.70   \n",
       "101010           -122.823167             2.63              0.26   \n",
       "101011           -121.639500             2.87              1.12   \n",
       "101012           -118.857500             1.59              0.78   \n",
       "101013           -122.159000             7.30              1.21   \n",
       "\n",
       "       source_magnitude_type source_type  \n",
       "0                         Md           e  \n",
       "1                         Md           e  \n",
       "2                         Md           e  \n",
       "3                         Md           e  \n",
       "4                         Md           e  \n",
       "...                      ...         ...  \n",
       "101009                    Md           e  \n",
       "101010                    Md           e  \n",
       "101011                    Md           e  \n",
       "101012                    Md           e  \n",
       "101013                    Md           e  \n",
       "\n",
       "[101014 rows x 8 columns]"
      ]
     },
     "execution_count": 13,
     "metadata": {},
     "output_type": "execute_result"
    }
   ],
   "source": [
    "regular_events_with_P_and_S"
   ]
  },
  {
   "cell_type": "code",
   "execution_count": 14,
   "metadata": {},
   "outputs": [],
   "source": [
    "from obspy.geodetics import gps2dist_azimuth\n",
    "def distance_to_volcano(ev_lat,ev_lon,vol_lat,vol_lon):\n",
    "    dist, _, _ = gps2dist_azimuth(\n",
    "        ev_lat,\n",
    "        ev_lon,\n",
    "        vol_lat,\n",
    "        vol_lon,\n",
    "    )\n",
    "    return dist"
   ]
  },
  {
   "cell_type": "code",
   "execution_count": 15,
   "metadata": {},
   "outputs": [],
   "source": [
    "vol=pd.read_csv(\"/mnt/DATA2/YiyuanZhong/my_data/california_volcanoes/california_vol.csv\")"
   ]
  },
  {
   "cell_type": "code",
   "execution_count": 16,
   "metadata": {},
   "outputs": [],
   "source": [
    "region_mask=pd.Series([False]*len(regular_events_with_P_and_S))\n",
    "\n",
    "vol_dist_thre=20e3\n",
    "for lat, lon in zip(vol[\"lat\"],vol[\"lon\"]):\n",
    "    def check_dist(x):\n",
    "        if np.abs(x[\"source_latitude_deg\"]-lat)>0.7 or np.abs(x[\"source_longitude_deg\"]-lon)>0.7:\n",
    "            return False\n",
    "        else:\n",
    "            return distance_to_volcano(x[\"source_latitude_deg\"],x[\"source_longitude_deg\"],lat,lon)<vol_dist_thre\n",
    "        \n",
    "    dist_mask=regular_events_with_P_and_S.apply(check_dist, axis=1)\n",
    "    region_mask=region_mask|dist_mask"
   ]
  },
  {
   "cell_type": "code",
   "execution_count": 18,
   "metadata": {},
   "outputs": [],
   "source": [
    "# downsampled events\n",
    "events_near_volcanoes=regular_events_with_P_and_S[region_mask]"
   ]
  },
  {
   "cell_type": "code",
   "execution_count": 19,
   "metadata": {},
   "outputs": [
    {
     "data": {
      "text/html": [
       "<div>\n",
       "<style scoped>\n",
       "    .dataframe tbody tr th:only-of-type {\n",
       "        vertical-align: middle;\n",
       "    }\n",
       "\n",
       "    .dataframe tbody tr th {\n",
       "        vertical-align: top;\n",
       "    }\n",
       "\n",
       "    .dataframe thead th {\n",
       "        text-align: right;\n",
       "    }\n",
       "</style>\n",
       "<table border=\"1\" class=\"dataframe\">\n",
       "  <thead>\n",
       "    <tr style=\"text-align: right;\">\n",
       "      <th></th>\n",
       "      <th>source_id</th>\n",
       "      <th>source_origin_time</th>\n",
       "      <th>source_latitude_deg</th>\n",
       "      <th>source_longitude_deg</th>\n",
       "      <th>source_depth_km</th>\n",
       "      <th>source_magnitude</th>\n",
       "      <th>source_magnitude_type</th>\n",
       "      <th>source_type</th>\n",
       "    </tr>\n",
       "  </thead>\n",
       "  <tbody>\n",
       "    <tr>\n",
       "      <th>6</th>\n",
       "      <td>ncedc71328810</td>\n",
       "      <td>2010-01-01T06:26:08.680000Z</td>\n",
       "      <td>38.816667</td>\n",
       "      <td>-122.792000</td>\n",
       "      <td>1.84</td>\n",
       "      <td>1.32</td>\n",
       "      <td>Md</td>\n",
       "      <td>e</td>\n",
       "    </tr>\n",
       "    <tr>\n",
       "      <th>7</th>\n",
       "      <td>ncedc71328835</td>\n",
       "      <td>2010-01-01T08:23:50.080000Z</td>\n",
       "      <td>38.815167</td>\n",
       "      <td>-122.804167</td>\n",
       "      <td>1.49</td>\n",
       "      <td>1.31</td>\n",
       "      <td>Md</td>\n",
       "      <td>e</td>\n",
       "    </tr>\n",
       "    <tr>\n",
       "      <th>8</th>\n",
       "      <td>ncedc71328855</td>\n",
       "      <td>2010-01-01T10:33:07.180000Z</td>\n",
       "      <td>37.621333</td>\n",
       "      <td>-119.041000</td>\n",
       "      <td>2.41</td>\n",
       "      <td>0.98</td>\n",
       "      <td>Md</td>\n",
       "      <td>e</td>\n",
       "    </tr>\n",
       "    <tr>\n",
       "      <th>9</th>\n",
       "      <td>ncedc71328860</td>\n",
       "      <td>2010-01-01T11:00:08.460000Z</td>\n",
       "      <td>38.796500</td>\n",
       "      <td>-122.740333</td>\n",
       "      <td>1.42</td>\n",
       "      <td>1.65</td>\n",
       "      <td>Md</td>\n",
       "      <td>e</td>\n",
       "    </tr>\n",
       "    <tr>\n",
       "      <th>11</th>\n",
       "      <td>ncedc71328910</td>\n",
       "      <td>2010-01-01T14:04:40.340000Z</td>\n",
       "      <td>38.816333</td>\n",
       "      <td>-122.819167</td>\n",
       "      <td>3.03</td>\n",
       "      <td>0.25</td>\n",
       "      <td>Md</td>\n",
       "      <td>e</td>\n",
       "    </tr>\n",
       "    <tr>\n",
       "      <th>...</th>\n",
       "      <td>...</td>\n",
       "      <td>...</td>\n",
       "      <td>...</td>\n",
       "      <td>...</td>\n",
       "      <td>...</td>\n",
       "      <td>...</td>\n",
       "      <td>...</td>\n",
       "      <td>...</td>\n",
       "    </tr>\n",
       "    <tr>\n",
       "      <th>101002</th>\n",
       "      <td>ncedc73313031</td>\n",
       "      <td>2019-12-09T22:08:56.080000Z</td>\n",
       "      <td>37.555500</td>\n",
       "      <td>-118.832500</td>\n",
       "      <td>3.59</td>\n",
       "      <td>0.78</td>\n",
       "      <td>Md</td>\n",
       "      <td>e</td>\n",
       "    </tr>\n",
       "    <tr>\n",
       "      <th>101003</th>\n",
       "      <td>ncedc73313146</td>\n",
       "      <td>2019-12-10T08:37:13.940000Z</td>\n",
       "      <td>37.557000</td>\n",
       "      <td>-118.833833</td>\n",
       "      <td>2.92</td>\n",
       "      <td>0.79</td>\n",
       "      <td>Md</td>\n",
       "      <td>e</td>\n",
       "    </tr>\n",
       "    <tr>\n",
       "      <th>101005</th>\n",
       "      <td>ncedc73313166</td>\n",
       "      <td>2019-12-10T09:48:01.740000Z</td>\n",
       "      <td>37.545000</td>\n",
       "      <td>-118.858667</td>\n",
       "      <td>6.49</td>\n",
       "      <td>0.31</td>\n",
       "      <td>Md</td>\n",
       "      <td>e</td>\n",
       "    </tr>\n",
       "    <tr>\n",
       "      <th>101008</th>\n",
       "      <td>ncedc73313186</td>\n",
       "      <td>2019-12-10T14:02:55.080000Z</td>\n",
       "      <td>38.791667</td>\n",
       "      <td>-122.740167</td>\n",
       "      <td>2.15</td>\n",
       "      <td>1.39</td>\n",
       "      <td>Md</td>\n",
       "      <td>e</td>\n",
       "    </tr>\n",
       "    <tr>\n",
       "      <th>101010</th>\n",
       "      <td>ncedc73313216</td>\n",
       "      <td>2019-12-10T16:23:17.650000Z</td>\n",
       "      <td>38.801333</td>\n",
       "      <td>-122.823167</td>\n",
       "      <td>2.63</td>\n",
       "      <td>0.26</td>\n",
       "      <td>Md</td>\n",
       "      <td>e</td>\n",
       "    </tr>\n",
       "  </tbody>\n",
       "</table>\n",
       "<p>61249 rows × 8 columns</p>\n",
       "</div>"
      ],
      "text/plain": [
       "            source_id           source_origin_time  source_latitude_deg   \n",
       "6       ncedc71328810  2010-01-01T06:26:08.680000Z            38.816667  \\\n",
       "7       ncedc71328835  2010-01-01T08:23:50.080000Z            38.815167   \n",
       "8       ncedc71328855  2010-01-01T10:33:07.180000Z            37.621333   \n",
       "9       ncedc71328860  2010-01-01T11:00:08.460000Z            38.796500   \n",
       "11      ncedc71328910  2010-01-01T14:04:40.340000Z            38.816333   \n",
       "...               ...                          ...                  ...   \n",
       "101002  ncedc73313031  2019-12-09T22:08:56.080000Z            37.555500   \n",
       "101003  ncedc73313146  2019-12-10T08:37:13.940000Z            37.557000   \n",
       "101005  ncedc73313166  2019-12-10T09:48:01.740000Z            37.545000   \n",
       "101008  ncedc73313186  2019-12-10T14:02:55.080000Z            38.791667   \n",
       "101010  ncedc73313216  2019-12-10T16:23:17.650000Z            38.801333   \n",
       "\n",
       "        source_longitude_deg  source_depth_km  source_magnitude   \n",
       "6                -122.792000             1.84              1.32  \\\n",
       "7                -122.804167             1.49              1.31   \n",
       "8                -119.041000             2.41              0.98   \n",
       "9                -122.740333             1.42              1.65   \n",
       "11               -122.819167             3.03              0.25   \n",
       "...                      ...              ...               ...   \n",
       "101002           -118.832500             3.59              0.78   \n",
       "101003           -118.833833             2.92              0.79   \n",
       "101005           -118.858667             6.49              0.31   \n",
       "101008           -122.740167             2.15              1.39   \n",
       "101010           -122.823167             2.63              0.26   \n",
       "\n",
       "       source_magnitude_type source_type  \n",
       "6                         Md           e  \n",
       "7                         Md           e  \n",
       "8                         Md           e  \n",
       "9                         Md           e  \n",
       "11                        Md           e  \n",
       "...                      ...         ...  \n",
       "101002                    Md           e  \n",
       "101003                    Md           e  \n",
       "101005                    Md           e  \n",
       "101008                    Md           e  \n",
       "101010                    Md           e  \n",
       "\n",
       "[61249 rows x 8 columns]"
      ]
     },
     "execution_count": 19,
     "metadata": {},
     "output_type": "execute_result"
    }
   ],
   "source": [
    "events_near_volcanoes"
   ]
  },
  {
   "cell_type": "code",
   "execution_count": 57,
   "metadata": {},
   "outputs": [],
   "source": [
    "np.savetxt(fname=\"nc_rg.txt\",\n",
    "           X=regular_events_with_P_and_S[[\"source_longitude_deg\",\"source_latitude_deg\"]].values,\n",
    "           fmt='%-15.9f')\n",
    "np.savetxt(fname=\"nc_vt.txt\",\n",
    "           X=events_near_volcanoes[[\"source_longitude_deg\",\"source_latitude_deg\"]].values,\n",
    "           fmt='%-15.9f')"
   ]
  },
  {
   "cell_type": "code",
   "execution_count": 20,
   "metadata": {},
   "outputs": [
    {
     "name": "stdout",
     "output_type": "stream",
     "text": [
      "61249\n",
      "61249\n"
     ]
    }
   ],
   "source": [
    "filter_mask=np.zeros(len(events_near_volcanoes),dtype=bool)\n",
    "print(len(events_near_volcanoes))\n",
    "print(len(filter_mask))\n",
    "n_events=5000\n",
    "rand_idxs = np.sort(\n",
    "    np.random.default_rng(seed=100).choice(\n",
    "        len(events_near_volcanoes), size=n_events, replace=False\n",
    "    )\n",
    ")\n",
    "filter_mask[rand_idxs] = True\n",
    "downsampled_events_near_volcanoes=events_near_volcanoes[filter_mask]"
   ]
  },
  {
   "cell_type": "code",
   "execution_count": 21,
   "metadata": {},
   "outputs": [],
   "source": [
    "downsampled_vt_traces=traces_with_P_and_S[traces_with_P_and_S[\"source_id\"].isin(downsampled_events_near_volcanoes[\"source_id\"])]"
   ]
  },
  {
   "cell_type": "code",
   "execution_count": 71,
   "metadata": {},
   "outputs": [],
   "source": [
    "np.savetxt(fname=\"nc_vt_ds.txt\",\n",
    "           X=downsampled_events_near_volcanoes[[\"source_longitude_deg\",\"source_latitude_deg\"]].values,\n",
    "           fmt='%-15.9f')"
   ]
  },
  {
   "cell_type": "code",
   "execution_count": 22,
   "metadata": {},
   "outputs": [],
   "source": [
    "downsampled_vt_traces.reset_index(drop=True,inplace=True)"
   ]
  },
  {
   "cell_type": "code",
   "execution_count": 24,
   "metadata": {},
   "outputs": [],
   "source": [
    "downsampled_vt_traces.to_csv(\"/mnt/DATA2/YiyuanZhong/my_data/ncedc_vt/downsampled_ncedc_vt_with_PS.csv\",index=False)"
   ]
  },
  {
   "cell_type": "code",
   "execution_count": null,
   "metadata": {},
   "outputs": [],
   "source": []
  },
  {
   "cell_type": "code",
   "execution_count": 26,
   "metadata": {},
   "outputs": [
    {
     "name": "stdout",
     "output_type": "stream",
     "text": [
      "17191 seismograms have been downloaded sucessfully.\n",
      " 17191 waveforms of regular earthquakes\n",
      " 0 waveforms of long-period earthquakes\n"
     ]
    }
   ],
   "source": [
    "download_table_vt=pd.read_csv(\"/mnt/DATA2/YiyuanZhong/my_data/ncedc_vt/mseed_log/downloads.csv\")\n",
    "print(f\"{len(download_table_vt)} seismograms have been downloaded sucessfully.\")\n",
    "print(f\"\"\" {len(download_table_vt[download_table_vt[\"source_type\"]!=\"lp\"])} waveforms of regular earthquakes\"\"\")\n",
    "print(f\"\"\" {len(download_table_vt[download_table_vt[\"source_type\"]==\"lp\"])} waveforms of long-period earthquakes\"\"\")"
   ]
  },
  {
   "cell_type": "code",
   "execution_count": 27,
   "metadata": {},
   "outputs": [],
   "source": [
    "dl_e=extract_events(download_table_vt)"
   ]
  },
  {
   "cell_type": "code",
   "execution_count": 28,
   "metadata": {},
   "outputs": [
    {
     "data": {
      "text/plain": [
       "4814"
      ]
     },
     "execution_count": 28,
     "metadata": {},
     "output_type": "execute_result"
    }
   ],
   "source": [
    "len(dl_e)"
   ]
  },
  {
   "cell_type": "code",
   "execution_count": 30,
   "metadata": {},
   "outputs": [
    {
     "data": {
      "text/plain": [
       "3906.7208142916493"
      ]
     },
     "execution_count": 30,
     "metadata": {},
     "output_type": "execute_result"
    }
   ],
   "source": [
    "17191/4814*1094"
   ]
  }
 ],
 "metadata": {
  "kernelspec": {
   "display_name": "seisbench_v0.4",
   "language": "python",
   "name": "python3"
  },
  "language_info": {
   "codemirror_mode": {
    "name": "ipython",
    "version": 3
   },
   "file_extension": ".py",
   "mimetype": "text/x-python",
   "name": "python",
   "nbconvert_exporter": "python",
   "pygments_lexer": "ipython3",
   "version": "3.9.16"
  },
  "orig_nbformat": 4
 },
 "nbformat": 4,
 "nbformat_minor": 2
}
