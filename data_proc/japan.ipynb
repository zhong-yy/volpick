{
 "cells": [
  {
   "cell_type": "code",
   "execution_count": 5,
   "metadata": {},
   "outputs": [],
   "source": [
    "import numpy as np\n",
    "import pandas as pd\n",
    "from obspy import UTCDateTime\n",
    "from HinetPy import Client\n",
    "import os\n",
    "from pathlib import Path\n",
    "\n",
    "from volpick.data.utils import extract_events\n",
    "\n",
    "def in_region(x,y,region):\n",
    "    west=region[0]\n",
    "    east=region[1]\n",
    "    south=region[2]\n",
    "    north=region[3]\n",
    "    return (x>=west)&(x<=east)&(y>=south)&(y<=north)"
   ]
  },
  {
   "cell_type": "code",
   "execution_count": 221,
   "metadata": {},
   "outputs": [],
   "source": [
    "regions=[[123.3,127.5,23.56,27.25],\n",
    "        [131.9,133,31.6,33.7],\n",
    "        [133,134.6,33.7,34.3],\n",
    "        [135,137.6,33.7,34.9],\n",
    "        [135.5,138.2,34.9,35.5],\n",
    "        [140.5,140.7,36.6,36.8]\n",
    "       ]"
   ]
  },
  {
   "cell_type": "code",
   "execution_count": 222,
   "metadata": {},
   "outputs": [],
   "source": [
    "regions2=[[123.3,135,22,27.5],\n",
    "        [141.7,159,21,42],\n",
    "        [140.2,142,33.7,36.5],\n",
    "        [140.7,142,36.5,37.5],\n",
    "        [139.5,140.2,35.3,36.2],\n",
    "        [131.7,134,27.5,33],\n",
    "        [136,146,23.5,33.7],\n",
    "        [141.9, 159, 42, 43],\n",
    "        [129.6,131.7, 27.5, 29],\n",
    "        [130.8, 131.7, 29, 30.8],\n",
    "        [127,129.3,30.5,32.2],\n",
    "        [127,136,36,45]\n",
    "       ]\n",
    "regions2=regions+regions2"
   ]
  },
  {
   "cell_type": "markdown",
   "metadata": {},
   "source": [
    "# Reading data"
   ]
  },
  {
   "cell_type": "code",
   "execution_count": 2,
   "metadata": {},
   "outputs": [],
   "source": [
    "cat=pd.read_csv(\"/mnt/DATA2/YiyuanZhong/my_data/Japan/japan_catalog.csv\")"
   ]
  },
  {
   "cell_type": "code",
   "execution_count": 8,
   "metadata": {},
   "outputs": [
    {
     "name": "stdout",
     "output_type": "stream",
     "text": [
      "Number of traces: 61574412\n"
     ]
    }
   ],
   "source": [
    "print(f\"Number of traces: {len(cat)}\")"
   ]
  },
  {
   "cell_type": "code",
   "execution_count": 3,
   "metadata": {},
   "outputs": [
    {
     "data": {
      "text/plain": [
       "array(['artificial', 'eruption', 'insufficient', 'lp', 'natural'],\n",
       "      dtype=object)"
      ]
     },
     "execution_count": 3,
     "metadata": {},
     "output_type": "execute_result"
    }
   ],
   "source": [
    "np.unique(cat[\"source_type\"])"
   ]
  },
  {
   "cell_type": "code",
   "execution_count": 4,
   "metadata": {},
   "outputs": [
    {
     "name": "stdout",
     "output_type": "stream",
     "text": [
      "Number of traces: 61574412\n",
      "Number of regular earthquakes waveforms: 60892473\n"
     ]
    }
   ],
   "source": [
    "full_rg=cat[(cat[\"source_type\"]==\"eruption\")|(cat[\"source_type\"]==\"natural\")].copy()\n",
    "full_rg.reset_index(inplace=True)\n",
    "print(f\"\"\"Number of regular earthquakes waveforms: {len(full_rg)}\"\"\")"
   ]
  },
  {
   "cell_type": "code",
   "execution_count": 6,
   "metadata": {},
   "outputs": [
    {
     "name": "stdout",
     "output_type": "stream",
     "text": [
      "Number of regular earthquakes waveforms (after removing those with unknown magnitude): 60166469\n"
     ]
    }
   ],
   "source": [
    "full_rg=full_rg[pd.notna(full_rg[\"source_magnitude\"])]\n",
    "full_rg.reset_index(inplace=True)\n",
    "print(f\"\"\"Number of regular earthquakes waveforms (after removing those with unknown magnitude): {len(full_rg)}\"\"\")"
   ]
  },
  {
   "cell_type": "code",
   "execution_count": 9,
   "metadata": {},
   "outputs": [
    {
     "name": "stdout",
     "output_type": "stream",
     "text": [
      "Number of LP: 681875\n"
     ]
    }
   ],
   "source": [
    "full_lp=cat[cat[\"source_type\"]==\"lp\"].copy()\n",
    "full_lp.reset_index(inplace=True)\n",
    "\n",
    "print(f\"\"\"Number of LP: {len(full_lp)}\"\"\")"
   ]
  },
  {
   "cell_type": "code",
   "execution_count": 10,
   "metadata": {},
   "outputs": [
    {
     "name": "stdout",
     "output_type": "stream",
     "text": [
      "Number of LP (after removing those with unknown magnitude): 655154\n"
     ]
    }
   ],
   "source": [
    "full_lp=full_lp[pd.notna(full_lp[\"source_magnitude\"])]\n",
    "full_lp.reset_index(inplace=True)\n",
    "print(f\"\"\"Number of LP (after removing those with unknown magnitude): {len(full_lp)}\"\"\")"
   ]
  },
  {
   "cell_type": "code",
   "execution_count": 11,
   "metadata": {},
   "outputs": [],
   "source": [
    "total_events=extract_events(cat)"
   ]
  },
  {
   "cell_type": "code",
   "execution_count": 12,
   "metadata": {},
   "outputs": [
    {
     "name": "stdout",
     "output_type": "stream",
     "text": [
      "3580394 events\n",
      "58005 LP events\n",
      "55047 LP events with magnitudes\n"
     ]
    }
   ],
   "source": [
    "print(f\"{len(total_events)} events\")\n",
    "print(f\"\"\"{len(total_events[total_events[\"source_type\"]==\"lp\"])} LP events\"\"\")\n",
    "print(f\"\"\"{len(total_events[(total_events[\"source_type\"]==\"lp\")&(pd.notna(total_events[\"source_magnitude\"]))])} LP events with magnitudes\"\"\")"
   ]
  },
  {
   "cell_type": "code",
   "execution_count": 13,
   "metadata": {},
   "outputs": [
    {
     "name": "stdout",
     "output_type": "stream",
     "text": [
      "3580394 events\n",
      "3522387 regular events\n",
      "3423880 regular events with magnitudes\n"
     ]
    }
   ],
   "source": [
    "print(f\"{len(total_events)} events\")\n",
    "print(f\"\"\"{len(total_events[(total_events[\"source_type\"]==\"eruption\")|(total_events[\"source_type\"]==\"natural\")])} regular events\"\"\")\n",
    "print(f\"\"\"{len(total_events[((total_events[\"source_type\"]==\"eruption\")|(total_events[\"source_type\"]==\"natural\"))&(pd.notna(total_events[\"source_magnitude\"]))])} regular events with magnitudes\"\"\")"
   ]
  },
  {
   "cell_type": "markdown",
   "metadata": {},
   "source": [
    "# Selecting LP"
   ]
  },
  {
   "cell_type": "code",
   "execution_count": 20,
   "metadata": {},
   "outputs": [
    {
     "name": "stdout",
     "output_type": "stream",
     "text": [
      "103210\n",
      "Empty magnitude: 3537\n",
      "Low reliability: 3\n",
      "Number of LPs with both P and S (after removing those with unknown magnitude and low reliability): 99670\n"
     ]
    }
   ],
   "source": [
    "# selecting LP data with both P and S arrivals\n",
    "lp_with_P_and_S=cat[( cat[\"source_type\"]==\"lp\" )&(pd.notna(cat[\"trace_p_arrival_time\"]))&(pd.notna(cat[\"trace_s_arrival_time\"]))]\n",
    "print(len(lp_with_P_and_S))\n",
    "print(f\"\"\"Empty magnitude: {len(lp_with_P_and_S[pd.isna(lp_with_P_and_S[\"source_magnitude\"])])}\"\"\")\n",
    "print(f\"\"\"Low reliability: {len(lp_with_P_and_S[~((lp_with_P_and_S[\"trace_p_flag\"].str.isupper())&(lp_with_P_and_S[\"trace_s_flag\"].str.isupper()))])}\"\"\")\n",
    "\n",
    "lp_with_P_and_S=lp_with_P_and_S[pd.notna(lp_with_P_and_S[\"source_magnitude\"])]\n",
    "\n",
    "lp_with_P_and_S=lp_with_P_and_S[(lp_with_P_and_S[\"trace_p_flag\"].str.isupper())&(lp_with_P_and_S[\"trace_s_flag\"].str.isupper())]\n",
    "print(f\"Number of LPs with both P and S (after removing those with unknown magnitude and low reliability): {len(lp_with_P_and_S)}\")"
   ]
  },
  {
   "cell_type": "code",
   "execution_count": 21,
   "metadata": {},
   "outputs": [
    {
     "name": "stdout",
     "output_type": "stream",
     "text": [
      "['A' 'B' 'E' 'M' 'N' 'O' 'P' 'Q' 'R' 'S' 'T' 'U' 'X' 'Z']\n",
      "['A' 'M' 'N' 'O' 'P' 'Q' 'R' 'S' 'T' 'U' 'X' 'Z']\n"
     ]
    }
   ],
   "source": [
    "print(np.unique(lp_with_P_and_S[\"trace_p_flag\"]))\n",
    "print(np.unique(lp_with_P_and_S[\"trace_s_flag\"]))"
   ]
  },
  {
   "cell_type": "code",
   "execution_count": 22,
   "metadata": {},
   "outputs": [
    {
     "name": "stdout",
     "output_type": "stream",
     "text": [
      "Auto pick-up phases: 4418\n"
     ]
    }
   ],
   "source": [
    "print(f\"\"\"Auto pick-up phases: {len(lp_with_P_and_S[(lp_with_P_and_S[\"trace_p_flag\"]==\"A\")|(lp_with_P_and_S[\"trace_p_flag\"]==\"B\")|(lp_with_P_and_S[\"trace_p_flag\"]==\"E\")|(lp_with_P_and_S[\"trace_s_flag\"]==\"A\")])}\"\"\")"
   ]
  },
  {
   "cell_type": "code",
   "execution_count": 10,
   "metadata": {},
   "outputs": [
    {
     "name": "stdout",
     "output_type": "stream",
     "text": [
      "99670\n",
      "99670\n"
     ]
    }
   ],
   "source": [
    "print(sum(lp_with_P_and_S[\"trace_p_flag\"].str.isupper()))\n",
    "print(sum(lp_with_P_and_S[\"trace_s_flag\"].str.isupper()))"
   ]
  },
  {
   "cell_type": "code",
   "execution_count": 11,
   "metadata": {},
   "outputs": [
    {
     "name": "stdout",
     "output_type": "stream",
     "text": [
      "Number of LP waveforms with both P and S manual picks: 99670, corresponding to 18580 events\n"
     ]
    }
   ],
   "source": [
    "selected_LP_events=extract_events(lp_with_P_and_S)\n",
    "print(f\"\"\"Number of LP waveforms with both P and S manual picks: {len(lp_with_P_and_S)}, corresponding to {len(selected_LP_events)} events\"\"\")"
   ]
  },
  {
   "cell_type": "code",
   "execution_count": 12,
   "metadata": {},
   "outputs": [],
   "source": [
    "# save\n",
    "lp_with_P_and_S.reset_index(inplace=True,drop=True)\n",
    "lp_with_P_and_S.to_csv(\"/mnt/DATA2/YiyuanZhong/my_data/Japan/japan_LP_with_PS.csv\",index=False)"
   ]
  },
  {
   "cell_type": "markdown",
   "metadata": {},
   "source": [
    "Auto pick-up phases"
   ]
  },
  {
   "cell_type": "code",
   "execution_count": 24,
   "metadata": {},
   "outputs": [
    {
     "name": "stdout",
     "output_type": "stream",
     "text": [
      "Number of LP waveforms that have auto pick-up phases: 4418\n"
     ]
    }
   ],
   "source": [
    "lp_with_P_and_S_auto=lp_with_P_and_S[(lp_with_P_and_S[\"trace_p_flag\"]==\"A\")|(lp_with_P_and_S[\"trace_p_flag\"]==\"B\")|(lp_with_P_and_S[\"trace_p_flag\"]==\"E\")|(lp_with_P_and_S[\"trace_s_flag\"]==\"A\")]\n",
    "print(f\"Number of LP waveforms that have auto pick-up phases: {len(lp_with_P_and_S_auto)}\")\n",
    "lp_with_P_and_S_auto.reset_index(inplace=True, drop=True)\n",
    "lp_with_P_and_S_auto.to_csv(\"/mnt/DATA2/YiyuanZhong/my_data/Japan/japan_LP_with_PS_autopick.csv\",index=False)"
   ]
  },
  {
   "cell_type": "code",
   "execution_count": 25,
   "metadata": {},
   "outputs": [
    {
     "data": {
      "text/html": [
       "<div>\n",
       "<style scoped>\n",
       "    .dataframe tbody tr th:only-of-type {\n",
       "        vertical-align: middle;\n",
       "    }\n",
       "\n",
       "    .dataframe tbody tr th {\n",
       "        vertical-align: top;\n",
       "    }\n",
       "\n",
       "    .dataframe thead th {\n",
       "        text-align: right;\n",
       "    }\n",
       "</style>\n",
       "<table border=\"1\" class=\"dataframe\">\n",
       "  <thead>\n",
       "    <tr style=\"text-align: right;\">\n",
       "      <th></th>\n",
       "      <th>source_id</th>\n",
       "      <th>source_origin_time</th>\n",
       "      <th>source_latitude_deg</th>\n",
       "      <th>source_longitude_deg</th>\n",
       "      <th>source_depth_km</th>\n",
       "      <th>source_magnitude</th>\n",
       "      <th>source_magnitude_type</th>\n",
       "      <th>source_type</th>\n",
       "      <th>station_network_code</th>\n",
       "      <th>station_code</th>\n",
       "      <th>station_location_code</th>\n",
       "      <th>trace_channel</th>\n",
       "      <th>station_type</th>\n",
       "      <th>trace_p_arrival_time</th>\n",
       "      <th>trace_s_arrival_time</th>\n",
       "      <th>trace_p_flag</th>\n",
       "      <th>trace_s_flag</th>\n",
       "    </tr>\n",
       "  </thead>\n",
       "  <tbody>\n",
       "    <tr>\n",
       "      <th>0</th>\n",
       "      <td>J040413184918744249191404977</td>\n",
       "      <td>2004-04-13T18:49:18.740000Z</td>\n",
       "      <td>42.819833</td>\n",
       "      <td>140.829500</td>\n",
       "      <td>28.83</td>\n",
       "      <td>1.6</td>\n",
       "      <td>V</td>\n",
       "      <td>lp</td>\n",
       "      <td>NaN</td>\n",
       "      <td>N.MSAH</td>\n",
       "      <td>--</td>\n",
       "      <td>--</td>\n",
       "      <td>h</td>\n",
       "      <td>2004-04-13T18:49:35.600000Z</td>\n",
       "      <td>2004-04-13T18:49:46.860000Z</td>\n",
       "      <td>A</td>\n",
       "      <td>A</td>\n",
       "    </tr>\n",
       "    <tr>\n",
       "      <th>1</th>\n",
       "      <td>J040418030256763154661305563</td>\n",
       "      <td>2004-04-18T03:02:56.760000Z</td>\n",
       "      <td>31.911000</td>\n",
       "      <td>130.927167</td>\n",
       "      <td>22.00</td>\n",
       "      <td>0.3</td>\n",
       "      <td>V</td>\n",
       "      <td>lp</td>\n",
       "      <td>NaN</td>\n",
       "      <td>N.NRAH</td>\n",
       "      <td>--</td>\n",
       "      <td>--</td>\n",
       "      <td>h</td>\n",
       "      <td>2004-04-18T03:03:04.420000Z</td>\n",
       "      <td>2004-04-18T03:03:10.280000Z</td>\n",
       "      <td>A</td>\n",
       "      <td>M</td>\n",
       "    </tr>\n",
       "    <tr>\n",
       "      <th>2</th>\n",
       "      <td>J040506113953993624331371743</td>\n",
       "      <td>2004-05-06T11:39:53.990000Z</td>\n",
       "      <td>36.405500</td>\n",
       "      <td>137.290500</td>\n",
       "      <td>12.15</td>\n",
       "      <td>0.3</td>\n",
       "      <td>v</td>\n",
       "      <td>lp</td>\n",
       "      <td>NaN</td>\n",
       "      <td>N.KOKH</td>\n",
       "      <td>--</td>\n",
       "      <td>--</td>\n",
       "      <td>h</td>\n",
       "      <td>2004-05-06T11:39:56.600000Z</td>\n",
       "      <td>2004-05-06T11:39:58.260000Z</td>\n",
       "      <td>A</td>\n",
       "      <td>M</td>\n",
       "    </tr>\n",
       "    <tr>\n",
       "      <th>3</th>\n",
       "      <td>J040506113953993624331371743</td>\n",
       "      <td>2004-05-06T11:39:53.990000Z</td>\n",
       "      <td>36.405500</td>\n",
       "      <td>137.290500</td>\n",
       "      <td>12.15</td>\n",
       "      <td>0.3</td>\n",
       "      <td>v</td>\n",
       "      <td>lp</td>\n",
       "      <td>NaN</td>\n",
       "      <td>DP.KTJ</td>\n",
       "      <td>--</td>\n",
       "      <td>--</td>\n",
       "      <td>t</td>\n",
       "      <td>2004-05-06T11:39:57.060000Z</td>\n",
       "      <td>2004-05-06T11:39:59.310000Z</td>\n",
       "      <td>A</td>\n",
       "      <td>M</td>\n",
       "    </tr>\n",
       "    <tr>\n",
       "      <th>4</th>\n",
       "      <td>J040506113953993624331371743</td>\n",
       "      <td>2004-05-06T11:39:53.990000Z</td>\n",
       "      <td>36.405500</td>\n",
       "      <td>137.290500</td>\n",
       "      <td>12.15</td>\n",
       "      <td>0.3</td>\n",
       "      <td>v</td>\n",
       "      <td>lp</td>\n",
       "      <td>NaN</td>\n",
       "      <td>NIUKAW</td>\n",
       "      <td>--</td>\n",
       "      <td>--</td>\n",
       "      <td>N</td>\n",
       "      <td>2004-05-06T11:39:58.130000Z</td>\n",
       "      <td>2004-05-06T11:40:01.280000Z</td>\n",
       "      <td>A</td>\n",
       "      <td>M</td>\n",
       "    </tr>\n",
       "    <tr>\n",
       "      <th>...</th>\n",
       "      <td>...</td>\n",
       "      <td>...</td>\n",
       "      <td>...</td>\n",
       "      <td>...</td>\n",
       "      <td>...</td>\n",
       "      <td>...</td>\n",
       "      <td>...</td>\n",
       "      <td>...</td>\n",
       "      <td>...</td>\n",
       "      <td>...</td>\n",
       "      <td>...</td>\n",
       "      <td>...</td>\n",
       "      <td>...</td>\n",
       "      <td>...</td>\n",
       "      <td>...</td>\n",
       "      <td>...</td>\n",
       "      <td>...</td>\n",
       "    </tr>\n",
       "    <tr>\n",
       "      <th>4413</th>\n",
       "      <td>J230626123814163743601401726</td>\n",
       "      <td>2023-06-26T12:38:14.160000Z</td>\n",
       "      <td>37.726667</td>\n",
       "      <td>140.287667</td>\n",
       "      <td>26.68</td>\n",
       "      <td>0.4</td>\n",
       "      <td>V</td>\n",
       "      <td>lp</td>\n",
       "      <td>NaN</td>\n",
       "      <td>N.MRUH</td>\n",
       "      <td>--</td>\n",
       "      <td>--</td>\n",
       "      <td>h</td>\n",
       "      <td>2023-06-26T12:38:21.150000Z</td>\n",
       "      <td>2023-06-26T12:38:26.310000Z</td>\n",
       "      <td>M</td>\n",
       "      <td>A</td>\n",
       "    </tr>\n",
       "    <tr>\n",
       "      <th>4414</th>\n",
       "      <td>J230626123814163743601401726</td>\n",
       "      <td>2023-06-26T12:38:14.160000Z</td>\n",
       "      <td>37.726667</td>\n",
       "      <td>140.287667</td>\n",
       "      <td>26.68</td>\n",
       "      <td>0.4</td>\n",
       "      <td>V</td>\n",
       "      <td>lp</td>\n",
       "      <td>NaN</td>\n",
       "      <td>N.KMYH</td>\n",
       "      <td>--</td>\n",
       "      <td>--</td>\n",
       "      <td>h</td>\n",
       "      <td>2023-06-26T12:38:21.810000Z</td>\n",
       "      <td>2023-06-26T12:38:27.250000Z</td>\n",
       "      <td>M</td>\n",
       "      <td>A</td>\n",
       "    </tr>\n",
       "    <tr>\n",
       "      <th>4415</th>\n",
       "      <td>J230626123814163743601401726</td>\n",
       "      <td>2023-06-26T12:38:14.160000Z</td>\n",
       "      <td>37.726667</td>\n",
       "      <td>140.287667</td>\n",
       "      <td>26.68</td>\n",
       "      <td>0.4</td>\n",
       "      <td>V</td>\n",
       "      <td>lp</td>\n",
       "      <td>NaN</td>\n",
       "      <td>MARUMO</td>\n",
       "      <td>--</td>\n",
       "      <td>--</td>\n",
       "      <td>N</td>\n",
       "      <td>2023-06-26T12:38:23.270000Z</td>\n",
       "      <td>2023-06-26T12:38:29.450000Z</td>\n",
       "      <td>M</td>\n",
       "      <td>A</td>\n",
       "    </tr>\n",
       "    <tr>\n",
       "      <th>4416</th>\n",
       "      <td>J230626123814163743601401726</td>\n",
       "      <td>2023-06-26T12:38:14.160000Z</td>\n",
       "      <td>37.726667</td>\n",
       "      <td>140.287667</td>\n",
       "      <td>26.68</td>\n",
       "      <td>0.4</td>\n",
       "      <td>V</td>\n",
       "      <td>lp</td>\n",
       "      <td>NaN</td>\n",
       "      <td>N.MKJH</td>\n",
       "      <td>--</td>\n",
       "      <td>--</td>\n",
       "      <td>h</td>\n",
       "      <td>2023-06-26T12:38:23.130000Z</td>\n",
       "      <td>2023-06-26T12:38:29.410000Z</td>\n",
       "      <td>A</td>\n",
       "      <td>A</td>\n",
       "    </tr>\n",
       "    <tr>\n",
       "      <th>4417</th>\n",
       "      <td>J230626123814163743601401726</td>\n",
       "      <td>2023-06-26T12:38:14.160000Z</td>\n",
       "      <td>37.726667</td>\n",
       "      <td>140.287667</td>\n",
       "      <td>26.68</td>\n",
       "      <td>0.4</td>\n",
       "      <td>V</td>\n",
       "      <td>lp</td>\n",
       "      <td>NaN</td>\n",
       "      <td>SHIRAT</td>\n",
       "      <td>--</td>\n",
       "      <td>--</td>\n",
       "      <td>N</td>\n",
       "      <td>2023-06-26T12:38:24.830000Z</td>\n",
       "      <td>2023-06-26T12:38:32.670000Z</td>\n",
       "      <td>M</td>\n",
       "      <td>A</td>\n",
       "    </tr>\n",
       "  </tbody>\n",
       "</table>\n",
       "<p>4418 rows × 17 columns</p>\n",
       "</div>"
      ],
      "text/plain": [
       "                         source_id           source_origin_time   \n",
       "0     J040413184918744249191404977  2004-04-13T18:49:18.740000Z  \\\n",
       "1     J040418030256763154661305563  2004-04-18T03:02:56.760000Z   \n",
       "2     J040506113953993624331371743  2004-05-06T11:39:53.990000Z   \n",
       "3     J040506113953993624331371743  2004-05-06T11:39:53.990000Z   \n",
       "4     J040506113953993624331371743  2004-05-06T11:39:53.990000Z   \n",
       "...                            ...                          ...   \n",
       "4413  J230626123814163743601401726  2023-06-26T12:38:14.160000Z   \n",
       "4414  J230626123814163743601401726  2023-06-26T12:38:14.160000Z   \n",
       "4415  J230626123814163743601401726  2023-06-26T12:38:14.160000Z   \n",
       "4416  J230626123814163743601401726  2023-06-26T12:38:14.160000Z   \n",
       "4417  J230626123814163743601401726  2023-06-26T12:38:14.160000Z   \n",
       "\n",
       "      source_latitude_deg  source_longitude_deg  source_depth_km   \n",
       "0               42.819833            140.829500            28.83  \\\n",
       "1               31.911000            130.927167            22.00   \n",
       "2               36.405500            137.290500            12.15   \n",
       "3               36.405500            137.290500            12.15   \n",
       "4               36.405500            137.290500            12.15   \n",
       "...                   ...                   ...              ...   \n",
       "4413            37.726667            140.287667            26.68   \n",
       "4414            37.726667            140.287667            26.68   \n",
       "4415            37.726667            140.287667            26.68   \n",
       "4416            37.726667            140.287667            26.68   \n",
       "4417            37.726667            140.287667            26.68   \n",
       "\n",
       "      source_magnitude source_magnitude_type source_type   \n",
       "0                  1.6                     V          lp  \\\n",
       "1                  0.3                     V          lp   \n",
       "2                  0.3                     v          lp   \n",
       "3                  0.3                     v          lp   \n",
       "4                  0.3                     v          lp   \n",
       "...                ...                   ...         ...   \n",
       "4413               0.4                     V          lp   \n",
       "4414               0.4                     V          lp   \n",
       "4415               0.4                     V          lp   \n",
       "4416               0.4                     V          lp   \n",
       "4417               0.4                     V          lp   \n",
       "\n",
       "      station_network_code station_code station_location_code trace_channel   \n",
       "0                      NaN       N.MSAH                    --            --  \\\n",
       "1                      NaN       N.NRAH                    --            --   \n",
       "2                      NaN       N.KOKH                    --            --   \n",
       "3                      NaN       DP.KTJ                    --            --   \n",
       "4                      NaN       NIUKAW                    --            --   \n",
       "...                    ...          ...                   ...           ...   \n",
       "4413                   NaN       N.MRUH                    --            --   \n",
       "4414                   NaN       N.KMYH                    --            --   \n",
       "4415                   NaN       MARUMO                    --            --   \n",
       "4416                   NaN       N.MKJH                    --            --   \n",
       "4417                   NaN       SHIRAT                    --            --   \n",
       "\n",
       "     station_type         trace_p_arrival_time         trace_s_arrival_time   \n",
       "0               h  2004-04-13T18:49:35.600000Z  2004-04-13T18:49:46.860000Z  \\\n",
       "1               h  2004-04-18T03:03:04.420000Z  2004-04-18T03:03:10.280000Z   \n",
       "2               h  2004-05-06T11:39:56.600000Z  2004-05-06T11:39:58.260000Z   \n",
       "3               t  2004-05-06T11:39:57.060000Z  2004-05-06T11:39:59.310000Z   \n",
       "4               N  2004-05-06T11:39:58.130000Z  2004-05-06T11:40:01.280000Z   \n",
       "...           ...                          ...                          ...   \n",
       "4413            h  2023-06-26T12:38:21.150000Z  2023-06-26T12:38:26.310000Z   \n",
       "4414            h  2023-06-26T12:38:21.810000Z  2023-06-26T12:38:27.250000Z   \n",
       "4415            N  2023-06-26T12:38:23.270000Z  2023-06-26T12:38:29.450000Z   \n",
       "4416            h  2023-06-26T12:38:23.130000Z  2023-06-26T12:38:29.410000Z   \n",
       "4417            N  2023-06-26T12:38:24.830000Z  2023-06-26T12:38:32.670000Z   \n",
       "\n",
       "     trace_p_flag trace_s_flag  \n",
       "0               A            A  \n",
       "1               A            M  \n",
       "2               A            M  \n",
       "3               A            M  \n",
       "4               A            M  \n",
       "...           ...          ...  \n",
       "4413            M            A  \n",
       "4414            M            A  \n",
       "4415            M            A  \n",
       "4416            A            A  \n",
       "4417            M            A  \n",
       "\n",
       "[4418 rows x 17 columns]"
      ]
     },
     "execution_count": 25,
     "metadata": {},
     "output_type": "execute_result"
    }
   ],
   "source": [
    "lp_with_P_and_S_auto"
   ]
  },
  {
   "cell_type": "code",
   "execution_count": 32,
   "metadata": {},
   "outputs": [],
   "source": [
    "vol_lp_fromfile=pd.read_csv(\"/mnt/DATA2/YiyuanZhong/my_data/Japan/Vol_lp/mseed_log/downloads.csv\")\n",
    "lp_fromfile_autopick=pd.read_csv(\"/mnt/DATA2/YiyuanZhong/my_data/Japan/japan_LP_with_PS_autopick.csv\")"
   ]
  },
  {
   "cell_type": "code",
   "execution_count": 44,
   "metadata": {},
   "outputs": [],
   "source": [
    "vol_lp_with_autopick=vol_lp_fromfile[vol_lp_fromfile.apply(lambda x: (x[\"source_id\"],x[\"station_code\"]),axis=1).isin(lp_fromfile_autopick.apply(lambda x: (x[\"source_id\"],x[\"station_code\"]),axis=1))]"
   ]
  },
  {
   "cell_type": "code",
   "execution_count": 47,
   "metadata": {},
   "outputs": [],
   "source": [
    "from volpick.data.utils import plot_waveforms\n",
    "from pathlib import Path"
   ]
  },
  {
   "cell_type": "code",
   "execution_count": null,
   "metadata": {},
   "outputs": [],
   "source": [
    "plot_waveforms(waveform_table=vol_lp_fromfile,\n",
    "               data_dir=\"/mnt/DATA2/YiyuanZhong/my_data/Japan/Vol_lp/mseed\",\n",
    "               indices=np.arange(20),\n",
    "               fig_dir=Path(\"/mnt/DATA2/YiyuanZhong/my_data/Japan/Vol_lp/some_figs\"))"
   ]
  },
  {
   "cell_type": "code",
   "execution_count": 49,
   "metadata": {},
   "outputs": [
    {
     "name": "stdout",
     "output_type": "stream",
     "text": [
      "Plotting 20 figures\n"
     ]
    }
   ],
   "source": [
    "plot_waveforms(waveform_table=vol_lp_with_autopick,\n",
    "               data_dir=\"/mnt/DATA2/YiyuanZhong/my_data/Japan/Vol_lp/mseed\",\n",
    "               indices=np.arange(20),\n",
    "               fig_dir=Path(\"/mnt/DATA2/YiyuanZhong/my_data/Japan/Vol_lp/auto_pick_figs\"),xrangemin=-2,xrangemax=2)"
   ]
  },
  {
   "cell_type": "code",
   "execution_count": 253,
   "metadata": {},
   "outputs": [
    {
     "name": "stdout",
     "output_type": "stream",
     "text": [
      "92977\n",
      "6693\n"
     ]
    }
   ],
   "source": [
    "# aa=pd.read_csv(\"/mnt/DATA2/YiyuanZhong/my_data/Japan/japan_vol_LP_with_PS.csv\")\n",
    "# bb=pd.read_csv(\"/mnt/DATA2/YiyuanZhong/my_data/Japan/japan_tec_LP_with_PS.csv\")\n",
    "# print(len(aa))\n",
    "# print(len(bb))"
   ]
  },
  {
   "cell_type": "markdown",
   "metadata": {},
   "source": [
    "# Selecting regular earthquakes"
   ]
  },
  {
   "cell_type": "code",
   "execution_count": 14,
   "metadata": {},
   "outputs": [
    {
     "name": "stdout",
     "output_type": "stream",
     "text": [
      "38074080\n",
      "Empty magnitude: 393760\n",
      "Low reliability: 12398538\n",
      "Number of LPs with both P and S (after removing those with unknown magnitude and low reliability): 25443107\n"
     ]
    }
   ],
   "source": [
    "# selecting regular earthquake data with both P and S arrivals\n",
    "rg_with_P_and_S=cat[( (cat[\"source_type\"]==\"eruption\")|(cat[\"source_type\"]==\"natural\") )&(pd.notna(cat[\"trace_p_arrival_time\"]))&(pd.notna(cat[\"trace_s_arrival_time\"]))]\n",
    "print(len(rg_with_P_and_S))\n",
    "print(f\"\"\"Empty magnitude: {len(rg_with_P_and_S[pd.isna(rg_with_P_and_S[\"source_magnitude\"])])}\"\"\")\n",
    "print(f\"\"\"Low reliability: {len(rg_with_P_and_S[~((rg_with_P_and_S[\"trace_p_flag\"].str.isupper())&(rg_with_P_and_S[\"trace_s_flag\"].str.isupper()))])}\"\"\")\n",
    "\n",
    "rg_with_P_and_S=rg_with_P_and_S[pd.notna(rg_with_P_and_S[\"source_magnitude\"])]\n",
    "\n",
    "rg_with_P_and_S=rg_with_P_and_S[(rg_with_P_and_S[\"trace_p_flag\"].str.isupper())&(rg_with_P_and_S[\"trace_s_flag\"].str.isupper())]\n",
    "print(f\"Number of LPs with both P and S (after removing those with unknown magnitude and low reliability): {len(rg_with_P_and_S)}\")"
   ]
  },
  {
   "cell_type": "code",
   "execution_count": 16,
   "metadata": {},
   "outputs": [
    {
     "name": "stdout",
     "output_type": "stream",
     "text": [
      "['A' 'B' 'E' 'F' 'H' 'M' 'N' 'O' 'P' 'Q' 'R' 'S' 'T' 'U' 'X' 'Z']\n",
      "['A' 'M' 'N' 'O' 'P' 'Q' 'R' 'S' 'T' 'U' 'X' 'Z']\n"
     ]
    }
   ],
   "source": [
    "print(np.unique(rg_with_P_and_S[\"trace_p_flag\"]))\n",
    "print(np.unique(rg_with_P_and_S[\"trace_s_flag\"]))"
   ]
  },
  {
   "cell_type": "code",
   "execution_count": 18,
   "metadata": {},
   "outputs": [
    {
     "name": "stdout",
     "output_type": "stream",
     "text": [
      "Auto pick-up phases: 8813401\n"
     ]
    }
   ],
   "source": [
    "print(f\"\"\"Auto pick-up phases: {len(rg_with_P_and_S[(rg_with_P_and_S[\"trace_p_flag\"]==\"A\")|(rg_with_P_and_S[\"trace_p_flag\"]==\"B\")|(rg_with_P_and_S[\"trace_p_flag\"]==\"E\")|(rg_with_P_and_S[\"trace_p_flag\"]==\"F\")|(rg_with_P_and_S[\"trace_p_flag\"]==\"H\")|(rg_with_P_and_S[\"trace_s_flag\"]==\"A\")])}\"\"\")"
   ]
  },
  {
   "cell_type": "code",
   "execution_count": 19,
   "metadata": {},
   "outputs": [
    {
     "name": "stdout",
     "output_type": "stream",
     "text": [
      "Number of regular earthquake waveforms with both P and S (after removing data with unknow magnitude, low reliability and auto pick-up phases): 16629706\n"
     ]
    }
   ],
   "source": [
    "rg_with_P_and_S=rg_with_P_and_S[~((rg_with_P_and_S[\"trace_p_flag\"]==\"A\")|(rg_with_P_and_S[\"trace_p_flag\"]==\"B\")|(rg_with_P_and_S[\"trace_p_flag\"]==\"E\")|(rg_with_P_and_S[\"trace_p_flag\"]==\"F\")|(rg_with_P_and_S[\"trace_p_flag\"]==\"H\")|(rg_with_P_and_S[\"trace_s_flag\"]==\"A\"))]\n",
    "print(f\"Number of regular earthquake waveforms with both P and S (after removing data with unknow magnitude, low reliability and auto pick-up phases): {len(rg_with_P_and_S)}\")"
   ]
  },
  {
   "cell_type": "code",
   "execution_count": 50,
   "metadata": {},
   "outputs": [
    {
     "name": "stdout",
     "output_type": "stream",
     "text": [
      "Number of regular earthquake waveforms with both P and S manual picks: 16629706, corresponding to 1844095 events\n"
     ]
    }
   ],
   "source": [
    "selected_RG_events=extract_events(rg_with_P_and_S)\n",
    "print(f\"\"\"Number of regular earthquake waveforms with both P and S manual picks: {len(rg_with_P_and_S)}, corresponding to {len(selected_RG_events)} events\"\"\")"
   ]
  },
  {
   "cell_type": "code",
   "execution_count": 286,
   "metadata": {},
   "outputs": [
    {
     "name": "stdout",
     "output_type": "stream",
     "text": [
      "10097921\n"
     ]
    }
   ],
   "source": [
    "selected_RG_traces=rg_with_P_and_S[rg_with_P_and_S[\"station_code\"].isin(vol_lp_fromfile[\"station_code\"])]\n",
    "selected_RG_traces.reset_index(inplace=True,drop=True)\n",
    "print(len(selected_RG_traces))"
   ]
  },
  {
   "cell_type": "code",
   "execution_count": 298,
   "metadata": {},
   "outputs": [
    {
     "name": "stdout",
     "output_type": "stream",
     "text": [
      "10097921\n"
     ]
    }
   ],
   "source": [
    "print(len(selected_RG_traces))"
   ]
  },
  {
   "cell_type": "code",
   "execution_count": 299,
   "metadata": {},
   "outputs": [
    {
     "name": "stdout",
     "output_type": "stream",
     "text": [
      "1542470\n"
     ]
    }
   ],
   "source": [
    "selected_RG_events=extract_events(selected_RG_traces)\n",
    "print(len(selected_RG_events))"
   ]
  },
  {
   "cell_type": "code",
   "execution_count": 325,
   "metadata": {},
   "outputs": [
    {
     "name": "stdout",
     "output_type": "stream",
     "text": [
      "99670\n",
      "18580\n"
     ]
    }
   ],
   "source": [
    "# x=pd.read_csv(\"/mnt/DATA2/YiyuanZhong/my_data/Japan/japan_LP_with_PS.csv\")\n",
    "# print(len(x))\n",
    "# print(len(extract_events(x)))"
   ]
  },
  {
   "cell_type": "code",
   "execution_count": 313,
   "metadata": {},
   "outputs": [
    {
     "name": "stdout",
     "output_type": "stream",
     "text": [
      "1542470\n",
      "1542470\n",
      "80000\n",
      "523431\n"
     ]
    }
   ],
   "source": [
    "filter_mask=np.zeros(len(selected_RG_events),dtype=bool)\n",
    "print(len(selected_RG_events))\n",
    "print(len(filter_mask))\n",
    "n_traces=80000\n",
    "rand_idxs = np.sort(\n",
    "    np.random.default_rng(seed=100).choice(\n",
    "        len(selected_RG_events), size=n_traces, replace=False\n",
    "    )\n",
    ")\n",
    "filter_mask[rand_idxs] = True\n",
    "downsampled_regular_events=selected_RG_events[filter_mask]\n",
    "\n",
    "downsampled_regular_traces=selected_RG_traces[selected_RG_traces[\"source_id\"].isin(downsampled_regular_events[\"source_id\"])]\n",
    "print(len(downsampled_regular_events))\n",
    "print(len(downsampled_regular_traces))\n",
    "downsampled_regular_traces.reset_index(inplace=True,drop=True)"
   ]
  },
  {
   "cell_type": "code",
   "execution_count": 283,
   "metadata": {},
   "outputs": [
    {
     "name": "stdout",
     "output_type": "stream",
     "text": [
      "10097921\n",
      "10097921\n",
      "500000\n"
     ]
    }
   ],
   "source": [
    "# filter_mask=np.zeros(len(selected_RG_traces),dtype=bool)\n",
    "# print(len(selected_RG_traces))\n",
    "# print(len(filter_mask))\n",
    "# n_traces=500000\n",
    "# rand_idxs = np.sort(\n",
    "#     np.random.default_rng(seed=100).choice(\n",
    "#         len(selected_RG_traces), size=n_traces, replace=False\n",
    "#     )\n",
    "# )\n",
    "# filter_mask[rand_idxs] = True\n",
    "\n",
    "# downsampled_regular_traces=selected_RG_traces[filter_mask]\n",
    "# print(len(downsampled_regular_traces))\n",
    "# downsampled_regular_traces.reset_index(inplace=True,drop=True)"
   ]
  },
  {
   "cell_type": "code",
   "execution_count": 314,
   "metadata": {},
   "outputs": [
    {
     "name": "stdout",
     "output_type": "stream",
     "text": [
      "512236\n"
     ]
    }
   ],
   "source": [
    "downsampled_regular_traces=downsampled_regular_traces[in_region(downsampled_regular_traces[\"source_longitude_deg\"],downsampled_regular_traces[\"source_latitude_deg\"],[123.2, 146, 23.5, 45.5])]\n",
    "downsampled_regular_traces.reset_index(drop=True,inplace=True)\n",
    "print(len(downsampled_regular_traces))"
   ]
  },
  {
   "cell_type": "code",
   "execution_count": 315,
   "metadata": {},
   "outputs": [],
   "source": [
    "region_mask=pd.Series([False]*len(downsampled_regular_traces))\n",
    "\n",
    "for region in regions2:\n",
    "    region_mask=region_mask|in_region(downsampled_regular_traces[\"source_longitude_deg\"],downsampled_regular_traces[\"source_latitude_deg\"],region)"
   ]
  },
  {
   "cell_type": "code",
   "execution_count": 316,
   "metadata": {},
   "outputs": [],
   "source": [
    "downsampled_regular_traces=downsampled_regular_traces[~region_mask]\n",
    "downsampled_regular_traces.reset_index(drop=True,inplace=True)"
   ]
  },
  {
   "cell_type": "code",
   "execution_count": 317,
   "metadata": {},
   "outputs": [
    {
     "name": "stdout",
     "output_type": "stream",
     "text": [
      "324285\n",
      "46318\n"
     ]
    }
   ],
   "source": [
    "print(len(downsampled_regular_traces))\n",
    "print(len(extract_events(downsampled_regular_traces)))"
   ]
  },
  {
   "cell_type": "markdown",
   "metadata": {},
   "source": [
    "select VT near volcanoes"
   ]
  },
  {
   "cell_type": "code",
   "execution_count": 318,
   "metadata": {},
   "outputs": [],
   "source": [
    "from obspy.geodetics import gps2dist_azimuth\n",
    "def distance_to_volcano(ev_lat,ev_lon,vol_lat,vol_lon):\n",
    "    dist, _, _ = gps2dist_azimuth(\n",
    "        ev_lat,\n",
    "        ev_lon,\n",
    "        vol_lat,\n",
    "        vol_lon,\n",
    "    )\n",
    "    return dist"
   ]
  },
  {
   "cell_type": "code",
   "execution_count": 319,
   "metadata": {},
   "outputs": [],
   "source": [
    "vol=pd.read_csv(\"/mnt/DATA2/YiyuanZhong/my_data/Japan/volcanoes/japan_active_vol_JMA.csv\")\n",
    "vol[\"lat\"]=vol[\"lat_deg\"]+vol[\"lat_min\"]/60.0+vol[\"lat_sec\"]/3600\n",
    "vol[\"lon\"]=vol[\"lon_deg\"]+vol[\"lon_min\"]/60.0+vol[\"lon_sec\"]/3600\n",
    "\n",
    "vol2=pd.read_csv(\"/mnt/DATA2/YiyuanZhong/my_data/Japan/volcanoes/japan_active_vol2.csv\")\n",
    "# quaternary volcanoes\n",
    "qua_vol=pd.read_csv(\"/mnt/DATA2/YiyuanZhong/my_data/Japan/volcanoes/japan_qua_volcanoes.csv\")\n",
    "all_vol=pd.concat([vol,vol2,qua_vol],ignore_index=True)"
   ]
  },
  {
   "cell_type": "code",
   "execution_count": 320,
   "metadata": {},
   "outputs": [
    {
     "data": {
      "text/plain": [
       "46318"
      ]
     },
     "execution_count": 320,
     "metadata": {},
     "output_type": "execute_result"
    }
   ],
   "source": [
    "downsampled_rg_events=extract_events(downsampled_regular_traces)\n",
    "len(downsampled_rg_events)"
   ]
  },
  {
   "cell_type": "code",
   "execution_count": 200,
   "metadata": {},
   "outputs": [
    {
     "data": {
      "text/plain": [
       "51.16459843180218"
      ]
     },
     "execution_count": 200,
     "metadata": {},
     "output_type": "execute_result"
    }
   ],
   "source": [
    "6378.137*np.cos(np.deg2rad(45))*np.deg2rad(0.65)"
   ]
  },
  {
   "cell_type": "code",
   "execution_count": 321,
   "metadata": {},
   "outputs": [],
   "source": [
    "region_mask=pd.Series([False]*len(downsampled_rg_events))\n",
    "\n",
    "vol_dist_thre=20e3\n",
    "for lat, lon in zip(all_vol[\"lat\"],all_vol[\"lon\"]):\n",
    "    def check_dist(x):\n",
    "        if np.abs(x[\"source_latitude_deg\"]-lat)>0.7 or np.abs(x[\"source_longitude_deg\"]-lon)>0.7:\n",
    "            return False\n",
    "        else:\n",
    "            return distance_to_volcano(x[\"source_latitude_deg\"],x[\"source_longitude_deg\"],lat,lon)<vol_dist_thre\n",
    "        \n",
    "    dist_mask=downsampled_rg_events.apply(check_dist, axis=1)\n",
    "    region_mask=region_mask|dist_mask"
   ]
  },
  {
   "cell_type": "code",
   "execution_count": 324,
   "metadata": {},
   "outputs": [
    {
     "name": "stdout",
     "output_type": "stream",
     "text": [
      "24640\n",
      "186929\n"
     ]
    }
   ],
   "source": [
    "downsampled_rg_events=downsampled_rg_events[region_mask]\n",
    "downsampled_regular_traces=downsampled_regular_traces[downsampled_regular_traces[\"source_id\"].isin(downsampled_rg_events[\"source_id\"])]\n",
    "downsampled_regular_traces.reset_index(drop=True,inplace=True)\n",
    "print(len(downsampled_rg_events))\n",
    "print(len(downsampled_regular_traces))"
   ]
  },
  {
   "cell_type": "code",
   "execution_count": 327,
   "metadata": {},
   "outputs": [
    {
     "name": "stdout",
     "output_type": "stream",
     "text": [
      "24640\n"
     ]
    }
   ],
   "source": [
    "downsampled_rg_events=extract_events(downsampled_regular_traces)\n",
    "print(len(downsampled_rg_events))"
   ]
  },
  {
   "cell_type": "code",
   "execution_count": 335,
   "metadata": {},
   "outputs": [
    {
     "name": "stdout",
     "output_type": "stream",
     "text": [
      "24640\n",
      "24640\n",
      "20000\n",
      "151858\n"
     ]
    }
   ],
   "source": [
    "random_filter_mask=np.zeros(len(downsampled_rg_events),dtype=bool)\n",
    "rand_idxs = np.sort(\n",
    "    np.random.default_rng(seed=1).choice(\n",
    "        len(downsampled_rg_events), size=20000, replace=False\n",
    "    )\n",
    ")\n",
    "random_filter_mask[rand_idxs] = True\n",
    "downsampled_rg_events2=downsampled_rg_events[random_filter_mask]\n",
    "downsampled_rg_events2.reset_index(drop=True,inplace=True)\n",
    "downsampled_regular_traces2=downsampled_regular_traces[downsampled_regular_traces[\"source_id\"].isin(downsampled_rg_events2[\"source_id\"])]\n",
    "print(len(downsampled_rg_events2))\n",
    "print(len(downsampled_regular_traces2))"
   ]
  },
  {
   "cell_type": "code",
   "execution_count": 337,
   "metadata": {},
   "outputs": [
    {
     "name": "stdout",
     "output_type": "stream",
     "text": [
      "151858\n",
      "151858\n"
     ]
    }
   ],
   "source": [
    "random_filter_mask=np.zeros(len(downsampled_regular_traces2),dtype=bool)\n",
    "# print(len(downsampled_regular_traces2))\n",
    "# print(len(random_filter_mask))\n",
    "n_traces=93000\n",
    "rand_idxs = np.sort(\n",
    "    np.random.default_rng(seed=100).choice(\n",
    "        len(downsampled_regular_traces2), size=n_traces, replace=False\n",
    "    )\n",
    ")\n",
    "random_filter_mask[rand_idxs] = True"
   ]
  },
  {
   "cell_type": "code",
   "execution_count": 338,
   "metadata": {},
   "outputs": [
    {
     "name": "stdout",
     "output_type": "stream",
     "text": [
      "93000\n"
     ]
    }
   ],
   "source": [
    "downsampled_regular_traces2=downsampled_regular_traces2[random_filter_mask]\n",
    "downsampled_regular_traces2.reset_index(drop=True,inplace=True)\n",
    "print(len(downsampled_regular_traces2))"
   ]
  },
  {
   "cell_type": "code",
   "execution_count": 339,
   "metadata": {},
   "outputs": [
    {
     "name": "stdout",
     "output_type": "stream",
     "text": [
      "19299\n"
     ]
    }
   ],
   "source": [
    "print(len(extract_events(downsampled_regular_traces2)))"
   ]
  },
  {
   "cell_type": "code",
   "execution_count": 348,
   "metadata": {},
   "outputs": [],
   "source": [
    "downsampled_regular_traces2.to_csv(\"/mnt/DATA2/YiyuanZhong/my_data/Japan/japan_VT_with_PS.csv\",index=False)"
   ]
  },
  {
   "cell_type": "code",
   "execution_count": 349,
   "metadata": {},
   "outputs": [
    {
     "data": {
      "text/html": [
       "<div>\n",
       "<style scoped>\n",
       "    .dataframe tbody tr th:only-of-type {\n",
       "        vertical-align: middle;\n",
       "    }\n",
       "\n",
       "    .dataframe tbody tr th {\n",
       "        vertical-align: top;\n",
       "    }\n",
       "\n",
       "    .dataframe thead th {\n",
       "        text-align: right;\n",
       "    }\n",
       "</style>\n",
       "<table border=\"1\" class=\"dataframe\">\n",
       "  <thead>\n",
       "    <tr style=\"text-align: right;\">\n",
       "      <th></th>\n",
       "      <th>source_id</th>\n",
       "      <th>source_origin_time</th>\n",
       "      <th>source_latitude_deg</th>\n",
       "      <th>source_longitude_deg</th>\n",
       "      <th>source_depth_km</th>\n",
       "      <th>source_magnitude</th>\n",
       "      <th>source_magnitude_type</th>\n",
       "      <th>source_type</th>\n",
       "      <th>station_network_code</th>\n",
       "      <th>station_code</th>\n",
       "      <th>station_location_code</th>\n",
       "      <th>trace_channel</th>\n",
       "      <th>station_type</th>\n",
       "      <th>trace_p_arrival_time</th>\n",
       "      <th>trace_s_arrival_time</th>\n",
       "      <th>trace_p_flag</th>\n",
       "      <th>trace_s_flag</th>\n",
       "    </tr>\n",
       "  </thead>\n",
       "  <tbody>\n",
       "    <tr>\n",
       "      <th>0</th>\n",
       "      <td>J040401034748303431161391259</td>\n",
       "      <td>2004-04-01T03:47:48.300000Z</td>\n",
       "      <td>34.519333</td>\n",
       "      <td>139.209833</td>\n",
       "      <td>11.79</td>\n",
       "      <td>1.3</td>\n",
       "      <td>V</td>\n",
       "      <td>natural</td>\n",
       "      <td>NaN</td>\n",
       "      <td>OSHIM3</td>\n",
       "      <td>--</td>\n",
       "      <td>--</td>\n",
       "      <td>N</td>\n",
       "      <td>2004-04-01T03:47:53.930000Z</td>\n",
       "      <td>2004-04-01T03:47:58.380000Z</td>\n",
       "      <td>M</td>\n",
       "      <td>M</td>\n",
       "    </tr>\n",
       "    <tr>\n",
       "      <th>1</th>\n",
       "      <td>J040401034748303431161391259</td>\n",
       "      <td>2004-04-01T03:47:48.300000Z</td>\n",
       "      <td>34.519333</td>\n",
       "      <td>139.209833</td>\n",
       "      <td>11.79</td>\n",
       "      <td>1.3</td>\n",
       "      <td>V</td>\n",
       "      <td>natural</td>\n",
       "      <td>NaN</td>\n",
       "      <td>IZUSIM</td>\n",
       "      <td>--</td>\n",
       "      <td>--</td>\n",
       "      <td>N</td>\n",
       "      <td>2004-04-01T03:47:55.230000Z</td>\n",
       "      <td>2004-04-01T03:48:00.230000Z</td>\n",
       "      <td>M</td>\n",
       "      <td>M</td>\n",
       "    </tr>\n",
       "    <tr>\n",
       "      <th>2</th>\n",
       "      <td>J040401034748303431161391259</td>\n",
       "      <td>2004-04-01T03:47:48.300000Z</td>\n",
       "      <td>34.519333</td>\n",
       "      <td>139.209833</td>\n",
       "      <td>11.79</td>\n",
       "      <td>1.3</td>\n",
       "      <td>V</td>\n",
       "      <td>natural</td>\n",
       "      <td>NaN</td>\n",
       "      <td>N.MIZH</td>\n",
       "      <td>--</td>\n",
       "      <td>--</td>\n",
       "      <td>h</td>\n",
       "      <td>2004-04-01T03:47:55.300000Z</td>\n",
       "      <td>2004-04-01T03:48:00.260000Z</td>\n",
       "      <td>M</td>\n",
       "      <td>M</td>\n",
       "    </tr>\n",
       "    <tr>\n",
       "      <th>3</th>\n",
       "      <td>J040401034748303431161391259</td>\n",
       "      <td>2004-04-01T03:47:48.300000Z</td>\n",
       "      <td>34.519333</td>\n",
       "      <td>139.209833</td>\n",
       "      <td>11.79</td>\n",
       "      <td>1.3</td>\n",
       "      <td>V</td>\n",
       "      <td>natural</td>\n",
       "      <td>NaN</td>\n",
       "      <td>KAMAT2</td>\n",
       "      <td>--</td>\n",
       "      <td>--</td>\n",
       "      <td>N</td>\n",
       "      <td>2004-04-01T03:47:56.750000Z</td>\n",
       "      <td>2004-04-01T03:48:02.710000Z</td>\n",
       "      <td>N</td>\n",
       "      <td>N</td>\n",
       "    </tr>\n",
       "    <tr>\n",
       "      <th>4</th>\n",
       "      <td>J040401034748303431161391259</td>\n",
       "      <td>2004-04-01T03:47:48.300000Z</td>\n",
       "      <td>34.519333</td>\n",
       "      <td>139.209833</td>\n",
       "      <td>11.79</td>\n",
       "      <td>1.3</td>\n",
       "      <td>V</td>\n",
       "      <td>natural</td>\n",
       "      <td>NaN</td>\n",
       "      <td>N.NSI</td>\n",
       "      <td>--</td>\n",
       "      <td>--</td>\n",
       "      <td>s</td>\n",
       "      <td>2004-04-01T03:47:56.580000Z</td>\n",
       "      <td>2004-04-01T03:48:02.480000Z</td>\n",
       "      <td>M</td>\n",
       "      <td>M</td>\n",
       "    </tr>\n",
       "    <tr>\n",
       "      <th>...</th>\n",
       "      <td>...</td>\n",
       "      <td>...</td>\n",
       "      <td>...</td>\n",
       "      <td>...</td>\n",
       "      <td>...</td>\n",
       "      <td>...</td>\n",
       "      <td>...</td>\n",
       "      <td>...</td>\n",
       "      <td>...</td>\n",
       "      <td>...</td>\n",
       "      <td>...</td>\n",
       "      <td>...</td>\n",
       "      <td>...</td>\n",
       "      <td>...</td>\n",
       "      <td>...</td>\n",
       "      <td>...</td>\n",
       "      <td>...</td>\n",
       "    </tr>\n",
       "    <tr>\n",
       "      <th>92995</th>\n",
       "      <td>J230619005425233445521391724</td>\n",
       "      <td>2023-06-19T00:54:25.230000Z</td>\n",
       "      <td>34.758667</td>\n",
       "      <td>139.287333</td>\n",
       "      <td>0.00</td>\n",
       "      <td>2.3</td>\n",
       "      <td>V</td>\n",
       "      <td>natural</td>\n",
       "      <td>NaN</td>\n",
       "      <td>IZUSIM</td>\n",
       "      <td>--</td>\n",
       "      <td>--</td>\n",
       "      <td>N</td>\n",
       "      <td>2023-06-19T00:54:32.390000Z</td>\n",
       "      <td>2023-06-19T00:54:37.780000Z</td>\n",
       "      <td>N</td>\n",
       "      <td>N</td>\n",
       "    </tr>\n",
       "    <tr>\n",
       "      <th>92996</th>\n",
       "      <td>J230619005425233445521391724</td>\n",
       "      <td>2023-06-19T00:54:25.230000Z</td>\n",
       "      <td>34.758667</td>\n",
       "      <td>139.287333</td>\n",
       "      <td>0.00</td>\n",
       "      <td>2.3</td>\n",
       "      <td>V</td>\n",
       "      <td>natural</td>\n",
       "      <td>NaN</td>\n",
       "      <td>N.NS2H</td>\n",
       "      <td>--</td>\n",
       "      <td>--</td>\n",
       "      <td>h</td>\n",
       "      <td>2023-06-19T00:54:33.840000Z</td>\n",
       "      <td>2023-06-19T00:54:40.040000Z</td>\n",
       "      <td>N</td>\n",
       "      <td>N</td>\n",
       "    </tr>\n",
       "    <tr>\n",
       "      <th>92997</th>\n",
       "      <td>J230619005425233445521391724</td>\n",
       "      <td>2023-06-19T00:54:25.230000Z</td>\n",
       "      <td>34.758667</td>\n",
       "      <td>139.287333</td>\n",
       "      <td>0.00</td>\n",
       "      <td>2.3</td>\n",
       "      <td>V</td>\n",
       "      <td>natural</td>\n",
       "      <td>NaN</td>\n",
       "      <td>ODAWA2</td>\n",
       "      <td>--</td>\n",
       "      <td>--</td>\n",
       "      <td>N</td>\n",
       "      <td>2023-06-19T00:54:36.050000Z</td>\n",
       "      <td>2023-06-19T00:54:43.750000Z</td>\n",
       "      <td>N</td>\n",
       "      <td>N</td>\n",
       "    </tr>\n",
       "    <tr>\n",
       "      <th>92998</th>\n",
       "      <td>J230619005425233445521391724</td>\n",
       "      <td>2023-06-19T00:54:25.230000Z</td>\n",
       "      <td>34.758667</td>\n",
       "      <td>139.287333</td>\n",
       "      <td>0.00</td>\n",
       "      <td>2.3</td>\n",
       "      <td>V</td>\n",
       "      <td>natural</td>\n",
       "      <td>NaN</td>\n",
       "      <td>N.ATGH</td>\n",
       "      <td>--</td>\n",
       "      <td>--</td>\n",
       "      <td>h</td>\n",
       "      <td>2023-06-19T00:54:38.180000Z</td>\n",
       "      <td>2023-06-19T00:54:48.020000Z</td>\n",
       "      <td>N</td>\n",
       "      <td>N</td>\n",
       "    </tr>\n",
       "    <tr>\n",
       "      <th>92999</th>\n",
       "      <td>J230619005425233445521391724</td>\n",
       "      <td>2023-06-19T00:54:25.230000Z</td>\n",
       "      <td>34.758667</td>\n",
       "      <td>139.287333</td>\n",
       "      <td>0.00</td>\n",
       "      <td>2.3</td>\n",
       "      <td>V</td>\n",
       "      <td>natural</td>\n",
       "      <td>NaN</td>\n",
       "      <td>SHIMOB</td>\n",
       "      <td>--</td>\n",
       "      <td>--</td>\n",
       "      <td>N</td>\n",
       "      <td>2023-06-19T00:54:43.480000Z</td>\n",
       "      <td>2023-06-19T00:54:56.410000Z</td>\n",
       "      <td>N</td>\n",
       "      <td>N</td>\n",
       "    </tr>\n",
       "  </tbody>\n",
       "</table>\n",
       "<p>93000 rows × 17 columns</p>\n",
       "</div>"
      ],
      "text/plain": [
       "                          source_id           source_origin_time   \n",
       "0      J040401034748303431161391259  2004-04-01T03:47:48.300000Z  \\\n",
       "1      J040401034748303431161391259  2004-04-01T03:47:48.300000Z   \n",
       "2      J040401034748303431161391259  2004-04-01T03:47:48.300000Z   \n",
       "3      J040401034748303431161391259  2004-04-01T03:47:48.300000Z   \n",
       "4      J040401034748303431161391259  2004-04-01T03:47:48.300000Z   \n",
       "...                             ...                          ...   \n",
       "92995  J230619005425233445521391724  2023-06-19T00:54:25.230000Z   \n",
       "92996  J230619005425233445521391724  2023-06-19T00:54:25.230000Z   \n",
       "92997  J230619005425233445521391724  2023-06-19T00:54:25.230000Z   \n",
       "92998  J230619005425233445521391724  2023-06-19T00:54:25.230000Z   \n",
       "92999  J230619005425233445521391724  2023-06-19T00:54:25.230000Z   \n",
       "\n",
       "       source_latitude_deg  source_longitude_deg  source_depth_km   \n",
       "0                34.519333            139.209833            11.79  \\\n",
       "1                34.519333            139.209833            11.79   \n",
       "2                34.519333            139.209833            11.79   \n",
       "3                34.519333            139.209833            11.79   \n",
       "4                34.519333            139.209833            11.79   \n",
       "...                    ...                   ...              ...   \n",
       "92995            34.758667            139.287333             0.00   \n",
       "92996            34.758667            139.287333             0.00   \n",
       "92997            34.758667            139.287333             0.00   \n",
       "92998            34.758667            139.287333             0.00   \n",
       "92999            34.758667            139.287333             0.00   \n",
       "\n",
       "       source_magnitude source_magnitude_type source_type   \n",
       "0                   1.3                     V     natural  \\\n",
       "1                   1.3                     V     natural   \n",
       "2                   1.3                     V     natural   \n",
       "3                   1.3                     V     natural   \n",
       "4                   1.3                     V     natural   \n",
       "...                 ...                   ...         ...   \n",
       "92995               2.3                     V     natural   \n",
       "92996               2.3                     V     natural   \n",
       "92997               2.3                     V     natural   \n",
       "92998               2.3                     V     natural   \n",
       "92999               2.3                     V     natural   \n",
       "\n",
       "       station_network_code station_code station_location_code trace_channel   \n",
       "0                       NaN       OSHIM3                    --            --  \\\n",
       "1                       NaN       IZUSIM                    --            --   \n",
       "2                       NaN       N.MIZH                    --            --   \n",
       "3                       NaN       KAMAT2                    --            --   \n",
       "4                       NaN        N.NSI                    --            --   \n",
       "...                     ...          ...                   ...           ...   \n",
       "92995                   NaN       IZUSIM                    --            --   \n",
       "92996                   NaN       N.NS2H                    --            --   \n",
       "92997                   NaN       ODAWA2                    --            --   \n",
       "92998                   NaN       N.ATGH                    --            --   \n",
       "92999                   NaN       SHIMOB                    --            --   \n",
       "\n",
       "      station_type         trace_p_arrival_time         trace_s_arrival_time   \n",
       "0                N  2004-04-01T03:47:53.930000Z  2004-04-01T03:47:58.380000Z  \\\n",
       "1                N  2004-04-01T03:47:55.230000Z  2004-04-01T03:48:00.230000Z   \n",
       "2                h  2004-04-01T03:47:55.300000Z  2004-04-01T03:48:00.260000Z   \n",
       "3                N  2004-04-01T03:47:56.750000Z  2004-04-01T03:48:02.710000Z   \n",
       "4                s  2004-04-01T03:47:56.580000Z  2004-04-01T03:48:02.480000Z   \n",
       "...            ...                          ...                          ...   \n",
       "92995            N  2023-06-19T00:54:32.390000Z  2023-06-19T00:54:37.780000Z   \n",
       "92996            h  2023-06-19T00:54:33.840000Z  2023-06-19T00:54:40.040000Z   \n",
       "92997            N  2023-06-19T00:54:36.050000Z  2023-06-19T00:54:43.750000Z   \n",
       "92998            h  2023-06-19T00:54:38.180000Z  2023-06-19T00:54:48.020000Z   \n",
       "92999            N  2023-06-19T00:54:43.480000Z  2023-06-19T00:54:56.410000Z   \n",
       "\n",
       "      trace_p_flag trace_s_flag  \n",
       "0                M            M  \n",
       "1                M            M  \n",
       "2                M            M  \n",
       "3                N            N  \n",
       "4                M            M  \n",
       "...            ...          ...  \n",
       "92995            N            N  \n",
       "92996            N            N  \n",
       "92997            N            N  \n",
       "92998            N            N  \n",
       "92999            N            N  \n",
       "\n",
       "[93000 rows x 17 columns]"
      ]
     },
     "execution_count": 349,
     "metadata": {},
     "output_type": "execute_result"
    }
   ],
   "source": [
    "downsampled_regular_traces2"
   ]
  },
  {
   "cell_type": "code",
   "execution_count": 6,
   "metadata": {},
   "outputs": [
    {
     "data": {
      "text/html": [
       "<div>\n",
       "<style scoped>\n",
       "    .dataframe tbody tr th:only-of-type {\n",
       "        vertical-align: middle;\n",
       "    }\n",
       "\n",
       "    .dataframe tbody tr th {\n",
       "        vertical-align: top;\n",
       "    }\n",
       "\n",
       "    .dataframe thead th {\n",
       "        text-align: right;\n",
       "    }\n",
       "</style>\n",
       "<table border=\"1\" class=\"dataframe\">\n",
       "  <thead>\n",
       "    <tr style=\"text-align: right;\">\n",
       "      <th></th>\n",
       "      <th>source_id</th>\n",
       "      <th>source_origin_time</th>\n",
       "      <th>source_latitude_deg</th>\n",
       "      <th>source_longitude_deg</th>\n",
       "      <th>source_depth_km</th>\n",
       "      <th>source_magnitude</th>\n",
       "      <th>source_magnitude_type</th>\n",
       "      <th>source_type</th>\n",
       "      <th>station_network_code</th>\n",
       "      <th>station_code</th>\n",
       "      <th>...</th>\n",
       "      <th>trace_p_arrival_time</th>\n",
       "      <th>trace_s_arrival_time</th>\n",
       "      <th>station_latitude_deg</th>\n",
       "      <th>station_longitude_deg</th>\n",
       "      <th>station_elevation_m</th>\n",
       "      <th>station_epicentral_distance_m</th>\n",
       "      <th>path_azimuth_deg</th>\n",
       "      <th>path_back_azimuth_deg</th>\n",
       "      <th>trace_name</th>\n",
       "      <th>trace_sampling_rate_hz</th>\n",
       "    </tr>\n",
       "  </thead>\n",
       "  <tbody>\n",
       "    <tr>\n",
       "      <th>0</th>\n",
       "      <td>J040401034748303431161391259</td>\n",
       "      <td>2004-04-01T03:47:48.300000Z</td>\n",
       "      <td>34.519333</td>\n",
       "      <td>139.209833</td>\n",
       "      <td>11.79</td>\n",
       "      <td>1.3</td>\n",
       "      <td>V</td>\n",
       "      <td>natural</td>\n",
       "      <td>NaN</td>\n",
       "      <td>OSHIM3</td>\n",
       "      <td>...</td>\n",
       "      <td>2004-04-01T03:47:53.930000Z</td>\n",
       "      <td>2004-04-01T03:47:58.380000Z</td>\n",
       "      <td>34.7208</td>\n",
       "      <td>139.4280</td>\n",
       "      <td>405.0</td>\n",
       "      <td>29996.194889</td>\n",
       "      <td>41.773013</td>\n",
       "      <td>221.896957</td>\n",
       "      <td>J040401034748303431161391259_OSHIM3.mseed</td>\n",
       "      <td>100</td>\n",
       "    </tr>\n",
       "    <tr>\n",
       "      <th>1</th>\n",
       "      <td>J040401034748303431161391259</td>\n",
       "      <td>2004-04-01T03:47:48.300000Z</td>\n",
       "      <td>34.519333</td>\n",
       "      <td>139.209833</td>\n",
       "      <td>11.79</td>\n",
       "      <td>1.3</td>\n",
       "      <td>V</td>\n",
       "      <td>natural</td>\n",
       "      <td>NaN</td>\n",
       "      <td>IZUSIM</td>\n",
       "      <td>...</td>\n",
       "      <td>2004-04-01T03:47:55.230000Z</td>\n",
       "      <td>2004-04-01T03:48:00.230000Z</td>\n",
       "      <td>34.7212</td>\n",
       "      <td>138.8750</td>\n",
       "      <td>135.0</td>\n",
       "      <td>38005.073480</td>\n",
       "      <td>306.197302</td>\n",
       "      <td>126.007071</td>\n",
       "      <td>J040401034748303431161391259_IZUSIM.mseed</td>\n",
       "      <td>100</td>\n",
       "    </tr>\n",
       "    <tr>\n",
       "      <th>2</th>\n",
       "      <td>J040401034748303431161391259</td>\n",
       "      <td>2004-04-01T03:47:48.300000Z</td>\n",
       "      <td>34.519333</td>\n",
       "      <td>139.209833</td>\n",
       "      <td>11.79</td>\n",
       "      <td>1.3</td>\n",
       "      <td>V</td>\n",
       "      <td>natural</td>\n",
       "      <td>NaN</td>\n",
       "      <td>N.MIZH</td>\n",
       "      <td>...</td>\n",
       "      <td>2004-04-01T03:47:55.300000Z</td>\n",
       "      <td>2004-04-01T03:48:00.260000Z</td>\n",
       "      <td>34.6749</td>\n",
       "      <td>138.8340</td>\n",
       "      <td>-50.0</td>\n",
       "      <td>38554.463616</td>\n",
       "      <td>296.697282</td>\n",
       "      <td>116.483882</td>\n",
       "      <td>J040401034748303431161391259_N.MIZH.mseed</td>\n",
       "      <td>100</td>\n",
       "    </tr>\n",
       "    <tr>\n",
       "      <th>3</th>\n",
       "      <td>J040401034748303431161391259</td>\n",
       "      <td>2004-04-01T03:47:48.300000Z</td>\n",
       "      <td>34.519333</td>\n",
       "      <td>139.209833</td>\n",
       "      <td>11.79</td>\n",
       "      <td>1.3</td>\n",
       "      <td>V</td>\n",
       "      <td>natural</td>\n",
       "      <td>NaN</td>\n",
       "      <td>KAMAT2</td>\n",
       "      <td>...</td>\n",
       "      <td>2004-04-01T03:47:56.750000Z</td>\n",
       "      <td>2004-04-01T03:48:02.710000Z</td>\n",
       "      <td>34.9285</td>\n",
       "      <td>139.0608</td>\n",
       "      <td>175.0</td>\n",
       "      <td>47399.200697</td>\n",
       "      <td>343.305449</td>\n",
       "      <td>163.220560</td>\n",
       "      <td>J040401034748303431161391259_KAMAT2.mseed</td>\n",
       "      <td>100</td>\n",
       "    </tr>\n",
       "    <tr>\n",
       "      <th>4</th>\n",
       "      <td>J040401034748303431161391259</td>\n",
       "      <td>2004-04-01T03:47:48.300000Z</td>\n",
       "      <td>34.519333</td>\n",
       "      <td>139.209833</td>\n",
       "      <td>11.79</td>\n",
       "      <td>1.3</td>\n",
       "      <td>V</td>\n",
       "      <td>natural</td>\n",
       "      <td>NaN</td>\n",
       "      <td>N.NSI</td>\n",
       "      <td>...</td>\n",
       "      <td>2004-04-01T03:47:56.580000Z</td>\n",
       "      <td>2004-04-01T03:48:02.480000Z</td>\n",
       "      <td>34.7903</td>\n",
       "      <td>138.8009</td>\n",
       "      <td>-422.0</td>\n",
       "      <td>48049.938416</td>\n",
       "      <td>308.841173</td>\n",
       "      <td>128.608641</td>\n",
       "      <td>J040401034748303431161391259_N.NSI.mseed</td>\n",
       "      <td>100</td>\n",
       "    </tr>\n",
       "    <tr>\n",
       "      <th>...</th>\n",
       "      <td>...</td>\n",
       "      <td>...</td>\n",
       "      <td>...</td>\n",
       "      <td>...</td>\n",
       "      <td>...</td>\n",
       "      <td>...</td>\n",
       "      <td>...</td>\n",
       "      <td>...</td>\n",
       "      <td>...</td>\n",
       "      <td>...</td>\n",
       "      <td>...</td>\n",
       "      <td>...</td>\n",
       "      <td>...</td>\n",
       "      <td>...</td>\n",
       "      <td>...</td>\n",
       "      <td>...</td>\n",
       "      <td>...</td>\n",
       "      <td>...</td>\n",
       "      <td>...</td>\n",
       "      <td>...</td>\n",
       "      <td>...</td>\n",
       "    </tr>\n",
       "    <tr>\n",
       "      <th>85652</th>\n",
       "      <td>J230619005425233445521391724</td>\n",
       "      <td>2023-06-19T00:54:25.230000Z</td>\n",
       "      <td>34.758667</td>\n",
       "      <td>139.287333</td>\n",
       "      <td>0.00</td>\n",
       "      <td>2.3</td>\n",
       "      <td>V</td>\n",
       "      <td>natural</td>\n",
       "      <td>NaN</td>\n",
       "      <td>N.ATGH</td>\n",
       "      <td>...</td>\n",
       "      <td>2023-06-19T00:54:38.180000Z</td>\n",
       "      <td>2023-06-19T00:54:48.020000Z</td>\n",
       "      <td>35.4040</td>\n",
       "      <td>139.3539</td>\n",
       "      <td>-1788.0</td>\n",
       "      <td>71851.428717</td>\n",
       "      <td>4.827385</td>\n",
       "      <td>184.865642</td>\n",
       "      <td>J230619005425233445521391724_N.ATGH.mseed</td>\n",
       "      <td>100</td>\n",
       "    </tr>\n",
       "    <tr>\n",
       "      <th>85653</th>\n",
       "      <td>J230619005425233445521391724</td>\n",
       "      <td>2023-06-19T00:54:25.230000Z</td>\n",
       "      <td>34.758667</td>\n",
       "      <td>139.287333</td>\n",
       "      <td>0.00</td>\n",
       "      <td>2.3</td>\n",
       "      <td>V</td>\n",
       "      <td>natural</td>\n",
       "      <td>NaN</td>\n",
       "      <td>N.ITOH</td>\n",
       "      <td>...</td>\n",
       "      <td>2023-06-19T00:54:30.170000Z</td>\n",
       "      <td>2023-06-19T00:54:34.070000Z</td>\n",
       "      <td>34.9521</td>\n",
       "      <td>139.1379</td>\n",
       "      <td>-82.0</td>\n",
       "      <td>25441.052117</td>\n",
       "      <td>327.551865</td>\n",
       "      <td>147.466459</td>\n",
       "      <td>J230619005425233445521391724_N.ITOH.mseed</td>\n",
       "      <td>100</td>\n",
       "    </tr>\n",
       "    <tr>\n",
       "      <th>85654</th>\n",
       "      <td>J230619005425233445521391724</td>\n",
       "      <td>2023-06-19T00:54:25.230000Z</td>\n",
       "      <td>34.758667</td>\n",
       "      <td>139.287333</td>\n",
       "      <td>0.00</td>\n",
       "      <td>2.3</td>\n",
       "      <td>V</td>\n",
       "      <td>natural</td>\n",
       "      <td>NaN</td>\n",
       "      <td>OSHIM3</td>\n",
       "      <td>...</td>\n",
       "      <td>2023-06-19T00:54:27.900000Z</td>\n",
       "      <td>2023-06-19T00:54:29.410000Z</td>\n",
       "      <td>34.7208</td>\n",
       "      <td>139.4280</td>\n",
       "      <td>405.0</td>\n",
       "      <td>13548.878387</td>\n",
       "      <td>108.022632</td>\n",
       "      <td>288.102787</td>\n",
       "      <td>J230619005425233445521391724_OSHIM3.mseed</td>\n",
       "      <td>100</td>\n",
       "    </tr>\n",
       "    <tr>\n",
       "      <th>85655</th>\n",
       "      <td>J230619005425233445521391724</td>\n",
       "      <td>2023-06-19T00:54:25.230000Z</td>\n",
       "      <td>34.758667</td>\n",
       "      <td>139.287333</td>\n",
       "      <td>0.00</td>\n",
       "      <td>2.3</td>\n",
       "      <td>V</td>\n",
       "      <td>natural</td>\n",
       "      <td>NaN</td>\n",
       "      <td>N.JIZH</td>\n",
       "      <td>...</td>\n",
       "      <td>2023-06-19T00:54:31.340000Z</td>\n",
       "      <td>2023-06-19T00:54:35.810000Z</td>\n",
       "      <td>34.9161</td>\n",
       "      <td>138.9936</td>\n",
       "      <td>255.0</td>\n",
       "      <td>32044.547930</td>\n",
       "      <td>303.110485</td>\n",
       "      <td>122.942693</td>\n",
       "      <td>J230619005425233445521391724_N.JIZH.mseed</td>\n",
       "      <td>100</td>\n",
       "    </tr>\n",
       "    <tr>\n",
       "      <th>85656</th>\n",
       "      <td>J230619005425233445521391724</td>\n",
       "      <td>2023-06-19T00:54:25.230000Z</td>\n",
       "      <td>34.758667</td>\n",
       "      <td>139.287333</td>\n",
       "      <td>0.00</td>\n",
       "      <td>2.3</td>\n",
       "      <td>V</td>\n",
       "      <td>natural</td>\n",
       "      <td>NaN</td>\n",
       "      <td>SHIMOB</td>\n",
       "      <td>...</td>\n",
       "      <td>2023-06-19T00:54:43.480000Z</td>\n",
       "      <td>2023-06-19T00:54:56.410000Z</td>\n",
       "      <td>35.5008</td>\n",
       "      <td>138.5412</td>\n",
       "      <td>775.0</td>\n",
       "      <td>106787.457145</td>\n",
       "      <td>320.658536</td>\n",
       "      <td>140.229175</td>\n",
       "      <td>J230619005425233445521391724_SHIMOB.mseed</td>\n",
       "      <td>100</td>\n",
       "    </tr>\n",
       "  </tbody>\n",
       "</table>\n",
       "<p>85657 rows × 22 columns</p>\n",
       "</div>"
      ],
      "text/plain": [
       "                          source_id           source_origin_time   \n",
       "0      J040401034748303431161391259  2004-04-01T03:47:48.300000Z  \\\n",
       "1      J040401034748303431161391259  2004-04-01T03:47:48.300000Z   \n",
       "2      J040401034748303431161391259  2004-04-01T03:47:48.300000Z   \n",
       "3      J040401034748303431161391259  2004-04-01T03:47:48.300000Z   \n",
       "4      J040401034748303431161391259  2004-04-01T03:47:48.300000Z   \n",
       "...                             ...                          ...   \n",
       "85652  J230619005425233445521391724  2023-06-19T00:54:25.230000Z   \n",
       "85653  J230619005425233445521391724  2023-06-19T00:54:25.230000Z   \n",
       "85654  J230619005425233445521391724  2023-06-19T00:54:25.230000Z   \n",
       "85655  J230619005425233445521391724  2023-06-19T00:54:25.230000Z   \n",
       "85656  J230619005425233445521391724  2023-06-19T00:54:25.230000Z   \n",
       "\n",
       "       source_latitude_deg  source_longitude_deg  source_depth_km   \n",
       "0                34.519333            139.209833            11.79  \\\n",
       "1                34.519333            139.209833            11.79   \n",
       "2                34.519333            139.209833            11.79   \n",
       "3                34.519333            139.209833            11.79   \n",
       "4                34.519333            139.209833            11.79   \n",
       "...                    ...                   ...              ...   \n",
       "85652            34.758667            139.287333             0.00   \n",
       "85653            34.758667            139.287333             0.00   \n",
       "85654            34.758667            139.287333             0.00   \n",
       "85655            34.758667            139.287333             0.00   \n",
       "85656            34.758667            139.287333             0.00   \n",
       "\n",
       "       source_magnitude source_magnitude_type source_type   \n",
       "0                   1.3                     V     natural  \\\n",
       "1                   1.3                     V     natural   \n",
       "2                   1.3                     V     natural   \n",
       "3                   1.3                     V     natural   \n",
       "4                   1.3                     V     natural   \n",
       "...                 ...                   ...         ...   \n",
       "85652               2.3                     V     natural   \n",
       "85653               2.3                     V     natural   \n",
       "85654               2.3                     V     natural   \n",
       "85655               2.3                     V     natural   \n",
       "85656               2.3                     V     natural   \n",
       "\n",
       "       station_network_code station_code  ...         trace_p_arrival_time   \n",
       "0                       NaN       OSHIM3  ...  2004-04-01T03:47:53.930000Z  \\\n",
       "1                       NaN       IZUSIM  ...  2004-04-01T03:47:55.230000Z   \n",
       "2                       NaN       N.MIZH  ...  2004-04-01T03:47:55.300000Z   \n",
       "3                       NaN       KAMAT2  ...  2004-04-01T03:47:56.750000Z   \n",
       "4                       NaN        N.NSI  ...  2004-04-01T03:47:56.580000Z   \n",
       "...                     ...          ...  ...                          ...   \n",
       "85652                   NaN       N.ATGH  ...  2023-06-19T00:54:38.180000Z   \n",
       "85653                   NaN       N.ITOH  ...  2023-06-19T00:54:30.170000Z   \n",
       "85654                   NaN       OSHIM3  ...  2023-06-19T00:54:27.900000Z   \n",
       "85655                   NaN       N.JIZH  ...  2023-06-19T00:54:31.340000Z   \n",
       "85656                   NaN       SHIMOB  ...  2023-06-19T00:54:43.480000Z   \n",
       "\n",
       "              trace_s_arrival_time station_latitude_deg station_longitude_deg   \n",
       "0      2004-04-01T03:47:58.380000Z              34.7208              139.4280  \\\n",
       "1      2004-04-01T03:48:00.230000Z              34.7212              138.8750   \n",
       "2      2004-04-01T03:48:00.260000Z              34.6749              138.8340   \n",
       "3      2004-04-01T03:48:02.710000Z              34.9285              139.0608   \n",
       "4      2004-04-01T03:48:02.480000Z              34.7903              138.8009   \n",
       "...                            ...                  ...                   ...   \n",
       "85652  2023-06-19T00:54:48.020000Z              35.4040              139.3539   \n",
       "85653  2023-06-19T00:54:34.070000Z              34.9521              139.1379   \n",
       "85654  2023-06-19T00:54:29.410000Z              34.7208              139.4280   \n",
       "85655  2023-06-19T00:54:35.810000Z              34.9161              138.9936   \n",
       "85656  2023-06-19T00:54:56.410000Z              35.5008              138.5412   \n",
       "\n",
       "       station_elevation_m  station_epicentral_distance_m  path_azimuth_deg   \n",
       "0                    405.0                   29996.194889         41.773013  \\\n",
       "1                    135.0                   38005.073480        306.197302   \n",
       "2                    -50.0                   38554.463616        296.697282   \n",
       "3                    175.0                   47399.200697        343.305449   \n",
       "4                   -422.0                   48049.938416        308.841173   \n",
       "...                    ...                            ...               ...   \n",
       "85652              -1788.0                   71851.428717          4.827385   \n",
       "85653                -82.0                   25441.052117        327.551865   \n",
       "85654                405.0                   13548.878387        108.022632   \n",
       "85655                255.0                   32044.547930        303.110485   \n",
       "85656                775.0                  106787.457145        320.658536   \n",
       "\n",
       "       path_back_azimuth_deg                                 trace_name   \n",
       "0                 221.896957  J040401034748303431161391259_OSHIM3.mseed  \\\n",
       "1                 126.007071  J040401034748303431161391259_IZUSIM.mseed   \n",
       "2                 116.483882  J040401034748303431161391259_N.MIZH.mseed   \n",
       "3                 163.220560  J040401034748303431161391259_KAMAT2.mseed   \n",
       "4                 128.608641   J040401034748303431161391259_N.NSI.mseed   \n",
       "...                      ...                                        ...   \n",
       "85652             184.865642  J230619005425233445521391724_N.ATGH.mseed   \n",
       "85653             147.466459  J230619005425233445521391724_N.ITOH.mseed   \n",
       "85654             288.102787  J230619005425233445521391724_OSHIM3.mseed   \n",
       "85655             122.942693  J230619005425233445521391724_N.JIZH.mseed   \n",
       "85656             140.229175  J230619005425233445521391724_SHIMOB.mseed   \n",
       "\n",
       "       trace_sampling_rate_hz  \n",
       "0                         100  \n",
       "1                         100  \n",
       "2                         100  \n",
       "3                         100  \n",
       "4                         100  \n",
       "...                       ...  \n",
       "85652                     100  \n",
       "85653                     100  \n",
       "85654                     100  \n",
       "85655                     100  \n",
       "85656                     100  \n",
       "\n",
       "[85657 rows x 22 columns]"
      ]
     },
     "execution_count": 6,
     "metadata": {},
     "output_type": "execute_result"
    }
   ],
   "source": [
    "downloaded_vt=pd.read_csv(\"/mnt/DATA2/YiyuanZhong/my_data/Japan/VT/mseed_log/downloads.csv\")\n",
    "downloaded_vt"
   ]
  },
  {
   "cell_type": "markdown",
   "metadata": {},
   "source": [
    "# Statics of the skipped records"
   ]
  },
  {
   "cell_type": "code",
   "execution_count": 13,
   "metadata": {},
   "outputs": [
    {
     "name": "stdout",
     "output_type": "stream",
     "text": [
      "25898\n",
      "477751\n"
     ]
    }
   ],
   "source": [
    "unknown_event_format=pd.read_csv(\"/mnt/DATA2/YiyuanZhong/my_data/Japan/skipped_events.csv\")\n",
    "unknown_station_format=pd.read_csv(\"/mnt/DATA2/YiyuanZhong/my_data/Japan/skipped_stations.csv\")\n",
    "print(f\"{len(unknown_event_format)}\")\n",
    "print(f\"{len(unknown_station_format)}\")"
   ]
  },
  {
   "cell_type": "markdown",
   "metadata": {},
   "source": [
    "# Tectonic LP and volcanic LP"
   ]
  },
  {
   "cell_type": "code",
   "execution_count": 14,
   "metadata": {},
   "outputs": [
    {
     "name": "stdout",
     "output_type": "stream",
     "text": [
      "655154\n"
     ]
    }
   ],
   "source": [
    "tec_mask1=pd.Series([False]*len(full_lp))\n",
    "print(len(tec_mask1))\n",
    "\n",
    "for region in regions:\n",
    "    tec_mask1=tec_mask1|in_region(full_lp[\"source_longitude_deg\"],full_lp[\"source_latitude_deg\"],region)"
   ]
  },
  {
   "cell_type": "code",
   "execution_count": 15,
   "metadata": {},
   "outputs": [
    {
     "name": "stdout",
     "output_type": "stream",
     "text": [
      "280832 volcanic lp waveforms\n",
      "374322 tectonic lp waveforms\n",
      "20511 volcanic lp events\n",
      "34536 tectonic lp events\n"
     ]
    }
   ],
   "source": [
    "full_tec_lp=full_lp[tec_mask1]\n",
    "full_vol_lp=full_lp[~tec_mask1]\n",
    "full_tec_lp_events=extract_events(full_tec_lp)\n",
    "full_vol_lp_events=extract_events(full_vol_lp)\n",
    "print(f\"\"\"{len(full_vol_lp)} volcanic lp waveforms\"\"\")\n",
    "print(f\"\"\"{len(full_tec_lp)} tectonic lp waveforms\"\"\")\n",
    "print(f\"\"\"{len(full_vol_lp_events)} volcanic lp events\"\"\")\n",
    "print(f\"\"\"{len(full_tec_lp_events)} tectonic lp events\"\"\")"
   ]
  },
  {
   "cell_type": "code",
   "execution_count": 16,
   "metadata": {},
   "outputs": [
    {
     "name": "stdout",
     "output_type": "stream",
     "text": [
      "367629 tectonic lp waveforms with only one pick\n"
     ]
    }
   ],
   "source": [
    "print(f\"\"\"{len(full_tec_lp[((pd.notna(full_tec_lp[\"trace_p_arrival_time\"]))&(pd.isna(full_tec_lp[\"trace_s_arrival_time\"])))|\n",
    "                           ((pd.isna(full_tec_lp[\"trace_p_arrival_time\"]))&(pd.notna(full_tec_lp[\"trace_s_arrival_time\"])))])} tectonic lp waveforms with only one pick\"\"\")"
   ]
  },
  {
   "cell_type": "code",
   "execution_count": 17,
   "metadata": {},
   "outputs": [
    {
     "data": {
      "text/html": [
       "<div>\n",
       "<style scoped>\n",
       "    .dataframe tbody tr th:only-of-type {\n",
       "        vertical-align: middle;\n",
       "    }\n",
       "\n",
       "    .dataframe tbody tr th {\n",
       "        vertical-align: top;\n",
       "    }\n",
       "\n",
       "    .dataframe thead th {\n",
       "        text-align: right;\n",
       "    }\n",
       "</style>\n",
       "<table border=\"1\" class=\"dataframe\">\n",
       "  <thead>\n",
       "    <tr style=\"text-align: right;\">\n",
       "      <th></th>\n",
       "      <th>source_id</th>\n",
       "      <th>source_origin_time</th>\n",
       "      <th>source_latitude_deg</th>\n",
       "      <th>source_longitude_deg</th>\n",
       "      <th>source_depth_km</th>\n",
       "      <th>source_magnitude</th>\n",
       "      <th>source_magnitude_type</th>\n",
       "      <th>source_type</th>\n",
       "      <th>station_network_code</th>\n",
       "      <th>station_code</th>\n",
       "      <th>station_location_code</th>\n",
       "      <th>trace_channel</th>\n",
       "      <th>station_type</th>\n",
       "      <th>trace_p_arrival_time</th>\n",
       "      <th>trace_s_arrival_time</th>\n",
       "      <th>trace_p_flag</th>\n",
       "      <th>trace_s_flag</th>\n",
       "    </tr>\n",
       "  </thead>\n",
       "  <tbody>\n",
       "    <tr>\n",
       "      <th>0</th>\n",
       "      <td>J040401093647593617471373312</td>\n",
       "      <td>2004-04-01T09:36:47.590000Z</td>\n",
       "      <td>36.291167</td>\n",
       "      <td>137.552000</td>\n",
       "      <td>25.96</td>\n",
       "      <td>0.4</td>\n",
       "      <td>V</td>\n",
       "      <td>lp</td>\n",
       "      <td>NaN</td>\n",
       "      <td>N.KTRH</td>\n",
       "      <td>--</td>\n",
       "      <td>--</td>\n",
       "      <td>h</td>\n",
       "      <td>2004-04-01T09:36:51.900000Z</td>\n",
       "      <td>2004-04-01T09:36:54.860000Z</td>\n",
       "      <td>M</td>\n",
       "      <td>M</td>\n",
       "    </tr>\n",
       "    <tr>\n",
       "      <th>1</th>\n",
       "      <td>J040401093647593617471373312</td>\n",
       "      <td>2004-04-01T09:36:47.590000Z</td>\n",
       "      <td>36.291167</td>\n",
       "      <td>137.552000</td>\n",
       "      <td>25.96</td>\n",
       "      <td>0.4</td>\n",
       "      <td>V</td>\n",
       "      <td>lp</td>\n",
       "      <td>NaN</td>\n",
       "      <td>N.KOKH</td>\n",
       "      <td>--</td>\n",
       "      <td>--</td>\n",
       "      <td>h</td>\n",
       "      <td>2004-04-01T09:36:52.740000Z</td>\n",
       "      <td>2004-04-01T09:36:56.940000Z</td>\n",
       "      <td>M</td>\n",
       "      <td>M</td>\n",
       "    </tr>\n",
       "    <tr>\n",
       "      <th>2</th>\n",
       "      <td>J040401093647593617471373312</td>\n",
       "      <td>2004-04-01T09:36:47.590000Z</td>\n",
       "      <td>36.291167</td>\n",
       "      <td>137.552000</td>\n",
       "      <td>25.96</td>\n",
       "      <td>0.4</td>\n",
       "      <td>V</td>\n",
       "      <td>lp</td>\n",
       "      <td>NaN</td>\n",
       "      <td>DP.KTJ</td>\n",
       "      <td>--</td>\n",
       "      <td>--</td>\n",
       "      <td>t</td>\n",
       "      <td>2004-04-01T09:36:53.310000Z</td>\n",
       "      <td>2004-04-01T09:36:57.250000Z</td>\n",
       "      <td>M</td>\n",
       "      <td>M</td>\n",
       "    </tr>\n",
       "    <tr>\n",
       "      <th>3</th>\n",
       "      <td>J040401093647593617471373312</td>\n",
       "      <td>2004-04-01T09:36:47.590000Z</td>\n",
       "      <td>36.291167</td>\n",
       "      <td>137.552000</td>\n",
       "      <td>25.96</td>\n",
       "      <td>0.4</td>\n",
       "      <td>V</td>\n",
       "      <td>lp</td>\n",
       "      <td>NaN</td>\n",
       "      <td>NIUKAW</td>\n",
       "      <td>--</td>\n",
       "      <td>--</td>\n",
       "      <td>N</td>\n",
       "      <td>2004-04-01T09:36:53.110000Z</td>\n",
       "      <td>2004-04-01T09:36:56.590000Z</td>\n",
       "      <td>M</td>\n",
       "      <td>M</td>\n",
       "    </tr>\n",
       "    <tr>\n",
       "      <th>4</th>\n",
       "      <td>J040401094117283619771373498</td>\n",
       "      <td>2004-04-01T09:41:17.280000Z</td>\n",
       "      <td>36.329500</td>\n",
       "      <td>137.583000</td>\n",
       "      <td>29.08</td>\n",
       "      <td>0.2</td>\n",
       "      <td>V</td>\n",
       "      <td>lp</td>\n",
       "      <td>NaN</td>\n",
       "      <td>NIUKAW</td>\n",
       "      <td>--</td>\n",
       "      <td>--</td>\n",
       "      <td>N</td>\n",
       "      <td>2004-04-01T09:41:23.580000Z</td>\n",
       "      <td>2004-04-01T09:41:27.960000Z</td>\n",
       "      <td>M</td>\n",
       "      <td>M</td>\n",
       "    </tr>\n",
       "    <tr>\n",
       "      <th>...</th>\n",
       "      <td>...</td>\n",
       "      <td>...</td>\n",
       "      <td>...</td>\n",
       "      <td>...</td>\n",
       "      <td>...</td>\n",
       "      <td>...</td>\n",
       "      <td>...</td>\n",
       "      <td>...</td>\n",
       "      <td>...</td>\n",
       "      <td>...</td>\n",
       "      <td>...</td>\n",
       "      <td>...</td>\n",
       "      <td>...</td>\n",
       "      <td>...</td>\n",
       "      <td>...</td>\n",
       "      <td>...</td>\n",
       "      <td>...</td>\n",
       "    </tr>\n",
       "    <tr>\n",
       "      <th>99665</th>\n",
       "      <td>J230627193749293515991331574</td>\n",
       "      <td>2023-06-27T19:37:49.290000Z</td>\n",
       "      <td>35.266500</td>\n",
       "      <td>133.262333</td>\n",
       "      <td>29.82</td>\n",
       "      <td>0.7</td>\n",
       "      <td>V</td>\n",
       "      <td>lp</td>\n",
       "      <td>NaN</td>\n",
       "      <td>N.YSDH</td>\n",
       "      <td>--</td>\n",
       "      <td>--</td>\n",
       "      <td>h</td>\n",
       "      <td>2023-06-27T19:37:57.100000Z</td>\n",
       "      <td>2023-06-27T19:38:02.370000Z</td>\n",
       "      <td>M</td>\n",
       "      <td>M</td>\n",
       "    </tr>\n",
       "    <tr>\n",
       "      <th>99666</th>\n",
       "      <td>J230627193749293515991331574</td>\n",
       "      <td>2023-06-27T19:37:49.290000Z</td>\n",
       "      <td>35.266500</td>\n",
       "      <td>133.262333</td>\n",
       "      <td>29.82</td>\n",
       "      <td>0.7</td>\n",
       "      <td>V</td>\n",
       "      <td>lp</td>\n",
       "      <td>NaN</td>\n",
       "      <td>N.TTAH</td>\n",
       "      <td>--</td>\n",
       "      <td>--</td>\n",
       "      <td>h</td>\n",
       "      <td>2023-06-27T19:37:57.460000Z</td>\n",
       "      <td>2023-06-27T19:38:03.160000Z</td>\n",
       "      <td>M</td>\n",
       "      <td>M</td>\n",
       "    </tr>\n",
       "    <tr>\n",
       "      <th>99667</th>\n",
       "      <td>J230628142303724249701411720</td>\n",
       "      <td>2023-06-28T14:23:03.720000Z</td>\n",
       "      <td>42.828333</td>\n",
       "      <td>141.286667</td>\n",
       "      <td>28.54</td>\n",
       "      <td>0.7</td>\n",
       "      <td>V</td>\n",
       "      <td>lp</td>\n",
       "      <td>NaN</td>\n",
       "      <td>ENIWA</td>\n",
       "      <td>--</td>\n",
       "      <td>--</td>\n",
       "      <td>N</td>\n",
       "      <td>2023-06-28T14:23:08.870000Z</td>\n",
       "      <td>2023-06-28T14:23:12.520000Z</td>\n",
       "      <td>N</td>\n",
       "      <td>N</td>\n",
       "    </tr>\n",
       "    <tr>\n",
       "      <th>99668</th>\n",
       "      <td>J230628142303724249701411720</td>\n",
       "      <td>2023-06-28T14:23:03.720000Z</td>\n",
       "      <td>42.828333</td>\n",
       "      <td>141.286667</td>\n",
       "      <td>28.54</td>\n",
       "      <td>0.7</td>\n",
       "      <td>V</td>\n",
       "      <td>lp</td>\n",
       "      <td>NaN</td>\n",
       "      <td>HU.HSS</td>\n",
       "      <td>--</td>\n",
       "      <td>--</td>\n",
       "      <td>%</td>\n",
       "      <td>2023-06-28T14:23:09.170000Z</td>\n",
       "      <td>2023-06-28T14:23:12.790000Z</td>\n",
       "      <td>N</td>\n",
       "      <td>M</td>\n",
       "    </tr>\n",
       "    <tr>\n",
       "      <th>99669</th>\n",
       "      <td>J230628142303724249701411720</td>\n",
       "      <td>2023-06-28T14:23:03.720000Z</td>\n",
       "      <td>42.828333</td>\n",
       "      <td>141.286667</td>\n",
       "      <td>28.54</td>\n",
       "      <td>0.7</td>\n",
       "      <td>V</td>\n",
       "      <td>lp</td>\n",
       "      <td>NaN</td>\n",
       "      <td>N.KMBH</td>\n",
       "      <td>--</td>\n",
       "      <td>--</td>\n",
       "      <td>h</td>\n",
       "      <td>2023-06-28T14:23:09.980000Z</td>\n",
       "      <td>2023-06-28T14:23:14.740000Z</td>\n",
       "      <td>N</td>\n",
       "      <td>M</td>\n",
       "    </tr>\n",
       "  </tbody>\n",
       "</table>\n",
       "<p>99670 rows × 17 columns</p>\n",
       "</div>"
      ],
      "text/plain": [
       "                          source_id           source_origin_time   \n",
       "0      J040401093647593617471373312  2004-04-01T09:36:47.590000Z  \\\n",
       "1      J040401093647593617471373312  2004-04-01T09:36:47.590000Z   \n",
       "2      J040401093647593617471373312  2004-04-01T09:36:47.590000Z   \n",
       "3      J040401093647593617471373312  2004-04-01T09:36:47.590000Z   \n",
       "4      J040401094117283619771373498  2004-04-01T09:41:17.280000Z   \n",
       "...                             ...                          ...   \n",
       "99665  J230627193749293515991331574  2023-06-27T19:37:49.290000Z   \n",
       "99666  J230627193749293515991331574  2023-06-27T19:37:49.290000Z   \n",
       "99667  J230628142303724249701411720  2023-06-28T14:23:03.720000Z   \n",
       "99668  J230628142303724249701411720  2023-06-28T14:23:03.720000Z   \n",
       "99669  J230628142303724249701411720  2023-06-28T14:23:03.720000Z   \n",
       "\n",
       "       source_latitude_deg  source_longitude_deg  source_depth_km   \n",
       "0                36.291167            137.552000            25.96  \\\n",
       "1                36.291167            137.552000            25.96   \n",
       "2                36.291167            137.552000            25.96   \n",
       "3                36.291167            137.552000            25.96   \n",
       "4                36.329500            137.583000            29.08   \n",
       "...                    ...                   ...              ...   \n",
       "99665            35.266500            133.262333            29.82   \n",
       "99666            35.266500            133.262333            29.82   \n",
       "99667            42.828333            141.286667            28.54   \n",
       "99668            42.828333            141.286667            28.54   \n",
       "99669            42.828333            141.286667            28.54   \n",
       "\n",
       "       source_magnitude source_magnitude_type source_type   \n",
       "0                   0.4                     V          lp  \\\n",
       "1                   0.4                     V          lp   \n",
       "2                   0.4                     V          lp   \n",
       "3                   0.4                     V          lp   \n",
       "4                   0.2                     V          lp   \n",
       "...                 ...                   ...         ...   \n",
       "99665               0.7                     V          lp   \n",
       "99666               0.7                     V          lp   \n",
       "99667               0.7                     V          lp   \n",
       "99668               0.7                     V          lp   \n",
       "99669               0.7                     V          lp   \n",
       "\n",
       "       station_network_code station_code station_location_code trace_channel   \n",
       "0                       NaN       N.KTRH                    --            --  \\\n",
       "1                       NaN       N.KOKH                    --            --   \n",
       "2                       NaN       DP.KTJ                    --            --   \n",
       "3                       NaN       NIUKAW                    --            --   \n",
       "4                       NaN       NIUKAW                    --            --   \n",
       "...                     ...          ...                   ...           ...   \n",
       "99665                   NaN       N.YSDH                    --            --   \n",
       "99666                   NaN       N.TTAH                    --            --   \n",
       "99667                   NaN        ENIWA                    --            --   \n",
       "99668                   NaN       HU.HSS                    --            --   \n",
       "99669                   NaN       N.KMBH                    --            --   \n",
       "\n",
       "      station_type         trace_p_arrival_time         trace_s_arrival_time   \n",
       "0                h  2004-04-01T09:36:51.900000Z  2004-04-01T09:36:54.860000Z  \\\n",
       "1                h  2004-04-01T09:36:52.740000Z  2004-04-01T09:36:56.940000Z   \n",
       "2                t  2004-04-01T09:36:53.310000Z  2004-04-01T09:36:57.250000Z   \n",
       "3                N  2004-04-01T09:36:53.110000Z  2004-04-01T09:36:56.590000Z   \n",
       "4                N  2004-04-01T09:41:23.580000Z  2004-04-01T09:41:27.960000Z   \n",
       "...            ...                          ...                          ...   \n",
       "99665            h  2023-06-27T19:37:57.100000Z  2023-06-27T19:38:02.370000Z   \n",
       "99666            h  2023-06-27T19:37:57.460000Z  2023-06-27T19:38:03.160000Z   \n",
       "99667            N  2023-06-28T14:23:08.870000Z  2023-06-28T14:23:12.520000Z   \n",
       "99668            %  2023-06-28T14:23:09.170000Z  2023-06-28T14:23:12.790000Z   \n",
       "99669            h  2023-06-28T14:23:09.980000Z  2023-06-28T14:23:14.740000Z   \n",
       "\n",
       "      trace_p_flag trace_s_flag  \n",
       "0                M            M  \n",
       "1                M            M  \n",
       "2                M            M  \n",
       "3                M            M  \n",
       "4                M            M  \n",
       "...            ...          ...  \n",
       "99665            M            M  \n",
       "99666            M            M  \n",
       "99667            N            N  \n",
       "99668            N            M  \n",
       "99669            N            M  \n",
       "\n",
       "[99670 rows x 17 columns]"
      ]
     },
     "execution_count": 17,
     "metadata": {},
     "output_type": "execute_result"
    }
   ],
   "source": [
    "lp_with_P_and_S"
   ]
  },
  {
   "cell_type": "code",
   "execution_count": 18,
   "metadata": {},
   "outputs": [],
   "source": [
    "tec_mask2=pd.Series([False]*len(lp_with_P_and_S))\n",
    "\n",
    "for region in regions:\n",
    "    tec_mask2=tec_mask2|in_region(lp_with_P_and_S[\"source_longitude_deg\"],lp_with_P_and_S[\"source_latitude_deg\"],region)\n",
    "    \n",
    "tec_lp=lp_with_P_and_S[tec_mask2]\n",
    "vol_lp=lp_with_P_and_S[~tec_mask2]"
   ]
  },
  {
   "cell_type": "code",
   "execution_count": 19,
   "metadata": {},
   "outputs": [
    {
     "name": "stdout",
     "output_type": "stream",
     "text": [
      "If we only consider waveforms with both P and S manual labels.\n",
      "92977 volcanic lp waveforms\n",
      "6693 tectonic lp waveforms\n",
      "16140 volcanic lp events\n",
      "2440 tectonic lp events\n"
     ]
    }
   ],
   "source": [
    "print(\"If we only consider waveforms with both P and S manual labels.\")\n",
    "print(f\"\"\"{len(vol_lp)} volcanic lp waveforms\"\"\")\n",
    "print(f\"\"\"{len(tec_lp)} tectonic lp waveforms\"\"\")\n",
    "print(f\"\"\"{len(extract_events(vol_lp))} volcanic lp events\"\"\")\n",
    "print(f\"\"\"{len(extract_events(tec_lp))} tectonic lp events\"\"\")"
   ]
  },
  {
   "cell_type": "code",
   "execution_count": 20,
   "metadata": {},
   "outputs": [],
   "source": [
    "vol_lp.to_csv(\"/mnt/DATA2/YiyuanZhong/my_data/Japan/japan_vol_LP_with_PS.csv\",index=False)\n",
    "tec_lp.to_csv(\"/mnt/DATA2/YiyuanZhong/my_data/Japan/japan_tec_LP_with_PS.csv\",index=False)"
   ]
  },
  {
   "cell_type": "code",
   "execution_count": 21,
   "metadata": {},
   "outputs": [
    {
     "name": "stdout",
     "output_type": "stream",
     "text": [
      "0\n",
      "0\n"
     ]
    }
   ],
   "source": [
    "print(np.sum((vol_lp[\"station_type\"]==\"P\")|(vol_lp[\"station_type\"]==\"Q\")|(vol_lp[\"station_type\"]==\"R\")))\n",
    "print(np.sum((tec_lp[\"station_type\"]==\"P\")|(tec_lp[\"station_type\"]==\"Q\")|(tec_lp[\"station_type\"]==\"R\")))"
   ]
  },
  {
   "cell_type": "markdown",
   "metadata": {},
   "source": [
    "# Frequency index"
   ]
  },
  {
   "cell_type": "code",
   "execution_count": 7,
   "metadata": {},
   "outputs": [],
   "source": [
    "import seisbench.data as sbd\n",
    "import matplotlib.pyplot as plt"
   ]
  },
  {
   "cell_type": "code",
   "execution_count": 8,
   "metadata": {},
   "outputs": [],
   "source": [
    "data_path=Path(\"/home/zhongyiyuan/DATA/my_datasets_seisbench/vcseis\")\n",
    "\n",
    "dataset=sbd.WaveformDataset(\n",
    "        data_path,\n",
    "        sampling_rate=100,\n",
    "        component_order=\"ZNE\",\n",
    "        dimension_order=\"NCW\",\n",
    "        cache=\"full\",\n",
    "    )"
   ]
  },
  {
   "cell_type": "code",
   "execution_count": 12,
   "metadata": {},
   "outputs": [],
   "source": [
    "dataset.filter((dataset.metadata[\"trace_chunk\"]=='_japan_vol_lp')|(dataset.metadata[\"trace_chunk\"]=='_japan_vt'),inplace=True)"
   ]
  },
  {
   "cell_type": "code",
   "execution_count": 13,
   "metadata": {},
   "outputs": [
    {
     "name": "stdout",
     "output_type": "stream",
     "text": [
      "Unnamed dataset - 166527 traces\n",
      "0 spikes\n"
     ]
    }
   ],
   "source": [
    "print(dataset)\n",
    "trace_with_spikes_index=np.flatnonzero(dataset.metadata[\"trace_has_spikes\"].to_numpy())\n",
    "print(f\"{len(trace_with_spikes_index)} spikes\")"
   ]
  },
  {
   "cell_type": "code",
   "execution_count": 361,
   "metadata": {},
   "outputs": [
    {
     "data": {
      "text/plain": [
       "[<matplotlib.lines.Line2D at 0x7f25c7a11bb0>,\n",
       " <matplotlib.lines.Line2D at 0x7f25c7a114c0>,\n",
       " <matplotlib.lines.Line2D at 0x7f25c7a11e80>]"
      ]
     },
     "execution_count": 361,
     "metadata": {},
     "output_type": "execute_result"
    },
    {
     "data": {
      "image/png": "[encoded data removed]",
      "text/plain": [
       "<Figure size 640x480 with 1 Axes>"
      ]
     },
     "metadata": {},
     "output_type": "display_data"
    }
   ],
   "source": [
    "plt.plot(dataset.get_sample(trace_with_spikes_index[2])[0].T)"
   ]
  },
  {
   "cell_type": "code",
   "execution_count": 362,
   "metadata": {},
   "outputs": [],
   "source": [
    "dataset.filter(~dataset.metadata[\"trace_has_spikes\"],inplace=True)"
   ]
  },
  {
   "cell_type": "code",
   "execution_count": 17,
   "metadata": {},
   "outputs": [
    {
     "data": {
      "text/plain": [
       "421614         lp\n",
       "421615         lp\n",
       "421616         lp\n",
       "421617         lp\n",
       "421618         lp\n",
       "           ...   \n",
       "588136    natural\n",
       "588137    natural\n",
       "588138    natural\n",
       "588139    natural\n",
       "588140    natural\n",
       "Name: source_type, Length: 166527, dtype: object"
      ]
     },
     "execution_count": 17,
     "metadata": {},
     "output_type": "execute_result"
    }
   ],
   "source": [
    "dataset.metadata[\"source_type\"]"
   ]
  },
  {
   "cell_type": "code",
   "execution_count": 20,
   "metadata": {},
   "outputs": [
    {
     "name": "stdout",
     "output_type": "stream",
     "text": [
      "82583\n",
      "83944\n"
     ]
    }
   ],
   "source": [
    "freq_indices=dataset.metadata.drop_duplicates(subset=\"source_id\",keep=\"first\",inplace=False)[\"source_frequency_index\"].to_numpy()\n",
    "\n",
    "lp_metadata=dataset.metadata[dataset.metadata[\"source_type\"]==\"lp\"]\n",
    "rg_metadata=dataset.metadata[dataset.metadata[\"source_type\"]!=\"lp\"]\n",
    "print(len(lp_metadata))\n",
    "print(len(rg_metadata))\n",
    "\n",
    "# source id of lp events and frequency indexes of lp events\n",
    "freq_indices_lp=lp_metadata.drop_duplicates(subset=\"source_id\",keep=\"first\",inplace=False)[\"source_frequency_index\"].to_numpy()\n",
    "freq_indices_rg=rg_metadata.drop_duplicates(subset=\"source_id\",keep=\"first\",inplace=False)[\"source_frequency_index\"].to_numpy()"
   ]
  },
  {
   "cell_type": "code",
   "execution_count": 21,
   "metadata": {},
   "outputs": [
    {
     "name": "stdout",
     "output_type": "stream",
     "text": [
      "True\n",
      "True\n",
      "0.0\n"
     ]
    }
   ],
   "source": [
    "# frequency indexes of each trace\n",
    "trace_freq_indices=dataset.metadata[\"trace_frequency_index\"]\n",
    "trace_freq_indices_lp=lp_metadata[\"trace_frequency_index\"]\n",
    "trace_freq_indices_rg=rg_metadata[\"trace_frequency_index\"]\n",
    "# validate\n",
    "print(len(trace_freq_indices_rg)+len(trace_freq_indices_lp)==len(trace_freq_indices))\n",
    "print(np.all(np.sort(np.concatenate((trace_freq_indices_rg, trace_freq_indices_lp)))==np.sort(trace_freq_indices)))\n",
    "print(np.sum(np.sort(np.concatenate((trace_freq_indices_rg, trace_freq_indices_lp)))-np.sort(trace_freq_indices)))"
   ]
  },
  {
   "cell_type": "code",
   "execution_count": 25,
   "metadata": {},
   "outputs": [
    {
     "name": "stdout",
     "output_type": "stream",
     "text": [
      "max 1.4271116166472908\n",
      "min -2.313452792819637\n"
     ]
    },
    {
     "data": {
      "text/plain": [
       "Text(0, 0.5, 'Count')"
      ]
     },
     "execution_count": 25,
     "metadata": {},
     "output_type": "execute_result"
    },
    {
     "data": {
      "image/png": "[encoded data removed]",
      "text/plain": [
       "<Figure size 700x450 with 1 Axes>"
      ]
     },
     "metadata": {},
     "output_type": "display_data"
    }
   ],
   "source": [
    "print(f\"max {np.max(trace_freq_indices)}\")\n",
    "print(f\"min {np.min(trace_freq_indices)}\")\n",
    "fts = 12\n",
    "fig = plt.figure(figsize=(7, 4.5))\n",
    "\n",
    "bins = np.arange(-2.6, 1.2, 0.05)\n",
    "plt.hist(trace_freq_indices,bins,density=False, stacked=True, color=\"white\", edgecolor=\"black\",label=\"Total\")\n",
    "plt.hist(trace_freq_indices_rg, bins, density=False,  edgecolor=\"black\", color=\"dodgerblue\", alpha=0.8, label=\"VT\")\n",
    "plt.hist(trace_freq_indices_lp, bins, density=False,  edgecolor=\"black\", color=\"firebrick\", alpha=0.8, label=\"LP\")\n",
    "plt.gca().tick_params(labelsize=fts)\n",
    "plt.legend()\n",
    "plt.xlabel(\"Station-wise frequency index\", fontsize=fts)\n",
    "plt.ylabel(\"Count\", fontsize=fts)\n",
    "# plt.savefig(root_save_path/\"FI_by_traces.jpg\", bbox_inches=\"tight\", dpi=600)\n",
    "# plt.savefig(root_save_path/\"FI_by_traces.eps\", bbox_inches=\"tight\", dpi=600)"
   ]
  },
  {
   "cell_type": "code",
   "execution_count": 26,
   "metadata": {},
   "outputs": [
    {
     "name": "stdout",
     "output_type": "stream",
     "text": [
      "max 1.4271116166472908\n",
      "min -2.313452792819637\n"
     ]
    },
    {
     "data": {
      "text/plain": [
       "Text(0, 0.5, 'Count')"
      ]
     },
     "execution_count": 26,
     "metadata": {},
     "output_type": "execute_result"
    },
    {
     "data": {
      "image/png": "[encoded data removed]",
      "text/plain": [
       "<Figure size 700x450 with 1 Axes>"
      ]
     },
     "metadata": {},
     "output_type": "display_data"
    }
   ],
   "source": [
    "print(f\"max {np.max(trace_freq_indices)}\")\n",
    "print(f\"min {np.min(trace_freq_indices)}\")\n",
    "fts = 12\n",
    "fig = plt.figure(figsize=(7, 4.5))\n",
    "\n",
    "bins = np.arange(-2.6, 1.2, 0.05)\n",
    "plt.hist(freq_indices,bins,density=False, stacked=True, color=\"white\", edgecolor=\"black\",label=\"Total\")\n",
    "plt.hist(freq_indices_rg, bins, density=False,  edgecolor=\"black\", color=\"dodgerblue\", alpha=0.8, label=\"VT\")\n",
    "plt.hist(freq_indices_lp, bins, density=False,  edgecolor=\"black\", color=\"firebrick\", alpha=0.8, label=\"LP\")\n",
    "plt.gca().tick_params(labelsize=fts)\n",
    "plt.legend()\n",
    "plt.xlabel(\"Station-averaged frequency index\", fontsize=fts)\n",
    "plt.ylabel(\"Count\", fontsize=fts)"
   ]
  },
  {
   "cell_type": "markdown",
   "metadata": {},
   "source": [
    "# 草稿区"
   ]
  },
  {
   "cell_type": "code",
   "execution_count": 9,
   "metadata": {},
   "outputs": [],
   "source": [
    "vol_lp=pd.read_csv(\"/mnt/DATA2/YiyuanZhong/my_data/Japan/japan_vol_LP_with_PS.csv\")"
   ]
  },
  {
   "cell_type": "code",
   "execution_count": 10,
   "metadata": {},
   "outputs": [],
   "source": [
    "vol_lp.sort_values(by=\"source_origin_time\", ignore_index=True, inplace=True)"
   ]
  },
  {
   "cell_type": "code",
   "execution_count": 26,
   "metadata": {},
   "outputs": [
    {
     "data": {
      "text/plain": [
       "16140"
      ]
     },
     "execution_count": 26,
     "metadata": {},
     "output_type": "execute_result"
    }
   ],
   "source": [
    "len(vol_lp.drop_duplicates(subset=\"source_id\", keep=\"first\", ignore_index=True))"
   ]
  },
  {
   "cell_type": "code",
   "execution_count": 22,
   "metadata": {},
   "outputs": [],
   "source": [
    "org_times=vol_lp.drop_duplicates(subset=\"source_id\", keep=\"first\", ignore_index=True)[\"source_origin_time\"].apply(lambda x: UTCDateTime(x)).values"
   ]
  },
  {
   "cell_type": "code",
   "execution_count": 23,
   "metadata": {},
   "outputs": [
    {
     "data": {
      "text/plain": [
       "array([269.69, 270716.81, 113357.63, ..., 30026.65, 111575.13, 67514.43],\n",
       "      dtype=object)"
      ]
     },
     "execution_count": 23,
     "metadata": {},
     "output_type": "execute_result"
    }
   ],
   "source": [
    "np.diff(org_times)"
   ]
  },
  {
   "cell_type": "code",
   "execution_count": 19,
   "metadata": {},
   "outputs": [
    {
     "data": {
      "text/plain": [
       "35039"
      ]
     },
     "execution_count": 19,
     "metadata": {},
     "output_type": "execute_result"
    }
   ],
   "source": [
    "np.argmax(np.diff(org_times))"
   ]
  },
  {
   "cell_type": "code",
   "execution_count": 20,
   "metadata": {},
   "outputs": [
    {
     "data": {
      "text/plain": [
       "35039    2011-11-08T22:27:56.470000Z\n",
       "35040    2011-12-09T02:54:46.070000Z\n",
       "Name: source_origin_time, dtype: object"
      ]
     },
     "execution_count": 20,
     "metadata": {},
     "output_type": "execute_result"
    }
   ],
   "source": [
    "vol_lp[\"source_origin_time\"].iloc[[35039,35040]]"
   ]
  },
  {
   "cell_type": "code",
   "execution_count": 4,
   "metadata": {},
   "outputs": [],
   "source": [
    "tec_lp=pd.read_csv(\"/mnt/DATA2/YiyuanZhong/my_data/Japan/japan_tec_LP_with_PS.csv\")"
   ]
  },
  {
   "cell_type": "code",
   "execution_count": 6,
   "metadata": {},
   "outputs": [
    {
     "data": {
      "text/html": [
       "<div>\n",
       "<style scoped>\n",
       "    .dataframe tbody tr th:only-of-type {\n",
       "        vertical-align: middle;\n",
       "    }\n",
       "\n",
       "    .dataframe tbody tr th {\n",
       "        vertical-align: top;\n",
       "    }\n",
       "\n",
       "    .dataframe thead th {\n",
       "        text-align: right;\n",
       "    }\n",
       "</style>\n",
       "<table border=\"1\" class=\"dataframe\">\n",
       "  <thead>\n",
       "    <tr style=\"text-align: right;\">\n",
       "      <th></th>\n",
       "      <th>source_id</th>\n",
       "      <th>source_origin_time</th>\n",
       "      <th>source_latitude_deg</th>\n",
       "      <th>source_longitude_deg</th>\n",
       "      <th>source_depth_km</th>\n",
       "      <th>source_magnitude</th>\n",
       "      <th>source_magnitude_type</th>\n",
       "      <th>source_type</th>\n",
       "      <th>station_network_code</th>\n",
       "      <th>station_code</th>\n",
       "      <th>station_location_code</th>\n",
       "      <th>trace_channel</th>\n",
       "      <th>station_type</th>\n",
       "      <th>trace_p_arrival_time</th>\n",
       "      <th>trace_s_arrival_time</th>\n",
       "      <th>trace_p_flag</th>\n",
       "      <th>trace_s_flag</th>\n",
       "    </tr>\n",
       "  </thead>\n",
       "  <tbody>\n",
       "  </tbody>\n",
       "</table>\n",
       "</div>"
      ],
      "text/plain": [
       "Empty DataFrame\n",
       "Columns: [source_id, source_origin_time, source_latitude_deg, source_longitude_deg, source_depth_km, source_magnitude, source_magnitude_type, source_type, station_network_code, station_code, station_location_code, trace_channel, station_type, trace_p_arrival_time, trace_s_arrival_time, trace_p_flag, trace_s_flag]\n",
       "Index: []"
      ]
     },
     "execution_count": 6,
     "metadata": {},
     "output_type": "execute_result"
    }
   ],
   "source": [
    "tec_lp[tec_lp[\"station_code\"]==\"NU.NIN\"]"
   ]
  },
  {
   "cell_type": "code",
   "execution_count": 8,
   "metadata": {},
   "outputs": [
    {
     "data": {
      "text/html": [
       "<div>\n",
       "<style scoped>\n",
       "    .dataframe tbody tr th:only-of-type {\n",
       "        vertical-align: middle;\n",
       "    }\n",
       "\n",
       "    .dataframe tbody tr th {\n",
       "        vertical-align: top;\n",
       "    }\n",
       "\n",
       "    .dataframe thead th {\n",
       "        text-align: right;\n",
       "    }\n",
       "</style>\n",
       "<table border=\"1\" class=\"dataframe\">\n",
       "  <thead>\n",
       "    <tr style=\"text-align: right;\">\n",
       "      <th></th>\n",
       "      <th>source_id</th>\n",
       "      <th>source_origin_time</th>\n",
       "      <th>source_latitude_deg</th>\n",
       "      <th>source_longitude_deg</th>\n",
       "      <th>source_depth_km</th>\n",
       "      <th>source_magnitude</th>\n",
       "      <th>source_magnitude_type</th>\n",
       "      <th>source_type</th>\n",
       "      <th>station_network_code</th>\n",
       "      <th>station_code</th>\n",
       "      <th>station_location_code</th>\n",
       "      <th>trace_channel</th>\n",
       "      <th>station_type</th>\n",
       "      <th>trace_p_arrival_time</th>\n",
       "      <th>trace_s_arrival_time</th>\n",
       "      <th>trace_p_flag</th>\n",
       "      <th>trace_s_flag</th>\n",
       "    </tr>\n",
       "  </thead>\n",
       "  <tbody>\n",
       "  </tbody>\n",
       "</table>\n",
       "</div>"
      ],
      "text/plain": [
       "Empty DataFrame\n",
       "Columns: [source_id, source_origin_time, source_latitude_deg, source_longitude_deg, source_depth_km, source_magnitude, source_magnitude_type, source_type, station_network_code, station_code, station_location_code, trace_channel, station_type, trace_p_arrival_time, trace_s_arrival_time, trace_p_flag, trace_s_flag]\n",
       "Index: []"
      ]
     },
     "execution_count": 8,
     "metadata": {},
     "output_type": "execute_result"
    }
   ],
   "source": [
    "vol_lp[vol_lp[\"station_code\"]==\"NU.NIN\"]"
   ]
  },
  {
   "cell_type": "code",
   "execution_count": 22,
   "metadata": {},
   "outputs": [
    {
     "data": {
      "text/html": [
       "<div>\n",
       "<style scoped>\n",
       "    .dataframe tbody tr th:only-of-type {\n",
       "        vertical-align: middle;\n",
       "    }\n",
       "\n",
       "    .dataframe tbody tr th {\n",
       "        vertical-align: top;\n",
       "    }\n",
       "\n",
       "    .dataframe thead th {\n",
       "        text-align: right;\n",
       "    }\n",
       "</style>\n",
       "<table border=\"1\" class=\"dataframe\">\n",
       "  <thead>\n",
       "    <tr style=\"text-align: right;\">\n",
       "      <th></th>\n",
       "      <th>source_id</th>\n",
       "      <th>source_origin_time</th>\n",
       "      <th>source_latitude_deg</th>\n",
       "      <th>source_longitude_deg</th>\n",
       "      <th>source_depth_km</th>\n",
       "      <th>source_magnitude</th>\n",
       "      <th>source_magnitude_type</th>\n",
       "      <th>source_type</th>\n",
       "      <th>station_network_code</th>\n",
       "      <th>station_code</th>\n",
       "      <th>station_location_code</th>\n",
       "      <th>trace_channel</th>\n",
       "      <th>station_type</th>\n",
       "      <th>trace_p_arrival_time</th>\n",
       "      <th>trace_s_arrival_time</th>\n",
       "      <th>trace_p_flag</th>\n",
       "      <th>trace_s_flag</th>\n",
       "    </tr>\n",
       "  </thead>\n",
       "  <tbody>\n",
       "  </tbody>\n",
       "</table>\n",
       "</div>"
      ],
      "text/plain": [
       "Empty DataFrame\n",
       "Columns: [source_id, source_origin_time, source_latitude_deg, source_longitude_deg, source_depth_km, source_magnitude, source_magnitude_type, source_type, station_network_code, station_code, station_location_code, trace_channel, station_type, trace_p_arrival_time, trace_s_arrival_time, trace_p_flag, trace_s_flag]\n",
       "Index: []"
      ]
     },
     "execution_count": 22,
     "metadata": {},
     "output_type": "execute_result"
    }
   ],
   "source": [
    "vol_lp[vol_lp[\"station_code\"].str.contains(\"E.SOB3\")]"
   ]
  },
  {
   "cell_type": "code",
   "execution_count": 58,
   "metadata": {},
   "outputs": [],
   "source": [
    "failed_downloads=pd.read_csv(\"/home/zhongyiyuan/volpick/test/test_read_japan/mseed_log/failed_downloads.csv\")"
   ]
  },
  {
   "cell_type": "code",
   "execution_count": 59,
   "metadata": {},
   "outputs": [
    {
     "data": {
      "text/html": [
       "<div>\n",
       "<style scoped>\n",
       "    .dataframe tbody tr th:only-of-type {\n",
       "        vertical-align: middle;\n",
       "    }\n",
       "\n",
       "    .dataframe tbody tr th {\n",
       "        vertical-align: top;\n",
       "    }\n",
       "\n",
       "    .dataframe thead th {\n",
       "        text-align: right;\n",
       "    }\n",
       "</style>\n",
       "<table border=\"1\" class=\"dataframe\">\n",
       "  <thead>\n",
       "    <tr style=\"text-align: right;\">\n",
       "      <th></th>\n",
       "      <th>source_id</th>\n",
       "      <th>source_origin_time</th>\n",
       "      <th>source_latitude_deg</th>\n",
       "      <th>source_longitude_deg</th>\n",
       "      <th>source_depth_km</th>\n",
       "      <th>source_magnitude</th>\n",
       "      <th>source_magnitude_type</th>\n",
       "      <th>source_type</th>\n",
       "      <th>station_network_code</th>\n",
       "      <th>station_code</th>\n",
       "      <th>station_location_code</th>\n",
       "      <th>trace_channel</th>\n",
       "      <th>trace_p_arrival_time</th>\n",
       "      <th>trace_s_arrival_time</th>\n",
       "      <th>remark</th>\n",
       "    </tr>\n",
       "  </thead>\n",
       "  <tbody>\n",
       "    <tr>\n",
       "      <th>0</th>\n",
       "      <td>J040406020657803616591373244</td>\n",
       "      <td>2004-04-06T02:06:57.800000Z</td>\n",
       "      <td>36.276500</td>\n",
       "      <td>137.540667</td>\n",
       "      <td>19.99</td>\n",
       "      <td>0.0</td>\n",
       "      <td>V</td>\n",
       "      <td>lp</td>\n",
       "      <td>NaN</td>\n",
       "      <td>N.KTRH</td>\n",
       "      <td>--</td>\n",
       "      <td>--</td>\n",
       "      <td>2004-04-06T02:07:01.130000Z</td>\n",
       "      <td>2004-04-06T02:07:03.950000Z</td>\n",
       "      <td>No_waveforms</td>\n",
       "    </tr>\n",
       "    <tr>\n",
       "      <th>1</th>\n",
       "      <td>J040406020657803616591373244</td>\n",
       "      <td>2004-04-06T02:06:57.800000Z</td>\n",
       "      <td>36.276500</td>\n",
       "      <td>137.540667</td>\n",
       "      <td>19.99</td>\n",
       "      <td>0.0</td>\n",
       "      <td>V</td>\n",
       "      <td>lp</td>\n",
       "      <td>NaN</td>\n",
       "      <td>N.KOKH</td>\n",
       "      <td>--</td>\n",
       "      <td>--</td>\n",
       "      <td>2004-04-06T02:07:02.110000Z</td>\n",
       "      <td>2004-04-06T02:07:05.910000Z</td>\n",
       "      <td>No_waveforms</td>\n",
       "    </tr>\n",
       "    <tr>\n",
       "      <th>2</th>\n",
       "      <td>J040406020657803616591373244</td>\n",
       "      <td>2004-04-06T02:06:57.800000Z</td>\n",
       "      <td>36.276500</td>\n",
       "      <td>137.540667</td>\n",
       "      <td>19.99</td>\n",
       "      <td>0.0</td>\n",
       "      <td>V</td>\n",
       "      <td>lp</td>\n",
       "      <td>NaN</td>\n",
       "      <td>DP.KTJ</td>\n",
       "      <td>--</td>\n",
       "      <td>--</td>\n",
       "      <td>2004-04-06T02:07:02.540000Z</td>\n",
       "      <td>2004-04-06T02:07:05.920000Z</td>\n",
       "      <td>No_waveforms</td>\n",
       "    </tr>\n",
       "    <tr>\n",
       "      <th>3</th>\n",
       "      <td>J040406020657803616591373244</td>\n",
       "      <td>2004-04-06T02:06:57.800000Z</td>\n",
       "      <td>36.276500</td>\n",
       "      <td>137.540667</td>\n",
       "      <td>19.99</td>\n",
       "      <td>0.0</td>\n",
       "      <td>V</td>\n",
       "      <td>lp</td>\n",
       "      <td>NaN</td>\n",
       "      <td>NIUKAW</td>\n",
       "      <td>--</td>\n",
       "      <td>--</td>\n",
       "      <td>2004-04-06T02:07:02.840000Z</td>\n",
       "      <td>2004-04-06T02:07:06.600000Z</td>\n",
       "      <td>No_waveforms</td>\n",
       "    </tr>\n",
       "    <tr>\n",
       "      <th>4</th>\n",
       "      <td>J040406020657803616591373244</td>\n",
       "      <td>2004-04-06T02:06:57.800000Z</td>\n",
       "      <td>36.276500</td>\n",
       "      <td>137.540667</td>\n",
       "      <td>19.99</td>\n",
       "      <td>0.0</td>\n",
       "      <td>V</td>\n",
       "      <td>lp</td>\n",
       "      <td>NaN</td>\n",
       "      <td>N.ASNH</td>\n",
       "      <td>--</td>\n",
       "      <td>--</td>\n",
       "      <td>2004-04-06T02:07:03.260000Z</td>\n",
       "      <td>2004-04-06T02:07:07.220000Z</td>\n",
       "      <td>No_waveforms</td>\n",
       "    </tr>\n",
       "    <tr>\n",
       "      <th>...</th>\n",
       "      <td>...</td>\n",
       "      <td>...</td>\n",
       "      <td>...</td>\n",
       "      <td>...</td>\n",
       "      <td>...</td>\n",
       "      <td>...</td>\n",
       "      <td>...</td>\n",
       "      <td>...</td>\n",
       "      <td>...</td>\n",
       "      <td>...</td>\n",
       "      <td>...</td>\n",
       "      <td>...</td>\n",
       "      <td>...</td>\n",
       "      <td>...</td>\n",
       "      <td>...</td>\n",
       "    </tr>\n",
       "    <tr>\n",
       "      <th>59</th>\n",
       "      <td>J040406020731533616251373471</td>\n",
       "      <td>2004-04-06T02:07:31.530000Z</td>\n",
       "      <td>36.270833</td>\n",
       "      <td>137.578500</td>\n",
       "      <td>23.42</td>\n",
       "      <td>0.6</td>\n",
       "      <td>V</td>\n",
       "      <td>lp</td>\n",
       "      <td>NaN</td>\n",
       "      <td>N.KOKH</td>\n",
       "      <td>--</td>\n",
       "      <td>--</td>\n",
       "      <td>2004-04-06T02:07:37.030000Z</td>\n",
       "      <td>2004-04-06T02:07:40.650000Z</td>\n",
       "      <td>No_waveforms</td>\n",
       "    </tr>\n",
       "    <tr>\n",
       "      <th>60</th>\n",
       "      <td>J040406020731533616251373471</td>\n",
       "      <td>2004-04-06T02:07:31.530000Z</td>\n",
       "      <td>36.270833</td>\n",
       "      <td>137.578500</td>\n",
       "      <td>23.42</td>\n",
       "      <td>0.6</td>\n",
       "      <td>V</td>\n",
       "      <td>lp</td>\n",
       "      <td>NaN</td>\n",
       "      <td>N.NGWH</td>\n",
       "      <td>--</td>\n",
       "      <td>--</td>\n",
       "      <td>2004-04-06T02:07:36.910000Z</td>\n",
       "      <td>2004-04-06T02:07:41.080000Z</td>\n",
       "      <td>No_waveforms</td>\n",
       "    </tr>\n",
       "    <tr>\n",
       "      <th>61</th>\n",
       "      <td>J040406020731533616251373471</td>\n",
       "      <td>2004-04-06T02:07:31.530000Z</td>\n",
       "      <td>36.270833</td>\n",
       "      <td>137.578500</td>\n",
       "      <td>23.42</td>\n",
       "      <td>0.6</td>\n",
       "      <td>V</td>\n",
       "      <td>lp</td>\n",
       "      <td>NaN</td>\n",
       "      <td>NU.YKD</td>\n",
       "      <td>--</td>\n",
       "      <td>--</td>\n",
       "      <td>2004-04-06T02:07:35.440000Z</td>\n",
       "      <td>2004-04-06T02:07:38.430000Z</td>\n",
       "      <td>No_waveforms</td>\n",
       "    </tr>\n",
       "    <tr>\n",
       "      <th>62</th>\n",
       "      <td>J040406020731533616251373471</td>\n",
       "      <td>2004-04-06T02:07:31.530000Z</td>\n",
       "      <td>36.270833</td>\n",
       "      <td>137.578500</td>\n",
       "      <td>23.42</td>\n",
       "      <td>0.6</td>\n",
       "      <td>V</td>\n",
       "      <td>lp</td>\n",
       "      <td>NaN</td>\n",
       "      <td>N.KTRH</td>\n",
       "      <td>--</td>\n",
       "      <td>--</td>\n",
       "      <td>2004-04-06T02:07:35.570000Z</td>\n",
       "      <td>2004-04-06T02:07:38.550000Z</td>\n",
       "      <td>No_waveforms</td>\n",
       "    </tr>\n",
       "    <tr>\n",
       "      <th>63</th>\n",
       "      <td>J040406020731533616251373471</td>\n",
       "      <td>2004-04-06T02:07:31.530000Z</td>\n",
       "      <td>36.270833</td>\n",
       "      <td>137.578500</td>\n",
       "      <td>23.42</td>\n",
       "      <td>0.6</td>\n",
       "      <td>V</td>\n",
       "      <td>lp</td>\n",
       "      <td>NaN</td>\n",
       "      <td>MATSUS</td>\n",
       "      <td>--</td>\n",
       "      <td>--</td>\n",
       "      <td>2004-04-06T02:07:42.860000Z</td>\n",
       "      <td>2004-04-06T02:07:50.740000Z</td>\n",
       "      <td>No_waveforms</td>\n",
       "    </tr>\n",
       "  </tbody>\n",
       "</table>\n",
       "<p>64 rows × 15 columns</p>\n",
       "</div>"
      ],
      "text/plain": [
       "                       source_id           source_origin_time   \n",
       "0   J040406020657803616591373244  2004-04-06T02:06:57.800000Z  \\\n",
       "1   J040406020657803616591373244  2004-04-06T02:06:57.800000Z   \n",
       "2   J040406020657803616591373244  2004-04-06T02:06:57.800000Z   \n",
       "3   J040406020657803616591373244  2004-04-06T02:06:57.800000Z   \n",
       "4   J040406020657803616591373244  2004-04-06T02:06:57.800000Z   \n",
       "..                           ...                          ...   \n",
       "59  J040406020731533616251373471  2004-04-06T02:07:31.530000Z   \n",
       "60  J040406020731533616251373471  2004-04-06T02:07:31.530000Z   \n",
       "61  J040406020731533616251373471  2004-04-06T02:07:31.530000Z   \n",
       "62  J040406020731533616251373471  2004-04-06T02:07:31.530000Z   \n",
       "63  J040406020731533616251373471  2004-04-06T02:07:31.530000Z   \n",
       "\n",
       "    source_latitude_deg  source_longitude_deg  source_depth_km   \n",
       "0             36.276500            137.540667            19.99  \\\n",
       "1             36.276500            137.540667            19.99   \n",
       "2             36.276500            137.540667            19.99   \n",
       "3             36.276500            137.540667            19.99   \n",
       "4             36.276500            137.540667            19.99   \n",
       "..                  ...                   ...              ...   \n",
       "59            36.270833            137.578500            23.42   \n",
       "60            36.270833            137.578500            23.42   \n",
       "61            36.270833            137.578500            23.42   \n",
       "62            36.270833            137.578500            23.42   \n",
       "63            36.270833            137.578500            23.42   \n",
       "\n",
       "    source_magnitude source_magnitude_type source_type  station_network_code   \n",
       "0                0.0                     V          lp                   NaN  \\\n",
       "1                0.0                     V          lp                   NaN   \n",
       "2                0.0                     V          lp                   NaN   \n",
       "3                0.0                     V          lp                   NaN   \n",
       "4                0.0                     V          lp                   NaN   \n",
       "..               ...                   ...         ...                   ...   \n",
       "59               0.6                     V          lp                   NaN   \n",
       "60               0.6                     V          lp                   NaN   \n",
       "61               0.6                     V          lp                   NaN   \n",
       "62               0.6                     V          lp                   NaN   \n",
       "63               0.6                     V          lp                   NaN   \n",
       "\n",
       "   station_code station_location_code trace_channel   \n",
       "0        N.KTRH                    --            --  \\\n",
       "1        N.KOKH                    --            --   \n",
       "2        DP.KTJ                    --            --   \n",
       "3        NIUKAW                    --            --   \n",
       "4        N.ASNH                    --            --   \n",
       "..          ...                   ...           ...   \n",
       "59       N.KOKH                    --            --   \n",
       "60       N.NGWH                    --            --   \n",
       "61       NU.YKD                    --            --   \n",
       "62       N.KTRH                    --            --   \n",
       "63       MATSUS                    --            --   \n",
       "\n",
       "           trace_p_arrival_time         trace_s_arrival_time        remark  \n",
       "0   2004-04-06T02:07:01.130000Z  2004-04-06T02:07:03.950000Z  No_waveforms  \n",
       "1   2004-04-06T02:07:02.110000Z  2004-04-06T02:07:05.910000Z  No_waveforms  \n",
       "2   2004-04-06T02:07:02.540000Z  2004-04-06T02:07:05.920000Z  No_waveforms  \n",
       "3   2004-04-06T02:07:02.840000Z  2004-04-06T02:07:06.600000Z  No_waveforms  \n",
       "4   2004-04-06T02:07:03.260000Z  2004-04-06T02:07:07.220000Z  No_waveforms  \n",
       "..                          ...                          ...           ...  \n",
       "59  2004-04-06T02:07:37.030000Z  2004-04-06T02:07:40.650000Z  No_waveforms  \n",
       "60  2004-04-06T02:07:36.910000Z  2004-04-06T02:07:41.080000Z  No_waveforms  \n",
       "61  2004-04-06T02:07:35.440000Z  2004-04-06T02:07:38.430000Z  No_waveforms  \n",
       "62  2004-04-06T02:07:35.570000Z  2004-04-06T02:07:38.550000Z  No_waveforms  \n",
       "63  2004-04-06T02:07:42.860000Z  2004-04-06T02:07:50.740000Z  No_waveforms  \n",
       "\n",
       "[64 rows x 15 columns]"
      ]
     },
     "execution_count": 59,
     "metadata": {},
     "output_type": "execute_result"
    }
   ],
   "source": [
    "failed_downloads"
   ]
  }
 ],
 "metadata": {
  "kernelspec": {
   "display_name": "seisbench_v0.4",
   "language": "python",
   "name": "python3"
  },
  "language_info": {
   "codemirror_mode": {
    "name": "ipython",
    "version": 3
   },
   "file_extension": ".py",
   "mimetype": "text/x-python",
   "name": "python",
   "nbconvert_exporter": "python",
   "pygments_lexer": "ipython3",
   "version": "3.9.16"
  },
  "orig_nbformat": 4
 },
 "nbformat": 4,
 "nbformat_minor": 2
}
