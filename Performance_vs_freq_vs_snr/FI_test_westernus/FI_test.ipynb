{
 "cells": [
  {
   "cell_type": "markdown",
   "metadata": {},
   "source": [
    "# Import"
   ]
  },
  {
   "cell_type": "code",
   "execution_count": 32,
   "metadata": {},
   "outputs": [
    {
     "name": "stdout",
     "output_type": "stream",
     "text": [
      "The autoreload extension is already loaded. To reload it, use:\n",
      "  %reload_ext autoreload\n"
     ]
    }
   ],
   "source": [
    "%load_ext autoreload\n",
    "%autoreload 2\n",
    "from torch.utils.data import DataLoader\n",
    "import torch\n",
    "import pytorch_lightning as pl\n",
    "from pathlib import Path\n",
    "import os\n",
    "import time\n",
    "import datetime\n",
    "import yaml\n",
    "import pandas as pd\n",
    "import numpy as np\n",
    "\n",
    "import matplotlib.pyplot as plt\n",
    "from matplotlib.ticker import (MultipleLocator, FormatStrFormatter, AutoMinorLocator)\n",
    "\n",
    "import logging\n",
    "\n",
    "from tqdm.notebook import tqdm\n",
    "\n",
    "import volpick.model.models as models\n",
    "import seisbench.models as sbm\n",
    "import seisbench.generate as sbg\n",
    "from volpick.model.utils import load_best_model_from_base_dir,load_best_model,plot_prediction_examples\n",
    "import seisbench.data as sbd\n",
    "from volpick.model.generate_eval_targets import generate_task0, generate_task1, generate_task23\n",
    "\n",
    "from obspy.signal.trigger import recursive_sta_lta, trigger_onset\n",
    "from volpick.model.models import phase_dict\n",
    "from volpick.model.eval_taks0 import evaluate, get_ground_truth, count_TP_FP_FN, compute_residuals, calculate_precision_recall_F1score, eval_task0, opt_prob_metrics, collect_task0_results,collect_task0_results_dev\n",
    "from volpick.model.eval_taks123 import eval_tasks123,collect_task123_results\n",
    "\n",
    "import json\n",
    "\n",
    "from sklearn.metrics import roc_curve, precision_recall_curve, roc_auc_score"
   ]
  },
  {
   "cell_type": "code",
   "execution_count": 38,
   "metadata": {},
   "outputs": [
    {
     "name": "stdout",
     "output_type": "stream",
     "text": [
      "True\n",
      "[ True  True]\n"
     ]
    }
   ],
   "source": [
    "def lteq(a, b):\n",
    "    \"\"\"return a<=b\"\"\"\n",
    "    return (a < b) | (abs(a - b) < 1e-12)  # parentheses are important!!!\n",
    "\n",
    "\n",
    "print(lteq(10, 20))\n",
    "print(lteq(np.array([10.0, 20.0]), 20.0))"
   ]
  },
  {
   "cell_type": "markdown",
   "metadata": {},
   "source": [
    "# Load data"
   ]
  },
  {
   "cell_type": "code",
   "execution_count": 34,
   "metadata": {},
   "outputs": [
    {
     "name": "stderr",
     "output_type": "stream",
     "text": [
      "Preloading waveforms: 100%|██████████| 11302/11302 [00:02<00:00, 4932.93it/s]\n"
     ]
    }
   ],
   "source": [
    "data_path = Path(\"/home/zhongyiyuan/DATA/my_datasets_seisbench/westernus\")\n",
    "\n",
    "dataset = sbd.WaveformDataset(\n",
    "    data_path,\n",
    "    sampling_rate=100,\n",
    "    component_order=\"ZNE\",\n",
    "    dimension_order=\"NCW\",\n",
    "    cache=\"full\",\n",
    ")\n",
    "dataset.filter(dataset[\"split\"].isin([\"test\"]), inplace=True)\n",
    "dataset.preload_waveforms(pbar=True)\n",
    "\n",
    "# print(len(dataset))"
   ]
  },
  {
   "cell_type": "code",
   "execution_count": 35,
   "metadata": {},
   "outputs": [
    {
     "data": {
      "text/plain": [
       "True"
      ]
     },
     "execution_count": 35,
     "metadata": {},
     "output_type": "execute_result"
    }
   ],
   "source": [
    "data_eq = dataset.filter(dataset[\"source_type\"] != \"noise\", inplace=False).test()\n",
    "np.all((data_eq[\"split\"] == \"test\").values)"
   ]
  },
  {
   "cell_type": "code",
   "execution_count": 36,
   "metadata": {},
   "outputs": [
    {
     "name": "stderr",
     "output_type": "stream",
     "text": [
      "Preloading waveforms: 100%|██████████| 11302/11302 [00:01<00:00, 5683.11it/s]\n"
     ]
    }
   ],
   "source": [
    "data_path = Path(\"/home/zhongyiyuan/DATA/my_datasets_seisbench/westernus\")\n",
    "\n",
    "dataset_ENZ = sbd.WaveformDataset(\n",
    "    data_path,\n",
    "    sampling_rate=100,\n",
    "    component_order=\"ENZ\",\n",
    "    dimension_order=\"NCW\",\n",
    "    cache=\"full\",\n",
    ")\n",
    "dataset_ENZ.filter(dataset_ENZ[\"split\"].isin([\"test\"]), inplace=True)\n",
    "dataset_ENZ.preload_waveforms(pbar=True)"
   ]
  },
  {
   "cell_type": "code",
   "execution_count": 61,
   "metadata": {},
   "outputs": [],
   "source": [
    "data_eq_lp = data_eq.filter(\n",
    "    (data_eq.metadata[\"source_type\"] == \"lp\"),\n",
    "    inplace=False,\n",
    ")\n",
    "data_eq_rg = data_eq.filter(\n",
    "    (data_eq.metadata[\"source_type\"] != \"lp\"),\n",
    "    inplace=False,\n",
    ")"
   ]
  },
  {
   "cell_type": "code",
   "execution_count": 37,
   "metadata": {},
   "outputs": [
    {
     "data": {
      "text/plain": [
       "True"
      ]
     },
     "execution_count": 37,
     "metadata": {},
     "output_type": "execute_result"
    }
   ],
   "source": [
    "data_eq_ENZ = dataset_ENZ.filter(\n",
    "    dataset_ENZ[\"source_type\"] != \"noise\", inplace=False\n",
    ").test()\n",
    "np.all((data_eq_ENZ[\"split\"] == \"test\").values)"
   ]
  },
  {
   "cell_type": "code",
   "execution_count": 62,
   "metadata": {},
   "outputs": [],
   "source": [
    "data_eq_ENZ_lp = data_eq_ENZ.filter(\n",
    "    (data_eq_ENZ.metadata[\"source_type\"] == \"lp\"),\n",
    "    inplace=False,\n",
    ")\n",
    "data_eq_ENZ_rg = data_eq_ENZ.filter(\n",
    "    (data_eq_ENZ.metadata[\"source_type\"] != \"lp\"),\n",
    "    inplace=False,\n",
    ")"
   ]
  },
  {
   "cell_type": "markdown",
   "metadata": {},
   "source": [
    "# Load models"
   ]
  },
  {
   "cell_type": "code",
   "execution_count": 39,
   "metadata": {},
   "outputs": [
    {
     "name": "stdout",
     "output_type": "stream",
     "text": [
      "['Detection', 'P', 'S']\n",
      "PSN\n",
      "peak\n",
      "peak\n",
      "cuda:0\n",
      "cuda:0\n"
     ]
    }
   ],
   "source": [
    "vol_eqt = sbm.EQTransformer.from_pretrained(\"volpick\")\n",
    "vol_eqt.cuda()\n",
    "vol_pn = sbm.PhaseNet.from_pretrained(\"volpick\")\n",
    "vol_pn.cuda()\n",
    "print(vol_eqt.labels)\n",
    "print(vol_pn.labels)\n",
    "print(vol_eqt.norm)\n",
    "print(vol_pn.norm)\n",
    "print(vol_eqt.device)\n",
    "print(vol_pn.device)"
   ]
  },
  {
   "cell_type": "code",
   "execution_count": 40,
   "metadata": {},
   "outputs": [
    {
     "name": "stdout",
     "output_type": "stream",
     "text": [
      "['Detection', 'P', 'S']\n",
      "['Detection', 'P', 'S']\n",
      "NPS\n",
      "std\n",
      "std\n",
      "std\n",
      "cuda:0\n",
      "cuda:0\n",
      "cuda:0\n",
      "['Detection', 'P', 'S']\n",
      "PSN\n",
      "peak\n",
      "peak\n",
      "cuda:0\n",
      "cuda:0\n"
     ]
    }
   ],
   "source": [
    "org_eqt = sbm.EQTransformer.from_pretrained(\"original\")\n",
    "org_eqt2 = sbm.EQTransformer.from_pretrained(\"original_nonconservative\")\n",
    "org_pn = sbm.PhaseNet.from_pretrained(\"original\")\n",
    "org_eqt.cuda()\n",
    "org_eqt2.cuda()\n",
    "org_pn.cuda()\n",
    "print(org_eqt.labels)\n",
    "print(org_eqt2.labels)\n",
    "print(org_pn.labels)\n",
    "print(org_eqt.norm)\n",
    "print(org_eqt2.norm)\n",
    "print(org_pn.norm)\n",
    "print(org_eqt.device)\n",
    "print(org_eqt2.device)\n",
    "print(org_pn.device)\n",
    "\n",
    "eqt_instance = sbm.EQTransformer.from_pretrained(\"instance\")\n",
    "pn_instance = sbm.PhaseNet.from_pretrained(\"instance\")\n",
    "eqt_instance.cuda()\n",
    "pn_instance.cuda()\n",
    "print(eqt_instance.labels)\n",
    "print(pn_instance.labels)\n",
    "print(eqt_instance.norm)\n",
    "print(pn_instance.norm)\n",
    "print(eqt_instance.device)\n",
    "print(pn_instance.device)"
   ]
  },
  {
   "cell_type": "markdown",
   "metadata": {},
   "source": [
    "# Figure saving path"
   ]
  },
  {
   "cell_type": "code",
   "execution_count": 41,
   "metadata": {},
   "outputs": [
    {
     "name": "stdout",
     "output_type": "stream",
     "text": [
      ". exists\n"
     ]
    }
   ],
   "source": [
    "root_save_path = Path(\"./\")\n",
    "try:\n",
    "    root_save_path.mkdir(parents=True, exist_ok=False)\n",
    "except FileExistsError:\n",
    "    print(f\"{root_save_path} exists\")"
   ]
  },
  {
   "cell_type": "markdown",
   "metadata": {},
   "source": [
    "# Frequency index"
   ]
  },
  {
   "cell_type": "code",
   "execution_count": 10,
   "metadata": {},
   "outputs": [
    {
     "name": "stdout",
     "output_type": "stream",
     "text": [
      "5651\n",
      "5651\n"
     ]
    }
   ],
   "source": [
    "freq_indices = data_eq.metadata.drop_duplicates(\n",
    "    subset=\"source_id\", keep=\"first\", inplace=False\n",
    ")[\"source_frequency_index\"].to_numpy()\n",
    "source_ids = data_eq.metadata.drop_duplicates(\n",
    "    subset=\"source_id\", keep=\"first\", inplace=False\n",
    ")[\"source_id\"].to_numpy()\n",
    "\n",
    "# lp and vt\n",
    "lp_metadata = data_eq.metadata[data_eq.metadata[\"source_type\"] == \"lp\"]\n",
    "rg_metadata = data_eq.metadata[data_eq.metadata[\"source_type\"] != \"lp\"]\n",
    "print(len(lp_metadata))\n",
    "print(len(rg_metadata))\n",
    "\n",
    "# frequency indexes of lp events and vt events\n",
    "freq_indices_lp = lp_metadata.drop_duplicates(\n",
    "    subset=\"source_id\", keep=\"first\", inplace=False\n",
    ")[\"source_frequency_index\"].to_numpy()\n",
    "freq_indices_rg = rg_metadata.drop_duplicates(\n",
    "    subset=\"source_id\", keep=\"first\", inplace=False\n",
    ")[\"source_frequency_index\"].to_numpy()"
   ]
  },
  {
   "cell_type": "code",
   "execution_count": 11,
   "metadata": {},
   "outputs": [],
   "source": [
    "# frequency index for each trace\n",
    "trace_freq_indices = data_eq.metadata[\"trace_frequency_index\"]\n",
    "trace_freq_indices_lp = lp_metadata[\"trace_frequency_index\"]\n",
    "trace_freq_indices_rg = rg_metadata[\"trace_frequency_index\"]"
   ]
  },
  {
   "cell_type": "code",
   "execution_count": 12,
   "metadata": {},
   "outputs": [
    {
     "name": "stdout",
     "output_type": "stream",
     "text": [
      "Total 3164\n",
      "LP: 1295\n",
      "VT: 1869\n",
      "True\n",
      "True\n",
      "True\n",
      "True\n"
     ]
    }
   ],
   "source": [
    "print(f\"Total {len(freq_indices)}\")\n",
    "print(f\"LP: {len(freq_indices_lp)}\")\n",
    "print(f\"VT: {len(freq_indices_rg)}\")\n",
    "\n",
    "# validate\n",
    "print(len(freq_indices_rg) + len(freq_indices_lp) == len(freq_indices))\n",
    "print(\n",
    "    np.all(\n",
    "        np.sort(np.concatenate((freq_indices_rg, freq_indices_lp)))\n",
    "        == np.sort(freq_indices)\n",
    "    )\n",
    ")\n",
    "# print(np.sum(np.sort(np.concatenate((freq_indices_rg, freq_indices_lp)))-np.sort(freq_indices)))\n",
    "\n",
    "print(\n",
    "    len(trace_freq_indices_rg) + len(trace_freq_indices_lp) == len(trace_freq_indices)\n",
    ")\n",
    "print(\n",
    "    np.all(\n",
    "        np.sort(np.concatenate((trace_freq_indices_rg, trace_freq_indices_lp)))\n",
    "        == np.sort(trace_freq_indices)\n",
    "    )\n",
    ")\n",
    "# print(np.sum(np.sort(np.concatenate((trace_freq_indices_rg, trace_freq_indices_lp)))-np.sort(trace_freq_indices)))"
   ]
  },
  {
   "cell_type": "code",
   "execution_count": 13,
   "metadata": {},
   "outputs": [
    {
     "name": "stdout",
     "output_type": "stream",
     "text": [
      "max 1.7326133191762194\n",
      "min -5.279731596357192\n",
      "max 1.239009965703311\n",
      "min -4.787927541635342\n"
     ]
    },
    {
     "data": {
      "text/plain": [
       "Text(0, 0.5, 'Count')"
      ]
     },
     "execution_count": 13,
     "metadata": {},
     "output_type": "execute_result"
    },
    {
     "data": {
      "image/png": "[encoded data removed]",
      "text/plain": [
       "<Figure size 700x450 with 1 Axes>"
      ]
     },
     "metadata": {},
     "output_type": "display_data"
    },
    {
     "data": {
      "image/png": "[encoded data removed]",
      "text/plain": [
       "<Figure size 700x450 with 1 Axes>"
      ]
     },
     "metadata": {},
     "output_type": "display_data"
    }
   ],
   "source": [
    "print(f\"max {np.max(trace_freq_indices)}\")\n",
    "print(f\"min {np.min(trace_freq_indices)}\")\n",
    "fts = 12\n",
    "fig = plt.figure(figsize=(7, 4.5))\n",
    "\n",
    "bins = np.arange(-2.4, 1.5, 0.4)\n",
    "plt.hist(\n",
    "    trace_freq_indices,\n",
    "    bins,\n",
    "    density=False,\n",
    "    stacked=True,\n",
    "    color=\"white\",\n",
    "    edgecolor=\"black\",\n",
    "    label=\"Total\",\n",
    ")\n",
    "plt.hist(\n",
    "    trace_freq_indices_rg,\n",
    "    bins,\n",
    "    density=False,\n",
    "    edgecolor=\"black\",\n",
    "    color=\"dodgerblue\",\n",
    "    alpha=0.8,\n",
    "    label=\"VT\",\n",
    ")\n",
    "plt.hist(\n",
    "    trace_freq_indices_lp,\n",
    "    bins,\n",
    "    density=False,\n",
    "    edgecolor=\"black\",\n",
    "    color=\"firebrick\",\n",
    "    alpha=0.8,\n",
    "    label=\"LP\",\n",
    ")\n",
    "plt.gca().tick_params(labelsize=fts)\n",
    "plt.legend()\n",
    "plt.xlabel(\"Station-wise frequency index\", fontsize=fts)\n",
    "plt.ylabel(\"Count\", fontsize=fts)\n",
    "# plt.savefig(root_save_path / \"FI_by_traces.jpg\", bbox_inches=\"tight\", dpi=600)\n",
    "# plt.savefig(root_save_path/\"FI_by_traces.eps\", bbox_inches=\"tight\", dpi=600)\n",
    "\n",
    "print(f\"max {np.max(freq_indices)}\")\n",
    "print(f\"min {np.min(freq_indices)}\")\n",
    "fts = 12\n",
    "fig = plt.figure(figsize=(7, 4.5))\n",
    "\n",
    "\n",
    "plt.hist(\n",
    "    freq_indices, bins, density=False, color=\"white\", edgecolor=\"black\", label=\"Total\"\n",
    ")\n",
    "plt.hist(\n",
    "    freq_indices_rg,\n",
    "    bins,\n",
    "    density=False,\n",
    "    color=\"dodgerblue\",\n",
    "    edgecolor=\"black\",\n",
    "    alpha=0.8,\n",
    "    label=\"VT\",\n",
    ")\n",
    "plt.hist(\n",
    "    freq_indices_lp,\n",
    "    bins,\n",
    "    density=False,\n",
    "    color=\"firebrick\",\n",
    "    edgecolor=\"black\",\n",
    "    alpha=0.8,\n",
    "    label=\"LP\",\n",
    ")\n",
    "# plt.gca().axhline(200)\n",
    "\n",
    "plt.gca().tick_params(labelsize=fts)\n",
    "plt.legend()\n",
    "plt.xlabel(\"Station-averaged frequency index\", fontsize=fts)\n",
    "plt.ylabel(\"Count\", fontsize=fts)\n",
    "# plt.savefig(\n",
    "#     root_save_path / \"FI_averaged_over_stations.jpg\", bbox_inches=\"tight\", dpi=600\n",
    "# )"
   ]
  },
  {
   "cell_type": "markdown",
   "metadata": {},
   "source": [
    "# Evaluation"
   ]
  },
  {
   "cell_type": "code",
   "execution_count": 14,
   "metadata": {},
   "outputs": [
    {
     "name": "stdout",
     "output_type": "stream",
     "text": [
      "  -2.400000e+00,   -2.000000e+00\n",
      "  -2.000000e+00,   -1.600000e+00\n",
      "  -1.600000e+00,   -1.200000e+00\n",
      "  -1.200000e+00,   -8.000000e-01\n",
      "  -8.000000e-01,   -4.000000e-01\n",
      "  -4.000000e-01,   -4.440892e-16\n",
      "  -4.440892e-16,    4.000000e-01\n",
      "   4.000000e-01,    8.000000e-01\n",
      "   8.000000e-01,    1.200000e+00\n"
     ]
    }
   ],
   "source": [
    "bins = np.arange(-2.4, 1.5, 0.4)\n",
    "for x, y in zip(bins[:-1], bins[1:]):\n",
    "    print(f\"{x:15e}, {y:15e}\")"
   ]
  },
  {
   "cell_type": "code",
   "execution_count": 15,
   "metadata": {},
   "outputs": [
    {
     "data": {
      "text/plain": [
       "(array([162., 187., 104., 110., 125., 135., 114., 144., 136., 130., 104.,\n",
       "        135., 119.,  86.,  60.,  95.,  67.,  49.,  96.,  48.,  48.,  28.,\n",
       "         71.,  26.,  66.,  48.,  40.,  25.,  74.,  62.,  31.,  32.,  22.,\n",
       "         37.,  36.,  56.,  39.,  53.,  47.,  68.,  52.,  70., 106.,  83.,\n",
       "         66.,  55.,  59.,  75.,  99.,  74.]),\n",
       " array([-0.79937779, -0.78141331, -0.76344884, -0.74548436, -0.72751988,\n",
       "        -0.70955541, -0.69159093, -0.67362645, -0.65566197, -0.6376975 ,\n",
       "        -0.61973302, -0.60176854, -0.58380407, -0.56583959, -0.54787511,\n",
       "        -0.52991063, -0.51194616, -0.49398168, -0.4760172 , -0.45805272,\n",
       "        -0.44008825, -0.42212377, -0.40415929, -0.38619482, -0.36823034,\n",
       "        -0.35026586, -0.33230138, -0.31433691, -0.29637243, -0.27840795,\n",
       "        -0.26044348, -0.242479  , -0.22451452, -0.20655004, -0.18858557,\n",
       "        -0.17062109, -0.15265661, -0.13469213, -0.11672766, -0.09876318,\n",
       "        -0.0807987 , -0.06283423, -0.04486975, -0.02690527, -0.00894079,\n",
       "         0.00902368,  0.02698816,  0.04495264,  0.06291711,  0.08088159,\n",
       "         0.09884607]),\n",
       " <BarContainer object of 50 artists>)"
      ]
     },
     "execution_count": 15,
     "metadata": {},
     "output_type": "execute_result"
    },
    {
     "data": {
      "image/png": "[encoded data removed]",
      "text/plain": [
       "<Figure size 640x480 with 1 Axes>"
      ]
     },
     "metadata": {},
     "output_type": "display_data"
    }
   ],
   "source": [
    "plt.hist(\n",
    "    data_eq.metadata[\n",
    "        (data_eq.metadata[\"source_frequency_index\"] > -0.8)\n",
    "        & (lteq(data_eq.metadata[\"source_frequency_index\"], 0.1))\n",
    "    ][\"source_frequency_index\"],\n",
    "    50,\n",
    ")"
   ]
  },
  {
   "cell_type": "code",
   "execution_count": 16,
   "metadata": {},
   "outputs": [
    {
     "data": {
      "text/plain": [
       "0           bucket0$0,:3,:4334\n",
       "1           bucket1$0,:3,:4604\n",
       "2           bucket1$1,:3,:4604\n",
       "3           bucket1$2,:3,:4604\n",
       "4           bucket1$3,:3,:4604\n",
       "                 ...          \n",
       "11297    bucket5$364,:3,:12067\n",
       "11298    bucket5$365,:3,:12281\n",
       "11299    bucket5$366,:3,:12210\n",
       "11300    bucket5$367,:3,:12281\n",
       "11301    bucket5$368,:3,:12166\n",
       "Name: trace_name, Length: 11302, dtype: object"
      ]
     },
     "execution_count": 16,
     "metadata": {},
     "output_type": "execute_result"
    }
   ],
   "source": [
    "data_eq[\"trace_name\"]"
   ]
  },
  {
   "cell_type": "markdown",
   "metadata": {},
   "source": [
    "## Predict"
   ]
  },
  {
   "cell_type": "code",
   "execution_count": 17,
   "metadata": {},
   "outputs": [
    {
     "data": {
      "text/plain": [
       "array([-2.4000000e+00, -2.0000000e+00, -1.6000000e+00, -1.2000000e+00,\n",
       "       -8.0000000e-01, -4.0000000e-01, -4.4408921e-16,  4.0000000e-01,\n",
       "        8.0000000e-01,  1.2000000e+00])"
      ]
     },
     "execution_count": 17,
     "metadata": {},
     "output_type": "execute_result"
    }
   ],
   "source": [
    "bins"
   ]
  },
  {
   "cell_type": "code",
   "execution_count": 18,
   "metadata": {},
   "outputs": [
    {
     "name": "stdout",
     "output_type": "stream",
     "text": [
      "[-2.4000000e+00 -2.0000000e+00 -1.6000000e+00 -1.2000000e+00\n",
      " -8.0000000e-01 -4.0000000e-01 -4.4408921e-16  4.0000000e-01\n",
      "  8.0000000e-01  1.2000000e+00]\n",
      "(-2.4,-2.0] 9\n"
     ]
    },
    {
     "name": "stderr",
     "output_type": "stream",
     "text": [
      "100%|██████████| 9/9 [00:00<00:00, 2197.89it/s]\n"
     ]
    },
    {
     "name": "stdout",
     "output_type": "stream",
     "text": [
      "(-2.4,-2.0]_pred/task0/vol_eqt exists\n",
      "Starting set: test\n"
     ]
    },
    {
     "name": "stderr",
     "output_type": "stream",
     "text": [
      "Preloading waveforms: 100%|██████████| 9/9 [00:00<00:00, 90742.15it/s]"
     ]
    },
    {
     "name": "stdout",
     "output_type": "stream",
     "text": [
      "Number of examples in test: 9\n",
      "9 earthquake traces\n",
      "0 noise traces\n",
      "Probability threshold: 0.2200\n"
     ]
    },
    {
     "name": "stderr",
     "output_type": "stream",
     "text": [
      "\n"
     ]
    },
    {
     "name": "stdout",
     "output_type": "stream",
     "text": [
      "(-2.4,-2.0]_pred/task0/vol_pn exists\n",
      "Starting set: test\n"
     ]
    },
    {
     "name": "stderr",
     "output_type": "stream",
     "text": [
      "Preloading waveforms: 100%|██████████| 9/9 [00:00<00:00, 81355.03it/s]"
     ]
    },
    {
     "name": "stdout",
     "output_type": "stream",
     "text": [
      "Number of examples in test: 9\n",
      "9 earthquake traces\n",
      "0 noise traces\n",
      "Probability threshold: 0.3900\n"
     ]
    },
    {
     "name": "stderr",
     "output_type": "stream",
     "text": [
      "\n"
     ]
    },
    {
     "name": "stdout",
     "output_type": "stream",
     "text": [
      "Probability threshold: 0.3400\n",
      "(-2.4,-2.0]_pred/task0/org_eqt exists\n",
      "Starting set: test\n"
     ]
    },
    {
     "name": "stderr",
     "output_type": "stream",
     "text": [
      "Preloading waveforms: 100%|██████████| 9/9 [00:00<00:00, 67893.41it/s]"
     ]
    },
    {
     "name": "stdout",
     "output_type": "stream",
     "text": [
      "Number of examples in test: 9\n",
      "9 earthquake traces\n",
      "0 noise traces\n",
      "Probability threshold: 0.2600\n"
     ]
    },
    {
     "name": "stderr",
     "output_type": "stream",
     "text": [
      "\n"
     ]
    },
    {
     "name": "stdout",
     "output_type": "stream",
     "text": [
      "Probability threshold: 0.1500\n",
      "(-2.4,-2.0]_pred/task0/org_pn exists\n",
      "Starting set: test\n"
     ]
    },
    {
     "name": "stderr",
     "output_type": "stream",
     "text": [
      "Preloading waveforms: 100%|██████████| 9/9 [00:00<00:00, 36331.80it/s]"
     ]
    },
    {
     "name": "stdout",
     "output_type": "stream",
     "text": [
      "Number of examples in test: 9\n",
      "9 earthquake traces\n",
      "0 noise traces\n",
      "Probability threshold: 0.2500\n"
     ]
    },
    {
     "name": "stderr",
     "output_type": "stream",
     "text": [
      "\n"
     ]
    },
    {
     "name": "stdout",
     "output_type": "stream",
     "text": [
      "Probability threshold: 0.1900\n",
      "(-2.4,-2.0]_pred/task0/int_eqt exists\n",
      "Starting set: test\n"
     ]
    },
    {
     "name": "stderr",
     "output_type": "stream",
     "text": [
      "Preloading waveforms: 100%|██████████| 9/9 [00:00<00:00, 90742.15it/s]"
     ]
    },
    {
     "name": "stdout",
     "output_type": "stream",
     "text": [
      "Number of examples in test: 9\n",
      "9 earthquake traces\n",
      "0 noise traces\n",
      "Probability threshold: 0.0400\n"
     ]
    },
    {
     "name": "stderr",
     "output_type": "stream",
     "text": [
      "\n"
     ]
    },
    {
     "name": "stdout",
     "output_type": "stream",
     "text": [
      "(-2.4,-2.0]_pred/task0/int_pn exists\n",
      "Starting set: test\n"
     ]
    },
    {
     "name": "stderr",
     "output_type": "stream",
     "text": [
      "Preloading waveforms: 100%|██████████| 9/9 [00:00<00:00, 43489.33it/s]"
     ]
    },
    {
     "name": "stdout",
     "output_type": "stream",
     "text": [
      "Number of examples in test: 9\n",
      "9 earthquake traces\n",
      "0 noise traces\n",
      "Probability threshold: 0.1300\n"
     ]
    },
    {
     "name": "stderr",
     "output_type": "stream",
     "text": [
      "\n"
     ]
    },
    {
     "name": "stdout",
     "output_type": "stream",
     "text": [
      "Probability threshold: 0.0500\n",
      "(-2.0,-1.6] 43\n"
     ]
    },
    {
     "name": "stderr",
     "output_type": "stream",
     "text": [
      "100%|██████████| 43/43 [00:00<00:00, 2697.83it/s]\n"
     ]
    },
    {
     "name": "stdout",
     "output_type": "stream",
     "text": [
      "(-2.0,-1.6]_pred/task0/vol_eqt exists\n",
      "Starting set: test\n"
     ]
    },
    {
     "name": "stderr",
     "output_type": "stream",
     "text": [
      "Preloading waveforms: 100%|██████████| 43/43 [00:00<00:00, 77107.77it/s]"
     ]
    },
    {
     "name": "stdout",
     "output_type": "stream",
     "text": [
      "Number of examples in test: 43\n",
      "43 earthquake traces\n",
      "0 noise traces\n",
      "Probability threshold: 0.2200\n"
     ]
    },
    {
     "name": "stderr",
     "output_type": "stream",
     "text": [
      "\n"
     ]
    },
    {
     "name": "stdout",
     "output_type": "stream",
     "text": [
      "(-2.0,-1.6]_pred/task0/vol_pn exists\n",
      "Starting set: test\n"
     ]
    },
    {
     "name": "stderr",
     "output_type": "stream",
     "text": [
      "Preloading waveforms: 100%|██████████| 43/43 [00:00<00:00, 206592.29it/s]"
     ]
    },
    {
     "name": "stdout",
     "output_type": "stream",
     "text": [
      "Number of examples in test: 43\n",
      "43 earthquake traces\n",
      "0 noise traces\n",
      "Probability threshold: 0.3900\n"
     ]
    },
    {
     "name": "stderr",
     "output_type": "stream",
     "text": [
      "\n"
     ]
    },
    {
     "name": "stdout",
     "output_type": "stream",
     "text": [
      "Probability threshold: 0.3400\n",
      "(-2.0,-1.6]_pred/task0/org_eqt exists\n",
      "Starting set: test\n"
     ]
    },
    {
     "name": "stderr",
     "output_type": "stream",
     "text": [
      "Preloading waveforms: 100%|██████████| 43/43 [00:00<00:00, 113573.72it/s]"
     ]
    },
    {
     "name": "stdout",
     "output_type": "stream",
     "text": [
      "Number of examples in test: 43\n",
      "43 earthquake traces\n",
      "0 noise traces\n",
      "Probability threshold: 0.2600\n"
     ]
    },
    {
     "name": "stderr",
     "output_type": "stream",
     "text": [
      "\n"
     ]
    },
    {
     "name": "stdout",
     "output_type": "stream",
     "text": [
      "Probability threshold: 0.1500\n",
      "(-2.0,-1.6]_pred/task0/org_pn exists\n",
      "Starting set: test\n"
     ]
    },
    {
     "name": "stderr",
     "output_type": "stream",
     "text": [
      "Preloading waveforms: 100%|██████████| 43/43 [00:00<00:00, 107226.56it/s]"
     ]
    },
    {
     "name": "stdout",
     "output_type": "stream",
     "text": [
      "Number of examples in test: 43\n",
      "43 earthquake traces\n",
      "0 noise traces\n",
      "Probability threshold: 0.2500\n"
     ]
    },
    {
     "name": "stderr",
     "output_type": "stream",
     "text": [
      "\n"
     ]
    },
    {
     "name": "stdout",
     "output_type": "stream",
     "text": [
      "Probability threshold: 0.1900\n",
      "(-2.0,-1.6]_pred/task0/int_eqt exists\n",
      "Starting set: test\n"
     ]
    },
    {
     "name": "stderr",
     "output_type": "stream",
     "text": [
      "Preloading waveforms: 100%|██████████| 43/43 [00:00<00:00, 201289.14it/s]"
     ]
    },
    {
     "name": "stdout",
     "output_type": "stream",
     "text": [
      "Number of examples in test: 43\n",
      "43 earthquake traces\n",
      "0 noise traces\n",
      "Probability threshold: 0.0400\n"
     ]
    },
    {
     "name": "stderr",
     "output_type": "stream",
     "text": [
      "\n"
     ]
    },
    {
     "name": "stdout",
     "output_type": "stream",
     "text": [
      "(-2.0,-1.6]_pred/task0/int_pn exists\n",
      "Starting set: test\n"
     ]
    },
    {
     "name": "stderr",
     "output_type": "stream",
     "text": [
      "Preloading waveforms: 100%|██████████| 43/43 [00:00<00:00, 80122.20it/s]"
     ]
    },
    {
     "name": "stdout",
     "output_type": "stream",
     "text": [
      "Number of examples in test: 43\n",
      "43 earthquake traces\n",
      "0 noise traces\n",
      "Probability threshold: 0.1300\n"
     ]
    },
    {
     "name": "stderr",
     "output_type": "stream",
     "text": [
      "\n"
     ]
    },
    {
     "name": "stdout",
     "output_type": "stream",
     "text": [
      "Probability threshold: 0.0500\n",
      "(-1.6,-1.2] 555\n"
     ]
    },
    {
     "name": "stderr",
     "output_type": "stream",
     "text": [
      "100%|██████████| 555/555 [00:00<00:00, 2675.37it/s]\n"
     ]
    },
    {
     "name": "stdout",
     "output_type": "stream",
     "text": [
      "(-1.6,-1.2]_pred/task0/vol_eqt exists\n",
      "Starting set: test\n"
     ]
    },
    {
     "name": "stderr",
     "output_type": "stream",
     "text": [
      "Preloading waveforms: 100%|██████████| 555/555 [00:00<00:00, 212704.56it/s]"
     ]
    },
    {
     "name": "stdout",
     "output_type": "stream",
     "text": [
      "Number of examples in test: 555\n",
      "555 earthquake traces\n",
      "0 noise traces\n",
      "Probability threshold: 0.2200\n"
     ]
    },
    {
     "name": "stderr",
     "output_type": "stream",
     "text": [
      "\n"
     ]
    },
    {
     "name": "stdout",
     "output_type": "stream",
     "text": [
      "(-1.6,-1.2]_pred/task0/vol_pn exists\n",
      "Starting set: test\n"
     ]
    },
    {
     "name": "stderr",
     "output_type": "stream",
     "text": [
      "Preloading waveforms: 100%|██████████| 555/555 [00:00<00:00, 263897.37it/s]"
     ]
    },
    {
     "name": "stdout",
     "output_type": "stream",
     "text": [
      "Number of examples in test: 555\n",
      "555 earthquake traces\n",
      "0 noise traces\n",
      "Probability threshold: 0.3900\n"
     ]
    },
    {
     "name": "stderr",
     "output_type": "stream",
     "text": [
      "\n"
     ]
    },
    {
     "name": "stdout",
     "output_type": "stream",
     "text": [
      "Probability threshold: 0.3400\n",
      "(-1.6,-1.2]_pred/task0/org_eqt exists\n",
      "Starting set: test\n"
     ]
    },
    {
     "name": "stderr",
     "output_type": "stream",
     "text": [
      "Preloading waveforms: 100%|██████████| 555/555 [00:00<00:00, 163437.39it/s]"
     ]
    },
    {
     "name": "stdout",
     "output_type": "stream",
     "text": [
      "Number of examples in test: 555\n",
      "555 earthquake traces\n",
      "0 noise traces\n",
      "Probability threshold: 0.2600\n"
     ]
    },
    {
     "name": "stderr",
     "output_type": "stream",
     "text": [
      "\n"
     ]
    },
    {
     "name": "stdout",
     "output_type": "stream",
     "text": [
      "Probability threshold: 0.1500\n",
      "(-1.6,-1.2]_pred/task0/org_pn exists\n",
      "Starting set: test\n"
     ]
    },
    {
     "name": "stderr",
     "output_type": "stream",
     "text": [
      "Preloading waveforms: 100%|██████████| 555/555 [00:00<00:00, 245863.83it/s]"
     ]
    },
    {
     "name": "stdout",
     "output_type": "stream",
     "text": [
      "Number of examples in test: 555\n",
      "555 earthquake traces\n",
      "0 noise traces\n",
      "Probability threshold: 0.2500\n"
     ]
    },
    {
     "name": "stderr",
     "output_type": "stream",
     "text": [
      "\n"
     ]
    },
    {
     "name": "stdout",
     "output_type": "stream",
     "text": [
      "Probability threshold: 0.1900\n",
      "(-1.6,-1.2]_pred/task0/int_eqt exists\n",
      "Starting set: test\n"
     ]
    },
    {
     "name": "stderr",
     "output_type": "stream",
     "text": [
      "Preloading waveforms: 100%|██████████| 555/555 [00:00<00:00, 352329.15it/s]"
     ]
    },
    {
     "name": "stdout",
     "output_type": "stream",
     "text": [
      "Number of examples in test: 555\n",
      "555 earthquake traces\n",
      "0 noise traces\n",
      "Probability threshold: 0.0400\n"
     ]
    },
    {
     "name": "stderr",
     "output_type": "stream",
     "text": [
      "\n"
     ]
    },
    {
     "name": "stdout",
     "output_type": "stream",
     "text": [
      "(-1.6,-1.2]_pred/task0/int_pn exists\n",
      "Starting set: test\n"
     ]
    },
    {
     "name": "stderr",
     "output_type": "stream",
     "text": [
      "Preloading waveforms: 100%|██████████| 555/555 [00:00<00:00, 331742.73it/s]"
     ]
    },
    {
     "name": "stdout",
     "output_type": "stream",
     "text": [
      "Number of examples in test: 555\n",
      "555 earthquake traces\n",
      "0 noise traces\n",
      "Probability threshold: 0.1300\n"
     ]
    },
    {
     "name": "stderr",
     "output_type": "stream",
     "text": [
      "\n"
     ]
    },
    {
     "name": "stdout",
     "output_type": "stream",
     "text": [
      "Probability threshold: 0.0500\n",
      "(-1.2,-0.8] 2494\n"
     ]
    },
    {
     "name": "stderr",
     "output_type": "stream",
     "text": [
      "100%|██████████| 2494/2494 [00:01<00:00, 2050.72it/s]\n"
     ]
    },
    {
     "name": "stdout",
     "output_type": "stream",
     "text": [
      "(-1.2,-0.8]_pred/task0/vol_eqt exists\n",
      "Starting set: test\n"
     ]
    },
    {
     "name": "stderr",
     "output_type": "stream",
     "text": [
      "Preloading waveforms: 100%|██████████| 2494/2494 [00:00<00:00, 360498.82it/s]"
     ]
    },
    {
     "name": "stdout",
     "output_type": "stream",
     "text": [
      "Number of examples in test: 2493\n",
      "2493 earthquake traces\n",
      "0 noise traces\n",
      "Probability threshold: 0.2200\n"
     ]
    },
    {
     "name": "stderr",
     "output_type": "stream",
     "text": [
      "\n"
     ]
    },
    {
     "name": "stdout",
     "output_type": "stream",
     "text": [
      "(-1.2,-0.8]_pred/task0/vol_pn exists\n",
      "Starting set: test\n"
     ]
    },
    {
     "name": "stderr",
     "output_type": "stream",
     "text": [
      "Preloading waveforms: 100%|██████████| 2494/2494 [00:00<00:00, 357798.41it/s]"
     ]
    },
    {
     "name": "stdout",
     "output_type": "stream",
     "text": [
      "Number of examples in test: 2493\n",
      "2493 earthquake traces\n",
      "0 noise traces\n",
      "Probability threshold: 0.3900\n"
     ]
    },
    {
     "name": "stderr",
     "output_type": "stream",
     "text": [
      "\n"
     ]
    },
    {
     "name": "stdout",
     "output_type": "stream",
     "text": [
      "Probability threshold: 0.3400\n",
      "(-1.2,-0.8]_pred/task0/org_eqt exists\n",
      "Starting set: test\n"
     ]
    },
    {
     "name": "stderr",
     "output_type": "stream",
     "text": [
      "Preloading waveforms: 100%|██████████| 2494/2494 [00:00<00:00, 360959.08it/s]"
     ]
    },
    {
     "name": "stdout",
     "output_type": "stream",
     "text": [
      "Number of examples in test: 2493\n",
      "2493 earthquake traces\n",
      "0 noise traces\n",
      "Probability threshold: 0.2600\n"
     ]
    },
    {
     "name": "stderr",
     "output_type": "stream",
     "text": [
      "\n"
     ]
    },
    {
     "name": "stdout",
     "output_type": "stream",
     "text": [
      "Probability threshold: 0.1500\n",
      "(-1.2,-0.8]_pred/task0/org_pn exists\n",
      "Starting set: test\n"
     ]
    },
    {
     "name": "stderr",
     "output_type": "stream",
     "text": [
      "Preloading waveforms: 100%|██████████| 2494/2494 [00:00<00:00, 360623.10it/s]"
     ]
    },
    {
     "name": "stdout",
     "output_type": "stream",
     "text": [
      "Number of examples in test: 2493\n",
      "2493 earthquake traces\n",
      "0 noise traces\n",
      "Probability threshold: 0.2500\n"
     ]
    },
    {
     "name": "stderr",
     "output_type": "stream",
     "text": [
      "\n"
     ]
    },
    {
     "name": "stdout",
     "output_type": "stream",
     "text": [
      "Probability threshold: 0.1900\n",
      "(-1.2,-0.8]_pred/task0/int_eqt exists\n",
      "Starting set: test\n"
     ]
    },
    {
     "name": "stderr",
     "output_type": "stream",
     "text": [
      "Preloading waveforms: 100%|██████████| 2494/2494 [00:00<00:00, 367502.61it/s]"
     ]
    },
    {
     "name": "stdout",
     "output_type": "stream",
     "text": [
      "Number of examples in test: 2493\n",
      "2493 earthquake traces\n",
      "0 noise traces\n",
      "Probability threshold: 0.0400\n"
     ]
    },
    {
     "name": "stderr",
     "output_type": "stream",
     "text": [
      "\n"
     ]
    },
    {
     "name": "stdout",
     "output_type": "stream",
     "text": [
      "(-1.2,-0.8]_pred/task0/int_pn exists\n",
      "Starting set: test\n"
     ]
    },
    {
     "name": "stderr",
     "output_type": "stream",
     "text": [
      "Preloading waveforms: 100%|██████████| 2494/2494 [00:00<00:00, 289638.78it/s]"
     ]
    },
    {
     "name": "stdout",
     "output_type": "stream",
     "text": [
      "Number of examples in test: 2493\n",
      "2493 earthquake traces\n",
      "0 noise traces\n",
      "Probability threshold: 0.1300\n"
     ]
    },
    {
     "name": "stderr",
     "output_type": "stream",
     "text": [
      "\n"
     ]
    },
    {
     "name": "stdout",
     "output_type": "stream",
     "text": [
      "Probability threshold: 0.0500\n",
      "(-0.8,-0.4] 2292\n"
     ]
    },
    {
     "name": "stderr",
     "output_type": "stream",
     "text": [
      "100%|██████████| 2292/2292 [00:01<00:00, 2086.07it/s]\n"
     ]
    },
    {
     "name": "stdout",
     "output_type": "stream",
     "text": [
      "(-0.8,-0.4]_pred/task0/vol_eqt exists\n",
      "Starting set: test\n"
     ]
    },
    {
     "name": "stderr",
     "output_type": "stream",
     "text": [
      "Preloading waveforms: 100%|██████████| 2292/2292 [00:00<00:00, 135113.77it/s]"
     ]
    },
    {
     "name": "stdout",
     "output_type": "stream",
     "text": [
      "Number of examples in test: 2292\n",
      "2292 earthquake traces\n",
      "0 noise traces\n",
      "Probability threshold: 0.2200\n"
     ]
    },
    {
     "name": "stderr",
     "output_type": "stream",
     "text": [
      "\n"
     ]
    },
    {
     "name": "stdout",
     "output_type": "stream",
     "text": [
      "(-0.8,-0.4]_pred/task0/vol_pn exists\n",
      "Starting set: test\n"
     ]
    },
    {
     "name": "stderr",
     "output_type": "stream",
     "text": [
      "Preloading waveforms: 100%|██████████| 2292/2292 [00:00<00:00, 365345.83it/s]"
     ]
    },
    {
     "name": "stdout",
     "output_type": "stream",
     "text": [
      "Number of examples in test: 2292\n",
      "2292 earthquake traces\n",
      "0 noise traces\n",
      "Probability threshold: 0.3900\n"
     ]
    },
    {
     "name": "stderr",
     "output_type": "stream",
     "text": [
      "\n"
     ]
    },
    {
     "name": "stdout",
     "output_type": "stream",
     "text": [
      "Probability threshold: 0.3400\n",
      "(-0.8,-0.4]_pred/task0/org_eqt exists\n",
      "Starting set: test\n"
     ]
    },
    {
     "name": "stderr",
     "output_type": "stream",
     "text": [
      "Preloading waveforms: 100%|██████████| 2292/2292 [00:00<00:00, 366166.86it/s]"
     ]
    },
    {
     "name": "stdout",
     "output_type": "stream",
     "text": [
      "Number of examples in test: 2292\n",
      "2292 earthquake traces\n",
      "0 noise traces\n",
      "Probability threshold: 0.2600\n"
     ]
    },
    {
     "name": "stderr",
     "output_type": "stream",
     "text": [
      "\n"
     ]
    },
    {
     "name": "stdout",
     "output_type": "stream",
     "text": [
      "Probability threshold: 0.1500\n",
      "(-0.8,-0.4]_pred/task0/org_pn exists\n",
      "Starting set: test\n"
     ]
    },
    {
     "name": "stderr",
     "output_type": "stream",
     "text": [
      "Preloading waveforms: 100%|██████████| 2292/2292 [00:00<00:00, 362535.16it/s]"
     ]
    },
    {
     "name": "stdout",
     "output_type": "stream",
     "text": [
      "Number of examples in test: 2292\n",
      "2292 earthquake traces\n",
      "0 noise traces\n",
      "Probability threshold: 0.2500\n"
     ]
    },
    {
     "name": "stderr",
     "output_type": "stream",
     "text": [
      "\n"
     ]
    },
    {
     "name": "stdout",
     "output_type": "stream",
     "text": [
      "Probability threshold: 0.1900\n",
      "(-0.8,-0.4]_pred/task0/int_eqt exists\n",
      "Starting set: test\n"
     ]
    },
    {
     "name": "stderr",
     "output_type": "stream",
     "text": [
      "Preloading waveforms: 100%|██████████| 2292/2292 [00:00<00:00, 358172.31it/s]"
     ]
    },
    {
     "name": "stdout",
     "output_type": "stream",
     "text": [
      "Number of examples in test: 2292\n",
      "2292 earthquake traces\n",
      "0 noise traces\n",
      "Probability threshold: 0.0400\n"
     ]
    },
    {
     "name": "stderr",
     "output_type": "stream",
     "text": [
      "\n"
     ]
    },
    {
     "name": "stdout",
     "output_type": "stream",
     "text": [
      "(-0.8,-0.4]_pred/task0/int_pn exists\n",
      "Starting set: test\n"
     ]
    },
    {
     "name": "stderr",
     "output_type": "stream",
     "text": [
      "Preloading waveforms: 100%|██████████| 2292/2292 [00:00<00:00, 150939.63it/s]"
     ]
    },
    {
     "name": "stdout",
     "output_type": "stream",
     "text": [
      "Number of examples in test: 2292\n",
      "2292 earthquake traces\n",
      "0 noise traces\n",
      "Probability threshold: 0.1300\n"
     ]
    },
    {
     "name": "stderr",
     "output_type": "stream",
     "text": [
      "\n"
     ]
    },
    {
     "name": "stdout",
     "output_type": "stream",
     "text": [
      "Probability threshold: 0.0500\n",
      "(-0.4,-0.0] 1169\n"
     ]
    },
    {
     "name": "stderr",
     "output_type": "stream",
     "text": [
      "100%|██████████| 1169/1169 [00:00<00:00, 2111.59it/s]\n"
     ]
    },
    {
     "name": "stdout",
     "output_type": "stream",
     "text": [
      "(-0.4,-0.0]_pred/task0/vol_eqt exists\n",
      "Starting set: test\n"
     ]
    },
    {
     "name": "stderr",
     "output_type": "stream",
     "text": [
      "Preloading waveforms: 100%|██████████| 1169/1169 [00:00<00:00, 252674.12it/s]"
     ]
    },
    {
     "name": "stdout",
     "output_type": "stream",
     "text": [
      "Number of examples in test: 1169\n",
      "1169 earthquake traces\n",
      "0 noise traces\n",
      "Probability threshold: 0.2200\n"
     ]
    },
    {
     "name": "stderr",
     "output_type": "stream",
     "text": [
      "\n"
     ]
    },
    {
     "name": "stdout",
     "output_type": "stream",
     "text": [
      "(-0.4,-0.0]_pred/task0/vol_pn exists\n",
      "Starting set: test\n"
     ]
    },
    {
     "name": "stderr",
     "output_type": "stream",
     "text": [
      "Preloading waveforms: 100%|██████████| 1169/1169 [00:00<00:00, 349999.38it/s]"
     ]
    },
    {
     "name": "stdout",
     "output_type": "stream",
     "text": [
      "Number of examples in test: 1169\n",
      "1169 earthquake traces\n",
      "0 noise traces\n",
      "Probability threshold: 0.3900\n"
     ]
    },
    {
     "name": "stderr",
     "output_type": "stream",
     "text": [
      "\n"
     ]
    },
    {
     "name": "stdout",
     "output_type": "stream",
     "text": [
      "Probability threshold: 0.3400\n",
      "(-0.4,-0.0]_pred/task0/org_eqt exists\n",
      "Starting set: test\n"
     ]
    },
    {
     "name": "stderr",
     "output_type": "stream",
     "text": [
      "Preloading waveforms: 100%|██████████| 1169/1169 [00:00<00:00, 367029.07it/s]"
     ]
    },
    {
     "name": "stdout",
     "output_type": "stream",
     "text": [
      "Number of examples in test: 1169\n",
      "1169 earthquake traces\n",
      "0 noise traces\n",
      "Probability threshold: 0.2600\n"
     ]
    },
    {
     "name": "stderr",
     "output_type": "stream",
     "text": [
      "\n"
     ]
    },
    {
     "name": "stdout",
     "output_type": "stream",
     "text": [
      "Probability threshold: 0.1500\n",
      "(-0.4,-0.0]_pred/task0/org_pn exists\n",
      "Starting set: test\n"
     ]
    },
    {
     "name": "stderr",
     "output_type": "stream",
     "text": [
      "Preloading waveforms: 100%|██████████| 1169/1169 [00:00<00:00, 249358.76it/s]"
     ]
    },
    {
     "name": "stdout",
     "output_type": "stream",
     "text": [
      "Number of examples in test: 1169\n",
      "1169 earthquake traces\n",
      "0 noise traces\n",
      "Probability threshold: 0.2500\n"
     ]
    },
    {
     "name": "stderr",
     "output_type": "stream",
     "text": [
      "\n"
     ]
    },
    {
     "name": "stdout",
     "output_type": "stream",
     "text": [
      "Probability threshold: 0.1900\n",
      "(-0.4,-0.0]_pred/task0/int_eqt exists\n",
      "Starting set: test\n"
     ]
    },
    {
     "name": "stderr",
     "output_type": "stream",
     "text": [
      "Preloading waveforms: 100%|██████████| 1169/1169 [00:00<00:00, 351757.04it/s]"
     ]
    },
    {
     "name": "stdout",
     "output_type": "stream",
     "text": [
      "Number of examples in test: 1169\n",
      "1169 earthquake traces\n",
      "0 noise traces\n",
      "Probability threshold: 0.0400\n"
     ]
    },
    {
     "name": "stderr",
     "output_type": "stream",
     "text": [
      "\n"
     ]
    },
    {
     "name": "stdout",
     "output_type": "stream",
     "text": [
      "(-0.4,-0.0]_pred/task0/int_pn exists\n",
      "Starting set: test\n"
     ]
    },
    {
     "name": "stderr",
     "output_type": "stream",
     "text": [
      "Preloading waveforms: 100%|██████████| 1169/1169 [00:00<00:00, 265839.37it/s]"
     ]
    },
    {
     "name": "stdout",
     "output_type": "stream",
     "text": [
      "Number of examples in test: 1169\n",
      "1169 earthquake traces\n",
      "0 noise traces\n",
      "Probability threshold: 0.1300\n"
     ]
    },
    {
     "name": "stderr",
     "output_type": "stream",
     "text": [
      "\n"
     ]
    },
    {
     "name": "stdout",
     "output_type": "stream",
     "text": [
      "Probability threshold: 0.0500\n",
      "(-0.0,0.4] 2867\n"
     ]
    },
    {
     "name": "stderr",
     "output_type": "stream",
     "text": [
      "100%|██████████| 2867/2867 [00:01<00:00, 1854.22it/s]\n"
     ]
    },
    {
     "name": "stdout",
     "output_type": "stream",
     "text": [
      "(-0.0,0.4]_pred/task0/vol_eqt exists\n",
      "Starting set: test\n"
     ]
    },
    {
     "name": "stderr",
     "output_type": "stream",
     "text": [
      "Preloading waveforms: 100%|██████████| 2867/2867 [00:00<00:00, 342000.22it/s]"
     ]
    },
    {
     "name": "stdout",
     "output_type": "stream",
     "text": [
      "Number of examples in test: 2867\n",
      "2867 earthquake traces\n",
      "0 noise traces\n",
      "Probability threshold: 0.2200\n"
     ]
    },
    {
     "name": "stderr",
     "output_type": "stream",
     "text": [
      "\n"
     ]
    },
    {
     "name": "stdout",
     "output_type": "stream",
     "text": [
      "(-0.0,0.4]_pred/task0/vol_pn exists\n",
      "Starting set: test\n"
     ]
    },
    {
     "name": "stderr",
     "output_type": "stream",
     "text": [
      "Preloading waveforms: 100%|██████████| 2867/2867 [00:00<00:00, 358882.31it/s]"
     ]
    },
    {
     "name": "stdout",
     "output_type": "stream",
     "text": [
      "Number of examples in test: 2867\n",
      "2867 earthquake traces\n",
      "0 noise traces\n",
      "Probability threshold: 0.3900\n"
     ]
    },
    {
     "name": "stderr",
     "output_type": "stream",
     "text": [
      "\n"
     ]
    },
    {
     "name": "stdout",
     "output_type": "stream",
     "text": [
      "Probability threshold: 0.3400\n",
      "(-0.0,0.4]_pred/task0/org_eqt exists\n",
      "Starting set: test\n"
     ]
    },
    {
     "name": "stderr",
     "output_type": "stream",
     "text": [
      "Preloading waveforms: 100%|██████████| 2867/2867 [00:00<00:00, 372870.37it/s]"
     ]
    },
    {
     "name": "stdout",
     "output_type": "stream",
     "text": [
      "Number of examples in test: 2867\n",
      "2867 earthquake traces\n",
      "0 noise traces\n",
      "Probability threshold: 0.2600\n"
     ]
    },
    {
     "name": "stderr",
     "output_type": "stream",
     "text": [
      "\n"
     ]
    },
    {
     "name": "stdout",
     "output_type": "stream",
     "text": [
      "Probability threshold: 0.1500\n",
      "(-0.0,0.4]_pred/task0/org_pn exists\n",
      "Starting set: test\n"
     ]
    },
    {
     "name": "stderr",
     "output_type": "stream",
     "text": [
      "Preloading waveforms: 100%|██████████| 2867/2867 [00:00<00:00, 354952.17it/s]"
     ]
    },
    {
     "name": "stdout",
     "output_type": "stream",
     "text": [
      "Number of examples in test: 2867\n",
      "2867 earthquake traces\n",
      "0 noise traces\n",
      "Probability threshold: 0.2500\n"
     ]
    },
    {
     "name": "stderr",
     "output_type": "stream",
     "text": [
      "\n"
     ]
    },
    {
     "name": "stdout",
     "output_type": "stream",
     "text": [
      "Probability threshold: 0.1900\n",
      "(-0.0,0.4]_pred/task0/int_eqt exists\n",
      "Starting set: test\n"
     ]
    },
    {
     "name": "stderr",
     "output_type": "stream",
     "text": [
      "Preloading waveforms: 100%|██████████| 2867/2867 [00:00<00:00, 358336.90it/s]"
     ]
    },
    {
     "name": "stdout",
     "output_type": "stream",
     "text": [
      "Number of examples in test: 2867\n",
      "2867 earthquake traces\n",
      "0 noise traces\n",
      "Probability threshold: 0.0400\n"
     ]
    },
    {
     "name": "stderr",
     "output_type": "stream",
     "text": [
      "\n"
     ]
    },
    {
     "name": "stdout",
     "output_type": "stream",
     "text": [
      "(-0.0,0.4]_pred/task0/int_pn exists\n",
      "Starting set: test\n"
     ]
    },
    {
     "name": "stderr",
     "output_type": "stream",
     "text": [
      "Preloading waveforms: 100%|██████████| 2867/2867 [00:00<00:00, 357867.67it/s]"
     ]
    },
    {
     "name": "stdout",
     "output_type": "stream",
     "text": [
      "Number of examples in test: 2867\n",
      "2867 earthquake traces\n",
      "0 noise traces\n",
      "Probability threshold: 0.1300\n"
     ]
    },
    {
     "name": "stderr",
     "output_type": "stream",
     "text": [
      "\n"
     ]
    },
    {
     "name": "stdout",
     "output_type": "stream",
     "text": [
      "Probability threshold: 0.0500\n",
      "(0.4,0.8] 1758\n"
     ]
    },
    {
     "name": "stderr",
     "output_type": "stream",
     "text": [
      "100%|██████████| 1758/1758 [00:00<00:00, 1874.03it/s]\n"
     ]
    },
    {
     "name": "stdout",
     "output_type": "stream",
     "text": [
      "(0.4,0.8]_pred/task0/vol_eqt exists\n",
      "Starting set: test\n"
     ]
    },
    {
     "name": "stderr",
     "output_type": "stream",
     "text": [
      "Preloading waveforms: 100%|██████████| 1758/1758 [00:00<00:00, 357888.97it/s]"
     ]
    },
    {
     "name": "stdout",
     "output_type": "stream",
     "text": [
      "Number of examples in test: 1758\n",
      "1758 earthquake traces\n",
      "0 noise traces\n",
      "Probability threshold: 0.2200\n"
     ]
    },
    {
     "name": "stderr",
     "output_type": "stream",
     "text": [
      "\n"
     ]
    },
    {
     "name": "stdout",
     "output_type": "stream",
     "text": [
      "(0.4,0.8]_pred/task0/vol_pn exists\n",
      "Starting set: test\n"
     ]
    },
    {
     "name": "stderr",
     "output_type": "stream",
     "text": [
      "Preloading waveforms: 100%|██████████| 1758/1758 [00:00<00:00, 361361.75it/s]"
     ]
    },
    {
     "name": "stdout",
     "output_type": "stream",
     "text": [
      "Number of examples in test: 1758\n",
      "1758 earthquake traces\n",
      "0 noise traces\n",
      "Probability threshold: 0.3900\n"
     ]
    },
    {
     "name": "stderr",
     "output_type": "stream",
     "text": [
      "\n"
     ]
    },
    {
     "name": "stdout",
     "output_type": "stream",
     "text": [
      "Probability threshold: 0.3400\n",
      "(0.4,0.8]_pred/task0/org_eqt exists\n",
      "Starting set: test\n"
     ]
    },
    {
     "name": "stderr",
     "output_type": "stream",
     "text": [
      "Preloading waveforms: 100%|██████████| 1758/1758 [00:00<00:00, 369085.32it/s]"
     ]
    },
    {
     "name": "stdout",
     "output_type": "stream",
     "text": [
      "Number of examples in test: 1758\n",
      "1758 earthquake traces\n",
      "0 noise traces\n",
      "Probability threshold: 0.2600\n"
     ]
    },
    {
     "name": "stderr",
     "output_type": "stream",
     "text": [
      "\n"
     ]
    },
    {
     "name": "stdout",
     "output_type": "stream",
     "text": [
      "Probability threshold: 0.1500\n",
      "(0.4,0.8]_pred/task0/org_pn exists\n",
      "Starting set: test\n"
     ]
    },
    {
     "name": "stderr",
     "output_type": "stream",
     "text": [
      "Preloading waveforms: 100%|██████████| 1758/1758 [00:00<00:00, 370290.08it/s]"
     ]
    },
    {
     "name": "stdout",
     "output_type": "stream",
     "text": [
      "Number of examples in test: 1758\n",
      "1758 earthquake traces\n",
      "0 noise traces\n",
      "Probability threshold: 0.2500\n"
     ]
    },
    {
     "name": "stderr",
     "output_type": "stream",
     "text": [
      "\n"
     ]
    },
    {
     "name": "stdout",
     "output_type": "stream",
     "text": [
      "Probability threshold: 0.1900\n",
      "(0.4,0.8]_pred/task0/int_eqt exists\n",
      "Starting set: test\n"
     ]
    },
    {
     "name": "stderr",
     "output_type": "stream",
     "text": [
      "Preloading waveforms: 100%|██████████| 1758/1758 [00:00<00:00, 366626.21it/s]"
     ]
    },
    {
     "name": "stdout",
     "output_type": "stream",
     "text": [
      "Number of examples in test: 1758\n",
      "1758 earthquake traces\n",
      "0 noise traces\n",
      "Probability threshold: 0.0400\n"
     ]
    },
    {
     "name": "stderr",
     "output_type": "stream",
     "text": [
      "\n"
     ]
    },
    {
     "name": "stdout",
     "output_type": "stream",
     "text": [
      "(0.4,0.8]_pred/task0/int_pn exists\n",
      "Starting set: test\n"
     ]
    },
    {
     "name": "stderr",
     "output_type": "stream",
     "text": [
      "Preloading waveforms: 100%|██████████| 1758/1758 [00:00<00:00, 354960.11it/s]"
     ]
    },
    {
     "name": "stdout",
     "output_type": "stream",
     "text": [
      "Number of examples in test: 1758\n",
      "1758 earthquake traces\n",
      "0 noise traces\n",
      "Probability threshold: 0.1300\n"
     ]
    },
    {
     "name": "stderr",
     "output_type": "stream",
     "text": [
      "\n"
     ]
    },
    {
     "name": "stdout",
     "output_type": "stream",
     "text": [
      "Probability threshold: 0.0500\n",
      "(0.8,1.2] 111\n"
     ]
    },
    {
     "name": "stderr",
     "output_type": "stream",
     "text": [
      "100%|██████████| 111/111 [00:00<00:00, 1581.01it/s]\n"
     ]
    },
    {
     "name": "stdout",
     "output_type": "stream",
     "text": [
      "(0.8,1.2]_pred/task0/vol_eqt exists\n",
      "Starting set: test\n"
     ]
    },
    {
     "name": "stderr",
     "output_type": "stream",
     "text": [
      "Preloading waveforms: 100%|██████████| 111/111 [00:00<00:00, 292258.47it/s]"
     ]
    },
    {
     "name": "stdout",
     "output_type": "stream",
     "text": [
      "Number of examples in test: 111\n",
      "111 earthquake traces\n",
      "0 noise traces\n",
      "Probability threshold: 0.2200\n"
     ]
    },
    {
     "name": "stderr",
     "output_type": "stream",
     "text": [
      "\n"
     ]
    },
    {
     "name": "stdout",
     "output_type": "stream",
     "text": [
      "(0.8,1.2]_pred/task0/vol_pn exists\n",
      "Starting set: test\n"
     ]
    },
    {
     "name": "stderr",
     "output_type": "stream",
     "text": [
      "Preloading waveforms: 100%|██████████| 111/111 [00:00<00:00, 297107.69it/s]"
     ]
    },
    {
     "name": "stdout",
     "output_type": "stream",
     "text": [
      "Number of examples in test: 111\n",
      "111 earthquake traces\n",
      "0 noise traces\n",
      "Probability threshold: 0.3900\n"
     ]
    },
    {
     "name": "stderr",
     "output_type": "stream",
     "text": [
      "\n"
     ]
    },
    {
     "name": "stdout",
     "output_type": "stream",
     "text": [
      "Probability threshold: 0.3400\n",
      "(0.8,1.2]_pred/task0/org_eqt exists\n",
      "Starting set: test\n"
     ]
    },
    {
     "name": "stderr",
     "output_type": "stream",
     "text": [
      "Preloading waveforms: 100%|██████████| 111/111 [00:00<00:00, 153703.45it/s]"
     ]
    },
    {
     "name": "stdout",
     "output_type": "stream",
     "text": [
      "Number of examples in test: 111\n",
      "111 earthquake traces\n",
      "0 noise traces\n",
      "Probability threshold: 0.2600\n"
     ]
    },
    {
     "name": "stderr",
     "output_type": "stream",
     "text": [
      "\n"
     ]
    },
    {
     "name": "stdout",
     "output_type": "stream",
     "text": [
      "Probability threshold: 0.1500\n",
      "(0.8,1.2]_pred/task0/org_pn exists\n",
      "Starting set: test\n"
     ]
    },
    {
     "name": "stderr",
     "output_type": "stream",
     "text": [
      "Preloading waveforms: 100%|██████████| 111/111 [00:00<00:00, 288993.01it/s]"
     ]
    },
    {
     "name": "stdout",
     "output_type": "stream",
     "text": [
      "Number of examples in test: 111\n",
      "111 earthquake traces\n",
      "0 noise traces\n",
      "Probability threshold: 0.2500\n"
     ]
    },
    {
     "name": "stderr",
     "output_type": "stream",
     "text": [
      "\n"
     ]
    },
    {
     "name": "stdout",
     "output_type": "stream",
     "text": [
      "Probability threshold: 0.1900\n",
      "(0.8,1.2]_pred/task0/int_eqt exists\n",
      "Starting set: test\n"
     ]
    },
    {
     "name": "stderr",
     "output_type": "stream",
     "text": [
      "Preloading waveforms: 100%|██████████| 111/111 [00:00<00:00, 290616.57it/s]"
     ]
    },
    {
     "name": "stdout",
     "output_type": "stream",
     "text": [
      "Number of examples in test: 111\n",
      "111 earthquake traces\n",
      "0 noise traces\n",
      "Probability threshold: 0.0400\n"
     ]
    },
    {
     "name": "stderr",
     "output_type": "stream",
     "text": [
      "\n"
     ]
    },
    {
     "name": "stdout",
     "output_type": "stream",
     "text": [
      "(0.8,1.2]_pred/task0/int_pn exists\n",
      "Starting set: test\n"
     ]
    },
    {
     "name": "stderr",
     "output_type": "stream",
     "text": [
      "Preloading waveforms: 100%|██████████| 111/111 [00:00<00:00, 292442.05it/s]"
     ]
    },
    {
     "name": "stdout",
     "output_type": "stream",
     "text": [
      "Number of examples in test: 111\n",
      "111 earthquake traces\n",
      "0 noise traces\n",
      "Probability threshold: 0.1300\n"
     ]
    },
    {
     "name": "stderr",
     "output_type": "stream",
     "text": [
      "\n"
     ]
    },
    {
     "name": "stdout",
     "output_type": "stream",
     "text": [
      "Probability threshold: 0.0500\n",
      "Finished. Runing time 0:07:47.769970\n"
     ]
    }
   ],
   "source": [
    "tp_thre = 0.5\n",
    "print(bins)\n",
    "t1 = time.perf_counter()\n",
    "FIstrings = []\n",
    "FIs_midpoint = []\n",
    "num_seis = {}\n",
    "for x, y in zip(bins[:-1], bins[1:]):\n",
    "    mask = (data_eq.metadata[\"source_frequency_index\"] > x) & (\n",
    "        lteq(data_eq.metadata[\"source_frequency_index\"], y)\n",
    "    )\n",
    "\n",
    "    sub_dataset = data_eq.filter(mask, inplace=False)\n",
    "\n",
    "    mask2 = (data_eq_ENZ.metadata[\"source_frequency_index\"] > x) & (\n",
    "        lteq(data_eq_ENZ.metadata[\"source_frequency_index\"], y)\n",
    "    )\n",
    "    sub_dataset_ENZ = data_eq_ENZ.filter(mask2, inplace=False)\n",
    "    if len(sub_dataset) > 0:\n",
    "        fi_str = f\"({x:.1f},{y:.1f}]\"\n",
    "        # FI_dataset_map[f\"{0.5*(x+y):.2f}\"]=sub_dataset\n",
    "        FIstrings.append(fi_str)\n",
    "        FIs_midpoint.append(0.5 * (x + y))\n",
    "        print(fi_str, len(sub_dataset))\n",
    "        num_seis[fi_str] = len(sub_dataset)\n",
    "\n",
    "        # sub_dataset._metadata[\"split\"]=\"test\"\n",
    "\n",
    "        targets_path_fi = root_save_path / f\"{fi_str}\"\n",
    "        try:\n",
    "            targets_path_fi.mkdir(parents=True, exist_ok=False)\n",
    "        except FileExistsError:\n",
    "            print(f\"{targets_path_fi} exists\")\n",
    "        generate_task0(\n",
    "            dataset=sub_dataset,\n",
    "            output=targets_path_fi,\n",
    "            sampling_rate=100,\n",
    "            noise_before_events=False,\n",
    "            replace_if_exist=True,\n",
    "        )\n",
    "\n",
    "        # for model in original_model_list:\n",
    "        #     eval_task0(dev_test_set=sub_dataset,\n",
    "        #                 model=model,\n",
    "        #                 exp_name=f\"{model.name}_original\",\n",
    "        #                 targets_path=targets_path_fi,\n",
    "        #                 prob_thres=np.array([0.2, 0.225, 0.25,0.275, 0.3,0.35, 0.4, 0.5]),\n",
    "        #                 num_workers=16,\n",
    "        #                 batchsize=2048,\n",
    "        #                 num_test_run=-1,\n",
    "        #                 output_remark=\"pred\",\n",
    "        #                 sets=[\"test\"],\n",
    "        #                 data_norm_type=model.norm)\n",
    "\n",
    "        # retrained eqt\n",
    "\n",
    "        model = vol_eqt\n",
    "        # for target_i, dataset_i in zip(target_path_list,dataset_list):\n",
    "        eval_task0(\n",
    "            dev_test_set=sub_dataset,\n",
    "            model=model,\n",
    "            exp_name=f\"vol_eqt\",\n",
    "            targets_path=targets_path_fi,\n",
    "            prob_thres=np.array([0.22]),\n",
    "            num_workers=16,\n",
    "            batchsize=2048,\n",
    "            num_test_run=-1,\n",
    "            output_remark=\"pred\",\n",
    "            tp_thre=tp_thre,\n",
    "            sets=[\"test\"],\n",
    "            data_norm_type=model.norm,\n",
    "        )\n",
    "\n",
    "        model = vol_pn\n",
    "        eval_task0(\n",
    "            dev_test_set=sub_dataset,\n",
    "            model=model,\n",
    "            exp_name=f\"vol_pn\",\n",
    "            targets_path=targets_path_fi,\n",
    "            prob_thres=np.array([0.39, 0.34]),\n",
    "            num_workers=16,\n",
    "            batchsize=2048,\n",
    "            num_test_run=-1,\n",
    "            output_remark=\"pred\",\n",
    "            tp_thre=tp_thre,\n",
    "            sets=[\"test\"],\n",
    "            data_norm_type=model.norm,\n",
    "        )\n",
    "\n",
    "        model = org_eqt2\n",
    "        eval_task0(\n",
    "            dev_test_set=sub_dataset,\n",
    "            model=model,\n",
    "            exp_name=f\"org_eqt\",\n",
    "            targets_path=targets_path_fi,\n",
    "            prob_thres=np.array([0.26, 0.15]),\n",
    "            num_workers=16,\n",
    "            batchsize=2048,\n",
    "            num_test_run=-1,\n",
    "            output_remark=\"pred\",\n",
    "            tp_thre=tp_thre,\n",
    "            sets=[\"test\"],\n",
    "            # sets=[\"train\", \"dev\",\"test\"],\n",
    "            # append_to_file=True,\n",
    "            data_norm_type=model.norm,\n",
    "        )\n",
    "\n",
    "        model = org_pn\n",
    "        eval_task0(\n",
    "            dev_test_set=sub_dataset_ENZ,\n",
    "            model=model,\n",
    "            exp_name=f\"org_pn\",\n",
    "            targets_path=targets_path_fi,\n",
    "            prob_thres=np.array([0.25, 0.19]),\n",
    "            num_workers=16,\n",
    "            batchsize=1024,\n",
    "            num_test_run=-1,\n",
    "            output_remark=\"pred\",\n",
    "            tp_thre=tp_thre,\n",
    "            sets=[\"test\"],\n",
    "            # sets=[\"train\", \"dev\",\"test\"],\n",
    "            # append_to_file=True,\n",
    "            data_norm_type=model.norm,\n",
    "        )\n",
    "\n",
    "        model = eqt_instance\n",
    "        eval_task0(\n",
    "            dev_test_set=sub_dataset,\n",
    "            model=model,\n",
    "            exp_name=f\"int_eqt\",\n",
    "            targets_path=targets_path_fi,\n",
    "            prob_thres=np.array([0.04]),\n",
    "            num_workers=16,\n",
    "            batchsize=1024,\n",
    "            num_test_run=-1,\n",
    "            output_remark=\"pred\",\n",
    "            tp_thre=tp_thre,\n",
    "            sets=[\"test\"],\n",
    "            # sets=[\"train\", \"dev\",\"test\"],\n",
    "            # append_to_file=True,\n",
    "            data_norm_type=model.norm,\n",
    "        )\n",
    "\n",
    "        model = pn_instance\n",
    "        eval_task0(\n",
    "            dev_test_set=sub_dataset,\n",
    "            model=model,\n",
    "            exp_name=f\"int_pn\",\n",
    "            targets_path=targets_path_fi,\n",
    "            prob_thres=np.array([0.13, 0.05]),\n",
    "            num_workers=16,\n",
    "            batchsize=1024,\n",
    "            num_test_run=-1,\n",
    "            output_remark=\"pred\",\n",
    "            tp_thre=tp_thre,\n",
    "            sets=[\"test\"],\n",
    "            # sets=[\"train\", \"dev\",\"test\"],\n",
    "            # append_to_file=True,\n",
    "            data_norm_type=model.norm,\n",
    "        )\n",
    "\n",
    "t2 = time.perf_counter()\n",
    "running_time = str(datetime.timedelta(seconds=t2 - t1))\n",
    "print(f\"Finished. Runing time {running_time}\")"
   ]
  },
  {
   "cell_type": "code",
   "execution_count": 19,
   "metadata": {},
   "outputs": [],
   "source": [
    "def str2list(str_list):\n",
    "    return [float(x.strip()) for x in str_list.lstrip(\"[\").rstrip(\"]\").split(\",\")]\n",
    "\n",
    "\n",
    "avg_snrs = []\n",
    "median_snrs = []\n",
    "min_snrs = []\n",
    "max_snrs = []\n",
    "snr_10p = []\n",
    "snr_90p = []\n",
    "for x, y in zip(bins[:-1], bins[1:]):\n",
    "    # print(x,y)\n",
    "    mask = (data_eq.metadata[\"source_frequency_index\"] > x) & (\n",
    "        lteq(data_eq.metadata[\"source_frequency_index\"], y)\n",
    "    )\n",
    "    group = data_eq.metadata[mask].copy()\n",
    "\n",
    "    snr_zne = group[\"trace_snr_db\"].apply(str2list)\n",
    "    snr_zne = snr_zne[snr_zne.apply(lambda x: not np.all(pd.isna(np.array(x))))]\n",
    "    snr = snr_zne.apply(np.nanmean)\n",
    "    snr = snr[pd.notna(snr)]\n",
    "\n",
    "    avg_snrs.append(np.average(snr.values))\n",
    "    median_snrs.append(np.median(snr.values))\n",
    "    min_snrs.append(np.min(snr.values))\n",
    "    max_snrs.append(np.max(snr.values))\n",
    "    snr_10p.append(np.percentile(snr.values, 10))\n",
    "    snr_90p.append(np.percentile(snr.values, 90))\n",
    "\n",
    "df_snr = pd.DataFrame(\n",
    "    data={\n",
    "        \"FI_interval\": FIstrings,\n",
    "        \"FI\": FIs_midpoint,\n",
    "        \"mean_snr\": avg_snrs,\n",
    "        \"median_snr\": median_snrs,\n",
    "        \"min_snr\": min_snrs,\n",
    "        \"max_snr\": max_snrs,\n",
    "        \"10_percentile\": snr_10p,\n",
    "        \"90_percentile\": snr_90p,\n",
    "    }\n",
    ")\n",
    "df_snr.to_csv(\"snr_vs_fi.csv\", index=False)"
   ]
  },
  {
   "cell_type": "code",
   "execution_count": 20,
   "metadata": {},
   "outputs": [
    {
     "data": {
      "text/plain": [
       "1429     24.431775\n",
       "6489     34.003495\n",
       "6587     33.208426\n",
       "6615     16.665077\n",
       "6693     16.441540\n",
       "           ...    \n",
       "11062    51.740769\n",
       "11109    18.991094\n",
       "11110    15.564379\n",
       "11189     0.944967\n",
       "11236    11.790396\n",
       "Name: trace_snr_db, Length: 111, dtype: float64"
      ]
     },
     "execution_count": 20,
     "metadata": {},
     "output_type": "execute_result"
    }
   ],
   "source": [
    "snr"
   ]
  },
  {
   "cell_type": "code",
   "execution_count": 21,
   "metadata": {},
   "outputs": [
    {
     "data": {
      "text/html": [
       "<div>\n",
       "<style scoped>\n",
       "    .dataframe tbody tr th:only-of-type {\n",
       "        vertical-align: middle;\n",
       "    }\n",
       "\n",
       "    .dataframe tbody tr th {\n",
       "        vertical-align: top;\n",
       "    }\n",
       "\n",
       "    .dataframe thead th {\n",
       "        text-align: right;\n",
       "    }\n",
       "</style>\n",
       "<table border=\"1\" class=\"dataframe\">\n",
       "  <thead>\n",
       "    <tr style=\"text-align: right;\">\n",
       "      <th></th>\n",
       "      <th>FI_interval</th>\n",
       "      <th>FI</th>\n",
       "      <th>mean_snr</th>\n",
       "      <th>median_snr</th>\n",
       "      <th>min_snr</th>\n",
       "      <th>max_snr</th>\n",
       "      <th>10_percentile</th>\n",
       "      <th>90_percentile</th>\n",
       "    </tr>\n",
       "  </thead>\n",
       "  <tbody>\n",
       "    <tr>\n",
       "      <th>0</th>\n",
       "      <td>(-2.4,-2.0]</td>\n",
       "      <td>-2.2</td>\n",
       "      <td>15.444793</td>\n",
       "      <td>11.225681</td>\n",
       "      <td>0.926402</td>\n",
       "      <td>35.604887</td>\n",
       "      <td>1.968209</td>\n",
       "      <td>34.615927</td>\n",
       "    </tr>\n",
       "    <tr>\n",
       "      <th>1</th>\n",
       "      <td>(-2.0,-1.6]</td>\n",
       "      <td>-1.8</td>\n",
       "      <td>13.764862</td>\n",
       "      <td>11.747166</td>\n",
       "      <td>-1.100452</td>\n",
       "      <td>32.429762</td>\n",
       "      <td>3.011459</td>\n",
       "      <td>27.496980</td>\n",
       "    </tr>\n",
       "    <tr>\n",
       "      <th>2</th>\n",
       "      <td>(-1.6,-1.2]</td>\n",
       "      <td>-1.4</td>\n",
       "      <td>11.926262</td>\n",
       "      <td>11.249587</td>\n",
       "      <td>-4.429147</td>\n",
       "      <td>40.301330</td>\n",
       "      <td>1.832228</td>\n",
       "      <td>23.144082</td>\n",
       "    </tr>\n",
       "    <tr>\n",
       "      <th>3</th>\n",
       "      <td>(-1.2,-0.8]</td>\n",
       "      <td>-1.0</td>\n",
       "      <td>8.785431</td>\n",
       "      <td>7.635819</td>\n",
       "      <td>-7.942316</td>\n",
       "      <td>42.936345</td>\n",
       "      <td>0.275324</td>\n",
       "      <td>18.804776</td>\n",
       "    </tr>\n",
       "    <tr>\n",
       "      <th>4</th>\n",
       "      <td>(-0.8,-0.4]</td>\n",
       "      <td>-0.6</td>\n",
       "      <td>7.991922</td>\n",
       "      <td>6.400823</td>\n",
       "      <td>-18.427904</td>\n",
       "      <td>82.558544</td>\n",
       "      <td>0.114751</td>\n",
       "      <td>16.639207</td>\n",
       "    </tr>\n",
       "    <tr>\n",
       "      <th>5</th>\n",
       "      <td>(-0.4,-0.0]</td>\n",
       "      <td>-0.2</td>\n",
       "      <td>17.529072</td>\n",
       "      <td>13.722259</td>\n",
       "      <td>-10.492208</td>\n",
       "      <td>82.431486</td>\n",
       "      <td>1.396756</td>\n",
       "      <td>39.952053</td>\n",
       "    </tr>\n",
       "    <tr>\n",
       "      <th>6</th>\n",
       "      <td>(-0.0,0.4]</td>\n",
       "      <td>0.2</td>\n",
       "      <td>26.198373</td>\n",
       "      <td>24.036731</td>\n",
       "      <td>-6.256690</td>\n",
       "      <td>77.771447</td>\n",
       "      <td>6.525824</td>\n",
       "      <td>48.885780</td>\n",
       "    </tr>\n",
       "    <tr>\n",
       "      <th>7</th>\n",
       "      <td>(0.4,0.8]</td>\n",
       "      <td>0.6</td>\n",
       "      <td>24.725404</td>\n",
       "      <td>23.138203</td>\n",
       "      <td>-6.192364</td>\n",
       "      <td>66.002977</td>\n",
       "      <td>7.086497</td>\n",
       "      <td>45.046814</td>\n",
       "    </tr>\n",
       "    <tr>\n",
       "      <th>8</th>\n",
       "      <td>(0.8,1.2]</td>\n",
       "      <td>1.0</td>\n",
       "      <td>16.698535</td>\n",
       "      <td>14.591953</td>\n",
       "      <td>0.792620</td>\n",
       "      <td>51.740769</td>\n",
       "      <td>6.786891</td>\n",
       "      <td>29.251595</td>\n",
       "    </tr>\n",
       "  </tbody>\n",
       "</table>\n",
       "</div>"
      ],
      "text/plain": [
       "   FI_interval   FI   mean_snr  median_snr    min_snr    max_snr   \n",
       "0  (-2.4,-2.0] -2.2  15.444793   11.225681   0.926402  35.604887  \\\n",
       "1  (-2.0,-1.6] -1.8  13.764862   11.747166  -1.100452  32.429762   \n",
       "2  (-1.6,-1.2] -1.4  11.926262   11.249587  -4.429147  40.301330   \n",
       "3  (-1.2,-0.8] -1.0   8.785431    7.635819  -7.942316  42.936345   \n",
       "4  (-0.8,-0.4] -0.6   7.991922    6.400823 -18.427904  82.558544   \n",
       "5  (-0.4,-0.0] -0.2  17.529072   13.722259 -10.492208  82.431486   \n",
       "6   (-0.0,0.4]  0.2  26.198373   24.036731  -6.256690  77.771447   \n",
       "7    (0.4,0.8]  0.6  24.725404   23.138203  -6.192364  66.002977   \n",
       "8    (0.8,1.2]  1.0  16.698535   14.591953   0.792620  51.740769   \n",
       "\n",
       "   10_percentile  90_percentile  \n",
       "0       1.968209      34.615927  \n",
       "1       3.011459      27.496980  \n",
       "2       1.832228      23.144082  \n",
       "3       0.275324      18.804776  \n",
       "4       0.114751      16.639207  \n",
       "5       1.396756      39.952053  \n",
       "6       6.525824      48.885780  \n",
       "7       7.086497      45.046814  \n",
       "8       6.786891      29.251595  "
      ]
     },
     "execution_count": 21,
     "metadata": {},
     "output_type": "execute_result"
    }
   ],
   "source": [
    "df_snr"
   ]
  },
  {
   "cell_type": "code",
   "execution_count": 22,
   "metadata": {},
   "outputs": [],
   "source": [
    "with open(root_save_path / \"FI_intervals.txt\", \"w\") as FIs_file:\n",
    "    for x in FIstrings:\n",
    "        FIs_file.write(f\"{x}\\n\")"
   ]
  },
  {
   "cell_type": "markdown",
   "metadata": {},
   "source": [
    "# Collect results"
   ]
  },
  {
   "cell_type": "code",
   "execution_count": 23,
   "metadata": {},
   "outputs": [
    {
     "data": {
      "text/html": [
       "<div>\n",
       "<style scoped>\n",
       "    .dataframe tbody tr th:only-of-type {\n",
       "        vertical-align: middle;\n",
       "    }\n",
       "\n",
       "    .dataframe tbody tr th {\n",
       "        vertical-align: top;\n",
       "    }\n",
       "\n",
       "    .dataframe thead th {\n",
       "        text-align: right;\n",
       "    }\n",
       "</style>\n",
       "<table border=\"1\" class=\"dataframe\">\n",
       "  <thead>\n",
       "    <tr style=\"text-align: right;\">\n",
       "      <th></th>\n",
       "      <th>exp_name</th>\n",
       "      <th>model</th>\n",
       "      <th>p_opt_prob_thre</th>\n",
       "      <th>s_opt_prob_thre</th>\n",
       "    </tr>\n",
       "  </thead>\n",
       "  <tbody>\n",
       "    <tr>\n",
       "      <th>0</th>\n",
       "      <td>PhaseNet_org_instance</td>\n",
       "      <td>PhaseNet</td>\n",
       "      <td>0.13</td>\n",
       "      <td>0.050</td>\n",
       "    </tr>\n",
       "    <tr>\n",
       "      <th>1</th>\n",
       "      <td>PhaseNet_org_incorrect_component_order</td>\n",
       "      <td>PhaseNet</td>\n",
       "      <td>0.28</td>\n",
       "      <td>0.170</td>\n",
       "    </tr>\n",
       "    <tr>\n",
       "      <th>2</th>\n",
       "      <td>EQTransformer_org</td>\n",
       "      <td>EQTransformer</td>\n",
       "      <td>0.01</td>\n",
       "      <td>0.001</td>\n",
       "    </tr>\n",
       "    <tr>\n",
       "      <th>3</th>\n",
       "      <td>EQTransformer_org_instance</td>\n",
       "      <td>EQTransformer</td>\n",
       "      <td>0.04</td>\n",
       "      <td>0.040</td>\n",
       "    </tr>\n",
       "    <tr>\n",
       "      <th>4</th>\n",
       "      <td>PhaseNet_org</td>\n",
       "      <td>PhaseNet</td>\n",
       "      <td>0.25</td>\n",
       "      <td>0.190</td>\n",
       "    </tr>\n",
       "    <tr>\n",
       "      <th>5</th>\n",
       "      <td>EQTransformer_org_nonconservative</td>\n",
       "      <td>EQTransformer</td>\n",
       "      <td>0.26</td>\n",
       "      <td>0.150</td>\n",
       "    </tr>\n",
       "    <tr>\n",
       "      <th>6</th>\n",
       "      <td>PhaseNet_org_stead</td>\n",
       "      <td>PhaseNet</td>\n",
       "      <td>0.01</td>\n",
       "      <td>0.040</td>\n",
       "    </tr>\n",
       "    <tr>\n",
       "      <th>7</th>\n",
       "      <td>EQTransformer_org_stead</td>\n",
       "      <td>EQTransformer</td>\n",
       "      <td>0.02</td>\n",
       "      <td>0.010</td>\n",
       "    </tr>\n",
       "  </tbody>\n",
       "</table>\n",
       "</div>"
      ],
      "text/plain": [
       "                                 exp_name          model  p_opt_prob_thre   \n",
       "0                   PhaseNet_org_instance       PhaseNet             0.13  \\\n",
       "1  PhaseNet_org_incorrect_component_order       PhaseNet             0.28   \n",
       "2                       EQTransformer_org  EQTransformer             0.01   \n",
       "3              EQTransformer_org_instance  EQTransformer             0.04   \n",
       "4                            PhaseNet_org       PhaseNet             0.25   \n",
       "5       EQTransformer_org_nonconservative  EQTransformer             0.26   \n",
       "6                      PhaseNet_org_stead       PhaseNet             0.01   \n",
       "7                 EQTransformer_org_stead  EQTransformer             0.02   \n",
       "\n",
       "   s_opt_prob_thre  \n",
       "0            0.050  \n",
       "1            0.170  \n",
       "2            0.001  \n",
       "3            0.040  \n",
       "4            0.190  \n",
       "5            0.150  \n",
       "6            0.040  \n",
       "7            0.010  "
      ]
     },
     "execution_count": 23,
     "metadata": {},
     "output_type": "execute_result"
    }
   ],
   "source": [
    "opt_thresholds_for_original_models_df = pd.read_csv(\n",
    "    \"/home/zhongyiyuan/volpick/model_training/Original_model_opt_thresholds/all_pred/task0/optimal_threshold.csv\"\n",
    ")\n",
    "opt_thresholds_for_original_models_df = opt_thresholds_for_original_models_df[\n",
    "    [\"exp_name\", \"model\", \"p_opt_prob_thre\", \"s_opt_prob_thre\"]  # \"pretraining\",\n",
    "]\n",
    "opt_thresholds_for_original_models_df"
   ]
  },
  {
   "cell_type": "code",
   "execution_count": 24,
   "metadata": {},
   "outputs": [],
   "source": [
    "eqt_pred_dirs = [\"org_eqt\", \"int_eqt\", \"vol_eqt\"]\n",
    "pn_pred_dirs = [\"org_pn\", \"int_pn\", \"vol_pn\"]\n",
    "exp_names = eqt_pred_dirs + pn_pred_dirs\n",
    "\n",
    "save_csv_names = {\n",
    "    \"org_pn\": \"org_pn_fi.csv\",\n",
    "    \"int_pn\": \"int_pn_fi.csv\",\n",
    "    \"vol_pn\": \"vol_pn_fi.csv\",\n",
    "    \"org_eqt\": \"org_eqt_fi.csv\",\n",
    "    \"vol_eqt\": \"vol_eqt_fi.csv\",\n",
    "    \"int_eqt\": \"int_eqt_fi.csv\",\n",
    "}\n",
    "p_thre_dict = {\n",
    "    \"vol_eqt\": vol_eqt.default_args[\"P_threshold\"],\n",
    "    \"vol_pn\": vol_pn.default_args[\"P_threshold\"],\n",
    "    \"org_eqt\": 0.26,  # EQTransformer_org_nonconservative\n",
    "    \"org_pn\": 0.25,\n",
    "    \"int_eqt\": 0.04,\n",
    "    \"int_pn\": 0.13,\n",
    "}\n",
    "s_thre_dict = {\n",
    "    \"vol_eqt\": vol_eqt.default_args[\"S_threshold\"],\n",
    "    \"vol_pn\": vol_pn.default_args[\"S_threshold\"],\n",
    "    \"org_eqt\": 0.15,\n",
    "    \"org_pn\": 0.19,\n",
    "    \"int_eqt\": 0.04,\n",
    "    \"int_pn\": 0.05,\n",
    "}"
   ]
  },
  {
   "cell_type": "markdown",
   "metadata": {},
   "source": [
    "Write result"
   ]
  },
  {
   "cell_type": "code",
   "execution_count": 25,
   "metadata": {},
   "outputs": [],
   "source": [
    "# run only once\n",
    "for exp_name in exp_names:\n",
    "    p_metrics_vs_fi = []\n",
    "    s_metrics_vs_fi = []\n",
    "    for i, (fi_str, fi) in enumerate(zip(FIstrings, FIs_midpoint)):\n",
    "        # print(i,fi_str,fi)\n",
    "        tmp_metrics = pd.read_csv(\n",
    "            root_save_path / f\"{fi_str}_pred\" / \"task0\" / exp_name / \"test_metrics.csv\"\n",
    "        )\n",
    "\n",
    "        column_labels = tmp_metrics.columns\n",
    "        p_labels = [x for x in column_labels if x.startswith(\"p_\")]\n",
    "        s_labels = [x for x in column_labels if x.startswith(\"s_\")]\n",
    "\n",
    "        p_tmp_dict = (\n",
    "            tmp_metrics[np.isclose(tmp_metrics[\"prob_thre\"], p_thre_dict[exp_name])][\n",
    "                [\"prob_thre\"] + p_labels\n",
    "            ]\n",
    "            .squeeze()\n",
    "            .to_dict()\n",
    "        )\n",
    "        p_tmp_dict[\"FI\"] = fi\n",
    "        p_tmp_dict[\"FI_interval\"] = fi_str\n",
    "        p_tmp_dict[\"n_seis\"] = num_seis[fi_str]\n",
    "\n",
    "        s_tmp_dict = (\n",
    "            tmp_metrics[np.isclose(tmp_metrics[\"prob_thre\"], s_thre_dict[exp_name])][\n",
    "                [\"prob_thre\"] + s_labels\n",
    "            ]\n",
    "            .squeeze()\n",
    "            .to_dict()\n",
    "        )\n",
    "        s_tmp_dict[\"FI\"] = fi\n",
    "        s_tmp_dict[\"FI_interval\"] = fi_str\n",
    "        s_tmp_dict[\"n_seis\"] = num_seis[fi_str]\n",
    "\n",
    "        p_metrics_vs_fi.append(p_tmp_dict)\n",
    "        s_metrics_vs_fi.append(s_tmp_dict)\n",
    "    p_metrics_vs_fi = pd.DataFrame(p_metrics_vs_fi)\n",
    "    p_metrics_vs_fi.to_csv(\n",
    "        root_save_path / f\"p.{save_csv_names[exp_name]}\", index=False\n",
    "    )\n",
    "    s_metrics_vs_fi = pd.DataFrame(s_metrics_vs_fi)\n",
    "    s_metrics_vs_fi.to_csv(\n",
    "        root_save_path / f\"s.{save_csv_names[exp_name]}\", index=False\n",
    "    )"
   ]
  },
  {
   "cell_type": "markdown",
   "metadata": {},
   "source": [
    "# Plot figures"
   ]
  },
  {
   "cell_type": "markdown",
   "metadata": {},
   "source": [
    "SNR, number of traces"
   ]
  },
  {
   "cell_type": "code",
   "execution_count": 26,
   "metadata": {},
   "outputs": [
    {
     "name": "stdout",
     "output_type": "stream",
     "text": [
      "-2.4 -2.0\n",
      "0.9264015910631948 35.60488711608583\n",
      "-2.0 -1.6\n",
      "-1.1004516038512306 32.42976224760245\n",
      "-1.6 -1.2\n",
      "-4.429147266445951 40.301329875152085\n",
      "-1.2 -0.8\n",
      "-7.942315777968847 42.93634537893151\n",
      "-0.8 -0.4\n",
      "-18.427903812376403 82.55854371088981\n",
      "-0.4 -0.0\n",
      "-10.492208252881246 82.4314861249134\n",
      "-0.0 0.4\n",
      "-6.256690098480718 77.7714473439881\n",
      "0.4 0.8\n",
      "-6.1923635550996545 66.00297694558213\n",
      "0.8 1.2\n",
      "0.7926195433734248 51.74076900880656\n"
     ]
    },
    {
     "name": "stderr",
     "output_type": "stream",
     "text": [
      "The PostScript backend does not support transparency; partially transparent artists will be rendered opaque.\n"
     ]
    },
    {
     "data": {
      "image/png": "[encoded data removed]",
      "text/plain": [
       "<Figure size 708.661x551.181 with 2 Axes>"
      ]
     },
     "metadata": {},
     "output_type": "display_data"
    }
   ],
   "source": [
    "# number of data\n",
    "exp_name = \"vol_eqt\"\n",
    "metrics_vs_fi = pd.read_csv(root_save_path / f\"p.{save_csv_names[exp_name]}\")\n",
    "\n",
    "\n",
    "nseis_lower_limit = 100\n",
    "\n",
    "nseis = metrics_vs_fi[\"n_seis\"].to_numpy()\n",
    "FIs = metrics_vs_fi[\"FI\"].to_numpy()\n",
    "intervals = metrics_vs_fi[\"FI_interval\"].to_numpy()\n",
    "\n",
    "cm = 1 / 2.54\n",
    "fts = 8\n",
    "fig, axs = plt.subplots(2, 1, figsize=(18 * cm, 14 * cm), sharex=\"all\")\n",
    "plt.subplots_adjust(wspace=0.05, hspace=0.0)\n",
    "ax = axs[0]\n",
    "ax.semilogy(FIs, nseis, \"ro-\")\n",
    "ax.axhline(nseis_lower_limit, color=\"gray\")\n",
    "# ax.set_xlabel(\"Frequency index groups\")\n",
    "ax.set_ylabel(\"Number of seismograms\", fontsize=fts)\n",
    "# ax.set_xticks(FIs)\n",
    "# ax.set_xticklabels(intervals, rotation=-80)\n",
    "ax.grid()\n",
    "ax.tick_params(labelsize=fts)\n",
    "ax.text(\n",
    "    -0.05,\n",
    "    1.0,\n",
    "    \"(a)\",\n",
    "    verticalalignment=\"top\",\n",
    "    horizontalalignment=\"right\",\n",
    "    transform=ax.transAxes,\n",
    "    fontsize=fts + 2,\n",
    "    # weight=\"bold\",\n",
    "    color=\"black\",\n",
    ")\n",
    "\n",
    "\n",
    "# SNRs\n",
    "df_with_enough_data = metrics_vs_fi[metrics_vs_fi[\"n_seis\"] > 0]\n",
    "intervals2 = df_with_enough_data[\"FI_interval\"].to_numpy()\n",
    "FIs2 = df_with_enough_data[\"FI\"].to_numpy()\n",
    "\n",
    "\n",
    "def str2list(str_list):\n",
    "    return [float(x.strip()) for x in str_list.lstrip(\"[\").rstrip(\"]\").split(\",\")]\n",
    "\n",
    "\n",
    "snr_list = []\n",
    "for fi_str in intervals2:\n",
    "    x, y = fi_str.lstrip(\"(\").rstrip(\"]\").split(\",\")\n",
    "    x = float(x)\n",
    "    y = float(y)\n",
    "    print(x, y)\n",
    "    mask = (data_eq.metadata[\"source_frequency_index\"] > x) & (\n",
    "        lteq(data_eq.metadata[\"source_frequency_index\"], y)\n",
    "    )\n",
    "    group = data_eq.metadata[mask].copy()\n",
    "\n",
    "    snr_zne = group[\"trace_snr_db\"].apply(str2list)\n",
    "    snr_zne = snr_zne[snr_zne.apply(lambda x: not np.all(pd.isna(np.array(x))))]\n",
    "    snr = snr_zne.apply(np.nanmean)\n",
    "    snr = snr[pd.notna(snr)]\n",
    "    print(min(snr), max(snr))\n",
    "    snr_list.append(snr.values)\n",
    "\n",
    "ax = axs[1]\n",
    "# ax.axvspan(\n",
    "#     min(FIs[nseis > nseis_lower_limit]),\n",
    "#     max(FIs[nseis > nseis_lower_limit]),\n",
    "#     alpha=0.5,\n",
    "#     color=\"gray\",\n",
    "# )\n",
    "violin = ax.violinplot(\n",
    "    dataset=snr_list,\n",
    "    positions=FIs2,\n",
    "    showmeans=True,\n",
    "    showextrema=True,\n",
    "    showmedians=True,\n",
    "    widths=0.18,\n",
    "    quantiles=[[0.05, 0.95] for _ in range(len(snr_list))],\n",
    ")\n",
    "violin[\"cmeans\"].set_linestyle(\"-\")\n",
    "violin[\"cmeans\"].set_color(\"orange\")\n",
    "violin[\"cmeans\"].set_label(\"Mean\")\n",
    "\n",
    "\n",
    "violin[\"cmedians\"].set_linestyle(\"dotted\")\n",
    "violin[\"cmedians\"].set_color(\"teal\")\n",
    "violin[\"cmedians\"].set_label(\"Median\")\n",
    "\n",
    "violin[\"cquantiles\"].set_color(\"dodgerblue\")\n",
    "violin[\"cquantiles\"].set_linewidth(1)\n",
    "violin[\"cquantiles\"].set_label(\"10th/90th percentiles\")\n",
    "for partname in (\"cbars\", \"cmins\", \"cmaxes\"):\n",
    "    vp = violin[partname]\n",
    "    vp.set_edgecolor(\"black\")\n",
    "    vp.set_linewidth(1)\n",
    "for pc in violin[\"bodies\"]:\n",
    "    pc.set_facecolor(\"silver\")\n",
    "    pc.set_edgecolor(\"darkgray\")\n",
    "    pc.set_alpha(1)\n",
    "\n",
    "ax.tick_params(labelsize=fts)\n",
    "ax.text(\n",
    "    -0.05,\n",
    "    1.0,\n",
    "    \"(b)\",\n",
    "    verticalalignment=\"top\",\n",
    "    horizontalalignment=\"right\",\n",
    "    transform=ax.transAxes,\n",
    "    fontsize=fts + 2,\n",
    "    # weight=\"bold\",\n",
    "    color=\"black\",\n",
    ")\n",
    "\n",
    "# for pc in parts['bodies']:\n",
    "#     pc.set_facecolor('#D43F3A')\n",
    "#     pc.set_edgecolor('black')\n",
    "#     pc.set_alpha(1)\n",
    "# ax.plot(FIs, mean_snrs, \"bo-\")\n",
    "# ax.plot(FIs, median_snrs, \"go-\")\n",
    "# ax.axhline(nseis_lower_limit, color=\"black\")\n",
    "ax.set_xlabel(\"Intervals of frequency index\", fontsize=fts)\n",
    "ax.set_ylabel(\"SNR (dB)\", fontsize=fts)\n",
    "ax.set_xticks(FIs)\n",
    "ax.set_xticklabels(intervals, rotation=-80, fontsize=fts)\n",
    "ax.legend(loc=\"upper left\", fontsize=fts)\n",
    "ax.grid()\n",
    "\n",
    "# ax.set_axisbelow(True)\n",
    "# plt.savefig(root_save_path/\"FI_vs_n.jpg\", dpi=300, bbox_inches=\"tight\")\n",
    "plt.savefig(\n",
    "    root_save_path / \"fi_vs_n_and_snr.eps\", dpi=600, bbox_inches=\"tight\", pad_inches=0\n",
    ")"
   ]
  },
  {
   "cell_type": "code",
   "execution_count": null,
   "metadata": {},
   "outputs": [],
   "source": []
  },
  {
   "cell_type": "code",
   "execution_count": 27,
   "metadata": {},
   "outputs": [
    {
     "data": {
      "text/plain": [
       "['org_eqt', 'int_eqt', 'vol_eqt']"
      ]
     },
     "execution_count": 27,
     "metadata": {},
     "output_type": "execute_result"
    }
   ],
   "source": [
    "eqt_pred_dirs"
   ]
  },
  {
   "cell_type": "code",
   "execution_count": 28,
   "metadata": {},
   "outputs": [
    {
     "data": {
      "text/plain": [
       "(2,)"
      ]
     },
     "execution_count": 28,
     "metadata": {},
     "output_type": "execute_result"
    }
   ],
   "source": [
    "axs.shape"
   ]
  },
  {
   "cell_type": "code",
   "execution_count": 31,
   "metadata": {},
   "outputs": [
    {
     "name": "stdout",
     "output_type": "stream",
     "text": [
      "-2.4 -2.0\n",
      "0.9264015910631948 35.60488711608583\n",
      "-2.0 -1.6\n",
      "-1.1004516038512306 32.42976224760245\n",
      "-1.6 -1.2\n",
      "-4.429147266445951 40.301329875152085\n",
      "-1.2 -0.8\n",
      "-7.942315777968847 42.93634537893151\n",
      "-0.8 -0.4\n",
      "-18.427903812376403 82.55854371088981\n",
      "-0.4 -0.0\n",
      "-10.492208252881246 82.4314861249134\n",
      "-0.0 0.4\n",
      "-6.256690098480718 77.7714473439881\n",
      "0.4 0.8\n",
      "-6.1923635550996545 66.00297694558213\n",
      "0.8 1.2\n",
      "0.7926195433734248 51.74076900880656\n"
     ]
    },
    {
     "data": {
      "image/png": "[encoded data removed]",
      "text/plain": [
       "<Figure size 866.142x708.661 with 8 Axes>"
      ]
     },
     "metadata": {},
     "output_type": "display_data"
    }
   ],
   "source": [
    "nseis_lower_limit = 100\n",
    "\n",
    "cm = 1 / 2.54\n",
    "# fig, axs = plt.subplots(2, 3, figsize=(22 * cm, 10 * cm), sharex=\"all\", sharey=\"all\")\n",
    "fig = plt.figure(figsize=(22 * cm, 18 * cm))\n",
    "\n",
    "subfigs = fig.subfigures(2, 1, height_ratios=[1.0, 0.5])\n",
    "# subfigs.subplots_adjust(hspace=0.5)\n",
    "axs = subfigs[0].subplots(2, 3, sharex=\"all\", sharey=\"all\")\n",
    "\n",
    "subfigs[0].subplots_adjust(wspace=0.03, hspace=0.08, bottom=0.165)\n",
    "\n",
    "labels = {\n",
    "    \"org_eqt\": \"Original EQTransformer (Mousavi et al., 2020)\",\n",
    "    \"int_eqt\": r\"EQTransformer trained on INSTANCE (M$\\rm{\\\"u}$nchmeyer et al., 2022)\",\n",
    "    \"vol_eqt\": \"EQTransformer retrained in this study\",\n",
    "    \"org_pn\": \"Original PhaseNet (Zhu & Beroza, 2019)\",\n",
    "    \"int_pn\": r\"PhaseNet trained on INSTANCE (M$\\rm{\\\"u}$nchmeyer et al., 2022)\",\n",
    "    \"vol_pn\": \"PhaseNet retrained in this study\",\n",
    "}\n",
    "lw = 1.2\n",
    "ms = 4.0\n",
    "fts = 8\n",
    "\n",
    "markerfacecolors = [None, \"white\"]\n",
    "markeredgecolors = [None, None]\n",
    "markers = [\"s\", \"d\", \"o\"]\n",
    "linestyles = [\"solid\", \"dotted\"]\n",
    "colors = [\"teal\", \"dodgerblue\", \"firebrick\"]\n",
    "for i_net, pred_dirs in enumerate([pn_pred_dirs, eqt_pred_dirs]):\n",
    "    markerfacecolor = markerfacecolors[i_net]\n",
    "    markeredgecolor = markeredgecolors[i_net]\n",
    "    linestyle = linestyles[i_net]\n",
    "\n",
    "    for i in range(3):\n",
    "        exp_name = pred_dirs[i]\n",
    "        color = colors[i]\n",
    "        marker = markers[i]\n",
    "\n",
    "        for j, phase in enumerate([\"p\", \"s\"]):\n",
    "            metrics_vs_fi = pd.read_csv(\n",
    "                root_save_path / f\"{phase}.{save_csv_names[exp_name]}\"\n",
    "            )\n",
    "            metrics_vs_fi = metrics_vs_fi[metrics_vs_fi[\"n_seis\"] > nseis_lower_limit]\n",
    "            for k, metric in enumerate([\"recall\", \"precision\", \"F1score\"]):\n",
    "                FIs = metrics_vs_fi[\"FI\"].values\n",
    "                intervals = (\n",
    "                    metrics_vs_fi[\"FI_interval\"]\n",
    "                    .apply(lambda x: x.replace(\",\", \", \"))\n",
    "                    .values\n",
    "                )\n",
    "                ax = axs[j][k]\n",
    "                metric_value = metrics_vs_fi[f\"{phase}_{metric}\"]\n",
    "                ax.plot(\n",
    "                    FIs,\n",
    "                    metric_value,\n",
    "                    color=color,\n",
    "                    linewidth=lw,\n",
    "                    linestyle=linestyle,\n",
    "                    marker=marker,\n",
    "                    markeredgecolor=markeredgecolor,\n",
    "                    markerfacecolor=markerfacecolor,\n",
    "                    markersize=ms,\n",
    "                    label=labels[exp_name],\n",
    "                )\n",
    "                ax.tick_params(labelsize=fts)\n",
    "                ax.set_xticks(FIs)\n",
    "                ax.set_xticklabels(intervals, rotation=-60)  # , ha=\"left\"\n",
    "                ax.yaxis.set_minor_locator(MultipleLocator(0.05))\n",
    "                ax.set_ylim([0.15, 1])\n",
    "                ax.grid(True)\n",
    "axs[0][0].set_ylabel(\"P picking\", fontsize=fts)\n",
    "axs[1][0].set_ylabel(\"S picking\", fontsize=fts)\n",
    "axs[0][0].set_title(\"Recall\", fontsize=fts)\n",
    "axs[0][1].set_title(\"Precision\", fontsize=fts)\n",
    "axs[0][2].set_title(\"F1 score\", fontsize=fts)\n",
    "axs[0][0].legend(\n",
    "    loc=\"lower left\",\n",
    "    bbox_to_anchor=(-0.15, 1.13, 1, 0.5),\n",
    "    frameon=False,\n",
    "    fontsize=fts - 0.5,\n",
    "    ncols=2,\n",
    "    columnspacing=0.9,\n",
    ")\n",
    "# axs[1][1].set_xlabel(\"Frequency index\", fontsize=fts)\n",
    "# axs[0][1].set_title(\"(a) Model performance\", y=1.65, loc=\"center\", weight=\"bold\")\n",
    "axs[0][0].set_title(\n",
    "    \"(a) Model performance vs frequency index\",\n",
    "    y=1.5,\n",
    "    loc=\"left\",\n",
    "    weight=\"bold\",\n",
    "    fontsize=fts + 1,\n",
    ")\n",
    "# subplot 1\n",
    "axs1 = subfigs[1].subplots(1, 2)\n",
    "subfigs[1].subplots_adjust(wspace=0.2)\n",
    "subfigs[1].suptitle(\"\")\n",
    "metrics_vs_fi = pd.read_csv(root_save_path / f\"p.{save_csv_names['vol_eqt']}\")\n",
    "nseis = metrics_vs_fi[\"n_seis\"].to_numpy()\n",
    "FIs = metrics_vs_fi[\"FI\"].to_numpy()\n",
    "intervals = metrics_vs_fi[\"FI_interval\"].to_numpy()\n",
    "\n",
    "\n",
    "axs1[0].semilogy(\n",
    "    FIs[nseis > nseis_lower_limit], nseis[nseis > nseis_lower_limit], \"ro-\"\n",
    ")\n",
    "# axs1[0].axhline(nseis_lower_limit, color=\"gray\")\n",
    "# ax.set_xlabel(\"Frequency index groups\")\n",
    "axs1[0].set_ylabel(\"Number of seismograms\", fontsize=fts)\n",
    "# ax.set_xticks(FIs)\n",
    "# ax.set_xticklabels(intervals, rotation=-80)\n",
    "axs1[0].grid()\n",
    "axs1[0].tick_params(labelsize=fts)\n",
    "# axs1[0].text(\n",
    "#     -0.05,\n",
    "#     1.0,\n",
    "#     \"(a)\",\n",
    "#     verticalalignment=\"top\",\n",
    "#     horizontalalignment=\"right\",\n",
    "#     transform=ax.transAxes,\n",
    "#     fontsize=fts + 2,\n",
    "#     # weight=\"bold\",\n",
    "#     color=\"black\",\n",
    "# )\n",
    "\n",
    "\n",
    "# SNRs\n",
    "df_with_enough_data = metrics_vs_fi[metrics_vs_fi[\"n_seis\"] > 0]\n",
    "intervals2 = df_with_enough_data[\"FI_interval\"].to_numpy()\n",
    "FIs2 = df_with_enough_data[\"FI\"].to_numpy()\n",
    "\n",
    "\n",
    "def str2list(str_list):\n",
    "    return [float(x.strip()) for x in str_list.lstrip(\"[\").rstrip(\"]\").split(\",\")]\n",
    "\n",
    "\n",
    "snr_list = []\n",
    "for fi_str in intervals2:\n",
    "    x, y = fi_str.lstrip(\"(\").rstrip(\"]\").split(\",\")\n",
    "    x = float(x)\n",
    "    y = float(y)\n",
    "    print(x, y)\n",
    "    mask = (data_eq.metadata[\"source_frequency_index\"] > x) & (\n",
    "        lteq(data_eq.metadata[\"source_frequency_index\"], y)\n",
    "    )\n",
    "    group = data_eq.metadata[mask].copy()\n",
    "\n",
    "    snr_zne = group[\"trace_snr_db\"].apply(str2list)\n",
    "    snr_zne = snr_zne[snr_zne.apply(lambda x: not np.all(pd.isna(np.array(x))))]\n",
    "    snr = snr_zne.apply(np.nanmean)\n",
    "    snr = snr[pd.notna(snr)]\n",
    "    print(min(snr), max(snr))\n",
    "    snr_list.append(snr.values)\n",
    "\n",
    "violin = axs1[1].violinplot(\n",
    "    dataset=snr_list[2:],\n",
    "    positions=FIs2[2:],\n",
    "    showmeans=True,\n",
    "    showextrema=True,\n",
    "    showmedians=True,\n",
    "    widths=0.18,\n",
    "    quantiles=[[0.05, 0.95] for _ in range(len(snr_list[2:]))],\n",
    ")\n",
    "violin[\"cmeans\"].set_linestyle(\"-\")\n",
    "violin[\"cmeans\"].set_color(\"orange\")\n",
    "violin[\"cmeans\"].set_label(\"Mean\")\n",
    "\n",
    "\n",
    "violin[\"cmedians\"].set_linestyle(\"dotted\")\n",
    "violin[\"cmedians\"].set_color(\"teal\")\n",
    "violin[\"cmedians\"].set_label(\"Median\")\n",
    "\n",
    "violin[\"cquantiles\"].set_color(\"dodgerblue\")\n",
    "violin[\"cquantiles\"].set_linewidth(1)\n",
    "violin[\"cquantiles\"].set_label(\"10th/90th percentiles\")\n",
    "for partname in (\"cbars\", \"cmins\", \"cmaxes\"):\n",
    "    vp = violin[partname]\n",
    "    vp.set_edgecolor(\"black\")\n",
    "    vp.set_linewidth(1)\n",
    "for pc in violin[\"bodies\"]:\n",
    "    pc.set_facecolor(\"silver\")\n",
    "    pc.set_edgecolor(\"darkgray\")\n",
    "    pc.set_alpha(1)\n",
    "\n",
    "axs1[1].tick_params(labelsize=fts)\n",
    "# axs1[1].text(\n",
    "#     -0.05,\n",
    "#     1.0,\n",
    "#     \"(b)\",\n",
    "#     verticalalignment=\"top\",\n",
    "#     horizontalalignment=\"right\",\n",
    "#     transform=ax.transAxes,\n",
    "#     fontsize=fts + 2,\n",
    "#     # weight=\"bold\",\n",
    "#     color=\"black\",\n",
    "# )\n",
    "\n",
    "# for pc in parts['bodies']:\n",
    "#     pc.set_facecolor('#D43F3A')\n",
    "#     pc.set_edgecolor('black')\n",
    "#     pc.set_alpha(1)\n",
    "# ax.plot(FIs, mean_snrs, \"bo-\")\n",
    "# ax.plot(FIs, median_snrs, \"go-\")\n",
    "# ax.axhline(nseis_lower_limit, color=\"black\")\n",
    "axs1[0].set_xlabel(\"Frequency index\", fontsize=fts)\n",
    "axs1[1].set_xlabel(\"Frequency index\", fontsize=fts)\n",
    "axs1[1].set_ylabel(\"SNR (dB)\", fontsize=fts)\n",
    "\n",
    "axs1[0].set_xticks(FIs[2:])\n",
    "axs1[0].set_xticklabels(intervals[2:], rotation=-60, fontsize=fts)\n",
    "axs1[1].set_xticks(FIs[2:])\n",
    "axs1[1].set_xticklabels(intervals[2:], rotation=-60, fontsize=fts)\n",
    "axs1[1].legend(\n",
    "    loc=\"upper left\",\n",
    "    # bbox_to_anchor=(-0.0, 1.0, 1, 0.2),\n",
    "    # frameon=False,\n",
    "    fontsize=fts - 0.5,\n",
    "    ncols=3,\n",
    "    columnspacing=0.9,\n",
    ")\n",
    "axs1[1].grid()\n",
    "\n",
    "axs1[0].set_title(\n",
    "    \"(b) Number of seismograms in each bin\",\n",
    "    loc=\"center\",\n",
    "    weight=\"bold\",\n",
    "    fontsize=fts + 1,\n",
    ")\n",
    "axs1[1].set_title(\"(c) SNR distribution\", weight=\"bold\", fontsize=fts + 1)\n",
    "axs1[1].set_ylim([-22, 110])\n",
    "# plt.tight_layout()\n",
    "plt.savefig(\n",
    "    root_save_path / f\"metrics_vs_fi_westernus.pdf\",\n",
    "    dpi=600,\n",
    "    bbox_inches=\"tight\",\n",
    "    pad_inches=0,\n",
    ")"
   ]
  },
  {
   "cell_type": "code",
   "execution_count": 30,
   "metadata": {},
   "outputs": [
    {
     "data": {
      "text/plain": [
       "array([-2.2, -1.8, -1.4, -1. , -0.6, -0.2,  0.2,  0.6,  1. ])"
      ]
     },
     "execution_count": 30,
     "metadata": {},
     "output_type": "execute_result"
    }
   ],
   "source": [
    "FIs"
   ]
  },
  {
   "cell_type": "code",
   "execution_count": 110,
   "metadata": {},
   "outputs": [
    {
     "data": {
      "text/plain": [
       "7"
      ]
     },
     "execution_count": 110,
     "metadata": {},
     "output_type": "execute_result"
    }
   ],
   "source": [
    "len(snr_list[2:])"
   ]
  },
  {
   "cell_type": "code",
   "execution_count": 111,
   "metadata": {},
   "outputs": [
    {
     "data": {
      "text/plain": [
       "7"
      ]
     },
     "execution_count": 111,
     "metadata": {},
     "output_type": "execute_result"
    }
   ],
   "source": [
    "len(FIs2[2:])"
   ]
  },
  {
   "cell_type": "code",
   "execution_count": 27,
   "metadata": {},
   "outputs": [
    {
     "data": {
      "text/plain": [
       "array([-1.4, -1. , -0.6, -0.2,  0.2,  0.6,  1. ])"
      ]
     },
     "execution_count": 27,
     "metadata": {},
     "output_type": "execute_result"
    }
   ],
   "source": [
    "FIs2[nseis > nseis_lower_limit]"
   ]
  },
  {
   "cell_type": "markdown",
   "metadata": {},
   "source": [
    "# Test Performances vs SNR"
   ]
  },
  {
   "cell_type": "code",
   "execution_count": 121,
   "metadata": {},
   "outputs": [],
   "source": [
    "total_snr_zne = data_eq.metadata[\"trace_snr_db\"].apply(str2list)\n",
    "total_snr = total_snr_zne.apply(\n",
    "    lambda x: np.nanmean(x) if not np.all(pd.isna(np.array(x))) else np.nan\n",
    ")"
   ]
  },
  {
   "cell_type": "code",
   "execution_count": 122,
   "metadata": {},
   "outputs": [],
   "source": [
    "total_snr_zne2 = data_eq_ENZ.metadata[\"trace_snr_db\"].apply(str2list)\n",
    "total_snr2 = total_snr_zne2.apply(\n",
    "    lambda x: np.nanmean(x) if not np.all(pd.isna(np.array(x))) else np.nan\n",
    ")"
   ]
  },
  {
   "cell_type": "code",
   "execution_count": 123,
   "metadata": {},
   "outputs": [
    {
     "data": {
      "text/plain": [
       "True"
      ]
     },
     "execution_count": 123,
     "metadata": {},
     "output_type": "execute_result"
    }
   ],
   "source": [
    "np.allclose(total_snr2, total_snr, equal_nan=True)"
   ]
  },
  {
   "cell_type": "code",
   "execution_count": 124,
   "metadata": {},
   "outputs": [
    {
     "data": {
      "text/plain": [
       "0        False\n",
       "1        False\n",
       "2        False\n",
       "3        False\n",
       "4        False\n",
       "         ...  \n",
       "11297    False\n",
       "11298    False\n",
       "11299    False\n",
       "11300    False\n",
       "11301    False\n",
       "Name: trace_snr_db, Length: 11302, dtype: bool"
      ]
     },
     "execution_count": 124,
     "metadata": {},
     "output_type": "execute_result"
    }
   ],
   "source": [
    "pd.isna(total_snr)"
   ]
  },
  {
   "cell_type": "code",
   "execution_count": 125,
   "metadata": {},
   "outputs": [
    {
     "data": {
      "text/html": [
       "<div>\n",
       "<style scoped>\n",
       "    .dataframe tbody tr th:only-of-type {\n",
       "        vertical-align: middle;\n",
       "    }\n",
       "\n",
       "    .dataframe tbody tr th {\n",
       "        vertical-align: top;\n",
       "    }\n",
       "\n",
       "    .dataframe thead th {\n",
       "        text-align: right;\n",
       "    }\n",
       "</style>\n",
       "<table border=\"1\" class=\"dataframe\">\n",
       "  <thead>\n",
       "    <tr style=\"text-align: right;\">\n",
       "      <th></th>\n",
       "      <th>index</th>\n",
       "      <th>source_id</th>\n",
       "      <th>source_origin_time</th>\n",
       "      <th>source_latitude_deg</th>\n",
       "      <th>source_longitude_deg</th>\n",
       "      <th>source_depth_km</th>\n",
       "      <th>source_magnitude</th>\n",
       "      <th>source_magnitude_type</th>\n",
       "      <th>source_type</th>\n",
       "      <th>station_network_code</th>\n",
       "      <th>...</th>\n",
       "      <th>trace_s_status</th>\n",
       "      <th>trace_snr_db</th>\n",
       "      <th>trace_mean_snr_db</th>\n",
       "      <th>trace_frequency_index</th>\n",
       "      <th>split</th>\n",
       "      <th>trace_name_original</th>\n",
       "      <th>source_frequency_index</th>\n",
       "      <th>trace_chunk</th>\n",
       "      <th>source_active_volcano_distance_m</th>\n",
       "      <th>trace_component_order</th>\n",
       "    </tr>\n",
       "  </thead>\n",
       "  <tbody>\n",
       "  </tbody>\n",
       "</table>\n",
       "<p>0 rows × 41 columns</p>\n",
       "</div>"
      ],
      "text/plain": [
       "Empty DataFrame\n",
       "Columns: [index, source_id, source_origin_time, source_latitude_deg, source_longitude_deg, source_depth_km, source_magnitude, source_magnitude_type, source_type, station_network_code, station_code, station_location_code, trace_channel, station_latitude_deg, station_longitude_deg, station_elevation_m, station_epicentral_distance_m, path_azimuth_deg, path_back_azimuth_deg, trace_p_arrival_time, trace_s_arrival_time, trace_p_max_weight, trace_s_max_weight, trace_p_first_motion, trace_name, trace_sampling_rate_hz, trace_has_spikes, trace_start_time, trace_p_arrival_sample, trace_p_status, trace_s_arrival_sample, trace_s_status, trace_snr_db, trace_mean_snr_db, trace_frequency_index, split, trace_name_original, source_frequency_index, trace_chunk, source_active_volcano_distance_m, trace_component_order]\n",
       "Index: []\n",
       "\n",
       "[0 rows x 41 columns]"
      ]
     },
     "execution_count": 125,
     "metadata": {},
     "output_type": "execute_result"
    }
   ],
   "source": [
    "data_eq.metadata[pd.isna(total_snr)]"
   ]
  },
  {
   "cell_type": "code",
   "execution_count": 126,
   "metadata": {},
   "outputs": [
    {
     "name": "stdout",
     "output_type": "stream",
     "text": [
      "-0.01706537309663393\n",
      "47.29165049245426\n"
     ]
    }
   ],
   "source": [
    "print(np.percentile(total_snr.values, 5))\n",
    "print(np.percentile(total_snr.values, 95))"
   ]
  },
  {
   "cell_type": "code",
   "execution_count": 127,
   "metadata": {},
   "outputs": [
    {
     "data": {
      "text/plain": [
       "(array([ 552., 2019., 2078., 1843., 1212.,  859.,  639.,  475.,  453.,\n",
       "         423.,  344.]),\n",
       " array([-5.,  0.,  5., 10., 15., 20., 25., 30., 35., 40., 45., 50.]),\n",
       " <BarContainer object of 11 artists>)"
      ]
     },
     "execution_count": 127,
     "metadata": {},
     "output_type": "execute_result"
    },
    {
     "data": {
      "image/png": "[encoded data removed]",
      "text/plain": [
       "<Figure size 640x480 with 1 Axes>"
      ]
     },
     "metadata": {},
     "output_type": "display_data"
    }
   ],
   "source": [
    "plt.hist(total_snr.values, np.arange(-5, 51, 5))"
   ]
  },
  {
   "cell_type": "code",
   "execution_count": 128,
   "metadata": {},
   "outputs": [
    {
     "name": "stdout",
     "output_type": "stream",
     "text": [
      "  -5.000000e+00,    0.000000e+00\n",
      "   0.000000e+00,    5.000000e+00\n",
      "   5.000000e+00,    1.000000e+01\n",
      "   1.000000e+01,    1.500000e+01\n",
      "   1.500000e+01,    2.000000e+01\n",
      "   2.000000e+01,    2.500000e+01\n",
      "   2.500000e+01,    3.000000e+01\n",
      "   3.000000e+01,    3.500000e+01\n",
      "   3.500000e+01,    4.000000e+01\n",
      "   4.000000e+01,    4.500000e+01\n"
     ]
    }
   ],
   "source": [
    "bins = np.arange(-5, 46, 5)\n",
    "for x, y in zip(bins[:-1], bins[1:]):\n",
    "    print(f\"{x:15e}, {y:15e}\")"
   ]
  },
  {
   "cell_type": "code",
   "execution_count": 129,
   "metadata": {},
   "outputs": [],
   "source": [
    "root_save_path_snr = root_save_path / \"Test_SNR\""
   ]
  },
  {
   "cell_type": "code",
   "execution_count": 130,
   "metadata": {},
   "outputs": [
    {
     "name": "stdout",
     "output_type": "stream",
     "text": [
      "[-5  0  5 10 15 20 25 30 35 40 45]\n",
      "(-5.0,0.0] 573\n",
      "Test_SNR/(-5.0,0.0] exists\n",
      "The existing file will be replaced.\n"
     ]
    },
    {
     "name": "stderr",
     "output_type": "stream",
     "text": [
      "100%|██████████| 573/573 [00:00<00:00, 2574.04it/s]\n"
     ]
    },
    {
     "name": "stdout",
     "output_type": "stream",
     "text": [
      "Test_SNR/(-5.0,0.0]_pred/task0/vol_eqt exists\n",
      "Starting set: test\n"
     ]
    },
    {
     "name": "stderr",
     "output_type": "stream",
     "text": [
      "Preloading waveforms: 100%|██████████| 573/573 [00:00<00:00, 337073.80it/s]"
     ]
    },
    {
     "name": "stdout",
     "output_type": "stream",
     "text": [
      "Number of examples in test: 573\n",
      "573 earthquake traces\n",
      "0 noise traces\n",
      "Probability threshold: 0.2200\n"
     ]
    },
    {
     "name": "stderr",
     "output_type": "stream",
     "text": [
      "\n"
     ]
    },
    {
     "name": "stdout",
     "output_type": "stream",
     "text": [
      "Test_SNR/(-5.0,0.0]_pred/task0/vol_pn exists\n",
      "Starting set: test\n"
     ]
    },
    {
     "name": "stderr",
     "output_type": "stream",
     "text": [
      "Preloading waveforms: 100%|██████████| 573/573 [00:00<00:00, 330901.31it/s]"
     ]
    },
    {
     "name": "stdout",
     "output_type": "stream",
     "text": [
      "Number of examples in test: 573\n",
      "573 earthquake traces\n",
      "0 noise traces\n",
      "Probability threshold: 0.3900\n"
     ]
    },
    {
     "name": "stderr",
     "output_type": "stream",
     "text": [
      "\n"
     ]
    },
    {
     "name": "stdout",
     "output_type": "stream",
     "text": [
      "Probability threshold: 0.3400\n",
      "Test_SNR/(-5.0,0.0]_pred/task0/org_eqt exists\n",
      "Starting set: test\n"
     ]
    },
    {
     "name": "stderr",
     "output_type": "stream",
     "text": [
      "Preloading waveforms: 100%|██████████| 573/573 [00:00<00:00, 339071.13it/s]"
     ]
    },
    {
     "name": "stdout",
     "output_type": "stream",
     "text": [
      "Number of examples in test: 573\n",
      "573 earthquake traces\n",
      "0 noise traces\n",
      "Probability threshold: 0.2600\n"
     ]
    },
    {
     "name": "stderr",
     "output_type": "stream",
     "text": [
      "\n"
     ]
    },
    {
     "name": "stdout",
     "output_type": "stream",
     "text": [
      "Probability threshold: 0.1500\n",
      "Test_SNR/(-5.0,0.0]_pred/task0/org_pn exists\n",
      "Starting set: test\n"
     ]
    },
    {
     "name": "stderr",
     "output_type": "stream",
     "text": [
      "Preloading waveforms: 100%|██████████| 573/573 [00:00<00:00, 341819.97it/s]"
     ]
    },
    {
     "name": "stdout",
     "output_type": "stream",
     "text": [
      "Number of examples in test: 573\n",
      "573 earthquake traces\n",
      "0 noise traces\n",
      "Probability threshold: 0.2500\n"
     ]
    },
    {
     "name": "stderr",
     "output_type": "stream",
     "text": [
      "\n"
     ]
    },
    {
     "name": "stdout",
     "output_type": "stream",
     "text": [
      "Probability threshold: 0.1900\n",
      "Test_SNR/(-5.0,0.0]_pred/task0/int_eqt exists\n",
      "Starting set: test\n"
     ]
    },
    {
     "name": "stderr",
     "output_type": "stream",
     "text": [
      "Preloading waveforms: 100%|██████████| 573/573 [00:00<00:00, 342501.95it/s]"
     ]
    },
    {
     "name": "stdout",
     "output_type": "stream",
     "text": [
      "Number of examples in test: 573\n",
      "573 earthquake traces\n",
      "0 noise traces\n",
      "Probability threshold: 0.0400\n"
     ]
    },
    {
     "name": "stderr",
     "output_type": "stream",
     "text": [
      "\n"
     ]
    },
    {
     "name": "stdout",
     "output_type": "stream",
     "text": [
      "Test_SNR/(-5.0,0.0]_pred/task0/int_pn exists\n",
      "Starting set: test\n"
     ]
    },
    {
     "name": "stderr",
     "output_type": "stream",
     "text": [
      "Preloading waveforms: 100%|██████████| 573/573 [00:00<00:00, 343480.95it/s]"
     ]
    },
    {
     "name": "stdout",
     "output_type": "stream",
     "text": [
      "Number of examples in test: 573\n",
      "573 earthquake traces\n",
      "0 noise traces\n",
      "Probability threshold: 0.1300\n"
     ]
    },
    {
     "name": "stderr",
     "output_type": "stream",
     "text": [
      "\n"
     ]
    },
    {
     "name": "stdout",
     "output_type": "stream",
     "text": [
      "Probability threshold: 0.0500\n",
      "(0.0,5.0] 1998\n",
      "Test_SNR/(0.0,5.0] exists\n",
      "The existing file will be replaced.\n"
     ]
    },
    {
     "name": "stderr",
     "output_type": "stream",
     "text": [
      "100%|██████████| 1998/1998 [00:00<00:00, 2576.54it/s]\n"
     ]
    },
    {
     "name": "stdout",
     "output_type": "stream",
     "text": [
      "Test_SNR/(0.0,5.0]_pred/task0/vol_eqt exists\n",
      "Starting set: test\n"
     ]
    },
    {
     "name": "stderr",
     "output_type": "stream",
     "text": [
      "Preloading waveforms: 100%|██████████| 1998/1998 [00:00<00:00, 346590.82it/s]\n"
     ]
    },
    {
     "name": "stdout",
     "output_type": "stream",
     "text": [
      "Number of examples in test: 1998\n",
      "1998 earthquake traces\n",
      "0 noise traces\n",
      "Probability threshold: 0.2200\n",
      "Test_SNR/(0.0,5.0]_pred/task0/vol_pn exists\n",
      "Starting set: test\n"
     ]
    },
    {
     "name": "stderr",
     "output_type": "stream",
     "text": [
      "Preloading waveforms: 100%|██████████| 1998/1998 [00:00<00:00, 362968.62it/s]"
     ]
    },
    {
     "name": "stdout",
     "output_type": "stream",
     "text": [
      "Number of examples in test: 1998\n",
      "1998 earthquake traces\n",
      "0 noise traces\n",
      "Probability threshold: 0.3900\n"
     ]
    },
    {
     "name": "stderr",
     "output_type": "stream",
     "text": [
      "\n"
     ]
    },
    {
     "name": "stdout",
     "output_type": "stream",
     "text": [
      "Probability threshold: 0.3400\n",
      "Test_SNR/(0.0,5.0]_pred/task0/org_eqt exists\n",
      "Starting set: test\n"
     ]
    },
    {
     "name": "stderr",
     "output_type": "stream",
     "text": [
      "Preloading waveforms: 100%|██████████| 1998/1998 [00:00<00:00, 354043.91it/s]"
     ]
    },
    {
     "name": "stdout",
     "output_type": "stream",
     "text": [
      "Number of examples in test: 1998\n",
      "1998 earthquake traces\n",
      "0 noise traces\n",
      "Probability threshold: 0.2600\n"
     ]
    },
    {
     "name": "stderr",
     "output_type": "stream",
     "text": [
      "\n"
     ]
    },
    {
     "name": "stdout",
     "output_type": "stream",
     "text": [
      "Probability threshold: 0.1500\n",
      "Test_SNR/(0.0,5.0]_pred/task0/org_pn exists\n",
      "Starting set: test\n"
     ]
    },
    {
     "name": "stderr",
     "output_type": "stream",
     "text": [
      "Preloading waveforms: 100%|██████████| 1998/1998 [00:00<00:00, 348856.02it/s]"
     ]
    },
    {
     "name": "stdout",
     "output_type": "stream",
     "text": [
      "Number of examples in test: 1998\n",
      "1998 earthquake traces\n",
      "0 noise traces\n",
      "Probability threshold: 0.2500\n"
     ]
    },
    {
     "name": "stderr",
     "output_type": "stream",
     "text": [
      "\n"
     ]
    },
    {
     "name": "stdout",
     "output_type": "stream",
     "text": [
      "Probability threshold: 0.1900\n",
      "Test_SNR/(0.0,5.0]_pred/task0/int_eqt exists\n",
      "Starting set: test\n"
     ]
    },
    {
     "name": "stderr",
     "output_type": "stream",
     "text": [
      "Preloading waveforms: 100%|██████████| 1998/1998 [00:00<00:00, 360222.64it/s]"
     ]
    },
    {
     "name": "stdout",
     "output_type": "stream",
     "text": [
      "Number of examples in test: 1998\n",
      "1998 earthquake traces\n",
      "0 noise traces\n",
      "Probability threshold: 0.0400\n"
     ]
    },
    {
     "name": "stderr",
     "output_type": "stream",
     "text": [
      "\n"
     ]
    },
    {
     "name": "stdout",
     "output_type": "stream",
     "text": [
      "Test_SNR/(0.0,5.0]_pred/task0/int_pn exists\n",
      "Starting set: test\n"
     ]
    },
    {
     "name": "stderr",
     "output_type": "stream",
     "text": [
      "Preloading waveforms: 100%|██████████| 1998/1998 [00:00<00:00, 360160.71it/s]"
     ]
    },
    {
     "name": "stdout",
     "output_type": "stream",
     "text": [
      "Number of examples in test: 1998\n",
      "1998 earthquake traces\n",
      "0 noise traces\n",
      "Probability threshold: 0.1300\n"
     ]
    },
    {
     "name": "stderr",
     "output_type": "stream",
     "text": [
      "\n"
     ]
    },
    {
     "name": "stdout",
     "output_type": "stream",
     "text": [
      "Probability threshold: 0.0500\n",
      "(5.0,10.0] 2078\n",
      "Test_SNR/(5.0,10.0] exists\n",
      "The existing file will be replaced.\n"
     ]
    },
    {
     "name": "stderr",
     "output_type": "stream",
     "text": [
      "100%|██████████| 2078/2078 [00:00<00:00, 2557.29it/s]\n"
     ]
    },
    {
     "name": "stdout",
     "output_type": "stream",
     "text": [
      "Test_SNR/(5.0,10.0]_pred/task0/vol_eqt exists\n",
      "Starting set: test\n"
     ]
    },
    {
     "name": "stderr",
     "output_type": "stream",
     "text": [
      "Preloading waveforms: 100%|██████████| 2078/2078 [00:00<00:00, 361499.95it/s]"
     ]
    },
    {
     "name": "stdout",
     "output_type": "stream",
     "text": [
      "Number of examples in test: 2078\n",
      "2078 earthquake traces\n",
      "0 noise traces\n",
      "Probability threshold: 0.2200\n"
     ]
    },
    {
     "name": "stderr",
     "output_type": "stream",
     "text": [
      "\n"
     ]
    },
    {
     "name": "stdout",
     "output_type": "stream",
     "text": [
      "Test_SNR/(5.0,10.0]_pred/task0/vol_pn exists\n",
      "Starting set: test\n"
     ]
    },
    {
     "name": "stderr",
     "output_type": "stream",
     "text": [
      "Preloading waveforms: 100%|██████████| 2078/2078 [00:00<00:00, 353093.65it/s]"
     ]
    },
    {
     "name": "stdout",
     "output_type": "stream",
     "text": [
      "Number of examples in test: 2078\n",
      "2078 earthquake traces\n",
      "0 noise traces\n",
      "Probability threshold: 0.3900\n"
     ]
    },
    {
     "name": "stderr",
     "output_type": "stream",
     "text": [
      "\n"
     ]
    },
    {
     "name": "stdout",
     "output_type": "stream",
     "text": [
      "Probability threshold: 0.3400\n",
      "Test_SNR/(5.0,10.0]_pred/task0/org_eqt exists\n",
      "Starting set: test\n"
     ]
    },
    {
     "name": "stderr",
     "output_type": "stream",
     "text": [
      "Preloading waveforms: 100%|██████████| 2078/2078 [00:00<00:00, 356531.28it/s]"
     ]
    },
    {
     "name": "stdout",
     "output_type": "stream",
     "text": [
      "Number of examples in test: 2078\n",
      "2078 earthquake traces\n",
      "0 noise traces\n",
      "Probability threshold: 0.2600\n"
     ]
    },
    {
     "name": "stderr",
     "output_type": "stream",
     "text": [
      "\n"
     ]
    },
    {
     "name": "stdout",
     "output_type": "stream",
     "text": [
      "Probability threshold: 0.1500\n",
      "Test_SNR/(5.0,10.0]_pred/task0/org_pn exists\n",
      "Starting set: test\n"
     ]
    },
    {
     "name": "stderr",
     "output_type": "stream",
     "text": [
      "Preloading waveforms: 100%|██████████| 2078/2078 [00:00<00:00, 352836.36it/s]"
     ]
    },
    {
     "name": "stdout",
     "output_type": "stream",
     "text": [
      "Number of examples in test: 2078\n",
      "2078 earthquake traces\n",
      "0 noise traces\n",
      "Probability threshold: 0.2500\n"
     ]
    },
    {
     "name": "stderr",
     "output_type": "stream",
     "text": [
      "\n"
     ]
    },
    {
     "name": "stdout",
     "output_type": "stream",
     "text": [
      "Probability threshold: 0.1900\n",
      "Test_SNR/(5.0,10.0]_pred/task0/int_eqt exists\n",
      "Starting set: test\n"
     ]
    },
    {
     "name": "stderr",
     "output_type": "stream",
     "text": [
      "Preloading waveforms: 100%|██████████| 2078/2078 [00:00<00:00, 365119.34it/s]"
     ]
    },
    {
     "name": "stdout",
     "output_type": "stream",
     "text": [
      "Number of examples in test: 2078\n",
      "2078 earthquake traces\n",
      "0 noise traces\n",
      "Probability threshold: 0.0400\n"
     ]
    },
    {
     "name": "stderr",
     "output_type": "stream",
     "text": [
      "\n"
     ]
    },
    {
     "name": "stdout",
     "output_type": "stream",
     "text": [
      "Test_SNR/(5.0,10.0]_pred/task0/int_pn exists\n",
      "Starting set: test\n"
     ]
    },
    {
     "name": "stderr",
     "output_type": "stream",
     "text": [
      "Preloading waveforms: 100%|██████████| 2078/2078 [00:00<00:00, 354890.82it/s]"
     ]
    },
    {
     "name": "stdout",
     "output_type": "stream",
     "text": [
      "Number of examples in test: 2078\n",
      "2078 earthquake traces\n",
      "0 noise traces\n",
      "Probability threshold: 0.1300\n"
     ]
    },
    {
     "name": "stderr",
     "output_type": "stream",
     "text": [
      "\n"
     ]
    },
    {
     "name": "stdout",
     "output_type": "stream",
     "text": [
      "Probability threshold: 0.0500\n",
      "(10.0,15.0] 1843\n",
      "Test_SNR/(10.0,15.0] exists\n",
      "The existing file will be replaced.\n"
     ]
    },
    {
     "name": "stderr",
     "output_type": "stream",
     "text": [
      "100%|██████████| 1843/1843 [00:00<00:00, 2542.92it/s]\n"
     ]
    },
    {
     "name": "stdout",
     "output_type": "stream",
     "text": [
      "Test_SNR/(10.0,15.0]_pred/task0/vol_eqt exists\n",
      "Starting set: test\n"
     ]
    },
    {
     "name": "stderr",
     "output_type": "stream",
     "text": [
      "Preloading waveforms: 100%|██████████| 1843/1843 [00:00<00:00, 347639.07it/s]"
     ]
    },
    {
     "name": "stdout",
     "output_type": "stream",
     "text": [
      "Number of examples in test: 1842\n",
      "1842 earthquake traces\n",
      "0 noise traces\n",
      "Probability threshold: 0.2200\n"
     ]
    },
    {
     "name": "stderr",
     "output_type": "stream",
     "text": [
      "\n"
     ]
    },
    {
     "name": "stdout",
     "output_type": "stream",
     "text": [
      "Test_SNR/(10.0,15.0]_pred/task0/vol_pn exists\n",
      "Starting set: test\n"
     ]
    },
    {
     "name": "stderr",
     "output_type": "stream",
     "text": [
      "Preloading waveforms: 100%|██████████| 1843/1843 [00:00<00:00, 357461.38it/s]"
     ]
    },
    {
     "name": "stdout",
     "output_type": "stream",
     "text": [
      "Number of examples in test: 1842\n",
      "1842 earthquake traces\n",
      "0 noise traces\n",
      "Probability threshold: 0.3900\n"
     ]
    },
    {
     "name": "stderr",
     "output_type": "stream",
     "text": [
      "\n"
     ]
    },
    {
     "name": "stdout",
     "output_type": "stream",
     "text": [
      "Probability threshold: 0.3400\n",
      "Test_SNR/(10.0,15.0]_pred/task0/org_eqt exists\n",
      "Starting set: test\n"
     ]
    },
    {
     "name": "stderr",
     "output_type": "stream",
     "text": [
      "Preloading waveforms: 100%|██████████| 1843/1843 [00:00<00:00, 366477.14it/s]"
     ]
    },
    {
     "name": "stdout",
     "output_type": "stream",
     "text": [
      "Number of examples in test: 1842\n",
      "1842 earthquake traces\n",
      "0 noise traces\n",
      "Probability threshold: 0.2600\n"
     ]
    },
    {
     "name": "stderr",
     "output_type": "stream",
     "text": [
      "\n"
     ]
    },
    {
     "name": "stdout",
     "output_type": "stream",
     "text": [
      "Probability threshold: 0.1500\n",
      "Test_SNR/(10.0,15.0]_pred/task0/org_pn exists\n",
      "Starting set: test\n"
     ]
    },
    {
     "name": "stderr",
     "output_type": "stream",
     "text": [
      "Preloading waveforms: 100%|██████████| 1843/1843 [00:00<00:00, 368012.49it/s]"
     ]
    },
    {
     "name": "stdout",
     "output_type": "stream",
     "text": [
      "Number of examples in test: 1842\n",
      "1842 earthquake traces\n",
      "0 noise traces\n",
      "Probability threshold: 0.2500\n"
     ]
    },
    {
     "name": "stderr",
     "output_type": "stream",
     "text": [
      "\n"
     ]
    },
    {
     "name": "stdout",
     "output_type": "stream",
     "text": [
      "Probability threshold: 0.1900\n",
      "Test_SNR/(10.0,15.0]_pred/task0/int_eqt exists\n",
      "Starting set: test\n"
     ]
    },
    {
     "name": "stderr",
     "output_type": "stream",
     "text": [
      "Preloading waveforms: 100%|██████████| 1843/1843 [00:00<00:00, 364060.77it/s]"
     ]
    },
    {
     "name": "stdout",
     "output_type": "stream",
     "text": [
      "Number of examples in test: 1842\n",
      "1842 earthquake traces\n",
      "0 noise traces\n",
      "Probability threshold: 0.0400\n"
     ]
    },
    {
     "name": "stderr",
     "output_type": "stream",
     "text": [
      "\n"
     ]
    },
    {
     "name": "stdout",
     "output_type": "stream",
     "text": [
      "Test_SNR/(10.0,15.0]_pred/task0/int_pn exists\n",
      "Starting set: test\n"
     ]
    },
    {
     "name": "stderr",
     "output_type": "stream",
     "text": [
      "Preloading waveforms: 100%|██████████| 1843/1843 [00:00<00:00, 357759.16it/s]"
     ]
    },
    {
     "name": "stdout",
     "output_type": "stream",
     "text": [
      "Number of examples in test: 1842\n",
      "1842 earthquake traces\n",
      "0 noise traces\n",
      "Probability threshold: 0.1300\n"
     ]
    },
    {
     "name": "stderr",
     "output_type": "stream",
     "text": [
      "\n"
     ]
    },
    {
     "name": "stdout",
     "output_type": "stream",
     "text": [
      "Probability threshold: 0.0500\n",
      "(15.0,20.0] 1212\n",
      "Test_SNR/(15.0,20.0] exists\n",
      "The existing file will be replaced.\n"
     ]
    },
    {
     "name": "stderr",
     "output_type": "stream",
     "text": [
      "100%|██████████| 1212/1212 [00:00<00:00, 2611.67it/s]\n"
     ]
    },
    {
     "name": "stdout",
     "output_type": "stream",
     "text": [
      "Test_SNR/(15.0,20.0]_pred/task0/vol_eqt exists\n",
      "Starting set: test\n"
     ]
    },
    {
     "name": "stderr",
     "output_type": "stream",
     "text": [
      "Preloading waveforms: 100%|██████████| 1212/1212 [00:00<00:00, 360838.76it/s]"
     ]
    },
    {
     "name": "stdout",
     "output_type": "stream",
     "text": [
      "Number of examples in test: 1212\n",
      "1212 earthquake traces\n",
      "0 noise traces\n",
      "Probability threshold: 0.2200\n"
     ]
    },
    {
     "name": "stderr",
     "output_type": "stream",
     "text": [
      "\n"
     ]
    },
    {
     "name": "stdout",
     "output_type": "stream",
     "text": [
      "Test_SNR/(15.0,20.0]_pred/task0/vol_pn exists\n",
      "Starting set: test\n"
     ]
    },
    {
     "name": "stderr",
     "output_type": "stream",
     "text": [
      "Preloading waveforms: 100%|██████████| 1212/1212 [00:00<00:00, 355887.46it/s]"
     ]
    },
    {
     "name": "stdout",
     "output_type": "stream",
     "text": [
      "Number of examples in test: 1212\n",
      "1212 earthquake traces\n",
      "0 noise traces\n",
      "Probability threshold: 0.3900\n"
     ]
    },
    {
     "name": "stderr",
     "output_type": "stream",
     "text": [
      "\n"
     ]
    },
    {
     "name": "stdout",
     "output_type": "stream",
     "text": [
      "Probability threshold: 0.3400\n",
      "Test_SNR/(15.0,20.0]_pred/task0/org_eqt exists\n",
      "Starting set: test\n"
     ]
    },
    {
     "name": "stderr",
     "output_type": "stream",
     "text": [
      "Preloading waveforms: 100%|██████████| 1212/1212 [00:00<00:00, 356736.59it/s]"
     ]
    },
    {
     "name": "stdout",
     "output_type": "stream",
     "text": [
      "Number of examples in test: 1212\n",
      "1212 earthquake traces\n",
      "0 noise traces\n",
      "Probability threshold: 0.2600\n"
     ]
    },
    {
     "name": "stderr",
     "output_type": "stream",
     "text": [
      "\n"
     ]
    },
    {
     "name": "stdout",
     "output_type": "stream",
     "text": [
      "Probability threshold: 0.1500\n",
      "Test_SNR/(15.0,20.0]_pred/task0/org_pn exists\n",
      "Starting set: test\n"
     ]
    },
    {
     "name": "stderr",
     "output_type": "stream",
     "text": [
      "Preloading waveforms: 100%|██████████| 1212/1212 [00:00<00:00, 350344.35it/s]"
     ]
    },
    {
     "name": "stdout",
     "output_type": "stream",
     "text": [
      "Number of examples in test: 1212\n",
      "1212 earthquake traces\n",
      "0 noise traces\n",
      "Probability threshold: 0.2500\n"
     ]
    },
    {
     "name": "stderr",
     "output_type": "stream",
     "text": [
      "\n"
     ]
    },
    {
     "name": "stdout",
     "output_type": "stream",
     "text": [
      "Probability threshold: 0.1900\n",
      "Test_SNR/(15.0,20.0]_pred/task0/int_eqt exists\n",
      "Starting set: test\n"
     ]
    },
    {
     "name": "stderr",
     "output_type": "stream",
     "text": [
      "Preloading waveforms: 100%|██████████| 1212/1212 [00:00<00:00, 354918.41it/s]"
     ]
    },
    {
     "name": "stdout",
     "output_type": "stream",
     "text": [
      "Number of examples in test: 1212\n",
      "1212 earthquake traces\n",
      "0 noise traces\n",
      "Probability threshold: 0.0400\n"
     ]
    },
    {
     "name": "stderr",
     "output_type": "stream",
     "text": [
      "\n"
     ]
    },
    {
     "name": "stdout",
     "output_type": "stream",
     "text": [
      "Test_SNR/(15.0,20.0]_pred/task0/int_pn exists\n",
      "Starting set: test\n"
     ]
    },
    {
     "name": "stderr",
     "output_type": "stream",
     "text": [
      "Preloading waveforms: 100%|██████████| 1212/1212 [00:00<00:00, 361403.13it/s]"
     ]
    },
    {
     "name": "stdout",
     "output_type": "stream",
     "text": [
      "Number of examples in test: 1212\n",
      "1212 earthquake traces\n",
      "0 noise traces\n",
      "Probability threshold: 0.1300\n"
     ]
    },
    {
     "name": "stderr",
     "output_type": "stream",
     "text": [
      "\n"
     ]
    },
    {
     "name": "stdout",
     "output_type": "stream",
     "text": [
      "Probability threshold: 0.0500\n",
      "(20.0,25.0] 859\n",
      "Test_SNR/(20.0,25.0] exists\n",
      "The existing file will be replaced.\n"
     ]
    },
    {
     "name": "stderr",
     "output_type": "stream",
     "text": [
      "100%|██████████| 859/859 [00:00<00:00, 2573.15it/s]\n"
     ]
    },
    {
     "name": "stdout",
     "output_type": "stream",
     "text": [
      "Test_SNR/(20.0,25.0]_pred/task0/vol_eqt exists\n",
      "Starting set: test\n"
     ]
    },
    {
     "name": "stderr",
     "output_type": "stream",
     "text": [
      "Preloading waveforms: 100%|██████████| 859/859 [00:00<00:00, 349627.09it/s]"
     ]
    },
    {
     "name": "stdout",
     "output_type": "stream",
     "text": [
      "Number of examples in test: 859\n",
      "859 earthquake traces\n",
      "0 noise traces\n",
      "Probability threshold: 0.2200\n"
     ]
    },
    {
     "name": "stderr",
     "output_type": "stream",
     "text": [
      "\n"
     ]
    },
    {
     "name": "stdout",
     "output_type": "stream",
     "text": [
      "Test_SNR/(20.0,25.0]_pred/task0/vol_pn exists\n",
      "Starting set: test\n"
     ]
    },
    {
     "name": "stderr",
     "output_type": "stream",
     "text": [
      "Preloading waveforms: 100%|██████████| 859/859 [00:00<00:00, 353053.12it/s]"
     ]
    },
    {
     "name": "stdout",
     "output_type": "stream",
     "text": [
      "Number of examples in test: 859\n",
      "859 earthquake traces\n",
      "0 noise traces\n",
      "Probability threshold: 0.3900\n"
     ]
    },
    {
     "name": "stderr",
     "output_type": "stream",
     "text": [
      "\n"
     ]
    },
    {
     "name": "stdout",
     "output_type": "stream",
     "text": [
      "Probability threshold: 0.3400\n",
      "Test_SNR/(20.0,25.0]_pred/task0/org_eqt exists\n",
      "Starting set: test\n"
     ]
    },
    {
     "name": "stderr",
     "output_type": "stream",
     "text": [
      "Preloading waveforms: 100%|██████████| 859/859 [00:00<00:00, 342677.11it/s]"
     ]
    },
    {
     "name": "stdout",
     "output_type": "stream",
     "text": [
      "Number of examples in test: 859\n",
      "859 earthquake traces\n",
      "0 noise traces\n",
      "Probability threshold: 0.2600\n"
     ]
    },
    {
     "name": "stderr",
     "output_type": "stream",
     "text": [
      "\n"
     ]
    },
    {
     "name": "stdout",
     "output_type": "stream",
     "text": [
      "Probability threshold: 0.1500\n",
      "Test_SNR/(20.0,25.0]_pred/task0/org_pn exists\n",
      "Starting set: test\n"
     ]
    },
    {
     "name": "stderr",
     "output_type": "stream",
     "text": [
      "Preloading waveforms: 100%|██████████| 859/859 [00:00<00:00, 352949.37it/s]"
     ]
    },
    {
     "name": "stdout",
     "output_type": "stream",
     "text": [
      "Number of examples in test: 859\n",
      "859 earthquake traces\n",
      "0 noise traces\n",
      "Probability threshold: 0.2500\n"
     ]
    },
    {
     "name": "stderr",
     "output_type": "stream",
     "text": [
      "\n"
     ]
    },
    {
     "name": "stdout",
     "output_type": "stream",
     "text": [
      "Probability threshold: 0.1900\n",
      "Test_SNR/(20.0,25.0]_pred/task0/int_eqt exists\n",
      "Starting set: test\n"
     ]
    },
    {
     "name": "stderr",
     "output_type": "stream",
     "text": [
      "Preloading waveforms: 100%|██████████| 859/859 [00:00<00:00, 350136.75it/s]"
     ]
    },
    {
     "name": "stdout",
     "output_type": "stream",
     "text": [
      "Number of examples in test: 859\n",
      "859 earthquake traces\n",
      "0 noise traces\n",
      "Probability threshold: 0.0400\n"
     ]
    },
    {
     "name": "stderr",
     "output_type": "stream",
     "text": [
      "\n"
     ]
    },
    {
     "name": "stdout",
     "output_type": "stream",
     "text": [
      "Test_SNR/(20.0,25.0]_pred/task0/int_pn exists\n",
      "Starting set: test\n"
     ]
    },
    {
     "name": "stderr",
     "output_type": "stream",
     "text": [
      "Preloading waveforms: 100%|██████████| 859/859 [00:00<00:00, 350545.55it/s]"
     ]
    },
    {
     "name": "stdout",
     "output_type": "stream",
     "text": [
      "Number of examples in test: 859\n",
      "859 earthquake traces\n",
      "0 noise traces\n",
      "Probability threshold: 0.1300\n"
     ]
    },
    {
     "name": "stderr",
     "output_type": "stream",
     "text": [
      "\n"
     ]
    },
    {
     "name": "stdout",
     "output_type": "stream",
     "text": [
      "Probability threshold: 0.0500\n",
      "(25.0,30.0] 639\n",
      "Test_SNR/(25.0,30.0] exists\n",
      "The existing file will be replaced.\n"
     ]
    },
    {
     "name": "stderr",
     "output_type": "stream",
     "text": [
      "100%|██████████| 639/639 [00:00<00:00, 2632.09it/s]\n"
     ]
    },
    {
     "name": "stdout",
     "output_type": "stream",
     "text": [
      "Test_SNR/(25.0,30.0]_pred/task0/vol_eqt exists\n",
      "Starting set: test\n"
     ]
    },
    {
     "name": "stderr",
     "output_type": "stream",
     "text": [
      "Preloading waveforms: 100%|██████████| 639/639 [00:00<00:00, 350301.95it/s]"
     ]
    },
    {
     "name": "stdout",
     "output_type": "stream",
     "text": [
      "Number of examples in test: 639\n",
      "639 earthquake traces\n",
      "0 noise traces\n",
      "Probability threshold: 0.2200\n"
     ]
    },
    {
     "name": "stderr",
     "output_type": "stream",
     "text": [
      "\n"
     ]
    },
    {
     "name": "stdout",
     "output_type": "stream",
     "text": [
      "Test_SNR/(25.0,30.0]_pred/task0/vol_pn exists\n",
      "Starting set: test\n"
     ]
    },
    {
     "name": "stderr",
     "output_type": "stream",
     "text": [
      "Preloading waveforms: 100%|██████████| 639/639 [00:00<00:00, 338703.43it/s]"
     ]
    },
    {
     "name": "stdout",
     "output_type": "stream",
     "text": [
      "Number of examples in test: 639\n",
      "639 earthquake traces\n",
      "0 noise traces\n",
      "Probability threshold: 0.3900\n"
     ]
    },
    {
     "name": "stderr",
     "output_type": "stream",
     "text": [
      "\n"
     ]
    },
    {
     "name": "stdout",
     "output_type": "stream",
     "text": [
      "Probability threshold: 0.3400\n",
      "Test_SNR/(25.0,30.0]_pred/task0/org_eqt exists\n",
      "Starting set: test\n"
     ]
    },
    {
     "name": "stderr",
     "output_type": "stream",
     "text": [
      "Preloading waveforms: 100%|██████████| 639/639 [00:00<00:00, 341813.58it/s]"
     ]
    },
    {
     "name": "stdout",
     "output_type": "stream",
     "text": [
      "Number of examples in test: 639\n",
      "639 earthquake traces\n",
      "0 noise traces\n",
      "Probability threshold: 0.2600\n"
     ]
    },
    {
     "name": "stderr",
     "output_type": "stream",
     "text": [
      "\n"
     ]
    },
    {
     "name": "stdout",
     "output_type": "stream",
     "text": [
      "Probability threshold: 0.1500\n",
      "Test_SNR/(25.0,30.0]_pred/task0/org_pn exists\n",
      "Starting set: test\n"
     ]
    },
    {
     "name": "stderr",
     "output_type": "stream",
     "text": [
      "Preloading waveforms: 100%|██████████| 639/639 [00:00<00:00, 335733.47it/s]"
     ]
    },
    {
     "name": "stdout",
     "output_type": "stream",
     "text": [
      "Number of examples in test: 639\n",
      "639 earthquake traces\n",
      "0 noise traces\n",
      "Probability threshold: 0.2500\n"
     ]
    },
    {
     "name": "stderr",
     "output_type": "stream",
     "text": [
      "\n"
     ]
    },
    {
     "name": "stdout",
     "output_type": "stream",
     "text": [
      "Probability threshold: 0.1900\n",
      "Test_SNR/(25.0,30.0]_pred/task0/int_eqt exists\n",
      "Starting set: test\n"
     ]
    },
    {
     "name": "stderr",
     "output_type": "stream",
     "text": [
      "Preloading waveforms: 100%|██████████| 639/639 [00:00<00:00, 341117.51it/s]"
     ]
    },
    {
     "name": "stdout",
     "output_type": "stream",
     "text": [
      "Number of examples in test: 639\n",
      "639 earthquake traces\n",
      "0 noise traces\n",
      "Probability threshold: 0.0400\n"
     ]
    },
    {
     "name": "stderr",
     "output_type": "stream",
     "text": [
      "\n"
     ]
    },
    {
     "name": "stdout",
     "output_type": "stream",
     "text": [
      "Test_SNR/(25.0,30.0]_pred/task0/int_pn exists\n",
      "Starting set: test\n"
     ]
    },
    {
     "name": "stderr",
     "output_type": "stream",
     "text": [
      "Preloading waveforms: 100%|██████████| 639/639 [00:00<00:00, 324907.29it/s]"
     ]
    },
    {
     "name": "stdout",
     "output_type": "stream",
     "text": [
      "Number of examples in test: 639\n",
      "639 earthquake traces\n",
      "0 noise traces\n",
      "Probability threshold: 0.1300\n"
     ]
    },
    {
     "name": "stderr",
     "output_type": "stream",
     "text": [
      "\n"
     ]
    },
    {
     "name": "stdout",
     "output_type": "stream",
     "text": [
      "Probability threshold: 0.0500\n",
      "(30.0,35.0] 475\n",
      "Test_SNR/(30.0,35.0] exists\n",
      "The existing file will be replaced.\n"
     ]
    },
    {
     "name": "stderr",
     "output_type": "stream",
     "text": [
      "100%|██████████| 475/475 [00:00<00:00, 2682.14it/s]\n"
     ]
    },
    {
     "name": "stdout",
     "output_type": "stream",
     "text": [
      "Test_SNR/(30.0,35.0]_pred/task0/vol_eqt exists\n",
      "Starting set: test\n"
     ]
    },
    {
     "name": "stderr",
     "output_type": "stream",
     "text": [
      "Preloading waveforms: 100%|██████████| 475/475 [00:00<00:00, 335516.07it/s]"
     ]
    },
    {
     "name": "stdout",
     "output_type": "stream",
     "text": [
      "Number of examples in test: 475\n",
      "475 earthquake traces\n",
      "0 noise traces\n",
      "Probability threshold: 0.2200\n"
     ]
    },
    {
     "name": "stderr",
     "output_type": "stream",
     "text": [
      "\n"
     ]
    },
    {
     "name": "stdout",
     "output_type": "stream",
     "text": [
      "Test_SNR/(30.0,35.0]_pred/task0/vol_pn exists\n",
      "Starting set: test\n"
     ]
    },
    {
     "name": "stderr",
     "output_type": "stream",
     "text": [
      "Preloading waveforms: 100%|██████████| 475/475 [00:00<00:00, 337162.70it/s]"
     ]
    },
    {
     "name": "stdout",
     "output_type": "stream",
     "text": [
      "Number of examples in test: 475\n",
      "475 earthquake traces\n",
      "0 noise traces\n",
      "Probability threshold: 0.3900\n"
     ]
    },
    {
     "name": "stderr",
     "output_type": "stream",
     "text": [
      "\n"
     ]
    },
    {
     "name": "stdout",
     "output_type": "stream",
     "text": [
      "Probability threshold: 0.3400\n",
      "Test_SNR/(30.0,35.0]_pred/task0/org_eqt exists\n",
      "Starting set: test\n"
     ]
    },
    {
     "name": "stderr",
     "output_type": "stream",
     "text": [
      "Preloading waveforms: 100%|██████████| 475/475 [00:00<00:00, 341555.70it/s]"
     ]
    },
    {
     "name": "stdout",
     "output_type": "stream",
     "text": [
      "Number of examples in test: 475\n",
      "475 earthquake traces\n",
      "0 noise traces\n",
      "Probability threshold: 0.2600\n"
     ]
    },
    {
     "name": "stderr",
     "output_type": "stream",
     "text": [
      "\n"
     ]
    },
    {
     "name": "stdout",
     "output_type": "stream",
     "text": [
      "Probability threshold: 0.1500\n",
      "Test_SNR/(30.0,35.0]_pred/task0/org_pn exists\n",
      "Starting set: test\n"
     ]
    },
    {
     "name": "stderr",
     "output_type": "stream",
     "text": [
      "Preloading waveforms: 100%|██████████| 475/475 [00:00<00:00, 328707.21it/s]"
     ]
    },
    {
     "name": "stdout",
     "output_type": "stream",
     "text": [
      "Number of examples in test: 475\n",
      "475 earthquake traces\n",
      "0 noise traces\n",
      "Probability threshold: 0.2500\n"
     ]
    },
    {
     "name": "stderr",
     "output_type": "stream",
     "text": [
      "\n"
     ]
    },
    {
     "name": "stdout",
     "output_type": "stream",
     "text": [
      "Probability threshold: 0.1900\n",
      "Test_SNR/(30.0,35.0]_pred/task0/int_eqt exists\n",
      "Starting set: test\n"
     ]
    },
    {
     "name": "stderr",
     "output_type": "stream",
     "text": [
      "Preloading waveforms: 100%|██████████| 475/475 [00:00<00:00, 338480.19it/s]"
     ]
    },
    {
     "name": "stdout",
     "output_type": "stream",
     "text": [
      "Number of examples in test: 475\n",
      "475 earthquake traces\n",
      "0 noise traces\n",
      "Probability threshold: 0.0400\n"
     ]
    },
    {
     "name": "stderr",
     "output_type": "stream",
     "text": [
      "\n"
     ]
    },
    {
     "name": "stdout",
     "output_type": "stream",
     "text": [
      "Test_SNR/(30.0,35.0]_pred/task0/int_pn exists\n",
      "Starting set: test\n"
     ]
    },
    {
     "name": "stderr",
     "output_type": "stream",
     "text": [
      "Preloading waveforms: 100%|██████████| 475/475 [00:00<00:00, 331938.42it/s]"
     ]
    },
    {
     "name": "stdout",
     "output_type": "stream",
     "text": [
      "Number of examples in test: 475\n",
      "475 earthquake traces\n",
      "0 noise traces\n",
      "Probability threshold: 0.1300\n"
     ]
    },
    {
     "name": "stderr",
     "output_type": "stream",
     "text": [
      "\n"
     ]
    },
    {
     "name": "stdout",
     "output_type": "stream",
     "text": [
      "Probability threshold: 0.0500\n",
      "(35.0,40.0] 453\n",
      "Test_SNR/(35.0,40.0] exists\n",
      "The existing file will be replaced.\n"
     ]
    },
    {
     "name": "stderr",
     "output_type": "stream",
     "text": [
      "100%|██████████| 453/453 [00:00<00:00, 2707.96it/s]\n"
     ]
    },
    {
     "name": "stdout",
     "output_type": "stream",
     "text": [
      "Test_SNR/(35.0,40.0]_pred/task0/vol_eqt exists\n",
      "Starting set: test\n"
     ]
    },
    {
     "name": "stderr",
     "output_type": "stream",
     "text": [
      "Preloading waveforms: 100%|██████████| 453/453 [00:00<00:00, 336108.21it/s]"
     ]
    },
    {
     "name": "stdout",
     "output_type": "stream",
     "text": [
      "Number of examples in test: 453\n",
      "453 earthquake traces\n",
      "0 noise traces\n",
      "Probability threshold: 0.2200\n"
     ]
    },
    {
     "name": "stderr",
     "output_type": "stream",
     "text": [
      "\n"
     ]
    },
    {
     "name": "stdout",
     "output_type": "stream",
     "text": [
      "Test_SNR/(35.0,40.0]_pred/task0/vol_pn exists\n",
      "Starting set: test\n"
     ]
    },
    {
     "name": "stderr",
     "output_type": "stream",
     "text": [
      "Preloading waveforms: 100%|██████████| 453/453 [00:00<00:00, 326744.58it/s]"
     ]
    },
    {
     "name": "stdout",
     "output_type": "stream",
     "text": [
      "Number of examples in test: 453\n",
      "453 earthquake traces\n",
      "0 noise traces\n",
      "Probability threshold: 0.3900\n"
     ]
    },
    {
     "name": "stderr",
     "output_type": "stream",
     "text": [
      "\n"
     ]
    },
    {
     "name": "stdout",
     "output_type": "stream",
     "text": [
      "Probability threshold: 0.3400\n",
      "Test_SNR/(35.0,40.0]_pred/task0/org_eqt exists\n",
      "Starting set: test\n"
     ]
    },
    {
     "name": "stderr",
     "output_type": "stream",
     "text": [
      "Preloading waveforms: 100%|██████████| 453/453 [00:00<00:00, 339047.06it/s]"
     ]
    },
    {
     "name": "stdout",
     "output_type": "stream",
     "text": [
      "Number of examples in test: 453\n",
      "453 earthquake traces\n",
      "0 noise traces\n",
      "Probability threshold: 0.2600\n"
     ]
    },
    {
     "name": "stderr",
     "output_type": "stream",
     "text": [
      "\n"
     ]
    },
    {
     "name": "stdout",
     "output_type": "stream",
     "text": [
      "Probability threshold: 0.1500\n",
      "Test_SNR/(35.0,40.0]_pred/task0/org_pn exists\n",
      "Starting set: test\n"
     ]
    },
    {
     "name": "stderr",
     "output_type": "stream",
     "text": [
      "Preloading waveforms: 100%|██████████| 453/453 [00:00<00:00, 335929.93it/s]"
     ]
    },
    {
     "name": "stdout",
     "output_type": "stream",
     "text": [
      "Number of examples in test: 453\n",
      "453 earthquake traces\n",
      "0 noise traces\n",
      "Probability threshold: 0.2500\n"
     ]
    },
    {
     "name": "stderr",
     "output_type": "stream",
     "text": [
      "\n"
     ]
    },
    {
     "name": "stdout",
     "output_type": "stream",
     "text": [
      "Probability threshold: 0.1900\n",
      "Test_SNR/(35.0,40.0]_pred/task0/int_eqt exists\n",
      "Starting set: test\n"
     ]
    },
    {
     "name": "stderr",
     "output_type": "stream",
     "text": [
      "Preloading waveforms: 100%|██████████| 453/453 [00:00<00:00, 339047.06it/s]"
     ]
    },
    {
     "name": "stdout",
     "output_type": "stream",
     "text": [
      "Number of examples in test: 453\n",
      "453 earthquake traces\n",
      "0 noise traces\n",
      "Probability threshold: 0.0400\n"
     ]
    },
    {
     "name": "stderr",
     "output_type": "stream",
     "text": [
      "\n"
     ]
    },
    {
     "name": "stdout",
     "output_type": "stream",
     "text": [
      "Test_SNR/(35.0,40.0]_pred/task0/int_pn exists\n",
      "Starting set: test\n"
     ]
    },
    {
     "name": "stderr",
     "output_type": "stream",
     "text": [
      "Preloading waveforms: 100%|██████████| 453/453 [00:00<00:00, 338503.42it/s]"
     ]
    },
    {
     "name": "stdout",
     "output_type": "stream",
     "text": [
      "Number of examples in test: 453\n",
      "453 earthquake traces\n",
      "0 noise traces\n",
      "Probability threshold: 0.1300\n"
     ]
    },
    {
     "name": "stderr",
     "output_type": "stream",
     "text": [
      "\n"
     ]
    },
    {
     "name": "stdout",
     "output_type": "stream",
     "text": [
      "Probability threshold: 0.0500\n",
      "(40.0,45.0] 423\n",
      "Test_SNR/(40.0,45.0] exists\n",
      "The existing file will be replaced.\n"
     ]
    },
    {
     "name": "stderr",
     "output_type": "stream",
     "text": [
      "100%|██████████| 423/423 [00:00<00:00, 2734.32it/s]\n"
     ]
    },
    {
     "name": "stdout",
     "output_type": "stream",
     "text": [
      "Test_SNR/(40.0,45.0]_pred/task0/vol_eqt exists\n",
      "Starting set: test\n"
     ]
    },
    {
     "name": "stderr",
     "output_type": "stream",
     "text": [
      "Preloading waveforms: 100%|██████████| 423/423 [00:00<00:00, 337555.29it/s]"
     ]
    },
    {
     "name": "stdout",
     "output_type": "stream",
     "text": [
      "Number of examples in test: 423\n",
      "423 earthquake traces\n",
      "0 noise traces\n",
      "Probability threshold: 0.2200\n"
     ]
    },
    {
     "name": "stderr",
     "output_type": "stream",
     "text": [
      "\n"
     ]
    },
    {
     "name": "stdout",
     "output_type": "stream",
     "text": [
      "Test_SNR/(40.0,45.0]_pred/task0/vol_pn exists\n",
      "Starting set: test\n"
     ]
    },
    {
     "name": "stderr",
     "output_type": "stream",
     "text": [
      "Preloading waveforms: 100%|██████████| 423/423 [00:00<00:00, 333808.20it/s]"
     ]
    },
    {
     "name": "stdout",
     "output_type": "stream",
     "text": [
      "Number of examples in test: 423\n",
      "423 earthquake traces\n",
      "0 noise traces\n",
      "Probability threshold: 0.3900\n"
     ]
    },
    {
     "name": "stderr",
     "output_type": "stream",
     "text": [
      "\n"
     ]
    },
    {
     "name": "stdout",
     "output_type": "stream",
     "text": [
      "Probability threshold: 0.3400\n",
      "Test_SNR/(40.0,45.0]_pred/task0/org_eqt exists\n",
      "Starting set: test\n"
     ]
    },
    {
     "name": "stderr",
     "output_type": "stream",
     "text": [
      "Preloading waveforms: 100%|██████████| 423/423 [00:00<00:00, 339038.91it/s]"
     ]
    },
    {
     "name": "stdout",
     "output_type": "stream",
     "text": [
      "Number of examples in test: 423\n",
      "423 earthquake traces\n",
      "0 noise traces\n",
      "Probability threshold: 0.2600\n"
     ]
    },
    {
     "name": "stderr",
     "output_type": "stream",
     "text": [
      "\n"
     ]
    },
    {
     "name": "stdout",
     "output_type": "stream",
     "text": [
      "Probability threshold: 0.1500\n",
      "Test_SNR/(40.0,45.0]_pred/task0/org_pn exists\n",
      "Starting set: test\n"
     ]
    },
    {
     "name": "stderr",
     "output_type": "stream",
     "text": [
      "Preloading waveforms: 100%|██████████| 423/423 [00:00<00:00, 334248.42it/s]"
     ]
    },
    {
     "name": "stdout",
     "output_type": "stream",
     "text": [
      "Number of examples in test: 423\n",
      "423 earthquake traces\n",
      "0 noise traces\n",
      "Probability threshold: 0.2500\n"
     ]
    },
    {
     "name": "stderr",
     "output_type": "stream",
     "text": [
      "\n"
     ]
    },
    {
     "name": "stdout",
     "output_type": "stream",
     "text": [
      "Probability threshold: 0.1900\n",
      "Test_SNR/(40.0,45.0]_pred/task0/int_eqt exists\n",
      "Starting set: test\n"
     ]
    },
    {
     "name": "stderr",
     "output_type": "stream",
     "text": [
      "Preloading waveforms: 100%|██████████| 423/423 [00:00<00:00, 336211.97it/s]"
     ]
    },
    {
     "name": "stdout",
     "output_type": "stream",
     "text": [
      "Number of examples in test: 423\n",
      "423 earthquake traces\n",
      "0 noise traces\n",
      "Probability threshold: 0.0400\n"
     ]
    },
    {
     "name": "stderr",
     "output_type": "stream",
     "text": [
      "\n"
     ]
    },
    {
     "name": "stdout",
     "output_type": "stream",
     "text": [
      "Test_SNR/(40.0,45.0]_pred/task0/int_pn exists\n",
      "Starting set: test\n"
     ]
    },
    {
     "name": "stderr",
     "output_type": "stream",
     "text": [
      "Preloading waveforms: 100%|██████████| 423/423 [00:00<00:00, 338198.74it/s]"
     ]
    },
    {
     "name": "stdout",
     "output_type": "stream",
     "text": [
      "Number of examples in test: 423\n",
      "423 earthquake traces\n",
      "0 noise traces\n",
      "Probability threshold: 0.1300\n"
     ]
    },
    {
     "name": "stderr",
     "output_type": "stream",
     "text": [
      "\n"
     ]
    },
    {
     "name": "stdout",
     "output_type": "stream",
     "text": [
      "Probability threshold: 0.0500\n",
      "Finished. Runing time 0:07:36.573994\n"
     ]
    }
   ],
   "source": [
    "tp_thre = 0.5\n",
    "print(bins)\n",
    "t1 = time.perf_counter()\n",
    "SNRstrings = []\n",
    "SNRs_midpoint = []\n",
    "num_seis = {}\n",
    "total_snr_zne = data_eq.metadata[\"trace_snr_db\"].apply(str2list)\n",
    "total_snr = total_snr_zne.apply(\n",
    "    lambda x: np.nanmean(x) if not np.all(pd.isna(np.array(x))) else np.nan\n",
    ")\n",
    "for x, y in zip(bins[:-1], bins[1:]):\n",
    "    mask = pd.notna(total_snr) & (total_snr > x) & (lteq(total_snr, y))\n",
    "\n",
    "    sub_dataset = data_eq.filter(mask, inplace=False)\n",
    "    sub_dataset_ENZ = data_eq_ENZ.filter(mask, inplace=False)\n",
    "    if len(sub_dataset) > 0:\n",
    "        snr_str = f\"({x:.1f},{y:.1f}]\"\n",
    "        SNRstrings.append(snr_str)\n",
    "        SNRs_midpoint.append(0.5 * (x + y))\n",
    "        print(snr_str, len(sub_dataset))\n",
    "        num_seis[snr_str] = len(sub_dataset)\n",
    "\n",
    "        # sub_dataset._metadata[\"split\"]=\"test\"\n",
    "\n",
    "        targets_path_snr = root_save_path_snr / f\"{snr_str}\"\n",
    "        try:\n",
    "            targets_path_snr.mkdir(parents=True, exist_ok=False)\n",
    "        except FileExistsError:\n",
    "            print(f\"{targets_path_snr} exists\")\n",
    "        generate_task0(\n",
    "            dataset=sub_dataset,\n",
    "            output=targets_path_snr,\n",
    "            sampling_rate=100,\n",
    "            noise_before_events=False,\n",
    "            replace_if_exist=True,\n",
    "        )\n",
    "\n",
    "        # for model in original_model_list:\n",
    "        #     eval_task0(dev_test_set=sub_dataset,\n",
    "        #                 model=model,\n",
    "        #                 exp_name=f\"{model.name}_original\",\n",
    "        #                 targets_path=targets_path_snr,\n",
    "        #                 prob_thres=np.array([0.2, 0.225, 0.25,0.275, 0.3,0.35, 0.4, 0.5]),\n",
    "        #                 num_workers=16,\n",
    "        #                 batchsize=2048,\n",
    "        #                 num_test_run=-1,\n",
    "        #                 output_remark=\"pred\",\n",
    "        #                 sets=[\"test\"],\n",
    "        #                 data_norm_type=model.norm)\n",
    "\n",
    "        # retrained eqt\n",
    "\n",
    "        model = vol_eqt\n",
    "        # for target_i, dataset_i in zip(target_path_list,dataset_list):\n",
    "        eval_task0(\n",
    "            dev_test_set=sub_dataset,\n",
    "            model=model,\n",
    "            exp_name=f\"vol_eqt\",\n",
    "            targets_path=targets_path_snr,\n",
    "            prob_thres=np.array([0.22]),\n",
    "            num_workers=12,\n",
    "            batchsize=1024,\n",
    "            num_test_run=-1,\n",
    "            output_remark=\"pred\",\n",
    "            tp_thre=tp_thre,\n",
    "            sets=[\"test\"],\n",
    "            data_norm_type=model.norm,\n",
    "        )\n",
    "\n",
    "        model = vol_pn\n",
    "        eval_task0(\n",
    "            dev_test_set=sub_dataset,\n",
    "            model=model,\n",
    "            exp_name=f\"vol_pn\",\n",
    "            targets_path=targets_path_snr,\n",
    "            prob_thres=np.array([0.39, 0.34]),\n",
    "            num_workers=12,\n",
    "            batchsize=1024,\n",
    "            num_test_run=-1,\n",
    "            output_remark=\"pred\",\n",
    "            tp_thre=tp_thre,\n",
    "            sets=[\"test\"],\n",
    "            data_norm_type=model.norm,\n",
    "        )\n",
    "\n",
    "        model = org_eqt2\n",
    "        eval_task0(\n",
    "            dev_test_set=sub_dataset,\n",
    "            model=model,\n",
    "            exp_name=f\"org_eqt\",\n",
    "            targets_path=targets_path_snr,\n",
    "            prob_thres=np.array([0.26, 0.15]),\n",
    "            num_workers=12,\n",
    "            batchsize=1024,\n",
    "            num_test_run=-1,\n",
    "            output_remark=\"pred\",\n",
    "            tp_thre=tp_thre,\n",
    "            sets=[\"test\"],\n",
    "            # sets=[\"train\", \"dev\",\"test\"],\n",
    "            # append_to_file=True,\n",
    "            data_norm_type=model.norm,\n",
    "        )\n",
    "\n",
    "        model = org_pn\n",
    "        eval_task0(\n",
    "            dev_test_set=sub_dataset_ENZ,\n",
    "            model=model,\n",
    "            exp_name=f\"org_pn\",\n",
    "            targets_path=targets_path_snr,\n",
    "            prob_thres=np.array([0.25, 0.19]),\n",
    "            num_workers=12,\n",
    "            batchsize=1024,\n",
    "            num_test_run=-1,\n",
    "            output_remark=\"pred\",\n",
    "            tp_thre=tp_thre,\n",
    "            sets=[\"test\"],\n",
    "            # sets=[\"train\", \"dev\",\"test\"],\n",
    "            # append_to_file=True,\n",
    "            data_norm_type=model.norm,\n",
    "        )\n",
    "\n",
    "        model = eqt_instance\n",
    "        eval_task0(\n",
    "            dev_test_set=sub_dataset,\n",
    "            model=model,\n",
    "            exp_name=f\"int_eqt\",\n",
    "            targets_path=targets_path_snr,\n",
    "            prob_thres=np.array([0.04]),\n",
    "            num_workers=12,\n",
    "            batchsize=1024,\n",
    "            num_test_run=-1,\n",
    "            output_remark=\"pred\",\n",
    "            tp_thre=tp_thre,\n",
    "            sets=[\"test\"],\n",
    "            # sets=[\"train\", \"dev\",\"test\"],\n",
    "            # append_to_file=True,\n",
    "            data_norm_type=model.norm,\n",
    "        )\n",
    "\n",
    "        model = pn_instance\n",
    "        eval_task0(\n",
    "            dev_test_set=sub_dataset,\n",
    "            model=model,\n",
    "            exp_name=f\"int_pn\",\n",
    "            targets_path=targets_path_snr,\n",
    "            prob_thres=np.array([0.13, 0.05]),\n",
    "            num_workers=12,\n",
    "            batchsize=1024,\n",
    "            num_test_run=-1,\n",
    "            output_remark=\"pred\",\n",
    "            tp_thre=tp_thre,\n",
    "            sets=[\"test\"],\n",
    "            # sets=[\"train\", \"dev\",\"test\"],\n",
    "            # append_to_file=True,\n",
    "            data_norm_type=model.norm,\n",
    "        )\n",
    "\n",
    "t2 = time.perf_counter()\n",
    "running_time = str(datetime.timedelta(seconds=t2 - t1))\n",
    "print(f\"Finished. Runing time {running_time}\")"
   ]
  },
  {
   "cell_type": "code",
   "execution_count": 131,
   "metadata": {},
   "outputs": [
    {
     "data": {
      "text/html": [
       "<div>\n",
       "<style scoped>\n",
       "    .dataframe tbody tr th:only-of-type {\n",
       "        vertical-align: middle;\n",
       "    }\n",
       "\n",
       "    .dataframe tbody tr th {\n",
       "        vertical-align: top;\n",
       "    }\n",
       "\n",
       "    .dataframe thead th {\n",
       "        text-align: right;\n",
       "    }\n",
       "</style>\n",
       "<table border=\"1\" class=\"dataframe\">\n",
       "  <thead>\n",
       "    <tr style=\"text-align: right;\">\n",
       "      <th></th>\n",
       "      <th>exp_name</th>\n",
       "      <th>model</th>\n",
       "      <th>p_opt_prob_thre</th>\n",
       "      <th>s_opt_prob_thre</th>\n",
       "    </tr>\n",
       "  </thead>\n",
       "  <tbody>\n",
       "    <tr>\n",
       "      <th>0</th>\n",
       "      <td>PhaseNet_org_instance</td>\n",
       "      <td>PhaseNet</td>\n",
       "      <td>0.13</td>\n",
       "      <td>0.050</td>\n",
       "    </tr>\n",
       "    <tr>\n",
       "      <th>1</th>\n",
       "      <td>PhaseNet_org_incorrect_component_order</td>\n",
       "      <td>PhaseNet</td>\n",
       "      <td>0.28</td>\n",
       "      <td>0.170</td>\n",
       "    </tr>\n",
       "    <tr>\n",
       "      <th>2</th>\n",
       "      <td>EQTransformer_org</td>\n",
       "      <td>EQTransformer</td>\n",
       "      <td>0.01</td>\n",
       "      <td>0.001</td>\n",
       "    </tr>\n",
       "    <tr>\n",
       "      <th>3</th>\n",
       "      <td>EQTransformer_org_instance</td>\n",
       "      <td>EQTransformer</td>\n",
       "      <td>0.04</td>\n",
       "      <td>0.040</td>\n",
       "    </tr>\n",
       "    <tr>\n",
       "      <th>4</th>\n",
       "      <td>PhaseNet_org</td>\n",
       "      <td>PhaseNet</td>\n",
       "      <td>0.25</td>\n",
       "      <td>0.190</td>\n",
       "    </tr>\n",
       "    <tr>\n",
       "      <th>5</th>\n",
       "      <td>EQTransformer_org_nonconservative</td>\n",
       "      <td>EQTransformer</td>\n",
       "      <td>0.26</td>\n",
       "      <td>0.150</td>\n",
       "    </tr>\n",
       "    <tr>\n",
       "      <th>6</th>\n",
       "      <td>PhaseNet_org_stead</td>\n",
       "      <td>PhaseNet</td>\n",
       "      <td>0.01</td>\n",
       "      <td>0.040</td>\n",
       "    </tr>\n",
       "    <tr>\n",
       "      <th>7</th>\n",
       "      <td>EQTransformer_org_stead</td>\n",
       "      <td>EQTransformer</td>\n",
       "      <td>0.02</td>\n",
       "      <td>0.010</td>\n",
       "    </tr>\n",
       "  </tbody>\n",
       "</table>\n",
       "</div>"
      ],
      "text/plain": [
       "                                 exp_name          model  p_opt_prob_thre   \n",
       "0                   PhaseNet_org_instance       PhaseNet             0.13  \\\n",
       "1  PhaseNet_org_incorrect_component_order       PhaseNet             0.28   \n",
       "2                       EQTransformer_org  EQTransformer             0.01   \n",
       "3              EQTransformer_org_instance  EQTransformer             0.04   \n",
       "4                            PhaseNet_org       PhaseNet             0.25   \n",
       "5       EQTransformer_org_nonconservative  EQTransformer             0.26   \n",
       "6                      PhaseNet_org_stead       PhaseNet             0.01   \n",
       "7                 EQTransformer_org_stead  EQTransformer             0.02   \n",
       "\n",
       "   s_opt_prob_thre  \n",
       "0            0.050  \n",
       "1            0.170  \n",
       "2            0.001  \n",
       "3            0.040  \n",
       "4            0.190  \n",
       "5            0.150  \n",
       "6            0.040  \n",
       "7            0.010  "
      ]
     },
     "execution_count": 131,
     "metadata": {},
     "output_type": "execute_result"
    }
   ],
   "source": [
    "opt_thresholds_for_original_models_df = pd.read_csv(\n",
    "    \"/home/zhongyiyuan/volpick/model_training/Original_model_opt_thresholds/all_pred/task0/optimal_threshold.csv\"\n",
    ")\n",
    "opt_thresholds_for_original_models_df = opt_thresholds_for_original_models_df[\n",
    "    [\"exp_name\", \"model\", \"p_opt_prob_thre\", \"s_opt_prob_thre\"]  # \"pretraining\",\n",
    "]\n",
    "opt_thresholds_for_original_models_df"
   ]
  },
  {
   "cell_type": "code",
   "execution_count": 132,
   "metadata": {},
   "outputs": [],
   "source": [
    "eqt_pred_dirs = [\"org_eqt\", \"int_eqt\", \"vol_eqt\"]\n",
    "pn_pred_dirs = [\"org_pn\", \"int_pn\", \"vol_pn\"]\n",
    "exp_names = eqt_pred_dirs + pn_pred_dirs\n",
    "\n",
    "save_csv_names = {\n",
    "    \"org_pn\": \"org_pn_snr.csv\",\n",
    "    \"int_pn\": \"int_pn_snr.csv\",\n",
    "    \"vol_pn\": \"vol_pn_snr.csv\",\n",
    "    \"org_eqt\": \"org_eqt_snr.csv\",\n",
    "    \"vol_eqt\": \"vol_eqt_snr.csv\",\n",
    "    \"int_eqt\": \"int_eqt_snr.csv\",\n",
    "}\n",
    "p_thre_dict = {\n",
    "    \"vol_eqt\": 0.22,\n",
    "    \"vol_pn\": 0.39,\n",
    "    \"org_eqt\": 0.26,\n",
    "    \"org_pn\": 0.25,\n",
    "    \"int_eqt\": 0.04,\n",
    "    \"int_pn\": 0.13,\n",
    "}\n",
    "s_thre_dict = {\n",
    "    \"vol_eqt\": 0.22,\n",
    "    \"vol_pn\": 0.34,\n",
    "    \"org_eqt\": 0.15,\n",
    "    \"org_pn\": 0.19,\n",
    "    \"int_eqt\": 0.04,\n",
    "    \"int_pn\": 0.05,\n",
    "}"
   ]
  },
  {
   "cell_type": "code",
   "execution_count": 133,
   "metadata": {},
   "outputs": [
    {
     "data": {
      "text/plain": [
       "PosixPath('Test_SNR')"
      ]
     },
     "execution_count": 133,
     "metadata": {},
     "output_type": "execute_result"
    }
   ],
   "source": [
    "root_save_path_snr"
   ]
  },
  {
   "cell_type": "code",
   "execution_count": 134,
   "metadata": {},
   "outputs": [],
   "source": [
    "# run only once\n",
    "for exp_name in exp_names:\n",
    "    p_metrics_vs_snr = []\n",
    "    s_metrics_vs_snr = []\n",
    "    for i, (snr_str, snr) in enumerate(zip(SNRstrings, SNRs_midpoint)):\n",
    "        # print(i,snr_str,snr)\n",
    "        tmp_metrics = pd.read_csv(\n",
    "            root_save_path_snr\n",
    "            / f\"{snr_str}_pred\"\n",
    "            / \"task0\"\n",
    "            / exp_name\n",
    "            / \"test_metrics.csv\"\n",
    "        )\n",
    "\n",
    "        column_labels = tmp_metrics.columns\n",
    "        p_labels = [x for x in column_labels if x.startswith(\"p_\")]\n",
    "        s_labels = [x for x in column_labels if x.startswith(\"s_\")]\n",
    "\n",
    "        p_tmp_dict = (\n",
    "            tmp_metrics[np.isclose(tmp_metrics[\"prob_thre\"], p_thre_dict[exp_name])][\n",
    "                [\"prob_thre\"] + p_labels\n",
    "            ]\n",
    "            .squeeze()\n",
    "            .to_dict()\n",
    "        )\n",
    "        p_tmp_dict[\"SNR\"] = snr\n",
    "        p_tmp_dict[\"SNR_interval\"] = snr_str\n",
    "        p_tmp_dict[\"n_seis\"] = num_seis[snr_str]\n",
    "\n",
    "        s_tmp_dict = (\n",
    "            tmp_metrics[np.isclose(tmp_metrics[\"prob_thre\"], s_thre_dict[exp_name])][\n",
    "                [\"prob_thre\"] + s_labels\n",
    "            ]\n",
    "            .squeeze()\n",
    "            .to_dict()\n",
    "        )\n",
    "        s_tmp_dict[\"SNR\"] = snr\n",
    "        s_tmp_dict[\"SNR_interval\"] = snr_str\n",
    "        s_tmp_dict[\"n_seis\"] = num_seis[snr_str]\n",
    "\n",
    "        p_metrics_vs_snr.append(p_tmp_dict)\n",
    "        s_metrics_vs_snr.append(s_tmp_dict)\n",
    "    p_metrics_vs_snr = pd.DataFrame(p_metrics_vs_snr)\n",
    "    p_metrics_vs_snr.to_csv(\n",
    "        root_save_path_snr / f\"p.{save_csv_names[exp_name]}\", index=False\n",
    "    )\n",
    "    s_metrics_vs_snr = pd.DataFrame(s_metrics_vs_snr)\n",
    "    s_metrics_vs_snr.to_csv(\n",
    "        root_save_path_snr / f\"s.{save_csv_names[exp_name]}\", index=False\n",
    "    )"
   ]
  },
  {
   "cell_type": "code",
   "execution_count": 135,
   "metadata": {},
   "outputs": [],
   "source": [
    "root_save_path_snr = root_save_path / \"Test_SNR_lp\""
   ]
  },
  {
   "cell_type": "code",
   "execution_count": 136,
   "metadata": {},
   "outputs": [
    {
     "name": "stdout",
     "output_type": "stream",
     "text": [
      "[-5  0  5 10 15 20 25 30 35 40 45]\n",
      "(-5.0,0.0] 474\n",
      "Test_SNR_lp/(-5.0,0.0] exists\n",
      "The existing file will be replaced.\n"
     ]
    },
    {
     "name": "stderr",
     "output_type": "stream",
     "text": [
      "100%|██████████| 474/474 [00:00<00:00, 2731.00it/s]\n"
     ]
    },
    {
     "name": "stdout",
     "output_type": "stream",
     "text": [
      "Test_SNR_lp/(-5.0,0.0]_pred/task0/vol_eqt exists\n",
      "Starting set: test\n"
     ]
    },
    {
     "name": "stderr",
     "output_type": "stream",
     "text": [
      "Preloading waveforms: 100%|██████████| 474/474 [00:00<00:00, 350326.01it/s]"
     ]
    },
    {
     "name": "stdout",
     "output_type": "stream",
     "text": [
      "Number of examples in test: 474\n",
      "474 earthquake traces\n",
      "0 noise traces\n",
      "Probability threshold: 0.2200\n"
     ]
    },
    {
     "name": "stderr",
     "output_type": "stream",
     "text": [
      "\n"
     ]
    },
    {
     "name": "stdout",
     "output_type": "stream",
     "text": [
      "Test_SNR_lp/(-5.0,0.0]_pred/task0/vol_pn exists\n",
      "Starting set: test\n"
     ]
    },
    {
     "name": "stderr",
     "output_type": "stream",
     "text": [
      "Preloading waveforms: 100%|██████████| 474/474 [00:00<00:00, 344319.38it/s]"
     ]
    },
    {
     "name": "stdout",
     "output_type": "stream",
     "text": [
      "Number of examples in test: 474\n",
      "474 earthquake traces\n",
      "0 noise traces\n",
      "Probability threshold: 0.3900\n"
     ]
    },
    {
     "name": "stderr",
     "output_type": "stream",
     "text": [
      "\n"
     ]
    },
    {
     "name": "stdout",
     "output_type": "stream",
     "text": [
      "Probability threshold: 0.3400\n",
      "Test_SNR_lp/(-5.0,0.0]_pred/task0/org_eqt exists\n",
      "Starting set: test\n"
     ]
    },
    {
     "name": "stderr",
     "output_type": "stream",
     "text": [
      "Preloading waveforms: 100%|██████████| 474/474 [00:00<00:00, 345997.23it/s]"
     ]
    },
    {
     "name": "stdout",
     "output_type": "stream",
     "text": [
      "Number of examples in test: 474\n",
      "474 earthquake traces\n",
      "0 noise traces\n",
      "Probability threshold: 0.2600\n"
     ]
    },
    {
     "name": "stderr",
     "output_type": "stream",
     "text": [
      "\n"
     ]
    },
    {
     "name": "stdout",
     "output_type": "stream",
     "text": [
      "Probability threshold: 0.1500\n",
      "Test_SNR_lp/(-5.0,0.0]_pred/task0/org_pn exists\n",
      "Starting set: test\n"
     ]
    },
    {
     "name": "stderr",
     "output_type": "stream",
     "text": [
      "Preloading waveforms: 100%|██████████| 474/474 [00:00<00:00, 328340.23it/s]"
     ]
    },
    {
     "name": "stdout",
     "output_type": "stream",
     "text": [
      "Number of examples in test: 474\n",
      "474 earthquake traces\n",
      "0 noise traces\n",
      "Probability threshold: 0.2500\n"
     ]
    },
    {
     "name": "stderr",
     "output_type": "stream",
     "text": [
      "\n"
     ]
    },
    {
     "name": "stdout",
     "output_type": "stream",
     "text": [
      "Probability threshold: 0.1900\n",
      "Test_SNR_lp/(-5.0,0.0]_pred/task0/int_eqt exists\n",
      "Starting set: test\n"
     ]
    },
    {
     "name": "stderr",
     "output_type": "stream",
     "text": [
      "Preloading waveforms: 100%|██████████| 474/474 [00:00<00:00, 343486.54it/s]"
     ]
    },
    {
     "name": "stdout",
     "output_type": "stream",
     "text": [
      "Number of examples in test: 474\n",
      "474 earthquake traces\n",
      "0 noise traces\n",
      "Probability threshold: 0.0400\n"
     ]
    },
    {
     "name": "stderr",
     "output_type": "stream",
     "text": [
      "\n"
     ]
    },
    {
     "name": "stdout",
     "output_type": "stream",
     "text": [
      "Test_SNR_lp/(-5.0,0.0]_pred/task0/int_pn exists\n",
      "Starting set: test\n"
     ]
    },
    {
     "name": "stderr",
     "output_type": "stream",
     "text": [
      "Preloading waveforms: 100%|██████████| 474/474 [00:00<00:00, 345576.24it/s]"
     ]
    },
    {
     "name": "stdout",
     "output_type": "stream",
     "text": [
      "Number of examples in test: 474\n",
      "474 earthquake traces\n",
      "0 noise traces\n",
      "Probability threshold: 0.1300\n"
     ]
    },
    {
     "name": "stderr",
     "output_type": "stream",
     "text": [
      "\n"
     ]
    },
    {
     "name": "stdout",
     "output_type": "stream",
     "text": [
      "Probability threshold: 0.0500\n",
      "(0.0,5.0] 1638\n",
      "Test_SNR_lp/(0.0,5.0] exists\n",
      "The existing file will be replaced.\n"
     ]
    },
    {
     "name": "stderr",
     "output_type": "stream",
     "text": [
      "100%|██████████| 1638/1638 [00:00<00:00, 2720.87it/s]\n"
     ]
    },
    {
     "name": "stdout",
     "output_type": "stream",
     "text": [
      "Test_SNR_lp/(0.0,5.0]_pred/task0/vol_eqt exists\n",
      "Starting set: test\n"
     ]
    },
    {
     "name": "stderr",
     "output_type": "stream",
     "text": [
      "Preloading waveforms: 100%|██████████| 1638/1638 [00:00<00:00, 355364.92it/s]"
     ]
    },
    {
     "name": "stdout",
     "output_type": "stream",
     "text": [
      "Number of examples in test: 1638\n",
      "1638 earthquake traces\n",
      "0 noise traces\n",
      "Probability threshold: 0.2200\n"
     ]
    },
    {
     "name": "stderr",
     "output_type": "stream",
     "text": [
      "\n"
     ]
    },
    {
     "name": "stdout",
     "output_type": "stream",
     "text": [
      "Test_SNR_lp/(0.0,5.0]_pred/task0/vol_pn exists\n",
      "Starting set: test\n"
     ]
    },
    {
     "name": "stderr",
     "output_type": "stream",
     "text": [
      "Preloading waveforms: 100%|██████████| 1638/1638 [00:00<00:00, 363198.88it/s]"
     ]
    },
    {
     "name": "stdout",
     "output_type": "stream",
     "text": [
      "Number of examples in test: 1638\n",
      "1638 earthquake traces\n",
      "0 noise traces\n",
      "Probability threshold: 0.3900\n"
     ]
    },
    {
     "name": "stderr",
     "output_type": "stream",
     "text": [
      "\n"
     ]
    },
    {
     "name": "stdout",
     "output_type": "stream",
     "text": [
      "Probability threshold: 0.3400\n",
      "Test_SNR_lp/(0.0,5.0]_pred/task0/org_eqt exists\n",
      "Starting set: test\n"
     ]
    },
    {
     "name": "stderr",
     "output_type": "stream",
     "text": [
      "Preloading waveforms: 100%|██████████| 1638/1638 [00:00<00:00, 355696.09it/s]"
     ]
    },
    {
     "name": "stdout",
     "output_type": "stream",
     "text": [
      "Number of examples in test: 1638\n",
      "1638 earthquake traces\n",
      "0 noise traces\n",
      "Probability threshold: 0.2600\n"
     ]
    },
    {
     "name": "stderr",
     "output_type": "stream",
     "text": [
      "\n"
     ]
    },
    {
     "name": "stdout",
     "output_type": "stream",
     "text": [
      "Probability threshold: 0.1500\n",
      "Test_SNR_lp/(0.0,5.0]_pred/task0/org_pn exists\n",
      "Starting set: test\n"
     ]
    },
    {
     "name": "stderr",
     "output_type": "stream",
     "text": [
      "Preloading waveforms: 100%|██████████| 1638/1638 [00:00<00:00, 364509.23it/s]"
     ]
    },
    {
     "name": "stdout",
     "output_type": "stream",
     "text": [
      "Number of examples in test: 1638\n",
      "1638 earthquake traces\n",
      "0 noise traces\n",
      "Probability threshold: 0.2500\n"
     ]
    },
    {
     "name": "stderr",
     "output_type": "stream",
     "text": [
      "\n"
     ]
    },
    {
     "name": "stdout",
     "output_type": "stream",
     "text": [
      "Probability threshold: 0.1900\n",
      "Test_SNR_lp/(0.0,5.0]_pred/task0/int_eqt exists\n",
      "Starting set: test\n"
     ]
    },
    {
     "name": "stderr",
     "output_type": "stream",
     "text": [
      "Preloading waveforms: 100%|██████████| 1638/1638 [00:00<00:00, 370744.70it/s]"
     ]
    },
    {
     "name": "stdout",
     "output_type": "stream",
     "text": [
      "Number of examples in test: 1638\n",
      "1638 earthquake traces\n",
      "0 noise traces\n",
      "Probability threshold: 0.0400\n"
     ]
    },
    {
     "name": "stderr",
     "output_type": "stream",
     "text": [
      "\n"
     ]
    },
    {
     "name": "stdout",
     "output_type": "stream",
     "text": [
      "Test_SNR_lp/(0.0,5.0]_pred/task0/int_pn exists\n",
      "Starting set: test\n"
     ]
    },
    {
     "name": "stderr",
     "output_type": "stream",
     "text": [
      "Preloading waveforms: 100%|██████████| 1638/1638 [00:00<00:00, 363333.33it/s]"
     ]
    },
    {
     "name": "stdout",
     "output_type": "stream",
     "text": [
      "Number of examples in test: 1638\n",
      "1638 earthquake traces\n",
      "0 noise traces\n",
      "Probability threshold: 0.1300\n"
     ]
    },
    {
     "name": "stderr",
     "output_type": "stream",
     "text": [
      "\n"
     ]
    },
    {
     "name": "stdout",
     "output_type": "stream",
     "text": [
      "Probability threshold: 0.0500\n",
      "(5.0,10.0] 1466\n",
      "Test_SNR_lp/(5.0,10.0] exists\n",
      "The existing file will be replaced.\n"
     ]
    },
    {
     "name": "stderr",
     "output_type": "stream",
     "text": [
      "100%|██████████| 1466/1466 [00:00<00:00, 2660.25it/s]\n"
     ]
    },
    {
     "name": "stdout",
     "output_type": "stream",
     "text": [
      "Test_SNR_lp/(5.0,10.0]_pred/task0/vol_eqt exists\n",
      "Starting set: test\n"
     ]
    },
    {
     "name": "stderr",
     "output_type": "stream",
     "text": [
      "Preloading waveforms: 100%|██████████| 1466/1466 [00:00<00:00, 361697.04it/s]"
     ]
    },
    {
     "name": "stdout",
     "output_type": "stream",
     "text": [
      "Number of examples in test: 1466\n",
      "1466 earthquake traces\n",
      "0 noise traces\n",
      "Probability threshold: 0.2200\n"
     ]
    },
    {
     "name": "stderr",
     "output_type": "stream",
     "text": [
      "\n"
     ]
    },
    {
     "name": "stdout",
     "output_type": "stream",
     "text": [
      "Test_SNR_lp/(5.0,10.0]_pred/task0/vol_pn exists\n",
      "Starting set: test\n"
     ]
    },
    {
     "name": "stderr",
     "output_type": "stream",
     "text": [
      "Preloading waveforms: 100%|██████████| 1466/1466 [00:00<00:00, 361867.33it/s]"
     ]
    },
    {
     "name": "stdout",
     "output_type": "stream",
     "text": [
      "Number of examples in test: 1466\n",
      "1466 earthquake traces\n",
      "0 noise traces\n",
      "Probability threshold: 0.3900\n"
     ]
    },
    {
     "name": "stderr",
     "output_type": "stream",
     "text": [
      "\n"
     ]
    },
    {
     "name": "stdout",
     "output_type": "stream",
     "text": [
      "Probability threshold: 0.3400\n",
      "Test_SNR_lp/(5.0,10.0]_pred/task0/org_eqt exists\n",
      "Starting set: test\n"
     ]
    },
    {
     "name": "stderr",
     "output_type": "stream",
     "text": [
      "Preloading waveforms: 100%|██████████| 1466/1466 [00:00<00:00, 365437.40it/s]"
     ]
    },
    {
     "name": "stdout",
     "output_type": "stream",
     "text": [
      "Number of examples in test: 1466\n",
      "1466 earthquake traces\n",
      "0 noise traces\n",
      "Probability threshold: 0.2600\n"
     ]
    },
    {
     "name": "stderr",
     "output_type": "stream",
     "text": [
      "\n"
     ]
    },
    {
     "name": "stdout",
     "output_type": "stream",
     "text": [
      "Probability threshold: 0.1500\n",
      "Test_SNR_lp/(5.0,10.0]_pred/task0/org_pn exists\n",
      "Starting set: test\n"
     ]
    },
    {
     "name": "stderr",
     "output_type": "stream",
     "text": [
      "Preloading waveforms: 100%|██████████| 1466/1466 [00:00<00:00, 361569.43it/s]"
     ]
    },
    {
     "name": "stdout",
     "output_type": "stream",
     "text": [
      "Number of examples in test: 1466\n",
      "1466 earthquake traces\n",
      "0 noise traces\n",
      "Probability threshold: 0.2500\n"
     ]
    },
    {
     "name": "stderr",
     "output_type": "stream",
     "text": [
      "\n"
     ]
    },
    {
     "name": "stdout",
     "output_type": "stream",
     "text": [
      "Probability threshold: 0.1900\n",
      "Test_SNR_lp/(5.0,10.0]_pred/task0/int_eqt exists\n",
      "Starting set: test\n"
     ]
    },
    {
     "name": "stderr",
     "output_type": "stream",
     "text": [
      "Preloading waveforms: 100%|██████████| 1466/1466 [00:00<00:00, 362892.45it/s]"
     ]
    },
    {
     "name": "stdout",
     "output_type": "stream",
     "text": [
      "Number of examples in test: 1466\n",
      "1466 earthquake traces\n",
      "0 noise traces\n",
      "Probability threshold: 0.0400\n"
     ]
    },
    {
     "name": "stderr",
     "output_type": "stream",
     "text": [
      "\n"
     ]
    },
    {
     "name": "stdout",
     "output_type": "stream",
     "text": [
      "Test_SNR_lp/(5.0,10.0]_pred/task0/int_pn exists\n",
      "Starting set: test\n"
     ]
    },
    {
     "name": "stderr",
     "output_type": "stream",
     "text": [
      "Preloading waveforms: 100%|██████████| 1466/1466 [00:00<00:00, 353605.71it/s]"
     ]
    },
    {
     "name": "stdout",
     "output_type": "stream",
     "text": [
      "Number of examples in test: 1466\n",
      "1466 earthquake traces\n",
      "0 noise traces\n",
      "Probability threshold: 0.1300\n"
     ]
    },
    {
     "name": "stderr",
     "output_type": "stream",
     "text": [
      "\n"
     ]
    },
    {
     "name": "stdout",
     "output_type": "stream",
     "text": [
      "Probability threshold: 0.0500\n",
      "(10.0,15.0] 1078\n",
      "Test_SNR_lp/(10.0,15.0] exists\n",
      "The existing file will be replaced.\n"
     ]
    },
    {
     "name": "stderr",
     "output_type": "stream",
     "text": [
      "100%|██████████| 1078/1078 [00:00<00:00, 2749.99it/s]\n"
     ]
    },
    {
     "name": "stdout",
     "output_type": "stream",
     "text": [
      "Test_SNR_lp/(10.0,15.0]_pred/task0/vol_eqt exists\n",
      "Starting set: test\n"
     ]
    },
    {
     "name": "stderr",
     "output_type": "stream",
     "text": [
      "Preloading waveforms: 100%|██████████| 1078/1078 [00:00<00:00, 364869.25it/s]"
     ]
    },
    {
     "name": "stdout",
     "output_type": "stream",
     "text": [
      "Number of examples in test: 1077\n",
      "1077 earthquake traces\n",
      "0 noise traces\n",
      "Probability threshold: 0.2200\n"
     ]
    },
    {
     "name": "stderr",
     "output_type": "stream",
     "text": [
      "\n"
     ]
    },
    {
     "name": "stdout",
     "output_type": "stream",
     "text": [
      "Test_SNR_lp/(10.0,15.0]_pred/task0/vol_pn exists\n",
      "Starting set: test\n"
     ]
    },
    {
     "name": "stderr",
     "output_type": "stream",
     "text": [
      "Preloading waveforms: 100%|██████████| 1078/1078 [00:00<00:00, 359216.63it/s]"
     ]
    },
    {
     "name": "stdout",
     "output_type": "stream",
     "text": [
      "Number of examples in test: 1077\n",
      "1077 earthquake traces\n",
      "0 noise traces\n",
      "Probability threshold: 0.3900\n"
     ]
    },
    {
     "name": "stderr",
     "output_type": "stream",
     "text": [
      "\n"
     ]
    },
    {
     "name": "stdout",
     "output_type": "stream",
     "text": [
      "Probability threshold: 0.3400\n",
      "Test_SNR_lp/(10.0,15.0]_pred/task0/org_eqt exists\n",
      "Starting set: test\n"
     ]
    },
    {
     "name": "stderr",
     "output_type": "stream",
     "text": [
      "Preloading waveforms: 100%|██████████| 1078/1078 [00:00<00:00, 362064.36it/s]"
     ]
    },
    {
     "name": "stdout",
     "output_type": "stream",
     "text": [
      "Number of examples in test: 1077\n",
      "1077 earthquake traces\n",
      "0 noise traces\n",
      "Probability threshold: 0.2600\n"
     ]
    },
    {
     "name": "stderr",
     "output_type": "stream",
     "text": [
      "\n"
     ]
    },
    {
     "name": "stdout",
     "output_type": "stream",
     "text": [
      "Probability threshold: 0.1500\n",
      "Test_SNR_lp/(10.0,15.0]_pred/task0/org_pn exists\n",
      "Starting set: test\n"
     ]
    },
    {
     "name": "stderr",
     "output_type": "stream",
     "text": [
      "Preloading waveforms: 100%|██████████| 1078/1078 [00:00<00:00, 353764.16it/s]"
     ]
    },
    {
     "name": "stdout",
     "output_type": "stream",
     "text": [
      "Number of examples in test: 1077\n",
      "1077 earthquake traces\n",
      "0 noise traces\n",
      "Probability threshold: 0.2500\n"
     ]
    },
    {
     "name": "stderr",
     "output_type": "stream",
     "text": [
      "\n"
     ]
    },
    {
     "name": "stdout",
     "output_type": "stream",
     "text": [
      "Probability threshold: 0.1900\n",
      "Test_SNR_lp/(10.0,15.0]_pred/task0/int_eqt exists\n",
      "Starting set: test\n"
     ]
    },
    {
     "name": "stderr",
     "output_type": "stream",
     "text": [
      "Preloading waveforms: 100%|██████████| 1078/1078 [00:00<00:00, 352880.65it/s]"
     ]
    },
    {
     "name": "stdout",
     "output_type": "stream",
     "text": [
      "Number of examples in test: 1077\n",
      "1077 earthquake traces\n",
      "0 noise traces\n",
      "Probability threshold: 0.0400\n"
     ]
    },
    {
     "name": "stderr",
     "output_type": "stream",
     "text": [
      "\n"
     ]
    },
    {
     "name": "stdout",
     "output_type": "stream",
     "text": [
      "Test_SNR_lp/(10.0,15.0]_pred/task0/int_pn exists\n",
      "Starting set: test\n"
     ]
    },
    {
     "name": "stderr",
     "output_type": "stream",
     "text": [
      "Preloading waveforms: 100%|██████████| 1078/1078 [00:00<00:00, 357060.71it/s]"
     ]
    },
    {
     "name": "stdout",
     "output_type": "stream",
     "text": [
      "Number of examples in test: 1077\n",
      "1077 earthquake traces\n",
      "0 noise traces\n",
      "Probability threshold: 0.1300\n"
     ]
    },
    {
     "name": "stderr",
     "output_type": "stream",
     "text": [
      "\n"
     ]
    },
    {
     "name": "stdout",
     "output_type": "stream",
     "text": [
      "Probability threshold: 0.0500\n",
      "(15.0,20.0] 541\n",
      "Test_SNR_lp/(15.0,20.0] exists\n",
      "The existing file will be replaced.\n"
     ]
    },
    {
     "name": "stderr",
     "output_type": "stream",
     "text": [
      "100%|██████████| 541/541 [00:00<00:00, 2786.27it/s]\n"
     ]
    },
    {
     "name": "stdout",
     "output_type": "stream",
     "text": [
      "Test_SNR_lp/(15.0,20.0]_pred/task0/vol_eqt exists\n",
      "Starting set: test\n"
     ]
    },
    {
     "name": "stderr",
     "output_type": "stream",
     "text": [
      "Preloading waveforms: 100%|██████████| 541/541 [00:00<00:00, 344955.68it/s]"
     ]
    },
    {
     "name": "stdout",
     "output_type": "stream",
     "text": [
      "Number of examples in test: 541\n",
      "541 earthquake traces\n",
      "0 noise traces\n",
      "Probability threshold: 0.2200\n"
     ]
    },
    {
     "name": "stderr",
     "output_type": "stream",
     "text": [
      "\n"
     ]
    },
    {
     "name": "stdout",
     "output_type": "stream",
     "text": [
      "Test_SNR_lp/(15.0,20.0]_pred/task0/vol_pn exists\n",
      "Starting set: test\n"
     ]
    },
    {
     "name": "stderr",
     "output_type": "stream",
     "text": [
      "Preloading waveforms: 100%|██████████| 541/541 [00:00<00:00, 351965.02it/s]"
     ]
    },
    {
     "name": "stdout",
     "output_type": "stream",
     "text": [
      "Number of examples in test: 541\n",
      "541 earthquake traces\n",
      "0 noise traces\n",
      "Probability threshold: 0.3900\n"
     ]
    },
    {
     "name": "stderr",
     "output_type": "stream",
     "text": [
      "\n"
     ]
    },
    {
     "name": "stdout",
     "output_type": "stream",
     "text": [
      "Probability threshold: 0.3400\n",
      "Test_SNR_lp/(15.0,20.0]_pred/task0/org_eqt exists\n",
      "Starting set: test\n"
     ]
    },
    {
     "name": "stderr",
     "output_type": "stream",
     "text": [
      "Preloading waveforms: 100%|██████████| 541/541 [00:00<00:00, 346853.94it/s]"
     ]
    },
    {
     "name": "stdout",
     "output_type": "stream",
     "text": [
      "Number of examples in test: 541\n",
      "541 earthquake traces\n",
      "0 noise traces\n",
      "Probability threshold: 0.2600\n"
     ]
    },
    {
     "name": "stderr",
     "output_type": "stream",
     "text": [
      "\n"
     ]
    },
    {
     "name": "stdout",
     "output_type": "stream",
     "text": [
      "Probability threshold: 0.1500\n",
      "Test_SNR_lp/(15.0,20.0]_pred/task0/org_pn exists\n",
      "Starting set: test\n"
     ]
    },
    {
     "name": "stderr",
     "output_type": "stream",
     "text": [
      "Preloading waveforms: 100%|██████████| 541/541 [00:00<00:00, 346960.01it/s]"
     ]
    },
    {
     "name": "stdout",
     "output_type": "stream",
     "text": [
      "Number of examples in test: 541\n",
      "541 earthquake traces\n",
      "0 noise traces\n",
      "Probability threshold: 0.2500\n"
     ]
    },
    {
     "name": "stderr",
     "output_type": "stream",
     "text": [
      "\n"
     ]
    },
    {
     "name": "stdout",
     "output_type": "stream",
     "text": [
      "Probability threshold: 0.1900\n",
      "Test_SNR_lp/(15.0,20.0]_pred/task0/int_eqt exists\n",
      "Starting set: test\n"
     ]
    },
    {
     "name": "stderr",
     "output_type": "stream",
     "text": [
      "Preloading waveforms: 100%|██████████| 541/541 [00:00<00:00, 342870.73it/s]"
     ]
    },
    {
     "name": "stdout",
     "output_type": "stream",
     "text": [
      "Number of examples in test: 541\n",
      "541 earthquake traces\n",
      "0 noise traces\n",
      "Probability threshold: 0.0400\n"
     ]
    },
    {
     "name": "stderr",
     "output_type": "stream",
     "text": [
      "\n"
     ]
    },
    {
     "name": "stdout",
     "output_type": "stream",
     "text": [
      "Test_SNR_lp/(15.0,20.0]_pred/task0/int_pn exists\n",
      "Starting set: test\n"
     ]
    },
    {
     "name": "stderr",
     "output_type": "stream",
     "text": [
      "Preloading waveforms: 100%|██████████| 541/541 [00:00<00:00, 346060.46it/s]"
     ]
    },
    {
     "name": "stdout",
     "output_type": "stream",
     "text": [
      "Number of examples in test: 541\n",
      "541 earthquake traces\n",
      "0 noise traces\n",
      "Probability threshold: 0.1300\n"
     ]
    },
    {
     "name": "stderr",
     "output_type": "stream",
     "text": [
      "\n"
     ]
    },
    {
     "name": "stdout",
     "output_type": "stream",
     "text": [
      "Probability threshold: 0.0500\n",
      "(20.0,25.0] 242\n",
      "Test_SNR_lp/(20.0,25.0] exists\n",
      "The existing file will be replaced.\n"
     ]
    },
    {
     "name": "stderr",
     "output_type": "stream",
     "text": [
      "100%|██████████| 242/242 [00:00<00:00, 2761.97it/s]\n"
     ]
    },
    {
     "name": "stdout",
     "output_type": "stream",
     "text": [
      "Test_SNR_lp/(20.0,25.0]_pred/task0/vol_eqt exists\n",
      "Starting set: test\n"
     ]
    },
    {
     "name": "stderr",
     "output_type": "stream",
     "text": [
      "Preloading waveforms: 100%|██████████| 242/242 [00:00<00:00, 323049.51it/s]"
     ]
    },
    {
     "name": "stdout",
     "output_type": "stream",
     "text": [
      "Number of examples in test: 242\n",
      "242 earthquake traces\n",
      "0 noise traces\n",
      "Probability threshold: 0.2200\n"
     ]
    },
    {
     "name": "stderr",
     "output_type": "stream",
     "text": [
      "\n"
     ]
    },
    {
     "name": "stdout",
     "output_type": "stream",
     "text": [
      "Test_SNR_lp/(20.0,25.0]_pred/task0/vol_pn exists\n",
      "Starting set: test\n"
     ]
    },
    {
     "name": "stderr",
     "output_type": "stream",
     "text": [
      "Preloading waveforms: 100%|██████████| 242/242 [00:00<00:00, 304719.77it/s]"
     ]
    },
    {
     "name": "stdout",
     "output_type": "stream",
     "text": [
      "Number of examples in test: 242\n",
      "242 earthquake traces\n",
      "0 noise traces\n",
      "Probability threshold: 0.3900\n"
     ]
    },
    {
     "name": "stderr",
     "output_type": "stream",
     "text": [
      "\n"
     ]
    },
    {
     "name": "stdout",
     "output_type": "stream",
     "text": [
      "Probability threshold: 0.3400\n",
      "Test_SNR_lp/(20.0,25.0]_pred/task0/org_eqt exists\n",
      "Starting set: test\n"
     ]
    },
    {
     "name": "stderr",
     "output_type": "stream",
     "text": [
      "Preloading waveforms: 100%|██████████| 242/242 [00:00<00:00, 304354.29it/s]"
     ]
    },
    {
     "name": "stdout",
     "output_type": "stream",
     "text": [
      "Number of examples in test: 242\n",
      "242 earthquake traces\n",
      "0 noise traces\n",
      "Probability threshold: 0.2600\n"
     ]
    },
    {
     "name": "stderr",
     "output_type": "stream",
     "text": [
      "\n"
     ]
    },
    {
     "name": "stdout",
     "output_type": "stream",
     "text": [
      "Probability threshold: 0.1500\n",
      "Test_SNR_lp/(20.0,25.0]_pred/task0/org_pn exists\n",
      "Starting set: test\n"
     ]
    },
    {
     "name": "stderr",
     "output_type": "stream",
     "text": [
      "Preloading waveforms: 100%|██████████| 242/242 [00:00<00:00, 319088.83it/s]"
     ]
    },
    {
     "name": "stdout",
     "output_type": "stream",
     "text": [
      "Number of examples in test: 242\n",
      "242 earthquake traces\n",
      "0 noise traces\n",
      "Probability threshold: 0.2500\n"
     ]
    },
    {
     "name": "stderr",
     "output_type": "stream",
     "text": [
      "\n"
     ]
    },
    {
     "name": "stdout",
     "output_type": "stream",
     "text": [
      "Probability threshold: 0.1900\n",
      "Test_SNR_lp/(20.0,25.0]_pred/task0/int_eqt exists\n",
      "Starting set: test\n"
     ]
    },
    {
     "name": "stderr",
     "output_type": "stream",
     "text": [
      "Preloading waveforms: 100%|██████████| 242/242 [00:00<00:00, 323461.30it/s]"
     ]
    },
    {
     "name": "stdout",
     "output_type": "stream",
     "text": [
      "Number of examples in test: 242\n",
      "242 earthquake traces\n",
      "0 noise traces\n",
      "Probability threshold: 0.0400\n"
     ]
    },
    {
     "name": "stderr",
     "output_type": "stream",
     "text": [
      "\n"
     ]
    },
    {
     "name": "stdout",
     "output_type": "stream",
     "text": [
      "Test_SNR_lp/(20.0,25.0]_pred/task0/int_pn exists\n",
      "Starting set: test\n"
     ]
    },
    {
     "name": "stderr",
     "output_type": "stream",
     "text": [
      "Preloading waveforms: 100%|██████████| 242/242 [00:00<00:00, 322229.07it/s]"
     ]
    },
    {
     "name": "stdout",
     "output_type": "stream",
     "text": [
      "Number of examples in test: 242\n",
      "242 earthquake traces\n",
      "0 noise traces\n",
      "Probability threshold: 0.1300\n"
     ]
    },
    {
     "name": "stderr",
     "output_type": "stream",
     "text": [
      "\n"
     ]
    },
    {
     "name": "stdout",
     "output_type": "stream",
     "text": [
      "Probability threshold: 0.0500\n",
      "(25.0,30.0] 101\n",
      "Test_SNR_lp/(25.0,30.0] exists\n",
      "The existing file will be replaced.\n"
     ]
    },
    {
     "name": "stderr",
     "output_type": "stream",
     "text": [
      "100%|██████████| 101/101 [00:00<00:00, 2756.86it/s]\n"
     ]
    },
    {
     "name": "stdout",
     "output_type": "stream",
     "text": [
      "Test_SNR_lp/(25.0,30.0]_pred/task0/vol_eqt exists\n",
      "Starting set: test\n"
     ]
    },
    {
     "name": "stderr",
     "output_type": "stream",
     "text": [
      "Preloading waveforms: 100%|██████████| 101/101 [00:00<00:00, 292356.59it/s]"
     ]
    },
    {
     "name": "stdout",
     "output_type": "stream",
     "text": [
      "Number of examples in test: 101\n",
      "101 earthquake traces\n",
      "0 noise traces\n",
      "Probability threshold: 0.2200\n"
     ]
    },
    {
     "name": "stderr",
     "output_type": "stream",
     "text": [
      "\n"
     ]
    },
    {
     "name": "stdout",
     "output_type": "stream",
     "text": [
      "Test_SNR_lp/(25.0,30.0]_pred/task0/vol_pn exists\n",
      "Starting set: test\n"
     ]
    },
    {
     "name": "stderr",
     "output_type": "stream",
     "text": [
      "Preloading waveforms: 100%|██████████| 101/101 [00:00<00:00, 282228.32it/s]"
     ]
    },
    {
     "name": "stdout",
     "output_type": "stream",
     "text": [
      "Number of examples in test: 101\n",
      "101 earthquake traces\n",
      "0 noise traces\n",
      "Probability threshold: 0.3900\n"
     ]
    },
    {
     "name": "stderr",
     "output_type": "stream",
     "text": [
      "\n"
     ]
    },
    {
     "name": "stdout",
     "output_type": "stream",
     "text": [
      "Probability threshold: 0.3400\n",
      "Test_SNR_lp/(25.0,30.0]_pred/task0/org_eqt exists\n",
      "Starting set: test\n"
     ]
    },
    {
     "name": "stderr",
     "output_type": "stream",
     "text": [
      "Preloading waveforms: 100%|██████████| 101/101 [00:00<00:00, 250813.92it/s]"
     ]
    },
    {
     "name": "stdout",
     "output_type": "stream",
     "text": [
      "Number of examples in test: 101\n",
      "101 earthquake traces\n",
      "0 noise traces\n",
      "Probability threshold: 0.2600\n"
     ]
    },
    {
     "name": "stderr",
     "output_type": "stream",
     "text": [
      "\n"
     ]
    },
    {
     "name": "stdout",
     "output_type": "stream",
     "text": [
      "Probability threshold: 0.1500\n",
      "Test_SNR_lp/(25.0,30.0]_pred/task0/org_pn exists\n",
      "Starting set: test\n"
     ]
    },
    {
     "name": "stderr",
     "output_type": "stream",
     "text": [
      "Preloading waveforms: 100%|██████████| 101/101 [00:00<00:00, 278883.94it/s]"
     ]
    },
    {
     "name": "stdout",
     "output_type": "stream",
     "text": [
      "Number of examples in test: 101\n",
      "101 earthquake traces\n",
      "0 noise traces\n",
      "Probability threshold: 0.2500\n"
     ]
    },
    {
     "name": "stderr",
     "output_type": "stream",
     "text": [
      "\n"
     ]
    },
    {
     "name": "stdout",
     "output_type": "stream",
     "text": [
      "Probability threshold: 0.1900\n",
      "Test_SNR_lp/(25.0,30.0]_pred/task0/int_eqt exists\n",
      "Starting set: test\n"
     ]
    },
    {
     "name": "stderr",
     "output_type": "stream",
     "text": [
      "Preloading waveforms: 100%|██████████| 101/101 [00:00<00:00, 276698.04it/s]"
     ]
    },
    {
     "name": "stdout",
     "output_type": "stream",
     "text": [
      "Number of examples in test: 101\n",
      "101 earthquake traces\n",
      "0 noise traces\n",
      "Probability threshold: 0.0400\n"
     ]
    },
    {
     "name": "stderr",
     "output_type": "stream",
     "text": [
      "\n"
     ]
    },
    {
     "name": "stdout",
     "output_type": "stream",
     "text": [
      "Test_SNR_lp/(25.0,30.0]_pred/task0/int_pn exists\n",
      "Starting set: test\n"
     ]
    },
    {
     "name": "stderr",
     "output_type": "stream",
     "text": [
      "Preloading waveforms: 100%|██████████| 101/101 [00:00<00:00, 272778.30it/s]"
     ]
    },
    {
     "name": "stdout",
     "output_type": "stream",
     "text": [
      "Number of examples in test: 101\n",
      "101 earthquake traces\n",
      "0 noise traces\n",
      "Probability threshold: 0.1300\n"
     ]
    },
    {
     "name": "stderr",
     "output_type": "stream",
     "text": [
      "\n"
     ]
    },
    {
     "name": "stdout",
     "output_type": "stream",
     "text": [
      "Probability threshold: 0.0500\n",
      "(30.0,35.0] 48\n",
      "Test_SNR_lp/(30.0,35.0] exists\n",
      "The existing file will be replaced.\n"
     ]
    },
    {
     "name": "stderr",
     "output_type": "stream",
     "text": [
      "100%|██████████| 48/48 [00:00<00:00, 2565.72it/s]\n"
     ]
    },
    {
     "name": "stdout",
     "output_type": "stream",
     "text": [
      "Test_SNR_lp/(30.0,35.0]_pred/task0/vol_eqt exists\n",
      "Starting set: test\n"
     ]
    },
    {
     "name": "stderr",
     "output_type": "stream",
     "text": [
      "Preloading waveforms: 100%|██████████| 48/48 [00:00<00:00, 250095.15it/s]"
     ]
    },
    {
     "name": "stdout",
     "output_type": "stream",
     "text": [
      "Number of examples in test: 48\n",
      "48 earthquake traces\n",
      "0 noise traces\n",
      "Probability threshold: 0.2200\n"
     ]
    },
    {
     "name": "stderr",
     "output_type": "stream",
     "text": [
      "\n"
     ]
    },
    {
     "name": "stdout",
     "output_type": "stream",
     "text": [
      "Test_SNR_lp/(30.0,35.0]_pred/task0/vol_pn exists\n",
      "Starting set: test\n"
     ]
    },
    {
     "name": "stderr",
     "output_type": "stream",
     "text": [
      "Preloading waveforms: 100%|██████████| 48/48 [00:00<00:00, 236576.49it/s]"
     ]
    },
    {
     "name": "stdout",
     "output_type": "stream",
     "text": [
      "Number of examples in test: 48\n",
      "48 earthquake traces\n",
      "0 noise traces\n",
      "Probability threshold: 0.3900\n"
     ]
    },
    {
     "name": "stderr",
     "output_type": "stream",
     "text": [
      "\n"
     ]
    },
    {
     "name": "stdout",
     "output_type": "stream",
     "text": [
      "Probability threshold: 0.3400\n",
      "Test_SNR_lp/(30.0,35.0]_pred/task0/org_eqt exists\n",
      "Starting set: test\n"
     ]
    },
    {
     "name": "stderr",
     "output_type": "stream",
     "text": [
      "Preloading waveforms: 100%|██████████| 48/48 [00:00<00:00, 236021.80it/s]"
     ]
    },
    {
     "name": "stdout",
     "output_type": "stream",
     "text": [
      "Number of examples in test: 48\n",
      "48 earthquake traces\n",
      "0 noise traces\n",
      "Probability threshold: 0.2600\n"
     ]
    },
    {
     "name": "stderr",
     "output_type": "stream",
     "text": [
      "\n"
     ]
    },
    {
     "name": "stdout",
     "output_type": "stream",
     "text": [
      "Probability threshold: 0.1500\n",
      "Test_SNR_lp/(30.0,35.0]_pred/task0/org_pn exists\n",
      "Starting set: test\n"
     ]
    },
    {
     "name": "stderr",
     "output_type": "stream",
     "text": [
      "Preloading waveforms: 100%|██████████| 48/48 [00:00<00:00, 237133.80it/s]"
     ]
    },
    {
     "name": "stdout",
     "output_type": "stream",
     "text": [
      "Number of examples in test: 48\n",
      "48 earthquake traces\n",
      "0 noise traces\n",
      "Probability threshold: 0.2500\n"
     ]
    },
    {
     "name": "stderr",
     "output_type": "stream",
     "text": [
      "\n"
     ]
    },
    {
     "name": "stdout",
     "output_type": "stream",
     "text": [
      "Probability threshold: 0.1900\n",
      "Test_SNR_lp/(30.0,35.0]_pred/task0/int_eqt exists\n",
      "Starting set: test\n"
     ]
    },
    {
     "name": "stderr",
     "output_type": "stream",
     "text": [
      "Preloading waveforms: 100%|██████████| 48/48 [00:00<00:00, 234920.18it/s]"
     ]
    },
    {
     "name": "stdout",
     "output_type": "stream",
     "text": [
      "Number of examples in test: 48\n",
      "48 earthquake traces\n",
      "0 noise traces\n",
      "Probability threshold: 0.0400\n"
     ]
    },
    {
     "name": "stderr",
     "output_type": "stream",
     "text": [
      "\n"
     ]
    },
    {
     "name": "stdout",
     "output_type": "stream",
     "text": [
      "Test_SNR_lp/(30.0,35.0]_pred/task0/int_pn exists\n",
      "Starting set: test\n"
     ]
    },
    {
     "name": "stderr",
     "output_type": "stream",
     "text": [
      "Preloading waveforms: 100%|██████████| 48/48 [00:00<00:00, 206066.11it/s]"
     ]
    },
    {
     "name": "stdout",
     "output_type": "stream",
     "text": [
      "Number of examples in test: 48\n",
      "48 earthquake traces\n",
      "0 noise traces\n",
      "Probability threshold: 0.1300\n"
     ]
    },
    {
     "name": "stderr",
     "output_type": "stream",
     "text": [
      "\n"
     ]
    },
    {
     "name": "stdout",
     "output_type": "stream",
     "text": [
      "Probability threshold: 0.0500\n",
      "(35.0,40.0] 34\n",
      "Test_SNR_lp/(35.0,40.0] exists\n",
      "The existing file will be replaced.\n"
     ]
    },
    {
     "name": "stderr",
     "output_type": "stream",
     "text": [
      "100%|██████████| 34/34 [00:00<00:00, 2551.33it/s]\n"
     ]
    },
    {
     "name": "stdout",
     "output_type": "stream",
     "text": [
      "Test_SNR_lp/(35.0,40.0]_pred/task0/vol_eqt exists\n",
      "Starting set: test\n"
     ]
    },
    {
     "name": "stderr",
     "output_type": "stream",
     "text": [
      "Preloading waveforms: 100%|██████████| 34/34 [00:00<00:00, 218052.50it/s]"
     ]
    },
    {
     "name": "stdout",
     "output_type": "stream",
     "text": [
      "Number of examples in test: 34\n",
      "34 earthquake traces\n",
      "0 noise traces\n",
      "Probability threshold: 0.2200\n"
     ]
    },
    {
     "name": "stderr",
     "output_type": "stream",
     "text": [
      "\n"
     ]
    },
    {
     "name": "stdout",
     "output_type": "stream",
     "text": [
      "Test_SNR_lp/(35.0,40.0]_pred/task0/vol_pn exists\n",
      "Starting set: test\n"
     ]
    },
    {
     "name": "stderr",
     "output_type": "stream",
     "text": [
      "Preloading waveforms: 100%|██████████| 34/34 [00:00<00:00, 207880.96it/s]"
     ]
    },
    {
     "name": "stdout",
     "output_type": "stream",
     "text": [
      "Number of examples in test: 34\n",
      "34 earthquake traces\n",
      "0 noise traces\n",
      "Probability threshold: 0.3900\n"
     ]
    },
    {
     "name": "stderr",
     "output_type": "stream",
     "text": [
      "\n"
     ]
    },
    {
     "name": "stdout",
     "output_type": "stream",
     "text": [
      "Probability threshold: 0.3400\n",
      "Test_SNR_lp/(35.0,40.0]_pred/task0/org_eqt exists\n",
      "Starting set: test\n"
     ]
    },
    {
     "name": "stderr",
     "output_type": "stream",
     "text": [
      "Preloading waveforms: 100%|██████████| 34/34 [00:00<00:00, 210024.06it/s]"
     ]
    },
    {
     "name": "stdout",
     "output_type": "stream",
     "text": [
      "Number of examples in test: 34\n",
      "34 earthquake traces\n",
      "0 noise traces\n",
      "Probability threshold: 0.2600\n"
     ]
    },
    {
     "name": "stderr",
     "output_type": "stream",
     "text": [
      "\n"
     ]
    },
    {
     "name": "stdout",
     "output_type": "stream",
     "text": [
      "Probability threshold: 0.1500\n",
      "Test_SNR_lp/(35.0,40.0]_pred/task0/org_pn exists\n",
      "Starting set: test\n"
     ]
    },
    {
     "name": "stderr",
     "output_type": "stream",
     "text": [
      "Preloading waveforms: 100%|██████████| 34/34 [00:00<00:00, 206675.85it/s]"
     ]
    },
    {
     "name": "stdout",
     "output_type": "stream",
     "text": [
      "Number of examples in test: 34\n",
      "34 earthquake traces\n",
      "0 noise traces\n",
      "Probability threshold: 0.2500\n"
     ]
    },
    {
     "name": "stderr",
     "output_type": "stream",
     "text": [
      "\n"
     ]
    },
    {
     "name": "stdout",
     "output_type": "stream",
     "text": [
      "Probability threshold: 0.1900\n",
      "Test_SNR_lp/(35.0,40.0]_pred/task0/int_eqt exists\n",
      "Starting set: test\n"
     ]
    },
    {
     "name": "stderr",
     "output_type": "stream",
     "text": [
      "Preloading waveforms: 100%|██████████| 34/34 [00:00<00:00, 183298.63it/s]"
     ]
    },
    {
     "name": "stdout",
     "output_type": "stream",
     "text": [
      "Number of examples in test: 34\n",
      "34 earthquake traces\n",
      "0 noise traces\n",
      "Probability threshold: 0.0400\n"
     ]
    },
    {
     "name": "stderr",
     "output_type": "stream",
     "text": [
      "\n"
     ]
    },
    {
     "name": "stdout",
     "output_type": "stream",
     "text": [
      "Test_SNR_lp/(35.0,40.0]_pred/task0/int_pn exists\n",
      "Starting set: test\n"
     ]
    },
    {
     "name": "stderr",
     "output_type": "stream",
     "text": [
      "Preloading waveforms: 100%|██████████| 34/34 [00:00<00:00, 181664.12it/s]"
     ]
    },
    {
     "name": "stdout",
     "output_type": "stream",
     "text": [
      "Number of examples in test: 34\n",
      "34 earthquake traces\n",
      "0 noise traces\n",
      "Probability threshold: 0.1300\n"
     ]
    },
    {
     "name": "stderr",
     "output_type": "stream",
     "text": [
      "\n"
     ]
    },
    {
     "name": "stdout",
     "output_type": "stream",
     "text": [
      "Probability threshold: 0.0500\n",
      "(40.0,45.0] 11\n",
      "Test_SNR_lp/(40.0,45.0] exists\n",
      "The existing file will be replaced.\n"
     ]
    },
    {
     "name": "stderr",
     "output_type": "stream",
     "text": [
      "100%|██████████| 11/11 [00:00<00:00, 2261.19it/s]\n"
     ]
    },
    {
     "name": "stdout",
     "output_type": "stream",
     "text": [
      "Test_SNR_lp/(40.0,45.0]_pred/task0/vol_eqt exists\n",
      "Starting set: test\n"
     ]
    },
    {
     "name": "stderr",
     "output_type": "stream",
     "text": [
      "Preloading waveforms: 100%|██████████| 11/11 [00:00<00:00, 129236.26it/s]"
     ]
    },
    {
     "name": "stdout",
     "output_type": "stream",
     "text": [
      "Number of examples in test: 11\n",
      "11 earthquake traces\n",
      "0 noise traces\n",
      "Probability threshold: 0.2200\n"
     ]
    },
    {
     "name": "stderr",
     "output_type": "stream",
     "text": [
      "\n"
     ]
    },
    {
     "name": "stdout",
     "output_type": "stream",
     "text": [
      "Test_SNR_lp/(40.0,45.0]_pred/task0/vol_pn exists\n",
      "Starting set: test\n"
     ]
    },
    {
     "name": "stderr",
     "output_type": "stream",
     "text": [
      "Preloading waveforms: 100%|██████████| 11/11 [00:00<00:00, 122056.47it/s]"
     ]
    },
    {
     "name": "stdout",
     "output_type": "stream",
     "text": [
      "Number of examples in test: 11\n",
      "11 earthquake traces\n",
      "0 noise traces\n",
      "Probability threshold: 0.3900\n"
     ]
    },
    {
     "name": "stderr",
     "output_type": "stream",
     "text": [
      "\n"
     ]
    },
    {
     "name": "stdout",
     "output_type": "stream",
     "text": [
      "Probability threshold: 0.3400\n",
      "Test_SNR_lp/(40.0,45.0]_pred/task0/org_eqt exists\n",
      "Starting set: test\n"
     ]
    },
    {
     "name": "stderr",
     "output_type": "stream",
     "text": [
      "Preloading waveforms: 100%|██████████| 11/11 [00:00<00:00, 120778.39it/s]"
     ]
    },
    {
     "name": "stdout",
     "output_type": "stream",
     "text": [
      "Number of examples in test: 11\n",
      "11 earthquake traces\n",
      "0 noise traces\n",
      "Probability threshold: 0.2600\n"
     ]
    },
    {
     "name": "stderr",
     "output_type": "stream",
     "text": [
      "\n"
     ]
    },
    {
     "name": "stdout",
     "output_type": "stream",
     "text": [
      "Probability threshold: 0.1500\n",
      "Test_SNR_lp/(40.0,45.0]_pred/task0/org_pn exists\n",
      "Starting set: test\n"
     ]
    },
    {
     "name": "stderr",
     "output_type": "stream",
     "text": [
      "Preloading waveforms: 100%|██████████| 11/11 [00:00<00:00, 117998.32it/s]"
     ]
    },
    {
     "name": "stdout",
     "output_type": "stream",
     "text": [
      "Number of examples in test: 11\n",
      "11 earthquake traces\n",
      "0 noise traces\n",
      "Probability threshold: 0.2500\n"
     ]
    },
    {
     "name": "stderr",
     "output_type": "stream",
     "text": [
      "\n"
     ]
    },
    {
     "name": "stdout",
     "output_type": "stream",
     "text": [
      "Probability threshold: 0.1900\n",
      "Test_SNR_lp/(40.0,45.0]_pred/task0/int_eqt exists\n",
      "Starting set: test\n"
     ]
    },
    {
     "name": "stderr",
     "output_type": "stream",
     "text": [
      "Preloading waveforms: 100%|██████████| 11/11 [00:00<00:00, 116508.44it/s]"
     ]
    },
    {
     "name": "stdout",
     "output_type": "stream",
     "text": [
      "Number of examples in test: 11\n",
      "11 earthquake traces\n",
      "0 noise traces\n",
      "Probability threshold: 0.0400\n"
     ]
    },
    {
     "name": "stderr",
     "output_type": "stream",
     "text": [
      "\n"
     ]
    },
    {
     "name": "stdout",
     "output_type": "stream",
     "text": [
      "Test_SNR_lp/(40.0,45.0]_pred/task0/int_pn exists\n",
      "Starting set: test\n"
     ]
    },
    {
     "name": "stderr",
     "output_type": "stream",
     "text": [
      "Preloading waveforms: 100%|██████████| 11/11 [00:00<00:00, 117397.82it/s]"
     ]
    },
    {
     "name": "stdout",
     "output_type": "stream",
     "text": [
      "Number of examples in test: 11\n",
      "11 earthquake traces\n",
      "0 noise traces\n",
      "Probability threshold: 0.1300\n"
     ]
    },
    {
     "name": "stderr",
     "output_type": "stream",
     "text": [
      "\n"
     ]
    },
    {
     "name": "stdout",
     "output_type": "stream",
     "text": [
      "Probability threshold: 0.0500\n",
      "Finished. Runing time 0:06:09.415241\n"
     ]
    }
   ],
   "source": [
    "tp_thre = 0.5\n",
    "print(bins)\n",
    "t1 = time.perf_counter()\n",
    "SNRstrings = []\n",
    "SNRs_midpoint = []\n",
    "num_seis = {}\n",
    "total_snr_zne = data_eq_lp.metadata[\"trace_snr_db\"].apply(str2list)\n",
    "total_snr = total_snr_zne.apply(\n",
    "    lambda x: np.nanmean(x) if not np.all(pd.isna(np.array(x))) else np.nan\n",
    ")\n",
    "for x, y in zip(bins[:-1], bins[1:]):\n",
    "    mask = pd.notna(total_snr) & (total_snr > x) & (lteq(total_snr, y))\n",
    "\n",
    "    sub_dataset = data_eq_lp.filter(mask, inplace=False)\n",
    "    sub_dataset_ENZ = data_eq_ENZ_lp.filter(mask, inplace=False)\n",
    "    if len(sub_dataset) > 0:\n",
    "        snr_str = f\"({x:.1f},{y:.1f}]\"\n",
    "        SNRstrings.append(snr_str)\n",
    "        SNRs_midpoint.append(0.5 * (x + y))\n",
    "        print(snr_str, len(sub_dataset))\n",
    "        num_seis[snr_str] = len(sub_dataset)\n",
    "\n",
    "        # sub_dataset._metadata[\"split\"]=\"test\"\n",
    "\n",
    "        targets_path_snr = root_save_path_snr / f\"{snr_str}\"\n",
    "        try:\n",
    "            targets_path_snr.mkdir(parents=True, exist_ok=False)\n",
    "        except FileExistsError:\n",
    "            print(f\"{targets_path_snr} exists\")\n",
    "        generate_task0(\n",
    "            dataset=sub_dataset,\n",
    "            output=targets_path_snr,\n",
    "            sampling_rate=100,\n",
    "            noise_before_events=False,\n",
    "            replace_if_exist=True,\n",
    "        )\n",
    "\n",
    "        # for model in original_model_list:\n",
    "        #     eval_task0(dev_test_set=sub_dataset,\n",
    "        #                 model=model,\n",
    "        #                 exp_name=f\"{model.name}_original\",\n",
    "        #                 targets_path=targets_path_snr,\n",
    "        #                 prob_thres=np.array([0.2, 0.225, 0.25,0.275, 0.3,0.35, 0.4, 0.5]),\n",
    "        #                 num_workers=16,\n",
    "        #                 batchsize=2048,\n",
    "        #                 num_test_run=-1,\n",
    "        #                 output_remark=\"pred\",\n",
    "        #                 sets=[\"test\"],\n",
    "        #                 data_norm_type=model.norm)\n",
    "\n",
    "        # retrained eqt\n",
    "\n",
    "        model = vol_eqt\n",
    "        # for target_i, dataset_i in zip(target_path_list,dataset_list):\n",
    "        eval_task0(\n",
    "            dev_test_set=sub_dataset,\n",
    "            model=model,\n",
    "            exp_name=f\"vol_eqt\",\n",
    "            targets_path=targets_path_snr,\n",
    "            prob_thres=np.array([0.22]),\n",
    "            num_workers=12,\n",
    "            batchsize=1024,\n",
    "            num_test_run=-1,\n",
    "            output_remark=\"pred\",\n",
    "            tp_thre=tp_thre,\n",
    "            sets=[\"test\"],\n",
    "            data_norm_type=model.norm,\n",
    "        )\n",
    "\n",
    "        model = vol_pn\n",
    "        eval_task0(\n",
    "            dev_test_set=sub_dataset,\n",
    "            model=model,\n",
    "            exp_name=f\"vol_pn\",\n",
    "            targets_path=targets_path_snr,\n",
    "            prob_thres=np.array([0.39, 0.34]),\n",
    "            num_workers=12,\n",
    "            batchsize=1024,\n",
    "            num_test_run=-1,\n",
    "            output_remark=\"pred\",\n",
    "            tp_thre=tp_thre,\n",
    "            sets=[\"test\"],\n",
    "            data_norm_type=model.norm,\n",
    "        )\n",
    "\n",
    "        model = org_eqt2\n",
    "        eval_task0(\n",
    "            dev_test_set=sub_dataset,\n",
    "            model=model,\n",
    "            exp_name=f\"org_eqt\",\n",
    "            targets_path=targets_path_snr,\n",
    "            prob_thres=np.array([0.26, 0.15]),\n",
    "            num_workers=12,\n",
    "            batchsize=1024,\n",
    "            num_test_run=-1,\n",
    "            output_remark=\"pred\",\n",
    "            tp_thre=tp_thre,\n",
    "            sets=[\"test\"],\n",
    "            # sets=[\"train\", \"dev\",\"test\"],\n",
    "            # append_to_file=True,\n",
    "            data_norm_type=model.norm,\n",
    "        )\n",
    "\n",
    "        model = org_pn\n",
    "        eval_task0(\n",
    "            dev_test_set=sub_dataset_ENZ,\n",
    "            model=model,\n",
    "            exp_name=f\"org_pn\",\n",
    "            targets_path=targets_path_snr,\n",
    "            prob_thres=np.array([0.25, 0.19]),\n",
    "            num_workers=12,\n",
    "            batchsize=1024,\n",
    "            num_test_run=-1,\n",
    "            output_remark=\"pred\",\n",
    "            tp_thre=tp_thre,\n",
    "            sets=[\"test\"],\n",
    "            # sets=[\"train\", \"dev\",\"test\"],\n",
    "            # append_to_file=True,\n",
    "            data_norm_type=model.norm,\n",
    "        )\n",
    "\n",
    "        model = eqt_instance\n",
    "        eval_task0(\n",
    "            dev_test_set=sub_dataset,\n",
    "            model=model,\n",
    "            exp_name=f\"int_eqt\",\n",
    "            targets_path=targets_path_snr,\n",
    "            prob_thres=np.array([0.04]),\n",
    "            num_workers=12,\n",
    "            batchsize=1024,\n",
    "            num_test_run=-1,\n",
    "            output_remark=\"pred\",\n",
    "            tp_thre=tp_thre,\n",
    "            sets=[\"test\"],\n",
    "            # sets=[\"train\", \"dev\",\"test\"],\n",
    "            # append_to_file=True,\n",
    "            data_norm_type=model.norm,\n",
    "        )\n",
    "\n",
    "        model = pn_instance\n",
    "        eval_task0(\n",
    "            dev_test_set=sub_dataset,\n",
    "            model=model,\n",
    "            exp_name=f\"int_pn\",\n",
    "            targets_path=targets_path_snr,\n",
    "            prob_thres=np.array([0.13, 0.05]),\n",
    "            num_workers=12,\n",
    "            batchsize=1024,\n",
    "            num_test_run=-1,\n",
    "            output_remark=\"pred\",\n",
    "            tp_thre=tp_thre,\n",
    "            sets=[\"test\"],\n",
    "            # sets=[\"train\", \"dev\",\"test\"],\n",
    "            # append_to_file=True,\n",
    "            data_norm_type=model.norm,\n",
    "        )\n",
    "\n",
    "t2 = time.perf_counter()\n",
    "running_time = str(datetime.timedelta(seconds=t2 - t1))\n",
    "print(f\"Finished. Runing time {running_time}\")"
   ]
  },
  {
   "cell_type": "code",
   "execution_count": 137,
   "metadata": {},
   "outputs": [],
   "source": [
    "root_save_path_snr = root_save_path / \"Test_SNR_lp\""
   ]
  },
  {
   "cell_type": "code",
   "execution_count": 138,
   "metadata": {},
   "outputs": [],
   "source": [
    "eqt_pred_dirs = [\"org_eqt\", \"int_eqt\", \"vol_eqt\"]\n",
    "pn_pred_dirs = [\"org_pn\", \"int_pn\", \"vol_pn\"]\n",
    "exp_names = eqt_pred_dirs + pn_pred_dirs\n",
    "\n",
    "save_csv_names = {\n",
    "    \"org_pn\": \"org_pn_snr.csv\",\n",
    "    \"int_pn\": \"int_pn_snr.csv\",\n",
    "    \"vol_pn\": \"vol_pn_snr.csv\",\n",
    "    \"org_eqt\": \"org_eqt_snr.csv\",\n",
    "    \"vol_eqt\": \"vol_eqt_snr.csv\",\n",
    "    \"int_eqt\": \"int_eqt_snr.csv\",\n",
    "}\n",
    "p_thre_dict = {\n",
    "    \"vol_eqt\": 0.22,\n",
    "    \"vol_pn\": 0.39,\n",
    "    \"org_eqt\": 0.26,\n",
    "    \"org_pn\": 0.25,\n",
    "    \"int_eqt\": 0.04,\n",
    "    \"int_pn\": 0.13,\n",
    "}\n",
    "s_thre_dict = {\n",
    "    \"vol_eqt\": 0.22,\n",
    "    \"vol_pn\": 0.34,\n",
    "    \"org_eqt\": 0.15,\n",
    "    \"org_pn\": 0.19,\n",
    "    \"int_eqt\": 0.04,\n",
    "    \"int_pn\": 0.05,\n",
    "}"
   ]
  },
  {
   "cell_type": "code",
   "execution_count": 139,
   "metadata": {},
   "outputs": [
    {
     "data": {
      "text/plain": [
       "PosixPath('Test_SNR_lp')"
      ]
     },
     "execution_count": 139,
     "metadata": {},
     "output_type": "execute_result"
    }
   ],
   "source": [
    "root_save_path_snr"
   ]
  },
  {
   "cell_type": "code",
   "execution_count": 140,
   "metadata": {},
   "outputs": [],
   "source": [
    "# run only once\n",
    "for exp_name in exp_names:\n",
    "    p_metrics_vs_snr = []\n",
    "    s_metrics_vs_snr = []\n",
    "    for i, (snr_str, snr) in enumerate(zip(SNRstrings, SNRs_midpoint)):\n",
    "        # print(i,snr_str,snr)\n",
    "        tmp_metrics = pd.read_csv(\n",
    "            root_save_path_snr\n",
    "            / f\"{snr_str}_pred\"\n",
    "            / \"task0\"\n",
    "            / exp_name\n",
    "            / \"test_metrics.csv\"\n",
    "        )\n",
    "\n",
    "        column_labels = tmp_metrics.columns\n",
    "        p_labels = [x for x in column_labels if x.startswith(\"p_\")]\n",
    "        s_labels = [x for x in column_labels if x.startswith(\"s_\")]\n",
    "\n",
    "        p_tmp_dict = (\n",
    "            tmp_metrics[np.isclose(tmp_metrics[\"prob_thre\"], p_thre_dict[exp_name])][\n",
    "                [\"prob_thre\"] + p_labels\n",
    "            ]\n",
    "            .squeeze()\n",
    "            .to_dict()\n",
    "        )\n",
    "        p_tmp_dict[\"SNR\"] = snr\n",
    "        p_tmp_dict[\"SNR_interval\"] = snr_str\n",
    "        p_tmp_dict[\"n_seis\"] = num_seis[snr_str]\n",
    "\n",
    "        s_tmp_dict = (\n",
    "            tmp_metrics[np.isclose(tmp_metrics[\"prob_thre\"], s_thre_dict[exp_name])][\n",
    "                [\"prob_thre\"] + s_labels\n",
    "            ]\n",
    "            .squeeze()\n",
    "            .to_dict()\n",
    "        )\n",
    "        s_tmp_dict[\"SNR\"] = snr\n",
    "        s_tmp_dict[\"SNR_interval\"] = snr_str\n",
    "        s_tmp_dict[\"n_seis\"] = num_seis[snr_str]\n",
    "\n",
    "        p_metrics_vs_snr.append(p_tmp_dict)\n",
    "        s_metrics_vs_snr.append(s_tmp_dict)\n",
    "    p_metrics_vs_snr = pd.DataFrame(p_metrics_vs_snr)\n",
    "    p_metrics_vs_snr.to_csv(\n",
    "        root_save_path_snr / f\"p.{save_csv_names[exp_name]}\", index=False\n",
    "    )\n",
    "    s_metrics_vs_snr = pd.DataFrame(s_metrics_vs_snr)\n",
    "    s_metrics_vs_snr.to_csv(\n",
    "        root_save_path_snr / f\"s.{save_csv_names[exp_name]}\", index=False\n",
    "    )"
   ]
  },
  {
   "cell_type": "markdown",
   "metadata": {},
   "source": [
    "VT"
   ]
  },
  {
   "cell_type": "code",
   "execution_count": 141,
   "metadata": {},
   "outputs": [
    {
     "data": {
      "text/plain": [
       "PosixPath('Test_SNR_vt')"
      ]
     },
     "execution_count": 141,
     "metadata": {},
     "output_type": "execute_result"
    }
   ],
   "source": [
    "root_save_path_snr = root_save_path / \"Test_SNR_vt\"\n",
    "root_save_path_snr"
   ]
  },
  {
   "cell_type": "code",
   "execution_count": 142,
   "metadata": {},
   "outputs": [
    {
     "name": "stdout",
     "output_type": "stream",
     "text": [
      "[-5  0  5 10 15 20 25 30 35 40 45]\n",
      "(-5.0,0.0] 99\n",
      "Test_SNR_vt/(-5.0,0.0] exists\n",
      "The existing file will be replaced.\n"
     ]
    },
    {
     "name": "stderr",
     "output_type": "stream",
     "text": [
      "100%|██████████| 99/99 [00:00<00:00, 2501.84it/s]\n"
     ]
    },
    {
     "name": "stdout",
     "output_type": "stream",
     "text": [
      "Test_SNR_vt/(-5.0,0.0]_pred/task0/vol_eqt exists\n",
      "Starting set: test\n"
     ]
    },
    {
     "name": "stderr",
     "output_type": "stream",
     "text": [
      "Preloading waveforms: 100%|██████████| 99/99 [00:00<00:00, 295541.71it/s]"
     ]
    },
    {
     "name": "stdout",
     "output_type": "stream",
     "text": [
      "Number of examples in test: 99\n",
      "99 earthquake traces\n",
      "0 noise traces\n",
      "Probability threshold: 0.2200\n"
     ]
    },
    {
     "name": "stderr",
     "output_type": "stream",
     "text": [
      "\n"
     ]
    },
    {
     "name": "stdout",
     "output_type": "stream",
     "text": [
      "Test_SNR_vt/(-5.0,0.0]_pred/task0/vol_pn exists\n",
      "Starting set: test\n"
     ]
    },
    {
     "name": "stderr",
     "output_type": "stream",
     "text": [
      "Preloading waveforms: 100%|██████████| 99/99 [00:00<00:00, 256953.03it/s]"
     ]
    },
    {
     "name": "stdout",
     "output_type": "stream",
     "text": [
      "Number of examples in test: 99\n",
      "99 earthquake traces\n",
      "0 noise traces\n",
      "Probability threshold: 0.3900\n"
     ]
    },
    {
     "name": "stderr",
     "output_type": "stream",
     "text": [
      "\n"
     ]
    },
    {
     "name": "stdout",
     "output_type": "stream",
     "text": [
      "Probability threshold: 0.3400\n",
      "Test_SNR_vt/(-5.0,0.0]_pred/task0/org_eqt exists\n",
      "Starting set: test\n"
     ]
    },
    {
     "name": "stderr",
     "output_type": "stream",
     "text": [
      "Preloading waveforms: 100%|██████████| 99/99 [00:00<00:00, 280375.49it/s]"
     ]
    },
    {
     "name": "stdout",
     "output_type": "stream",
     "text": [
      "Number of examples in test: 99\n",
      "99 earthquake traces\n",
      "0 noise traces\n",
      "Probability threshold: 0.2600\n"
     ]
    },
    {
     "name": "stderr",
     "output_type": "stream",
     "text": [
      "\n"
     ]
    },
    {
     "name": "stdout",
     "output_type": "stream",
     "text": [
      "Probability threshold: 0.1500\n",
      "Test_SNR_vt/(-5.0,0.0]_pred/task0/org_pn exists\n",
      "Starting set: test\n"
     ]
    },
    {
     "name": "stderr",
     "output_type": "stream",
     "text": [
      "Preloading waveforms: 100%|██████████| 99/99 [00:00<00:00, 284408.28it/s]"
     ]
    },
    {
     "name": "stdout",
     "output_type": "stream",
     "text": [
      "Number of examples in test: 99\n",
      "99 earthquake traces\n",
      "0 noise traces\n",
      "Probability threshold: 0.2500\n"
     ]
    },
    {
     "name": "stderr",
     "output_type": "stream",
     "text": [
      "\n"
     ]
    },
    {
     "name": "stdout",
     "output_type": "stream",
     "text": [
      "Probability threshold: 0.1900\n",
      "Test_SNR_vt/(-5.0,0.0]_pred/task0/int_eqt exists\n",
      "Starting set: test\n"
     ]
    },
    {
     "name": "stderr",
     "output_type": "stream",
     "text": [
      "Preloading waveforms: 100%|██████████| 99/99 [00:00<00:00, 276271.52it/s]"
     ]
    },
    {
     "name": "stdout",
     "output_type": "stream",
     "text": [
      "Number of examples in test: 99\n",
      "99 earthquake traces\n",
      "0 noise traces\n",
      "Probability threshold: 0.0400\n"
     ]
    },
    {
     "name": "stderr",
     "output_type": "stream",
     "text": [
      "\n"
     ]
    },
    {
     "name": "stdout",
     "output_type": "stream",
     "text": [
      "Test_SNR_vt/(-5.0,0.0]_pred/task0/int_pn exists\n",
      "Starting set: test\n"
     ]
    },
    {
     "name": "stderr",
     "output_type": "stream",
     "text": [
      "Preloading waveforms: 100%|██████████| 99/99 [00:00<00:00, 275538.22it/s]"
     ]
    },
    {
     "name": "stdout",
     "output_type": "stream",
     "text": [
      "Number of examples in test: 99\n",
      "99 earthquake traces\n",
      "0 noise traces\n",
      "Probability threshold: 0.1300\n"
     ]
    },
    {
     "name": "stderr",
     "output_type": "stream",
     "text": [
      "\n"
     ]
    },
    {
     "name": "stdout",
     "output_type": "stream",
     "text": [
      "Probability threshold: 0.0500\n",
      "(0.0,5.0] 360\n",
      "Test_SNR_vt/(0.0,5.0] exists\n",
      "The existing file will be replaced.\n"
     ]
    },
    {
     "name": "stderr",
     "output_type": "stream",
     "text": [
      "100%|██████████| 360/360 [00:00<00:00, 2553.45it/s]\n"
     ]
    },
    {
     "name": "stdout",
     "output_type": "stream",
     "text": [
      "Test_SNR_vt/(0.0,5.0]_pred/task0/vol_eqt exists\n",
      "Starting set: test\n"
     ]
    },
    {
     "name": "stderr",
     "output_type": "stream",
     "text": [
      "Preloading waveforms: 100%|██████████| 360/360 [00:00<00:00, 339619.76it/s]"
     ]
    },
    {
     "name": "stdout",
     "output_type": "stream",
     "text": [
      "Number of examples in test: 360\n",
      "360 earthquake traces\n",
      "0 noise traces\n",
      "Probability threshold: 0.2200\n"
     ]
    },
    {
     "name": "stderr",
     "output_type": "stream",
     "text": [
      "\n"
     ]
    },
    {
     "name": "stdout",
     "output_type": "stream",
     "text": [
      "Test_SNR_vt/(0.0,5.0]_pred/task0/vol_pn exists\n",
      "Starting set: test\n"
     ]
    },
    {
     "name": "stderr",
     "output_type": "stream",
     "text": [
      "Preloading waveforms: 100%|██████████| 360/360 [00:00<00:00, 334651.91it/s]"
     ]
    },
    {
     "name": "stdout",
     "output_type": "stream",
     "text": [
      "Number of examples in test: 360\n",
      "360 earthquake traces\n",
      "0 noise traces\n",
      "Probability threshold: 0.3900\n"
     ]
    },
    {
     "name": "stderr",
     "output_type": "stream",
     "text": [
      "\n"
     ]
    },
    {
     "name": "stdout",
     "output_type": "stream",
     "text": [
      "Probability threshold: 0.3400\n",
      "Test_SNR_vt/(0.0,5.0]_pred/task0/org_eqt exists\n",
      "Starting set: test\n"
     ]
    },
    {
     "name": "stderr",
     "output_type": "stream",
     "text": [
      "Preloading waveforms: 100%|██████████| 360/360 [00:00<00:00, 329611.32it/s]"
     ]
    },
    {
     "name": "stdout",
     "output_type": "stream",
     "text": [
      "Number of examples in test: 360\n",
      "360 earthquake traces\n",
      "0 noise traces\n",
      "Probability threshold: 0.2600\n"
     ]
    },
    {
     "name": "stderr",
     "output_type": "stream",
     "text": [
      "\n"
     ]
    },
    {
     "name": "stdout",
     "output_type": "stream",
     "text": [
      "Probability threshold: 0.1500\n",
      "Test_SNR_vt/(0.0,5.0]_pred/task0/org_pn exists\n",
      "Starting set: test\n"
     ]
    },
    {
     "name": "stderr",
     "output_type": "stream",
     "text": [
      "Preloading waveforms: 100%|██████████| 360/360 [00:00<00:00, 327112.10it/s]"
     ]
    },
    {
     "name": "stdout",
     "output_type": "stream",
     "text": [
      "Number of examples in test: 360\n",
      "360 earthquake traces\n",
      "0 noise traces\n",
      "Probability threshold: 0.2500\n"
     ]
    },
    {
     "name": "stderr",
     "output_type": "stream",
     "text": [
      "\n"
     ]
    },
    {
     "name": "stdout",
     "output_type": "stream",
     "text": [
      "Probability threshold: 0.1900\n",
      "Test_SNR_vt/(0.0,5.0]_pred/task0/int_eqt exists\n",
      "Starting set: test\n"
     ]
    },
    {
     "name": "stderr",
     "output_type": "stream",
     "text": [
      "Preloading waveforms: 100%|██████████| 360/360 [00:00<00:00, 326687.46it/s]"
     ]
    },
    {
     "name": "stdout",
     "output_type": "stream",
     "text": [
      "Number of examples in test: 360\n",
      "360 earthquake traces\n",
      "0 noise traces\n",
      "Probability threshold: 0.0400\n"
     ]
    },
    {
     "name": "stderr",
     "output_type": "stream",
     "text": [
      "\n"
     ]
    },
    {
     "name": "stdout",
     "output_type": "stream",
     "text": [
      "Test_SNR_vt/(0.0,5.0]_pred/task0/int_pn exists\n",
      "Starting set: test\n"
     ]
    },
    {
     "name": "stderr",
     "output_type": "stream",
     "text": [
      "Preloading waveforms: 100%|██████████| 360/360 [00:00<00:00, 330332.41it/s]"
     ]
    },
    {
     "name": "stdout",
     "output_type": "stream",
     "text": [
      "Number of examples in test: 360\n",
      "360 earthquake traces\n",
      "0 noise traces\n",
      "Probability threshold: 0.1300\n"
     ]
    },
    {
     "name": "stderr",
     "output_type": "stream",
     "text": [
      "\n"
     ]
    },
    {
     "name": "stdout",
     "output_type": "stream",
     "text": [
      "Probability threshold: 0.0500\n",
      "(5.0,10.0] 612\n",
      "Test_SNR_vt/(5.0,10.0] exists\n",
      "The existing file will be replaced.\n"
     ]
    },
    {
     "name": "stderr",
     "output_type": "stream",
     "text": [
      "100%|██████████| 612/612 [00:00<00:00, 2587.00it/s]\n"
     ]
    },
    {
     "name": "stdout",
     "output_type": "stream",
     "text": [
      "Test_SNR_vt/(5.0,10.0]_pred/task0/vol_eqt exists\n",
      "Starting set: test\n"
     ]
    },
    {
     "name": "stderr",
     "output_type": "stream",
     "text": [
      "Preloading waveforms: 100%|██████████| 612/612 [00:00<00:00, 345572.70it/s]"
     ]
    },
    {
     "name": "stdout",
     "output_type": "stream",
     "text": [
      "Number of examples in test: 612\n",
      "612 earthquake traces\n",
      "0 noise traces\n",
      "Probability threshold: 0.2200\n"
     ]
    },
    {
     "name": "stderr",
     "output_type": "stream",
     "text": [
      "\n"
     ]
    },
    {
     "name": "stdout",
     "output_type": "stream",
     "text": [
      "Test_SNR_vt/(5.0,10.0]_pred/task0/vol_pn exists\n",
      "Starting set: test\n"
     ]
    },
    {
     "name": "stderr",
     "output_type": "stream",
     "text": [
      "Preloading waveforms: 100%|██████████| 612/612 [00:00<00:00, 349572.93it/s]"
     ]
    },
    {
     "name": "stdout",
     "output_type": "stream",
     "text": [
      "Number of examples in test: 612\n",
      "612 earthquake traces\n",
      "0 noise traces\n",
      "Probability threshold: 0.3900\n"
     ]
    },
    {
     "name": "stderr",
     "output_type": "stream",
     "text": [
      "\n"
     ]
    },
    {
     "name": "stdout",
     "output_type": "stream",
     "text": [
      "Probability threshold: 0.3400\n",
      "Test_SNR_vt/(5.0,10.0]_pred/task0/org_eqt exists\n",
      "Starting set: test\n"
     ]
    },
    {
     "name": "stderr",
     "output_type": "stream",
     "text": [
      "Preloading waveforms: 100%|██████████| 612/612 [00:00<00:00, 347914.62it/s]"
     ]
    },
    {
     "name": "stdout",
     "output_type": "stream",
     "text": [
      "Number of examples in test: 612\n",
      "612 earthquake traces\n",
      "0 noise traces\n",
      "Probability threshold: 0.2600\n"
     ]
    },
    {
     "name": "stderr",
     "output_type": "stream",
     "text": [
      "\n"
     ]
    },
    {
     "name": "stdout",
     "output_type": "stream",
     "text": [
      "Probability threshold: 0.1500\n",
      "Test_SNR_vt/(5.0,10.0]_pred/task0/org_pn exists\n",
      "Starting set: test\n"
     ]
    },
    {
     "name": "stderr",
     "output_type": "stream",
     "text": [
      "Preloading waveforms: 100%|██████████| 612/612 [00:00<00:00, 329979.95it/s]"
     ]
    },
    {
     "name": "stdout",
     "output_type": "stream",
     "text": [
      "Number of examples in test: 612\n",
      "612 earthquake traces\n",
      "0 noise traces\n",
      "Probability threshold: 0.2500\n"
     ]
    },
    {
     "name": "stderr",
     "output_type": "stream",
     "text": [
      "\n"
     ]
    },
    {
     "name": "stdout",
     "output_type": "stream",
     "text": [
      "Probability threshold: 0.1900\n",
      "Test_SNR_vt/(5.0,10.0]_pred/task0/int_eqt exists\n",
      "Starting set: test\n"
     ]
    },
    {
     "name": "stderr",
     "output_type": "stream",
     "text": [
      "Preloading waveforms: 100%|██████████| 612/612 [00:00<00:00, 346646.06it/s]"
     ]
    },
    {
     "name": "stdout",
     "output_type": "stream",
     "text": [
      "Number of examples in test: 612\n",
      "612 earthquake traces\n",
      "0 noise traces\n",
      "Probability threshold: 0.0400\n"
     ]
    },
    {
     "name": "stderr",
     "output_type": "stream",
     "text": [
      "\n"
     ]
    },
    {
     "name": "stdout",
     "output_type": "stream",
     "text": [
      "Test_SNR_vt/(5.0,10.0]_pred/task0/int_pn exists\n",
      "Starting set: test\n"
     ]
    },
    {
     "name": "stderr",
     "output_type": "stream",
     "text": [
      "Preloading waveforms: 100%|██████████| 612/612 [00:00<00:00, 345061.71it/s]"
     ]
    },
    {
     "name": "stdout",
     "output_type": "stream",
     "text": [
      "Number of examples in test: 612\n",
      "612 earthquake traces\n",
      "0 noise traces\n",
      "Probability threshold: 0.1300\n"
     ]
    },
    {
     "name": "stderr",
     "output_type": "stream",
     "text": [
      "\n"
     ]
    },
    {
     "name": "stdout",
     "output_type": "stream",
     "text": [
      "Probability threshold: 0.0500\n",
      "(10.0,15.0] 765\n",
      "Test_SNR_vt/(10.0,15.0] exists\n",
      "The existing file will be replaced.\n"
     ]
    },
    {
     "name": "stderr",
     "output_type": "stream",
     "text": [
      "100%|██████████| 765/765 [00:00<00:00, 2620.23it/s]\n"
     ]
    },
    {
     "name": "stdout",
     "output_type": "stream",
     "text": [
      "Test_SNR_vt/(10.0,15.0]_pred/task0/vol_eqt exists\n",
      "Starting set: test\n"
     ]
    },
    {
     "name": "stderr",
     "output_type": "stream",
     "text": [
      "Preloading waveforms: 100%|██████████| 765/765 [00:00<00:00, 355725.34it/s]"
     ]
    },
    {
     "name": "stdout",
     "output_type": "stream",
     "text": [
      "Number of examples in test: 765\n",
      "765 earthquake traces\n",
      "0 noise traces\n",
      "Probability threshold: 0.2200\n"
     ]
    },
    {
     "name": "stderr",
     "output_type": "stream",
     "text": [
      "\n"
     ]
    },
    {
     "name": "stdout",
     "output_type": "stream",
     "text": [
      "Test_SNR_vt/(10.0,15.0]_pred/task0/vol_pn exists\n",
      "Starting set: test\n"
     ]
    },
    {
     "name": "stderr",
     "output_type": "stream",
     "text": [
      "Preloading waveforms: 100%|██████████| 765/765 [00:00<00:00, 355292.06it/s]"
     ]
    },
    {
     "name": "stdout",
     "output_type": "stream",
     "text": [
      "Number of examples in test: 765\n",
      "765 earthquake traces\n",
      "0 noise traces\n",
      "Probability threshold: 0.3900\n"
     ]
    },
    {
     "name": "stderr",
     "output_type": "stream",
     "text": [
      "\n"
     ]
    },
    {
     "name": "stdout",
     "output_type": "stream",
     "text": [
      "Probability threshold: 0.3400\n",
      "Test_SNR_vt/(10.0,15.0]_pred/task0/org_eqt exists\n",
      "Starting set: test\n"
     ]
    },
    {
     "name": "stderr",
     "output_type": "stream",
     "text": [
      "Preloading waveforms: 100%|██████████| 765/765 [00:00<00:00, 350212.02it/s]"
     ]
    },
    {
     "name": "stdout",
     "output_type": "stream",
     "text": [
      "Number of examples in test: 765\n",
      "765 earthquake traces\n",
      "0 noise traces\n",
      "Probability threshold: 0.2600\n"
     ]
    },
    {
     "name": "stderr",
     "output_type": "stream",
     "text": [
      "\n"
     ]
    },
    {
     "name": "stdout",
     "output_type": "stream",
     "text": [
      "Probability threshold: 0.1500\n",
      "Test_SNR_vt/(10.0,15.0]_pred/task0/org_pn exists\n",
      "Starting set: test\n"
     ]
    },
    {
     "name": "stderr",
     "output_type": "stream",
     "text": [
      "Preloading waveforms: 100%|██████████| 765/765 [00:00<00:00, 352172.38it/s]"
     ]
    },
    {
     "name": "stdout",
     "output_type": "stream",
     "text": [
      "Number of examples in test: 765\n",
      "765 earthquake traces\n",
      "0 noise traces\n",
      "Probability threshold: 0.2500\n"
     ]
    },
    {
     "name": "stderr",
     "output_type": "stream",
     "text": [
      "\n"
     ]
    },
    {
     "name": "stdout",
     "output_type": "stream",
     "text": [
      "Probability threshold: 0.1900\n",
      "Test_SNR_vt/(10.0,15.0]_pred/task0/int_eqt exists\n",
      "Starting set: test\n"
     ]
    },
    {
     "name": "stderr",
     "output_type": "stream",
     "text": [
      "Preloading waveforms: 100%|██████████| 765/765 [00:00<00:00, 345461.09it/s]"
     ]
    },
    {
     "name": "stdout",
     "output_type": "stream",
     "text": [
      "Number of examples in test: 765\n",
      "765 earthquake traces\n",
      "0 noise traces\n",
      "Probability threshold: 0.0400\n"
     ]
    },
    {
     "name": "stderr",
     "output_type": "stream",
     "text": [
      "\n"
     ]
    },
    {
     "name": "stdout",
     "output_type": "stream",
     "text": [
      "Test_SNR_vt/(10.0,15.0]_pred/task0/int_pn exists\n",
      "Starting set: test\n"
     ]
    },
    {
     "name": "stderr",
     "output_type": "stream",
     "text": [
      "Preloading waveforms: 100%|██████████| 765/765 [00:00<00:00, 337148.53it/s]"
     ]
    },
    {
     "name": "stdout",
     "output_type": "stream",
     "text": [
      "Number of examples in test: 765\n",
      "765 earthquake traces\n",
      "0 noise traces\n",
      "Probability threshold: 0.1300\n"
     ]
    },
    {
     "name": "stderr",
     "output_type": "stream",
     "text": [
      "\n"
     ]
    },
    {
     "name": "stdout",
     "output_type": "stream",
     "text": [
      "Probability threshold: 0.0500\n",
      "(15.0,20.0] 671\n",
      "Test_SNR_vt/(15.0,20.0] exists\n",
      "The existing file will be replaced.\n"
     ]
    },
    {
     "name": "stderr",
     "output_type": "stream",
     "text": [
      "100%|██████████| 671/671 [00:00<00:00, 2607.99it/s]\n"
     ]
    },
    {
     "name": "stdout",
     "output_type": "stream",
     "text": [
      "Test_SNR_vt/(15.0,20.0]_pred/task0/vol_eqt exists\n",
      "Starting set: test\n"
     ]
    },
    {
     "name": "stderr",
     "output_type": "stream",
     "text": [
      "Preloading waveforms: 100%|██████████| 671/671 [00:00<00:00, 340023.92it/s]"
     ]
    },
    {
     "name": "stdout",
     "output_type": "stream",
     "text": [
      "Number of examples in test: 671\n",
      "671 earthquake traces\n",
      "0 noise traces\n",
      "Probability threshold: 0.2200\n"
     ]
    },
    {
     "name": "stderr",
     "output_type": "stream",
     "text": [
      "\n"
     ]
    },
    {
     "name": "stdout",
     "output_type": "stream",
     "text": [
      "Test_SNR_vt/(15.0,20.0]_pred/task0/vol_pn exists\n",
      "Starting set: test\n"
     ]
    },
    {
     "name": "stderr",
     "output_type": "stream",
     "text": [
      "Preloading waveforms: 100%|██████████| 671/671 [00:00<00:00, 353077.15it/s]"
     ]
    },
    {
     "name": "stdout",
     "output_type": "stream",
     "text": [
      "Number of examples in test: 671\n",
      "671 earthquake traces\n",
      "0 noise traces\n",
      "Probability threshold: 0.3900\n"
     ]
    },
    {
     "name": "stderr",
     "output_type": "stream",
     "text": [
      "\n"
     ]
    },
    {
     "name": "stdout",
     "output_type": "stream",
     "text": [
      "Probability threshold: 0.3400\n",
      "Test_SNR_vt/(15.0,20.0]_pred/task0/org_eqt exists\n",
      "Starting set: test\n"
     ]
    },
    {
     "name": "stderr",
     "output_type": "stream",
     "text": [
      "Preloading waveforms: 100%|██████████| 671/671 [00:00<00:00, 354232.60it/s]"
     ]
    },
    {
     "name": "stdout",
     "output_type": "stream",
     "text": [
      "Number of examples in test: 671\n",
      "671 earthquake traces\n",
      "0 noise traces\n",
      "Probability threshold: 0.2600\n"
     ]
    },
    {
     "name": "stderr",
     "output_type": "stream",
     "text": [
      "\n"
     ]
    },
    {
     "name": "stdout",
     "output_type": "stream",
     "text": [
      "Probability threshold: 0.1500\n",
      "Test_SNR_vt/(15.0,20.0]_pred/task0/org_pn exists\n",
      "Starting set: test\n"
     ]
    },
    {
     "name": "stderr",
     "output_type": "stream",
     "text": [
      "Preloading waveforms: 100%|██████████| 671/671 [00:00<00:00, 348702.51it/s]"
     ]
    },
    {
     "name": "stdout",
     "output_type": "stream",
     "text": [
      "Number of examples in test: 671\n",
      "671 earthquake traces\n",
      "0 noise traces\n",
      "Probability threshold: 0.2500\n"
     ]
    },
    {
     "name": "stderr",
     "output_type": "stream",
     "text": [
      "\n"
     ]
    },
    {
     "name": "stdout",
     "output_type": "stream",
     "text": [
      "Probability threshold: 0.1900\n",
      "Test_SNR_vt/(15.0,20.0]_pred/task0/int_eqt exists\n",
      "Starting set: test\n"
     ]
    },
    {
     "name": "stderr",
     "output_type": "stream",
     "text": [
      "Preloading waveforms: 100%|██████████| 671/671 [00:00<00:00, 340930.10it/s]"
     ]
    },
    {
     "name": "stdout",
     "output_type": "stream",
     "text": [
      "Number of examples in test: 671\n",
      "671 earthquake traces\n",
      "0 noise traces\n",
      "Probability threshold: 0.0400\n"
     ]
    },
    {
     "name": "stderr",
     "output_type": "stream",
     "text": [
      "\n"
     ]
    },
    {
     "name": "stdout",
     "output_type": "stream",
     "text": [
      "Test_SNR_vt/(15.0,20.0]_pred/task0/int_pn exists\n",
      "Starting set: test\n"
     ]
    },
    {
     "name": "stderr",
     "output_type": "stream",
     "text": [
      "Preloading waveforms: 100%|██████████| 671/671 [00:00<00:00, 347969.58it/s]"
     ]
    },
    {
     "name": "stdout",
     "output_type": "stream",
     "text": [
      "Number of examples in test: 671\n",
      "671 earthquake traces\n",
      "0 noise traces\n",
      "Probability threshold: 0.1300\n"
     ]
    },
    {
     "name": "stderr",
     "output_type": "stream",
     "text": [
      "\n"
     ]
    },
    {
     "name": "stdout",
     "output_type": "stream",
     "text": [
      "Probability threshold: 0.0500\n",
      "(20.0,25.0] 617\n",
      "Test_SNR_vt/(20.0,25.0] exists\n",
      "The existing file will be replaced.\n"
     ]
    },
    {
     "name": "stderr",
     "output_type": "stream",
     "text": [
      "100%|██████████| 617/617 [00:00<00:00, 2597.87it/s]\n"
     ]
    },
    {
     "name": "stdout",
     "output_type": "stream",
     "text": [
      "Test_SNR_vt/(20.0,25.0]_pred/task0/vol_eqt exists\n",
      "Starting set: test\n"
     ]
    },
    {
     "name": "stderr",
     "output_type": "stream",
     "text": [
      "Preloading waveforms: 100%|██████████| 617/617 [00:00<00:00, 351758.27it/s]"
     ]
    },
    {
     "name": "stdout",
     "output_type": "stream",
     "text": [
      "Number of examples in test: 617\n",
      "617 earthquake traces\n",
      "0 noise traces\n",
      "Probability threshold: 0.2200\n"
     ]
    },
    {
     "name": "stderr",
     "output_type": "stream",
     "text": [
      "\n"
     ]
    },
    {
     "name": "stdout",
     "output_type": "stream",
     "text": [
      "Test_SNR_vt/(20.0,25.0]_pred/task0/vol_pn exists\n",
      "Starting set: test\n"
     ]
    },
    {
     "name": "stderr",
     "output_type": "stream",
     "text": [
      "Preloading waveforms: 100%|██████████| 617/617 [00:00<00:00, 348536.78it/s]"
     ]
    },
    {
     "name": "stdout",
     "output_type": "stream",
     "text": [
      "Number of examples in test: 617\n",
      "617 earthquake traces\n",
      "0 noise traces\n",
      "Probability threshold: 0.3900\n"
     ]
    },
    {
     "name": "stderr",
     "output_type": "stream",
     "text": [
      "\n"
     ]
    },
    {
     "name": "stdout",
     "output_type": "stream",
     "text": [
      "Probability threshold: 0.3400\n",
      "Test_SNR_vt/(20.0,25.0]_pred/task0/org_eqt exists\n",
      "Starting set: test\n"
     ]
    },
    {
     "name": "stderr",
     "output_type": "stream",
     "text": [
      "Preloading waveforms: 100%|██████████| 617/617 [00:00<00:00, 339572.97it/s]"
     ]
    },
    {
     "name": "stdout",
     "output_type": "stream",
     "text": [
      "Number of examples in test: 617\n",
      "617 earthquake traces\n",
      "0 noise traces\n",
      "Probability threshold: 0.2600\n"
     ]
    },
    {
     "name": "stderr",
     "output_type": "stream",
     "text": [
      "\n"
     ]
    },
    {
     "name": "stdout",
     "output_type": "stream",
     "text": [
      "Probability threshold: 0.1500\n",
      "Test_SNR_vt/(20.0,25.0]_pred/task0/org_pn exists\n",
      "Starting set: test\n"
     ]
    },
    {
     "name": "stderr",
     "output_type": "stream",
     "text": [
      "Preloading waveforms: 100%|██████████| 617/617 [00:00<00:00, 347320.57it/s]"
     ]
    },
    {
     "name": "stdout",
     "output_type": "stream",
     "text": [
      "Number of examples in test: 617\n",
      "617 earthquake traces\n",
      "0 noise traces\n",
      "Probability threshold: 0.2500\n"
     ]
    },
    {
     "name": "stderr",
     "output_type": "stream",
     "text": [
      "\n"
     ]
    },
    {
     "name": "stdout",
     "output_type": "stream",
     "text": [
      "Probability threshold: 0.1900\n",
      "Test_SNR_vt/(20.0,25.0]_pred/task0/int_eqt exists\n",
      "Starting set: test\n"
     ]
    },
    {
     "name": "stderr",
     "output_type": "stream",
     "text": [
      "Preloading waveforms: 100%|██████████| 617/617 [00:00<00:00, 330762.47it/s]"
     ]
    },
    {
     "name": "stdout",
     "output_type": "stream",
     "text": [
      "Number of examples in test: 617\n",
      "617 earthquake traces\n",
      "0 noise traces\n",
      "Probability threshold: 0.0400\n"
     ]
    },
    {
     "name": "stderr",
     "output_type": "stream",
     "text": [
      "\n"
     ]
    },
    {
     "name": "stdout",
     "output_type": "stream",
     "text": [
      "Test_SNR_vt/(20.0,25.0]_pred/task0/int_pn exists\n",
      "Starting set: test\n"
     ]
    },
    {
     "name": "stderr",
     "output_type": "stream",
     "text": [
      "Preloading waveforms: 100%|██████████| 617/617 [00:00<00:00, 350947.32it/s]"
     ]
    },
    {
     "name": "stdout",
     "output_type": "stream",
     "text": [
      "Number of examples in test: 617\n",
      "617 earthquake traces\n",
      "0 noise traces\n",
      "Probability threshold: 0.1300\n"
     ]
    },
    {
     "name": "stderr",
     "output_type": "stream",
     "text": [
      "\n"
     ]
    },
    {
     "name": "stdout",
     "output_type": "stream",
     "text": [
      "Probability threshold: 0.0500\n",
      "(25.0,30.0] 538\n",
      "Test_SNR_vt/(25.0,30.0] exists\n",
      "The existing file will be replaced.\n"
     ]
    },
    {
     "name": "stderr",
     "output_type": "stream",
     "text": [
      "100%|██████████| 538/538 [00:00<00:00, 2663.55it/s]\n"
     ]
    },
    {
     "name": "stdout",
     "output_type": "stream",
     "text": [
      "Test_SNR_vt/(25.0,30.0]_pred/task0/vol_eqt exists\n",
      "Starting set: test\n"
     ]
    },
    {
     "name": "stderr",
     "output_type": "stream",
     "text": [
      "Preloading waveforms: 100%|██████████| 538/538 [00:00<00:00, 341795.75it/s]"
     ]
    },
    {
     "name": "stdout",
     "output_type": "stream",
     "text": [
      "Number of examples in test: 538\n",
      "538 earthquake traces\n",
      "0 noise traces\n",
      "Probability threshold: 0.2200\n"
     ]
    },
    {
     "name": "stderr",
     "output_type": "stream",
     "text": [
      "\n"
     ]
    },
    {
     "name": "stdout",
     "output_type": "stream",
     "text": [
      "Test_SNR_vt/(25.0,30.0]_pred/task0/vol_pn exists\n",
      "Starting set: test\n"
     ]
    },
    {
     "name": "stderr",
     "output_type": "stream",
     "text": [
      "Preloading waveforms: 100%|██████████| 538/538 [00:00<00:00, 347962.31it/s]"
     ]
    },
    {
     "name": "stdout",
     "output_type": "stream",
     "text": [
      "Number of examples in test: 538\n",
      "538 earthquake traces\n",
      "0 noise traces\n",
      "Probability threshold: 0.3900\n"
     ]
    },
    {
     "name": "stderr",
     "output_type": "stream",
     "text": [
      "\n"
     ]
    },
    {
     "name": "stdout",
     "output_type": "stream",
     "text": [
      "Probability threshold: 0.3400\n",
      "Test_SNR_vt/(25.0,30.0]_pred/task0/org_eqt exists\n",
      "Starting set: test\n"
     ]
    },
    {
     "name": "stderr",
     "output_type": "stream",
     "text": [
      "Preloading waveforms: 100%|██████████| 538/538 [00:00<00:00, 345141.57it/s]"
     ]
    },
    {
     "name": "stdout",
     "output_type": "stream",
     "text": [
      "Number of examples in test: 538\n",
      "538 earthquake traces\n",
      "0 noise traces\n",
      "Probability threshold: 0.2600\n"
     ]
    },
    {
     "name": "stderr",
     "output_type": "stream",
     "text": [
      "\n"
     ]
    },
    {
     "name": "stdout",
     "output_type": "stream",
     "text": [
      "Probability threshold: 0.1500\n",
      "Test_SNR_vt/(25.0,30.0]_pred/task0/org_pn exists\n",
      "Starting set: test\n"
     ]
    },
    {
     "name": "stderr",
     "output_type": "stream",
     "text": [
      "Preloading waveforms: 100%|██████████| 538/538 [00:00<00:00, 341640.51it/s]"
     ]
    },
    {
     "name": "stdout",
     "output_type": "stream",
     "text": [
      "Number of examples in test: 538\n",
      "538 earthquake traces\n",
      "0 noise traces\n",
      "Probability threshold: 0.2500\n"
     ]
    },
    {
     "name": "stderr",
     "output_type": "stream",
     "text": [
      "\n"
     ]
    },
    {
     "name": "stdout",
     "output_type": "stream",
     "text": [
      "Probability threshold: 0.1900\n",
      "Test_SNR_vt/(25.0,30.0]_pred/task0/int_eqt exists\n",
      "Starting set: test\n"
     ]
    },
    {
     "name": "stderr",
     "output_type": "stream",
     "text": [
      "Preloading waveforms: 100%|██████████| 538/538 [00:00<00:00, 330144.19it/s]"
     ]
    },
    {
     "name": "stdout",
     "output_type": "stream",
     "text": [
      "Number of examples in test: 538\n",
      "538 earthquake traces\n",
      "0 noise traces\n",
      "Probability threshold: 0.0400\n"
     ]
    },
    {
     "name": "stderr",
     "output_type": "stream",
     "text": [
      "\n"
     ]
    },
    {
     "name": "stdout",
     "output_type": "stream",
     "text": [
      "Test_SNR_vt/(25.0,30.0]_pred/task0/int_pn exists\n",
      "Starting set: test\n"
     ]
    },
    {
     "name": "stderr",
     "output_type": "stream",
     "text": [
      "Preloading waveforms: 100%|██████████| 538/538 [00:00<00:00, 343617.41it/s]"
     ]
    },
    {
     "name": "stdout",
     "output_type": "stream",
     "text": [
      "Number of examples in test: 538\n",
      "538 earthquake traces\n",
      "0 noise traces\n",
      "Probability threshold: 0.1300\n"
     ]
    },
    {
     "name": "stderr",
     "output_type": "stream",
     "text": [
      "\n"
     ]
    },
    {
     "name": "stdout",
     "output_type": "stream",
     "text": [
      "Probability threshold: 0.0500\n",
      "(30.0,35.0] 427\n",
      "Test_SNR_vt/(30.0,35.0] exists\n",
      "The existing file will be replaced.\n"
     ]
    },
    {
     "name": "stderr",
     "output_type": "stream",
     "text": [
      "100%|██████████| 427/427 [00:00<00:00, 2675.37it/s]\n"
     ]
    },
    {
     "name": "stdout",
     "output_type": "stream",
     "text": [
      "Test_SNR_vt/(30.0,35.0]_pred/task0/vol_eqt exists\n",
      "Starting set: test\n"
     ]
    },
    {
     "name": "stderr",
     "output_type": "stream",
     "text": [
      "Preloading waveforms: 100%|██████████| 427/427 [00:00<00:00, 334635.24it/s]"
     ]
    },
    {
     "name": "stdout",
     "output_type": "stream",
     "text": [
      "Number of examples in test: 427\n",
      "427 earthquake traces\n",
      "0 noise traces\n",
      "Probability threshold: 0.2200\n"
     ]
    },
    {
     "name": "stderr",
     "output_type": "stream",
     "text": [
      "\n"
     ]
    },
    {
     "name": "stdout",
     "output_type": "stream",
     "text": [
      "Test_SNR_vt/(30.0,35.0]_pred/task0/vol_pn exists\n",
      "Starting set: test\n"
     ]
    },
    {
     "name": "stderr",
     "output_type": "stream",
     "text": [
      "Preloading waveforms: 100%|██████████| 427/427 [00:00<00:00, 333948.87it/s]"
     ]
    },
    {
     "name": "stdout",
     "output_type": "stream",
     "text": [
      "Number of examples in test: 427\n",
      "427 earthquake traces\n",
      "0 noise traces\n",
      "Probability threshold: 0.3900\n"
     ]
    },
    {
     "name": "stderr",
     "output_type": "stream",
     "text": [
      "\n"
     ]
    },
    {
     "name": "stdout",
     "output_type": "stream",
     "text": [
      "Probability threshold: 0.3400\n",
      "Test_SNR_vt/(30.0,35.0]_pred/task0/org_eqt exists\n",
      "Starting set: test\n"
     ]
    },
    {
     "name": "stderr",
     "output_type": "stream",
     "text": [
      "Preloading waveforms: 100%|██████████| 427/427 [00:00<00:00, 340747.30it/s]"
     ]
    },
    {
     "name": "stdout",
     "output_type": "stream",
     "text": [
      "Number of examples in test: 427\n",
      "427 earthquake traces\n",
      "0 noise traces\n",
      "Probability threshold: 0.2600\n"
     ]
    },
    {
     "name": "stderr",
     "output_type": "stream",
     "text": [
      "\n"
     ]
    },
    {
     "name": "stdout",
     "output_type": "stream",
     "text": [
      "Probability threshold: 0.1500\n",
      "Test_SNR_vt/(30.0,35.0]_pred/task0/org_pn exists\n",
      "Starting set: test\n"
     ]
    },
    {
     "name": "stderr",
     "output_type": "stream",
     "text": [
      "Preloading waveforms: 100%|██████████| 427/427 [00:00<00:00, 333699.98it/s]"
     ]
    },
    {
     "name": "stdout",
     "output_type": "stream",
     "text": [
      "Number of examples in test: 427\n",
      "427 earthquake traces\n",
      "0 noise traces\n",
      "Probability threshold: 0.2500\n"
     ]
    },
    {
     "name": "stderr",
     "output_type": "stream",
     "text": [
      "\n"
     ]
    },
    {
     "name": "stdout",
     "output_type": "stream",
     "text": [
      "Probability threshold: 0.1900\n",
      "Test_SNR_vt/(30.0,35.0]_pred/task0/int_eqt exists\n",
      "Starting set: test\n"
     ]
    },
    {
     "name": "stderr",
     "output_type": "stream",
     "text": [
      "Preloading waveforms: 100%|██████████| 427/427 [00:00<00:00, 339519.96it/s]"
     ]
    },
    {
     "name": "stdout",
     "output_type": "stream",
     "text": [
      "Number of examples in test: 427\n",
      "427 earthquake traces\n",
      "0 noise traces\n",
      "Probability threshold: 0.0400\n"
     ]
    },
    {
     "name": "stderr",
     "output_type": "stream",
     "text": [
      "\n"
     ]
    },
    {
     "name": "stdout",
     "output_type": "stream",
     "text": [
      "Test_SNR_vt/(30.0,35.0]_pred/task0/int_pn exists\n",
      "Starting set: test\n"
     ]
    },
    {
     "name": "stderr",
     "output_type": "stream",
     "text": [
      "Preloading waveforms: 100%|██████████| 427/427 [00:00<00:00, 339134.22it/s]"
     ]
    },
    {
     "name": "stdout",
     "output_type": "stream",
     "text": [
      "Number of examples in test: 427\n",
      "427 earthquake traces\n",
      "0 noise traces\n",
      "Probability threshold: 0.1300\n"
     ]
    },
    {
     "name": "stderr",
     "output_type": "stream",
     "text": [
      "\n"
     ]
    },
    {
     "name": "stdout",
     "output_type": "stream",
     "text": [
      "Probability threshold: 0.0500\n",
      "(35.0,40.0] 419\n",
      "Test_SNR_vt/(35.0,40.0] exists\n",
      "The existing file will be replaced.\n"
     ]
    },
    {
     "name": "stderr",
     "output_type": "stream",
     "text": [
      "100%|██████████| 419/419 [00:00<00:00, 2704.24it/s]\n"
     ]
    },
    {
     "name": "stdout",
     "output_type": "stream",
     "text": [
      "Test_SNR_vt/(35.0,40.0]_pred/task0/vol_eqt exists\n",
      "Starting set: test\n"
     ]
    },
    {
     "name": "stderr",
     "output_type": "stream",
     "text": [
      "Preloading waveforms: 100%|██████████| 419/419 [00:00<00:00, 344185.93it/s]"
     ]
    },
    {
     "name": "stdout",
     "output_type": "stream",
     "text": [
      "Number of examples in test: 419\n",
      "419 earthquake traces\n",
      "0 noise traces\n",
      "Probability threshold: 0.2200\n"
     ]
    },
    {
     "name": "stderr",
     "output_type": "stream",
     "text": [
      "\n"
     ]
    },
    {
     "name": "stdout",
     "output_type": "stream",
     "text": [
      "Test_SNR_vt/(35.0,40.0]_pred/task0/vol_pn exists\n",
      "Starting set: test\n"
     ]
    },
    {
     "name": "stderr",
     "output_type": "stream",
     "text": [
      "Preloading waveforms: 100%|██████████| 419/419 [00:00<00:00, 319995.15it/s]"
     ]
    },
    {
     "name": "stdout",
     "output_type": "stream",
     "text": [
      "Number of examples in test: 419\n",
      "419 earthquake traces\n",
      "0 noise traces\n",
      "Probability threshold: 0.3900\n"
     ]
    },
    {
     "name": "stderr",
     "output_type": "stream",
     "text": [
      "\n"
     ]
    },
    {
     "name": "stdout",
     "output_type": "stream",
     "text": [
      "Probability threshold: 0.3400\n",
      "Test_SNR_vt/(35.0,40.0]_pred/task0/org_eqt exists\n",
      "Starting set: test\n"
     ]
    },
    {
     "name": "stderr",
     "output_type": "stream",
     "text": [
      "Preloading waveforms: 100%|██████████| 419/419 [00:00<00:00, 332402.76it/s]"
     ]
    },
    {
     "name": "stdout",
     "output_type": "stream",
     "text": [
      "Number of examples in test: 419\n",
      "419 earthquake traces\n",
      "0 noise traces\n",
      "Probability threshold: 0.2600\n"
     ]
    },
    {
     "name": "stderr",
     "output_type": "stream",
     "text": [
      "\n"
     ]
    },
    {
     "name": "stdout",
     "output_type": "stream",
     "text": [
      "Probability threshold: 0.1500\n",
      "Test_SNR_vt/(35.0,40.0]_pred/task0/org_pn exists\n",
      "Starting set: test\n"
     ]
    },
    {
     "name": "stderr",
     "output_type": "stream",
     "text": [
      "Preloading waveforms: 100%|██████████| 419/419 [00:00<00:00, 335128.41it/s]"
     ]
    },
    {
     "name": "stdout",
     "output_type": "stream",
     "text": [
      "Number of examples in test: 419\n",
      "419 earthquake traces\n",
      "0 noise traces\n",
      "Probability threshold: 0.2500\n"
     ]
    },
    {
     "name": "stderr",
     "output_type": "stream",
     "text": [
      "\n"
     ]
    },
    {
     "name": "stdout",
     "output_type": "stream",
     "text": [
      "Probability threshold: 0.1900\n",
      "Test_SNR_vt/(35.0,40.0]_pred/task0/int_eqt exists\n",
      "Starting set: test\n"
     ]
    },
    {
     "name": "stderr",
     "output_type": "stream",
     "text": [
      "Preloading waveforms: 100%|██████████| 419/419 [00:00<00:00, 331963.24it/s]"
     ]
    },
    {
     "name": "stdout",
     "output_type": "stream",
     "text": [
      "Number of examples in test: 419\n",
      "419 earthquake traces\n",
      "0 noise traces\n",
      "Probability threshold: 0.0400\n"
     ]
    },
    {
     "name": "stderr",
     "output_type": "stream",
     "text": [
      "\n"
     ]
    },
    {
     "name": "stdout",
     "output_type": "stream",
     "text": [
      "Test_SNR_vt/(35.0,40.0]_pred/task0/int_pn exists\n",
      "Starting set: test\n"
     ]
    },
    {
     "name": "stderr",
     "output_type": "stream",
     "text": [
      "Preloading waveforms: 100%|██████████| 419/419 [00:00<00:00, 338615.29it/s]"
     ]
    },
    {
     "name": "stdout",
     "output_type": "stream",
     "text": [
      "Number of examples in test: 419\n",
      "419 earthquake traces\n",
      "0 noise traces\n",
      "Probability threshold: 0.1300\n"
     ]
    },
    {
     "name": "stderr",
     "output_type": "stream",
     "text": [
      "\n"
     ]
    },
    {
     "name": "stdout",
     "output_type": "stream",
     "text": [
      "Probability threshold: 0.0500\n",
      "(40.0,45.0] 412\n",
      "Test_SNR_vt/(40.0,45.0] exists\n",
      "The existing file will be replaced.\n"
     ]
    },
    {
     "name": "stderr",
     "output_type": "stream",
     "text": [
      "100%|██████████| 412/412 [00:00<00:00, 2722.65it/s]\n"
     ]
    },
    {
     "name": "stdout",
     "output_type": "stream",
     "text": [
      "Test_SNR_vt/(40.0,45.0]_pred/task0/vol_eqt exists\n",
      "Starting set: test\n"
     ]
    },
    {
     "name": "stderr",
     "output_type": "stream",
     "text": [
      "Preloading waveforms: 100%|██████████| 412/412 [00:00<00:00, 343549.35it/s]"
     ]
    },
    {
     "name": "stdout",
     "output_type": "stream",
     "text": [
      "Number of examples in test: 412\n",
      "412 earthquake traces\n",
      "0 noise traces\n",
      "Probability threshold: 0.2200\n"
     ]
    },
    {
     "name": "stderr",
     "output_type": "stream",
     "text": [
      "\n"
     ]
    },
    {
     "name": "stdout",
     "output_type": "stream",
     "text": [
      "Test_SNR_vt/(40.0,45.0]_pred/task0/vol_pn exists\n",
      "Starting set: test\n"
     ]
    },
    {
     "name": "stderr",
     "output_type": "stream",
     "text": [
      "Preloading waveforms: 100%|██████████| 412/412 [00:00<00:00, 335283.91it/s]"
     ]
    },
    {
     "name": "stdout",
     "output_type": "stream",
     "text": [
      "Number of examples in test: 412\n",
      "412 earthquake traces\n",
      "0 noise traces\n",
      "Probability threshold: 0.3900\n"
     ]
    },
    {
     "name": "stderr",
     "output_type": "stream",
     "text": [
      "\n"
     ]
    },
    {
     "name": "stdout",
     "output_type": "stream",
     "text": [
      "Probability threshold: 0.3400\n",
      "Test_SNR_vt/(40.0,45.0]_pred/task0/org_eqt exists\n",
      "Starting set: test\n"
     ]
    },
    {
     "name": "stderr",
     "output_type": "stream",
     "text": [
      "Preloading waveforms: 100%|██████████| 412/412 [00:00<00:00, 335935.70it/s]"
     ]
    },
    {
     "name": "stdout",
     "output_type": "stream",
     "text": [
      "Number of examples in test: 412\n",
      "412 earthquake traces\n",
      "0 noise traces\n",
      "Probability threshold: 0.2600\n"
     ]
    },
    {
     "name": "stderr",
     "output_type": "stream",
     "text": [
      "\n"
     ]
    },
    {
     "name": "stdout",
     "output_type": "stream",
     "text": [
      "Probability threshold: 0.1500\n",
      "Test_SNR_vt/(40.0,45.0]_pred/task0/org_pn exists\n",
      "Starting set: test\n"
     ]
    },
    {
     "name": "stderr",
     "output_type": "stream",
     "text": [
      "Preloading waveforms: 100%|██████████| 412/412 [00:00<00:00, 321617.95it/s]"
     ]
    },
    {
     "name": "stdout",
     "output_type": "stream",
     "text": [
      "Number of examples in test: 412\n",
      "412 earthquake traces\n",
      "0 noise traces\n",
      "Probability threshold: 0.2500\n"
     ]
    },
    {
     "name": "stderr",
     "output_type": "stream",
     "text": [
      "\n"
     ]
    },
    {
     "name": "stdout",
     "output_type": "stream",
     "text": [
      "Probability threshold: 0.1900\n",
      "Test_SNR_vt/(40.0,45.0]_pred/task0/int_eqt exists\n",
      "Starting set: test\n"
     ]
    },
    {
     "name": "stderr",
     "output_type": "stream",
     "text": [
      "Preloading waveforms: 100%|██████████| 412/412 [00:00<00:00, 329027.66it/s]"
     ]
    },
    {
     "name": "stdout",
     "output_type": "stream",
     "text": [
      "Number of examples in test: 412\n",
      "412 earthquake traces\n",
      "0 noise traces\n",
      "Probability threshold: 0.0400\n"
     ]
    },
    {
     "name": "stderr",
     "output_type": "stream",
     "text": [
      "\n"
     ]
    },
    {
     "name": "stdout",
     "output_type": "stream",
     "text": [
      "Test_SNR_vt/(40.0,45.0]_pred/task0/int_pn exists\n",
      "Starting set: test\n"
     ]
    },
    {
     "name": "stderr",
     "output_type": "stream",
     "text": [
      "Preloading waveforms: 100%|██████████| 412/412 [00:00<00:00, 337972.47it/s]"
     ]
    },
    {
     "name": "stdout",
     "output_type": "stream",
     "text": [
      "Number of examples in test: 412\n",
      "412 earthquake traces\n",
      "0 noise traces\n",
      "Probability threshold: 0.1300\n"
     ]
    },
    {
     "name": "stderr",
     "output_type": "stream",
     "text": [
      "\n"
     ]
    },
    {
     "name": "stdout",
     "output_type": "stream",
     "text": [
      "Probability threshold: 0.0500\n",
      "Finished. Runing time 0:06:04.726204\n"
     ]
    }
   ],
   "source": [
    "tp_thre = 0.5\n",
    "print(bins)\n",
    "t1 = time.perf_counter()\n",
    "SNRstrings = []\n",
    "SNRs_midpoint = []\n",
    "num_seis = {}\n",
    "total_snr_zne = data_eq_rg.metadata[\"trace_snr_db\"].apply(str2list)\n",
    "total_snr = total_snr_zne.apply(\n",
    "    lambda x: np.nanmean(x) if not np.all(pd.isna(np.array(x))) else np.nan\n",
    ")\n",
    "for x, y in zip(bins[:-1], bins[1:]):\n",
    "    mask = pd.notna(total_snr) & (total_snr > x) & (lteq(total_snr, y))\n",
    "\n",
    "    sub_dataset = data_eq_rg.filter(mask, inplace=False)\n",
    "    sub_dataset_ENZ = data_eq_ENZ_rg.filter(mask, inplace=False)\n",
    "    if len(sub_dataset) > 0:\n",
    "        snr_str = f\"({x:.1f},{y:.1f}]\"\n",
    "        SNRstrings.append(snr_str)\n",
    "        SNRs_midpoint.append(0.5 * (x + y))\n",
    "        print(snr_str, len(sub_dataset))\n",
    "        num_seis[snr_str] = len(sub_dataset)\n",
    "\n",
    "        # sub_dataset._metadata[\"split\"]=\"test\"\n",
    "\n",
    "        targets_path_snr = root_save_path_snr / f\"{snr_str}\"\n",
    "        try:\n",
    "            targets_path_snr.mkdir(parents=True, exist_ok=False)\n",
    "        except FileExistsError:\n",
    "            print(f\"{targets_path_snr} exists\")\n",
    "        generate_task0(\n",
    "            dataset=sub_dataset,\n",
    "            output=targets_path_snr,\n",
    "            sampling_rate=100,\n",
    "            noise_before_events=False,\n",
    "            replace_if_exist=True,\n",
    "        )\n",
    "\n",
    "        # for model in original_model_list:\n",
    "        #     eval_task0(dev_test_set=sub_dataset,\n",
    "        #                 model=model,\n",
    "        #                 exp_name=f\"{model.name}_original\",\n",
    "        #                 targets_path=targets_path_snr,\n",
    "        #                 prob_thres=np.array([0.2, 0.225, 0.25,0.275, 0.3,0.35, 0.4, 0.5]),\n",
    "        #                 num_workers=16,\n",
    "        #                 batchsize=2048,\n",
    "        #                 num_test_run=-1,\n",
    "        #                 output_remark=\"pred\",\n",
    "        #                 sets=[\"test\"],\n",
    "        #                 data_norm_type=model.norm)\n",
    "\n",
    "        # retrained eqt\n",
    "\n",
    "        model = vol_eqt\n",
    "        # for target_i, dataset_i in zip(target_path_list,dataset_list):\n",
    "        eval_task0(\n",
    "            dev_test_set=sub_dataset,\n",
    "            model=model,\n",
    "            exp_name=f\"vol_eqt\",\n",
    "            targets_path=targets_path_snr,\n",
    "            prob_thres=np.array([0.22]),\n",
    "            num_workers=12,\n",
    "            batchsize=1024,\n",
    "            num_test_run=-1,\n",
    "            output_remark=\"pred\",\n",
    "            tp_thre=tp_thre,\n",
    "            sets=[\"test\"],\n",
    "            data_norm_type=model.norm,\n",
    "        )\n",
    "\n",
    "        model = vol_pn\n",
    "        eval_task0(\n",
    "            dev_test_set=sub_dataset,\n",
    "            model=model,\n",
    "            exp_name=f\"vol_pn\",\n",
    "            targets_path=targets_path_snr,\n",
    "            prob_thres=np.array([0.39, 0.34]),\n",
    "            num_workers=12,\n",
    "            batchsize=1024,\n",
    "            num_test_run=-1,\n",
    "            output_remark=\"pred\",\n",
    "            tp_thre=tp_thre,\n",
    "            sets=[\"test\"],\n",
    "            data_norm_type=model.norm,\n",
    "        )\n",
    "\n",
    "        model = org_eqt2\n",
    "        eval_task0(\n",
    "            dev_test_set=sub_dataset,\n",
    "            model=model,\n",
    "            exp_name=f\"org_eqt\",\n",
    "            targets_path=targets_path_snr,\n",
    "            prob_thres=np.array([0.26, 0.15]),\n",
    "            num_workers=12,\n",
    "            batchsize=1024,\n",
    "            num_test_run=-1,\n",
    "            output_remark=\"pred\",\n",
    "            tp_thre=tp_thre,\n",
    "            sets=[\"test\"],\n",
    "            # sets=[\"train\", \"dev\",\"test\"],\n",
    "            # append_to_file=True,\n",
    "            data_norm_type=model.norm,\n",
    "        )\n",
    "\n",
    "        model = org_pn\n",
    "        eval_task0(\n",
    "            dev_test_set=sub_dataset_ENZ,\n",
    "            model=model,\n",
    "            exp_name=f\"org_pn\",\n",
    "            targets_path=targets_path_snr,\n",
    "            prob_thres=np.array([0.25, 0.19]),\n",
    "            num_workers=12,\n",
    "            batchsize=1024,\n",
    "            num_test_run=-1,\n",
    "            output_remark=\"pred\",\n",
    "            tp_thre=tp_thre,\n",
    "            sets=[\"test\"],\n",
    "            # sets=[\"train\", \"dev\",\"test\"],\n",
    "            # append_to_file=True,\n",
    "            data_norm_type=model.norm,\n",
    "        )\n",
    "\n",
    "        model = eqt_instance\n",
    "        eval_task0(\n",
    "            dev_test_set=sub_dataset,\n",
    "            model=model,\n",
    "            exp_name=f\"int_eqt\",\n",
    "            targets_path=targets_path_snr,\n",
    "            prob_thres=np.array([0.04]),\n",
    "            num_workers=12,\n",
    "            batchsize=1024,\n",
    "            num_test_run=-1,\n",
    "            output_remark=\"pred\",\n",
    "            tp_thre=tp_thre,\n",
    "            sets=[\"test\"],\n",
    "            # sets=[\"train\", \"dev\",\"test\"],\n",
    "            # append_to_file=True,\n",
    "            data_norm_type=model.norm,\n",
    "        )\n",
    "\n",
    "        model = pn_instance\n",
    "        eval_task0(\n",
    "            dev_test_set=sub_dataset,\n",
    "            model=model,\n",
    "            exp_name=f\"int_pn\",\n",
    "            targets_path=targets_path_snr,\n",
    "            prob_thres=np.array([0.13, 0.05]),\n",
    "            num_workers=12,\n",
    "            batchsize=1024,\n",
    "            num_test_run=-1,\n",
    "            output_remark=\"pred\",\n",
    "            tp_thre=tp_thre,\n",
    "            sets=[\"test\"],\n",
    "            # sets=[\"train\", \"dev\",\"test\"],\n",
    "            # append_to_file=True,\n",
    "            data_norm_type=model.norm,\n",
    "        )\n",
    "\n",
    "t2 = time.perf_counter()\n",
    "running_time = str(datetime.timedelta(seconds=t2 - t1))\n",
    "print(f\"Finished. Runing time {running_time}\")"
   ]
  },
  {
   "cell_type": "code",
   "execution_count": 143,
   "metadata": {},
   "outputs": [],
   "source": [
    "opt_thresholds_for_original_models_df = pd.read_csv(\n",
    "    \"/home/zhongyiyuan/volpick/model_training/Original_model_opt_thresholds/all_pred/task0/optimal_threshold.csv\"\n",
    ")\n",
    "opt_thresholds_for_original_models_df = opt_thresholds_for_original_models_df[\n",
    "    [\"exp_name\", \"model\", \"p_opt_prob_thre\", \"s_opt_prob_thre\"]  # \"pretraining\",\n",
    "]\n",
    "opt_thresholds_for_original_models_df\n",
    "\n",
    "eqt_pred_dirs = [\"org_eqt\", \"int_eqt\", \"vol_eqt\"]\n",
    "pn_pred_dirs = [\"org_pn\", \"int_pn\", \"vol_pn\"]\n",
    "exp_names = eqt_pred_dirs + pn_pred_dirs\n",
    "\n",
    "save_csv_names = {\n",
    "    \"org_pn\": \"org_pn_snr.csv\",\n",
    "    \"int_pn\": \"int_pn_snr.csv\",\n",
    "    \"vol_pn\": \"vol_pn_snr.csv\",\n",
    "    \"org_eqt\": \"org_eqt_snr.csv\",\n",
    "    \"vol_eqt\": \"vol_eqt_snr.csv\",\n",
    "    \"int_eqt\": \"int_eqt_snr.csv\",\n",
    "}\n",
    "p_thre_dict = {\n",
    "    \"vol_eqt\": 0.22,\n",
    "    \"vol_pn\": 0.39,\n",
    "    \"org_eqt\": 0.26,\n",
    "    \"org_pn\": 0.25,\n",
    "    \"int_eqt\": 0.04,\n",
    "    \"int_pn\": 0.13,\n",
    "}\n",
    "s_thre_dict = {\n",
    "    \"vol_eqt\": 0.22,\n",
    "    \"vol_pn\": 0.34,\n",
    "    \"org_eqt\": 0.15,\n",
    "    \"org_pn\": 0.19,\n",
    "    \"int_eqt\": 0.04,\n",
    "    \"int_pn\": 0.05,\n",
    "}"
   ]
  },
  {
   "cell_type": "code",
   "execution_count": 144,
   "metadata": {},
   "outputs": [],
   "source": [
    "root_save_path_snr = root_save_path / \"Test_SNR_vt\"\n",
    "\n",
    "# run only once\n",
    "for exp_name in exp_names:\n",
    "    p_metrics_vs_snr = []\n",
    "    s_metrics_vs_snr = []\n",
    "    for i, (snr_str, snr) in enumerate(zip(SNRstrings, SNRs_midpoint)):\n",
    "        # print(i,snr_str,snr)\n",
    "        tmp_metrics = pd.read_csv(\n",
    "            root_save_path_snr\n",
    "            / f\"{snr_str}_pred\"\n",
    "            / \"task0\"\n",
    "            / exp_name\n",
    "            / \"test_metrics.csv\"\n",
    "        )\n",
    "\n",
    "        column_labels = tmp_metrics.columns\n",
    "        p_labels = [x for x in column_labels if x.startswith(\"p_\")]\n",
    "        s_labels = [x for x in column_labels if x.startswith(\"s_\")]\n",
    "\n",
    "        p_tmp_dict = (\n",
    "            tmp_metrics[np.isclose(tmp_metrics[\"prob_thre\"], p_thre_dict[exp_name])][\n",
    "                [\"prob_thre\"] + p_labels\n",
    "            ]\n",
    "            .squeeze()\n",
    "            .to_dict()\n",
    "        )\n",
    "        p_tmp_dict[\"SNR\"] = snr\n",
    "        p_tmp_dict[\"SNR_interval\"] = snr_str\n",
    "        p_tmp_dict[\"n_seis\"] = num_seis[snr_str]\n",
    "\n",
    "        s_tmp_dict = (\n",
    "            tmp_metrics[np.isclose(tmp_metrics[\"prob_thre\"], s_thre_dict[exp_name])][\n",
    "                [\"prob_thre\"] + s_labels\n",
    "            ]\n",
    "            .squeeze()\n",
    "            .to_dict()\n",
    "        )\n",
    "        s_tmp_dict[\"SNR\"] = snr\n",
    "        s_tmp_dict[\"SNR_interval\"] = snr_str\n",
    "        s_tmp_dict[\"n_seis\"] = num_seis[snr_str]\n",
    "\n",
    "        p_metrics_vs_snr.append(p_tmp_dict)\n",
    "        s_metrics_vs_snr.append(s_tmp_dict)\n",
    "    p_metrics_vs_snr = pd.DataFrame(p_metrics_vs_snr)\n",
    "    p_metrics_vs_snr.to_csv(\n",
    "        root_save_path_snr / f\"p.{save_csv_names[exp_name]}\", index=False\n",
    "    )\n",
    "    s_metrics_vs_snr = pd.DataFrame(s_metrics_vs_snr)\n",
    "    s_metrics_vs_snr.to_csv(\n",
    "        root_save_path_snr / f\"s.{save_csv_names[exp_name]}\", index=False\n",
    "    )"
   ]
  },
  {
   "cell_type": "code",
   "execution_count": 145,
   "metadata": {},
   "outputs": [
    {
     "data": {
      "text/html": [
       "<div>\n",
       "<style scoped>\n",
       "    .dataframe tbody tr th:only-of-type {\n",
       "        vertical-align: middle;\n",
       "    }\n",
       "\n",
       "    .dataframe tbody tr th {\n",
       "        vertical-align: top;\n",
       "    }\n",
       "\n",
       "    .dataframe thead th {\n",
       "        text-align: right;\n",
       "    }\n",
       "</style>\n",
       "<table border=\"1\" class=\"dataframe\">\n",
       "  <thead>\n",
       "    <tr style=\"text-align: right;\">\n",
       "      <th></th>\n",
       "      <th>prob_thre</th>\n",
       "      <th>s_TP</th>\n",
       "      <th>s_FP</th>\n",
       "      <th>s_FN</th>\n",
       "      <th>s_precision</th>\n",
       "      <th>s_recall</th>\n",
       "      <th>s_F1score</th>\n",
       "      <th>s_mean</th>\n",
       "      <th>s_median</th>\n",
       "      <th>s_std</th>\n",
       "      <th>...</th>\n",
       "      <th>s_modified_MAD</th>\n",
       "      <th>s_modified_mean2</th>\n",
       "      <th>s_modified_median2</th>\n",
       "      <th>s_modified_std2</th>\n",
       "      <th>s_modified_RMSE2</th>\n",
       "      <th>s_modified_MAE2</th>\n",
       "      <th>s_modified_MAD2</th>\n",
       "      <th>SNR</th>\n",
       "      <th>SNR_interval</th>\n",
       "      <th>n_seis</th>\n",
       "    </tr>\n",
       "  </thead>\n",
       "  <tbody>\n",
       "    <tr>\n",
       "      <th>1</th>\n",
       "      <td>0.22</td>\n",
       "      <td>1201.0</td>\n",
       "      <td>333.0</td>\n",
       "      <td>652.0</td>\n",
       "      <td>0.782920</td>\n",
       "      <td>0.648138</td>\n",
       "      <td>0.709182</td>\n",
       "      <td>-0.807936</td>\n",
       "      <td>-0.03</td>\n",
       "      <td>4.440538</td>\n",
       "      <td>...</td>\n",
       "      <td>0.10</td>\n",
       "      <td>-0.074350</td>\n",
       "      <td>-0.05</td>\n",
       "      <td>0.197805</td>\n",
       "      <td>0.211243</td>\n",
       "      <td>0.136300</td>\n",
       "      <td>0.08</td>\n",
       "      <td>2.5</td>\n",
       "      <td>(0.0,5.0]</td>\n",
       "      <td>360</td>\n",
       "    </tr>\n",
       "    <tr>\n",
       "      <th>2</th>\n",
       "      <td>0.22</td>\n",
       "      <td>1531.0</td>\n",
       "      <td>366.0</td>\n",
       "      <td>391.0</td>\n",
       "      <td>0.807064</td>\n",
       "      <td>0.796566</td>\n",
       "      <td>0.801781</td>\n",
       "      <td>-0.435843</td>\n",
       "      <td>-0.02</td>\n",
       "      <td>4.102066</td>\n",
       "      <td>...</td>\n",
       "      <td>0.10</td>\n",
       "      <td>-0.068813</td>\n",
       "      <td>-0.04</td>\n",
       "      <td>0.201967</td>\n",
       "      <td>0.213309</td>\n",
       "      <td>0.136209</td>\n",
       "      <td>0.08</td>\n",
       "      <td>7.5</td>\n",
       "      <td>(5.0,10.0]</td>\n",
       "      <td>612</td>\n",
       "    </tr>\n",
       "    <tr>\n",
       "      <th>3</th>\n",
       "      <td>0.22</td>\n",
       "      <td>1492.0</td>\n",
       "      <td>257.0</td>\n",
       "      <td>225.0</td>\n",
       "      <td>0.853059</td>\n",
       "      <td>0.868957</td>\n",
       "      <td>0.860935</td>\n",
       "      <td>-0.215583</td>\n",
       "      <td>-0.01</td>\n",
       "      <td>2.874194</td>\n",
       "      <td>...</td>\n",
       "      <td>0.09</td>\n",
       "      <td>-0.047450</td>\n",
       "      <td>-0.02</td>\n",
       "      <td>0.206054</td>\n",
       "      <td>0.211383</td>\n",
       "      <td>0.136192</td>\n",
       "      <td>0.08</td>\n",
       "      <td>12.5</td>\n",
       "      <td>(10.0,15.0]</td>\n",
       "      <td>765</td>\n",
       "    </tr>\n",
       "    <tr>\n",
       "      <th>4</th>\n",
       "      <td>0.22</td>\n",
       "      <td>1034.0</td>\n",
       "      <td>135.0</td>\n",
       "      <td>112.0</td>\n",
       "      <td>0.884517</td>\n",
       "      <td>0.902269</td>\n",
       "      <td>0.893305</td>\n",
       "      <td>-0.163105</td>\n",
       "      <td>0.00</td>\n",
       "      <td>2.465032</td>\n",
       "      <td>...</td>\n",
       "      <td>0.08</td>\n",
       "      <td>-0.031350</td>\n",
       "      <td>-0.01</td>\n",
       "      <td>0.185747</td>\n",
       "      <td>0.188289</td>\n",
       "      <td>0.119616</td>\n",
       "      <td>0.07</td>\n",
       "      <td>17.5</td>\n",
       "      <td>(15.0,20.0]</td>\n",
       "      <td>671</td>\n",
       "    </tr>\n",
       "    <tr>\n",
       "      <th>5</th>\n",
       "      <td>0.22</td>\n",
       "      <td>758.0</td>\n",
       "      <td>81.0</td>\n",
       "      <td>69.0</td>\n",
       "      <td>0.903456</td>\n",
       "      <td>0.916566</td>\n",
       "      <td>0.909964</td>\n",
       "      <td>-0.366880</td>\n",
       "      <td>0.00</td>\n",
       "      <td>2.791291</td>\n",
       "      <td>...</td>\n",
       "      <td>0.07</td>\n",
       "      <td>-0.028524</td>\n",
       "      <td>-0.01</td>\n",
       "      <td>0.183843</td>\n",
       "      <td>0.185927</td>\n",
       "      <td>0.114351</td>\n",
       "      <td>0.07</td>\n",
       "      <td>22.5</td>\n",
       "      <td>(20.0,25.0]</td>\n",
       "      <td>617</td>\n",
       "    </tr>\n",
       "    <tr>\n",
       "      <th>6</th>\n",
       "      <td>0.22</td>\n",
       "      <td>583.0</td>\n",
       "      <td>54.0</td>\n",
       "      <td>34.0</td>\n",
       "      <td>0.915228</td>\n",
       "      <td>0.944895</td>\n",
       "      <td>0.929825</td>\n",
       "      <td>-0.345405</td>\n",
       "      <td>0.00</td>\n",
       "      <td>2.448083</td>\n",
       "      <td>...</td>\n",
       "      <td>0.06</td>\n",
       "      <td>-0.030567</td>\n",
       "      <td>-0.02</td>\n",
       "      <td>0.170476</td>\n",
       "      <td>0.173055</td>\n",
       "      <td>0.104967</td>\n",
       "      <td>0.06</td>\n",
       "      <td>27.5</td>\n",
       "      <td>(25.0,30.0]</td>\n",
       "      <td>538</td>\n",
       "    </tr>\n",
       "    <tr>\n",
       "      <th>7</th>\n",
       "      <td>0.22</td>\n",
       "      <td>442.0</td>\n",
       "      <td>32.0</td>\n",
       "      <td>21.0</td>\n",
       "      <td>0.932489</td>\n",
       "      <td>0.954644</td>\n",
       "      <td>0.943436</td>\n",
       "      <td>-0.364862</td>\n",
       "      <td>-0.01</td>\n",
       "      <td>2.628824</td>\n",
       "      <td>...</td>\n",
       "      <td>0.06</td>\n",
       "      <td>-0.041286</td>\n",
       "      <td>-0.02</td>\n",
       "      <td>0.141870</td>\n",
       "      <td>0.147605</td>\n",
       "      <td>0.091929</td>\n",
       "      <td>0.05</td>\n",
       "      <td>32.5</td>\n",
       "      <td>(30.0,35.0]</td>\n",
       "      <td>427</td>\n",
       "    </tr>\n",
       "    <tr>\n",
       "      <th>8</th>\n",
       "      <td>0.22</td>\n",
       "      <td>437.0</td>\n",
       "      <td>20.0</td>\n",
       "      <td>10.0</td>\n",
       "      <td>0.956236</td>\n",
       "      <td>0.977629</td>\n",
       "      <td>0.966814</td>\n",
       "      <td>-0.017643</td>\n",
       "      <td>-0.01</td>\n",
       "      <td>1.939246</td>\n",
       "      <td>...</td>\n",
       "      <td>0.06</td>\n",
       "      <td>-0.034977</td>\n",
       "      <td>-0.02</td>\n",
       "      <td>0.145944</td>\n",
       "      <td>0.149917</td>\n",
       "      <td>0.093221</td>\n",
       "      <td>0.06</td>\n",
       "      <td>37.5</td>\n",
       "      <td>(35.0,40.0]</td>\n",
       "      <td>419</td>\n",
       "    </tr>\n",
       "    <tr>\n",
       "      <th>9</th>\n",
       "      <td>0.22</td>\n",
       "      <td>410.0</td>\n",
       "      <td>9.0</td>\n",
       "      <td>9.0</td>\n",
       "      <td>0.978520</td>\n",
       "      <td>0.978520</td>\n",
       "      <td>0.978520</td>\n",
       "      <td>-0.183580</td>\n",
       "      <td>-0.01</td>\n",
       "      <td>2.006125</td>\n",
       "      <td>...</td>\n",
       "      <td>0.05</td>\n",
       "      <td>-0.033592</td>\n",
       "      <td>-0.02</td>\n",
       "      <td>0.097395</td>\n",
       "      <td>0.102914</td>\n",
       "      <td>0.071602</td>\n",
       "      <td>0.05</td>\n",
       "      <td>42.5</td>\n",
       "      <td>(40.0,45.0]</td>\n",
       "      <td>412</td>\n",
       "    </tr>\n",
       "  </tbody>\n",
       "</table>\n",
       "<p>9 rows × 28 columns</p>\n",
       "</div>"
      ],
      "text/plain": [
       "   prob_thre    s_TP   s_FP   s_FN  s_precision  s_recall  s_F1score   \n",
       "1       0.22  1201.0  333.0  652.0     0.782920  0.648138   0.709182  \\\n",
       "2       0.22  1531.0  366.0  391.0     0.807064  0.796566   0.801781   \n",
       "3       0.22  1492.0  257.0  225.0     0.853059  0.868957   0.860935   \n",
       "4       0.22  1034.0  135.0  112.0     0.884517  0.902269   0.893305   \n",
       "5       0.22   758.0   81.0   69.0     0.903456  0.916566   0.909964   \n",
       "6       0.22   583.0   54.0   34.0     0.915228  0.944895   0.929825   \n",
       "7       0.22   442.0   32.0   21.0     0.932489  0.954644   0.943436   \n",
       "8       0.22   437.0   20.0   10.0     0.956236  0.977629   0.966814   \n",
       "9       0.22   410.0    9.0    9.0     0.978520  0.978520   0.978520   \n",
       "\n",
       "     s_mean  s_median     s_std  ...  s_modified_MAD  s_modified_mean2   \n",
       "1 -0.807936     -0.03  4.440538  ...            0.10         -0.074350  \\\n",
       "2 -0.435843     -0.02  4.102066  ...            0.10         -0.068813   \n",
       "3 -0.215583     -0.01  2.874194  ...            0.09         -0.047450   \n",
       "4 -0.163105      0.00  2.465032  ...            0.08         -0.031350   \n",
       "5 -0.366880      0.00  2.791291  ...            0.07         -0.028524   \n",
       "6 -0.345405      0.00  2.448083  ...            0.06         -0.030567   \n",
       "7 -0.364862     -0.01  2.628824  ...            0.06         -0.041286   \n",
       "8 -0.017643     -0.01  1.939246  ...            0.06         -0.034977   \n",
       "9 -0.183580     -0.01  2.006125  ...            0.05         -0.033592   \n",
       "\n",
       "   s_modified_median2  s_modified_std2  s_modified_RMSE2  s_modified_MAE2   \n",
       "1               -0.05         0.197805          0.211243         0.136300  \\\n",
       "2               -0.04         0.201967          0.213309         0.136209   \n",
       "3               -0.02         0.206054          0.211383         0.136192   \n",
       "4               -0.01         0.185747          0.188289         0.119616   \n",
       "5               -0.01         0.183843          0.185927         0.114351   \n",
       "6               -0.02         0.170476          0.173055         0.104967   \n",
       "7               -0.02         0.141870          0.147605         0.091929   \n",
       "8               -0.02         0.145944          0.149917         0.093221   \n",
       "9               -0.02         0.097395          0.102914         0.071602   \n",
       "\n",
       "   s_modified_MAD2   SNR  SNR_interval  n_seis  \n",
       "1             0.08   2.5     (0.0,5.0]     360  \n",
       "2             0.08   7.5    (5.0,10.0]     612  \n",
       "3             0.08  12.5   (10.0,15.0]     765  \n",
       "4             0.07  17.5   (15.0,20.0]     671  \n",
       "5             0.07  22.5   (20.0,25.0]     617  \n",
       "6             0.06  27.5   (25.0,30.0]     538  \n",
       "7             0.05  32.5   (30.0,35.0]     427  \n",
       "8             0.06  37.5   (35.0,40.0]     419  \n",
       "9             0.05  42.5   (40.0,45.0]     412  \n",
       "\n",
       "[9 rows x 28 columns]"
      ]
     },
     "execution_count": 145,
     "metadata": {},
     "output_type": "execute_result"
    }
   ],
   "source": [
    "metrics_vs_snr"
   ]
  },
  {
   "cell_type": "code",
   "execution_count": 154,
   "metadata": {},
   "outputs": [
    {
     "data": {
      "image/png": "[encoded data removed]",
      "text/plain": [
       "<Figure size 866.142x708.661 with 18 Axes>"
      ]
     },
     "metadata": {},
     "output_type": "display_data"
    }
   ],
   "source": [
    "nseis_lower_limit = 40\n",
    "cm = 1 / 2.54\n",
    "\n",
    "fig = plt.figure(figsize=(22 * cm, 18 * cm))\n",
    "subfigs = fig.subfigures(3, 1, height_ratios=[1.0, 1.0, 1.0])\n",
    "\n",
    "# fig, axs = plt.subplots(2, 3, figsize=(22 * cm, 8 * cm), sharex=\"all\", sharey=\"all\")\n",
    "\n",
    "# plt.subplots_adjust(wspace=0.03, hspace=0.08)\n",
    "\n",
    "labels = {\n",
    "    \"org_eqt\": \"Original EQTransformer (Mousavi et al., 2020)\",\n",
    "    \"int_eqt\": r\"EQTransformer trained on INSTANCE (M$\\rm{\\\"u}$nchmeyer et al., 2022)\",\n",
    "    \"vol_eqt\": \"EQTransformer retrained in this study\",\n",
    "    \"org_pn\": \"Original PhaseNet (Zhu & Beroza, 2019)\",\n",
    "    \"int_pn\": r\"PhaseNet trained on INSTANCE (M$\\rm{\\\"u}$nchmeyer et al., 2022)\",\n",
    "    \"vol_pn\": \"PhaseNet retrained in this study\",\n",
    "}\n",
    "lw = 1.2\n",
    "ms = 4.0\n",
    "fts = 8\n",
    "\n",
    "markerfacecolors = [None, \"white\"]\n",
    "markeredgecolors = [None, None]\n",
    "markers = [\"s\", \"d\", \"o\"]\n",
    "linestyles = [\"solid\", \"dotted\"]\n",
    "colors = [\"teal\", \"dodgerblue\", \"firebrick\"]\n",
    "\n",
    "root_save_path_snr_list = [\n",
    "    root_save_path / \"Test_SNR_lp\",\n",
    "    root_save_path / \"Test_SNR_vt\",\n",
    "    root_save_path / \"Test_SNR\",\n",
    "]\n",
    "titles = [\"(a) LP test set\", \"(b) VT test set\", \"(c) Both LP and VT\"]\n",
    "for i_fig in range(3):\n",
    "    root_save_path_snr = root_save_path_snr_list[i_fig]\n",
    "    axs = subfigs[i_fig].subplots(2, 3, sharex=\"all\", sharey=\"all\")\n",
    "    # axs[0][1].set_title(\n",
    "    #     titles[i_fig],\n",
    "    #     y=1.2,\n",
    "    #     x=0.5,\n",
    "    #     # loc=\"center\",\n",
    "    #     weight=\"bold\",\n",
    "    #     fontsize=fts + 1,\n",
    "    # )\n",
    "    subfigs[i_fig].suptitle(\n",
    "        titles[i_fig], x=0.5, y=1.02, fontsize=fts + 1, weight=\"bold\"\n",
    "    )\n",
    "    subfigs[i_fig].subplots_adjust(wspace=0.03, hspace=0.05, bottom=0.21)\n",
    "    for i_net, pred_dirs in enumerate([pn_pred_dirs, eqt_pred_dirs]):\n",
    "        markerfacecolor = markerfacecolors[i_net]\n",
    "        markeredgecolor = markeredgecolors[i_net]\n",
    "        linestyle = linestyles[i_net]\n",
    "\n",
    "        for i in range(3):\n",
    "            exp_name = pred_dirs[i]\n",
    "            color = colors[i]\n",
    "            marker = markers[i]\n",
    "\n",
    "            for j, phase in enumerate([\"p\", \"s\"]):\n",
    "                metrics_vs_snr = pd.read_csv(\n",
    "                    root_save_path_snr / f\"{phase}.{save_csv_names[exp_name]}\"\n",
    "                )\n",
    "                metrics_vs_snr = metrics_vs_snr[\n",
    "                    (metrics_vs_snr[\"n_seis\"] > nseis_lower_limit)\n",
    "                    & (metrics_vs_snr[\"SNR\"] < 35)\n",
    "                ]\n",
    "                for k, metric in enumerate([\"recall\", \"precision\", \"F1score\"]):\n",
    "                    SNRs = metrics_vs_snr[\"SNR\"].values\n",
    "                    intervals = (\n",
    "                        metrics_vs_snr[\"SNR_interval\"]\n",
    "                        .apply(lambda x: x.replace(\",\", \", \"))\n",
    "                        .values\n",
    "                    )\n",
    "                    ax = axs[j][k]\n",
    "                    metric_value = metrics_vs_snr[f\"{phase}_{metric}\"]\n",
    "                    ax.plot(\n",
    "                        SNRs,\n",
    "                        metric_value,\n",
    "                        color=color,\n",
    "                        linewidth=lw,\n",
    "                        linestyle=linestyle,\n",
    "                        marker=marker,\n",
    "                        markeredgecolor=markeredgecolor,\n",
    "                        markerfacecolor=markerfacecolor,\n",
    "                        markersize=ms,\n",
    "                        label=labels[exp_name],\n",
    "                        clip_on=False,\n",
    "                    )\n",
    "                    ax.tick_params(labelsize=fts)\n",
    "                    ax.set_xticks(SNRs)\n",
    "                    # ax.set_xticklabels(intervals, rotation=-90)  # , ha=\"left\"\n",
    "                    ax.set_xticklabels(SNRs, rotation=45)  # , ha=\"left\"\n",
    "                    ax.yaxis.set_minor_locator(MultipleLocator(0.05))\n",
    "                    ax.set_ylim([0.2, 1])\n",
    "                    ax.grid(True)\n",
    "    axs[0][0].set_ylabel(\"P picking\", fontsize=fts)\n",
    "    axs[1][0].set_ylabel(\"S picking\", fontsize=fts)\n",
    "    axs[0][0].set_title(\"Recall\", fontsize=fts)\n",
    "    axs[0][1].set_title(\"Precision\", fontsize=fts)\n",
    "    axs[0][2].set_title(\"F1 score\", fontsize=fts)\n",
    "    if i_fig == 2:\n",
    "        axs[-1][0].legend(\n",
    "            loc=\"lower left\",\n",
    "            bbox_to_anchor=(-0.2, -1.5, 1, 0.5),\n",
    "            frameon=False,\n",
    "            fontsize=fts - 0.5,\n",
    "            ncols=2,\n",
    "            columnspacing=0.9,\n",
    "        )\n",
    "        axs[1][1].set_xlabel(\"Signal-to-noise ratio\", fontsize=fts)\n",
    "\n",
    "plt.savefig(\n",
    "    f\"metrics_vs_snr_westernus.pdf\",\n",
    "    dpi=600,\n",
    "    bbox_inches=\"tight\",\n",
    "    pad_inches=0,\n",
    ")\n",
    "plt.savefig(\n",
    "    f\"metrics_vs_snr_westernus.jpg\",\n",
    "    dpi=600,\n",
    "    bbox_inches=\"tight\",\n",
    "    pad_inches=0,\n",
    ")"
   ]
  }
 ],
 "metadata": {
  "kernelspec": {
   "display_name": "seisbench_v0.4",
   "language": "python",
   "name": "python3"
  },
  "language_info": {
   "codemirror_mode": {
    "name": "ipython",
    "version": 3
   },
   "file_extension": ".py",
   "mimetype": "text/x-python",
   "name": "python",
   "nbconvert_exporter": "python",
   "pygments_lexer": "ipython3",
   "version": "3.9.16"
  },
  "orig_nbformat": 4
 },
 "nbformat": 4,
 "nbformat_minor": 2
}
